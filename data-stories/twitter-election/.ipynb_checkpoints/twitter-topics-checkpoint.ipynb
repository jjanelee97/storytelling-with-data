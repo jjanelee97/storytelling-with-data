{
 "cells": [
  {
   "cell_type": "markdown",
   "metadata": {},
   "source": [
    "# To run this, you need to run (or have run) the following in docker:\n",
    "```\n",
    "pip install textblob\n",
    "pip install nltk\n",
    "pip install twitterscraper\n",
    "```"
   ]
  },
  {
   "cell_type": "code",
   "execution_count": null,
   "metadata": {
    "scrolled": true
   },
   "outputs": [
    {
     "name": "stdout",
     "output_type": "stream",
     "text": [
      "[nltk_data] Downloading package brown to /root/nltk_data...\n",
      "[nltk_data]   Package brown is already up-to-date!\n",
      "[nltk_data] Downloading package punkt to /root/nltk_data...\n",
      "[nltk_data]   Package punkt is already up-to-date!\n"
     ]
    }
   ],
   "source": [
    "from twitterscraper import query_tweets\n",
    "from sklearn.decomposition import LatentDirichletAllocation as LDA\n",
    "from sklearn.feature_extraction.text import CountVectorizer\n",
    "from scipy.sparse import csr_matrix\n",
    "import seaborn as sns\n",
    "import hypertools as hyp\n",
    "import numpy as np\n",
    "from textblob import TextBlob as tb\n",
    "import nltk\n",
    "import datetime as dt\n",
    "nltk.download('brown')\n",
    "nltk.download('punkt')\n",
    "%matplotlib inline"
   ]
  },
  {
   "cell_type": "markdown",
   "metadata": {},
   "source": [
    "# Exploring twitter data\n",
    "\n",
    "Scrape twitter for a keyword, fit topic models, do sentiment analyses on the tweets, and make a plot"
   ]
  },
  {
   "cell_type": "code",
   "execution_count": null,
   "metadata": {
    "collapsed": true
   },
   "outputs": [],
   "source": [
    "#scrape twitter for most recent tweets on the election...this will take a while\n",
    "n_tweets = 500\n",
    "tweets = []\n",
    "for tweet in query_tweets(\"election\", n_tweets)[:n_tweets]:\n",
    "    tweets.append(tweet)"
   ]
  },
  {
   "cell_type": "code",
   "execution_count": null,
   "metadata": {},
   "outputs": [],
   "source": [
    "tweets[0].timestamp"
   ]
  },
  {
   "cell_type": "code",
   "execution_count": null,
   "metadata": {
    "collapsed": true
   },
   "outputs": [],
   "source": [
    "#get the tweet text\n",
    "tweet_text = list(map(lambda x: x.text, tweets))"
   ]
  },
  {
   "cell_type": "code",
   "execution_count": null,
   "metadata": {
    "collapsed": true
   },
   "outputs": [],
   "source": [
    "#convert the data to a useable format\n",
    "n_features = 1000\n",
    "tf_vectorizer = CountVectorizer(max_df=0.95, min_df=2, max_features=n_features, stop_words='english')\n",
    "tf = tf_vectorizer.fit_transform(tweet_text)\n",
    "tf_feature_names = tf_vectorizer.get_feature_names()"
   ]
  },
  {
   "cell_type": "code",
   "execution_count": null,
   "metadata": {
    "collapsed": true
   },
   "outputs": [],
   "source": [
    "#fit a topic model to the tweets\n",
    "n_topics = 10\n",
    "lda = LDA(n_topics=n_topics, max_iter=5, learning_method='online', learning_offset=50., random_state=0).fit(tf)\n",
    "tweet_topics = lda.fit(tf)"
   ]
  },
  {
   "cell_type": "code",
   "execution_count": null,
   "metadata": {},
   "outputs": [],
   "source": [
    "#topic vectors for each tweet\n",
    "sns.heatmap(tweet_topics.components_.T)"
   ]
  },
  {
   "cell_type": "code",
   "execution_count": null,
   "metadata": {
    "collapsed": true
   },
   "outputs": [],
   "source": [
    "def display_topics(model, feature_names, no_top_words):\n",
    "    for topic_idx, topic in enumerate(model.components_):\n",
    "        print('Topic ' + str(topic_idx) + ': ', end='')\n",
    "        print(\" \".join([feature_names[i]\n",
    "                        for i in topic.argsort()[:-no_top_words - 1:-1]]))"
   ]
  },
  {
   "cell_type": "code",
   "execution_count": null,
   "metadata": {},
   "outputs": [],
   "source": [
    "display_topics(lda, tf_feature_names, 10)"
   ]
  },
  {
   "cell_type": "code",
   "execution_count": null,
   "metadata": {},
   "outputs": [],
   "source": [
    "sns.heatmap(tf.todense())"
   ]
  },
  {
   "cell_type": "code",
   "execution_count": 12,
   "metadata": {
    "collapsed": true
   },
   "outputs": [],
   "source": [
    "blob = tb(tweet_text[0])"
   ]
  },
  {
   "cell_type": "code",
   "execution_count": 13,
   "metadata": {},
   "outputs": [
    {
     "name": "stdout",
     "output_type": "stream",
     "text": [
      "Old news and she will be gone come next election https://twitter.com/favoriteauntssi/status/918596064059502592 …\n"
     ]
    }
   ],
   "source": [
    "print(tweet_text[0])"
   ]
  },
  {
   "cell_type": "code",
   "execution_count": 11,
   "metadata": {
    "collapsed": true
   },
   "outputs": [],
   "source": [
    "def tweet_sentiment(tweet):\n",
    "    b = tb(tweet)\n",
    "    return np.sum(np.array(list(map(lambda x: x.sentiment.polarity, b.sentences))))"
   ]
  },
  {
   "cell_type": "code",
   "execution_count": 12,
   "metadata": {
    "collapsed": true
   },
   "outputs": [],
   "source": [
    "sentiments = list(map(tweet_sentiment, tweet_text))"
   ]
  },
  {
   "cell_type": "code",
   "execution_count": 13,
   "metadata": {},
   "outputs": [
    {
     "data": {
      "text/plain": [
       "'This is actually great news for the Conservatives. Good position for party in Government after close election. https://twitter.com/britainelects/status/916244463940526080\\xa0…'"
      ]
     },
     "execution_count": 13,
     "metadata": {},
     "output_type": "execute_result"
    }
   ],
   "source": [
    "#happiest tweet\n",
    "tweet_text[np.where(sentiments == np.max(sentiments))[0][0]]"
   ]
  },
  {
   "cell_type": "code",
   "execution_count": 14,
   "metadata": {},
   "outputs": [
    {
     "data": {
      "text/plain": [
       "'Liberals... Wrong about election. Wrong about stock market.  Wrong period.'"
      ]
     },
     "execution_count": 14,
     "metadata": {},
     "output_type": "execute_result"
    }
   ],
   "source": [
    "#saddest tweet\n",
    "tweet_text[np.where(sentiments == np.min(sentiments))[0][0]]"
   ]
  },
  {
   "cell_type": "code",
   "execution_count": 15,
   "metadata": {},
   "outputs": [
    {
     "data": {
      "image/png": "[encoded data removed]",
      "text/plain": [
       "<matplotlib.figure.Figure at 0x7fd0ff16bc18>"
      ]
     },
     "metadata": {},
     "output_type": "display_data"
    }
   ],
   "source": [
    "#make a hypertools plot of the tweets, colored by sentiment\n",
    "hyp.plot(tweet_topics.components_.T, '.', group=sentiments, palette='RdBu_r', model='SpectralEmbedding');"
   ]
  },
  {
   "cell_type": "markdown",
   "metadata": {},
   "source": [
    "# Defining some useful Twitter-related functions"
   ]
  },
  {
   "cell_type": "code",
   "execution_count": 16,
   "metadata": {
    "collapsed": true
   },
   "outputs": [],
   "source": [
    "# function for scraping twitter for one or more keywords and returning a dictionary with:\n",
    "# - tweets: the tweet text (list of length n_tweets)\n",
    "# - topicvecs: the tweet topic vectors (numpy array with n_tweets rows and n_topics columns)\n",
    "# - topwords: the top n words from each topic (list of length n_topics, where each element is a list of n_words)\n",
    "# - sentiments: the sentiment valence of each tweet (numpy array of length n_tweets)\n",
    "\n",
    "def twitter_magic(keywords, n_tweets=500, n_topics=10, n_words=5, model=None):\n",
    "    #if keywords is a list, combine all keywords into a single string, where each word is separated by \" OR \"\n",
    "    if type(keywords) == list:\n",
    "        keywords = ' OR '.join(keywords)\n",
    "    \n",
    "    #get the tweets\n",
    "    tweets = []\n",
    "    for tweet in query_tweets(keywords, n_tweets)[:n_tweets]:\n",
    "        tweets.append(tweet)\n",
    "    \n",
    "    #get the tweet text\n",
    "    tweet_text = list(map(lambda x: x.text, tweets))\n",
    "    \n",
    "    #fit a topic model to the tweet text    \n",
    "    n_features = 1000\n",
    "    tf_vectorizer = CountVectorizer(max_df=0.95, min_df=2, max_features=n_features, stop_words='english')\n",
    "    tf = tf_vectorizer.fit_transform(tweet_text)    \n",
    "    vocab = tf_vectorizer.get_feature_names()\n",
    "    \n",
    "    if model == None:\n",
    "        lda = LDA(n_topics=n_topics, max_iter=5, learning_method='online', learning_offset=50., random_state=0).fit(tf)\n",
    "    else:\n",
    "        lda = model            \n",
    "    tweet_topics = lda.fit(tf)\n",
    "    \n",
    "    def get_top_words(model, vocab, n_words):\n",
    "        top_words = []\n",
    "        for topic_idx, topic in enumerate(model.components_):       \n",
    "            next = topic.argsort()[:-n_words - 1:-1]\n",
    "            top_words.append(list(map(lambda x: vocab[x], next)))\n",
    "        return top_words\n",
    "    \n",
    "    def tweet_sentiment(tweet):\n",
    "        b = tb(tweet)\n",
    "        return np.sum(np.array(list(map(lambda x: x.sentiment.polarity, b.sentences))))\n",
    "    \n",
    "    return{'tweets': tweet_text,\n",
    "           'topicvecs': lda.components_.T,\n",
    "           'topwords': get_top_words(lda, vocab, n_words),\n",
    "           'sentiments': np.array(list(map(tweet_sentiment, tweet_text))),\n",
    "           'model': lda}"
   ]
  },
  {
   "cell_type": "code",
   "execution_count": 17,
   "metadata": {
    "collapsed": true
   },
   "outputs": [],
   "source": [
    "n = 100 #number of tweets to download for each candidate\n",
    "\n",
    "trump = twitter_magic(['election AND trump'], n_tweets=n)\n",
    "\n",
    "#now fit clinton tweets using the topic model from trump_election_tweets (otherwise the topic vectors will be different)\n",
    "clinton = twitter_magic(['election AND clinton', 'election AND hillary'], n_tweets=n, model=trump['model'])\n",
    "\n",
    "#now fit sanders tweets (using the same topic model)\n",
    "sanders = twitter_magic(['election AND sanders', 'election AND bernie'], n_tweets=n, model=trump['model'])"
   ]
  },
  {
   "cell_type": "code",
   "execution_count": 18,
   "metadata": {},
   "outputs": [
    {
     "data": {
      "image/png": "[encoded data removed]",
      "text/plain": [
       "<matplotlib.figure.Figure at 0x7fd0daba9fd0>"
      ]
     },
     "metadata": {},
     "output_type": "display_data"
    }
   ],
   "source": [
    "#plot the trump and clinton tweets\n",
    "hyp.plot([trump['topicvecs'], sanders['topicvecs'], clinton['topicvecs']],\n",
    "         '.', model='SpectralEmbedding', legend=['Trump', 'Sanders', 'Clinton']);"
   ]
  },
  {
   "cell_type": "code",
   "execution_count": 19,
   "metadata": {},
   "outputs": [
    {
     "name": "stdout",
     "output_type": "stream",
     "text": [
      "HAPPIEST TWEETS:\n",
      "TRUMP-CONTAINING: Lol no. NY usually votes Democrat in the presidential election.\n",
      "Hilary & the DNC cheated Bernie out of winning. He would've beat Trump.\n",
      "\n",
      "SANDERS-CONTAINING: Honestly, I didnt like Trump, Bernie or Clinton. Perfect 'pick your poison' election.\n",
      "\n",
      "CLINTON-CONTAINING: Proof Bush/Gore election was fixed. Re, Gore won popular vote like Hillary. *Important- mash arrow 2 read posted*\n",
      "\n",
      "https://m.youtube.com/watch?v=AXyl_YNA8Hs …\n",
      "\n",
      "\n",
      "\n",
      "SADDEST TWEETS:\n",
      "TRUMP-CONTAINING: The fucked up thing is, Trump believes that his victory in the election validates this approach to politics; that it \"works\"\n",
      "\n",
      "SANDERS-CONTAINING: Bernie only appealed to the young Demographics. Every candidate in this election was flawed. Let's hope the idiot in chief is not re-elected\n",
      "\n",
      "CLINTON-CONTAINING: Robert Muller is wasting our money! Hired all Hillary hack lawyers! Investigational go on for years! Morons thank Russia changed election!\n",
      "\n"
     ]
    }
   ],
   "source": [
    "#get the happiest and saddest tweets from each candidate\n",
    "def get_happiest_tweets(results):\n",
    "    return results['tweets'][np.where(results['sentiments'] == np.max(results['sentiments']))[0][0]]\n",
    "\n",
    "def get_saddest_tweets(results):\n",
    "    return results['tweets'][np.where(results['sentiments'] == np.min(results['sentiments']))[0][0]]\n",
    "\n",
    "candidates = ['trump', 'sanders', 'clinton']\n",
    "\n",
    "print('HAPPIEST TWEETS:')\n",
    "for c in candidates:\n",
    "    print(c.upper() + '-CONTAINING: ' + get_happiest_tweets(eval(c)) + '\\n')\n",
    "    \n",
    "print('\\n\\nSADDEST TWEETS:')\n",
    "for c in candidates:\n",
    "    print(c.upper() + '-CONTAINING: ' + get_saddest_tweets(eval(c)) + '\\n')"
   ]
  }
 ],
 "metadata": {
  "kernelspec": {
   "display_name": "Python 3",
   "language": "python",
   "name": "python3"
  },
  "language_info": {
   "codemirror_mode": {
    "name": "ipython",
    "version": 3
   },
   "file_extension": ".py",
   "mimetype": "text/x-python",
   "name": "python",
   "nbconvert_exporter": "python",
   "pygments_lexer": "ipython3",
   "version": "3.6.1"
  }
 },
 "nbformat": 4,
 "nbformat_minor": 2
}
