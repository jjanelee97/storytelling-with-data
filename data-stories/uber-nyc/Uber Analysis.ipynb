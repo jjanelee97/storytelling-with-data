{
 "cells": [
  {
   "cell_type": "code",
   "execution_count": 1,
   "metadata": {},
   "outputs": [
    {
     "data": {
      "text/html": [
       "<script>requirejs.config({paths: { 'plotly': ['https://cdn.plot.ly/plotly-latest.min']},});if(!window.Plotly) {{require(['plotly'],function(plotly) {window.Plotly=plotly;});}}</script>"
      ],
      "text/vnd.plotly.v1+html": [
       "<script>requirejs.config({paths: { 'plotly': ['https://cdn.plot.ly/plotly-latest.min']},});if(!window.Plotly) {{require(['plotly'],function(plotly) {window.Plotly=plotly;});}}</script>"
      ]
     },
     "metadata": {},
     "output_type": "display_data"
    }
   ],
   "source": [
    "import pandas as pd\n",
    "from plotly.offline import download_plotlyjs, init_notebook_mode, plot, iplot\n",
    "import numpy as np\n",
    "import matplotlib.pyplot as plt\n",
    "import hypertools as hyp\n",
    "import seaborn as sns\n",
    "%matplotlib inline\n",
    "\n",
    "init_notebook_mode(connected=True)"
   ]
  },
  {
   "cell_type": "code",
   "execution_count": 2,
   "metadata": {
    "collapsed": true
   },
   "outputs": [],
   "source": [
    "#load in the data\n",
    "\n",
    "fname1 = 'Uber-Jan-Feb-FOIL.csv'\n",
    "columns1 = ('dispatching_base_number', 'date', 'active_vehicles', 'trips')\n",
    "FOIL_df = pd.read_csv(fname1, skiprows=[0], names=columns1)\n"
   ]
  },
  {
   "cell_type": "code",
   "execution_count": 3,
   "metadata": {
    "collapsed": true
   },
   "outputs": [],
   "source": [
    "fname2 = 'Aggregate FHV Data.xlsx'\n",
    "\n",
    "\n",
    "sheet1 = 'Trips Per Day'\n",
    "sheet2 = 'Trips Per Hour and Weekday'\n",
    "sheet3 = 'Change in Trips Sep 2013-2014'\n",
    "sheet4 = 'Change in Daily Trips by Hour'\n",
    "\n",
    "FHV_col1 = ('Date', 'American', 'Carmel', 'Dial 7', 'Diplo', 'Firstclass', 'Highclass', \n",
    "            'Prestige', 'Skyline', 'Lyft', 'Uber', 'Yellow Taxis', 'Green Taxis')\n",
    "FHV_col3 = ('Location', 'Uber and Lyft Trips Per Day 2014', \n",
    "            'Yellow Taxi Trips Per Day 2014', 'Yellow Taxi Trips Per Day 2013')\n",
    "FHV_col4 = ('Hour', 'Uber and Lyft Trips in MN Core (Sep 2014)', \n",
    "           'Change in Daily Yellow Trips in MN Core (Sep 2014 compared with Sep 2013')\n",
    "\n",
    "## data key: MN, JFK, LGA\n",
    "FHV_df1 = pd.read_excel(fname2, sheetname = sheet1, skiprows=[0], names = FHV_col1)\n",
    "FHV_df3 = pd.read_excel(fname2, sheetname = sheet3, skiprows=[0], names = FHV_col3)\n",
    "FHV_df4 = pd.read_excel(fname2, sheetname = sheet4, skiprows=[0], names = FHV_col4)"
   ]
  },
  {
   "cell_type": "code",
   "execution_count": 4,
   "metadata": {
    "collapsed": true
   },
   "outputs": [],
   "source": [
    "FHV_df1.set_index('Date', inplace=True)"
   ]
  },
  {
   "cell_type": "code",
   "execution_count": 5,
   "metadata": {},
   "outputs": [
    {
     "data": {
      "text/html": [
       "<div>\n",
       "<style>\n",
       "    .dataframe thead tr:only-child th {\n",
       "        text-align: right;\n",
       "    }\n",
       "\n",
       "    .dataframe thead th {\n",
       "        text-align: left;\n",
       "    }\n",
       "\n",
       "    .dataframe tbody tr th {\n",
       "        vertical-align: top;\n",
       "    }\n",
       "</style>\n",
       "<table border=\"1\" class=\"dataframe\">\n",
       "  <thead>\n",
       "    <tr style=\"text-align: right;\">\n",
       "      <th></th>\n",
       "      <th>American</th>\n",
       "      <th>Carmel</th>\n",
       "      <th>Dial 7</th>\n",
       "      <th>Diplo</th>\n",
       "      <th>Firstclass</th>\n",
       "      <th>Highclass</th>\n",
       "      <th>Prestige</th>\n",
       "      <th>Skyline</th>\n",
       "      <th>Lyft</th>\n",
       "      <th>Uber</th>\n",
       "      <th>Yellow Taxis</th>\n",
       "      <th>Green Taxis</th>\n",
       "    </tr>\n",
       "    <tr>\n",
       "      <th>Date</th>\n",
       "      <th></th>\n",
       "      <th></th>\n",
       "      <th></th>\n",
       "      <th></th>\n",
       "      <th></th>\n",
       "      <th></th>\n",
       "      <th></th>\n",
       "      <th></th>\n",
       "      <th></th>\n",
       "      <th></th>\n",
       "      <th></th>\n",
       "      <th></th>\n",
       "    </tr>\n",
       "  </thead>\n",
       "  <tbody>\n",
       "    <tr>\n",
       "      <th>2014-07-02</th>\n",
       "      <td>1028</td>\n",
       "      <td>2965</td>\n",
       "      <td>2409</td>\n",
       "      <td>1275</td>\n",
       "      <td>2228</td>\n",
       "      <td>1661</td>\n",
       "      <td>3533</td>\n",
       "      <td>1691</td>\n",
       "      <td>0</td>\n",
       "      <td>26480</td>\n",
       "      <td>434416</td>\n",
       "      <td>42472</td>\n",
       "    </tr>\n",
       "    <tr>\n",
       "      <th>2014-07-03</th>\n",
       "      <td>1068</td>\n",
       "      <td>3361</td>\n",
       "      <td>2520</td>\n",
       "      <td>1200</td>\n",
       "      <td>2121</td>\n",
       "      <td>1599</td>\n",
       "      <td>3649</td>\n",
       "      <td>1157</td>\n",
       "      <td>0</td>\n",
       "      <td>21597</td>\n",
       "      <td>412980</td>\n",
       "      <td>46046</td>\n",
       "    </tr>\n",
       "    <tr>\n",
       "      <th>2014-07-04</th>\n",
       "      <td>1008</td>\n",
       "      <td>2174</td>\n",
       "      <td>1955</td>\n",
       "      <td>1171</td>\n",
       "      <td>1459</td>\n",
       "      <td>1622</td>\n",
       "      <td>3401</td>\n",
       "      <td>337</td>\n",
       "      <td>0</td>\n",
       "      <td>14148</td>\n",
       "      <td>306773</td>\n",
       "      <td>41535</td>\n",
       "    </tr>\n",
       "    <tr>\n",
       "      <th>2014-07-05</th>\n",
       "      <td>1214</td>\n",
       "      <td>1846</td>\n",
       "      <td>1371</td>\n",
       "      <td>1371</td>\n",
       "      <td>1703</td>\n",
       "      <td>1898</td>\n",
       "      <td>4081</td>\n",
       "      <td>276</td>\n",
       "      <td>0</td>\n",
       "      <td>10890</td>\n",
       "      <td>305653</td>\n",
       "      <td>46873</td>\n",
       "    </tr>\n",
       "    <tr>\n",
       "      <th>2014-07-06</th>\n",
       "      <td>1048</td>\n",
       "      <td>2480</td>\n",
       "      <td>1872</td>\n",
       "      <td>1251</td>\n",
       "      <td>1501</td>\n",
       "      <td>1738</td>\n",
       "      <td>3545</td>\n",
       "      <td>401</td>\n",
       "      <td>0</td>\n",
       "      <td>11443</td>\n",
       "      <td>310376</td>\n",
       "      <td>40354</td>\n",
       "    </tr>\n",
       "  </tbody>\n",
       "</table>\n",
       "</div>"
      ],
      "text/plain": [
       "            American  Carmel  Dial 7  Diplo  Firstclass  Highclass  Prestige  \\\n",
       "Date                                                                           \n",
       "2014-07-02      1028    2965    2409   1275        2228       1661      3533   \n",
       "2014-07-03      1068    3361    2520   1200        2121       1599      3649   \n",
       "2014-07-04      1008    2174    1955   1171        1459       1622      3401   \n",
       "2014-07-05      1214    1846    1371   1371        1703       1898      4081   \n",
       "2014-07-06      1048    2480    1872   1251        1501       1738      3545   \n",
       "\n",
       "            Skyline  Lyft   Uber  Yellow Taxis  Green Taxis  \n",
       "Date                                                         \n",
       "2014-07-02     1691     0  26480        434416        42472  \n",
       "2014-07-03     1157     0  21597        412980        46046  \n",
       "2014-07-04      337     0  14148        306773        41535  \n",
       "2014-07-05      276     0  10890        305653        46873  \n",
       "2014-07-06      401     0  11443        310376        40354  "
      ]
     },
     "execution_count": 5,
     "metadata": {},
     "output_type": "execute_result"
    }
   ],
   "source": [
    "FHV_df1.head()"
   ]
  },
  {
   "cell_type": "code",
   "execution_count": 6,
   "metadata": {},
   "outputs": [
    {
     "data": {
      "image/png": "[encoded data removed]",
      "text/plain": [
       "<matplotlib.figure.Figure at 0x7fadf0125080>"
      ]
     },
     "metadata": {},
     "output_type": "display_data"
    },
    {
     "data": {
      "text/plain": [
       "(<matplotlib.figure.Figure at 0x7fadf0125080>,\n",
       " <matplotlib.axes._subplots.Axes3DSubplot at 0x7fadebd22630>,\n",
       " [array([[  1028,   2965,   2409, ...,  26480, 434416,  42472],\n",
       "         [  1068,   3361,   2520, ...,  21597, 412980,  46046],\n",
       "         [  1008,   2174,   1955, ...,  14148, 306773,  41535],\n",
       "         ..., \n",
       "         [  1080,   2559,   1949, ...,  29656, 429068,  51832],\n",
       "         [   772,   3225,   2349, ...,  29201, 396191,  37657],\n",
       "         [   848,   2824,   2004, ...,  33431, 431354,  38665]])],\n",
       " None)"
      ]
     },
     "execution_count": 6,
     "metadata": {},
     "output_type": "execute_result"
    }
   ],
   "source": [
    "hyp.plot(FHV_df1, model='SpectralEmbedding')"
   ]
  },
  {
   "cell_type": "code",
   "execution_count": 7,
   "metadata": {
    "collapsed": true
   },
   "outputs": [],
   "source": [
    "fname3 = 'uber-trip-data/uber-raw-data-apr14.csv'\n",
    "columns3 = ('Time', 'Lat', 'Lon', 'Base')\n",
    "april_df = pd.read_csv(fname3, skiprows=[0], names=columns3)"
   ]
  },
  {
   "cell_type": "code",
   "execution_count": 8,
   "metadata": {},
   "outputs": [
    {
     "data": {
      "text/html": [
       "<div>\n",
       "<style>\n",
       "    .dataframe thead tr:only-child th {\n",
       "        text-align: right;\n",
       "    }\n",
       "\n",
       "    .dataframe thead th {\n",
       "        text-align: left;\n",
       "    }\n",
       "\n",
       "    .dataframe tbody tr th {\n",
       "        vertical-align: top;\n",
       "    }\n",
       "</style>\n",
       "<table border=\"1\" class=\"dataframe\">\n",
       "  <thead>\n",
       "    <tr style=\"text-align: right;\">\n",
       "      <th></th>\n",
       "      <th>Time</th>\n",
       "      <th>Lat</th>\n",
       "      <th>Lon</th>\n",
       "      <th>Base</th>\n",
       "    </tr>\n",
       "  </thead>\n",
       "  <tbody>\n",
       "    <tr>\n",
       "      <th>0</th>\n",
       "      <td>4/1/14 0:11</td>\n",
       "      <td>40.7690</td>\n",
       "      <td>-73.9549</td>\n",
       "      <td>B02512</td>\n",
       "    </tr>\n",
       "    <tr>\n",
       "      <th>1</th>\n",
       "      <td>4/1/14 0:17</td>\n",
       "      <td>40.7267</td>\n",
       "      <td>-74.0345</td>\n",
       "      <td>B02512</td>\n",
       "    </tr>\n",
       "    <tr>\n",
       "      <th>2</th>\n",
       "      <td>4/1/14 0:21</td>\n",
       "      <td>40.7316</td>\n",
       "      <td>-73.9873</td>\n",
       "      <td>B02512</td>\n",
       "    </tr>\n",
       "    <tr>\n",
       "      <th>3</th>\n",
       "      <td>4/1/14 0:28</td>\n",
       "      <td>40.7588</td>\n",
       "      <td>-73.9776</td>\n",
       "      <td>B02512</td>\n",
       "    </tr>\n",
       "    <tr>\n",
       "      <th>4</th>\n",
       "      <td>4/1/14 0:33</td>\n",
       "      <td>40.7594</td>\n",
       "      <td>-73.9722</td>\n",
       "      <td>B02512</td>\n",
       "    </tr>\n",
       "    <tr>\n",
       "      <th>5</th>\n",
       "      <td>4/1/14 0:33</td>\n",
       "      <td>40.7383</td>\n",
       "      <td>-74.0403</td>\n",
       "      <td>B02512</td>\n",
       "    </tr>\n",
       "    <tr>\n",
       "      <th>6</th>\n",
       "      <td>4/1/14 0:39</td>\n",
       "      <td>40.7223</td>\n",
       "      <td>-73.9887</td>\n",
       "      <td>B02512</td>\n",
       "    </tr>\n",
       "    <tr>\n",
       "      <th>7</th>\n",
       "      <td>4/1/14 0:45</td>\n",
       "      <td>40.7620</td>\n",
       "      <td>-73.9790</td>\n",
       "      <td>B02512</td>\n",
       "    </tr>\n",
       "    <tr>\n",
       "      <th>8</th>\n",
       "      <td>4/1/14 0:55</td>\n",
       "      <td>40.7524</td>\n",
       "      <td>-73.9960</td>\n",
       "      <td>B02512</td>\n",
       "    </tr>\n",
       "    <tr>\n",
       "      <th>9</th>\n",
       "      <td>4/1/14 1:01</td>\n",
       "      <td>40.7575</td>\n",
       "      <td>-73.9846</td>\n",
       "      <td>B02512</td>\n",
       "    </tr>\n",
       "    <tr>\n",
       "      <th>10</th>\n",
       "      <td>4/1/14 1:19</td>\n",
       "      <td>40.7256</td>\n",
       "      <td>-73.9869</td>\n",
       "      <td>B02512</td>\n",
       "    </tr>\n",
       "    <tr>\n",
       "      <th>11</th>\n",
       "      <td>4/1/14 1:48</td>\n",
       "      <td>40.7591</td>\n",
       "      <td>-73.9684</td>\n",
       "      <td>B02512</td>\n",
       "    </tr>\n",
       "    <tr>\n",
       "      <th>12</th>\n",
       "      <td>4/1/14 1:49</td>\n",
       "      <td>40.7271</td>\n",
       "      <td>-73.9803</td>\n",
       "      <td>B02512</td>\n",
       "    </tr>\n",
       "    <tr>\n",
       "      <th>13</th>\n",
       "      <td>4/1/14 2:11</td>\n",
       "      <td>40.6463</td>\n",
       "      <td>-73.7896</td>\n",
       "      <td>B02512</td>\n",
       "    </tr>\n",
       "    <tr>\n",
       "      <th>14</th>\n",
       "      <td>4/1/14 2:25</td>\n",
       "      <td>40.7564</td>\n",
       "      <td>-73.9167</td>\n",
       "      <td>B02512</td>\n",
       "    </tr>\n",
       "    <tr>\n",
       "      <th>15</th>\n",
       "      <td>4/1/14 2:31</td>\n",
       "      <td>40.7666</td>\n",
       "      <td>-73.9531</td>\n",
       "      <td>B02512</td>\n",
       "    </tr>\n",
       "    <tr>\n",
       "      <th>16</th>\n",
       "      <td>4/1/14 2:43</td>\n",
       "      <td>40.7580</td>\n",
       "      <td>-73.9761</td>\n",
       "      <td>B02512</td>\n",
       "    </tr>\n",
       "    <tr>\n",
       "      <th>17</th>\n",
       "      <td>4/1/14 3:22</td>\n",
       "      <td>40.7238</td>\n",
       "      <td>-73.9821</td>\n",
       "      <td>B02512</td>\n",
       "    </tr>\n",
       "    <tr>\n",
       "      <th>18</th>\n",
       "      <td>4/1/14 3:35</td>\n",
       "      <td>40.7531</td>\n",
       "      <td>-74.0039</td>\n",
       "      <td>B02512</td>\n",
       "    </tr>\n",
       "    <tr>\n",
       "      <th>19</th>\n",
       "      <td>4/1/14 3:35</td>\n",
       "      <td>40.7389</td>\n",
       "      <td>-74.0393</td>\n",
       "      <td>B02512</td>\n",
       "    </tr>\n",
       "    <tr>\n",
       "      <th>20</th>\n",
       "      <td>4/1/14 3:41</td>\n",
       "      <td>40.7619</td>\n",
       "      <td>-73.9715</td>\n",
       "      <td>B02512</td>\n",
       "    </tr>\n",
       "    <tr>\n",
       "      <th>21</th>\n",
       "      <td>4/1/14 4:11</td>\n",
       "      <td>40.7530</td>\n",
       "      <td>-74.0042</td>\n",
       "      <td>B02512</td>\n",
       "    </tr>\n",
       "    <tr>\n",
       "      <th>22</th>\n",
       "      <td>4/1/14 4:15</td>\n",
       "      <td>40.6561</td>\n",
       "      <td>-73.9531</td>\n",
       "      <td>B02512</td>\n",
       "    </tr>\n",
       "    <tr>\n",
       "      <th>23</th>\n",
       "      <td>4/1/14 4:19</td>\n",
       "      <td>40.7250</td>\n",
       "      <td>-73.9844</td>\n",
       "      <td>B02512</td>\n",
       "    </tr>\n",
       "    <tr>\n",
       "      <th>24</th>\n",
       "      <td>4/1/14 4:20</td>\n",
       "      <td>40.6950</td>\n",
       "      <td>-74.1783</td>\n",
       "      <td>B02512</td>\n",
       "    </tr>\n",
       "    <tr>\n",
       "      <th>25</th>\n",
       "      <td>4/1/14 4:26</td>\n",
       "      <td>40.9859</td>\n",
       "      <td>-74.1578</td>\n",
       "      <td>B02512</td>\n",
       "    </tr>\n",
       "    <tr>\n",
       "      <th>26</th>\n",
       "      <td>4/1/14 4:27</td>\n",
       "      <td>40.6879</td>\n",
       "      <td>-74.1814</td>\n",
       "      <td>B02512</td>\n",
       "    </tr>\n",
       "    <tr>\n",
       "      <th>27</th>\n",
       "      <td>4/1/14 4:38</td>\n",
       "      <td>40.6878</td>\n",
       "      <td>-74.1816</td>\n",
       "      <td>B02512</td>\n",
       "    </tr>\n",
       "    <tr>\n",
       "      <th>28</th>\n",
       "      <td>4/1/14 4:47</td>\n",
       "      <td>40.7234</td>\n",
       "      <td>-73.9974</td>\n",
       "      <td>B02512</td>\n",
       "    </tr>\n",
       "    <tr>\n",
       "      <th>29</th>\n",
       "      <td>4/1/14 4:49</td>\n",
       "      <td>40.7336</td>\n",
       "      <td>-73.9900</td>\n",
       "      <td>B02512</td>\n",
       "    </tr>\n",
       "    <tr>\n",
       "      <th>...</th>\n",
       "      <td>...</td>\n",
       "      <td>...</td>\n",
       "      <td>...</td>\n",
       "      <td>...</td>\n",
       "    </tr>\n",
       "    <tr>\n",
       "      <th>564486</th>\n",
       "      <td>4/30/14 22:25</td>\n",
       "      <td>40.7342</td>\n",
       "      <td>-74.0101</td>\n",
       "      <td>B02764</td>\n",
       "    </tr>\n",
       "    <tr>\n",
       "      <th>564487</th>\n",
       "      <td>4/30/14 22:25</td>\n",
       "      <td>40.7412</td>\n",
       "      <td>-73.9792</td>\n",
       "      <td>B02764</td>\n",
       "    </tr>\n",
       "    <tr>\n",
       "      <th>564488</th>\n",
       "      <td>4/30/14 22:25</td>\n",
       "      <td>40.7633</td>\n",
       "      <td>-73.9867</td>\n",
       "      <td>B02764</td>\n",
       "    </tr>\n",
       "    <tr>\n",
       "      <th>564489</th>\n",
       "      <td>4/30/14 22:26</td>\n",
       "      <td>40.7549</td>\n",
       "      <td>-73.9845</td>\n",
       "      <td>B02764</td>\n",
       "    </tr>\n",
       "    <tr>\n",
       "      <th>564490</th>\n",
       "      <td>4/30/14 22:27</td>\n",
       "      <td>40.7210</td>\n",
       "      <td>-73.9850</td>\n",
       "      <td>B02764</td>\n",
       "    </tr>\n",
       "    <tr>\n",
       "      <th>564491</th>\n",
       "      <td>4/30/14 22:27</td>\n",
       "      <td>40.7025</td>\n",
       "      <td>-74.0127</td>\n",
       "      <td>B02764</td>\n",
       "    </tr>\n",
       "    <tr>\n",
       "      <th>564492</th>\n",
       "      <td>4/30/14 22:28</td>\n",
       "      <td>40.7568</td>\n",
       "      <td>-73.9848</td>\n",
       "      <td>B02764</td>\n",
       "    </tr>\n",
       "    <tr>\n",
       "      <th>564493</th>\n",
       "      <td>4/30/14 22:29</td>\n",
       "      <td>40.7446</td>\n",
       "      <td>-73.9837</td>\n",
       "      <td>B02764</td>\n",
       "    </tr>\n",
       "    <tr>\n",
       "      <th>564494</th>\n",
       "      <td>4/30/14 22:32</td>\n",
       "      <td>40.7013</td>\n",
       "      <td>-73.9367</td>\n",
       "      <td>B02764</td>\n",
       "    </tr>\n",
       "    <tr>\n",
       "      <th>564495</th>\n",
       "      <td>4/30/14 22:35</td>\n",
       "      <td>40.7213</td>\n",
       "      <td>-73.9948</td>\n",
       "      <td>B02764</td>\n",
       "    </tr>\n",
       "    <tr>\n",
       "      <th>564496</th>\n",
       "      <td>4/30/14 22:36</td>\n",
       "      <td>40.7587</td>\n",
       "      <td>-73.9723</td>\n",
       "      <td>B02764</td>\n",
       "    </tr>\n",
       "    <tr>\n",
       "      <th>564497</th>\n",
       "      <td>4/30/14 22:42</td>\n",
       "      <td>40.7325</td>\n",
       "      <td>-73.9969</td>\n",
       "      <td>B02764</td>\n",
       "    </tr>\n",
       "    <tr>\n",
       "      <th>564498</th>\n",
       "      <td>4/30/14 22:46</td>\n",
       "      <td>40.8152</td>\n",
       "      <td>-73.9433</td>\n",
       "      <td>B02764</td>\n",
       "    </tr>\n",
       "    <tr>\n",
       "      <th>564499</th>\n",
       "      <td>4/30/14 22:47</td>\n",
       "      <td>40.7643</td>\n",
       "      <td>-73.9868</td>\n",
       "      <td>B02764</td>\n",
       "    </tr>\n",
       "    <tr>\n",
       "      <th>564500</th>\n",
       "      <td>4/30/14 22:50</td>\n",
       "      <td>40.7650</td>\n",
       "      <td>-73.9773</td>\n",
       "      <td>B02764</td>\n",
       "    </tr>\n",
       "    <tr>\n",
       "      <th>564501</th>\n",
       "      <td>4/30/14 22:51</td>\n",
       "      <td>40.7436</td>\n",
       "      <td>-73.9848</td>\n",
       "      <td>B02764</td>\n",
       "    </tr>\n",
       "    <tr>\n",
       "      <th>564502</th>\n",
       "      <td>4/30/14 22:56</td>\n",
       "      <td>40.7313</td>\n",
       "      <td>-73.9940</td>\n",
       "      <td>B02764</td>\n",
       "    </tr>\n",
       "    <tr>\n",
       "      <th>564503</th>\n",
       "      <td>4/30/14 22:57</td>\n",
       "      <td>40.8007</td>\n",
       "      <td>-73.9565</td>\n",
       "      <td>B02764</td>\n",
       "    </tr>\n",
       "    <tr>\n",
       "      <th>564504</th>\n",
       "      <td>4/30/14 22:58</td>\n",
       "      <td>40.7603</td>\n",
       "      <td>-73.9870</td>\n",
       "      <td>B02764</td>\n",
       "    </tr>\n",
       "    <tr>\n",
       "      <th>564505</th>\n",
       "      <td>4/30/14 22:58</td>\n",
       "      <td>40.7419</td>\n",
       "      <td>-73.9866</td>\n",
       "      <td>B02764</td>\n",
       "    </tr>\n",
       "    <tr>\n",
       "      <th>564506</th>\n",
       "      <td>4/30/14 23:00</td>\n",
       "      <td>40.7316</td>\n",
       "      <td>-73.9891</td>\n",
       "      <td>B02764</td>\n",
       "    </tr>\n",
       "    <tr>\n",
       "      <th>564507</th>\n",
       "      <td>4/30/14 23:04</td>\n",
       "      <td>40.7267</td>\n",
       "      <td>-73.9937</td>\n",
       "      <td>B02764</td>\n",
       "    </tr>\n",
       "    <tr>\n",
       "      <th>564508</th>\n",
       "      <td>4/30/14 23:05</td>\n",
       "      <td>40.7788</td>\n",
       "      <td>-73.9600</td>\n",
       "      <td>B02764</td>\n",
       "    </tr>\n",
       "    <tr>\n",
       "      <th>564509</th>\n",
       "      <td>4/30/14 23:15</td>\n",
       "      <td>40.7420</td>\n",
       "      <td>-74.0037</td>\n",
       "      <td>B02764</td>\n",
       "    </tr>\n",
       "    <tr>\n",
       "      <th>564510</th>\n",
       "      <td>4/30/14 23:18</td>\n",
       "      <td>40.7514</td>\n",
       "      <td>-74.0066</td>\n",
       "      <td>B02764</td>\n",
       "    </tr>\n",
       "    <tr>\n",
       "      <th>564511</th>\n",
       "      <td>4/30/14 23:22</td>\n",
       "      <td>40.7640</td>\n",
       "      <td>-73.9744</td>\n",
       "      <td>B02764</td>\n",
       "    </tr>\n",
       "    <tr>\n",
       "      <th>564512</th>\n",
       "      <td>4/30/14 23:26</td>\n",
       "      <td>40.7629</td>\n",
       "      <td>-73.9672</td>\n",
       "      <td>B02764</td>\n",
       "    </tr>\n",
       "    <tr>\n",
       "      <th>564513</th>\n",
       "      <td>4/30/14 23:31</td>\n",
       "      <td>40.7443</td>\n",
       "      <td>-73.9889</td>\n",
       "      <td>B02764</td>\n",
       "    </tr>\n",
       "    <tr>\n",
       "      <th>564514</th>\n",
       "      <td>4/30/14 23:32</td>\n",
       "      <td>40.6756</td>\n",
       "      <td>-73.9405</td>\n",
       "      <td>B02764</td>\n",
       "    </tr>\n",
       "    <tr>\n",
       "      <th>564515</th>\n",
       "      <td>4/30/14 23:48</td>\n",
       "      <td>40.6880</td>\n",
       "      <td>-73.9608</td>\n",
       "      <td>B02764</td>\n",
       "    </tr>\n",
       "  </tbody>\n",
       "</table>\n",
       "<p>564516 rows × 4 columns</p>\n",
       "</div>"
      ],
      "text/plain": [
       "                 Time      Lat      Lon    Base\n",
       "0         4/1/14 0:11  40.7690 -73.9549  B02512\n",
       "1         4/1/14 0:17  40.7267 -74.0345  B02512\n",
       "2         4/1/14 0:21  40.7316 -73.9873  B02512\n",
       "3         4/1/14 0:28  40.7588 -73.9776  B02512\n",
       "4         4/1/14 0:33  40.7594 -73.9722  B02512\n",
       "5         4/1/14 0:33  40.7383 -74.0403  B02512\n",
       "6         4/1/14 0:39  40.7223 -73.9887  B02512\n",
       "7         4/1/14 0:45  40.7620 -73.9790  B02512\n",
       "8         4/1/14 0:55  40.7524 -73.9960  B02512\n",
       "9         4/1/14 1:01  40.7575 -73.9846  B02512\n",
       "10        4/1/14 1:19  40.7256 -73.9869  B02512\n",
       "11        4/1/14 1:48  40.7591 -73.9684  B02512\n",
       "12        4/1/14 1:49  40.7271 -73.9803  B02512\n",
       "13        4/1/14 2:11  40.6463 -73.7896  B02512\n",
       "14        4/1/14 2:25  40.7564 -73.9167  B02512\n",
       "15        4/1/14 2:31  40.7666 -73.9531  B02512\n",
       "16        4/1/14 2:43  40.7580 -73.9761  B02512\n",
       "17        4/1/14 3:22  40.7238 -73.9821  B02512\n",
       "18        4/1/14 3:35  40.7531 -74.0039  B02512\n",
       "19        4/1/14 3:35  40.7389 -74.0393  B02512\n",
       "20        4/1/14 3:41  40.7619 -73.9715  B02512\n",
       "21        4/1/14 4:11  40.7530 -74.0042  B02512\n",
       "22        4/1/14 4:15  40.6561 -73.9531  B02512\n",
       "23        4/1/14 4:19  40.7250 -73.9844  B02512\n",
       "24        4/1/14 4:20  40.6950 -74.1783  B02512\n",
       "25        4/1/14 4:26  40.9859 -74.1578  B02512\n",
       "26        4/1/14 4:27  40.6879 -74.1814  B02512\n",
       "27        4/1/14 4:38  40.6878 -74.1816  B02512\n",
       "28        4/1/14 4:47  40.7234 -73.9974  B02512\n",
       "29        4/1/14 4:49  40.7336 -73.9900  B02512\n",
       "...               ...      ...      ...     ...\n",
       "564486  4/30/14 22:25  40.7342 -74.0101  B02764\n",
       "564487  4/30/14 22:25  40.7412 -73.9792  B02764\n",
       "564488  4/30/14 22:25  40.7633 -73.9867  B02764\n",
       "564489  4/30/14 22:26  40.7549 -73.9845  B02764\n",
       "564490  4/30/14 22:27  40.7210 -73.9850  B02764\n",
       "564491  4/30/14 22:27  40.7025 -74.0127  B02764\n",
       "564492  4/30/14 22:28  40.7568 -73.9848  B02764\n",
       "564493  4/30/14 22:29  40.7446 -73.9837  B02764\n",
       "564494  4/30/14 22:32  40.7013 -73.9367  B02764\n",
       "564495  4/30/14 22:35  40.7213 -73.9948  B02764\n",
       "564496  4/30/14 22:36  40.7587 -73.9723  B02764\n",
       "564497  4/30/14 22:42  40.7325 -73.9969  B02764\n",
       "564498  4/30/14 22:46  40.8152 -73.9433  B02764\n",
       "564499  4/30/14 22:47  40.7643 -73.9868  B02764\n",
       "564500  4/30/14 22:50  40.7650 -73.9773  B02764\n",
       "564501  4/30/14 22:51  40.7436 -73.9848  B02764\n",
       "564502  4/30/14 22:56  40.7313 -73.9940  B02764\n",
       "564503  4/30/14 22:57  40.8007 -73.9565  B02764\n",
       "564504  4/30/14 22:58  40.7603 -73.9870  B02764\n",
       "564505  4/30/14 22:58  40.7419 -73.9866  B02764\n",
       "564506  4/30/14 23:00  40.7316 -73.9891  B02764\n",
       "564507  4/30/14 23:04  40.7267 -73.9937  B02764\n",
       "564508  4/30/14 23:05  40.7788 -73.9600  B02764\n",
       "564509  4/30/14 23:15  40.7420 -74.0037  B02764\n",
       "564510  4/30/14 23:18  40.7514 -74.0066  B02764\n",
       "564511  4/30/14 23:22  40.7640 -73.9744  B02764\n",
       "564512  4/30/14 23:26  40.7629 -73.9672  B02764\n",
       "564513  4/30/14 23:31  40.7443 -73.9889  B02764\n",
       "564514  4/30/14 23:32  40.6756 -73.9405  B02764\n",
       "564515  4/30/14 23:48  40.6880 -73.9608  B02764\n",
       "\n",
       "[564516 rows x 4 columns]"
      ]
     },
     "execution_count": 8,
     "metadata": {},
     "output_type": "execute_result"
    }
   ],
   "source": [
    "april_df"
   ]
  },
  {
   "cell_type": "code",
   "execution_count": 9,
   "metadata": {
    "scrolled": true
   },
   "outputs": [
    {
     "data": {
      "text/html": [
       "<div>\n",
       "<style>\n",
       "    .dataframe thead tr:only-child th {\n",
       "        text-align: right;\n",
       "    }\n",
       "\n",
       "    .dataframe thead th {\n",
       "        text-align: left;\n",
       "    }\n",
       "\n",
       "    .dataframe tbody tr th {\n",
       "        vertical-align: top;\n",
       "    }\n",
       "</style>\n",
       "<table border=\"1\" class=\"dataframe\">\n",
       "  <thead>\n",
       "    <tr style=\"text-align: right;\">\n",
       "      <th></th>\n",
       "      <th>Time</th>\n",
       "      <th>Lat</th>\n",
       "      <th>Lon</th>\n",
       "      <th>Base</th>\n",
       "    </tr>\n",
       "  </thead>\n",
       "  <tbody>\n",
       "    <tr>\n",
       "      <th>0</th>\n",
       "      <td>4/1/14 0:11</td>\n",
       "      <td>40.7690</td>\n",
       "      <td>-73.9549</td>\n",
       "      <td>B02512</td>\n",
       "    </tr>\n",
       "    <tr>\n",
       "      <th>1</th>\n",
       "      <td>4/1/14 0:17</td>\n",
       "      <td>40.7267</td>\n",
       "      <td>-74.0345</td>\n",
       "      <td>B02512</td>\n",
       "    </tr>\n",
       "    <tr>\n",
       "      <th>2</th>\n",
       "      <td>4/1/14 0:21</td>\n",
       "      <td>40.7316</td>\n",
       "      <td>-73.9873</td>\n",
       "      <td>B02512</td>\n",
       "    </tr>\n",
       "    <tr>\n",
       "      <th>3</th>\n",
       "      <td>4/1/14 0:28</td>\n",
       "      <td>40.7588</td>\n",
       "      <td>-73.9776</td>\n",
       "      <td>B02512</td>\n",
       "    </tr>\n",
       "    <tr>\n",
       "      <th>4</th>\n",
       "      <td>4/1/14 0:33</td>\n",
       "      <td>40.7594</td>\n",
       "      <td>-73.9722</td>\n",
       "      <td>B02512</td>\n",
       "    </tr>\n",
       "  </tbody>\n",
       "</table>\n",
       "</div>"
      ],
      "text/plain": [
       "          Time      Lat      Lon    Base\n",
       "0  4/1/14 0:11  40.7690 -73.9549  B02512\n",
       "1  4/1/14 0:17  40.7267 -74.0345  B02512\n",
       "2  4/1/14 0:21  40.7316 -73.9873  B02512\n",
       "3  4/1/14 0:28  40.7588 -73.9776  B02512\n",
       "4  4/1/14 0:33  40.7594 -73.9722  B02512"
      ]
     },
     "execution_count": 9,
     "metadata": {},
     "output_type": "execute_result"
    }
   ],
   "source": [
    "april_df.head()"
   ]
  },
  {
   "cell_type": "code",
   "execution_count": 10,
   "metadata": {},
   "outputs": [
    {
     "name": "stdout",
     "output_type": "stream",
     "text": [
      "{'B02512': 'B02512', 'B02598': 'B02598', 'B02617': 'B02617', 'B02682': 'B02682', 'B02764': 'B02764'}\n"
     ]
    }
   ],
   "source": [
    "## Individual driver paths\n",
    "## Abstract to functions\n",
    "## For loop layers: base driver, date/time split by hour, then trip drawing\n",
    "\n",
    "# Write a loop for a list of the drivers (\"bases\")\n",
    "\n",
    "drivers = {}\n",
    "for base in april_df['Base']:\n",
    "    if base in drivers:\n",
    "        pass\n",
    "    else:\n",
    "        drivers[base] = base\n",
    "        \n",
    "    \n",
    "print(drivers)\n"
   ]
  },
  {
   "cell_type": "code",
   "execution_count": 14,
   "metadata": {},
   "outputs": [
    {
     "data": {
      "application/vnd.plotly.v1+json": {
       "data": [
        {
         "lat": [
          40.769,
          40.7267
         ],
         "line": {
          "color": "rgb(117, 174, 255)",
          "width": 1
         },
         "locationmode": "USA-states",
         "lon": [
          -73.9549,
          -74.0345
         ],
         "mode": "lines",
         "type": "scattergeo"
        },
        {
         "lat": [
          40.7267,
          40.7316
         ],
         "line": {
          "color": "rgb(117, 174, 255)",
          "width": 1
         },
         "locationmode": "USA-states",
         "lon": [
          -74.0345,
          -73.9873
         ],
         "mode": "lines",
         "type": "scattergeo"
        },
        {
         "lat": [
          40.7316,
          40.7588
         ],
         "line": {
          "color": "rgb(117, 174, 255)",
          "width": 1
         },
         "locationmode": "USA-states",
         "lon": [
          -73.9873,
          -73.9776
         ],
         "mode": "lines",
         "type": "scattergeo"
        },
        {
         "lat": [
          40.7588,
          40.7594
         ],
         "line": {
          "color": "rgb(117, 174, 255)",
          "width": 1
         },
         "locationmode": "USA-states",
         "lon": [
          -73.9776,
          -73.9722
         ],
         "mode": "lines",
         "type": "scattergeo"
        },
        {
         "lat": [
          40.7594,
          40.7383
         ],
         "line": {
          "color": "rgb(117, 174, 255)",
          "width": 1
         },
         "locationmode": "USA-states",
         "lon": [
          -73.9722,
          -74.0403
         ],
         "mode": "lines",
         "type": "scattergeo"
        },
        {
         "lat": [
          40.7383,
          40.7223
         ],
         "line": {
          "color": "rgb(117, 174, 255)",
          "width": 1
         },
         "locationmode": "USA-states",
         "lon": [
          -74.0403,
          -73.9887
         ],
         "mode": "lines",
         "type": "scattergeo"
        },
        {
         "lat": [
          40.7223,
          40.762
         ],
         "line": {
          "color": "rgb(117, 174, 255)",
          "width": 1
         },
         "locationmode": "USA-states",
         "lon": [
          -73.9887,
          -73.979
         ],
         "mode": "lines",
         "type": "scattergeo"
        },
        {
         "lat": [
          40.762,
          40.7524
         ],
         "line": {
          "color": "rgb(117, 174, 255)",
          "width": 1
         },
         "locationmode": "USA-states",
         "lon": [
          -73.979,
          -73.99600000000001
         ],
         "mode": "lines",
         "type": "scattergeo"
        },
        {
         "lat": [
          40.7524,
          40.7575
         ],
         "line": {
          "color": "rgb(117, 174, 255)",
          "width": 1
         },
         "locationmode": "USA-states",
         "lon": [
          -73.99600000000001,
          -73.9846
         ],
         "mode": "lines",
         "type": "scattergeo"
        },
        {
         "lat": [
          40.7575,
          40.7256
         ],
         "line": {
          "color": "rgb(117, 174, 255)",
          "width": 1
         },
         "locationmode": "USA-states",
         "lon": [
          -73.9846,
          -73.9869
         ],
         "mode": "lines",
         "type": "scattergeo"
        },
        {
         "lat": [
          40.7256,
          40.7591
         ],
         "line": {
          "color": "rgb(117, 174, 255)",
          "width": 1
         },
         "locationmode": "USA-states",
         "lon": [
          -73.9869,
          -73.9684
         ],
         "mode": "lines",
         "type": "scattergeo"
        },
        {
         "lat": [
          40.7591,
          40.7271
         ],
         "line": {
          "color": "rgb(117, 174, 255)",
          "width": 1
         },
         "locationmode": "USA-states",
         "lon": [
          -73.9684,
          -73.9803
         ],
         "mode": "lines",
         "type": "scattergeo"
        },
        {
         "lat": [
          40.7271,
          40.6463
         ],
         "line": {
          "color": "rgb(117, 174, 255)",
          "width": 1
         },
         "locationmode": "USA-states",
         "lon": [
          -73.9803,
          -73.7896
         ],
         "mode": "lines",
         "type": "scattergeo"
        },
        {
         "lat": [
          40.6463,
          40.7564
         ],
         "line": {
          "color": "rgb(117, 174, 255)",
          "width": 1
         },
         "locationmode": "USA-states",
         "lon": [
          -73.7896,
          -73.9167
         ],
         "mode": "lines",
         "type": "scattergeo"
        },
        {
         "lat": [
          40.7564,
          40.7666
         ],
         "line": {
          "color": "rgb(117, 174, 255)",
          "width": 1
         },
         "locationmode": "USA-states",
         "lon": [
          -73.9167,
          -73.9531
         ],
         "mode": "lines",
         "type": "scattergeo"
        },
        {
         "lat": [
          40.7666,
          40.758
         ],
         "line": {
          "color": "rgb(117, 174, 255)",
          "width": 1
         },
         "locationmode": "USA-states",
         "lon": [
          -73.9531,
          -73.9761
         ],
         "mode": "lines",
         "type": "scattergeo"
        },
        {
         "lat": [
          40.758,
          40.7238
         ],
         "line": {
          "color": "rgb(117, 174, 255)",
          "width": 1
         },
         "locationmode": "USA-states",
         "lon": [
          -73.9761,
          -73.9821
         ],
         "mode": "lines",
         "type": "scattergeo"
        },
        {
         "lat": [
          40.7238,
          40.7531
         ],
         "line": {
          "color": "rgb(117, 174, 255)",
          "width": 1
         },
         "locationmode": "USA-states",
         "lon": [
          -73.9821,
          -74.0039
         ],
         "mode": "lines",
         "type": "scattergeo"
        },
        {
         "lat": [
          40.7531,
          40.7389
         ],
         "line": {
          "color": "rgb(117, 174, 255)",
          "width": 1
         },
         "locationmode": "USA-states",
         "lon": [
          -74.0039,
          -74.0393
         ],
         "mode": "lines",
         "type": "scattergeo"
        },
        {
         "lat": [
          40.7389,
          40.7619
         ],
         "line": {
          "color": "rgb(117, 174, 255)",
          "width": 1
         },
         "locationmode": "USA-states",
         "lon": [
          -74.0393,
          -73.9715
         ],
         "mode": "lines",
         "type": "scattergeo"
        },
        {
         "lat": [
          40.7619,
          40.753
         ],
         "line": {
          "color": "rgb(117, 174, 255)",
          "width": 1
         },
         "locationmode": "USA-states",
         "lon": [
          -73.9715,
          -74.0042
         ],
         "mode": "lines",
         "type": "scattergeo"
        },
        {
         "lat": [
          40.753,
          40.6561
         ],
         "line": {
          "color": "rgb(117, 174, 255)",
          "width": 1
         },
         "locationmode": "USA-states",
         "lon": [
          -74.0042,
          -73.9531
         ],
         "mode": "lines",
         "type": "scattergeo"
        },
        {
         "lat": [
          40.6561,
          40.725
         ],
         "line": {
          "color": "rgb(117, 174, 255)",
          "width": 1
         },
         "locationmode": "USA-states",
         "lon": [
          -73.9531,
          -73.9844
         ],
         "mode": "lines",
         "type": "scattergeo"
        },
        {
         "lat": [
          40.725,
          40.695
         ],
         "line": {
          "color": "rgb(117, 174, 255)",
          "width": 1
         },
         "locationmode": "USA-states",
         "lon": [
          -73.9844,
          -74.1783
         ],
         "mode": "lines",
         "type": "scattergeo"
        },
        {
         "lat": [
          40.695,
          40.9859
         ],
         "line": {
          "color": "rgb(117, 174, 255)",
          "width": 1
         },
         "locationmode": "USA-states",
         "lon": [
          -74.1783,
          -74.1578
         ],
         "mode": "lines",
         "type": "scattergeo"
        },
        {
         "lat": [
          40.9859,
          40.6879
         ],
         "line": {
          "color": "rgb(117, 174, 255)",
          "width": 1
         },
         "locationmode": "USA-states",
         "lon": [
          -74.1578,
          -74.1814
         ],
         "mode": "lines",
         "type": "scattergeo"
        },
        {
         "lat": [
          40.6879,
          40.6878
         ],
         "line": {
          "color": "rgb(117, 174, 255)",
          "width": 1
         },
         "locationmode": "USA-states",
         "lon": [
          -74.1814,
          -74.1816
         ],
         "mode": "lines",
         "type": "scattergeo"
        },
        {
         "lat": [
          40.6878,
          40.7234
         ],
         "line": {
          "color": "rgb(117, 174, 255)",
          "width": 1
         },
         "locationmode": "USA-states",
         "lon": [
          -74.1816,
          -73.9974
         ],
         "mode": "lines",
         "type": "scattergeo"
        },
        {
         "lat": [
          40.7234,
          40.7336
         ],
         "line": {
          "color": "rgb(117, 174, 255)",
          "width": 1
         },
         "locationmode": "USA-states",
         "lon": [
          -73.9974,
          -73.99
         ],
         "mode": "lines",
         "type": "scattergeo"
        },
        {
         "lat": [
          40.7336,
          40.7141
         ],
         "line": {
          "color": "rgb(117, 174, 255)",
          "width": 1
         },
         "locationmode": "USA-states",
         "lon": [
          -73.99,
          -74.0094
         ],
         "mode": "lines",
         "type": "scattergeo"
        },
        {
         "lat": [
          40.7141,
          40.7893
         ],
         "line": {
          "color": "rgb(117, 174, 255)",
          "width": 1
         },
         "locationmode": "USA-states",
         "lon": [
          -74.0094,
          -73.9709
         ],
         "mode": "lines",
         "type": "scattergeo"
        },
        {
         "lat": [
          40.7893,
          40.7747
         ],
         "line": {
          "color": "rgb(117, 174, 255)",
          "width": 1
         },
         "locationmode": "USA-states",
         "lon": [
          -73.9709,
          -73.991
         ],
         "mode": "lines",
         "type": "scattergeo"
        },
        {
         "lat": [
          40.7747,
          40.7689
         ],
         "line": {
          "color": "rgb(117, 174, 255)",
          "width": 1
         },
         "locationmode": "USA-states",
         "lon": [
          -73.991,
          -73.9876
         ],
         "mode": "lines",
         "type": "scattergeo"
        },
        {
         "lat": [
          40.7689,
          40.7744
         ],
         "line": {
          "color": "rgb(117, 174, 255)",
          "width": 1
         },
         "locationmode": "USA-states",
         "lon": [
          -73.9876,
          -74.0149
         ],
         "mode": "lines",
         "type": "scattergeo"
        },
        {
         "lat": [
          40.7744,
          40.7393
         ],
         "line": {
          "color": "rgb(117, 174, 255)",
          "width": 1
         },
         "locationmode": "USA-states",
         "lon": [
          -74.0149,
          -73.9974
         ],
         "mode": "lines",
         "type": "scattergeo"
        },
        {
         "lat": [
          40.7393,
          40.7776
         ],
         "line": {
          "color": "rgb(117, 174, 255)",
          "width": 1
         },
         "locationmode": "USA-states",
         "lon": [
          -73.9974,
          -73.9752
         ],
         "mode": "lines",
         "type": "scattergeo"
        },
        {
         "lat": [
          40.7776,
          40.6483
         ],
         "line": {
          "color": "rgb(117, 174, 255)",
          "width": 1
         },
         "locationmode": "USA-states",
         "lon": [
          -73.9752,
          -73.7829
         ],
         "mode": "lines",
         "type": "scattergeo"
        },
        {
         "lat": [
          40.6483,
          40.6907
         ],
         "line": {
          "color": "rgb(117, 174, 255)",
          "width": 1
         },
         "locationmode": "USA-states",
         "lon": [
          -73.7829,
          -74.1782
         ],
         "mode": "lines",
         "type": "scattergeo"
        },
        {
         "lat": [
          40.6907,
          40.7217
         ],
         "line": {
          "color": "rgb(117, 174, 255)",
          "width": 1
         },
         "locationmode": "USA-states",
         "lon": [
          -74.1782,
          -73.9875
         ],
         "mode": "lines",
         "type": "scattergeo"
        },
        {
         "lat": [
          40.7217,
          40.7651
         ],
         "line": {
          "color": "rgb(117, 174, 255)",
          "width": 1
         },
         "locationmode": "USA-states",
         "lon": [
          -73.9875,
          -73.9632
         ],
         "mode": "lines",
         "type": "scattergeo"
        },
        {
         "lat": [
          40.7651,
          40.7437
         ],
         "line": {
          "color": "rgb(117, 174, 255)",
          "width": 1
         },
         "locationmode": "USA-states",
         "lon": [
          -73.9632,
          -73.9985
         ],
         "mode": "lines",
         "type": "scattergeo"
        },
        {
         "lat": [
          40.7437,
          40.7605
         ],
         "line": {
          "color": "rgb(117, 174, 255)",
          "width": 1
         },
         "locationmode": "USA-states",
         "lon": [
          -73.9985,
          -73.97800000000001
         ],
         "mode": "lines",
         "type": "scattergeo"
        },
        {
         "lat": [
          40.7605,
          40.743
         ],
         "line": {
          "color": "rgb(117, 174, 255)",
          "width": 1
         },
         "locationmode": "USA-states",
         "lon": [
          -73.97800000000001,
          -74.0301
         ],
         "mode": "lines",
         "type": "scattergeo"
        },
        {
         "lat": [
          40.743,
          40.743
         ],
         "line": {
          "color": "rgb(117, 174, 255)",
          "width": 1
         },
         "locationmode": "USA-states",
         "lon": [
          -74.0301,
          -74.0301
         ],
         "mode": "lines",
         "type": "scattergeo"
        },
        {
         "lat": [
          40.743,
          40.7423
         ],
         "line": {
          "color": "rgb(117, 174, 255)",
          "width": 1
         },
         "locationmode": "USA-states",
         "lon": [
          -74.0301,
          -74.0371
         ],
         "mode": "lines",
         "type": "scattergeo"
        },
        {
         "lat": [
          40.7423,
          40.7236
         ],
         "line": {
          "color": "rgb(117, 174, 255)",
          "width": 1
         },
         "locationmode": "USA-states",
         "lon": [
          -74.0371,
          -74.0037
         ],
         "mode": "lines",
         "type": "scattergeo"
        },
        {
         "lat": [
          40.7236,
          40.7723
         ],
         "line": {
          "color": "rgb(117, 174, 255)",
          "width": 1
         },
         "locationmode": "USA-states",
         "lon": [
          -74.0037,
          -73.9527
         ],
         "mode": "lines",
         "type": "scattergeo"
        },
        {
         "lat": [
          40.7723,
          40.7574
         ],
         "line": {
          "color": "rgb(117, 174, 255)",
          "width": 1
         },
         "locationmode": "USA-states",
         "lon": [
          -73.9527,
          -73.9862
         ],
         "mode": "lines",
         "type": "scattergeo"
        },
        {
         "lat": [
          40.7574,
          40.7838
         ],
         "line": {
          "color": "rgb(117, 174, 255)",
          "width": 1
         },
         "locationmode": "USA-states",
         "lon": [
          -73.9862,
          -73.9504
         ],
         "mode": "lines",
         "type": "scattergeo"
        },
        {
         "lat": [
          40.7838,
          40.7711
         ],
         "line": {
          "color": "rgb(117, 174, 255)",
          "width": 1
         },
         "locationmode": "USA-states",
         "lon": [
          -73.9504,
          -73.9871
         ],
         "mode": "lines",
         "type": "scattergeo"
        },
        {
         "lat": [
          40.7711,
          40.7571
         ],
         "line": {
          "color": "rgb(117, 174, 255)",
          "width": 1
         },
         "locationmode": "USA-states",
         "lon": [
          -73.9871,
          -73.9726
         ],
         "mode": "lines",
         "type": "scattergeo"
        },
        {
         "lat": [
          40.7571,
          40.7442
         ],
         "line": {
          "color": "rgb(117, 174, 255)",
          "width": 1
         },
         "locationmode": "USA-states",
         "lon": [
          -73.9726,
          -73.9854
         ],
         "mode": "lines",
         "type": "scattergeo"
        },
        {
         "lat": [
          40.7442,
          40.7166
         ],
         "line": {
          "color": "rgb(117, 174, 255)",
          "width": 1
         },
         "locationmode": "USA-states",
         "lon": [
          -73.9854,
          -74.0144
         ],
         "mode": "lines",
         "type": "scattergeo"
        },
        {
         "lat": [
          40.7166,
          40.7507
         ],
         "line": {
          "color": "rgb(117, 174, 255)",
          "width": 1
         },
         "locationmode": "USA-states",
         "lon": [
          -74.0144,
          -73.9703
         ],
         "mode": "lines",
         "type": "scattergeo"
        },
        {
         "lat": [
          40.7507,
          40.7337
         ],
         "line": {
          "color": "rgb(117, 174, 255)",
          "width": 1
         },
         "locationmode": "USA-states",
         "lon": [
          -73.9703,
          -73.9979
         ],
         "mode": "lines",
         "type": "scattergeo"
        },
        {
         "lat": [
          40.7337,
          40.7236
         ],
         "line": {
          "color": "rgb(117, 174, 255)",
          "width": 1
         },
         "locationmode": "USA-states",
         "lon": [
          -73.9979,
          -74.0111
         ],
         "mode": "lines",
         "type": "scattergeo"
        },
        {
         "lat": [
          40.7236,
          40.7151
         ],
         "line": {
          "color": "rgb(117, 174, 255)",
          "width": 1
         },
         "locationmode": "USA-states",
         "lon": [
          -74.0111,
          -74.0464
         ],
         "mode": "lines",
         "type": "scattergeo"
        },
        {
         "lat": [
          40.7151,
          40.7701
         ],
         "line": {
          "color": "rgb(117, 174, 255)",
          "width": 1
         },
         "locationmode": "USA-states",
         "lon": [
          -74.0464,
          -73.9588
         ],
         "mode": "lines",
         "type": "scattergeo"
        },
        {
         "lat": [
          40.7701,
          40.86
         ],
         "line": {
          "color": "rgb(117, 174, 255)",
          "width": 1
         },
         "locationmode": "USA-states",
         "lon": [
          -73.9588,
          -73.9142
         ],
         "mode": "lines",
         "type": "scattergeo"
        },
        {
         "lat": [
          40.86,
          40.7555
         ],
         "line": {
          "color": "rgb(117, 174, 255)",
          "width": 1
         },
         "locationmode": "USA-states",
         "lon": [
          -73.9142,
          -73.9729
         ],
         "mode": "lines",
         "type": "scattergeo"
        },
        {
         "lat": [
          40.7555,
          40.7249
         ],
         "line": {
          "color": "rgb(117, 174, 255)",
          "width": 1
         },
         "locationmode": "USA-states",
         "lon": [
          -73.9729,
          -74.0355
         ],
         "mode": "lines",
         "type": "scattergeo"
        },
        {
         "lat": [
          40.7249,
          40.6193
         ],
         "line": {
          "color": "rgb(117, 174, 255)",
          "width": 1
         },
         "locationmode": "USA-states",
         "lon": [
          -74.0355,
          -74.157
         ],
         "mode": "lines",
         "type": "scattergeo"
        },
        {
         "lat": [
          40.6193,
          40.7753
         ],
         "line": {
          "color": "rgb(117, 174, 255)",
          "width": 1
         },
         "locationmode": "USA-states",
         "lon": [
          -74.157,
          -73.97800000000001
         ],
         "mode": "lines",
         "type": "scattergeo"
        },
        {
         "lat": [
          40.7753,
          40.7204
         ],
         "line": {
          "color": "rgb(117, 174, 255)",
          "width": 1
         },
         "locationmode": "USA-states",
         "lon": [
          -73.97800000000001,
          -73.9545
         ],
         "mode": "lines",
         "type": "scattergeo"
        },
        {
         "lat": [
          40.7204,
          40.7772
         ],
         "line": {
          "color": "rgb(117, 174, 255)",
          "width": 1
         },
         "locationmode": "USA-states",
         "lon": [
          -73.9545,
          -73.9595
         ],
         "mode": "lines",
         "type": "scattergeo"
        },
        {
         "lat": [
          40.7772,
          40.7651
         ],
         "line": {
          "color": "rgb(117, 174, 255)",
          "width": 1
         },
         "locationmode": "USA-states",
         "lon": [
          -73.9595,
          -74.082
         ],
         "mode": "lines",
         "type": "scattergeo"
        },
        {
         "lat": [
          40.7651,
          40.74
         ],
         "line": {
          "color": "rgb(117, 174, 255)",
          "width": 1
         },
         "locationmode": "USA-states",
         "lon": [
          -74.082,
          -73.9879
         ],
         "mode": "lines",
         "type": "scattergeo"
        },
        {
         "lat": [
          40.74,
          40.7741
         ],
         "line": {
          "color": "rgb(117, 174, 255)",
          "width": 1
         },
         "locationmode": "USA-states",
         "lon": [
          -73.9879,
          -73.9568
         ],
         "mode": "lines",
         "type": "scattergeo"
        },
        {
         "lat": [
          40.7741,
          40.7599
         ],
         "line": {
          "color": "rgb(117, 174, 255)",
          "width": 1
         },
         "locationmode": "USA-states",
         "lon": [
          -73.9568,
          -73.9944
         ],
         "mode": "lines",
         "type": "scattergeo"
        },
        {
         "lat": [
          40.7599,
          40.7531
         ],
         "line": {
          "color": "rgb(117, 174, 255)",
          "width": 1
         },
         "locationmode": "USA-states",
         "lon": [
          -73.9944,
          -74.0039
         ],
         "mode": "lines",
         "type": "scattergeo"
        },
        {
         "lat": [
          40.7531,
          40.7791
         ],
         "line": {
          "color": "rgb(117, 174, 255)",
          "width": 1
         },
         "locationmode": "USA-states",
         "lon": [
          -74.0039,
          -73.9623
         ],
         "mode": "lines",
         "type": "scattergeo"
        },
        {
         "lat": [
          40.7791,
          40.7382
         ],
         "line": {
          "color": "rgb(117, 174, 255)",
          "width": 1
         },
         "locationmode": "USA-states",
         "lon": [
          -73.9623,
          -74.0033
         ],
         "mode": "lines",
         "type": "scattergeo"
        },
        {
         "lat": [
          40.7382,
          40.7391
         ],
         "line": {
          "color": "rgb(117, 174, 255)",
          "width": 1
         },
         "locationmode": "USA-states",
         "lon": [
          -74.0033,
          -73.9989
         ],
         "mode": "lines",
         "type": "scattergeo"
        },
        {
         "lat": [
          40.7391,
          40.7806
         ],
         "line": {
          "color": "rgb(117, 174, 255)",
          "width": 1
         },
         "locationmode": "USA-states",
         "lon": [
          -73.9989,
          -73.982
         ],
         "mode": "lines",
         "type": "scattergeo"
        },
        {
         "lat": [
          40.7806,
          40.7322
         ],
         "line": {
          "color": "rgb(117, 174, 255)",
          "width": 1
         },
         "locationmode": "USA-states",
         "lon": [
          -73.982,
          -73.9863
         ],
         "mode": "lines",
         "type": "scattergeo"
        },
        {
         "lat": [
          40.7322,
          40.7703
         ],
         "line": {
          "color": "rgb(117, 174, 255)",
          "width": 1
         },
         "locationmode": "USA-states",
         "lon": [
          -73.9863,
          -73.96600000000001
         ],
         "mode": "lines",
         "type": "scattergeo"
        },
        {
         "lat": [
          40.7703,
          40.7221
         ],
         "line": {
          "color": "rgb(117, 174, 255)",
          "width": 1
         },
         "locationmode": "USA-states",
         "lon": [
          -73.96600000000001,
          -74.0018
         ],
         "mode": "lines",
         "type": "scattergeo"
        },
        {
         "lat": [
          40.7221,
          40.7588
         ],
         "line": {
          "color": "rgb(117, 174, 255)",
          "width": 1
         },
         "locationmode": "USA-states",
         "lon": [
          -74.0018,
          -73.9895
         ],
         "mode": "lines",
         "type": "scattergeo"
        },
        {
         "lat": [
          40.7588,
          40.7677
         ],
         "line": {
          "color": "rgb(117, 174, 255)",
          "width": 1
         },
         "locationmode": "USA-states",
         "lon": [
          -73.9895,
          -73.9656
         ],
         "mode": "lines",
         "type": "scattergeo"
        },
        {
         "lat": [
          40.7677,
          40.7404
         ],
         "line": {
          "color": "rgb(117, 174, 255)",
          "width": 1
         },
         "locationmode": "USA-states",
         "lon": [
          -73.9656,
          -74.0076
         ],
         "mode": "lines",
         "type": "scattergeo"
        },
        {
         "lat": [
          40.7404,
          40.7679
         ],
         "line": {
          "color": "rgb(117, 174, 255)",
          "width": 1
         },
         "locationmode": "USA-states",
         "lon": [
          -74.0076,
          -73.9599
         ],
         "mode": "lines",
         "type": "scattergeo"
        },
        {
         "lat": [
          40.7679,
          40.7694
         ],
         "line": {
          "color": "rgb(117, 174, 255)",
          "width": 1
         },
         "locationmode": "USA-states",
         "lon": [
          -73.9599,
          -73.9852
         ],
         "mode": "lines",
         "type": "scattergeo"
        },
        {
         "lat": [
          40.7694,
          40.7858
         ],
         "line": {
          "color": "rgb(117, 174, 255)",
          "width": 1
         },
         "locationmode": "USA-states",
         "lon": [
          -73.9852,
          -73.9546
         ],
         "mode": "lines",
         "type": "scattergeo"
        },
        {
         "lat": [
          40.7858,
          40.7742
         ],
         "line": {
          "color": "rgb(117, 174, 255)",
          "width": 1
         },
         "locationmode": "USA-states",
         "lon": [
          -73.9546,
          -73.9491
         ],
         "mode": "lines",
         "type": "scattergeo"
        },
        {
         "lat": [
          40.7742,
          40.7703
         ],
         "line": {
          "color": "rgb(117, 174, 255)",
          "width": 1
         },
         "locationmode": "USA-states",
         "lon": [
          -73.9491,
          -73.95
         ],
         "mode": "lines",
         "type": "scattergeo"
        },
        {
         "lat": [
          40.7703,
          40.7614
         ],
         "line": {
          "color": "rgb(117, 174, 255)",
          "width": 1
         },
         "locationmode": "USA-states",
         "lon": [
          -73.95,
          -73.9997
         ],
         "mode": "lines",
         "type": "scattergeo"
        },
        {
         "lat": [
          40.7614,
          40.793
         ],
         "line": {
          "color": "rgb(117, 174, 255)",
          "width": 1
         },
         "locationmode": "USA-states",
         "lon": [
          -73.9997,
          -73.9749
         ],
         "mode": "lines",
         "type": "scattergeo"
        },
        {
         "lat": [
          40.793,
          40.7231
         ],
         "line": {
          "color": "rgb(117, 174, 255)",
          "width": 1
         },
         "locationmode": "USA-states",
         "lon": [
          -73.9749,
          -73.9442
         ],
         "mode": "lines",
         "type": "scattergeo"
        },
        {
         "lat": [
          40.7231,
          40.7874
         ],
         "line": {
          "color": "rgb(117, 174, 255)",
          "width": 1
         },
         "locationmode": "USA-states",
         "lon": [
          -73.9442,
          -73.9545
         ],
         "mode": "lines",
         "type": "scattergeo"
        },
        {
         "lat": [
          40.7874,
          40.7689
         ],
         "line": {
          "color": "rgb(117, 174, 255)",
          "width": 1
         },
         "locationmode": "USA-states",
         "lon": [
          -73.9545,
          -73.9812
         ],
         "mode": "lines",
         "type": "scattergeo"
        },
        {
         "lat": [
          40.7689,
          40.7789
         ],
         "line": {
          "color": "rgb(117, 174, 255)",
          "width": 1
         },
         "locationmode": "USA-states",
         "lon": [
          -73.9812,
          -73.9557
         ],
         "mode": "lines",
         "type": "scattergeo"
        },
        {
         "lat": [
          40.7789,
          40.7271
         ],
         "line": {
          "color": "rgb(117, 174, 255)",
          "width": 1
         },
         "locationmode": "USA-states",
         "lon": [
          -73.9557,
          -74.0054
         ],
         "mode": "lines",
         "type": "scattergeo"
        },
        {
         "lat": [
          40.7271,
          40.7877
         ],
         "line": {
          "color": "rgb(117, 174, 255)",
          "width": 1
         },
         "locationmode": "USA-states",
         "lon": [
          -74.0054,
          -73.973
         ],
         "mode": "lines",
         "type": "scattergeo"
        },
        {
         "lat": [
          40.7877,
          40.7255
         ],
         "line": {
          "color": "rgb(117, 174, 255)",
          "width": 1
         },
         "locationmode": "USA-states",
         "lon": [
          -73.973,
          -74.0092
         ],
         "mode": "lines",
         "type": "scattergeo"
        },
        {
         "lat": [
          40.7255,
          40.7653
         ],
         "line": {
          "color": "rgb(117, 174, 255)",
          "width": 1
         },
         "locationmode": "USA-states",
         "lon": [
          -74.0092,
          -73.9723
         ],
         "mode": "lines",
         "type": "scattergeo"
        },
        {
         "lat": [
          40.7653,
          40.7644
         ],
         "line": {
          "color": "rgb(117, 174, 255)",
          "width": 1
         },
         "locationmode": "USA-states",
         "lon": [
          -73.9723,
          -73.9769
         ],
         "mode": "lines",
         "type": "scattergeo"
        },
        {
         "lat": [
          40.7644,
          40.7726
         ],
         "line": {
          "color": "rgb(117, 174, 255)",
          "width": 1
         },
         "locationmode": "USA-states",
         "lon": [
          -73.9769,
          -73.9532
         ],
         "mode": "lines",
         "type": "scattergeo"
        },
        {
         "lat": [
          40.7726,
          40.7898
         ],
         "line": {
          "color": "rgb(117, 174, 255)",
          "width": 1
         },
         "locationmode": "USA-states",
         "lon": [
          -73.9532,
          -73.9661
         ],
         "mode": "lines",
         "type": "scattergeo"
        },
        {
         "lat": [
          40.7898,
          40.7839
         ],
         "line": {
          "color": "rgb(117, 174, 255)",
          "width": 1
         },
         "locationmode": "USA-states",
         "lon": [
          -73.9661,
          -73.9703
         ],
         "mode": "lines",
         "type": "scattergeo"
        },
        {
         "lat": [
          40.7839,
          40.7236
         ],
         "line": {
          "color": "rgb(117, 174, 255)",
          "width": 1
         },
         "locationmode": "USA-states",
         "lon": [
          -73.9703,
          -74.0016
         ],
         "mode": "lines",
         "type": "scattergeo"
        },
        {
         "lat": [
          40.7236,
          40.699
         ],
         "line": {
          "color": "rgb(117, 174, 255)",
          "width": 1
         },
         "locationmode": "USA-states",
         "lon": [
          -74.0016,
          -73.9951
         ],
         "mode": "lines",
         "type": "scattergeo"
        },
        {
         "lat": [
          40.699,
          40.7581
         ],
         "line": {
          "color": "rgb(117, 174, 255)",
          "width": 1
         },
         "locationmode": "USA-states",
         "lon": [
          -73.9951,
          -73.9219
         ],
         "mode": "lines",
         "type": "scattergeo"
        },
        {
         "lat": [
          40.7581,
          40.768
         ],
         "line": {
          "color": "rgb(117, 174, 255)",
          "width": 1
         },
         "locationmode": "USA-states",
         "lon": [
          -73.9219,
          -73.9191
         ],
         "mode": "lines",
         "type": "scattergeo"
        },
        {
         "lat": [
          40.768,
          40.7677
         ],
         "line": {
          "color": "rgb(117, 174, 255)",
          "width": 1
         },
         "locationmode": "USA-states",
         "lon": [
          -73.9191,
          -73.9897
         ],
         "mode": "lines",
         "type": "scattergeo"
        },
        {
         "lat": [
          40.7677,
          40.771
         ],
         "line": {
          "color": "rgb(117, 174, 255)",
          "width": 1
         },
         "locationmode": "USA-states",
         "lon": [
          -73.9897,
          -73.866
         ],
         "mode": "lines",
         "type": "scattergeo"
        },
        {
         "lat": [
          40.771,
          40.7808
         ],
         "line": {
          "color": "rgb(117, 174, 255)",
          "width": 1
         },
         "locationmode": "USA-states",
         "lon": [
          -73.866,
          -73.9487
         ],
         "mode": "lines",
         "type": "scattergeo"
        },
        {
         "lat": [
          40.7808,
          40.7147
         ],
         "line": {
          "color": "rgb(117, 174, 255)",
          "width": 1
         },
         "locationmode": "USA-states",
         "lon": [
          -73.9487,
          -74.0362
         ],
         "mode": "lines",
         "type": "scattergeo"
        },
        {
         "lat": [
          40.7147,
          40.7732
         ],
         "line": {
          "color": "rgb(117, 174, 255)",
          "width": 1
         },
         "locationmode": "USA-states",
         "lon": [
          -74.0362,
          -73.9504
         ],
         "mode": "lines",
         "type": "scattergeo"
        },
        {
         "lat": [
          40.7732,
          40.7335
         ],
         "line": {
          "color": "rgb(117, 174, 255)",
          "width": 1
         },
         "locationmode": "USA-states",
         "lon": [
          -73.9504,
          -74.0043
         ],
         "mode": "lines",
         "type": "scattergeo"
        },
        {
         "lat": [
          40.7335,
          40.7754
         ],
         "line": {
          "color": "rgb(117, 174, 255)",
          "width": 1
         },
         "locationmode": "USA-states",
         "lon": [
          -74.0043,
          -73.9782
         ],
         "mode": "lines",
         "type": "scattergeo"
        },
        {
         "lat": [
          40.7754,
          40.7752
         ],
         "line": {
          "color": "rgb(117, 174, 255)",
          "width": 1
         },
         "locationmode": "USA-states",
         "lon": [
          -73.9782,
          -73.9455
         ],
         "mode": "lines",
         "type": "scattergeo"
        },
        {
         "lat": [
          40.7752,
          40.7243
         ],
         "line": {
          "color": "rgb(117, 174, 255)",
          "width": 1
         },
         "locationmode": "USA-states",
         "lon": [
          -73.9455,
          -74.0021
         ],
         "mode": "lines",
         "type": "scattergeo"
        },
        {
         "lat": [
          40.7243,
          40.7786
         ],
         "line": {
          "color": "rgb(117, 174, 255)",
          "width": 1
         },
         "locationmode": "USA-states",
         "lon": [
          -74.0021,
          -73.9512
         ],
         "mode": "lines",
         "type": "scattergeo"
        },
        {
         "lat": [
          40.7786,
          40.7877
         ],
         "line": {
          "color": "rgb(117, 174, 255)",
          "width": 1
         },
         "locationmode": "USA-states",
         "lon": [
          -73.9512,
          -73.9788
         ],
         "mode": "lines",
         "type": "scattergeo"
        },
        {
         "lat": [
          40.7877,
          40.8674
         ],
         "line": {
          "color": "rgb(117, 174, 255)",
          "width": 1
         },
         "locationmode": "USA-states",
         "lon": [
          -73.9788,
          -73.8822
         ],
         "mode": "lines",
         "type": "scattergeo"
        },
        {
         "lat": [
          40.8674,
          40.7678
         ],
         "line": {
          "color": "rgb(117, 174, 255)",
          "width": 1
         },
         "locationmode": "USA-states",
         "lon": [
          -73.8822,
          -73.9704
         ],
         "mode": "lines",
         "type": "scattergeo"
        },
        {
         "lat": [
          40.7678,
          40.7749
         ],
         "line": {
          "color": "rgb(117, 174, 255)",
          "width": 1
         },
         "locationmode": "USA-states",
         "lon": [
          -73.9704,
          -73.9587
         ],
         "mode": "lines",
         "type": "scattergeo"
        },
        {
         "lat": [
          40.7749,
          40.7209
         ],
         "line": {
          "color": "rgb(117, 174, 255)",
          "width": 1
         },
         "locationmode": "USA-states",
         "lon": [
          -73.9587,
          -73.9813
         ],
         "mode": "lines",
         "type": "scattergeo"
        },
        {
         "lat": [
          40.7209,
          40.756
         ],
         "line": {
          "color": "rgb(117, 174, 255)",
          "width": 1
         },
         "locationmode": "USA-states",
         "lon": [
          -73.9813,
          -73.9752
         ],
         "mode": "lines",
         "type": "scattergeo"
        },
        {
         "lat": [
          40.756,
          40.7923
         ],
         "line": {
          "color": "rgb(117, 174, 255)",
          "width": 1
         },
         "locationmode": "USA-states",
         "lon": [
          -73.9752,
          -73.9676
         ],
         "mode": "lines",
         "type": "scattergeo"
        },
        {
         "lat": [
          40.7923,
          40.739000000000004
         ],
         "line": {
          "color": "rgb(117, 174, 255)",
          "width": 1
         },
         "locationmode": "USA-states",
         "lon": [
          -73.9676,
          -73.9991
         ],
         "mode": "lines",
         "type": "scattergeo"
        },
        {
         "lat": [
          40.739000000000004,
          40.7273
         ],
         "line": {
          "color": "rgb(117, 174, 255)",
          "width": 1
         },
         "locationmode": "USA-states",
         "lon": [
          -73.9991,
          -73.9797
         ],
         "mode": "lines",
         "type": "scattergeo"
        },
        {
         "lat": [
          40.7273,
          40.7751
         ],
         "line": {
          "color": "rgb(117, 174, 255)",
          "width": 1
         },
         "locationmode": "USA-states",
         "lon": [
          -73.9797,
          -73.9475
         ],
         "mode": "lines",
         "type": "scattergeo"
        },
        {
         "lat": [
          40.7751,
          40.7406
         ],
         "line": {
          "color": "rgb(117, 174, 255)",
          "width": 1
         },
         "locationmode": "USA-states",
         "lon": [
          -73.9475,
          -73.9983
         ],
         "mode": "lines",
         "type": "scattergeo"
        },
        {
         "lat": [
          40.7406,
          40.8364
         ],
         "line": {
          "color": "rgb(117, 174, 255)",
          "width": 1
         },
         "locationmode": "USA-states",
         "lon": [
          -73.9983,
          -74.1461
         ],
         "mode": "lines",
         "type": "scattergeo"
        },
        {
         "lat": [
          40.8364,
          40.7452
         ],
         "line": {
          "color": "rgb(117, 174, 255)",
          "width": 1
         },
         "locationmode": "USA-states",
         "lon": [
          -74.1461,
          -73.991
         ],
         "mode": "lines",
         "type": "scattergeo"
        },
        {
         "lat": [
          40.7452,
          40.7805
         ],
         "line": {
          "color": "rgb(117, 174, 255)",
          "width": 1
         },
         "locationmode": "USA-states",
         "lon": [
          -73.991,
          -73.9481
         ],
         "mode": "lines",
         "type": "scattergeo"
        },
        {
         "lat": [
          40.7805,
          40.7805
         ],
         "line": {
          "color": "rgb(117, 174, 255)",
          "width": 1
         },
         "locationmode": "USA-states",
         "lon": [
          -73.9481,
          -73.9481
         ],
         "mode": "lines",
         "type": "scattergeo"
        },
        {
         "lat": [
          40.7805,
          40.7814
         ],
         "line": {
          "color": "rgb(117, 174, 255)",
          "width": 1
         },
         "locationmode": "USA-states",
         "lon": [
          -73.9481,
          -73.9513
         ],
         "mode": "lines",
         "type": "scattergeo"
        },
        {
         "lat": [
          40.7814,
          40.7864
         ],
         "line": {
          "color": "rgb(117, 174, 255)",
          "width": 1
         },
         "locationmode": "USA-states",
         "lon": [
          -73.9513,
          -73.9699
         ],
         "mode": "lines",
         "type": "scattergeo"
        },
        {
         "lat": [
          40.7864,
          40.783
         ],
         "line": {
          "color": "rgb(117, 174, 255)",
          "width": 1
         },
         "locationmode": "USA-states",
         "lon": [
          -73.9699,
          -73.9559
         ],
         "mode": "lines",
         "type": "scattergeo"
        },
        {
         "lat": [
          40.783,
          40.7582
         ],
         "line": {
          "color": "rgb(117, 174, 255)",
          "width": 1
         },
         "locationmode": "USA-states",
         "lon": [
          -73.9559,
          -73.9928
         ],
         "mode": "lines",
         "type": "scattergeo"
        },
        {
         "lat": [
          40.7582,
          40.7216
         ],
         "line": {
          "color": "rgb(117, 174, 255)",
          "width": 1
         },
         "locationmode": "USA-states",
         "lon": [
          -73.9928,
          -74.0046
         ],
         "mode": "lines",
         "type": "scattergeo"
        },
        {
         "lat": [
          40.7216,
          40.7298
         ],
         "line": {
          "color": "rgb(117, 174, 255)",
          "width": 1
         },
         "locationmode": "USA-states",
         "lon": [
          -74.0046,
          -73.9988
         ],
         "mode": "lines",
         "type": "scattergeo"
        },
        {
         "lat": [
          40.7298,
          40.7746
         ],
         "line": {
          "color": "rgb(117, 174, 255)",
          "width": 1
         },
         "locationmode": "USA-states",
         "lon": [
          -73.9988,
          -73.956
         ],
         "mode": "lines",
         "type": "scattergeo"
        },
        {
         "lat": [
          40.7746,
          40.7208
         ],
         "line": {
          "color": "rgb(117, 174, 255)",
          "width": 1
         },
         "locationmode": "USA-states",
         "lon": [
          -73.956,
          -73.994
         ],
         "mode": "lines",
         "type": "scattergeo"
        },
        {
         "lat": [
          40.7208,
          40.7669
         ],
         "line": {
          "color": "rgb(117, 174, 255)",
          "width": 1
         },
         "locationmode": "USA-states",
         "lon": [
          -73.994,
          -73.9617
         ],
         "mode": "lines",
         "type": "scattergeo"
        },
        {
         "lat": [
          40.7669,
          40.7084
         ],
         "line": {
          "color": "rgb(117, 174, 255)",
          "width": 1
         },
         "locationmode": "USA-states",
         "lon": [
          -73.9617,
          -74.0064
         ],
         "mode": "lines",
         "type": "scattergeo"
        },
        {
         "lat": [
          40.7084,
          40.7425
         ],
         "line": {
          "color": "rgb(117, 174, 255)",
          "width": 1
         },
         "locationmode": "USA-states",
         "lon": [
          -74.0064,
          -73.9942
         ],
         "mode": "lines",
         "type": "scattergeo"
        },
        {
         "lat": [
          40.7425,
          40.7424
         ],
         "line": {
          "color": "rgb(117, 174, 255)",
          "width": 1
         },
         "locationmode": "USA-states",
         "lon": [
          -73.9942,
          -73.9838
         ],
         "mode": "lines",
         "type": "scattergeo"
        },
        {
         "lat": [
          40.7424,
          40.7724
         ],
         "line": {
          "color": "rgb(117, 174, 255)",
          "width": 1
         },
         "locationmode": "USA-states",
         "lon": [
          -73.9838,
          -73.955
         ],
         "mode": "lines",
         "type": "scattergeo"
        },
        {
         "lat": [
          40.7724,
          40.7787
         ],
         "line": {
          "color": "rgb(117, 174, 255)",
          "width": 1
         },
         "locationmode": "USA-states",
         "lon": [
          -73.955,
          -73.9559
         ],
         "mode": "lines",
         "type": "scattergeo"
        },
        {
         "lat": [
          40.7787,
          40.7752
         ],
         "line": {
          "color": "rgb(117, 174, 255)",
          "width": 1
         },
         "locationmode": "USA-states",
         "lon": [
          -73.9559,
          -73.9637
         ],
         "mode": "lines",
         "type": "scattergeo"
        },
        {
         "lat": [
          40.7752,
          40.7754
         ],
         "line": {
          "color": "rgb(117, 174, 255)",
          "width": 1
         },
         "locationmode": "USA-states",
         "lon": [
          -73.9637,
          -73.95
         ],
         "mode": "lines",
         "type": "scattergeo"
        },
        {
         "lat": [
          40.7754,
          40.7368
         ],
         "line": {
          "color": "rgb(117, 174, 255)",
          "width": 1
         },
         "locationmode": "USA-states",
         "lon": [
          -73.95,
          -74.0044
         ],
         "mode": "lines",
         "type": "scattergeo"
        },
        {
         "lat": [
          40.7368,
          40.7174
         ],
         "line": {
          "color": "rgb(117, 174, 255)",
          "width": 1
         },
         "locationmode": "USA-states",
         "lon": [
          -74.0044,
          -73.9924
         ],
         "mode": "lines",
         "type": "scattergeo"
        },
        {
         "lat": [
          40.7174,
          40.7305
         ],
         "line": {
          "color": "rgb(117, 174, 255)",
          "width": 1
         },
         "locationmode": "USA-states",
         "lon": [
          -73.9924,
          -73.9934
         ],
         "mode": "lines",
         "type": "scattergeo"
        },
        {
         "lat": [
          40.7305,
          40.7747
         ],
         "line": {
          "color": "rgb(117, 174, 255)",
          "width": 1
         },
         "locationmode": "USA-states",
         "lon": [
          -73.9934,
          -73.9613
         ],
         "mode": "lines",
         "type": "scattergeo"
        },
        {
         "lat": [
          40.7747,
          40.7229
         ],
         "line": {
          "color": "rgb(117, 174, 255)",
          "width": 1
         },
         "locationmode": "USA-states",
         "lon": [
          -73.9613,
          -73.994
         ],
         "mode": "lines",
         "type": "scattergeo"
        },
        {
         "lat": [
          40.7229,
          40.7396
         ],
         "line": {
          "color": "rgb(117, 174, 255)",
          "width": 1
         },
         "locationmode": "USA-states",
         "lon": [
          -73.994,
          -73.98100000000001
         ],
         "mode": "lines",
         "type": "scattergeo"
        },
        {
         "lat": [
          40.7396,
          40.725
         ],
         "line": {
          "color": "rgb(117, 174, 255)",
          "width": 1
         },
         "locationmode": "USA-states",
         "lon": [
          -73.98100000000001,
          -73.9994
         ],
         "mode": "lines",
         "type": "scattergeo"
        },
        {
         "lat": [
          40.725,
          40.695
         ],
         "line": {
          "color": "rgb(117, 174, 255)",
          "width": 1
         },
         "locationmode": "USA-states",
         "lon": [
          -73.9994,
          -74.1774
         ],
         "mode": "lines",
         "type": "scattergeo"
        },
        {
         "lat": [
          40.695,
          40.719
         ],
         "line": {
          "color": "rgb(117, 174, 255)",
          "width": 1
         },
         "locationmode": "USA-states",
         "lon": [
          -74.1774,
          -74.0064
         ],
         "mode": "lines",
         "type": "scattergeo"
        },
        {
         "lat": [
          40.719,
          40.8271
         ],
         "line": {
          "color": "rgb(117, 174, 255)",
          "width": 1
         },
         "locationmode": "USA-states",
         "lon": [
          -74.0064,
          -73.9726
         ],
         "mode": "lines",
         "type": "scattergeo"
        },
        {
         "lat": [
          40.8271,
          40.7793
         ],
         "line": {
          "color": "rgb(117, 174, 255)",
          "width": 1
         },
         "locationmode": "USA-states",
         "lon": [
          -73.9726,
          -73.9495
         ],
         "mode": "lines",
         "type": "scattergeo"
        },
        {
         "lat": [
          40.7793,
          40.7266
         ],
         "line": {
          "color": "rgb(117, 174, 255)",
          "width": 1
         },
         "locationmode": "USA-states",
         "lon": [
          -73.9495,
          -73.9801
         ],
         "mode": "lines",
         "type": "scattergeo"
        },
        {
         "lat": [
          40.7266,
          40.6922
         ],
         "line": {
          "color": "rgb(117, 174, 255)",
          "width": 1
         },
         "locationmode": "USA-states",
         "lon": [
          -73.9801,
          -74.1811
         ],
         "mode": "lines",
         "type": "scattergeo"
        },
        {
         "lat": [
          40.6922,
          40.7418
         ],
         "line": {
          "color": "rgb(117, 174, 255)",
          "width": 1
         },
         "locationmode": "USA-states",
         "lon": [
          -74.1811,
          -74.0074
         ],
         "mode": "lines",
         "type": "scattergeo"
        },
        {
         "lat": [
          40.7418,
          40.7108
         ],
         "line": {
          "color": "rgb(117, 174, 255)",
          "width": 1
         },
         "locationmode": "USA-states",
         "lon": [
          -74.0074,
          -73.9845
         ],
         "mode": "lines",
         "type": "scattergeo"
        },
        {
         "lat": [
          40.7108,
          40.7857
         ],
         "line": {
          "color": "rgb(117, 174, 255)",
          "width": 1
         },
         "locationmode": "USA-states",
         "lon": [
          -73.9845,
          -73.9802
         ],
         "mode": "lines",
         "type": "scattergeo"
        },
        {
         "lat": [
          40.7857,
          40.7757
         ],
         "line": {
          "color": "rgb(117, 174, 255)",
          "width": 1
         },
         "locationmode": "USA-states",
         "lon": [
          -73.9802,
          -73.9502
         ],
         "mode": "lines",
         "type": "scattergeo"
        },
        {
         "lat": [
          40.7757,
          40.7514
         ],
         "line": {
          "color": "rgb(117, 174, 255)",
          "width": 1
         },
         "locationmode": "USA-states",
         "lon": [
          -73.9502,
          -73.9699
         ],
         "mode": "lines",
         "type": "scattergeo"
        },
        {
         "lat": [
          40.7514,
          40.7343
         ],
         "line": {
          "color": "rgb(117, 174, 255)",
          "width": 1
         },
         "locationmode": "USA-states",
         "lon": [
          -73.9699,
          -73.9936
         ],
         "mode": "lines",
         "type": "scattergeo"
        },
        {
         "lat": [
          40.7343,
          40.734
         ],
         "line": {
          "color": "rgb(117, 174, 255)",
          "width": 1
         },
         "locationmode": "USA-states",
         "lon": [
          -73.9936,
          -74.0094
         ],
         "mode": "lines",
         "type": "scattergeo"
        },
        {
         "lat": [
          40.734,
          40.718
         ],
         "line": {
          "color": "rgb(117, 174, 255)",
          "width": 1
         },
         "locationmode": "USA-states",
         "lon": [
          -74.0094,
          -74.0099
         ],
         "mode": "lines",
         "type": "scattergeo"
        },
        {
         "lat": [
          40.718,
          40.7287
         ],
         "line": {
          "color": "rgb(117, 174, 255)",
          "width": 1
         },
         "locationmode": "USA-states",
         "lon": [
          -74.0099,
          -73.9805
         ],
         "mode": "lines",
         "type": "scattergeo"
        },
        {
         "lat": [
          40.7287,
          40.758
         ],
         "line": {
          "color": "rgb(117, 174, 255)",
          "width": 1
         },
         "locationmode": "USA-states",
         "lon": [
          -73.9805,
          -73.9707
         ],
         "mode": "lines",
         "type": "scattergeo"
        },
        {
         "lat": [
          40.758,
          40.692
         ],
         "line": {
          "color": "rgb(117, 174, 255)",
          "width": 1
         },
         "locationmode": "USA-states",
         "lon": [
          -73.9707,
          -74.1813
         ],
         "mode": "lines",
         "type": "scattergeo"
        },
        {
         "lat": [
          40.692,
          40.778
         ],
         "line": {
          "color": "rgb(117, 174, 255)",
          "width": 1
         },
         "locationmode": "USA-states",
         "lon": [
          -74.1813,
          -73.9487
         ],
         "mode": "lines",
         "type": "scattergeo"
        },
        {
         "lat": [
          40.778,
          40.7658
         ],
         "line": {
          "color": "rgb(117, 174, 255)",
          "width": 1
         },
         "locationmode": "USA-states",
         "lon": [
          -73.9487,
          -73.9692
         ],
         "mode": "lines",
         "type": "scattergeo"
        },
        {
         "lat": [
          40.7658,
          40.7222
         ],
         "line": {
          "color": "rgb(117, 174, 255)",
          "width": 1
         },
         "locationmode": "USA-states",
         "lon": [
          -73.9692,
          -74.0104
         ],
         "mode": "lines",
         "type": "scattergeo"
        },
        {
         "lat": [
          40.7222,
          40.7329
         ],
         "line": {
          "color": "rgb(117, 174, 255)",
          "width": 1
         },
         "locationmode": "USA-states",
         "lon": [
          -74.0104,
          -73.9881
         ],
         "mode": "lines",
         "type": "scattergeo"
        },
        {
         "lat": [
          40.7329,
          40.7659
         ],
         "line": {
          "color": "rgb(117, 174, 255)",
          "width": 1
         },
         "locationmode": "USA-states",
         "lon": [
          -73.9881,
          -73.9766
         ],
         "mode": "lines",
         "type": "scattergeo"
        },
        {
         "lat": [
          40.7659,
          40.7789
         ],
         "line": {
          "color": "rgb(117, 174, 255)",
          "width": 1
         },
         "locationmode": "USA-states",
         "lon": [
          -73.9766,
          -73.9618
         ],
         "mode": "lines",
         "type": "scattergeo"
        },
        {
         "lat": [
          40.7789,
          40.789
         ],
         "line": {
          "color": "rgb(117, 174, 255)",
          "width": 1
         },
         "locationmode": "USA-states",
         "lon": [
          -73.9618,
          -73.9743
         ],
         "mode": "lines",
         "type": "scattergeo"
        },
        {
         "lat": [
          40.789,
          40.7617
         ],
         "line": {
          "color": "rgb(117, 174, 255)",
          "width": 1
         },
         "locationmode": "USA-states",
         "lon": [
          -73.9743,
          -73.9843
         ],
         "mode": "lines",
         "type": "scattergeo"
        },
        {
         "lat": [
          40.7617,
          40.7214
         ],
         "line": {
          "color": "rgb(117, 174, 255)",
          "width": 1
         },
         "locationmode": "USA-states",
         "lon": [
          -73.9843,
          -73.9475
         ],
         "mode": "lines",
         "type": "scattergeo"
        },
        {
         "lat": [
          40.7214,
          40.7595
         ],
         "line": {
          "color": "rgb(117, 174, 255)",
          "width": 1
         },
         "locationmode": "USA-states",
         "lon": [
          -73.9475,
          -73.9913
         ],
         "mode": "lines",
         "type": "scattergeo"
        },
        {
         "lat": [
          40.7595,
          40.7931
         ],
         "line": {
          "color": "rgb(117, 174, 255)",
          "width": 1
         },
         "locationmode": "USA-states",
         "lon": [
          -73.9913,
          -73.9748
         ],
         "mode": "lines",
         "type": "scattergeo"
        },
        {
         "lat": [
          40.7931,
          40.7371
         ],
         "line": {
          "color": "rgb(117, 174, 255)",
          "width": 1
         },
         "locationmode": "USA-states",
         "lon": [
          -73.9748,
          -74.0004
         ],
         "mode": "lines",
         "type": "scattergeo"
        },
        {
         "lat": [
          40.7371,
          40.7345
         ],
         "line": {
          "color": "rgb(117, 174, 255)",
          "width": 1
         },
         "locationmode": "USA-states",
         "lon": [
          -74.0004,
          -73.99600000000001
         ],
         "mode": "lines",
         "type": "scattergeo"
        },
        {
         "lat": [
          40.7345,
          40.7747
         ],
         "line": {
          "color": "rgb(117, 174, 255)",
          "width": 1
         },
         "locationmode": "USA-states",
         "lon": [
          -73.99600000000001,
          -73.9912
         ],
         "mode": "lines",
         "type": "scattergeo"
        },
        {
         "lat": [
          40.7747,
          40.8822
         ],
         "line": {
          "color": "rgb(117, 174, 255)",
          "width": 1
         },
         "locationmode": "USA-states",
         "lon": [
          -73.9912,
          -73.9211
         ],
         "mode": "lines",
         "type": "scattergeo"
        },
        {
         "lat": [
          40.8822,
          40.762
         ],
         "line": {
          "color": "rgb(117, 174, 255)",
          "width": 1
         },
         "locationmode": "USA-states",
         "lon": [
          -73.9211,
          -73.9787
         ],
         "mode": "lines",
         "type": "scattergeo"
        },
        {
         "lat": [
          40.762,
          40.762
         ],
         "line": {
          "color": "rgb(117, 174, 255)",
          "width": 1
         },
         "locationmode": "USA-states",
         "lon": [
          -73.9787,
          -73.9787
         ],
         "mode": "lines",
         "type": "scattergeo"
        },
        {
         "lat": [
          40.762,
          40.7326
         ],
         "line": {
          "color": "rgb(117, 174, 255)",
          "width": 1
         },
         "locationmode": "USA-states",
         "lon": [
          -73.9787,
          -74.0038
         ],
         "mode": "lines",
         "type": "scattergeo"
        },
        {
         "lat": [
          40.7326,
          40.7555
         ],
         "line": {
          "color": "rgb(117, 174, 255)",
          "width": 1
         },
         "locationmode": "USA-states",
         "lon": [
          -74.0038,
          -73.9737
         ],
         "mode": "lines",
         "type": "scattergeo"
        },
        {
         "lat": [
          40.7555,
          40.7596
         ],
         "line": {
          "color": "rgb(117, 174, 255)",
          "width": 1
         },
         "locationmode": "USA-states",
         "lon": [
          -73.9737,
          -73.9854
         ],
         "mode": "lines",
         "type": "scattergeo"
        },
        {
         "lat": [
          40.7596,
          40.6904
         ],
         "line": {
          "color": "rgb(117, 174, 255)",
          "width": 1
         },
         "locationmode": "USA-states",
         "lon": [
          -73.9854,
          -74.1778
         ],
         "mode": "lines",
         "type": "scattergeo"
        },
        {
         "lat": [
          40.6904,
          40.6904
         ],
         "line": {
          "color": "rgb(117, 174, 255)",
          "width": 1
         },
         "locationmode": "USA-states",
         "lon": [
          -74.1778,
          -74.1778
         ],
         "mode": "lines",
         "type": "scattergeo"
        },
        {
         "lat": [
          40.6904,
          40.7408
         ],
         "line": {
          "color": "rgb(117, 174, 255)",
          "width": 1
         },
         "locationmode": "USA-states",
         "lon": [
          -74.1778,
          -73.9914
         ],
         "mode": "lines",
         "type": "scattergeo"
        },
        {
         "lat": [
          40.7408,
          40.6819
         ],
         "line": {
          "color": "rgb(117, 174, 255)",
          "width": 1
         },
         "locationmode": "USA-states",
         "lon": [
          -73.9914,
          -73.9358
         ],
         "mode": "lines",
         "type": "scattergeo"
        },
        {
         "lat": [
          40.6819,
          40.7624
         ],
         "line": {
          "color": "rgb(117, 174, 255)",
          "width": 1
         },
         "locationmode": "USA-states",
         "lon": [
          -73.9358,
          -73.9714
         ],
         "mode": "lines",
         "type": "scattergeo"
        },
        {
         "lat": [
          40.7624,
          40.7805
         ],
         "line": {
          "color": "rgb(117, 174, 255)",
          "width": 1
         },
         "locationmode": "USA-states",
         "lon": [
          -73.9714,
          -73.9548
         ],
         "mode": "lines",
         "type": "scattergeo"
        },
        {
         "lat": [
          40.7805,
          40.7889
         ],
         "line": {
          "color": "rgb(117, 174, 255)",
          "width": 1
         },
         "locationmode": "USA-states",
         "lon": [
          -73.9548,
          -73.9542
         ],
         "mode": "lines",
         "type": "scattergeo"
        },
        {
         "lat": [
          40.7889,
          40.7835
         ],
         "line": {
          "color": "rgb(117, 174, 255)",
          "width": 1
         },
         "locationmode": "USA-states",
         "lon": [
          -73.9542,
          -73.9513
         ],
         "mode": "lines",
         "type": "scattergeo"
        },
        {
         "lat": [
          40.7835,
          40.7651
         ],
         "line": {
          "color": "rgb(117, 174, 255)",
          "width": 1
         },
         "locationmode": "USA-states",
         "lon": [
          -73.9513,
          -73.9617
         ],
         "mode": "lines",
         "type": "scattergeo"
        },
        {
         "lat": [
          40.7651,
          40.7261
         ],
         "line": {
          "color": "rgb(117, 174, 255)",
          "width": 1
         },
         "locationmode": "USA-states",
         "lon": [
          -73.9617,
          -73.9918
         ],
         "mode": "lines",
         "type": "scattergeo"
        },
        {
         "lat": [
          40.7261,
          40.7303
         ],
         "line": {
          "color": "rgb(117, 174, 255)",
          "width": 1
         },
         "locationmode": "USA-states",
         "lon": [
          -73.9918,
          -73.9937
         ],
         "mode": "lines",
         "type": "scattergeo"
        },
        {
         "lat": [
          40.7303,
          40.8736
         ],
         "line": {
          "color": "rgb(117, 174, 255)",
          "width": 1
         },
         "locationmode": "USA-states",
         "lon": [
          -73.9937,
          -74.0628
         ],
         "mode": "lines",
         "type": "scattergeo"
        },
        {
         "lat": [
          40.8736,
          40.724000000000004
         ],
         "line": {
          "color": "rgb(117, 174, 255)",
          "width": 1
         },
         "locationmode": "USA-states",
         "lon": [
          -74.0628,
          -73.9981
         ],
         "mode": "lines",
         "type": "scattergeo"
        },
        {
         "lat": [
          40.724000000000004,
          40.7744
         ],
         "line": {
          "color": "rgb(117, 174, 255)",
          "width": 1
         },
         "locationmode": "USA-states",
         "lon": [
          -73.9981,
          -73.9578
         ],
         "mode": "lines",
         "type": "scattergeo"
        },
        {
         "lat": [
          40.7744,
          40.7607
         ],
         "line": {
          "color": "rgb(117, 174, 255)",
          "width": 1
         },
         "locationmode": "USA-states",
         "lon": [
          -73.9578,
          -73.9861
         ],
         "mode": "lines",
         "type": "scattergeo"
        },
        {
         "lat": [
          40.7607,
          40.7749
         ],
         "line": {
          "color": "rgb(117, 174, 255)",
          "width": 1
         },
         "locationmode": "USA-states",
         "lon": [
          -73.9861,
          -73.9841
         ],
         "mode": "lines",
         "type": "scattergeo"
        },
        {
         "lat": [
          40.7749,
          40.7625
         ],
         "line": {
          "color": "rgb(117, 174, 255)",
          "width": 1
         },
         "locationmode": "USA-states",
         "lon": [
          -73.9841,
          -73.9724
         ],
         "mode": "lines",
         "type": "scattergeo"
        },
        {
         "lat": [
          40.7625,
          40.7377
         ],
         "line": {
          "color": "rgb(117, 174, 255)",
          "width": 1
         },
         "locationmode": "USA-states",
         "lon": [
          -73.9724,
          -73.9965
         ],
         "mode": "lines",
         "type": "scattergeo"
        },
        {
         "lat": [
          40.7377,
          40.7388
         ],
         "line": {
          "color": "rgb(117, 174, 255)",
          "width": 1
         },
         "locationmode": "USA-states",
         "lon": [
          -73.9965,
          -74.0087
         ],
         "mode": "lines",
         "type": "scattergeo"
        },
        {
         "lat": [
          40.7388,
          40.7677
         ],
         "line": {
          "color": "rgb(117, 174, 255)",
          "width": 1
         },
         "locationmode": "USA-states",
         "lon": [
          -74.0087,
          -73.98100000000001
         ],
         "mode": "lines",
         "type": "scattergeo"
        },
        {
         "lat": [
          40.7677,
          40.7691
         ],
         "line": {
          "color": "rgb(117, 174, 255)",
          "width": 1
         },
         "locationmode": "USA-states",
         "lon": [
          -73.98100000000001,
          -73.9652
         ],
         "mode": "lines",
         "type": "scattergeo"
        },
        {
         "lat": [
          40.7691,
          40.7816
         ],
         "line": {
          "color": "rgb(117, 174, 255)",
          "width": 1
         },
         "locationmode": "USA-states",
         "lon": [
          -73.9652,
          -73.9602
         ],
         "mode": "lines",
         "type": "scattergeo"
        },
        {
         "lat": [
          40.7816,
          40.7739
         ],
         "line": {
          "color": "rgb(117, 174, 255)",
          "width": 1
         },
         "locationmode": "USA-states",
         "lon": [
          -73.9602,
          -73.8717
         ],
         "mode": "lines",
         "type": "scattergeo"
        },
        {
         "lat": [
          40.7739,
          40.7841
         ],
         "line": {
          "color": "rgb(117, 174, 255)",
          "width": 1
         },
         "locationmode": "USA-states",
         "lon": [
          -73.8717,
          -73.9542
         ],
         "mode": "lines",
         "type": "scattergeo"
        },
        {
         "lat": [
          40.7841,
          40.7426
         ],
         "line": {
          "color": "rgb(117, 174, 255)",
          "width": 1
         },
         "locationmode": "USA-states",
         "lon": [
          -73.9542,
          -73.9963
         ],
         "mode": "lines",
         "type": "scattergeo"
        },
        {
         "lat": [
          40.7426,
          40.771
         ],
         "line": {
          "color": "rgb(117, 174, 255)",
          "width": 1
         },
         "locationmode": "USA-states",
         "lon": [
          -73.9963,
          -73.8669
         ],
         "mode": "lines",
         "type": "scattergeo"
        },
        {
         "lat": [
          40.771,
          40.775
         ],
         "line": {
          "color": "rgb(117, 174, 255)",
          "width": 1
         },
         "locationmode": "USA-states",
         "lon": [
          -73.8669,
          -73.9888
         ],
         "mode": "lines",
         "type": "scattergeo"
        },
        {
         "lat": [
          40.775,
          40.7356
         ],
         "line": {
          "color": "rgb(117, 174, 255)",
          "width": 1
         },
         "locationmode": "USA-states",
         "lon": [
          -73.9888,
          -74.0029
         ],
         "mode": "lines",
         "type": "scattergeo"
        },
        {
         "lat": [
          40.7356,
          40.7666
         ],
         "line": {
          "color": "rgb(117, 174, 255)",
          "width": 1
         },
         "locationmode": "USA-states",
         "lon": [
          -74.0029,
          -73.9784
         ],
         "mode": "lines",
         "type": "scattergeo"
        },
        {
         "lat": [
          40.7666,
          40.7118
         ],
         "line": {
          "color": "rgb(117, 174, 255)",
          "width": 1
         },
         "locationmode": "USA-states",
         "lon": [
          -73.9784,
          -73.9499
         ],
         "mode": "lines",
         "type": "scattergeo"
        },
        {
         "lat": [
          40.7118,
          40.7097
         ],
         "line": {
          "color": "rgb(117, 174, 255)",
          "width": 1
         },
         "locationmode": "USA-states",
         "lon": [
          -73.9499,
          -74.0153
         ],
         "mode": "lines",
         "type": "scattergeo"
        },
        {
         "lat": [
          40.7097,
          40.7438
         ],
         "line": {
          "color": "rgb(117, 174, 255)",
          "width": 1
         },
         "locationmode": "USA-states",
         "lon": [
          -74.0153,
          -74.0061
         ],
         "mode": "lines",
         "type": "scattergeo"
        },
        {
         "lat": [
          40.7438,
          40.76
         ],
         "line": {
          "color": "rgb(117, 174, 255)",
          "width": 1
         },
         "locationmode": "USA-states",
         "lon": [
          -74.0061,
          -73.9861
         ],
         "mode": "lines",
         "type": "scattergeo"
        },
        {
         "lat": [
          40.76,
          40.7752
         ],
         "line": {
          "color": "rgb(117, 174, 255)",
          "width": 1
         },
         "locationmode": "USA-states",
         "lon": [
          -73.9861,
          -73.9635
         ],
         "mode": "lines",
         "type": "scattergeo"
        },
        {
         "lat": [
          40.7752,
          40.7788
         ],
         "line": {
          "color": "rgb(117, 174, 255)",
          "width": 1
         },
         "locationmode": "USA-states",
         "lon": [
          -73.9635,
          -73.956
         ],
         "mode": "lines",
         "type": "scattergeo"
        },
        {
         "lat": [
          40.7788,
          40.8078
         ],
         "line": {
          "color": "rgb(117, 174, 255)",
          "width": 1
         },
         "locationmode": "USA-states",
         "lon": [
          -73.956,
          -73.9639
         ],
         "mode": "lines",
         "type": "scattergeo"
        },
        {
         "lat": [
          40.8078,
          40.7631
         ],
         "line": {
          "color": "rgb(117, 174, 255)",
          "width": 1
         },
         "locationmode": "USA-states",
         "lon": [
          -73.9639,
          -73.9784
         ],
         "mode": "lines",
         "type": "scattergeo"
        },
        {
         "lat": [
          40.7631,
          40.7788
         ],
         "line": {
          "color": "rgb(117, 174, 255)",
          "width": 1
         },
         "locationmode": "USA-states",
         "lon": [
          -73.9784,
          -73.95100000000001
         ],
         "mode": "lines",
         "type": "scattergeo"
        },
        {
         "lat": [
          40.7788,
          40.7714
         ],
         "line": {
          "color": "rgb(117, 174, 255)",
          "width": 1
         },
         "locationmode": "USA-states",
         "lon": [
          -73.95100000000001,
          -73.9594
         ],
         "mode": "lines",
         "type": "scattergeo"
        },
        {
         "lat": [
          40.7714,
          40.7694
         ],
         "line": {
          "color": "rgb(117, 174, 255)",
          "width": 1
         },
         "locationmode": "USA-states",
         "lon": [
          -73.9594,
          -73.983
         ],
         "mode": "lines",
         "type": "scattergeo"
        },
        {
         "lat": [
          40.7694,
          40.733000000000004
         ],
         "line": {
          "color": "rgb(117, 174, 255)",
          "width": 1
         },
         "locationmode": "USA-states",
         "lon": [
          -73.983,
          -73.9901
         ],
         "mode": "lines",
         "type": "scattergeo"
        },
        {
         "lat": [
          40.733000000000004,
          40.7412
         ],
         "line": {
          "color": "rgb(117, 174, 255)",
          "width": 1
         },
         "locationmode": "USA-states",
         "lon": [
          -73.9901,
          -73.9878
         ],
         "mode": "lines",
         "type": "scattergeo"
        },
        {
         "lat": [
          40.7412,
          40.7526
         ],
         "line": {
          "color": "rgb(117, 174, 255)",
          "width": 1
         },
         "locationmode": "USA-states",
         "lon": [
          -73.9878,
          -73.975
         ],
         "mode": "lines",
         "type": "scattergeo"
        },
        {
         "lat": [
          40.7526,
          40.7602
         ],
         "line": {
          "color": "rgb(117, 174, 255)",
          "width": 1
         },
         "locationmode": "USA-states",
         "lon": [
          -73.975,
          -73.9598
         ],
         "mode": "lines",
         "type": "scattergeo"
        },
        {
         "lat": [
          40.7602,
          40.773
         ],
         "line": {
          "color": "rgb(117, 174, 255)",
          "width": 1
         },
         "locationmode": "USA-states",
         "lon": [
          -73.9598,
          -73.9669
         ],
         "mode": "lines",
         "type": "scattergeo"
        },
        {
         "lat": [
          40.773,
          40.7628
         ],
         "line": {
          "color": "rgb(117, 174, 255)",
          "width": 1
         },
         "locationmode": "USA-states",
         "lon": [
          -73.9669,
          -73.9948
         ],
         "mode": "lines",
         "type": "scattergeo"
        },
        {
         "lat": [
          40.7628,
          40.7752
         ],
         "line": {
          "color": "rgb(117, 174, 255)",
          "width": 1
         },
         "locationmode": "USA-states",
         "lon": [
          -73.9948,
          -73.9636
         ],
         "mode": "lines",
         "type": "scattergeo"
        },
        {
         "lat": [
          40.7752,
          40.7283
         ],
         "line": {
          "color": "rgb(117, 174, 255)",
          "width": 1
         },
         "locationmode": "USA-states",
         "lon": [
          -73.9636,
          -74.0071
         ],
         "mode": "lines",
         "type": "scattergeo"
        },
        {
         "lat": [
          40.7283,
          40.7195
         ],
         "line": {
          "color": "rgb(117, 174, 255)",
          "width": 1
         },
         "locationmode": "USA-states",
         "lon": [
          -74.0071,
          -74.0367
         ],
         "mode": "lines",
         "type": "scattergeo"
        },
        {
         "lat": [
          40.7195,
          40.7195
         ],
         "line": {
          "color": "rgb(117, 174, 255)",
          "width": 1
         },
         "locationmode": "USA-states",
         "lon": [
          -74.0367,
          -74.0367
         ],
         "mode": "lines",
         "type": "scattergeo"
        },
        {
         "lat": [
          40.7195,
          40.7747
         ],
         "line": {
          "color": "rgb(117, 174, 255)",
          "width": 1
         },
         "locationmode": "USA-states",
         "lon": [
          -74.0367,
          -73.9911
         ],
         "mode": "lines",
         "type": "scattergeo"
        },
        {
         "lat": [
          40.7747,
          40.7401
         ],
         "line": {
          "color": "rgb(117, 174, 255)",
          "width": 1
         },
         "locationmode": "USA-states",
         "lon": [
          -73.9911,
          -73.992
         ],
         "mode": "lines",
         "type": "scattergeo"
        },
        {
         "lat": [
          40.7401,
          40.7686
         ],
         "line": {
          "color": "rgb(117, 174, 255)",
          "width": 1
         },
         "locationmode": "USA-states",
         "lon": [
          -73.992,
          -73.9698
         ],
         "mode": "lines",
         "type": "scattergeo"
        },
        {
         "lat": [
          40.7686,
          40.7336
         ],
         "line": {
          "color": "rgb(117, 174, 255)",
          "width": 1
         },
         "locationmode": "USA-states",
         "lon": [
          -73.9698,
          -73.9982
         ],
         "mode": "lines",
         "type": "scattergeo"
        },
        {
         "lat": [
          40.7336,
          40.7795
         ],
         "line": {
          "color": "rgb(117, 174, 255)",
          "width": 1
         },
         "locationmode": "USA-states",
         "lon": [
          -73.9982,
          -73.9837
         ],
         "mode": "lines",
         "type": "scattergeo"
        },
        {
         "lat": [
          40.7795,
          40.7148
         ],
         "line": {
          "color": "rgb(117, 174, 255)",
          "width": 1
         },
         "locationmode": "USA-states",
         "lon": [
          -73.9837,
          -74.0162
         ],
         "mode": "lines",
         "type": "scattergeo"
        },
        {
         "lat": [
          40.7148,
          40.7438
         ],
         "line": {
          "color": "rgb(117, 174, 255)",
          "width": 1
         },
         "locationmode": "USA-states",
         "lon": [
          -74.0162,
          -73.9759
         ],
         "mode": "lines",
         "type": "scattergeo"
        },
        {
         "lat": [
          40.7438,
          40.745
         ],
         "line": {
          "color": "rgb(117, 174, 255)",
          "width": 1
         },
         "locationmode": "USA-states",
         "lon": [
          -73.9759,
          -73.9888
         ],
         "mode": "lines",
         "type": "scattergeo"
        },
        {
         "lat": [
          40.745,
          40.7768
         ],
         "line": {
          "color": "rgb(117, 174, 255)",
          "width": 1
         },
         "locationmode": "USA-states",
         "lon": [
          -73.9888,
          -73.9773
         ],
         "mode": "lines",
         "type": "scattergeo"
        },
        {
         "lat": [
          40.7768,
          40.7594
         ],
         "line": {
          "color": "rgb(117, 174, 255)",
          "width": 1
         },
         "locationmode": "USA-states",
         "lon": [
          -73.9773,
          -73.96600000000001
         ],
         "mode": "lines",
         "type": "scattergeo"
        },
        {
         "lat": [
          40.7594,
          40.7741
         ],
         "line": {
          "color": "rgb(117, 174, 255)",
          "width": 1
         },
         "locationmode": "USA-states",
         "lon": [
          -73.96600000000001,
          -73.8726
         ],
         "mode": "lines",
         "type": "scattergeo"
        },
        {
         "lat": [
          40.7741,
          40.7367
         ],
         "line": {
          "color": "rgb(117, 174, 255)",
          "width": 1
         },
         "locationmode": "USA-states",
         "lon": [
          -73.8726,
          -73.9907
         ],
         "mode": "lines",
         "type": "scattergeo"
        },
        {
         "lat": [
          40.7367,
          40.7368
         ],
         "line": {
          "color": "rgb(117, 174, 255)",
          "width": 1
         },
         "locationmode": "USA-states",
         "lon": [
          -73.9907,
          -73.9847
         ],
         "mode": "lines",
         "type": "scattergeo"
        },
        {
         "lat": [
          40.7368,
          40.8079
         ],
         "line": {
          "color": "rgb(117, 174, 255)",
          "width": 1
         },
         "locationmode": "USA-states",
         "lon": [
          -73.9847,
          -73.9638
         ],
         "mode": "lines",
         "type": "scattergeo"
        },
        {
         "lat": [
          40.8079,
          40.6678
         ],
         "line": {
          "color": "rgb(117, 174, 255)",
          "width": 1
         },
         "locationmode": "USA-states",
         "lon": [
          -73.9638,
          -73.7956
         ],
         "mode": "lines",
         "type": "scattergeo"
        },
        {
         "lat": [
          40.6678,
          40.721
         ],
         "line": {
          "color": "rgb(117, 174, 255)",
          "width": 1
         },
         "locationmode": "USA-states",
         "lon": [
          -73.7956,
          -74.0033
         ],
         "mode": "lines",
         "type": "scattergeo"
        },
        {
         "lat": [
          40.721,
          40.7764
         ],
         "line": {
          "color": "rgb(117, 174, 255)",
          "width": 1
         },
         "locationmode": "USA-states",
         "lon": [
          -74.0033,
          -73.9598
         ],
         "mode": "lines",
         "type": "scattergeo"
        },
        {
         "lat": [
          40.7764,
          40.7746
         ],
         "line": {
          "color": "rgb(117, 174, 255)",
          "width": 1
         },
         "locationmode": "USA-states",
         "lon": [
          -73.9598,
          -73.9581
         ],
         "mode": "lines",
         "type": "scattergeo"
        },
        {
         "lat": [
          40.7746,
          40.7745
         ],
         "line": {
          "color": "rgb(117, 174, 255)",
          "width": 1
         },
         "locationmode": "USA-states",
         "lon": [
          -73.9581,
          -73.9638
         ],
         "mode": "lines",
         "type": "scattergeo"
        },
        {
         "lat": [
          40.7745,
          40.7224
         ],
         "line": {
          "color": "rgb(117, 174, 255)",
          "width": 1
         },
         "locationmode": "USA-states",
         "lon": [
          -73.9638,
          -73.9935
         ],
         "mode": "lines",
         "type": "scattergeo"
        },
        {
         "lat": [
          40.7224,
          40.7736
         ],
         "line": {
          "color": "rgb(117, 174, 255)",
          "width": 1
         },
         "locationmode": "USA-states",
         "lon": [
          -73.9935,
          -73.9626
         ],
         "mode": "lines",
         "type": "scattergeo"
        },
        {
         "lat": [
          40.7736,
          40.7348
         ],
         "line": {
          "color": "rgb(117, 174, 255)",
          "width": 1
         },
         "locationmode": "USA-states",
         "lon": [
          -73.9626,
          -73.9929
         ],
         "mode": "lines",
         "type": "scattergeo"
        },
        {
         "lat": [
          40.7348,
          40.7605
         ],
         "line": {
          "color": "rgb(117, 174, 255)",
          "width": 1
         },
         "locationmode": "USA-states",
         "lon": [
          -73.9929,
          -73.9991
         ],
         "mode": "lines",
         "type": "scattergeo"
        },
        {
         "lat": [
          40.7605,
          40.6948
         ],
         "line": {
          "color": "rgb(117, 174, 255)",
          "width": 1
         },
         "locationmode": "USA-states",
         "lon": [
          -73.9991,
          -74.1779
         ],
         "mode": "lines",
         "type": "scattergeo"
        },
        {
         "lat": [
          40.6948,
          40.7573
         ],
         "line": {
          "color": "rgb(117, 174, 255)",
          "width": 1
         },
         "locationmode": "USA-states",
         "lon": [
          -74.1779,
          -73.9877
         ],
         "mode": "lines",
         "type": "scattergeo"
        },
        {
         "lat": [
          40.7573,
          40.6949
         ],
         "line": {
          "color": "rgb(117, 174, 255)",
          "width": 1
         },
         "locationmode": "USA-states",
         "lon": [
          -73.9877,
          -74.1781
         ],
         "mode": "lines",
         "type": "scattergeo"
        },
        {
         "lat": [
          40.6949,
          40.6949
         ],
         "line": {
          "color": "rgb(117, 174, 255)",
          "width": 1
         },
         "locationmode": "USA-states",
         "lon": [
          -74.1781,
          -74.1781
         ],
         "mode": "lines",
         "type": "scattergeo"
        },
        {
         "lat": [
          40.6949,
          40.7771
         ],
         "line": {
          "color": "rgb(117, 174, 255)",
          "width": 1
         },
         "locationmode": "USA-states",
         "lon": [
          -74.1781,
          -73.9754
         ],
         "mode": "lines",
         "type": "scattergeo"
        },
        {
         "lat": [
          40.7771,
          40.7584
         ],
         "line": {
          "color": "rgb(117, 174, 255)",
          "width": 1
         },
         "locationmode": "USA-states",
         "lon": [
          -73.9754,
          -73.98899999999999
         ],
         "mode": "lines",
         "type": "scattergeo"
        },
        {
         "lat": [
          40.7584,
          40.755
         ],
         "line": {
          "color": "rgb(117, 174, 255)",
          "width": 1
         },
         "locationmode": "USA-states",
         "lon": [
          -73.98899999999999,
          -73.9878
         ],
         "mode": "lines",
         "type": "scattergeo"
        },
        {
         "lat": [
          40.755,
          40.7226
         ],
         "line": {
          "color": "rgb(117, 174, 255)",
          "width": 1
         },
         "locationmode": "USA-states",
         "lon": [
          -73.9878,
          -74.0004
         ],
         "mode": "lines",
         "type": "scattergeo"
        },
        {
         "lat": [
          40.7226,
          40.774
         ],
         "line": {
          "color": "rgb(117, 174, 255)",
          "width": 1
         },
         "locationmode": "USA-states",
         "lon": [
          -74.0004,
          -73.9607
         ],
         "mode": "lines",
         "type": "scattergeo"
        },
        {
         "lat": [
          40.774,
          40.7718
         ],
         "line": {
          "color": "rgb(117, 174, 255)",
          "width": 1
         },
         "locationmode": "USA-states",
         "lon": [
          -73.9607,
          -73.9654
         ],
         "mode": "lines",
         "type": "scattergeo"
        },
        {
         "lat": [
          40.7718,
          40.7748
         ],
         "line": {
          "color": "rgb(117, 174, 255)",
          "width": 1
         },
         "locationmode": "USA-states",
         "lon": [
          -73.9654,
          -73.991
         ],
         "mode": "lines",
         "type": "scattergeo"
        },
        {
         "lat": [
          40.7748,
          40.775
         ],
         "line": {
          "color": "rgb(117, 174, 255)",
          "width": 1
         },
         "locationmode": "USA-states",
         "lon": [
          -73.991,
          -73.9595
         ],
         "mode": "lines",
         "type": "scattergeo"
        },
        {
         "lat": [
          40.775,
          40.7636
         ],
         "line": {
          "color": "rgb(117, 174, 255)",
          "width": 1
         },
         "locationmode": "USA-states",
         "lon": [
          -73.9595,
          -73.9636
         ],
         "mode": "lines",
         "type": "scattergeo"
        },
        {
         "lat": [
          40.7636,
          40.7743
         ],
         "line": {
          "color": "rgb(117, 174, 255)",
          "width": 1
         },
         "locationmode": "USA-states",
         "lon": [
          -73.9636,
          -73.9847
         ],
         "mode": "lines",
         "type": "scattergeo"
        },
        {
         "lat": [
          40.7743,
          40.7688
         ],
         "line": {
          "color": "rgb(117, 174, 255)",
          "width": 1
         },
         "locationmode": "USA-states",
         "lon": [
          -73.9847,
          -73.8627
         ],
         "mode": "lines",
         "type": "scattergeo"
        },
        {
         "lat": [
          40.7688,
          40.7254
         ],
         "line": {
          "color": "rgb(117, 174, 255)",
          "width": 1
         },
         "locationmode": "USA-states",
         "lon": [
          -73.8627,
          -74.0071
         ],
         "mode": "lines",
         "type": "scattergeo"
        },
        {
         "lat": [
          40.7254,
          40.7534
         ],
         "line": {
          "color": "rgb(117, 174, 255)",
          "width": 1
         },
         "locationmode": "USA-states",
         "lon": [
          -74.0071,
          -73.9748
         ],
         "mode": "lines",
         "type": "scattergeo"
        },
        {
         "lat": [
          40.7534,
          40.7773
         ],
         "line": {
          "color": "rgb(117, 174, 255)",
          "width": 1
         },
         "locationmode": "USA-states",
         "lon": [
          -73.9748,
          -73.9595
         ],
         "mode": "lines",
         "type": "scattergeo"
        },
        {
         "lat": [
          40.7773,
          40.7233
         ],
         "line": {
          "color": "rgb(117, 174, 255)",
          "width": 1
         },
         "locationmode": "USA-states",
         "lon": [
          -73.9595,
          -74.0062
         ],
         "mode": "lines",
         "type": "scattergeo"
        },
        {
         "lat": [
          40.7233,
          40.763000000000005
         ],
         "line": {
          "color": "rgb(117, 174, 255)",
          "width": 1
         },
         "locationmode": "USA-states",
         "lon": [
          -74.0062,
          -73.9781
         ],
         "mode": "lines",
         "type": "scattergeo"
        },
        {
         "lat": [
          40.763000000000005,
          40.7822
         ],
         "line": {
          "color": "rgb(117, 174, 255)",
          "width": 1
         },
         "locationmode": "USA-states",
         "lon": [
          -73.9781,
          -73.9599
         ],
         "mode": "lines",
         "type": "scattergeo"
        },
        {
         "lat": [
          40.7822,
          40.6916
         ],
         "line": {
          "color": "rgb(117, 174, 255)",
          "width": 1
         },
         "locationmode": "USA-states",
         "lon": [
          -73.9599,
          -73.9677
         ],
         "mode": "lines",
         "type": "scattergeo"
        },
        {
         "lat": [
          40.6916,
          40.7577
         ],
         "line": {
          "color": "rgb(117, 174, 255)",
          "width": 1
         },
         "locationmode": "USA-states",
         "lon": [
          -73.9677,
          -73.9694
         ],
         "mode": "lines",
         "type": "scattergeo"
        },
        {
         "lat": [
          40.7577,
          40.7668
         ],
         "line": {
          "color": "rgb(117, 174, 255)",
          "width": 1
         },
         "locationmode": "USA-states",
         "lon": [
          -73.9694,
          -73.9789
         ],
         "mode": "lines",
         "type": "scattergeo"
        },
        {
         "lat": [
          40.7668,
          40.7741
         ],
         "line": {
          "color": "rgb(117, 174, 255)",
          "width": 1
         },
         "locationmode": "USA-states",
         "lon": [
          -73.9789,
          -73.9629
         ],
         "mode": "lines",
         "type": "scattergeo"
        },
        {
         "lat": [
          40.7741,
          40.7271
         ],
         "line": {
          "color": "rgb(117, 174, 255)",
          "width": 1
         },
         "locationmode": "USA-states",
         "lon": [
          -73.9629,
          -74.0058
         ],
         "mode": "lines",
         "type": "scattergeo"
        },
        {
         "lat": [
          40.7271,
          40.7072
         ],
         "line": {
          "color": "rgb(117, 174, 255)",
          "width": 1
         },
         "locationmode": "USA-states",
         "lon": [
          -74.0058,
          -74.0049
         ],
         "mode": "lines",
         "type": "scattergeo"
        },
        {
         "lat": [
          40.7072,
          40.7412
         ],
         "line": {
          "color": "rgb(117, 174, 255)",
          "width": 1
         },
         "locationmode": "USA-states",
         "lon": [
          -74.0049,
          -73.9964
         ],
         "mode": "lines",
         "type": "scattergeo"
        },
        {
         "lat": [
          40.7412,
          40.7883
         ],
         "line": {
          "color": "rgb(117, 174, 255)",
          "width": 1
         },
         "locationmode": "USA-states",
         "lon": [
          -73.9964,
          -74.0456
         ],
         "mode": "lines",
         "type": "scattergeo"
        },
        {
         "lat": [
          40.7883,
          40.7883
         ],
         "line": {
          "color": "rgb(117, 174, 255)",
          "width": 1
         },
         "locationmode": "USA-states",
         "lon": [
          -74.0456,
          -74.0456
         ],
         "mode": "lines",
         "type": "scattergeo"
        },
        {
         "lat": [
          40.7883,
          40.7568
         ],
         "line": {
          "color": "rgb(117, 174, 255)",
          "width": 1
         },
         "locationmode": "USA-states",
         "lon": [
          -74.0456,
          -73.9721
         ],
         "mode": "lines",
         "type": "scattergeo"
        },
        {
         "lat": [
          40.7568,
          40.7624
         ],
         "line": {
          "color": "rgb(117, 174, 255)",
          "width": 1
         },
         "locationmode": "USA-states",
         "lon": [
          -73.9721,
          -73.9728
         ],
         "mode": "lines",
         "type": "scattergeo"
        },
        {
         "lat": [
          40.7624,
          40.7457
         ],
         "line": {
          "color": "rgb(117, 174, 255)",
          "width": 1
         },
         "locationmode": "USA-states",
         "lon": [
          -73.9728,
          -73.9916
         ],
         "mode": "lines",
         "type": "scattergeo"
        },
        {
         "lat": [
          40.7457,
          40.7863
         ],
         "line": {
          "color": "rgb(117, 174, 255)",
          "width": 1
         },
         "locationmode": "USA-states",
         "lon": [
          -73.9916,
          -73.9774
         ],
         "mode": "lines",
         "type": "scattergeo"
        },
        {
         "lat": [
          40.7863,
          40.7593
         ],
         "line": {
          "color": "rgb(117, 174, 255)",
          "width": 1
         },
         "locationmode": "USA-states",
         "lon": [
          -73.9774,
          -73.9721
         ],
         "mode": "lines",
         "type": "scattergeo"
        },
        {
         "lat": [
          40.7593,
          40.7398
         ],
         "line": {
          "color": "rgb(117, 174, 255)",
          "width": 1
         },
         "locationmode": "USA-states",
         "lon": [
          -73.9721,
          -73.9912
         ],
         "mode": "lines",
         "type": "scattergeo"
        },
        {
         "lat": [
          40.7398,
          40.8275
         ],
         "line": {
          "color": "rgb(117, 174, 255)",
          "width": 1
         },
         "locationmode": "USA-states",
         "lon": [
          -73.9912,
          -74.0468
         ],
         "mode": "lines",
         "type": "scattergeo"
        },
        {
         "lat": [
          40.8275,
          40.8275
         ],
         "line": {
          "color": "rgb(117, 174, 255)",
          "width": 1
         },
         "locationmode": "USA-states",
         "lon": [
          -74.0468,
          -74.0468
         ],
         "mode": "lines",
         "type": "scattergeo"
        },
        {
         "lat": [
          40.8275,
          40.7686
         ],
         "line": {
          "color": "rgb(117, 174, 255)",
          "width": 1
         },
         "locationmode": "USA-states",
         "lon": [
          -74.0468,
          -73.9658
         ],
         "mode": "lines",
         "type": "scattergeo"
        },
        {
         "lat": [
          40.7686,
          40.7566
         ],
         "line": {
          "color": "rgb(117, 174, 255)",
          "width": 1
         },
         "locationmode": "USA-states",
         "lon": [
          -73.9658,
          -73.9765
         ],
         "mode": "lines",
         "type": "scattergeo"
        },
        {
         "lat": [
          40.7566,
          40.7103
         ],
         "line": {
          "color": "rgb(117, 174, 255)",
          "width": 1
         },
         "locationmode": "USA-states",
         "lon": [
          -73.9765,
          -73.9846
         ],
         "mode": "lines",
         "type": "scattergeo"
        },
        {
         "lat": [
          40.7103,
          40.7414
         ],
         "line": {
          "color": "rgb(117, 174, 255)",
          "width": 1
         },
         "locationmode": "USA-states",
         "lon": [
          -73.9846,
          -73.9902
         ],
         "mode": "lines",
         "type": "scattergeo"
        },
        {
         "lat": [
          40.7414,
          40.7439
         ],
         "line": {
          "color": "rgb(117, 174, 255)",
          "width": 1
         },
         "locationmode": "USA-states",
         "lon": [
          -73.9902,
          -73.9899
         ],
         "mode": "lines",
         "type": "scattergeo"
        },
        {
         "lat": [
          40.7439,
          40.7619
         ],
         "line": {
          "color": "rgb(117, 174, 255)",
          "width": 1
         },
         "locationmode": "USA-states",
         "lon": [
          -73.9899,
          -73.973
         ],
         "mode": "lines",
         "type": "scattergeo"
        },
        {
         "lat": [
          40.7619,
          40.7201
         ],
         "line": {
          "color": "rgb(117, 174, 255)",
          "width": 1
         },
         "locationmode": "USA-states",
         "lon": [
          -73.973,
          -74.0041
         ],
         "mode": "lines",
         "type": "scattergeo"
        },
        {
         "lat": [
          40.7201,
          40.7329
         ],
         "line": {
          "color": "rgb(117, 174, 255)",
          "width": 1
         },
         "locationmode": "USA-states",
         "lon": [
          -74.0041,
          -73.9913
         ],
         "mode": "lines",
         "type": "scattergeo"
        },
        {
         "lat": [
          40.7329,
          40.7582
         ],
         "line": {
          "color": "rgb(117, 174, 255)",
          "width": 1
         },
         "locationmode": "USA-states",
         "lon": [
          -73.9913,
          -73.9815
         ],
         "mode": "lines",
         "type": "scattergeo"
        },
        {
         "lat": [
          40.7582,
          40.7747
         ],
         "line": {
          "color": "rgb(117, 174, 255)",
          "width": 1
         },
         "locationmode": "USA-states",
         "lon": [
          -73.9815,
          -73.9584
         ],
         "mode": "lines",
         "type": "scattergeo"
        },
        {
         "lat": [
          40.7747,
          40.7775
         ],
         "line": {
          "color": "rgb(117, 174, 255)",
          "width": 1
         },
         "locationmode": "USA-states",
         "lon": [
          -73.9584,
          -73.9612
         ],
         "mode": "lines",
         "type": "scattergeo"
        },
        {
         "lat": [
          40.7775,
          40.773
         ],
         "line": {
          "color": "rgb(117, 174, 255)",
          "width": 1
         },
         "locationmode": "USA-states",
         "lon": [
          -73.9612,
          -73.9802
         ],
         "mode": "lines",
         "type": "scattergeo"
        },
        {
         "lat": [
          40.773,
          40.7392
         ],
         "line": {
          "color": "rgb(117, 174, 255)",
          "width": 1
         },
         "locationmode": "USA-states",
         "lon": [
          -73.9802,
          -73.9991
         ],
         "mode": "lines",
         "type": "scattergeo"
        },
        {
         "lat": [
          40.7392,
          40.7368
         ],
         "line": {
          "color": "rgb(117, 174, 255)",
          "width": 1
         },
         "locationmode": "USA-states",
         "lon": [
          -73.9991,
          -73.9958
         ],
         "mode": "lines",
         "type": "scattergeo"
        },
        {
         "lat": [
          40.7368,
          40.8052
         ],
         "line": {
          "color": "rgb(117, 174, 255)",
          "width": 1
         },
         "locationmode": "USA-states",
         "lon": [
          -73.9958,
          -73.9662
         ],
         "mode": "lines",
         "type": "scattergeo"
        },
        {
         "lat": [
          40.8052,
          40.7205
         ],
         "line": {
          "color": "rgb(117, 174, 255)",
          "width": 1
         },
         "locationmode": "USA-states",
         "lon": [
          -73.9662,
          -74.0031
         ],
         "mode": "lines",
         "type": "scattergeo"
        },
        {
         "lat": [
          40.7205,
          40.7633
         ],
         "line": {
          "color": "rgb(117, 174, 255)",
          "width": 1
         },
         "locationmode": "USA-states",
         "lon": [
          -74.0031,
          -73.9829
         ],
         "mode": "lines",
         "type": "scattergeo"
        },
        {
         "lat": [
          40.7633,
          40.6922
         ],
         "line": {
          "color": "rgb(117, 174, 255)",
          "width": 1
         },
         "locationmode": "USA-states",
         "lon": [
          -73.9829,
          -73.9441
         ],
         "mode": "lines",
         "type": "scattergeo"
        },
        {
         "lat": [
          40.6922,
          40.7476
         ],
         "line": {
          "color": "rgb(117, 174, 255)",
          "width": 1
         },
         "locationmode": "USA-states",
         "lon": [
          -73.9441,
          -73.9969
         ],
         "mode": "lines",
         "type": "scattergeo"
        },
        {
         "lat": [
          40.7476,
          40.7707
         ],
         "line": {
          "color": "rgb(117, 174, 255)",
          "width": 1
         },
         "locationmode": "USA-states",
         "lon": [
          -73.9969,
          -73.9815
         ],
         "mode": "lines",
         "type": "scattergeo"
        },
        {
         "lat": [
          40.7707,
          40.7257
         ],
         "line": {
          "color": "rgb(117, 174, 255)",
          "width": 1
         },
         "locationmode": "USA-states",
         "lon": [
          -73.9815,
          -73.9972
         ],
         "mode": "lines",
         "type": "scattergeo"
        },
        {
         "lat": [
          40.7257,
          40.7611
         ],
         "line": {
          "color": "rgb(117, 174, 255)",
          "width": 1
         },
         "locationmode": "USA-states",
         "lon": [
          -73.9972,
          -73.9754
         ],
         "mode": "lines",
         "type": "scattergeo"
        },
        {
         "lat": [
          40.7611,
          40.7035
         ],
         "line": {
          "color": "rgb(117, 174, 255)",
          "width": 1
         },
         "locationmode": "USA-states",
         "lon": [
          -73.9754,
          -74.0107
         ],
         "mode": "lines",
         "type": "scattergeo"
        },
        {
         "lat": [
          40.7035,
          40.7591
         ],
         "line": {
          "color": "rgb(117, 174, 255)",
          "width": 1
         },
         "locationmode": "USA-states",
         "lon": [
          -74.0107,
          -73.99600000000001
         ],
         "mode": "lines",
         "type": "scattergeo"
        },
        {
         "lat": [
          40.7591,
          40.7419
         ],
         "line": {
          "color": "rgb(117, 174, 255)",
          "width": 1
         },
         "locationmode": "USA-states",
         "lon": [
          -73.99600000000001,
          -74.0036
         ],
         "mode": "lines",
         "type": "scattergeo"
        },
        {
         "lat": [
          40.7419,
          40.755
         ],
         "line": {
          "color": "rgb(117, 174, 255)",
          "width": 1
         },
         "locationmode": "USA-states",
         "lon": [
          -74.0036,
          -73.9746
         ],
         "mode": "lines",
         "type": "scattergeo"
        },
        {
         "lat": [
          40.755,
          40.7472
         ],
         "line": {
          "color": "rgb(117, 174, 255)",
          "width": 1
         },
         "locationmode": "USA-states",
         "lon": [
          -73.9746,
          -73.9863
         ],
         "mode": "lines",
         "type": "scattergeo"
        },
        {
         "lat": [
          40.7472,
          40.7548
         ],
         "line": {
          "color": "rgb(117, 174, 255)",
          "width": 1
         },
         "locationmode": "USA-states",
         "lon": [
          -73.9863,
          -73.9847
         ],
         "mode": "lines",
         "type": "scattergeo"
        },
        {
         "lat": [
          40.7548,
          40.7797
         ],
         "line": {
          "color": "rgb(117, 174, 255)",
          "width": 1
         },
         "locationmode": "USA-states",
         "lon": [
          -73.9847,
          -73.9762
         ],
         "mode": "lines",
         "type": "scattergeo"
        },
        {
         "lat": [
          40.7797,
          40.7323
         ],
         "line": {
          "color": "rgb(117, 174, 255)",
          "width": 1
         },
         "locationmode": "USA-states",
         "lon": [
          -73.9762,
          -74.0076
         ],
         "mode": "lines",
         "type": "scattergeo"
        },
        {
         "lat": [
          40.7323,
          40.7741
         ],
         "line": {
          "color": "rgb(117, 174, 255)",
          "width": 1
         },
         "locationmode": "USA-states",
         "lon": [
          -74.0076,
          -73.8726
         ],
         "mode": "lines",
         "type": "scattergeo"
        },
        {
         "lat": [
          40.7741,
          40.7074
         ],
         "line": {
          "color": "rgb(117, 174, 255)",
          "width": 1
         },
         "locationmode": "USA-states",
         "lon": [
          -73.8726,
          -74.0172
         ],
         "mode": "lines",
         "type": "scattergeo"
        },
        {
         "lat": [
          40.7074,
          40.6334
         ],
         "line": {
          "color": "rgb(117, 174, 255)",
          "width": 1
         },
         "locationmode": "USA-states",
         "lon": [
          -74.0172,
          -73.9954
         ],
         "mode": "lines",
         "type": "scattergeo"
        },
        {
         "lat": [
          40.6334,
          40.71
         ],
         "line": {
          "color": "rgb(117, 174, 255)",
          "width": 1
         },
         "locationmode": "USA-states",
         "lon": [
          -73.9954,
          -74.0114
         ],
         "mode": "lines",
         "type": "scattergeo"
        },
        {
         "lat": [
          40.71,
          40.7386
         ],
         "line": {
          "color": "rgb(117, 174, 255)",
          "width": 1
         },
         "locationmode": "USA-states",
         "lon": [
          -74.0114,
          -73.9897
         ],
         "mode": "lines",
         "type": "scattergeo"
        },
        {
         "lat": [
          40.7386,
          40.7095
         ],
         "line": {
          "color": "rgb(117, 174, 255)",
          "width": 1
         },
         "locationmode": "USA-states",
         "lon": [
          -73.9897,
          -74.0156
         ],
         "mode": "lines",
         "type": "scattergeo"
        },
        {
         "lat": [
          40.7095,
          40.7024
         ],
         "line": {
          "color": "rgb(117, 174, 255)",
          "width": 1
         },
         "locationmode": "USA-states",
         "lon": [
          -74.0156,
          -74.0133
         ],
         "mode": "lines",
         "type": "scattergeo"
        },
        {
         "lat": [
          40.7024,
          40.7581
         ],
         "line": {
          "color": "rgb(117, 174, 255)",
          "width": 1
         },
         "locationmode": "USA-states",
         "lon": [
          -74.0133,
          -73.9619
         ],
         "mode": "lines",
         "type": "scattergeo"
        },
        {
         "lat": [
          40.7581,
          40.7685
         ],
         "line": {
          "color": "rgb(117, 174, 255)",
          "width": 1
         },
         "locationmode": "USA-states",
         "lon": [
          -73.9619,
          -73.8625
         ],
         "mode": "lines",
         "type": "scattergeo"
        },
        {
         "lat": [
          40.7685,
          40.7389
         ],
         "line": {
          "color": "rgb(117, 174, 255)",
          "width": 1
         },
         "locationmode": "USA-states",
         "lon": [
          -73.8625,
          -73.9874
         ],
         "mode": "lines",
         "type": "scattergeo"
        },
        {
         "lat": [
          40.7389,
          40.7736
         ],
         "line": {
          "color": "rgb(117, 174, 255)",
          "width": 1
         },
         "locationmode": "USA-states",
         "lon": [
          -73.9874,
          -73.8716
         ],
         "mode": "lines",
         "type": "scattergeo"
        },
        {
         "lat": [
          40.7736,
          40.7154
         ],
         "line": {
          "color": "rgb(117, 174, 255)",
          "width": 1
         },
         "locationmode": "USA-states",
         "lon": [
          -73.8716,
          -74.0163
         ],
         "mode": "lines",
         "type": "scattergeo"
        },
        {
         "lat": [
          40.7154,
          40.7599
         ],
         "line": {
          "color": "rgb(117, 174, 255)",
          "width": 1
         },
         "locationmode": "USA-states",
         "lon": [
          -74.0163,
          -73.9804
         ],
         "mode": "lines",
         "type": "scattergeo"
        },
        {
         "lat": [
          40.7599,
          40.7559
         ],
         "line": {
          "color": "rgb(117, 174, 255)",
          "width": 1
         },
         "locationmode": "USA-states",
         "lon": [
          -73.9804,
          -73.9874
         ],
         "mode": "lines",
         "type": "scattergeo"
        },
        {
         "lat": [
          40.7559,
          40.7852
         ],
         "line": {
          "color": "rgb(117, 174, 255)",
          "width": 1
         },
         "locationmode": "USA-states",
         "lon": [
          -73.9874,
          -74.02199999999999
         ],
         "mode": "lines",
         "type": "scattergeo"
        },
        {
         "lat": [
          40.7852,
          40.7852
         ],
         "line": {
          "color": "rgb(117, 174, 255)",
          "width": 1
         },
         "locationmode": "USA-states",
         "lon": [
          -74.02199999999999,
          -74.02199999999999
         ],
         "mode": "lines",
         "type": "scattergeo"
        },
        {
         "lat": [
          40.7852,
          40.6878
         ],
         "line": {
          "color": "rgb(117, 174, 255)",
          "width": 1
         },
         "locationmode": "USA-states",
         "lon": [
          -74.02199999999999,
          -74.1817
         ],
         "mode": "lines",
         "type": "scattergeo"
        },
        {
         "lat": [
          40.6878,
          40.6864
         ],
         "line": {
          "color": "rgb(117, 174, 255)",
          "width": 1
         },
         "locationmode": "USA-states",
         "lon": [
          -74.1817,
          -73.9747
         ],
         "mode": "lines",
         "type": "scattergeo"
        },
        {
         "lat": [
          40.6864,
          40.8289
         ],
         "line": {
          "color": "rgb(117, 174, 255)",
          "width": 1
         },
         "locationmode": "USA-states",
         "lon": [
          -73.9747,
          -73.9451
         ],
         "mode": "lines",
         "type": "scattergeo"
        },
        {
         "lat": [
          40.8289,
          40.8289
         ],
         "line": {
          "color": "rgb(117, 174, 255)",
          "width": 1
         },
         "locationmode": "USA-states",
         "lon": [
          -73.9451,
          -73.9451
         ],
         "mode": "lines",
         "type": "scattergeo"
        },
        {
         "lat": [
          40.8289,
          40.7672
         ],
         "line": {
          "color": "rgb(117, 174, 255)",
          "width": 1
         },
         "locationmode": "USA-states",
         "lon": [
          -73.9451,
          -73.9682
         ],
         "mode": "lines",
         "type": "scattergeo"
        },
        {
         "lat": [
          40.7672,
          40.7498
         ],
         "line": {
          "color": "rgb(117, 174, 255)",
          "width": 1
         },
         "locationmode": "USA-states",
         "lon": [
          -73.9682,
          -73.9816
         ],
         "mode": "lines",
         "type": "scattergeo"
        },
        {
         "lat": [
          40.7498,
          40.6751
         ],
         "line": {
          "color": "rgb(117, 174, 255)",
          "width": 1
         },
         "locationmode": "USA-states",
         "lon": [
          -73.9816,
          -73.8016
         ],
         "mode": "lines",
         "type": "scattergeo"
        },
        {
         "lat": [
          40.6751,
          40.7544
         ],
         "line": {
          "color": "rgb(117, 174, 255)",
          "width": 1
         },
         "locationmode": "USA-states",
         "lon": [
          -73.8016,
          -73.9692
         ],
         "mode": "lines",
         "type": "scattergeo"
        },
        {
         "lat": [
          40.7544,
          40.7685
         ],
         "line": {
          "color": "rgb(117, 174, 255)",
          "width": 1
         },
         "locationmode": "USA-states",
         "lon": [
          -73.9692,
          -73.9535
         ],
         "mode": "lines",
         "type": "scattergeo"
        },
        {
         "lat": [
          40.7685,
          40.7684
         ],
         "line": {
          "color": "rgb(117, 174, 255)",
          "width": 1
         },
         "locationmode": "USA-states",
         "lon": [
          -73.9535,
          -73.9599
         ],
         "mode": "lines",
         "type": "scattergeo"
        },
        {
         "lat": [
          40.7684,
          40.7728
         ],
         "line": {
          "color": "rgb(117, 174, 255)",
          "width": 1
         },
         "locationmode": "USA-states",
         "lon": [
          -73.9599,
          -73.9673
         ],
         "mode": "lines",
         "type": "scattergeo"
        },
        {
         "lat": [
          40.7728,
          40.7702
         ],
         "line": {
          "color": "rgb(117, 174, 255)",
          "width": 1
         },
         "locationmode": "USA-states",
         "lon": [
          -73.9673,
          -73.9577
         ],
         "mode": "lines",
         "type": "scattergeo"
        },
        {
         "lat": [
          40.7702,
          40.7647
         ],
         "line": {
          "color": "rgb(117, 174, 255)",
          "width": 1
         },
         "locationmode": "USA-states",
         "lon": [
          -73.9577,
          -73.9796
         ],
         "mode": "lines",
         "type": "scattergeo"
        },
        {
         "lat": [
          40.7647,
          40.7868
         ],
         "line": {
          "color": "rgb(117, 174, 255)",
          "width": 1
         },
         "locationmode": "USA-states",
         "lon": [
          -73.9796,
          -73.972
         ],
         "mode": "lines",
         "type": "scattergeo"
        },
        {
         "lat": [
          40.7868,
          40.7178
         ],
         "line": {
          "color": "rgb(117, 174, 255)",
          "width": 1
         },
         "locationmode": "USA-states",
         "lon": [
          -73.972,
          -74.0035
         ],
         "mode": "lines",
         "type": "scattergeo"
        },
        {
         "lat": [
          40.7178,
          40.7732
         ],
         "line": {
          "color": "rgb(117, 174, 255)",
          "width": 1
         },
         "locationmode": "USA-states",
         "lon": [
          -74.0035,
          -73.8857
         ],
         "mode": "lines",
         "type": "scattergeo"
        },
        {
         "lat": [
          40.7732,
          40.7257
         ],
         "line": {
          "color": "rgb(117, 174, 255)",
          "width": 1
         },
         "locationmode": "USA-states",
         "lon": [
          -73.8857,
          -73.9919
         ],
         "mode": "lines",
         "type": "scattergeo"
        },
        {
         "lat": [
          40.7257,
          40.695
         ],
         "line": {
          "color": "rgb(117, 174, 255)",
          "width": 1
         },
         "locationmode": "USA-states",
         "lon": [
          -73.9919,
          -74.178
         ],
         "mode": "lines",
         "type": "scattergeo"
        },
        {
         "lat": [
          40.695,
          40.7644
         ],
         "line": {
          "color": "rgb(117, 174, 255)",
          "width": 1
         },
         "locationmode": "USA-states",
         "lon": [
          -74.178,
          -73.9796
         ],
         "mode": "lines",
         "type": "scattergeo"
        },
        {
         "lat": [
          40.7644,
          40.7641
         ],
         "line": {
          "color": "rgb(117, 174, 255)",
          "width": 1
         },
         "locationmode": "USA-states",
         "lon": [
          -73.9796,
          -73.9766
         ],
         "mode": "lines",
         "type": "scattergeo"
        },
        {
         "lat": [
          40.7641,
          40.723
         ],
         "line": {
          "color": "rgb(117, 174, 255)",
          "width": 1
         },
         "locationmode": "USA-states",
         "lon": [
          -73.9766,
          -74.0012
         ],
         "mode": "lines",
         "type": "scattergeo"
        },
        {
         "lat": [
          40.723,
          40.7326
         ],
         "line": {
          "color": "rgb(117, 174, 255)",
          "width": 1
         },
         "locationmode": "USA-states",
         "lon": [
          -74.0012,
          -73.9935
         ],
         "mode": "lines",
         "type": "scattergeo"
        },
        {
         "lat": [
          40.7326,
          40.7569
         ],
         "line": {
          "color": "rgb(117, 174, 255)",
          "width": 1
         },
         "locationmode": "USA-states",
         "lon": [
          -73.9935,
          -73.9742
         ],
         "mode": "lines",
         "type": "scattergeo"
        },
        {
         "lat": [
          40.7569,
          40.7622
         ],
         "line": {
          "color": "rgb(117, 174, 255)",
          "width": 1
         },
         "locationmode": "USA-states",
         "lon": [
          -73.9742,
          -73.9788
         ],
         "mode": "lines",
         "type": "scattergeo"
        },
        {
         "lat": [
          40.7622,
          40.7785
         ],
         "line": {
          "color": "rgb(117, 174, 255)",
          "width": 1
         },
         "locationmode": "USA-states",
         "lon": [
          -73.9788,
          -73.9533
         ],
         "mode": "lines",
         "type": "scattergeo"
        },
        {
         "lat": [
          40.7785,
          40.7447
         ],
         "line": {
          "color": "rgb(117, 174, 255)",
          "width": 1
         },
         "locationmode": "USA-states",
         "lon": [
          -73.9533,
          -73.9873
         ],
         "mode": "lines",
         "type": "scattergeo"
        },
        {
         "lat": [
          40.7447,
          40.7191
         ],
         "line": {
          "color": "rgb(117, 174, 255)",
          "width": 1
         },
         "locationmode": "USA-states",
         "lon": [
          -73.9873,
          -73.9973
         ],
         "mode": "lines",
         "type": "scattergeo"
        },
        {
         "lat": [
          40.7191,
          40.7031
         ],
         "line": {
          "color": "rgb(117, 174, 255)",
          "width": 1
         },
         "locationmode": "USA-states",
         "lon": [
          -73.9973,
          -73.9853
         ],
         "mode": "lines",
         "type": "scattergeo"
        },
        {
         "lat": [
          40.7031,
          40.9148
         ],
         "line": {
          "color": "rgb(117, 174, 255)",
          "width": 1
         },
         "locationmode": "USA-states",
         "lon": [
          -73.9853,
          -74.2213
         ],
         "mode": "lines",
         "type": "scattergeo"
        },
        {
         "lat": [
          40.9148,
          40.7649
         ],
         "line": {
          "color": "rgb(117, 174, 255)",
          "width": 1
         },
         "locationmode": "USA-states",
         "lon": [
          -74.2213,
          -73.9708
         ],
         "mode": "lines",
         "type": "scattergeo"
        },
        {
         "lat": [
          40.7649,
          40.7521
         ],
         "line": {
          "color": "rgb(117, 174, 255)",
          "width": 1
         },
         "locationmode": "USA-states",
         "lon": [
          -73.9708,
          -73.9756
         ],
         "mode": "lines",
         "type": "scattergeo"
        },
        {
         "lat": [
          40.7521,
          40.7374
         ],
         "line": {
          "color": "rgb(117, 174, 255)",
          "width": 1
         },
         "locationmode": "USA-states",
         "lon": [
          -73.9756,
          -74.0008
         ],
         "mode": "lines",
         "type": "scattergeo"
        },
        {
         "lat": [
          40.7374,
          40.7749
         ],
         "line": {
          "color": "rgb(117, 174, 255)",
          "width": 1
         },
         "locationmode": "USA-states",
         "lon": [
          -74.0008,
          -73.9639
         ],
         "mode": "lines",
         "type": "scattergeo"
        },
        {
         "lat": [
          40.7749,
          40.7763
         ],
         "line": {
          "color": "rgb(117, 174, 255)",
          "width": 1
         },
         "locationmode": "USA-states",
         "lon": [
          -73.9639,
          -73.9621
         ],
         "mode": "lines",
         "type": "scattergeo"
        },
        {
         "lat": [
          40.7763,
          40.749
         ],
         "line": {
          "color": "rgb(117, 174, 255)",
          "width": 1
         },
         "locationmode": "USA-states",
         "lon": [
          -73.9621,
          -74.0029
         ],
         "mode": "lines",
         "type": "scattergeo"
        },
        {
         "lat": [
          40.749,
          40.7276
         ],
         "line": {
          "color": "rgb(117, 174, 255)",
          "width": 1
         },
         "locationmode": "USA-states",
         "lon": [
          -74.0029,
          -74.0349
         ],
         "mode": "lines",
         "type": "scattergeo"
        },
        {
         "lat": [
          40.7276,
          40.7276
         ],
         "line": {
          "color": "rgb(117, 174, 255)",
          "width": 1
         },
         "locationmode": "USA-states",
         "lon": [
          -74.0349,
          -74.0349
         ],
         "mode": "lines",
         "type": "scattergeo"
        },
        {
         "lat": [
          40.7276,
          40.7631
         ],
         "line": {
          "color": "rgb(117, 174, 255)",
          "width": 1
         },
         "locationmode": "USA-states",
         "lon": [
          -74.0349,
          -73.9842
         ],
         "mode": "lines",
         "type": "scattergeo"
        },
        {
         "lat": [
          40.7631,
          40.7601
         ],
         "line": {
          "color": "rgb(117, 174, 255)",
          "width": 1
         },
         "locationmode": "USA-states",
         "lon": [
          -73.9842,
          -73.9669
         ],
         "mode": "lines",
         "type": "scattergeo"
        },
        {
         "lat": [
          40.7601,
          40.8791
         ],
         "line": {
          "color": "rgb(117, 174, 255)",
          "width": 1
         },
         "locationmode": "USA-states",
         "lon": [
          -73.9669,
          -73.8811
         ],
         "mode": "lines",
         "type": "scattergeo"
        },
        {
         "lat": [
          40.8791,
          40.771
         ],
         "line": {
          "color": "rgb(117, 174, 255)",
          "width": 1
         },
         "locationmode": "USA-states",
         "lon": [
          -73.8811,
          -73.866
         ],
         "mode": "lines",
         "type": "scattergeo"
        },
        {
         "lat": [
          40.771,
          40.7364
         ],
         "line": {
          "color": "rgb(117, 174, 255)",
          "width": 1
         },
         "locationmode": "USA-states",
         "lon": [
          -73.866,
          -74.0099
         ],
         "mode": "lines",
         "type": "scattergeo"
        },
        {
         "lat": [
          40.7364,
          40.7657
         ],
         "line": {
          "color": "rgb(117, 174, 255)",
          "width": 1
         },
         "locationmode": "USA-states",
         "lon": [
          -74.0099,
          -73.9549
         ],
         "mode": "lines",
         "type": "scattergeo"
        },
        {
         "lat": [
          40.7657,
          40.75
         ],
         "line": {
          "color": "rgb(117, 174, 255)",
          "width": 1
         },
         "locationmode": "USA-states",
         "lon": [
          -73.9549,
          -73.9757
         ],
         "mode": "lines",
         "type": "scattergeo"
        },
        {
         "lat": [
          40.75,
          40.7397
         ],
         "line": {
          "color": "rgb(117, 174, 255)",
          "width": 1
         },
         "locationmode": "USA-states",
         "lon": [
          -73.9757,
          -73.9857
         ],
         "mode": "lines",
         "type": "scattergeo"
        },
        {
         "lat": [
          40.7397,
          40.779
         ],
         "line": {
          "color": "rgb(117, 174, 255)",
          "width": 1
         },
         "locationmode": "USA-states",
         "lon": [
          -73.9857,
          -74.42
         ],
         "mode": "lines",
         "type": "scattergeo"
        },
        {
         "lat": [
          40.779,
          40.7273
         ],
         "line": {
          "color": "rgb(117, 174, 255)",
          "width": 1
         },
         "locationmode": "USA-states",
         "lon": [
          -74.42,
          -74.0007
         ],
         "mode": "lines",
         "type": "scattergeo"
        },
        {
         "lat": [
          40.7273,
          40.7684
         ],
         "line": {
          "color": "rgb(117, 174, 255)",
          "width": 1
         },
         "locationmode": "USA-states",
         "lon": [
          -74.0007,
          -73.8624
         ],
         "mode": "lines",
         "type": "scattergeo"
        },
        {
         "lat": [
          40.7684,
          40.7393
         ],
         "line": {
          "color": "rgb(117, 174, 255)",
          "width": 1
         },
         "locationmode": "USA-states",
         "lon": [
          -73.8624,
          -73.9954
         ],
         "mode": "lines",
         "type": "scattergeo"
        },
        {
         "lat": [
          40.7393,
          40.7382
         ],
         "line": {
          "color": "rgb(117, 174, 255)",
          "width": 1
         },
         "locationmode": "USA-states",
         "lon": [
          -73.9954,
          -74.0078
         ],
         "mode": "lines",
         "type": "scattergeo"
        },
        {
         "lat": [
          40.7382,
          40.7187
         ],
         "line": {
          "color": "rgb(117, 174, 255)",
          "width": 1
         },
         "locationmode": "USA-states",
         "lon": [
          -74.0078,
          -74.0024
         ],
         "mode": "lines",
         "type": "scattergeo"
        },
        {
         "lat": [
          40.7187,
          40.7618
         ],
         "line": {
          "color": "rgb(117, 174, 255)",
          "width": 1
         },
         "locationmode": "USA-states",
         "lon": [
          -74.0024,
          -73.9752
         ],
         "mode": "lines",
         "type": "scattergeo"
        },
        {
         "lat": [
          40.7618,
          40.7851
         ],
         "line": {
          "color": "rgb(117, 174, 255)",
          "width": 1
         },
         "locationmode": "USA-states",
         "lon": [
          -73.9752,
          -73.9538
         ],
         "mode": "lines",
         "type": "scattergeo"
        },
        {
         "lat": [
          40.7851,
          40.7851
         ],
         "line": {
          "color": "rgb(117, 174, 255)",
          "width": 1
         },
         "locationmode": "USA-states",
         "lon": [
          -73.9538,
          -73.9538
         ],
         "mode": "lines",
         "type": "scattergeo"
        },
        {
         "lat": [
          40.7851,
          40.742
         ],
         "line": {
          "color": "rgb(117, 174, 255)",
          "width": 1
         },
         "locationmode": "USA-states",
         "lon": [
          -73.9538,
          -73.985
         ],
         "mode": "lines",
         "type": "scattergeo"
        },
        {
         "lat": [
          40.742,
          40.7458
         ],
         "line": {
          "color": "rgb(117, 174, 255)",
          "width": 1
         },
         "locationmode": "USA-states",
         "lon": [
          -73.985,
          -73.987
         ],
         "mode": "lines",
         "type": "scattergeo"
        },
        {
         "lat": [
          40.7458,
          40.7699
         ],
         "line": {
          "color": "rgb(117, 174, 255)",
          "width": 1
         },
         "locationmode": "USA-states",
         "lon": [
          -73.987,
          -73.9589
         ],
         "mode": "lines",
         "type": "scattergeo"
        },
        {
         "lat": [
          40.7699,
          40.76
         ],
         "line": {
          "color": "rgb(117, 174, 255)",
          "width": 1
         },
         "locationmode": "USA-states",
         "lon": [
          -73.9589,
          -73.9839
         ],
         "mode": "lines",
         "type": "scattergeo"
        },
        {
         "lat": [
          40.76,
          40.9155
         ],
         "line": {
          "color": "rgb(117, 174, 255)",
          "width": 1
         },
         "locationmode": "USA-states",
         "lon": [
          -73.9839,
          -74.0761
         ],
         "mode": "lines",
         "type": "scattergeo"
        },
        {
         "lat": [
          40.9155,
          40.7516
         ],
         "line": {
          "color": "rgb(117, 174, 255)",
          "width": 1
         },
         "locationmode": "USA-states",
         "lon": [
          -74.0761,
          -73.9739
         ],
         "mode": "lines",
         "type": "scattergeo"
        },
        {
         "lat": [
          40.7516,
          40.774
         ],
         "line": {
          "color": "rgb(117, 174, 255)",
          "width": 1
         },
         "locationmode": "USA-states",
         "lon": [
          -73.9739,
          -73.8733
         ],
         "mode": "lines",
         "type": "scattergeo"
        },
        {
         "lat": [
          40.774,
          40.7565
         ],
         "line": {
          "color": "rgb(117, 174, 255)",
          "width": 1
         },
         "locationmode": "USA-states",
         "lon": [
          -73.8733,
          -73.9843
         ],
         "mode": "lines",
         "type": "scattergeo"
        },
        {
         "lat": [
          40.7565,
          40.7195
         ],
         "line": {
          "color": "rgb(117, 174, 255)",
          "width": 1
         },
         "locationmode": "USA-states",
         "lon": [
          -73.9843,
          -74.0123
         ],
         "mode": "lines",
         "type": "scattergeo"
        },
        {
         "lat": [
          40.7195,
          40.7529
         ],
         "line": {
          "color": "rgb(117, 174, 255)",
          "width": 1
         },
         "locationmode": "USA-states",
         "lon": [
          -74.0123,
          -73.9855
         ],
         "mode": "lines",
         "type": "scattergeo"
        },
        {
         "lat": [
          40.7529,
          40.7501
         ],
         "line": {
          "color": "rgb(117, 174, 255)",
          "width": 1
         },
         "locationmode": "USA-states",
         "lon": [
          -73.9855,
          -73.9761
         ],
         "mode": "lines",
         "type": "scattergeo"
        },
        {
         "lat": [
          40.7501,
          40.7197
         ],
         "line": {
          "color": "rgb(117, 174, 255)",
          "width": 1
         },
         "locationmode": "USA-states",
         "lon": [
          -73.9761,
          -73.9917
         ],
         "mode": "lines",
         "type": "scattergeo"
        },
        {
         "lat": [
          40.7197,
          40.7619
         ],
         "line": {
          "color": "rgb(117, 174, 255)",
          "width": 1
         },
         "locationmode": "USA-states",
         "lon": [
          -73.9917,
          -73.9729
         ],
         "mode": "lines",
         "type": "scattergeo"
        },
        {
         "lat": [
          40.7619,
          40.783
         ],
         "line": {
          "color": "rgb(117, 174, 255)",
          "width": 1
         },
         "locationmode": "USA-states",
         "lon": [
          -73.9729,
          -73.95100000000001
         ],
         "mode": "lines",
         "type": "scattergeo"
        },
        {
         "lat": [
          40.783,
          40.7319
         ],
         "line": {
          "color": "rgb(117, 174, 255)",
          "width": 1
         },
         "locationmode": "USA-states",
         "lon": [
          -73.95100000000001,
          -73.9877
         ],
         "mode": "lines",
         "type": "scattergeo"
        },
        {
         "lat": [
          40.7319,
          40.7538
         ],
         "line": {
          "color": "rgb(117, 174, 255)",
          "width": 1
         },
         "locationmode": "USA-states",
         "lon": [
          -73.9877,
          -73.9926
         ],
         "mode": "lines",
         "type": "scattergeo"
        },
        {
         "lat": [
          40.7538,
          40.7189
         ],
         "line": {
          "color": "rgb(117, 174, 255)",
          "width": 1
         },
         "locationmode": "USA-states",
         "lon": [
          -73.9926,
          -74.0065
         ],
         "mode": "lines",
         "type": "scattergeo"
        },
        {
         "lat": [
          40.7189,
          40.7455
         ],
         "line": {
          "color": "rgb(117, 174, 255)",
          "width": 1
         },
         "locationmode": "USA-states",
         "lon": [
          -74.0065,
          -73.988
         ],
         "mode": "lines",
         "type": "scattergeo"
        },
        {
         "lat": [
          40.7455,
          40.753
         ],
         "line": {
          "color": "rgb(117, 174, 255)",
          "width": 1
         },
         "locationmode": "USA-states",
         "lon": [
          -73.988,
          -74.0248
         ],
         "mode": "lines",
         "type": "scattergeo"
        },
        {
         "lat": [
          40.753,
          40.753
         ],
         "line": {
          "color": "rgb(117, 174, 255)",
          "width": 1
         },
         "locationmode": "USA-states",
         "lon": [
          -74.0248,
          -74.0248
         ],
         "mode": "lines",
         "type": "scattergeo"
        },
        {
         "lat": [
          40.753,
          40.7646
         ],
         "line": {
          "color": "rgb(117, 174, 255)",
          "width": 1
         },
         "locationmode": "USA-states",
         "lon": [
          -74.0248,
          -73.9686
         ],
         "mode": "lines",
         "type": "scattergeo"
        },
        {
         "lat": [
          40.7646,
          40.7692
         ],
         "line": {
          "color": "rgb(117, 174, 255)",
          "width": 1
         },
         "locationmode": "USA-states",
         "lon": [
          -73.9686,
          -73.9829
         ],
         "mode": "lines",
         "type": "scattergeo"
        },
        {
         "lat": [
          40.7692,
          40.7275
         ],
         "line": {
          "color": "rgb(117, 174, 255)",
          "width": 1
         },
         "locationmode": "USA-states",
         "lon": [
          -73.9829,
          -74.0088
         ],
         "mode": "lines",
         "type": "scattergeo"
        },
        {
         "lat": [
          40.7275,
          40.7494
         ],
         "line": {
          "color": "rgb(117, 174, 255)",
          "width": 1
         },
         "locationmode": "USA-states",
         "lon": [
          -74.0088,
          -73.9923
         ],
         "mode": "lines",
         "type": "scattergeo"
        },
        {
         "lat": [
          40.7494,
          40.6957
         ],
         "line": {
          "color": "rgb(117, 174, 255)",
          "width": 1
         },
         "locationmode": "USA-states",
         "lon": [
          -73.9923,
          -73.9872
         ],
         "mode": "lines",
         "type": "scattergeo"
        },
        {
         "lat": [
          40.6957,
          40.695
         ],
         "line": {
          "color": "rgb(117, 174, 255)",
          "width": 1
         },
         "locationmode": "USA-states",
         "lon": [
          -73.9872,
          -74.1784
         ],
         "mode": "lines",
         "type": "scattergeo"
        },
        {
         "lat": [
          40.695,
          40.7739
         ],
         "line": {
          "color": "rgb(117, 174, 255)",
          "width": 1
         },
         "locationmode": "USA-states",
         "lon": [
          -74.1784,
          -73.8728
         ],
         "mode": "lines",
         "type": "scattergeo"
        },
        {
         "lat": [
          40.7739,
          40.7757
         ],
         "line": {
          "color": "rgb(117, 174, 255)",
          "width": 1
         },
         "locationmode": "USA-states",
         "lon": [
          -73.8728,
          -73.4202
         ],
         "mode": "lines",
         "type": "scattergeo"
        },
        {
         "lat": [
          40.7757,
          40.7651
         ],
         "line": {
          "color": "rgb(117, 174, 255)",
          "width": 1
         },
         "locationmode": "USA-states",
         "lon": [
          -73.4202,
          -73.9531
         ],
         "mode": "lines",
         "type": "scattergeo"
        },
        {
         "lat": [
          40.7651,
          40.7663
         ],
         "line": {
          "color": "rgb(117, 174, 255)",
          "width": 1
         },
         "locationmode": "USA-states",
         "lon": [
          -73.9531,
          -73.9251
         ],
         "mode": "lines",
         "type": "scattergeo"
        },
        {
         "lat": [
          40.7663,
          40.7177
         ],
         "line": {
          "color": "rgb(117, 174, 255)",
          "width": 1
         },
         "locationmode": "USA-states",
         "lon": [
          -73.9251,
          -73.9966
         ],
         "mode": "lines",
         "type": "scattergeo"
        },
        {
         "lat": [
          40.7177,
          40.78
         ],
         "line": {
          "color": "rgb(117, 174, 255)",
          "width": 1
         },
         "locationmode": "USA-states",
         "lon": [
          -73.9966,
          -73.961
         ],
         "mode": "lines",
         "type": "scattergeo"
        },
        {
         "lat": [
          40.78,
          40.7741
         ],
         "line": {
          "color": "rgb(117, 174, 255)",
          "width": 1
         },
         "locationmode": "USA-states",
         "lon": [
          -73.961,
          -73.8727
         ],
         "mode": "lines",
         "type": "scattergeo"
        },
        {
         "lat": [
          40.7741,
          40.7385
         ],
         "line": {
          "color": "rgb(117, 174, 255)",
          "width": 1
         },
         "locationmode": "USA-states",
         "lon": [
          -73.8727,
          -73.9854
         ],
         "mode": "lines",
         "type": "scattergeo"
        },
        {
         "lat": [
          40.7385,
          40.7685
         ],
         "line": {
          "color": "rgb(117, 174, 255)",
          "width": 1
         },
         "locationmode": "USA-states",
         "lon": [
          -73.9854,
          -73.8624
         ],
         "mode": "lines",
         "type": "scattergeo"
        },
        {
         "lat": [
          40.7685,
          40.6926
         ],
         "line": {
          "color": "rgb(117, 174, 255)",
          "width": 1
         },
         "locationmode": "USA-states",
         "lon": [
          -73.8624,
          -73.9873
         ],
         "mode": "lines",
         "type": "scattergeo"
        },
        {
         "lat": [
          40.6926,
          40.7346
         ],
         "line": {
          "color": "rgb(117, 174, 255)",
          "width": 1
         },
         "locationmode": "USA-states",
         "lon": [
          -73.9873,
          -73.9963
         ],
         "mode": "lines",
         "type": "scattergeo"
        },
        {
         "lat": [
          40.7346,
          40.775999999999996
         ],
         "line": {
          "color": "rgb(117, 174, 255)",
          "width": 1
         },
         "locationmode": "USA-states",
         "lon": [
          -73.9963,
          -73.9441
         ],
         "mode": "lines",
         "type": "scattergeo"
        },
        {
         "lat": [
          40.775999999999996,
          40.7211
         ],
         "line": {
          "color": "rgb(117, 174, 255)",
          "width": 1
         },
         "locationmode": "USA-states",
         "lon": [
          -73.9441,
          -74.0005
         ],
         "mode": "lines",
         "type": "scattergeo"
        },
        {
         "lat": [
          40.7211,
          40.7026
         ],
         "line": {
          "color": "rgb(117, 174, 255)",
          "width": 1
         },
         "locationmode": "USA-states",
         "lon": [
          -74.0005,
          -74.0126
         ],
         "mode": "lines",
         "type": "scattergeo"
        },
        {
         "lat": [
          40.7026,
          40.768
         ],
         "line": {
          "color": "rgb(117, 174, 255)",
          "width": 1
         },
         "locationmode": "USA-states",
         "lon": [
          -74.0126,
          -73.9523
         ],
         "mode": "lines",
         "type": "scattergeo"
        },
        {
         "lat": [
          40.768,
          40.7485
         ],
         "line": {
          "color": "rgb(117, 174, 255)",
          "width": 1
         },
         "locationmode": "USA-states",
         "lon": [
          -73.9523,
          -74.0061
         ],
         "mode": "lines",
         "type": "scattergeo"
        },
        {
         "lat": [
          40.7485,
          40.7568
         ],
         "line": {
          "color": "rgb(117, 174, 255)",
          "width": 1
         },
         "locationmode": "USA-states",
         "lon": [
          -74.0061,
          -73.9717
         ],
         "mode": "lines",
         "type": "scattergeo"
        },
        {
         "lat": [
          40.7568,
          40.7617
         ],
         "line": {
          "color": "rgb(117, 174, 255)",
          "width": 1
         },
         "locationmode": "USA-states",
         "lon": [
          -73.9717,
          -73.9838
         ],
         "mode": "lines",
         "type": "scattergeo"
        },
        {
         "lat": [
          40.7617,
          40.774
         ],
         "line": {
          "color": "rgb(117, 174, 255)",
          "width": 1
         },
         "locationmode": "USA-states",
         "lon": [
          -73.9838,
          -73.8728
         ],
         "mode": "lines",
         "type": "scattergeo"
        },
        {
         "lat": [
          40.774,
          40.6919
         ],
         "line": {
          "color": "rgb(117, 174, 255)",
          "width": 1
         },
         "locationmode": "USA-states",
         "lon": [
          -73.8728,
          -73.9966
         ],
         "mode": "lines",
         "type": "scattergeo"
        },
        {
         "lat": [
          40.6919,
          40.7754
         ],
         "line": {
          "color": "rgb(117, 174, 255)",
          "width": 1
         },
         "locationmode": "USA-states",
         "lon": [
          -73.9966,
          -73.9905
         ],
         "mode": "lines",
         "type": "scattergeo"
        },
        {
         "lat": [
          40.7754,
          40.7515
         ],
         "line": {
          "color": "rgb(117, 174, 255)",
          "width": 1
         },
         "locationmode": "USA-states",
         "lon": [
          -73.9905,
          -73.993
         ],
         "mode": "lines",
         "type": "scattergeo"
        },
        {
         "lat": [
          40.7515,
          40.7719
         ],
         "line": {
          "color": "rgb(117, 174, 255)",
          "width": 1
         },
         "locationmode": "USA-states",
         "lon": [
          -73.993,
          -73.9655
         ],
         "mode": "lines",
         "type": "scattergeo"
        },
        {
         "lat": [
          40.7719,
          40.7739
         ],
         "line": {
          "color": "rgb(117, 174, 255)",
          "width": 1
         },
         "locationmode": "USA-states",
         "lon": [
          -73.9655,
          -73.8724
         ],
         "mode": "lines",
         "type": "scattergeo"
        },
        {
         "lat": [
          40.7739,
          40.6946
         ],
         "line": {
          "color": "rgb(117, 174, 255)",
          "width": 1
         },
         "locationmode": "USA-states",
         "lon": [
          -73.8724,
          -74.1775
         ],
         "mode": "lines",
         "type": "scattergeo"
        },
        {
         "lat": [
          40.6946,
          40.7331
         ],
         "line": {
          "color": "rgb(117, 174, 255)",
          "width": 1
         },
         "locationmode": "USA-states",
         "lon": [
          -74.1775,
          -73.9998
         ],
         "mode": "lines",
         "type": "scattergeo"
        },
        {
         "lat": [
          40.7331,
          40.7732
         ],
         "line": {
          "color": "rgb(117, 174, 255)",
          "width": 1
         },
         "locationmode": "USA-states",
         "lon": [
          -73.9998,
          -73.8856
         ],
         "mode": "lines",
         "type": "scattergeo"
        },
        {
         "lat": [
          40.7732,
          40.7417
         ],
         "line": {
          "color": "rgb(117, 174, 255)",
          "width": 1
         },
         "locationmode": "USA-states",
         "lon": [
          -73.8856,
          -73.9894
         ],
         "mode": "lines",
         "type": "scattergeo"
        },
        {
         "lat": [
          40.7417,
          40.7325
         ],
         "line": {
          "color": "rgb(117, 174, 255)",
          "width": 1
         },
         "locationmode": "USA-states",
         "lon": [
          -73.9894,
          -74.0018
         ],
         "mode": "lines",
         "type": "scattergeo"
        },
        {
         "lat": [
          40.7325,
          40.764
         ],
         "line": {
          "color": "rgb(117, 174, 255)",
          "width": 1
         },
         "locationmode": "USA-states",
         "lon": [
          -74.0018,
          -73.9685
         ],
         "mode": "lines",
         "type": "scattergeo"
        },
        {
         "lat": [
          40.764,
          40.7577
         ],
         "line": {
          "color": "rgb(117, 174, 255)",
          "width": 1
         },
         "locationmode": "USA-states",
         "lon": [
          -73.9685,
          -73.9723
         ],
         "mode": "lines",
         "type": "scattergeo"
        },
        {
         "lat": [
          40.7577,
          40.6953
         ],
         "line": {
          "color": "rgb(117, 174, 255)",
          "width": 1
         },
         "locationmode": "USA-states",
         "lon": [
          -73.9723,
          -74.1783
         ],
         "mode": "lines",
         "type": "scattergeo"
        },
        {
         "lat": [
          40.6953,
          40.7572
         ],
         "line": {
          "color": "rgb(117, 174, 255)",
          "width": 1
         },
         "locationmode": "USA-states",
         "lon": [
          -74.1783,
          -73.9841
         ],
         "mode": "lines",
         "type": "scattergeo"
        },
        {
         "lat": [
          40.7572,
          40.8056
         ],
         "line": {
          "color": "rgb(117, 174, 255)",
          "width": 1
         },
         "locationmode": "USA-states",
         "lon": [
          -73.9841,
          -74.3923
         ],
         "mode": "lines",
         "type": "scattergeo"
        },
        {
         "lat": [
          40.8056,
          40.7595
         ],
         "line": {
          "color": "rgb(117, 174, 255)",
          "width": 1
         },
         "locationmode": "USA-states",
         "lon": [
          -74.3923,
          -73.9736
         ],
         "mode": "lines",
         "type": "scattergeo"
        },
        {
         "lat": [
          40.7595,
          40.7853
         ],
         "line": {
          "color": "rgb(117, 174, 255)",
          "width": 1
         },
         "locationmode": "USA-states",
         "lon": [
          -73.9736,
          -73.9556
         ],
         "mode": "lines",
         "type": "scattergeo"
        },
        {
         "lat": [
          40.7853,
          40.7853
         ],
         "line": {
          "color": "rgb(117, 174, 255)",
          "width": 1
         },
         "locationmode": "USA-states",
         "lon": [
          -73.9556,
          -73.9556
         ],
         "mode": "lines",
         "type": "scattergeo"
        },
        {
         "lat": [
          40.7853,
          40.7244
         ],
         "line": {
          "color": "rgb(117, 174, 255)",
          "width": 1
         },
         "locationmode": "USA-states",
         "lon": [
          -73.9556,
          -74.0007
         ],
         "mode": "lines",
         "type": "scattergeo"
        },
        {
         "lat": [
          40.7244,
          40.7196
         ],
         "line": {
          "color": "rgb(117, 174, 255)",
          "width": 1
         },
         "locationmode": "USA-states",
         "lon": [
          -74.0007,
          -74.0006
         ],
         "mode": "lines",
         "type": "scattergeo"
        },
        {
         "lat": [
          40.7196,
          40.7691
         ],
         "line": {
          "color": "rgb(117, 174, 255)",
          "width": 1
         },
         "locationmode": "USA-states",
         "lon": [
          -74.0006,
          -73.9812
         ],
         "mode": "lines",
         "type": "scattergeo"
        },
        {
         "lat": [
          40.7691,
          40.7516
         ],
         "line": {
          "color": "rgb(117, 174, 255)",
          "width": 1
         },
         "locationmode": "USA-states",
         "lon": [
          -73.9812,
          -73.9909
         ],
         "mode": "lines",
         "type": "scattergeo"
        },
        {
         "lat": [
          40.7516,
          40.7677
         ],
         "line": {
          "color": "rgb(117, 174, 255)",
          "width": 1
         },
         "locationmode": "USA-states",
         "lon": [
          -73.9909,
          -73.9657
         ],
         "mode": "lines",
         "type": "scattergeo"
        },
        {
         "lat": [
          40.7677,
          40.7546
         ],
         "line": {
          "color": "rgb(117, 174, 255)",
          "width": 1
         },
         "locationmode": "USA-states",
         "lon": [
          -73.9657,
          -73.96600000000001
         ],
         "mode": "lines",
         "type": "scattergeo"
        },
        {
         "lat": [
          40.7546,
          40.7578
         ],
         "line": {
          "color": "rgb(117, 174, 255)",
          "width": 1
         },
         "locationmode": "USA-states",
         "lon": [
          -73.96600000000001,
          -73.9893
         ],
         "mode": "lines",
         "type": "scattergeo"
        },
        {
         "lat": [
          40.7578,
          40.7619
         ],
         "line": {
          "color": "rgb(117, 174, 255)",
          "width": 1
         },
         "locationmode": "USA-states",
         "lon": [
          -73.9893,
          -73.9791
         ],
         "mode": "lines",
         "type": "scattergeo"
        },
        {
         "lat": [
          40.7619,
          40.7397
         ],
         "line": {
          "color": "rgb(117, 174, 255)",
          "width": 1
         },
         "locationmode": "USA-states",
         "lon": [
          -73.9791,
          -73.9867
         ],
         "mode": "lines",
         "type": "scattergeo"
        },
        {
         "lat": [
          40.7397,
          40.7275
         ],
         "line": {
          "color": "rgb(117, 174, 255)",
          "width": 1
         },
         "locationmode": "USA-states",
         "lon": [
          -73.9867,
          -74.001
         ],
         "mode": "lines",
         "type": "scattergeo"
        },
        {
         "lat": [
          40.7275,
          40.7694
         ],
         "line": {
          "color": "rgb(117, 174, 255)",
          "width": 1
         },
         "locationmode": "USA-states",
         "lon": [
          -74.001,
          -73.9658
         ],
         "mode": "lines",
         "type": "scattergeo"
        },
        {
         "lat": [
          40.7694,
          40.8005
         ],
         "line": {
          "color": "rgb(117, 174, 255)",
          "width": 1
         },
         "locationmode": "USA-states",
         "lon": [
          -73.9658,
          -73.9693
         ],
         "mode": "lines",
         "type": "scattergeo"
        },
        {
         "lat": [
          40.8005,
          40.645
         ],
         "line": {
          "color": "rgb(117, 174, 255)",
          "width": 1
         },
         "locationmode": "USA-states",
         "lon": [
          -73.9693,
          -73.7819
         ],
         "mode": "lines",
         "type": "scattergeo"
        },
        {
         "lat": [
          40.645,
          40.9651
         ],
         "line": {
          "color": "rgb(117, 174, 255)",
          "width": 1
         },
         "locationmode": "USA-states",
         "lon": [
          -73.7819,
          -74.0736
         ],
         "mode": "lines",
         "type": "scattergeo"
        },
        {
         "lat": [
          40.9651,
          40.7705
         ],
         "line": {
          "color": "rgb(117, 174, 255)",
          "width": 1
         },
         "locationmode": "USA-states",
         "lon": [
          -74.0736,
          -73.9662
         ],
         "mode": "lines",
         "type": "scattergeo"
        },
        {
         "lat": [
          40.7705,
          40.6833
         ],
         "line": {
          "color": "rgb(117, 174, 255)",
          "width": 1
         },
         "locationmode": "USA-states",
         "lon": [
          -73.9662,
          -73.9768
         ],
         "mode": "lines",
         "type": "scattergeo"
        },
        {
         "lat": [
          40.6833,
          40.7797
         ],
         "line": {
          "color": "rgb(117, 174, 255)",
          "width": 1
         },
         "locationmode": "USA-states",
         "lon": [
          -73.9768,
          -74.0097
         ],
         "mode": "lines",
         "type": "scattergeo"
        },
        {
         "lat": [
          40.7797,
          40.7598
         ],
         "line": {
          "color": "rgb(117, 174, 255)",
          "width": 1
         },
         "locationmode": "USA-states",
         "lon": [
          -74.0097,
          -73.9915
         ],
         "mode": "lines",
         "type": "scattergeo"
        },
        {
         "lat": [
          40.7598,
          40.6448
         ],
         "line": {
          "color": "rgb(117, 174, 255)",
          "width": 1
         },
         "locationmode": "USA-states",
         "lon": [
          -73.9915,
          -73.7826
         ],
         "mode": "lines",
         "type": "scattergeo"
        },
        {
         "lat": [
          40.6448,
          40.7407
         ],
         "line": {
          "color": "rgb(117, 174, 255)",
          "width": 1
         },
         "locationmode": "USA-states",
         "lon": [
          -73.7826,
          -73.9869
         ],
         "mode": "lines",
         "type": "scattergeo"
        },
        {
         "lat": [
          40.7407,
          40.7754
         ],
         "line": {
          "color": "rgb(117, 174, 255)",
          "width": 1
         },
         "locationmode": "USA-states",
         "lon": [
          -73.9869,
          -73.9628
         ],
         "mode": "lines",
         "type": "scattergeo"
        },
        {
         "lat": [
          40.7754,
          40.7104
         ],
         "line": {
          "color": "rgb(117, 174, 255)",
          "width": 1
         },
         "locationmode": "USA-states",
         "lon": [
          -73.9628,
          -73.9847
         ],
         "mode": "lines",
         "type": "scattergeo"
        },
        {
         "lat": [
          40.7104,
          40.7198
         ],
         "line": {
          "color": "rgb(117, 174, 255)",
          "width": 1
         },
         "locationmode": "USA-states",
         "lon": [
          -73.9847,
          -74.0051
         ],
         "mode": "lines",
         "type": "scattergeo"
        },
        {
         "lat": [
          40.7198,
          40.7103
         ],
         "line": {
          "color": "rgb(117, 174, 255)",
          "width": 1
         },
         "locationmode": "USA-states",
         "lon": [
          -74.0051,
          -73.9846
         ],
         "mode": "lines",
         "type": "scattergeo"
        },
        {
         "lat": [
          40.7103,
          40.6931
         ],
         "line": {
          "color": "rgb(117, 174, 255)",
          "width": 1
         },
         "locationmode": "USA-states",
         "lon": [
          -73.9846,
          -74.1834
         ],
         "mode": "lines",
         "type": "scattergeo"
        },
        {
         "lat": [
          40.6931,
          40.7394
         ],
         "line": {
          "color": "rgb(117, 174, 255)",
          "width": 1
         },
         "locationmode": "USA-states",
         "lon": [
          -74.1834,
          -74.0062
         ],
         "mode": "lines",
         "type": "scattergeo"
        },
        {
         "lat": [
          40.7394,
          40.7647
         ],
         "line": {
          "color": "rgb(117, 174, 255)",
          "width": 1
         },
         "locationmode": "USA-states",
         "lon": [
          -74.0062,
          -73.9706
         ],
         "mode": "lines",
         "type": "scattergeo"
        },
        {
         "lat": [
          40.7647,
          40.7642
         ],
         "line": {
          "color": "rgb(117, 174, 255)",
          "width": 1
         },
         "locationmode": "USA-states",
         "lon": [
          -73.9706,
          -73.9632
         ],
         "mode": "lines",
         "type": "scattergeo"
        },
        {
         "lat": [
          40.7642,
          40.6951
         ],
         "line": {
          "color": "rgb(117, 174, 255)",
          "width": 1
         },
         "locationmode": "USA-states",
         "lon": [
          -73.9632,
          -74.1787
         ],
         "mode": "lines",
         "type": "scattergeo"
        },
        {
         "lat": [
          40.6951,
          40.7585
         ],
         "line": {
          "color": "rgb(117, 174, 255)",
          "width": 1
         },
         "locationmode": "USA-states",
         "lon": [
          -74.1787,
          -73.9697
         ],
         "mode": "lines",
         "type": "scattergeo"
        },
        {
         "lat": [
          40.7585,
          40.7504
         ],
         "line": {
          "color": "rgb(117, 174, 255)",
          "width": 1
         },
         "locationmode": "USA-states",
         "lon": [
          -73.9697,
          -73.9945
         ],
         "mode": "lines",
         "type": "scattergeo"
        },
        {
         "lat": [
          40.7504,
          40.7682
         ],
         "line": {
          "color": "rgb(117, 174, 255)",
          "width": 1
         },
         "locationmode": "USA-states",
         "lon": [
          -73.9945,
          -73.953
         ],
         "mode": "lines",
         "type": "scattergeo"
        },
        {
         "lat": [
          40.7682,
          40.7247
         ],
         "line": {
          "color": "rgb(117, 174, 255)",
          "width": 1
         },
         "locationmode": "USA-states",
         "lon": [
          -73.953,
          -74.0022
         ],
         "mode": "lines",
         "type": "scattergeo"
        },
        {
         "lat": [
          40.7247,
          40.7145
         ],
         "line": {
          "color": "rgb(117, 174, 255)",
          "width": 1
         },
         "locationmode": "USA-states",
         "lon": [
          -74.0022,
          -74.0025
         ],
         "mode": "lines",
         "type": "scattergeo"
        },
        {
         "lat": [
          40.7145,
          40.7593
         ],
         "line": {
          "color": "rgb(117, 174, 255)",
          "width": 1
         },
         "locationmode": "USA-states",
         "lon": [
          -74.0025,
          -73.9745
         ],
         "mode": "lines",
         "type": "scattergeo"
        },
        {
         "lat": [
          40.7593,
          40.7284
         ],
         "line": {
          "color": "rgb(117, 174, 255)",
          "width": 1
         },
         "locationmode": "USA-states",
         "lon": [
          -73.9745,
          -74.0071
         ],
         "mode": "lines",
         "type": "scattergeo"
        },
        {
         "lat": [
          40.7284,
          40.7079
         ],
         "line": {
          "color": "rgb(117, 174, 255)",
          "width": 1
         },
         "locationmode": "USA-states",
         "lon": [
          -74.0071,
          -74.0093
         ],
         "mode": "lines",
         "type": "scattergeo"
        },
        {
         "lat": [
          40.7079,
          40.7692
         ],
         "line": {
          "color": "rgb(117, 174, 255)",
          "width": 1
         },
         "locationmode": "USA-states",
         "lon": [
          -74.0093,
          -73.9631
         ],
         "mode": "lines",
         "type": "scattergeo"
        },
        {
         "lat": [
          40.7692,
          40.7644
         ],
         "line": {
          "color": "rgb(117, 174, 255)",
          "width": 1
         },
         "locationmode": "USA-states",
         "lon": [
          -73.9631,
          -73.953
         ],
         "mode": "lines",
         "type": "scattergeo"
        },
        {
         "lat": [
          40.7644,
          40.7553
         ],
         "line": {
          "color": "rgb(117, 174, 255)",
          "width": 1
         },
         "locationmode": "USA-states",
         "lon": [
          -73.953,
          -73.9795
         ],
         "mode": "lines",
         "type": "scattergeo"
        },
        {
         "lat": [
          40.7553,
          40.7551
         ],
         "line": {
          "color": "rgb(117, 174, 255)",
          "width": 1
         },
         "locationmode": "USA-states",
         "lon": [
          -73.9795,
          -73.9622
         ],
         "mode": "lines",
         "type": "scattergeo"
        },
        {
         "lat": [
          40.7551,
          40.7741
         ],
         "line": {
          "color": "rgb(117, 174, 255)",
          "width": 1
         },
         "locationmode": "USA-states",
         "lon": [
          -73.9622,
          -73.8727
         ],
         "mode": "lines",
         "type": "scattergeo"
        },
        {
         "lat": [
          40.7741,
          40.7545
         ],
         "line": {
          "color": "rgb(117, 174, 255)",
          "width": 1
         },
         "locationmode": "USA-states",
         "lon": [
          -73.8727,
          -73.9757
         ],
         "mode": "lines",
         "type": "scattergeo"
        },
        {
         "lat": [
          40.7545,
          40.7355
         ],
         "line": {
          "color": "rgb(117, 174, 255)",
          "width": 1
         },
         "locationmode": "USA-states",
         "lon": [
          -73.9757,
          -73.9755
         ],
         "mode": "lines",
         "type": "scattergeo"
        },
        {
         "lat": [
          40.7355,
          40.771
         ],
         "line": {
          "color": "rgb(117, 174, 255)",
          "width": 1
         },
         "locationmode": "USA-states",
         "lon": [
          -73.9755,
          -73.866
         ],
         "mode": "lines",
         "type": "scattergeo"
        },
        {
         "lat": [
          40.771,
          40.7755
         ],
         "line": {
          "color": "rgb(117, 174, 255)",
          "width": 1
         },
         "locationmode": "USA-states",
         "lon": [
          -73.866,
          -73.9558
         ],
         "mode": "lines",
         "type": "scattergeo"
        },
        {
         "lat": [
          40.7755,
          40.7283
         ],
         "line": {
          "color": "rgb(117, 174, 255)",
          "width": 1
         },
         "locationmode": "USA-states",
         "lon": [
          -73.9558,
          -73.9869
         ],
         "mode": "lines",
         "type": "scattergeo"
        },
        {
         "lat": [
          40.7283,
          40.7577
         ],
         "line": {
          "color": "rgb(117, 174, 255)",
          "width": 1
         },
         "locationmode": "USA-states",
         "lon": [
          -73.9869,
          -73.9902
         ],
         "mode": "lines",
         "type": "scattergeo"
        },
        {
         "lat": [
          40.7577,
          40.764
         ],
         "line": {
          "color": "rgb(117, 174, 255)",
          "width": 1
         },
         "locationmode": "USA-states",
         "lon": [
          -73.9902,
          -73.9825
         ],
         "mode": "lines",
         "type": "scattergeo"
        },
        {
         "lat": [
          40.764,
          40.7644
         ],
         "line": {
          "color": "rgb(117, 174, 255)",
          "width": 1
         },
         "locationmode": "USA-states",
         "lon": [
          -73.9825,
          -73.9806
         ],
         "mode": "lines",
         "type": "scattergeo"
        },
        {
         "lat": [
          40.7644,
          40.8092
         ],
         "line": {
          "color": "rgb(117, 174, 255)",
          "width": 1
         },
         "locationmode": "USA-states",
         "lon": [
          -73.9806,
          -73.9536
         ],
         "mode": "lines",
         "type": "scattergeo"
        },
        {
         "lat": [
          40.8092,
          40.7708
         ],
         "line": {
          "color": "rgb(117, 174, 255)",
          "width": 1
         },
         "locationmode": "USA-states",
         "lon": [
          -73.9536,
          -73.8658
         ],
         "mode": "lines",
         "type": "scattergeo"
        },
        {
         "lat": [
          40.7708,
          40.7556
         ],
         "line": {
          "color": "rgb(117, 174, 255)",
          "width": 1
         },
         "locationmode": "USA-states",
         "lon": [
          -73.8658,
          -73.9716
         ],
         "mode": "lines",
         "type": "scattergeo"
        },
        {
         "lat": [
          40.7556,
          40.7578
         ],
         "line": {
          "color": "rgb(117, 174, 255)",
          "width": 1
         },
         "locationmode": "USA-states",
         "lon": [
          -73.9716,
          -73.9739
         ],
         "mode": "lines",
         "type": "scattergeo"
        },
        {
         "lat": [
          40.7578,
          40.7557
         ],
         "line": {
          "color": "rgb(117, 174, 255)",
          "width": 1
         },
         "locationmode": "USA-states",
         "lon": [
          -73.9739,
          -73.97399999999999
         ],
         "mode": "lines",
         "type": "scattergeo"
        },
        {
         "lat": [
          40.7557,
          40.7101
         ],
         "line": {
          "color": "rgb(117, 174, 255)",
          "width": 1
         },
         "locationmode": "USA-states",
         "lon": [
          -73.97399999999999,
          -73.9849
         ],
         "mode": "lines",
         "type": "scattergeo"
        },
        {
         "lat": [
          40.7101,
          40.7798
         ],
         "line": {
          "color": "rgb(117, 174, 255)",
          "width": 1
         },
         "locationmode": "USA-states",
         "lon": [
          -73.9849,
          -73.96
         ],
         "mode": "lines",
         "type": "scattergeo"
        },
        {
         "lat": [
          40.7798,
          40.7798
         ],
         "line": {
          "color": "rgb(117, 174, 255)",
          "width": 1
         },
         "locationmode": "USA-states",
         "lon": [
          -73.96,
          -73.96
         ],
         "mode": "lines",
         "type": "scattergeo"
        },
        {
         "lat": [
          40.7798,
          40.8247
         ],
         "line": {
          "color": "rgb(117, 174, 255)",
          "width": 1
         },
         "locationmode": "USA-states",
         "lon": [
          -73.96,
          -73.9735
         ],
         "mode": "lines",
         "type": "scattergeo"
        },
        {
         "lat": [
          40.8247,
          40.7416
         ],
         "line": {
          "color": "rgb(117, 174, 255)",
          "width": 1
         },
         "locationmode": "USA-states",
         "lon": [
          -73.9735,
          -74.0067
         ],
         "mode": "lines",
         "type": "scattergeo"
        },
        {
         "lat": [
          40.7416,
          40.7624
         ],
         "line": {
          "color": "rgb(117, 174, 255)",
          "width": 1
         },
         "locationmode": "USA-states",
         "lon": [
          -74.0067,
          -73.9744
         ],
         "mode": "lines",
         "type": "scattergeo"
        },
        {
         "lat": [
          40.7624,
          40.7644
         ],
         "line": {
          "color": "rgb(117, 174, 255)",
          "width": 1
         },
         "locationmode": "USA-states",
         "lon": [
          -73.9744,
          -73.9727
         ],
         "mode": "lines",
         "type": "scattergeo"
        },
        {
         "lat": [
          40.7644,
          40.7641
         ],
         "line": {
          "color": "rgb(117, 174, 255)",
          "width": 1
         },
         "locationmode": "USA-states",
         "lon": [
          -73.9727,
          -73.977
         ],
         "mode": "lines",
         "type": "scattergeo"
        },
        {
         "lat": [
          40.7641,
          40.745
         ],
         "line": {
          "color": "rgb(117, 174, 255)",
          "width": 1
         },
         "locationmode": "USA-states",
         "lon": [
          -73.977,
          -73.985
         ],
         "mode": "lines",
         "type": "scattergeo"
        },
        {
         "lat": [
          40.745,
          40.7617
         ],
         "line": {
          "color": "rgb(117, 174, 255)",
          "width": 1
         },
         "locationmode": "USA-states",
         "lon": [
          -73.985,
          -73.973
         ],
         "mode": "lines",
         "type": "scattergeo"
        },
        {
         "lat": [
          40.7617,
          40.7636
         ],
         "line": {
          "color": "rgb(117, 174, 255)",
          "width": 1
         },
         "locationmode": "USA-states",
         "lon": [
          -73.973,
          -73.9735
         ],
         "mode": "lines",
         "type": "scattergeo"
        },
        {
         "lat": [
          40.7636,
          40.7413
         ],
         "line": {
          "color": "rgb(117, 174, 255)",
          "width": 1
         },
         "locationmode": "USA-states",
         "lon": [
          -73.9735,
          -74.0062
         ],
         "mode": "lines",
         "type": "scattergeo"
        },
        {
         "lat": [
          40.7413,
          40.7866
         ],
         "line": {
          "color": "rgb(117, 174, 255)",
          "width": 1
         },
         "locationmode": "USA-states",
         "lon": [
          -74.0062,
          -73.9547
         ],
         "mode": "lines",
         "type": "scattergeo"
        },
        {
         "lat": [
          40.7866,
          40.7824
         ],
         "line": {
          "color": "rgb(117, 174, 255)",
          "width": 1
         },
         "locationmode": "USA-states",
         "lon": [
          -73.9547,
          -73.9466
         ],
         "mode": "lines",
         "type": "scattergeo"
        },
        {
         "lat": [
          40.7824,
          40.7616
         ],
         "line": {
          "color": "rgb(117, 174, 255)",
          "width": 1
         },
         "locationmode": "USA-states",
         "lon": [
          -73.9466,
          -73.9686
         ],
         "mode": "lines",
         "type": "scattergeo"
        },
        {
         "lat": [
          40.7616,
          40.7566
         ],
         "line": {
          "color": "rgb(117, 174, 255)",
          "width": 1
         },
         "locationmode": "USA-states",
         "lon": [
          -73.9686,
          -73.9788
         ],
         "mode": "lines",
         "type": "scattergeo"
        },
        {
         "lat": [
          40.7566,
          40.6339
         ],
         "line": {
          "color": "rgb(117, 174, 255)",
          "width": 1
         },
         "locationmode": "USA-states",
         "lon": [
          -73.9788,
          -74.0131
         ],
         "mode": "lines",
         "type": "scattergeo"
        },
        {
         "lat": [
          40.6339,
          40.7274
         ],
         "line": {
          "color": "rgb(117, 174, 255)",
          "width": 1
         },
         "locationmode": "USA-states",
         "lon": [
          -74.0131,
          -74.0073
         ],
         "mode": "lines",
         "type": "scattergeo"
        },
        {
         "lat": [
          40.7274,
          40.7739
         ],
         "line": {
          "color": "rgb(117, 174, 255)",
          "width": 1
         },
         "locationmode": "USA-states",
         "lon": [
          -74.0073,
          -73.8715
         ],
         "mode": "lines",
         "type": "scattergeo"
        },
        {
         "lat": [
          40.7739,
          40.7671
         ],
         "line": {
          "color": "rgb(117, 174, 255)",
          "width": 1
         },
         "locationmode": "USA-states",
         "lon": [
          -73.8715,
          -73.9875
         ],
         "mode": "lines",
         "type": "scattergeo"
        },
        {
         "lat": [
          40.7671,
          40.6951
         ],
         "line": {
          "color": "rgb(117, 174, 255)",
          "width": 1
         },
         "locationmode": "USA-states",
         "lon": [
          -73.9875,
          -74.1783
         ],
         "mode": "lines",
         "type": "scattergeo"
        },
        {
         "lat": [
          40.6951,
          40.7731
         ],
         "line": {
          "color": "rgb(117, 174, 255)",
          "width": 1
         },
         "locationmode": "USA-states",
         "lon": [
          -74.1783,
          -73.9893
         ],
         "mode": "lines",
         "type": "scattergeo"
        },
        {
         "lat": [
          40.7731,
          40.7122
         ],
         "line": {
          "color": "rgb(117, 174, 255)",
          "width": 1
         },
         "locationmode": "USA-states",
         "lon": [
          -73.9893,
          -73.998
         ],
         "mode": "lines",
         "type": "scattergeo"
        },
        {
         "lat": [
          40.7122,
          40.6956
         ],
         "line": {
          "color": "rgb(117, 174, 255)",
          "width": 1
         },
         "locationmode": "USA-states",
         "lon": [
          -73.998,
          -74.1779
         ],
         "mode": "lines",
         "type": "scattergeo"
        },
        {
         "lat": [
          40.6956,
          40.6433
         ],
         "line": {
          "color": "rgb(117, 174, 255)",
          "width": 1
         },
         "locationmode": "USA-states",
         "lon": [
          -74.1779,
          -73.7895
         ],
         "mode": "lines",
         "type": "scattergeo"
        },
        {
         "lat": [
          40.6433,
          40.7556
         ],
         "line": {
          "color": "rgb(117, 174, 255)",
          "width": 1
         },
         "locationmode": "USA-states",
         "lon": [
          -73.7895,
          -73.9753
         ],
         "mode": "lines",
         "type": "scattergeo"
        },
        {
         "lat": [
          40.7556,
          40.7593
         ],
         "line": {
          "color": "rgb(117, 174, 255)",
          "width": 1
         },
         "locationmode": "USA-states",
         "lon": [
          -73.9753,
          -73.9708
         ],
         "mode": "lines",
         "type": "scattergeo"
        },
        {
         "lat": [
          40.7593,
          40.7619
         ],
         "line": {
          "color": "rgb(117, 174, 255)",
          "width": 1
         },
         "locationmode": "USA-states",
         "lon": [
          -73.9708,
          -73.9726
         ],
         "mode": "lines",
         "type": "scattergeo"
        },
        {
         "lat": [
          40.7619,
          40.7729
         ],
         "line": {
          "color": "rgb(117, 174, 255)",
          "width": 1
         },
         "locationmode": "USA-states",
         "lon": [
          -73.9726,
          -73.9599
         ],
         "mode": "lines",
         "type": "scattergeo"
        },
        {
         "lat": [
          40.7729,
          40.7616
         ],
         "line": {
          "color": "rgb(117, 174, 255)",
          "width": 1
         },
         "locationmode": "USA-states",
         "lon": [
          -73.9599,
          -73.9754
         ],
         "mode": "lines",
         "type": "scattergeo"
        },
        {
         "lat": [
          40.7616,
          40.7207
         ],
         "line": {
          "color": "rgb(117, 174, 255)",
          "width": 1
         },
         "locationmode": "USA-states",
         "lon": [
          -73.9754,
          -74.0031
         ],
         "mode": "lines",
         "type": "scattergeo"
        },
        {
         "lat": [
          40.7207,
          40.6449
         ],
         "line": {
          "color": "rgb(117, 174, 255)",
          "width": 1
         },
         "locationmode": "USA-states",
         "lon": [
          -74.0031,
          -73.7823
         ],
         "mode": "lines",
         "type": "scattergeo"
        },
        {
         "lat": [
          40.6449,
          40.7413
         ],
         "line": {
          "color": "rgb(117, 174, 255)",
          "width": 1
         },
         "locationmode": "USA-states",
         "lon": [
          -73.7823,
          -73.9947
         ],
         "mode": "lines",
         "type": "scattergeo"
        },
        {
         "lat": [
          40.7413,
          40.7658
         ],
         "line": {
          "color": "rgb(117, 174, 255)",
          "width": 1
         },
         "locationmode": "USA-states",
         "lon": [
          -73.9947,
          -73.9802
         ],
         "mode": "lines",
         "type": "scattergeo"
        },
        {
         "lat": [
          40.7658,
          40.7623
         ],
         "line": {
          "color": "rgb(117, 174, 255)",
          "width": 1
         },
         "locationmode": "USA-states",
         "lon": [
          -73.9802,
          -73.9788
         ],
         "mode": "lines",
         "type": "scattergeo"
        },
        {
         "lat": [
          40.7623,
          40.744
         ],
         "line": {
          "color": "rgb(117, 174, 255)",
          "width": 1
         },
         "locationmode": "USA-states",
         "lon": [
          -73.9788,
          -73.9954
         ],
         "mode": "lines",
         "type": "scattergeo"
        },
        {
         "lat": [
          40.744,
          40.7799
         ],
         "line": {
          "color": "rgb(117, 174, 255)",
          "width": 1
         },
         "locationmode": "USA-states",
         "lon": [
          -73.9954,
          -73.9608
         ],
         "mode": "lines",
         "type": "scattergeo"
        },
        {
         "lat": [
          40.7799,
          40.7591
         ],
         "line": {
          "color": "rgb(117, 174, 255)",
          "width": 1
         },
         "locationmode": "USA-states",
         "lon": [
          -73.9608,
          -73.9724
         ],
         "mode": "lines",
         "type": "scattergeo"
        },
        {
         "lat": [
          40.7591,
          40.7573
         ],
         "line": {
          "color": "rgb(117, 174, 255)",
          "width": 1
         },
         "locationmode": "USA-states",
         "lon": [
          -73.9724,
          -73.9712
         ],
         "mode": "lines",
         "type": "scattergeo"
        },
        {
         "lat": [
          40.7573,
          40.7573
         ],
         "line": {
          "color": "rgb(117, 174, 255)",
          "width": 1
         },
         "locationmode": "USA-states",
         "lon": [
          -73.9712,
          -73.9712
         ],
         "mode": "lines",
         "type": "scattergeo"
        },
        {
         "lat": [
          40.7573,
          40.7576
         ],
         "line": {
          "color": "rgb(117, 174, 255)",
          "width": 1
         },
         "locationmode": "USA-states",
         "lon": [
          -73.9712,
          -73.9696
         ],
         "mode": "lines",
         "type": "scattergeo"
        },
        {
         "lat": [
          40.7576,
          40.7052
         ],
         "line": {
          "color": "rgb(117, 174, 255)",
          "width": 1
         },
         "locationmode": "USA-states",
         "lon": [
          -73.9696,
          -74.01
         ],
         "mode": "lines",
         "type": "scattergeo"
        },
        {
         "lat": [
          40.7052,
          40.7371
         ],
         "line": {
          "color": "rgb(117, 174, 255)",
          "width": 1
         },
         "locationmode": "USA-states",
         "lon": [
          -74.01,
          -74.1794
         ],
         "mode": "lines",
         "type": "scattergeo"
        },
        {
         "lat": [
          40.7371,
          40.7375
         ],
         "line": {
          "color": "rgb(117, 174, 255)",
          "width": 1
         },
         "locationmode": "USA-states",
         "lon": [
          -74.1794,
          -74.0053
         ],
         "mode": "lines",
         "type": "scattergeo"
        },
        {
         "lat": [
          40.7375,
          40.7541
         ],
         "line": {
          "color": "rgb(117, 174, 255)",
          "width": 1
         },
         "locationmode": "USA-states",
         "lon": [
          -74.0053,
          -73.99600000000001
         ],
         "mode": "lines",
         "type": "scattergeo"
        },
        {
         "lat": [
          40.7541,
          40.7435
         ],
         "line": {
          "color": "rgb(117, 174, 255)",
          "width": 1
         },
         "locationmode": "USA-states",
         "lon": [
          -73.99600000000001,
          -73.9834
         ],
         "mode": "lines",
         "type": "scattergeo"
        },
        {
         "lat": [
          40.7435,
          40.758
         ],
         "line": {
          "color": "rgb(117, 174, 255)",
          "width": 1
         },
         "locationmode": "USA-states",
         "lon": [
          -73.9834,
          -73.9751
         ],
         "mode": "lines",
         "type": "scattergeo"
        },
        {
         "lat": [
          40.758,
          40.7608
         ],
         "line": {
          "color": "rgb(117, 174, 255)",
          "width": 1
         },
         "locationmode": "USA-states",
         "lon": [
          -73.9751,
          -73.9839
         ],
         "mode": "lines",
         "type": "scattergeo"
        },
        {
         "lat": [
          40.7608,
          40.7109
         ],
         "line": {
          "color": "rgb(117, 174, 255)",
          "width": 1
         },
         "locationmode": "USA-states",
         "lon": [
          -73.9839,
          -74.0112
         ],
         "mode": "lines",
         "type": "scattergeo"
        },
        {
         "lat": [
          40.7109,
          40.7742
         ],
         "line": {
          "color": "rgb(117, 174, 255)",
          "width": 1
         },
         "locationmode": "USA-states",
         "lon": [
          -74.0112,
          -73.8724
         ],
         "mode": "lines",
         "type": "scattergeo"
        },
        {
         "lat": [
          40.7742,
          40.7746
         ],
         "line": {
          "color": "rgb(117, 174, 255)",
          "width": 1
         },
         "locationmode": "USA-states",
         "lon": [
          -73.8724,
          -73.9633
         ],
         "mode": "lines",
         "type": "scattergeo"
        },
        {
         "lat": [
          40.7746,
          40.7685
         ],
         "line": {
          "color": "rgb(117, 174, 255)",
          "width": 1
         },
         "locationmode": "USA-states",
         "lon": [
          -73.9633,
          -73.9647
         ],
         "mode": "lines",
         "type": "scattergeo"
        },
        {
         "lat": [
          40.7685,
          40.7396
         ],
         "line": {
          "color": "rgb(117, 174, 255)",
          "width": 1
         },
         "locationmode": "USA-states",
         "lon": [
          -73.9647,
          -73.9909
         ],
         "mode": "lines",
         "type": "scattergeo"
        },
        {
         "lat": [
          40.7396,
          40.7429
         ],
         "line": {
          "color": "rgb(117, 174, 255)",
          "width": 1
         },
         "locationmode": "USA-states",
         "lon": [
          -73.9909,
          -73.9868
         ],
         "mode": "lines",
         "type": "scattergeo"
        },
        {
         "lat": [
          40.7429,
          40.7839
         ],
         "line": {
          "color": "rgb(117, 174, 255)",
          "width": 1
         },
         "locationmode": "USA-states",
         "lon": [
          -73.9868,
          -73.9566
         ],
         "mode": "lines",
         "type": "scattergeo"
        },
        {
         "lat": [
          40.7839,
          40.7541
         ],
         "line": {
          "color": "rgb(117, 174, 255)",
          "width": 1
         },
         "locationmode": "USA-states",
         "lon": [
          -73.9566,
          -73.9744
         ],
         "mode": "lines",
         "type": "scattergeo"
        },
        {
         "lat": [
          40.7541,
          40.7701
         ],
         "line": {
          "color": "rgb(117, 174, 255)",
          "width": 1
         },
         "locationmode": "USA-states",
         "lon": [
          -73.9744,
          -73.9879
         ],
         "mode": "lines",
         "type": "scattergeo"
        },
        {
         "lat": [
          40.7701,
          40.8942
         ],
         "line": {
          "color": "rgb(117, 174, 255)",
          "width": 1
         },
         "locationmode": "USA-states",
         "lon": [
          -73.9879,
          -73.8991
         ],
         "mode": "lines",
         "type": "scattergeo"
        },
        {
         "lat": [
          40.8942,
          40.7538
         ],
         "line": {
          "color": "rgb(117, 174, 255)",
          "width": 1
         },
         "locationmode": "USA-states",
         "lon": [
          -73.8991,
          -73.9809
         ],
         "mode": "lines",
         "type": "scattergeo"
        },
        {
         "lat": [
          40.7538,
          40.7413
         ],
         "line": {
          "color": "rgb(117, 174, 255)",
          "width": 1
         },
         "locationmode": "USA-states",
         "lon": [
          -73.9809,
          -73.9852
         ],
         "mode": "lines",
         "type": "scattergeo"
        },
        {
         "lat": [
          40.7413,
          40.7551
         ],
         "line": {
          "color": "rgb(117, 174, 255)",
          "width": 1
         },
         "locationmode": "USA-states",
         "lon": [
          -73.9852,
          -73.9878
         ],
         "mode": "lines",
         "type": "scattergeo"
        },
        {
         "lat": [
          40.7551,
          40.7474
         ],
         "line": {
          "color": "rgb(117, 174, 255)",
          "width": 1
         },
         "locationmode": "USA-states",
         "lon": [
          -73.9878,
          -74.008
         ],
         "mode": "lines",
         "type": "scattergeo"
        },
        {
         "lat": [
          40.7474,
          40.7544
         ],
         "line": {
          "color": "rgb(117, 174, 255)",
          "width": 1
         },
         "locationmode": "USA-states",
         "lon": [
          -74.008,
          -73.9803
         ],
         "mode": "lines",
         "type": "scattergeo"
        },
        {
         "lat": [
          40.7544,
          40.7356
         ],
         "line": {
          "color": "rgb(117, 174, 255)",
          "width": 1
         },
         "locationmode": "USA-states",
         "lon": [
          -73.9803,
          -73.997
         ],
         "mode": "lines",
         "type": "scattergeo"
        },
        {
         "lat": [
          40.7356,
          40.7698
         ],
         "line": {
          "color": "rgb(117, 174, 255)",
          "width": 1
         },
         "locationmode": "USA-states",
         "lon": [
          -73.997,
          -73.9916
         ],
         "mode": "lines",
         "type": "scattergeo"
        },
        {
         "lat": [
          40.7698,
          40.7764
         ],
         "line": {
          "color": "rgb(117, 174, 255)",
          "width": 1
         },
         "locationmode": "USA-states",
         "lon": [
          -73.9916,
          -73.9641
         ],
         "mode": "lines",
         "type": "scattergeo"
        },
        {
         "lat": [
          40.7764,
          40.7629
         ],
         "line": {
          "color": "rgb(117, 174, 255)",
          "width": 1
         },
         "locationmode": "USA-states",
         "lon": [
          -73.9641,
          -73.9839
         ],
         "mode": "lines",
         "type": "scattergeo"
        },
        {
         "lat": [
          40.7629,
          40.7386
         ],
         "line": {
          "color": "rgb(117, 174, 255)",
          "width": 1
         },
         "locationmode": "USA-states",
         "lon": [
          -73.9839,
          -74.0055
         ],
         "mode": "lines",
         "type": "scattergeo"
        },
        {
         "lat": [
          40.7386,
          40.7504
         ],
         "line": {
          "color": "rgb(117, 174, 255)",
          "width": 1
         },
         "locationmode": "USA-states",
         "lon": [
          -74.0055,
          -73.9788
         ],
         "mode": "lines",
         "type": "scattergeo"
        },
        {
         "lat": [
          40.7504,
          40.7651
         ],
         "line": {
          "color": "rgb(117, 174, 255)",
          "width": 1
         },
         "locationmode": "USA-states",
         "lon": [
          -73.9788,
          -73.9724
         ],
         "mode": "lines",
         "type": "scattergeo"
        },
        {
         "lat": [
          40.7651,
          40.7546
         ],
         "line": {
          "color": "rgb(117, 174, 255)",
          "width": 1
         },
         "locationmode": "USA-states",
         "lon": [
          -73.9724,
          -73.991
         ],
         "mode": "lines",
         "type": "scattergeo"
        },
        {
         "lat": [
          40.7546,
          40.7321
         ],
         "line": {
          "color": "rgb(117, 174, 255)",
          "width": 1
         },
         "locationmode": "USA-states",
         "lon": [
          -73.991,
          -74.0077
         ],
         "mode": "lines",
         "type": "scattergeo"
        },
        {
         "lat": [
          40.7321,
          40.764
         ],
         "line": {
          "color": "rgb(117, 174, 255)",
          "width": 1
         },
         "locationmode": "USA-states",
         "lon": [
          -74.0077,
          -73.9733
         ],
         "mode": "lines",
         "type": "scattergeo"
        },
        {
         "lat": [
          40.764,
          40.7167
         ],
         "line": {
          "color": "rgb(117, 174, 255)",
          "width": 1
         },
         "locationmode": "USA-states",
         "lon": [
          -73.9733,
          -74.0149
         ],
         "mode": "lines",
         "type": "scattergeo"
        },
        {
         "lat": [
          40.7167,
          40.7679
         ],
         "line": {
          "color": "rgb(117, 174, 255)",
          "width": 1
         },
         "locationmode": "USA-states",
         "lon": [
          -74.0149,
          -73.9662
         ],
         "mode": "lines",
         "type": "scattergeo"
        },
        {
         "lat": [
          40.7679,
          40.7051
         ],
         "line": {
          "color": "rgb(117, 174, 255)",
          "width": 1
         },
         "locationmode": "USA-states",
         "lon": [
          -73.9662,
          -74.0073
         ],
         "mode": "lines",
         "type": "scattergeo"
        },
        {
         "lat": [
          40.7051,
          40.7601
         ],
         "line": {
          "color": "rgb(117, 174, 255)",
          "width": 1
         },
         "locationmode": "USA-states",
         "lon": [
          -74.0073,
          -73.9772
         ],
         "mode": "lines",
         "type": "scattergeo"
        },
        {
         "lat": [
          40.7601,
          40.7601
         ],
         "line": {
          "color": "rgb(117, 174, 255)",
          "width": 1
         },
         "locationmode": "USA-states",
         "lon": [
          -73.9772,
          -73.9772
         ],
         "mode": "lines",
         "type": "scattergeo"
        },
        {
         "lat": [
          40.7601,
          40.6916
         ],
         "line": {
          "color": "rgb(117, 174, 255)",
          "width": 1
         },
         "locationmode": "USA-states",
         "lon": [
          -73.9772,
          -73.9844
         ],
         "mode": "lines",
         "type": "scattergeo"
        },
        {
         "lat": [
          40.6916,
          40.7632
         ],
         "line": {
          "color": "rgb(117, 174, 255)",
          "width": 1
         },
         "locationmode": "USA-states",
         "lon": [
          -73.9844,
          -73.983
         ],
         "mode": "lines",
         "type": "scattergeo"
        },
        {
         "lat": [
          40.7632,
          40.7637
         ],
         "line": {
          "color": "rgb(117, 174, 255)",
          "width": 1
         },
         "locationmode": "USA-states",
         "lon": [
          -73.983,
          -73.9741
         ],
         "mode": "lines",
         "type": "scattergeo"
        },
        {
         "lat": [
          40.7637,
          40.732
         ],
         "line": {
          "color": "rgb(117, 174, 255)",
          "width": 1
         },
         "locationmode": "USA-states",
         "lon": [
          -73.9741,
          -73.9968
         ],
         "mode": "lines",
         "type": "scattergeo"
        },
        {
         "lat": [
          40.732,
          40.8448
         ],
         "line": {
          "color": "rgb(117, 174, 255)",
          "width": 1
         },
         "locationmode": "USA-states",
         "lon": [
          -73.9968,
          -74.0662
         ],
         "mode": "lines",
         "type": "scattergeo"
        },
        {
         "lat": [
          40.8448,
          40.7245
         ],
         "line": {
          "color": "rgb(117, 174, 255)",
          "width": 1
         },
         "locationmode": "USA-states",
         "lon": [
          -74.0662,
          -73.9987
         ],
         "mode": "lines",
         "type": "scattergeo"
        },
        {
         "lat": [
          40.7245,
          40.7491
         ],
         "line": {
          "color": "rgb(117, 174, 255)",
          "width": 1
         },
         "locationmode": "USA-states",
         "lon": [
          -73.9987,
          -74.0084
         ],
         "mode": "lines",
         "type": "scattergeo"
        },
        {
         "lat": [
          40.7491,
          40.7106
         ],
         "line": {
          "color": "rgb(117, 174, 255)",
          "width": 1
         },
         "locationmode": "USA-states",
         "lon": [
          -74.0084,
          -73.9858
         ],
         "mode": "lines",
         "type": "scattergeo"
        },
        {
         "lat": [
          40.7106,
          40.76
         ],
         "line": {
          "color": "rgb(117, 174, 255)",
          "width": 1
         },
         "locationmode": "USA-states",
         "lon": [
          -73.9858,
          -73.9651
         ],
         "mode": "lines",
         "type": "scattergeo"
        },
        {
         "lat": [
          40.76,
          40.7257
         ],
         "line": {
          "color": "rgb(117, 174, 255)",
          "width": 1
         },
         "locationmode": "USA-states",
         "lon": [
          -73.9651,
          -74.0003
         ],
         "mode": "lines",
         "type": "scattergeo"
        },
        {
         "lat": [
          40.7257,
          40.7464
         ],
         "line": {
          "color": "rgb(117, 174, 255)",
          "width": 1
         },
         "locationmode": "USA-states",
         "lon": [
          -74.0003,
          -73.9716
         ],
         "mode": "lines",
         "type": "scattergeo"
        },
        {
         "lat": [
          40.7464,
          40.7403
         ],
         "line": {
          "color": "rgb(117, 174, 255)",
          "width": 1
         },
         "locationmode": "USA-states",
         "lon": [
          -73.9716,
          -73.9955
         ],
         "mode": "lines",
         "type": "scattergeo"
        },
        {
         "lat": [
          40.7403,
          40.7555
         ],
         "line": {
          "color": "rgb(117, 174, 255)",
          "width": 1
         },
         "locationmode": "USA-states",
         "lon": [
          -73.9955,
          -73.9739
         ],
         "mode": "lines",
         "type": "scattergeo"
        },
        {
         "lat": [
          40.7555,
          40.7636
         ],
         "line": {
          "color": "rgb(117, 174, 255)",
          "width": 1
         },
         "locationmode": "USA-states",
         "lon": [
          -73.9739,
          -73.9716
         ],
         "mode": "lines",
         "type": "scattergeo"
        },
        {
         "lat": [
          40.7636,
          40.7552
         ],
         "line": {
          "color": "rgb(117, 174, 255)",
          "width": 1
         },
         "locationmode": "USA-states",
         "lon": [
          -73.9716,
          -73.9881
         ],
         "mode": "lines",
         "type": "scattergeo"
        },
        {
         "lat": [
          40.7552,
          40.7208
         ],
         "line": {
          "color": "rgb(117, 174, 255)",
          "width": 1
         },
         "locationmode": "USA-states",
         "lon": [
          -73.9881,
          -73.958
         ],
         "mode": "lines",
         "type": "scattergeo"
        },
        {
         "lat": [
          40.7208,
          40.7741
         ],
         "line": {
          "color": "rgb(117, 174, 255)",
          "width": 1
         },
         "locationmode": "USA-states",
         "lon": [
          -73.958,
          -73.8725
         ],
         "mode": "lines",
         "type": "scattergeo"
        },
        {
         "lat": [
          40.7741,
          40.7563
         ],
         "line": {
          "color": "rgb(117, 174, 255)",
          "width": 1
         },
         "locationmode": "USA-states",
         "lon": [
          -73.8725,
          -73.9744
         ],
         "mode": "lines",
         "type": "scattergeo"
        },
        {
         "lat": [
          40.7563,
          40.7544
         ],
         "line": {
          "color": "rgb(117, 174, 255)",
          "width": 1
         },
         "locationmode": "USA-states",
         "lon": [
          -73.9744,
          -73.9878
         ],
         "mode": "lines",
         "type": "scattergeo"
        },
        {
         "lat": [
          40.7544,
          40.7842
         ],
         "line": {
          "color": "rgb(117, 174, 255)",
          "width": 1
         },
         "locationmode": "USA-states",
         "lon": [
          -73.9878,
          -73.9834
         ],
         "mode": "lines",
         "type": "scattergeo"
        },
        {
         "lat": [
          40.7842,
          40.7382
         ],
         "line": {
          "color": "rgb(117, 174, 255)",
          "width": 1
         },
         "locationmode": "USA-states",
         "lon": [
          -73.9834,
          -74.0033
         ],
         "mode": "lines",
         "type": "scattergeo"
        },
        {
         "lat": [
          40.7382,
          40.7578
         ],
         "line": {
          "color": "rgb(117, 174, 255)",
          "width": 1
         },
         "locationmode": "USA-states",
         "lon": [
          -74.0033,
          -73.9751
         ],
         "mode": "lines",
         "type": "scattergeo"
        },
        {
         "lat": [
          40.7578,
          40.7387
         ],
         "line": {
          "color": "rgb(117, 174, 255)",
          "width": 1
         },
         "locationmode": "USA-states",
         "lon": [
          -73.9751,
          -73.9897
         ],
         "mode": "lines",
         "type": "scattergeo"
        },
        {
         "lat": [
          40.7387,
          40.7685
         ],
         "line": {
          "color": "rgb(117, 174, 255)",
          "width": 1
         },
         "locationmode": "USA-states",
         "lon": [
          -73.9897,
          -73.8624
         ],
         "mode": "lines",
         "type": "scattergeo"
        },
        {
         "lat": [
          40.7685,
          40.7813
         ],
         "line": {
          "color": "rgb(117, 174, 255)",
          "width": 1
         },
         "locationmode": "USA-states",
         "lon": [
          -73.8624,
          -73.9759
         ],
         "mode": "lines",
         "type": "scattergeo"
        },
        {
         "lat": [
          40.7813,
          40.7558
         ],
         "line": {
          "color": "rgb(117, 174, 255)",
          "width": 1
         },
         "locationmode": "USA-states",
         "lon": [
          -73.9759,
          -73.982
         ],
         "mode": "lines",
         "type": "scattergeo"
        },
        {
         "lat": [
          40.7558,
          40.7561
         ],
         "line": {
          "color": "rgb(117, 174, 255)",
          "width": 1
         },
         "locationmode": "USA-states",
         "lon": [
          -73.982,
          -73.9824
         ],
         "mode": "lines",
         "type": "scattergeo"
        },
        {
         "lat": [
          40.7561,
          40.7528
         ],
         "line": {
          "color": "rgb(117, 174, 255)",
          "width": 1
         },
         "locationmode": "USA-states",
         "lon": [
          -73.9824,
          -73.9876
         ],
         "mode": "lines",
         "type": "scattergeo"
        },
        {
         "lat": [
          40.7528,
          40.7634
         ],
         "line": {
          "color": "rgb(117, 174, 255)",
          "width": 1
         },
         "locationmode": "USA-states",
         "lon": [
          -73.9876,
          -73.97399999999999
         ],
         "mode": "lines",
         "type": "scattergeo"
        },
        {
         "lat": [
          40.7634,
          40.76
         ],
         "line": {
          "color": "rgb(117, 174, 255)",
          "width": 1
         },
         "locationmode": "USA-states",
         "lon": [
          -73.97399999999999,
          -73.9723
         ],
         "mode": "lines",
         "type": "scattergeo"
        },
        {
         "lat": [
          40.76,
          40.7512
         ],
         "line": {
          "color": "rgb(117, 174, 255)",
          "width": 1
         },
         "locationmode": "USA-states",
         "lon": [
          -73.9723,
          -73.9749
         ],
         "mode": "lines",
         "type": "scattergeo"
        },
        {
         "lat": [
          40.7512,
          40.6914
         ],
         "line": {
          "color": "rgb(117, 174, 255)",
          "width": 1
         },
         "locationmode": "USA-states",
         "lon": [
          -73.9749,
          -74.1771
         ],
         "mode": "lines",
         "type": "scattergeo"
        },
        {
         "lat": [
          40.6914,
          40.7706
         ],
         "line": {
          "color": "rgb(117, 174, 255)",
          "width": 1
         },
         "locationmode": "USA-states",
         "lon": [
          -74.1771,
          -73.8655
         ],
         "mode": "lines",
         "type": "scattergeo"
        },
        {
         "lat": [
          40.7706,
          40.7415
         ],
         "line": {
          "color": "rgb(117, 174, 255)",
          "width": 1
         },
         "locationmode": "USA-states",
         "lon": [
          -73.8655,
          -74.0072
         ],
         "mode": "lines",
         "type": "scattergeo"
        },
        {
         "lat": [
          40.7415,
          40.7511
         ],
         "line": {
          "color": "rgb(117, 174, 255)",
          "width": 1
         },
         "locationmode": "USA-states",
         "lon": [
          -74.0072,
          -73.9782
         ],
         "mode": "lines",
         "type": "scattergeo"
        },
        {
         "lat": [
          40.7511,
          40.7519
         ],
         "line": {
          "color": "rgb(117, 174, 255)",
          "width": 1
         },
         "locationmode": "USA-states",
         "lon": [
          -73.9782,
          -73.9811
         ],
         "mode": "lines",
         "type": "scattergeo"
        },
        {
         "lat": [
          40.7519,
          40.646
         ],
         "line": {
          "color": "rgb(117, 174, 255)",
          "width": 1
         },
         "locationmode": "USA-states",
         "lon": [
          -73.9811,
          -73.7768
         ],
         "mode": "lines",
         "type": "scattergeo"
        },
        {
         "lat": [
          40.646,
          40.7213
         ],
         "line": {
          "color": "rgb(117, 174, 255)",
          "width": 1
         },
         "locationmode": "USA-states",
         "lon": [
          -73.7768,
          -73.9991
         ],
         "mode": "lines",
         "type": "scattergeo"
        },
        {
         "lat": [
          40.7213,
          40.7591
         ],
         "line": {
          "color": "rgb(117, 174, 255)",
          "width": 1
         },
         "locationmode": "USA-states",
         "lon": [
          -73.9991,
          -73.967
         ],
         "mode": "lines",
         "type": "scattergeo"
        },
        {
         "lat": [
          40.7591,
          40.7701
         ],
         "line": {
          "color": "rgb(117, 174, 255)",
          "width": 1
         },
         "locationmode": "USA-states",
         "lon": [
          -73.967,
          -73.9625
         ],
         "mode": "lines",
         "type": "scattergeo"
        },
        {
         "lat": [
          40.7701,
          40.7789
         ],
         "line": {
          "color": "rgb(117, 174, 255)",
          "width": 1
         },
         "locationmode": "USA-states",
         "lon": [
          -73.9625,
          -73.9559
         ],
         "mode": "lines",
         "type": "scattergeo"
        },
        {
         "lat": [
          40.7789,
          40.7789
         ],
         "line": {
          "color": "rgb(117, 174, 255)",
          "width": 1
         },
         "locationmode": "USA-states",
         "lon": [
          -73.9559,
          -73.9559
         ],
         "mode": "lines",
         "type": "scattergeo"
        },
        {
         "lat": [
          40.7789,
          40.733000000000004
         ],
         "line": {
          "color": "rgb(117, 174, 255)",
          "width": 1
         },
         "locationmode": "USA-states",
         "lon": [
          -73.9559,
          -73.9824
         ],
         "mode": "lines",
         "type": "scattergeo"
        },
        {
         "lat": [
          40.733000000000004,
          40.7582
         ],
         "line": {
          "color": "rgb(117, 174, 255)",
          "width": 1
         },
         "locationmode": "USA-states",
         "lon": [
          -73.9824,
          -73.9763
         ],
         "mode": "lines",
         "type": "scattergeo"
        },
        {
         "lat": [
          40.7582,
          40.7437
         ],
         "line": {
          "color": "rgb(117, 174, 255)",
          "width": 1
         },
         "locationmode": "USA-states",
         "lon": [
          -73.9763,
          -73.9887
         ],
         "mode": "lines",
         "type": "scattergeo"
        },
        {
         "lat": [
          40.7437,
          40.7437
         ],
         "line": {
          "color": "rgb(117, 174, 255)",
          "width": 1
         },
         "locationmode": "USA-states",
         "lon": [
          -73.9887,
          -73.9887
         ],
         "mode": "lines",
         "type": "scattergeo"
        },
        {
         "lat": [
          40.7437,
          40.7512
         ],
         "line": {
          "color": "rgb(117, 174, 255)",
          "width": 1
         },
         "locationmode": "USA-states",
         "lon": [
          -73.9887,
          -73.9891
         ],
         "mode": "lines",
         "type": "scattergeo"
        },
        {
         "lat": [
          40.7512,
          40.7554
         ],
         "line": {
          "color": "rgb(117, 174, 255)",
          "width": 1
         },
         "locationmode": "USA-states",
         "lon": [
          -73.9891,
          -73.9839
         ],
         "mode": "lines",
         "type": "scattergeo"
        },
        {
         "lat": [
          40.7554,
          40.7647
         ],
         "line": {
          "color": "rgb(117, 174, 255)",
          "width": 1
         },
         "locationmode": "USA-states",
         "lon": [
          -73.9839,
          -73.9699
         ],
         "mode": "lines",
         "type": "scattergeo"
        },
        {
         "lat": [
          40.7647,
          40.7915
         ],
         "line": {
          "color": "rgb(117, 174, 255)",
          "width": 1
         },
         "locationmode": "USA-states",
         "lon": [
          -73.9699,
          -73.9523
         ],
         "mode": "lines",
         "type": "scattergeo"
        },
        {
         "lat": [
          40.7915,
          40.7756
         ],
         "line": {
          "color": "rgb(117, 174, 255)",
          "width": 1
         },
         "locationmode": "USA-states",
         "lon": [
          -73.9523,
          -73.9482
         ],
         "mode": "lines",
         "type": "scattergeo"
        },
        {
         "lat": [
          40.7756,
          40.7701
         ],
         "line": {
          "color": "rgb(117, 174, 255)",
          "width": 1
         },
         "locationmode": "USA-states",
         "lon": [
          -73.9482,
          -73.9803
         ],
         "mode": "lines",
         "type": "scattergeo"
        },
        {
         "lat": [
          40.7701,
          40.7556
         ],
         "line": {
          "color": "rgb(117, 174, 255)",
          "width": 1
         },
         "locationmode": "USA-states",
         "lon": [
          -73.9803,
          -73.9851
         ],
         "mode": "lines",
         "type": "scattergeo"
        },
        {
         "lat": [
          40.7556,
          40.7527
         ],
         "line": {
          "color": "rgb(117, 174, 255)",
          "width": 1
         },
         "locationmode": "USA-states",
         "lon": [
          -73.9851,
          -73.9856
         ],
         "mode": "lines",
         "type": "scattergeo"
        },
        {
         "lat": [
          40.7527,
          40.7413
         ],
         "line": {
          "color": "rgb(117, 174, 255)",
          "width": 1
         },
         "locationmode": "USA-states",
         "lon": [
          -73.9856,
          -73.9908
         ],
         "mode": "lines",
         "type": "scattergeo"
        },
        {
         "lat": [
          40.7413,
          40.7324
         ],
         "line": {
          "color": "rgb(117, 174, 255)",
          "width": 1
         },
         "locationmode": "USA-states",
         "lon": [
          -73.9908,
          -74.0087
         ],
         "mode": "lines",
         "type": "scattergeo"
        },
        {
         "lat": [
          40.7324,
          40.7432
         ],
         "line": {
          "color": "rgb(117, 174, 255)",
          "width": 1
         },
         "locationmode": "USA-states",
         "lon": [
          -74.0087,
          -73.9863
         ],
         "mode": "lines",
         "type": "scattergeo"
        },
        {
         "lat": [
          40.7432,
          40.7697
         ],
         "line": {
          "color": "rgb(117, 174, 255)",
          "width": 1
         },
         "locationmode": "USA-states",
         "lon": [
          -73.9863,
          -73.98100000000001
         ],
         "mode": "lines",
         "type": "scattergeo"
        },
        {
         "lat": [
          40.7697,
          40.7227
         ],
         "line": {
          "color": "rgb(117, 174, 255)",
          "width": 1
         },
         "locationmode": "USA-states",
         "lon": [
          -73.98100000000001,
          -74.0087
         ],
         "mode": "lines",
         "type": "scattergeo"
        },
        {
         "lat": [
          40.7227,
          40.7204
         ],
         "line": {
          "color": "rgb(117, 174, 255)",
          "width": 1
         },
         "locationmode": "USA-states",
         "lon": [
          -74.0087,
          -74.0048
         ],
         "mode": "lines",
         "type": "scattergeo"
        },
        {
         "lat": [
          40.7204,
          40.7615
         ],
         "line": {
          "color": "rgb(117, 174, 255)",
          "width": 1
         },
         "locationmode": "USA-states",
         "lon": [
          -74.0048,
          -73.9824
         ],
         "mode": "lines",
         "type": "scattergeo"
        },
        {
         "lat": [
          40.7615,
          40.6898
         ],
         "line": {
          "color": "rgb(117, 174, 255)",
          "width": 1
         },
         "locationmode": "USA-states",
         "lon": [
          -73.9824,
          -73.9782
         ],
         "mode": "lines",
         "type": "scattergeo"
        },
        {
         "lat": [
          40.6898,
          40.7296
         ],
         "line": {
          "color": "rgb(117, 174, 255)",
          "width": 1
         },
         "locationmode": "USA-states",
         "lon": [
          -73.9782,
          -73.9983
         ],
         "mode": "lines",
         "type": "scattergeo"
        },
        {
         "lat": [
          40.7296,
          40.7256
         ],
         "line": {
          "color": "rgb(117, 174, 255)",
          "width": 1
         },
         "locationmode": "USA-states",
         "lon": [
          -73.9983,
          -74.0054
         ],
         "mode": "lines",
         "type": "scattergeo"
        },
        {
         "lat": [
          40.7256,
          40.7199
         ],
         "line": {
          "color": "rgb(117, 174, 255)",
          "width": 1
         },
         "locationmode": "USA-states",
         "lon": [
          -74.0054,
          -74.0043
         ],
         "mode": "lines",
         "type": "scattergeo"
        },
        {
         "lat": [
          40.7199,
          40.7539
         ],
         "line": {
          "color": "rgb(117, 174, 255)",
          "width": 1
         },
         "locationmode": "USA-states",
         "lon": [
          -74.0043,
          -73.9806
         ],
         "mode": "lines",
         "type": "scattergeo"
        },
        {
         "lat": [
          40.7539,
          40.7649
         ],
         "line": {
          "color": "rgb(117, 174, 255)",
          "width": 1
         },
         "locationmode": "USA-states",
         "lon": [
          -73.9806,
          -73.962
         ],
         "mode": "lines",
         "type": "scattergeo"
        },
        {
         "lat": [
          40.7649,
          40.7539
         ],
         "line": {
          "color": "rgb(117, 174, 255)",
          "width": 1
         },
         "locationmode": "USA-states",
         "lon": [
          -73.962,
          -73.9764
         ],
         "mode": "lines",
         "type": "scattergeo"
        },
        {
         "lat": [
          40.7539,
          40.7554
         ],
         "line": {
          "color": "rgb(117, 174, 255)",
          "width": 1
         },
         "locationmode": "USA-states",
         "lon": [
          -73.9764,
          -73.9726
         ],
         "mode": "lines",
         "type": "scattergeo"
        },
        {
         "lat": [
          40.7554,
          40.775999999999996
         ],
         "line": {
          "color": "rgb(117, 174, 255)",
          "width": 1
         },
         "locationmode": "USA-states",
         "lon": [
          -73.9726,
          -73.9573
         ],
         "mode": "lines",
         "type": "scattergeo"
        },
        {
         "lat": [
          40.775999999999996,
          40.7631
         ],
         "line": {
          "color": "rgb(117, 174, 255)",
          "width": 1
         },
         "locationmode": "USA-states",
         "lon": [
          -73.9573,
          -73.9742
         ],
         "mode": "lines",
         "type": "scattergeo"
        },
        {
         "lat": [
          40.7631,
          40.7685
         ],
         "line": {
          "color": "rgb(117, 174, 255)",
          "width": 1
         },
         "locationmode": "USA-states",
         "lon": [
          -73.9742,
          -73.8625
         ],
         "mode": "lines",
         "type": "scattergeo"
        },
        {
         "lat": [
          40.7685,
          40.7938
         ],
         "line": {
          "color": "rgb(117, 174, 255)",
          "width": 1
         },
         "locationmode": "USA-states",
         "lon": [
          -73.8625,
          -73.973
         ],
         "mode": "lines",
         "type": "scattergeo"
        },
        {
         "lat": [
          40.7938,
          40.7857
         ],
         "line": {
          "color": "rgb(117, 174, 255)",
          "width": 1
         },
         "locationmode": "USA-states",
         "lon": [
          -73.973,
          -73.9553
         ],
         "mode": "lines",
         "type": "scattergeo"
        },
        {
         "lat": [
          40.7857,
          40.7857
         ],
         "line": {
          "color": "rgb(117, 174, 255)",
          "width": 1
         },
         "locationmode": "USA-states",
         "lon": [
          -73.9553,
          -73.9553
         ],
         "mode": "lines",
         "type": "scattergeo"
        },
        {
         "lat": [
          40.7857,
          40.72
         ],
         "line": {
          "color": "rgb(117, 174, 255)",
          "width": 1
         },
         "locationmode": "USA-states",
         "lon": [
          -73.9553,
          -73.9991
         ],
         "mode": "lines",
         "type": "scattergeo"
        },
        {
         "lat": [
          40.72,
          40.7782
         ],
         "line": {
          "color": "rgb(117, 174, 255)",
          "width": 1
         },
         "locationmode": "USA-states",
         "lon": [
          -73.9991,
          -73.9628
         ],
         "mode": "lines",
         "type": "scattergeo"
        },
        {
         "lat": [
          40.7782,
          40.751
         ],
         "line": {
          "color": "rgb(117, 174, 255)",
          "width": 1
         },
         "locationmode": "USA-states",
         "lon": [
          -73.9628,
          -73.9767
         ],
         "mode": "lines",
         "type": "scattergeo"
        },
        {
         "lat": [
          40.751,
          40.7212
         ],
         "line": {
          "color": "rgb(117, 174, 255)",
          "width": 1
         },
         "locationmode": "USA-states",
         "lon": [
          -73.9767,
          -74.0018
         ],
         "mode": "lines",
         "type": "scattergeo"
        },
        {
         "lat": [
          40.7212,
          40.7287
         ],
         "line": {
          "color": "rgb(117, 174, 255)",
          "width": 1
         },
         "locationmode": "USA-states",
         "lon": [
          -74.0018,
          -73.9898
         ],
         "mode": "lines",
         "type": "scattergeo"
        },
        {
         "lat": [
          40.7287,
          40.7736
         ],
         "line": {
          "color": "rgb(117, 174, 255)",
          "width": 1
         },
         "locationmode": "USA-states",
         "lon": [
          -73.9898,
          -73.9812
         ],
         "mode": "lines",
         "type": "scattergeo"
        },
        {
         "lat": [
          40.7736,
          40.7328
         ],
         "line": {
          "color": "rgb(117, 174, 255)",
          "width": 1
         },
         "locationmode": "USA-states",
         "lon": [
          -73.9812,
          -73.986
         ],
         "mode": "lines",
         "type": "scattergeo"
        },
        {
         "lat": [
          40.7328,
          40.7566
         ],
         "line": {
          "color": "rgb(117, 174, 255)",
          "width": 1
         },
         "locationmode": "USA-states",
         "lon": [
          -73.986,
          -73.9739
         ],
         "mode": "lines",
         "type": "scattergeo"
        },
        {
         "lat": [
          40.7566,
          40.7539
         ],
         "line": {
          "color": "rgb(117, 174, 255)",
          "width": 1
         },
         "locationmode": "USA-states",
         "lon": [
          -73.9739,
          -73.982
         ],
         "mode": "lines",
         "type": "scattergeo"
        },
        {
         "lat": [
          40.7539,
          40.72
         ],
         "line": {
          "color": "rgb(117, 174, 255)",
          "width": 1
         },
         "locationmode": "USA-states",
         "lon": [
          -73.982,
          -74.0038
         ],
         "mode": "lines",
         "type": "scattergeo"
        },
        {
         "lat": [
          40.72,
          40.7395
         ],
         "line": {
          "color": "rgb(117, 174, 255)",
          "width": 1
         },
         "locationmode": "USA-states",
         "lon": [
          -74.0038,
          -73.9941
         ],
         "mode": "lines",
         "type": "scattergeo"
        },
        {
         "lat": [
          40.7395,
          40.7457
         ],
         "line": {
          "color": "rgb(117, 174, 255)",
          "width": 1
         },
         "locationmode": "USA-states",
         "lon": [
          -73.9941,
          -74.0091
         ],
         "mode": "lines",
         "type": "scattergeo"
        },
        {
         "lat": [
          40.7457,
          40.7021
         ],
         "line": {
          "color": "rgb(117, 174, 255)",
          "width": 1
         },
         "locationmode": "USA-states",
         "lon": [
          -74.0091,
          -74.0127
         ],
         "mode": "lines",
         "type": "scattergeo"
        },
        {
         "lat": [
          40.7021,
          40.7534
         ],
         "line": {
          "color": "rgb(117, 174, 255)",
          "width": 1
         },
         "locationmode": "USA-states",
         "lon": [
          -74.0127,
          -73.9904
         ],
         "mode": "lines",
         "type": "scattergeo"
        },
        {
         "lat": [
          40.7534,
          40.7242
         ],
         "line": {
          "color": "rgb(117, 174, 255)",
          "width": 1
         },
         "locationmode": "USA-states",
         "lon": [
          -73.9904,
          -74.001
         ],
         "mode": "lines",
         "type": "scattergeo"
        },
        {
         "lat": [
          40.7242,
          40.755
         ],
         "line": {
          "color": "rgb(117, 174, 255)",
          "width": 1
         },
         "locationmode": "USA-states",
         "lon": [
          -74.001,
          -73.9988
         ],
         "mode": "lines",
         "type": "scattergeo"
        },
        {
         "lat": [
          40.755,
          40.6844
         ],
         "line": {
          "color": "rgb(117, 174, 255)",
          "width": 1
         },
         "locationmode": "USA-states",
         "lon": [
          -73.9988,
          -74.2762
         ],
         "mode": "lines",
         "type": "scattergeo"
        },
        {
         "lat": [
          40.6844,
          40.7574
         ],
         "line": {
          "color": "rgb(117, 174, 255)",
          "width": 1
         },
         "locationmode": "USA-states",
         "lon": [
          -74.2762,
          -73.9762
         ],
         "mode": "lines",
         "type": "scattergeo"
        },
        {
         "lat": [
          40.7574,
          40.7529
         ],
         "line": {
          "color": "rgb(117, 174, 255)",
          "width": 1
         },
         "locationmode": "USA-states",
         "lon": [
          -73.9762,
          -73.8838
         ],
         "mode": "lines",
         "type": "scattergeo"
        },
        {
         "lat": [
          40.7529,
          40.7617
         ],
         "line": {
          "color": "rgb(117, 174, 255)",
          "width": 1
         },
         "locationmode": "USA-states",
         "lon": [
          -73.8838,
          -73.975
         ],
         "mode": "lines",
         "type": "scattergeo"
        },
        {
         "lat": [
          40.7617,
          40.753
         ],
         "line": {
          "color": "rgb(117, 174, 255)",
          "width": 1
         },
         "locationmode": "USA-states",
         "lon": [
          -73.975,
          -73.9791
         ],
         "mode": "lines",
         "type": "scattergeo"
        },
        {
         "lat": [
          40.753,
          40.7459
         ],
         "line": {
          "color": "rgb(117, 174, 255)",
          "width": 1
         },
         "locationmode": "USA-states",
         "lon": [
          -73.9791,
          -73.9884
         ],
         "mode": "lines",
         "type": "scattergeo"
        },
        {
         "lat": [
          40.7459,
          40.7178
         ],
         "line": {
          "color": "rgb(117, 174, 255)",
          "width": 1
         },
         "locationmode": "USA-states",
         "lon": [
          -73.9884,
          -73.9521
         ],
         "mode": "lines",
         "type": "scattergeo"
        },
        {
         "lat": [
          40.7178,
          40.7816
         ],
         "line": {
          "color": "rgb(117, 174, 255)",
          "width": 1
         },
         "locationmode": "USA-states",
         "lon": [
          -73.9521,
          -73.9803
         ],
         "mode": "lines",
         "type": "scattergeo"
        },
        {
         "lat": [
          40.7816,
          40.7556
         ],
         "line": {
          "color": "rgb(117, 174, 255)",
          "width": 1
         },
         "locationmode": "USA-states",
         "lon": [
          -73.9803,
          -73.9745
         ],
         "mode": "lines",
         "type": "scattergeo"
        },
        {
         "lat": [
          40.7556,
          40.7214
         ],
         "line": {
          "color": "rgb(117, 174, 255)",
          "width": 1
         },
         "locationmode": "USA-states",
         "lon": [
          -73.9745,
          -73.9974
         ],
         "mode": "lines",
         "type": "scattergeo"
        },
        {
         "lat": [
          40.7214,
          40.7875
         ],
         "line": {
          "color": "rgb(117, 174, 255)",
          "width": 1
         },
         "locationmode": "USA-states",
         "lon": [
          -73.9974,
          -73.9684
         ],
         "mode": "lines",
         "type": "scattergeo"
        },
        {
         "lat": [
          40.7875,
          40.7685
         ],
         "line": {
          "color": "rgb(117, 174, 255)",
          "width": 1
         },
         "locationmode": "USA-states",
         "lon": [
          -73.9684,
          -73.9689
         ],
         "mode": "lines",
         "type": "scattergeo"
        },
        {
         "lat": [
          40.7685,
          40.753
         ],
         "line": {
          "color": "rgb(117, 174, 255)",
          "width": 1
         },
         "locationmode": "USA-states",
         "lon": [
          -73.9689,
          -73.9701
         ],
         "mode": "lines",
         "type": "scattergeo"
        },
        {
         "lat": [
          40.753,
          40.7478
         ],
         "line": {
          "color": "rgb(117, 174, 255)",
          "width": 1
         },
         "locationmode": "USA-states",
         "lon": [
          -73.9701,
          -74.0044
         ],
         "mode": "lines",
         "type": "scattergeo"
        },
        {
         "lat": [
          40.7478,
          40.7745
         ],
         "line": {
          "color": "rgb(117, 174, 255)",
          "width": 1
         },
         "locationmode": "USA-states",
         "lon": [
          -74.0044,
          -73.958
         ],
         "mode": "lines",
         "type": "scattergeo"
        },
        {
         "lat": [
          40.7745,
          40.7562
         ],
         "line": {
          "color": "rgb(117, 174, 255)",
          "width": 1
         },
         "locationmode": "USA-states",
         "lon": [
          -73.958,
          -73.9698
         ],
         "mode": "lines",
         "type": "scattergeo"
        },
        {
         "lat": [
          40.7562,
          40.7129
         ],
         "line": {
          "color": "rgb(117, 174, 255)",
          "width": 1
         },
         "locationmode": "USA-states",
         "lon": [
          -73.9698,
          -74.0356
         ],
         "mode": "lines",
         "type": "scattergeo"
        },
        {
         "lat": [
          40.7129,
          40.7129
         ],
         "line": {
          "color": "rgb(117, 174, 255)",
          "width": 1
         },
         "locationmode": "USA-states",
         "lon": [
          -74.0356,
          -74.0356
         ],
         "mode": "lines",
         "type": "scattergeo"
        },
        {
         "lat": [
          40.7129,
          40.7169
         ],
         "line": {
          "color": "rgb(117, 174, 255)",
          "width": 1
         },
         "locationmode": "USA-states",
         "lon": [
          -74.0356,
          -74.0123
         ],
         "mode": "lines",
         "type": "scattergeo"
        },
        {
         "lat": [
          40.7169,
          40.7634
         ],
         "line": {
          "color": "rgb(117, 174, 255)",
          "width": 1
         },
         "locationmode": "USA-states",
         "lon": [
          -74.0123,
          -73.9672
         ],
         "mode": "lines",
         "type": "scattergeo"
        },
        {
         "lat": [
          40.7634,
          40.7555
         ],
         "line": {
          "color": "rgb(117, 174, 255)",
          "width": 1
         },
         "locationmode": "USA-states",
         "lon": [
          -73.9672,
          -73.9739
         ],
         "mode": "lines",
         "type": "scattergeo"
        },
        {
         "lat": [
          40.7555,
          40.7581
         ],
         "line": {
          "color": "rgb(117, 174, 255)",
          "width": 1
         },
         "locationmode": "USA-states",
         "lon": [
          -73.9739,
          -73.9816
         ],
         "mode": "lines",
         "type": "scattergeo"
        },
        {
         "lat": [
          40.7581,
          40.7849
         ],
         "line": {
          "color": "rgb(117, 174, 255)",
          "width": 1
         },
         "locationmode": "USA-states",
         "lon": [
          -73.9816,
          -73.9487
         ],
         "mode": "lines",
         "type": "scattergeo"
        },
        {
         "lat": [
          40.7849,
          40.7332
         ],
         "line": {
          "color": "rgb(117, 174, 255)",
          "width": 1
         },
         "locationmode": "USA-states",
         "lon": [
          -73.9487,
          -73.9956
         ],
         "mode": "lines",
         "type": "scattergeo"
        },
        {
         "lat": [
          40.7332,
          40.7376
         ],
         "line": {
          "color": "rgb(117, 174, 255)",
          "width": 1
         },
         "locationmode": "USA-states",
         "lon": [
          -73.9956,
          -73.9926
         ],
         "mode": "lines",
         "type": "scattergeo"
        },
        {
         "lat": [
          40.7376,
          40.756
         ],
         "line": {
          "color": "rgb(117, 174, 255)",
          "width": 1
         },
         "locationmode": "USA-states",
         "lon": [
          -73.9926,
          -73.9717
         ],
         "mode": "lines",
         "type": "scattergeo"
        },
        {
         "lat": [
          40.756,
          40.771
         ],
         "line": {
          "color": "rgb(117, 174, 255)",
          "width": 1
         },
         "locationmode": "USA-states",
         "lon": [
          -73.9717,
          -73.9615
         ],
         "mode": "lines",
         "type": "scattergeo"
        },
        {
         "lat": [
          40.771,
          40.7221
         ],
         "line": {
          "color": "rgb(117, 174, 255)",
          "width": 1
         },
         "locationmode": "USA-states",
         "lon": [
          -73.9615,
          -73.9994
         ],
         "mode": "lines",
         "type": "scattergeo"
        },
        {
         "lat": [
          40.7221,
          40.7305
         ],
         "line": {
          "color": "rgb(117, 174, 255)",
          "width": 1
         },
         "locationmode": "USA-states",
         "lon": [
          -73.9994,
          -74.0069
         ],
         "mode": "lines",
         "type": "scattergeo"
        },
        {
         "lat": [
          40.7305,
          40.7565
         ],
         "line": {
          "color": "rgb(117, 174, 255)",
          "width": 1
         },
         "locationmode": "USA-states",
         "lon": [
          -74.0069,
          -73.9844
         ],
         "mode": "lines",
         "type": "scattergeo"
        },
        {
         "lat": [
          40.7565,
          40.7568
         ],
         "line": {
          "color": "rgb(117, 174, 255)",
          "width": 1
         },
         "locationmode": "USA-states",
         "lon": [
          -73.9844,
          -73.9718
         ],
         "mode": "lines",
         "type": "scattergeo"
        },
        {
         "lat": [
          40.7568,
          40.7381
         ],
         "line": {
          "color": "rgb(117, 174, 255)",
          "width": 1
         },
         "locationmode": "USA-states",
         "lon": [
          -73.9718,
          -74.0085
         ],
         "mode": "lines",
         "type": "scattergeo"
        },
        {
         "lat": [
          40.7381,
          40.7986
         ],
         "line": {
          "color": "rgb(117, 174, 255)",
          "width": 1
         },
         "locationmode": "USA-states",
         "lon": [
          -74.0085,
          -73.9728
         ],
         "mode": "lines",
         "type": "scattergeo"
        },
        {
         "lat": [
          40.7986,
          40.757
         ],
         "line": {
          "color": "rgb(117, 174, 255)",
          "width": 1
         },
         "locationmode": "USA-states",
         "lon": [
          -73.9728,
          -73.972
         ],
         "mode": "lines",
         "type": "scattergeo"
        },
        {
         "lat": [
          40.757,
          40.7535
         ],
         "line": {
          "color": "rgb(117, 174, 255)",
          "width": 1
         },
         "locationmode": "USA-states",
         "lon": [
          -73.972,
          -73.9786
         ],
         "mode": "lines",
         "type": "scattergeo"
        },
        {
         "lat": [
          40.7535,
          40.7732
         ],
         "line": {
          "color": "rgb(117, 174, 255)",
          "width": 1
         },
         "locationmode": "USA-states",
         "lon": [
          -73.9786,
          -73.8857
         ],
         "mode": "lines",
         "type": "scattergeo"
        },
        {
         "lat": [
          40.7732,
          40.742
         ],
         "line": {
          "color": "rgb(117, 174, 255)",
          "width": 1
         },
         "locationmode": "USA-states",
         "lon": [
          -73.8857,
          -73.9851
         ],
         "mode": "lines",
         "type": "scattergeo"
        },
        {
         "lat": [
          40.742,
          40.786
         ],
         "line": {
          "color": "rgb(117, 174, 255)",
          "width": 1
         },
         "locationmode": "USA-states",
         "lon": [
          -73.9851,
          -73.98100000000001
         ],
         "mode": "lines",
         "type": "scattergeo"
        },
        {
         "lat": [
          40.786,
          40.7059
         ],
         "line": {
          "color": "rgb(117, 174, 255)",
          "width": 1
         },
         "locationmode": "USA-states",
         "lon": [
          -73.98100000000001,
          -74.0167
         ],
         "mode": "lines",
         "type": "scattergeo"
        },
        {
         "lat": [
          40.7059,
          40.7401
         ],
         "line": {
          "color": "rgb(117, 174, 255)",
          "width": 1
         },
         "locationmode": "USA-states",
         "lon": [
          -74.0167,
          -73.9901
         ],
         "mode": "lines",
         "type": "scattergeo"
        },
        {
         "lat": [
          40.7401,
          40.7403
         ],
         "line": {
          "color": "rgb(117, 174, 255)",
          "width": 1
         },
         "locationmode": "USA-states",
         "lon": [
          -73.9901,
          -73.9884
         ],
         "mode": "lines",
         "type": "scattergeo"
        },
        {
         "lat": [
          40.7403,
          40.7243
         ],
         "line": {
          "color": "rgb(117, 174, 255)",
          "width": 1
         },
         "locationmode": "USA-states",
         "lon": [
          -73.9884,
          -73.9933
         ],
         "mode": "lines",
         "type": "scattergeo"
        },
        {
         "lat": [
          40.7243,
          40.733000000000004
         ],
         "line": {
          "color": "rgb(117, 174, 255)",
          "width": 1
         },
         "locationmode": "USA-states",
         "lon": [
          -73.9933,
          -73.9912
         ],
         "mode": "lines",
         "type": "scattergeo"
        },
        {
         "lat": [
          40.733000000000004,
          40.7535
         ],
         "line": {
          "color": "rgb(117, 174, 255)",
          "width": 1
         },
         "locationmode": "USA-states",
         "lon": [
          -73.9912,
          -73.9739
         ],
         "mode": "lines",
         "type": "scattergeo"
        },
        {
         "lat": [
          40.7535,
          40.7535
         ],
         "line": {
          "color": "rgb(117, 174, 255)",
          "width": 1
         },
         "locationmode": "USA-states",
         "lon": [
          -73.9739,
          -73.9739
         ],
         "mode": "lines",
         "type": "scattergeo"
        },
        {
         "lat": [
          40.7535,
          40.7615
         ],
         "line": {
          "color": "rgb(117, 174, 255)",
          "width": 1
         },
         "locationmode": "USA-states",
         "lon": [
          -73.9739,
          -73.9765
         ],
         "mode": "lines",
         "type": "scattergeo"
        },
        {
         "lat": [
          40.7615,
          40.7288
         ],
         "line": {
          "color": "rgb(117, 174, 255)",
          "width": 1
         },
         "locationmode": "USA-states",
         "lon": [
          -73.9765,
          -74.0347
         ],
         "mode": "lines",
         "type": "scattergeo"
        },
        {
         "lat": [
          40.7288,
          40.7219
         ],
         "line": {
          "color": "rgb(117, 174, 255)",
          "width": 1
         },
         "locationmode": "USA-states",
         "lon": [
          -74.0347,
          -74.0041
         ],
         "mode": "lines",
         "type": "scattergeo"
        },
        {
         "lat": [
          40.7219,
          40.7101
         ],
         "line": {
          "color": "rgb(117, 174, 255)",
          "width": 1
         },
         "locationmode": "USA-states",
         "lon": [
          -74.0041,
          -73.9688
         ],
         "mode": "lines",
         "type": "scattergeo"
        },
        {
         "lat": [
          40.7101,
          40.7473
         ],
         "line": {
          "color": "rgb(117, 174, 255)",
          "width": 1
         },
         "locationmode": "USA-states",
         "lon": [
          -73.9688,
          -74.0007
         ],
         "mode": "lines",
         "type": "scattergeo"
        },
        {
         "lat": [
          40.7473,
          40.6086
         ],
         "line": {
          "color": "rgb(117, 174, 255)",
          "width": 1
         },
         "locationmode": "USA-states",
         "lon": [
          -74.0007,
          -73.9326
         ],
         "mode": "lines",
         "type": "scattergeo"
        },
        {
         "lat": [
          40.6086,
          40.7103
         ],
         "line": {
          "color": "rgb(117, 174, 255)",
          "width": 1
         },
         "locationmode": "USA-states",
         "lon": [
          -73.9326,
          -73.9845
         ],
         "mode": "lines",
         "type": "scattergeo"
        },
        {
         "lat": [
          40.7103,
          40.7265
         ],
         "line": {
          "color": "rgb(117, 174, 255)",
          "width": 1
         },
         "locationmode": "USA-states",
         "lon": [
          -73.9845,
          -73.9832
         ],
         "mode": "lines",
         "type": "scattergeo"
        },
        {
         "lat": [
          40.7265,
          40.7829
         ],
         "line": {
          "color": "rgb(117, 174, 255)",
          "width": 1
         },
         "locationmode": "USA-states",
         "lon": [
          -73.9832,
          -73.4372
         ],
         "mode": "lines",
         "type": "scattergeo"
        },
        {
         "lat": [
          40.7829,
          40.7548
         ],
         "line": {
          "color": "rgb(117, 174, 255)",
          "width": 1
         },
         "locationmode": "USA-states",
         "lon": [
          -73.4372,
          -73.9734
         ],
         "mode": "lines",
         "type": "scattergeo"
        },
        {
         "lat": [
          40.7548,
          40.7548
         ],
         "line": {
          "color": "rgb(117, 174, 255)",
          "width": 1
         },
         "locationmode": "USA-states",
         "lon": [
          -73.9734,
          -73.9831
         ],
         "mode": "lines",
         "type": "scattergeo"
        },
        {
         "lat": [
          40.7548,
          40.7636
         ],
         "line": {
          "color": "rgb(117, 174, 255)",
          "width": 1
         },
         "locationmode": "USA-states",
         "lon": [
          -73.9831,
          -73.9814
         ],
         "mode": "lines",
         "type": "scattergeo"
        },
        {
         "lat": [
          40.7636,
          40.7643
         ],
         "line": {
          "color": "rgb(117, 174, 255)",
          "width": 1
         },
         "locationmode": "USA-states",
         "lon": [
          -73.9814,
          -73.9688
         ],
         "mode": "lines",
         "type": "scattergeo"
        },
        {
         "lat": [
          40.7643,
          40.7277
         ],
         "line": {
          "color": "rgb(117, 174, 255)",
          "width": 1
         },
         "locationmode": "USA-states",
         "lon": [
          -73.9688,
          -74.0346
         ],
         "mode": "lines",
         "type": "scattergeo"
        },
        {
         "lat": [
          40.7277,
          40.7277
         ],
         "line": {
          "color": "rgb(117, 174, 255)",
          "width": 1
         },
         "locationmode": "USA-states",
         "lon": [
          -74.0346,
          -74.0346
         ],
         "mode": "lines",
         "type": "scattergeo"
        },
        {
         "lat": [
          40.7277,
          40.7627
         ],
         "line": {
          "color": "rgb(117, 174, 255)",
          "width": 1
         },
         "locationmode": "USA-states",
         "lon": [
          -74.0346,
          -73.9779
         ],
         "mode": "lines",
         "type": "scattergeo"
        },
        {
         "lat": [
          40.7627,
          40.7551
         ],
         "line": {
          "color": "rgb(117, 174, 255)",
          "width": 1
         },
         "locationmode": "USA-states",
         "lon": [
          -73.9779,
          -73.9753
         ],
         "mode": "lines",
         "type": "scattergeo"
        },
        {
         "lat": [
          40.7551,
          40.6449
         ],
         "line": {
          "color": "rgb(117, 174, 255)",
          "width": 1
         },
         "locationmode": "USA-states",
         "lon": [
          -73.9753,
          -73.7822
         ],
         "mode": "lines",
         "type": "scattergeo"
        },
        {
         "lat": [
          40.6449,
          40.7327
         ],
         "line": {
          "color": "rgb(117, 174, 255)",
          "width": 1
         },
         "locationmode": "USA-states",
         "lon": [
          -73.7822,
          -73.99600000000001
         ],
         "mode": "lines",
         "type": "scattergeo"
        },
        {
         "lat": [
          40.7327,
          40.6757
         ],
         "line": {
          "color": "rgb(117, 174, 255)",
          "width": 1
         },
         "locationmode": "USA-states",
         "lon": [
          -73.99600000000001,
          -73.9844
         ],
         "mode": "lines",
         "type": "scattergeo"
        },
        {
         "lat": [
          40.6757,
          40.7414
         ],
         "line": {
          "color": "rgb(117, 174, 255)",
          "width": 1
         },
         "locationmode": "USA-states",
         "lon": [
          -73.9844,
          -73.9848
         ],
         "mode": "lines",
         "type": "scattergeo"
        },
        {
         "lat": [
          40.7414,
          40.7603
         ],
         "line": {
          "color": "rgb(117, 174, 255)",
          "width": 1
         },
         "locationmode": "USA-states",
         "lon": [
          -73.9848,
          -73.9782
         ],
         "mode": "lines",
         "type": "scattergeo"
        },
        {
         "lat": [
          40.7603,
          40.7243
         ],
         "line": {
          "color": "rgb(117, 174, 255)",
          "width": 1
         },
         "locationmode": "USA-states",
         "lon": [
          -73.9782,
          -73.9998
         ],
         "mode": "lines",
         "type": "scattergeo"
        },
        {
         "lat": [
          40.7243,
          40.7666
         ],
         "line": {
          "color": "rgb(117, 174, 255)",
          "width": 1
         },
         "locationmode": "USA-states",
         "lon": [
          -73.9998,
          -73.9692
         ],
         "mode": "lines",
         "type": "scattergeo"
        },
        {
         "lat": [
          40.7666,
          40.7093
         ],
         "line": {
          "color": "rgb(117, 174, 255)",
          "width": 1
         },
         "locationmode": "USA-states",
         "lon": [
          -73.9692,
          -73.9618
         ],
         "mode": "lines",
         "type": "scattergeo"
        },
        {
         "lat": [
          40.7093,
          40.7278
         ],
         "line": {
          "color": "rgb(117, 174, 255)",
          "width": 1
         },
         "locationmode": "USA-states",
         "lon": [
          -73.9618,
          -74.0017
         ],
         "mode": "lines",
         "type": "scattergeo"
        },
        {
         "lat": [
          40.7278,
          40.7545
         ],
         "line": {
          "color": "rgb(117, 174, 255)",
          "width": 1
         },
         "locationmode": "USA-states",
         "lon": [
          -74.0017,
          -73.9768
         ],
         "mode": "lines",
         "type": "scattergeo"
        },
        {
         "lat": [
          40.7545,
          40.7578
         ],
         "line": {
          "color": "rgb(117, 174, 255)",
          "width": 1
         },
         "locationmode": "USA-states",
         "lon": [
          -73.9768,
          -73.9691
         ],
         "mode": "lines",
         "type": "scattergeo"
        },
        {
         "lat": [
          40.7578,
          40.7457
         ],
         "line": {
          "color": "rgb(117, 174, 255)",
          "width": 1
         },
         "locationmode": "USA-states",
         "lon": [
          -73.9691,
          -74.0049
         ],
         "mode": "lines",
         "type": "scattergeo"
        },
        {
         "lat": [
          40.7457,
          40.7414
         ],
         "line": {
          "color": "rgb(117, 174, 255)",
          "width": 1
         },
         "locationmode": "USA-states",
         "lon": [
          -74.0049,
          -73.9913
         ],
         "mode": "lines",
         "type": "scattergeo"
        },
        {
         "lat": [
          40.7414,
          40.7678
         ],
         "line": {
          "color": "rgb(117, 174, 255)",
          "width": 1
         },
         "locationmode": "USA-states",
         "lon": [
          -73.9913,
          -73.9832
         ],
         "mode": "lines",
         "type": "scattergeo"
        },
        {
         "lat": [
          40.7678,
          40.758
         ],
         "line": {
          "color": "rgb(117, 174, 255)",
          "width": 1
         },
         "locationmode": "USA-states",
         "lon": [
          -73.9832,
          -73.9757
         ],
         "mode": "lines",
         "type": "scattergeo"
        },
        {
         "lat": [
          40.758,
          40.7284
         ],
         "line": {
          "color": "rgb(117, 174, 255)",
          "width": 1
         },
         "locationmode": "USA-states",
         "lon": [
          -73.9757,
          -74.0071
         ],
         "mode": "lines",
         "type": "scattergeo"
        },
        {
         "lat": [
          40.7284,
          40.7429
         ],
         "line": {
          "color": "rgb(117, 174, 255)",
          "width": 1
         },
         "locationmode": "USA-states",
         "lon": [
          -74.0071,
          -73.9886
         ],
         "mode": "lines",
         "type": "scattergeo"
        },
        {
         "lat": [
          40.7429,
          40.7591
         ],
         "line": {
          "color": "rgb(117, 174, 255)",
          "width": 1
         },
         "locationmode": "USA-states",
         "lon": [
          -73.9886,
          -73.9765
         ],
         "mode": "lines",
         "type": "scattergeo"
        },
        {
         "lat": [
          40.7591,
          40.763000000000005
         ],
         "line": {
          "color": "rgb(117, 174, 255)",
          "width": 1
         },
         "locationmode": "USA-states",
         "lon": [
          -73.9765,
          -73.9718
         ],
         "mode": "lines",
         "type": "scattergeo"
        },
        {
         "lat": [
          40.763000000000005,
          40.7782
         ],
         "line": {
          "color": "rgb(117, 174, 255)",
          "width": 1
         },
         "locationmode": "USA-states",
         "lon": [
          -73.9718,
          -73.962
         ],
         "mode": "lines",
         "type": "scattergeo"
        },
        {
         "lat": [
          40.7782,
          40.7782
         ],
         "line": {
          "color": "rgb(117, 174, 255)",
          "width": 1
         },
         "locationmode": "USA-states",
         "lon": [
          -73.962,
          -73.962
         ],
         "mode": "lines",
         "type": "scattergeo"
        },
        {
         "lat": [
          40.7782,
          40.7445
         ],
         "line": {
          "color": "rgb(117, 174, 255)",
          "width": 1
         },
         "locationmode": "USA-states",
         "lon": [
          -73.962,
          -74.0079
         ],
         "mode": "lines",
         "type": "scattergeo"
        },
        {
         "lat": [
          40.7445,
          40.7445
         ],
         "line": {
          "color": "rgb(117, 174, 255)",
          "width": 1
         },
         "locationmode": "USA-states",
         "lon": [
          -74.0079,
          -74.0079
         ],
         "mode": "lines",
         "type": "scattergeo"
        },
        {
         "lat": [
          40.7445,
          40.7642
         ],
         "line": {
          "color": "rgb(117, 174, 255)",
          "width": 1
         },
         "locationmode": "USA-states",
         "lon": [
          -74.0079,
          -73.9731
         ],
         "mode": "lines",
         "type": "scattergeo"
        },
        {
         "lat": [
          40.7642,
          40.7211
         ],
         "line": {
          "color": "rgb(117, 174, 255)",
          "width": 1
         },
         "locationmode": "USA-states",
         "lon": [
          -73.9731,
          -73.9569
         ],
         "mode": "lines",
         "type": "scattergeo"
        },
        {
         "lat": [
          40.7211,
          40.7077
         ],
         "line": {
          "color": "rgb(117, 174, 255)",
          "width": 1
         },
         "locationmode": "USA-states",
         "lon": [
          -73.9569,
          -74.0054
         ],
         "mode": "lines",
         "type": "scattergeo"
        },
        {
         "lat": [
          40.7077,
          40.7341
         ],
         "line": {
          "color": "rgb(117, 174, 255)",
          "width": 1
         },
         "locationmode": "USA-states",
         "lon": [
          -74.0054,
          -74.0039
         ],
         "mode": "lines",
         "type": "scattergeo"
        },
        {
         "lat": [
          40.7341,
          40.6164
         ],
         "line": {
          "color": "rgb(117, 174, 255)",
          "width": 1
         },
         "locationmode": "USA-states",
         "lon": [
          -74.0039,
          -73.9523
         ],
         "mode": "lines",
         "type": "scattergeo"
        },
        {
         "lat": [
          40.6164,
          40.7565
         ],
         "line": {
          "color": "rgb(117, 174, 255)",
          "width": 1
         },
         "locationmode": "USA-states",
         "lon": [
          -73.9523,
          -73.9746
         ],
         "mode": "lines",
         "type": "scattergeo"
        },
        {
         "lat": [
          40.7565,
          40.7592
         ],
         "line": {
          "color": "rgb(117, 174, 255)",
          "width": 1
         },
         "locationmode": "USA-states",
         "lon": [
          -73.9746,
          -74.0235
         ],
         "mode": "lines",
         "type": "scattergeo"
        },
        {
         "lat": [
          40.7592,
          40.7255
         ],
         "line": {
          "color": "rgb(117, 174, 255)",
          "width": 1
         },
         "locationmode": "USA-states",
         "lon": [
          -74.0235,
          -73.995
         ],
         "mode": "lines",
         "type": "scattergeo"
        },
        {
         "lat": [
          40.7255,
          40.764
         ],
         "line": {
          "color": "rgb(117, 174, 255)",
          "width": 1
         },
         "locationmode": "USA-states",
         "lon": [
          -73.995,
          -73.9713
         ],
         "mode": "lines",
         "type": "scattergeo"
        },
        {
         "lat": [
          40.764,
          40.7584
         ],
         "line": {
          "color": "rgb(117, 174, 255)",
          "width": 1
         },
         "locationmode": "USA-states",
         "lon": [
          -73.9713,
          -73.9724
         ],
         "mode": "lines",
         "type": "scattergeo"
        },
        {
         "lat": [
          40.7584,
          40.741
         ],
         "line": {
          "color": "rgb(117, 174, 255)",
          "width": 1
         },
         "locationmode": "USA-states",
         "lon": [
          -73.9724,
          -73.99
         ],
         "mode": "lines",
         "type": "scattergeo"
        },
        {
         "lat": [
          40.741,
          40.7215
         ],
         "line": {
          "color": "rgb(117, 174, 255)",
          "width": 1
         },
         "locationmode": "USA-states",
         "lon": [
          -73.99,
          -73.9989
         ],
         "mode": "lines",
         "type": "scattergeo"
        },
        {
         "lat": [
          40.7215,
          40.7558
         ],
         "line": {
          "color": "rgb(117, 174, 255)",
          "width": 1
         },
         "locationmode": "USA-states",
         "lon": [
          -73.9989,
          -73.9751
         ],
         "mode": "lines",
         "type": "scattergeo"
        },
        {
         "lat": [
          40.7558,
          40.7899
         ],
         "line": {
          "color": "rgb(117, 174, 255)",
          "width": 1
         },
         "locationmode": "USA-states",
         "lon": [
          -73.9751,
          -73.9697
         ],
         "mode": "lines",
         "type": "scattergeo"
        },
        {
         "lat": [
          40.7899,
          40.7219
         ],
         "line": {
          "color": "rgb(117, 174, 255)",
          "width": 1
         },
         "locationmode": "USA-states",
         "lon": [
          -73.9697,
          -74.0074
         ],
         "mode": "lines",
         "type": "scattergeo"
        },
        {
         "lat": [
          40.7219,
          40.743
         ],
         "line": {
          "color": "rgb(117, 174, 255)",
          "width": 1
         },
         "locationmode": "USA-states",
         "lon": [
          -74.0074,
          -74.0076
         ],
         "mode": "lines",
         "type": "scattergeo"
        },
        {
         "lat": [
          40.743,
          40.7688
         ],
         "line": {
          "color": "rgb(117, 174, 255)",
          "width": 1
         },
         "locationmode": "USA-states",
         "lon": [
          -74.0076,
          -73.8625
         ],
         "mode": "lines",
         "type": "scattergeo"
        },
        {
         "lat": [
          40.7688,
          40.7222
         ],
         "line": {
          "color": "rgb(117, 174, 255)",
          "width": 1
         },
         "locationmode": "USA-states",
         "lon": [
          -73.8625,
          -74.002
         ],
         "mode": "lines",
         "type": "scattergeo"
        },
        {
         "lat": [
          40.7222,
          40.7222
         ],
         "line": {
          "color": "rgb(117, 174, 255)",
          "width": 1
         },
         "locationmode": "USA-states",
         "lon": [
          -74.002,
          -74.002
         ],
         "mode": "lines",
         "type": "scattergeo"
        },
        {
         "lat": [
          40.7222,
          40.7578
         ],
         "line": {
          "color": "rgb(117, 174, 255)",
          "width": 1
         },
         "locationmode": "USA-states",
         "lon": [
          -74.002,
          -73.9722
         ],
         "mode": "lines",
         "type": "scattergeo"
        },
        {
         "lat": [
          40.7578,
          40.7045
         ],
         "line": {
          "color": "rgb(117, 174, 255)",
          "width": 1
         },
         "locationmode": "USA-states",
         "lon": [
          -73.9722,
          -74.0103
         ],
         "mode": "lines",
         "type": "scattergeo"
        },
        {
         "lat": [
          40.7045,
          40.7624
         ],
         "line": {
          "color": "rgb(117, 174, 255)",
          "width": 1
         },
         "locationmode": "USA-states",
         "lon": [
          -74.0103,
          -73.9835
         ],
         "mode": "lines",
         "type": "scattergeo"
        },
        {
         "lat": [
          40.7624,
          40.7525
         ],
         "line": {
          "color": "rgb(117, 174, 255)",
          "width": 1
         },
         "locationmode": "USA-states",
         "lon": [
          -73.9835,
          -73.9754
         ],
         "mode": "lines",
         "type": "scattergeo"
        },
        {
         "lat": [
          40.7525,
          40.7065
         ],
         "line": {
          "color": "rgb(117, 174, 255)",
          "width": 1
         },
         "locationmode": "USA-states",
         "lon": [
          -73.9754,
          -74.0094
         ],
         "mode": "lines",
         "type": "scattergeo"
        },
        {
         "lat": [
          40.7065,
          40.7354
         ],
         "line": {
          "color": "rgb(117, 174, 255)",
          "width": 1
         },
         "locationmode": "USA-states",
         "lon": [
          -74.0094,
          -74.1689
         ],
         "mode": "lines",
         "type": "scattergeo"
        },
        {
         "lat": [
          40.7354,
          40.7733
         ],
         "line": {
          "color": "rgb(117, 174, 255)",
          "width": 1
         },
         "locationmode": "USA-states",
         "lon": [
          -74.1689,
          -73.9548
         ],
         "mode": "lines",
         "type": "scattergeo"
        },
        {
         "lat": [
          40.7733,
          40.7287
         ],
         "line": {
          "color": "rgb(117, 174, 255)",
          "width": 1
         },
         "locationmode": "USA-states",
         "lon": [
          -73.9548,
          -73.9984
         ],
         "mode": "lines",
         "type": "scattergeo"
        },
        {
         "lat": [
          40.7287,
          40.7123
         ],
         "line": {
          "color": "rgb(117, 174, 255)",
          "width": 1
         },
         "locationmode": "USA-states",
         "lon": [
          -73.9984,
          -73.9951
         ],
         "mode": "lines",
         "type": "scattergeo"
        },
        {
         "lat": [
          40.7123,
          40.7608
         ],
         "line": {
          "color": "rgb(117, 174, 255)",
          "width": 1
         },
         "locationmode": "USA-states",
         "lon": [
          -73.9951,
          -73.979
         ],
         "mode": "lines",
         "type": "scattergeo"
        },
        {
         "lat": [
          40.7608,
          40.7843
         ],
         "line": {
          "color": "rgb(117, 174, 255)",
          "width": 1
         },
         "locationmode": "USA-states",
         "lon": [
          -73.979,
          -73.9539
         ],
         "mode": "lines",
         "type": "scattergeo"
        },
        {
         "lat": [
          40.7843,
          40.7843
         ],
         "line": {
          "color": "rgb(117, 174, 255)",
          "width": 1
         },
         "locationmode": "USA-states",
         "lon": [
          -73.9539,
          -73.9539
         ],
         "mode": "lines",
         "type": "scattergeo"
        },
        {
         "lat": [
          40.7843,
          40.6836
         ],
         "line": {
          "color": "rgb(117, 174, 255)",
          "width": 1
         },
         "locationmode": "USA-states",
         "lon": [
          -73.9539,
          -73.9975
         ],
         "mode": "lines",
         "type": "scattergeo"
        },
        {
         "lat": [
          40.6836,
          40.6971
         ],
         "line": {
          "color": "rgb(117, 174, 255)",
          "width": 1
         },
         "locationmode": "USA-states",
         "lon": [
          -73.9975,
          -73.9949
         ],
         "mode": "lines",
         "type": "scattergeo"
        },
        {
         "lat": [
          40.6971,
          40.6881
         ],
         "line": {
          "color": "rgb(117, 174, 255)",
          "width": 1
         },
         "locationmode": "USA-states",
         "lon": [
          -73.9949,
          -74.183
         ],
         "mode": "lines",
         "type": "scattergeo"
        },
        {
         "lat": [
          40.6881,
          40.7417
         ],
         "line": {
          "color": "rgb(117, 174, 255)",
          "width": 1
         },
         "locationmode": "USA-states",
         "lon": [
          -74.183,
          -73.9918
         ],
         "mode": "lines",
         "type": "scattergeo"
        },
        {
         "lat": [
          40.7417,
          40.7605
         ],
         "line": {
          "color": "rgb(117, 174, 255)",
          "width": 1
         },
         "locationmode": "USA-states",
         "lon": [
          -73.9918,
          -73.9754
         ],
         "mode": "lines",
         "type": "scattergeo"
        },
        {
         "lat": [
          40.7605,
          40.7641
         ],
         "line": {
          "color": "rgb(117, 174, 255)",
          "width": 1
         },
         "locationmode": "USA-states",
         "lon": [
          -73.9754,
          -73.9813
         ],
         "mode": "lines",
         "type": "scattergeo"
        },
        {
         "lat": [
          40.7641,
          40.727
         ],
         "line": {
          "color": "rgb(117, 174, 255)",
          "width": 1
         },
         "locationmode": "USA-states",
         "lon": [
          -73.9813,
          -73.9998
         ],
         "mode": "lines",
         "type": "scattergeo"
        },
        {
         "lat": [
          40.727,
          40.7453
         ],
         "line": {
          "color": "rgb(117, 174, 255)",
          "width": 1
         },
         "locationmode": "USA-states",
         "lon": [
          -73.9998,
          -73.9908
         ],
         "mode": "lines",
         "type": "scattergeo"
        },
        {
         "lat": [
          40.7453,
          40.714
         ],
         "line": {
          "color": "rgb(117, 174, 255)",
          "width": 1
         },
         "locationmode": "USA-states",
         "lon": [
          -73.9908,
          -73.9552
         ],
         "mode": "lines",
         "type": "scattergeo"
        },
        {
         "lat": [
          40.714,
          40.7368
         ],
         "line": {
          "color": "rgb(117, 174, 255)",
          "width": 1
         },
         "locationmode": "USA-states",
         "lon": [
          -73.9552,
          -73.9888
         ],
         "mode": "lines",
         "type": "scattergeo"
        },
        {
         "lat": [
          40.7368,
          40.7321
         ],
         "line": {
          "color": "rgb(117, 174, 255)",
          "width": 1
         },
         "locationmode": "USA-states",
         "lon": [
          -73.9888,
          -73.9865
         ],
         "mode": "lines",
         "type": "scattergeo"
        },
        {
         "lat": [
          40.7321,
          40.764
         ],
         "line": {
          "color": "rgb(117, 174, 255)",
          "width": 1
         },
         "locationmode": "USA-states",
         "lon": [
          -73.9865,
          -73.979
         ],
         "mode": "lines",
         "type": "scattergeo"
        },
        {
         "lat": [
          40.764,
          40.7308
         ],
         "line": {
          "color": "rgb(117, 174, 255)",
          "width": 1
         },
         "locationmode": "USA-states",
         "lon": [
          -73.979,
          -74.0068
         ],
         "mode": "lines",
         "type": "scattergeo"
        },
        {
         "lat": [
          40.7308,
          40.7541
         ],
         "line": {
          "color": "rgb(117, 174, 255)",
          "width": 1
         },
         "locationmode": "USA-states",
         "lon": [
          -74.0068,
          -73.9764
         ],
         "mode": "lines",
         "type": "scattergeo"
        },
        {
         "lat": [
          40.7541,
          40.7408
         ],
         "line": {
          "color": "rgb(117, 174, 255)",
          "width": 1
         },
         "locationmode": "USA-states",
         "lon": [
          -73.9764,
          -73.992
         ],
         "mode": "lines",
         "type": "scattergeo"
        },
        {
         "lat": [
          40.7408,
          40.7581
         ],
         "line": {
          "color": "rgb(117, 174, 255)",
          "width": 1
         },
         "locationmode": "USA-states",
         "lon": [
          -73.992,
          -73.9751
         ],
         "mode": "lines",
         "type": "scattergeo"
        },
        {
         "lat": [
          40.7581,
          40.7234
         ],
         "line": {
          "color": "rgb(117, 174, 255)",
          "width": 1
         },
         "locationmode": "USA-states",
         "lon": [
          -73.9751,
          -74.0036
         ],
         "mode": "lines",
         "type": "scattergeo"
        },
        {
         "lat": [
          40.7234,
          40.7727
         ],
         "line": {
          "color": "rgb(117, 174, 255)",
          "width": 1
         },
         "locationmode": "USA-states",
         "lon": [
          -74.0036,
          -73.9558
         ],
         "mode": "lines",
         "type": "scattergeo"
        },
        {
         "lat": [
          40.7727,
          40.7625
         ],
         "line": {
          "color": "rgb(117, 174, 255)",
          "width": 1
         },
         "locationmode": "USA-states",
         "lon": [
          -73.9558,
          -73.9769
         ],
         "mode": "lines",
         "type": "scattergeo"
        },
        {
         "lat": [
          40.7625,
          40.738
         ],
         "line": {
          "color": "rgb(117, 174, 255)",
          "width": 1
         },
         "locationmode": "USA-states",
         "lon": [
          -73.9769,
          -74.0308
         ],
         "mode": "lines",
         "type": "scattergeo"
        },
        {
         "lat": [
          40.738,
          40.7517
         ],
         "line": {
          "color": "rgb(117, 174, 255)",
          "width": 1
         },
         "locationmode": "USA-states",
         "lon": [
          -74.0308,
          -73.9862
         ],
         "mode": "lines",
         "type": "scattergeo"
        },
        {
         "lat": [
          40.7517,
          40.7274
         ],
         "line": {
          "color": "rgb(117, 174, 255)",
          "width": 1
         },
         "locationmode": "USA-states",
         "lon": [
          -73.9862,
          -74.0057
         ],
         "mode": "lines",
         "type": "scattergeo"
        },
        {
         "lat": [
          40.7274,
          40.7324
         ],
         "line": {
          "color": "rgb(117, 174, 255)",
          "width": 1
         },
         "locationmode": "USA-states",
         "lon": [
          -74.0057,
          -73.9969
         ],
         "mode": "lines",
         "type": "scattergeo"
        },
        {
         "lat": [
          40.7324,
          40.7304
         ],
         "line": {
          "color": "rgb(117, 174, 255)",
          "width": 1
         },
         "locationmode": "USA-states",
         "lon": [
          -73.9969,
          -74.0461
         ],
         "mode": "lines",
         "type": "scattergeo"
        },
        {
         "lat": [
          40.7304,
          40.7104
         ],
         "line": {
          "color": "rgb(117, 174, 255)",
          "width": 1
         },
         "locationmode": "USA-states",
         "lon": [
          -74.0461,
          -73.9847
         ],
         "mode": "lines",
         "type": "scattergeo"
        },
        {
         "lat": [
          40.7104,
          40.7441
         ],
         "line": {
          "color": "rgb(117, 174, 255)",
          "width": 1
         },
         "locationmode": "USA-states",
         "lon": [
          -73.9847,
          -73.984
         ],
         "mode": "lines",
         "type": "scattergeo"
        },
        {
         "lat": [
          40.7441,
          40.8262
         ],
         "line": {
          "color": "rgb(117, 174, 255)",
          "width": 1
         },
         "locationmode": "USA-states",
         "lon": [
          -73.984,
          -73.9439
         ],
         "mode": "lines",
         "type": "scattergeo"
        },
        {
         "lat": [
          40.8262,
          40.7218
         ],
         "line": {
          "color": "rgb(117, 174, 255)",
          "width": 1
         },
         "locationmode": "USA-states",
         "lon": [
          -73.9439,
          -74.0042
         ],
         "mode": "lines",
         "type": "scattergeo"
        },
        {
         "lat": [
          40.7218,
          40.7594
         ],
         "line": {
          "color": "rgb(117, 174, 255)",
          "width": 1
         },
         "locationmode": "USA-states",
         "lon": [
          -74.0042,
          -73.9828
         ],
         "mode": "lines",
         "type": "scattergeo"
        },
        {
         "lat": [
          40.7594,
          40.7327
         ],
         "line": {
          "color": "rgb(117, 174, 255)",
          "width": 1
         },
         "locationmode": "USA-states",
         "lon": [
          -73.9828,
          -74.0077
         ],
         "mode": "lines",
         "type": "scattergeo"
        },
        {
         "lat": [
          40.7327,
          40.7616
         ],
         "line": {
          "color": "rgb(117, 174, 255)",
          "width": 1
         },
         "locationmode": "USA-states",
         "lon": [
          -74.0077,
          -73.9825
         ],
         "mode": "lines",
         "type": "scattergeo"
        },
        {
         "lat": [
          40.7616,
          40.759
         ],
         "line": {
          "color": "rgb(117, 174, 255)",
          "width": 1
         },
         "locationmode": "USA-states",
         "lon": [
          -73.9825,
          -73.9624
         ],
         "mode": "lines",
         "type": "scattergeo"
        },
        {
         "lat": [
          40.759,
          40.6879
         ],
         "line": {
          "color": "rgb(117, 174, 255)",
          "width": 1
         },
         "locationmode": "USA-states",
         "lon": [
          -73.9624,
          -74.181
         ],
         "mode": "lines",
         "type": "scattergeo"
        },
        {
         "lat": [
          40.6879,
          40.7122
         ],
         "line": {
          "color": "rgb(117, 174, 255)",
          "width": 1
         },
         "locationmode": "USA-states",
         "lon": [
          -74.181,
          -73.8232
         ],
         "mode": "lines",
         "type": "scattergeo"
        },
        {
         "lat": [
          40.7122,
          40.764
         ],
         "line": {
          "color": "rgb(117, 174, 255)",
          "width": 1
         },
         "locationmode": "USA-states",
         "lon": [
          -73.8232,
          -73.9766
         ],
         "mode": "lines",
         "type": "scattergeo"
        },
        {
         "lat": [
          40.764,
          40.7167
         ],
         "line": {
          "color": "rgb(117, 174, 255)",
          "width": 1
         },
         "locationmode": "USA-states",
         "lon": [
          -73.9766,
          -74.0024
         ],
         "mode": "lines",
         "type": "scattergeo"
        },
        {
         "lat": [
          40.7167,
          40.6953
         ],
         "line": {
          "color": "rgb(117, 174, 255)",
          "width": 1
         },
         "locationmode": "USA-states",
         "lon": [
          -74.0024,
          -74.1798
         ],
         "mode": "lines",
         "type": "scattergeo"
        },
        {
         "lat": [
          40.6953,
          40.7371
         ],
         "line": {
          "color": "rgb(117, 174, 255)",
          "width": 1
         },
         "locationmode": "USA-states",
         "lon": [
          -74.1798,
          -74.0021
         ],
         "mode": "lines",
         "type": "scattergeo"
        },
        {
         "lat": [
          40.7371,
          40.7437
         ],
         "line": {
          "color": "rgb(117, 174, 255)",
          "width": 1
         },
         "locationmode": "USA-states",
         "lon": [
          -74.0021,
          -73.9792
         ],
         "mode": "lines",
         "type": "scattergeo"
        },
        {
         "lat": [
          40.7437,
          40.751
         ],
         "line": {
          "color": "rgb(117, 174, 255)",
          "width": 1
         },
         "locationmode": "USA-states",
         "lon": [
          -73.9792,
          -73.9729
         ],
         "mode": "lines",
         "type": "scattergeo"
        },
        {
         "lat": [
          40.751,
          40.7999
         ],
         "line": {
          "color": "rgb(117, 174, 255)",
          "width": 1
         },
         "locationmode": "USA-states",
         "lon": [
          -73.9729,
          -73.6507
         ],
         "mode": "lines",
         "type": "scattergeo"
        },
        {
         "lat": [
          40.7999,
          40.7261
         ],
         "line": {
          "color": "rgb(117, 174, 255)",
          "width": 1
         },
         "locationmode": "USA-states",
         "lon": [
          -73.6507,
          -73.9962
         ],
         "mode": "lines",
         "type": "scattergeo"
        },
        {
         "lat": [
          40.7261,
          40.702
         ],
         "line": {
          "color": "rgb(117, 174, 255)",
          "width": 1
         },
         "locationmode": "USA-states",
         "lon": [
          -73.9962,
          -73.9867
         ],
         "mode": "lines",
         "type": "scattergeo"
        },
        {
         "lat": [
          40.702,
          40.6436
         ],
         "line": {
          "color": "rgb(117, 174, 255)",
          "width": 1
         },
         "locationmode": "USA-states",
         "lon": [
          -73.9867,
          -73.7899
         ],
         "mode": "lines",
         "type": "scattergeo"
        },
        {
         "lat": [
          40.6436,
          40.7295
         ],
         "line": {
          "color": "rgb(117, 174, 255)",
          "width": 1
         },
         "locationmode": "USA-states",
         "lon": [
          -73.7899,
          -73.987
         ],
         "mode": "lines",
         "type": "scattergeo"
        },
        {
         "lat": [
          40.7295,
          40.7102
         ],
         "line": {
          "color": "rgb(117, 174, 255)",
          "width": 1
         },
         "locationmode": "USA-states",
         "lon": [
          -73.987,
          -74.015
         ],
         "mode": "lines",
         "type": "scattergeo"
        },
        {
         "lat": [
          40.7102,
          40.7592
         ],
         "line": {
          "color": "rgb(117, 174, 255)",
          "width": 1
         },
         "locationmode": "USA-states",
         "lon": [
          -74.015,
          -73.9777
         ],
         "mode": "lines",
         "type": "scattergeo"
        },
        {
         "lat": [
          40.7592,
          40.7995
         ],
         "line": {
          "color": "rgb(117, 174, 255)",
          "width": 1
         },
         "locationmode": "USA-states",
         "lon": [
          -73.9777,
          -73.9638
         ],
         "mode": "lines",
         "type": "scattergeo"
        },
        {
         "lat": [
          40.7995,
          40.7333
         ],
         "line": {
          "color": "rgb(117, 174, 255)",
          "width": 1
         },
         "locationmode": "USA-states",
         "lon": [
          -73.9638,
          -74.0056
         ],
         "mode": "lines",
         "type": "scattergeo"
        },
        {
         "lat": [
          40.7333,
          40.8132
         ],
         "line": {
          "color": "rgb(117, 174, 255)",
          "width": 1
         },
         "locationmode": "USA-states",
         "lon": [
          -74.0056,
          -74.2143
         ],
         "mode": "lines",
         "type": "scattergeo"
        },
        {
         "lat": [
          40.8132,
          40.7384
         ],
         "line": {
          "color": "rgb(117, 174, 255)",
          "width": 1
         },
         "locationmode": "USA-states",
         "lon": [
          -74.2143,
          -73.9917
         ],
         "mode": "lines",
         "type": "scattergeo"
        },
        {
         "lat": [
          40.7384,
          40.7236
         ],
         "line": {
          "color": "rgb(117, 174, 255)",
          "width": 1
         },
         "locationmode": "USA-states",
         "lon": [
          -73.9917,
          -74.0027
         ],
         "mode": "lines",
         "type": "scattergeo"
        },
        {
         "lat": [
          40.7236,
          40.764
         ],
         "line": {
          "color": "rgb(117, 174, 255)",
          "width": 1
         },
         "locationmode": "USA-states",
         "lon": [
          -74.0027,
          -73.9766
         ],
         "mode": "lines",
         "type": "scattergeo"
        },
        {
         "lat": [
          40.764,
          40.7533
         ],
         "line": {
          "color": "rgb(117, 174, 255)",
          "width": 1
         },
         "locationmode": "USA-states",
         "lon": [
          -73.9766,
          -73.9664
         ],
         "mode": "lines",
         "type": "scattergeo"
        },
        {
         "lat": [
          40.7533,
          40.7636
         ],
         "line": {
          "color": "rgb(117, 174, 255)",
          "width": 1
         },
         "locationmode": "USA-states",
         "lon": [
          -73.9664,
          -73.9794
         ],
         "mode": "lines",
         "type": "scattergeo"
        },
        {
         "lat": [
          40.7636,
          40.7322
         ],
         "line": {
          "color": "rgb(117, 174, 255)",
          "width": 1
         },
         "locationmode": "USA-states",
         "lon": [
          -73.9794,
          -74.0076
         ],
         "mode": "lines",
         "type": "scattergeo"
        },
        {
         "lat": [
          40.7322,
          40.7146
         ],
         "line": {
          "color": "rgb(117, 174, 255)",
          "width": 1
         },
         "locationmode": "USA-states",
         "lon": [
          -74.0076,
          -74.0101
         ],
         "mode": "lines",
         "type": "scattergeo"
        },
        {
         "lat": [
          40.7146,
          40.7271
         ],
         "line": {
          "color": "rgb(117, 174, 255)",
          "width": 1
         },
         "locationmode": "USA-states",
         "lon": [
          -74.0101,
          -74.0347
         ],
         "mode": "lines",
         "type": "scattergeo"
        },
        {
         "lat": [
          40.7271,
          40.7475
         ],
         "line": {
          "color": "rgb(117, 174, 255)",
          "width": 1
         },
         "locationmode": "USA-states",
         "lon": [
          -74.0347,
          -74.009
         ],
         "mode": "lines",
         "type": "scattergeo"
        },
        {
         "lat": [
          40.7475,
          40.7685
         ],
         "line": {
          "color": "rgb(117, 174, 255)",
          "width": 1
         },
         "locationmode": "USA-states",
         "lon": [
          -74.009,
          -73.8626
         ],
         "mode": "lines",
         "type": "scattergeo"
        },
        {
         "lat": [
          40.7685,
          40.7685
         ],
         "line": {
          "color": "rgb(117, 174, 255)",
          "width": 1
         },
         "locationmode": "USA-states",
         "lon": [
          -73.8626,
          -73.8626
         ],
         "mode": "lines",
         "type": "scattergeo"
        },
        {
         "lat": [
          40.7685,
          40.7218
         ],
         "line": {
          "color": "rgb(117, 174, 255)",
          "width": 1
         },
         "locationmode": "USA-states",
         "lon": [
          -73.8626,
          -73.9829
         ],
         "mode": "lines",
         "type": "scattergeo"
        },
        {
         "lat": [
          40.7218,
          40.6449
         ],
         "line": {
          "color": "rgb(117, 174, 255)",
          "width": 1
         },
         "locationmode": "USA-states",
         "lon": [
          -73.9829,
          -73.7822
         ],
         "mode": "lines",
         "type": "scattergeo"
        },
        {
         "lat": [
          40.6449,
          40.7274
         ],
         "line": {
          "color": "rgb(117, 174, 255)",
          "width": 1
         },
         "locationmode": "USA-states",
         "lon": [
          -73.7822,
          -73.9937
         ],
         "mode": "lines",
         "type": "scattergeo"
        },
        {
         "lat": [
          40.7274,
          40.73
         ],
         "line": {
          "color": "rgb(117, 174, 255)",
          "width": 1
         },
         "locationmode": "USA-states",
         "lon": [
          -73.9937,
          -73.9856
         ],
         "mode": "lines",
         "type": "scattergeo"
        },
        {
         "lat": [
          40.73,
          40.7195
         ],
         "line": {
          "color": "rgb(117, 174, 255)",
          "width": 1
         },
         "locationmode": "USA-states",
         "lon": [
          -73.9856,
          -74.0323
         ],
         "mode": "lines",
         "type": "scattergeo"
        },
        {
         "lat": [
          40.7195,
          40.7195
         ],
         "line": {
          "color": "rgb(117, 174, 255)",
          "width": 1
         },
         "locationmode": "USA-states",
         "lon": [
          -74.0323,
          -74.0323
         ],
         "mode": "lines",
         "type": "scattergeo"
        },
        {
         "lat": [
          40.7195,
          40.7103
         ],
         "line": {
          "color": "rgb(117, 174, 255)",
          "width": 1
         },
         "locationmode": "USA-states",
         "lon": [
          -74.0323,
          -73.9847
         ],
         "mode": "lines",
         "type": "scattergeo"
        },
        {
         "lat": [
          40.7103,
          40.7516
         ],
         "line": {
          "color": "rgb(117, 174, 255)",
          "width": 1
         },
         "locationmode": "USA-states",
         "lon": [
          -73.9847,
          -73.977
         ],
         "mode": "lines",
         "type": "scattergeo"
        },
        {
         "lat": [
          40.7516,
          40.7608
         ],
         "line": {
          "color": "rgb(117, 174, 255)",
          "width": 1
         },
         "locationmode": "USA-states",
         "lon": [
          -73.977,
          -73.979
         ],
         "mode": "lines",
         "type": "scattergeo"
        },
        {
         "lat": [
          40.7608,
          40.7636
         ],
         "line": {
          "color": "rgb(117, 174, 255)",
          "width": 1
         },
         "locationmode": "USA-states",
         "lon": [
          -73.979,
          -73.9754
         ],
         "mode": "lines",
         "type": "scattergeo"
        },
        {
         "lat": [
          40.7636,
          40.7588
         ],
         "line": {
          "color": "rgb(117, 174, 255)",
          "width": 1
         },
         "locationmode": "USA-states",
         "lon": [
          -73.9754,
          -73.9776
         ],
         "mode": "lines",
         "type": "scattergeo"
        },
        {
         "lat": [
          40.7588,
          40.742
         ],
         "line": {
          "color": "rgb(117, 174, 255)",
          "width": 1
         },
         "locationmode": "USA-states",
         "lon": [
          -73.9776,
          -74.0055
         ],
         "mode": "lines",
         "type": "scattergeo"
        },
        {
         "lat": [
          40.742,
          40.7497
         ],
         "line": {
          "color": "rgb(117, 174, 255)",
          "width": 1
         },
         "locationmode": "USA-states",
         "lon": [
          -74.0055,
          -73.9931
         ],
         "mode": "lines",
         "type": "scattergeo"
        },
        {
         "lat": [
          40.7497,
          40.7399
         ],
         "line": {
          "color": "rgb(117, 174, 255)",
          "width": 1
         },
         "locationmode": "USA-states",
         "lon": [
          -73.9931,
          -73.9934
         ],
         "mode": "lines",
         "type": "scattergeo"
        },
        {
         "lat": [
          40.7399,
          40.736999999999995
         ],
         "line": {
          "color": "rgb(117, 174, 255)",
          "width": 1
         },
         "locationmode": "USA-states",
         "lon": [
          -73.9934,
          -73.998
         ],
         "mode": "lines",
         "type": "scattergeo"
        },
        {
         "lat": [
          40.736999999999995,
          40.7345
         ],
         "line": {
          "color": "rgb(117, 174, 255)",
          "width": 1
         },
         "locationmode": "USA-states",
         "lon": [
          -73.998,
          -74.01
         ],
         "mode": "lines",
         "type": "scattergeo"
        },
        {
         "lat": [
          40.7345,
          40.7737
         ],
         "line": {
          "color": "rgb(117, 174, 255)",
          "width": 1
         },
         "locationmode": "USA-states",
         "lon": [
          -74.01,
          -73.956
         ],
         "mode": "lines",
         "type": "scattergeo"
        },
        {
         "lat": [
          40.7737,
          40.7233
         ],
         "line": {
          "color": "rgb(117, 174, 255)",
          "width": 1
         },
         "locationmode": "USA-states",
         "lon": [
          -73.956,
          -74.0083
         ],
         "mode": "lines",
         "type": "scattergeo"
        },
        {
         "lat": [
          40.7233,
          40.7186
         ],
         "line": {
          "color": "rgb(117, 174, 255)",
          "width": 1
         },
         "locationmode": "USA-states",
         "lon": [
          -74.0083,
          -74.0339
         ],
         "mode": "lines",
         "type": "scattergeo"
        },
        {
         "lat": [
          40.7186,
          40.7186
         ],
         "line": {
          "color": "rgb(117, 174, 255)",
          "width": 1
         },
         "locationmode": "USA-states",
         "lon": [
          -74.0339,
          -74.0339
         ],
         "mode": "lines",
         "type": "scattergeo"
        },
        {
         "lat": [
          40.7186,
          40.7308
         ],
         "line": {
          "color": "rgb(117, 174, 255)",
          "width": 1
         },
         "locationmode": "USA-states",
         "lon": [
          -74.0339,
          -74.001
         ],
         "mode": "lines",
         "type": "scattergeo"
        },
        {
         "lat": [
          40.7308,
          40.7546
         ],
         "line": {
          "color": "rgb(117, 174, 255)",
          "width": 1
         },
         "locationmode": "USA-states",
         "lon": [
          -74.001,
          -73.9893
         ],
         "mode": "lines",
         "type": "scattergeo"
        },
        {
         "lat": [
          40.7546,
          40.7592
         ],
         "line": {
          "color": "rgb(117, 174, 255)",
          "width": 1
         },
         "locationmode": "USA-states",
         "lon": [
          -73.9893,
          -74.0228
         ],
         "mode": "lines",
         "type": "scattergeo"
        },
        {
         "lat": [
          40.7592,
          40.7555
         ],
         "line": {
          "color": "rgb(117, 174, 255)",
          "width": 1
         },
         "locationmode": "USA-states",
         "lon": [
          -74.0228,
          -73.9731
         ],
         "mode": "lines",
         "type": "scattergeo"
        },
        {
         "lat": [
          40.7555,
          40.7649
         ],
         "line": {
          "color": "rgb(117, 174, 255)",
          "width": 1
         },
         "locationmode": "USA-states",
         "lon": [
          -73.9731,
          -73.9807
         ],
         "mode": "lines",
         "type": "scattergeo"
        },
        {
         "lat": [
          40.7649,
          40.7617
         ],
         "line": {
          "color": "rgb(117, 174, 255)",
          "width": 1
         },
         "locationmode": "USA-states",
         "lon": [
          -73.9807,
          -73.9845
         ],
         "mode": "lines",
         "type": "scattergeo"
        },
        {
         "lat": [
          40.7617,
          40.7138
         ],
         "line": {
          "color": "rgb(117, 174, 255)",
          "width": 1
         },
         "locationmode": "USA-states",
         "lon": [
          -73.9845,
          -74.0635
         ],
         "mode": "lines",
         "type": "scattergeo"
        },
        {
         "lat": [
          40.7138,
          40.7218
         ],
         "line": {
          "color": "rgb(117, 174, 255)",
          "width": 1
         },
         "locationmode": "USA-states",
         "lon": [
          -74.0635,
          -73.9934
         ],
         "mode": "lines",
         "type": "scattergeo"
        },
        {
         "lat": [
          40.7218,
          40.7203
         ],
         "line": {
          "color": "rgb(117, 174, 255)",
          "width": 1
         },
         "locationmode": "USA-states",
         "lon": [
          -73.9934,
          -73.9794
         ],
         "mode": "lines",
         "type": "scattergeo"
        },
        {
         "lat": [
          40.7203,
          40.7324
         ],
         "line": {
          "color": "rgb(117, 174, 255)",
          "width": 1
         },
         "locationmode": "USA-states",
         "lon": [
          -73.9794,
          -73.9931
         ],
         "mode": "lines",
         "type": "scattergeo"
        },
        {
         "lat": [
          40.7324,
          40.7035
         ],
         "line": {
          "color": "rgb(117, 174, 255)",
          "width": 1
         },
         "locationmode": "USA-states",
         "lon": [
          -73.9931,
          -73.9907
         ],
         "mode": "lines",
         "type": "scattergeo"
        },
        {
         "lat": [
          40.7035,
          40.7636
         ],
         "line": {
          "color": "rgb(117, 174, 255)",
          "width": 1
         },
         "locationmode": "USA-states",
         "lon": [
          -73.9907,
          -73.9694
         ],
         "mode": "lines",
         "type": "scattergeo"
        },
        {
         "lat": [
          40.7636,
          40.7498
         ],
         "line": {
          "color": "rgb(117, 174, 255)",
          "width": 1
         },
         "locationmode": "USA-states",
         "lon": [
          -73.9694,
          -73.9899
         ],
         "mode": "lines",
         "type": "scattergeo"
        },
        {
         "lat": [
          40.7498,
          40.7634
         ],
         "line": {
          "color": "rgb(117, 174, 255)",
          "width": 1
         },
         "locationmode": "USA-states",
         "lon": [
          -73.9899,
          -73.9792
         ],
         "mode": "lines",
         "type": "scattergeo"
        },
        {
         "lat": [
          40.7634,
          40.7655
         ],
         "line": {
          "color": "rgb(117, 174, 255)",
          "width": 1
         },
         "locationmode": "USA-states",
         "lon": [
          -73.9792,
          -73.9758
         ],
         "mode": "lines",
         "type": "scattergeo"
        },
        {
         "lat": [
          40.7655,
          40.6728
         ],
         "line": {
          "color": "rgb(117, 174, 255)",
          "width": 1
         },
         "locationmode": "USA-states",
         "lon": [
          -73.9758,
          -73.9834
         ],
         "mode": "lines",
         "type": "scattergeo"
        },
        {
         "lat": [
          40.6728,
          40.7626
         ],
         "line": {
          "color": "rgb(117, 174, 255)",
          "width": 1
         },
         "locationmode": "USA-states",
         "lon": [
          -73.9834,
          -73.9787
         ],
         "mode": "lines",
         "type": "scattergeo"
        },
        {
         "lat": [
          40.7626,
          40.7406
         ],
         "line": {
          "color": "rgb(117, 174, 255)",
          "width": 1
         },
         "locationmode": "USA-states",
         "lon": [
          -73.9787,
          -74.0068
         ],
         "mode": "lines",
         "type": "scattergeo"
        },
        {
         "lat": [
          40.7406,
          40.7605
         ],
         "line": {
          "color": "rgb(117, 174, 255)",
          "width": 1
         },
         "locationmode": "USA-states",
         "lon": [
          -74.0068,
          -73.9706
         ],
         "mode": "lines",
         "type": "scattergeo"
        },
        {
         "lat": [
          40.7605,
          40.7605
         ],
         "line": {
          "color": "rgb(117, 174, 255)",
          "width": 1
         },
         "locationmode": "USA-states",
         "lon": [
          -73.9706,
          -73.9706
         ],
         "mode": "lines",
         "type": "scattergeo"
        },
        {
         "lat": [
          40.7605,
          40.7615
         ],
         "line": {
          "color": "rgb(117, 174, 255)",
          "width": 1
         },
         "locationmode": "USA-states",
         "lon": [
          -73.9706,
          -73.9785
         ],
         "mode": "lines",
         "type": "scattergeo"
        },
        {
         "lat": [
          40.7615,
          40.7573
         ],
         "line": {
          "color": "rgb(117, 174, 255)",
          "width": 1
         },
         "locationmode": "USA-states",
         "lon": [
          -73.9785,
          -73.9742
         ],
         "mode": "lines",
         "type": "scattergeo"
        },
        {
         "lat": [
          40.7573,
          40.6609
         ],
         "line": {
          "color": "rgb(117, 174, 255)",
          "width": 1
         },
         "locationmode": "USA-states",
         "lon": [
          -73.9742,
          -73.8847
         ],
         "mode": "lines",
         "type": "scattergeo"
        },
        {
         "lat": [
          40.6609,
          40.7587
         ],
         "line": {
          "color": "rgb(117, 174, 255)",
          "width": 1
         },
         "locationmode": "USA-states",
         "lon": [
          -73.8847,
          -73.9795
         ],
         "mode": "lines",
         "type": "scattergeo"
        },
        {
         "lat": [
          40.7587,
          40.7321
         ],
         "line": {
          "color": "rgb(117, 174, 255)",
          "width": 1
         },
         "locationmode": "USA-states",
         "lon": [
          -73.9795,
          -73.9959
         ],
         "mode": "lines",
         "type": "scattergeo"
        },
        {
         "lat": [
          40.7321,
          40.7551
         ],
         "line": {
          "color": "rgb(117, 174, 255)",
          "width": 1
         },
         "locationmode": "USA-states",
         "lon": [
          -73.9959,
          -73.9872
         ],
         "mode": "lines",
         "type": "scattergeo"
        },
        {
         "lat": [
          40.7551,
          40.7462
         ],
         "line": {
          "color": "rgb(117, 174, 255)",
          "width": 1
         },
         "locationmode": "USA-states",
         "lon": [
          -73.9872,
          -74.0081
         ],
         "mode": "lines",
         "type": "scattergeo"
        },
        {
         "lat": [
          40.7462,
          40.7251
         ],
         "line": {
          "color": "rgb(117, 174, 255)",
          "width": 1
         },
         "locationmode": "USA-states",
         "lon": [
          -74.0081,
          -73.9921
         ],
         "mode": "lines",
         "type": "scattergeo"
        },
        {
         "lat": [
          40.7251,
          40.7257
         ],
         "line": {
          "color": "rgb(117, 174, 255)",
          "width": 1
         },
         "locationmode": "USA-states",
         "lon": [
          -73.9921,
          -73.9946
         ],
         "mode": "lines",
         "type": "scattergeo"
        },
        {
         "lat": [
          40.7257,
          40.7494
         ],
         "line": {
          "color": "rgb(117, 174, 255)",
          "width": 1
         },
         "locationmode": "USA-states",
         "lon": [
          -73.9946,
          -73.9922
         ],
         "mode": "lines",
         "type": "scattergeo"
        },
        {
         "lat": [
          40.7494,
          40.7537
         ],
         "line": {
          "color": "rgb(117, 174, 255)",
          "width": 1
         },
         "locationmode": "USA-states",
         "lon": [
          -73.9922,
          -73.9744
         ],
         "mode": "lines",
         "type": "scattergeo"
        },
        {
         "lat": [
          40.7537,
          40.7693
         ],
         "line": {
          "color": "rgb(117, 174, 255)",
          "width": 1
         },
         "locationmode": "USA-states",
         "lon": [
          -73.9744,
          -73.983
         ],
         "mode": "lines",
         "type": "scattergeo"
        },
        {
         "lat": [
          40.7693,
          40.7575
         ],
         "line": {
          "color": "rgb(117, 174, 255)",
          "width": 1
         },
         "locationmode": "USA-states",
         "lon": [
          -73.983,
          -73.97800000000001
         ],
         "mode": "lines",
         "type": "scattergeo"
        },
        {
         "lat": [
          40.7575,
          40.7644
         ],
         "line": {
          "color": "rgb(117, 174, 255)",
          "width": 1
         },
         "locationmode": "USA-states",
         "lon": [
          -73.97800000000001,
          -73.9774
         ],
         "mode": "lines",
         "type": "scattergeo"
        },
        {
         "lat": [
          40.7644,
          40.7461
         ],
         "line": {
          "color": "rgb(117, 174, 255)",
          "width": 1
         },
         "locationmode": "USA-states",
         "lon": [
          -73.9774,
          -74.0096
         ],
         "mode": "lines",
         "type": "scattergeo"
        },
        {
         "lat": [
          40.7461,
          40.7017
         ],
         "line": {
          "color": "rgb(117, 174, 255)",
          "width": 1
         },
         "locationmode": "USA-states",
         "lon": [
          -74.0096,
          -73.9867
         ],
         "mode": "lines",
         "type": "scattergeo"
        },
        {
         "lat": [
          40.7017,
          40.7272
         ],
         "line": {
          "color": "rgb(117, 174, 255)",
          "width": 1
         },
         "locationmode": "USA-states",
         "lon": [
          -73.9867,
          -73.9938
         ],
         "mode": "lines",
         "type": "scattergeo"
        },
        {
         "lat": [
          40.7272,
          40.7294
         ],
         "line": {
          "color": "rgb(117, 174, 255)",
          "width": 1
         },
         "locationmode": "USA-states",
         "lon": [
          -73.9938,
          -73.9877
         ],
         "mode": "lines",
         "type": "scattergeo"
        },
        {
         "lat": [
          40.7294,
          40.7366
         ],
         "line": {
          "color": "rgb(117, 174, 255)",
          "width": 1
         },
         "locationmode": "USA-states",
         "lon": [
          -73.9877,
          -73.9927
         ],
         "mode": "lines",
         "type": "scattergeo"
        },
        {
         "lat": [
          40.7366,
          40.7419
         ],
         "line": {
          "color": "rgb(117, 174, 255)",
          "width": 1
         },
         "locationmode": "USA-states",
         "lon": [
          -73.9927,
          -74.0038
         ],
         "mode": "lines",
         "type": "scattergeo"
        },
        {
         "lat": [
          40.7419,
          40.7614
         ],
         "line": {
          "color": "rgb(117, 174, 255)",
          "width": 1
         },
         "locationmode": "USA-states",
         "lon": [
          -74.0038,
          -73.9794
         ],
         "mode": "lines",
         "type": "scattergeo"
        },
        {
         "lat": [
          40.7614,
          40.7094
         ],
         "line": {
          "color": "rgb(117, 174, 255)",
          "width": 1
         },
         "locationmode": "USA-states",
         "lon": [
          -73.9794,
          -74.0808
         ],
         "mode": "lines",
         "type": "scattergeo"
        },
        {
         "lat": [
          40.7094,
          40.7636
         ],
         "line": {
          "color": "rgb(117, 174, 255)",
          "width": 1
         },
         "locationmode": "USA-states",
         "lon": [
          -74.0808,
          -73.9725
         ],
         "mode": "lines",
         "type": "scattergeo"
        },
        {
         "lat": [
          40.7636,
          40.7405
         ],
         "line": {
          "color": "rgb(117, 174, 255)",
          "width": 1
         },
         "locationmode": "USA-states",
         "lon": [
          -73.9725,
          -74.0082
         ],
         "mode": "lines",
         "type": "scattergeo"
        },
        {
         "lat": [
          40.7405,
          40.7315
         ],
         "line": {
          "color": "rgb(117, 174, 255)",
          "width": 1
         },
         "locationmode": "USA-states",
         "lon": [
          -74.0082,
          -74.0004
         ],
         "mode": "lines",
         "type": "scattergeo"
        },
        {
         "lat": [
          40.7315,
          40.7425
         ],
         "line": {
          "color": "rgb(117, 174, 255)",
          "width": 1
         },
         "locationmode": "USA-states",
         "lon": [
          -74.0004,
          -73.9847
         ],
         "mode": "lines",
         "type": "scattergeo"
        },
        {
         "lat": [
          40.7425,
          40.7441
         ],
         "line": {
          "color": "rgb(117, 174, 255)",
          "width": 1
         },
         "locationmode": "USA-states",
         "lon": [
          -73.9847,
          -74.0013
         ],
         "mode": "lines",
         "type": "scattergeo"
        },
        {
         "lat": [
          40.7441,
          40.7647
         ],
         "line": {
          "color": "rgb(117, 174, 255)",
          "width": 1
         },
         "locationmode": "USA-states",
         "lon": [
          -74.0013,
          -73.9837
         ],
         "mode": "lines",
         "type": "scattergeo"
        },
        {
         "lat": [
          40.7647,
          40.7708
         ],
         "line": {
          "color": "rgb(117, 174, 255)",
          "width": 1
         },
         "locationmode": "USA-states",
         "lon": [
          -73.9837,
          -73.8658
         ],
         "mode": "lines",
         "type": "scattergeo"
        },
        {
         "lat": [
          40.7708,
          40.7231
         ],
         "line": {
          "color": "rgb(117, 174, 255)",
          "width": 1
         },
         "locationmode": "USA-states",
         "lon": [
          -73.8658,
          -73.9839
         ],
         "mode": "lines",
         "type": "scattergeo"
        },
        {
         "lat": [
          40.7231,
          40.7508
         ],
         "line": {
          "color": "rgb(117, 174, 255)",
          "width": 1
         },
         "locationmode": "USA-states",
         "lon": [
          -73.9839,
          -73.9945
         ],
         "mode": "lines",
         "type": "scattergeo"
        },
        {
         "lat": [
          40.7508,
          40.7598
         ],
         "line": {
          "color": "rgb(117, 174, 255)",
          "width": 1
         },
         "locationmode": "USA-states",
         "lon": [
          -73.9945,
          -73.9745
         ],
         "mode": "lines",
         "type": "scattergeo"
        },
        {
         "lat": [
          40.7598,
          40.774
         ],
         "line": {
          "color": "rgb(117, 174, 255)",
          "width": 1
         },
         "locationmode": "USA-states",
         "lon": [
          -73.9745,
          -73.8719
         ],
         "mode": "lines",
         "type": "scattergeo"
        },
        {
         "lat": [
          40.774,
          40.6834
         ],
         "line": {
          "color": "rgb(117, 174, 255)",
          "width": 1
         },
         "locationmode": "USA-states",
         "lon": [
          -73.8719,
          -73.975
         ],
         "mode": "lines",
         "type": "scattergeo"
        },
        {
         "lat": [
          40.6834,
          40.7653
         ],
         "line": {
          "color": "rgb(117, 174, 255)",
          "width": 1
         },
         "locationmode": "USA-states",
         "lon": [
          -73.975,
          -73.9789
         ],
         "mode": "lines",
         "type": "scattergeo"
        },
        {
         "lat": [
          40.7653,
          40.7282
         ],
         "line": {
          "color": "rgb(117, 174, 255)",
          "width": 1
         },
         "locationmode": "USA-states",
         "lon": [
          -73.9789,
          -73.9992
         ],
         "mode": "lines",
         "type": "scattergeo"
        },
        {
         "lat": [
          40.7282,
          40.725
         ],
         "line": {
          "color": "rgb(117, 174, 255)",
          "width": 1
         },
         "locationmode": "USA-states",
         "lon": [
          -73.9992,
          -73.9996
         ],
         "mode": "lines",
         "type": "scattergeo"
        },
        {
         "lat": [
          40.725,
          40.7635
         ],
         "line": {
          "color": "rgb(117, 174, 255)",
          "width": 1
         },
         "locationmode": "USA-states",
         "lon": [
          -73.9996,
          -73.9878
         ],
         "mode": "lines",
         "type": "scattergeo"
        },
        {
         "lat": [
          40.7635,
          40.7643
         ],
         "line": {
          "color": "rgb(117, 174, 255)",
          "width": 1
         },
         "locationmode": "USA-states",
         "lon": [
          -73.9878,
          -73.9766
         ],
         "mode": "lines",
         "type": "scattergeo"
        },
        {
         "lat": [
          40.7643,
          40.7446
         ],
         "line": {
          "color": "rgb(117, 174, 255)",
          "width": 1
         },
         "locationmode": "USA-states",
         "lon": [
          -73.9766,
          -73.9738
         ],
         "mode": "lines",
         "type": "scattergeo"
        },
        {
         "lat": [
          40.7446,
          40.7386
         ],
         "line": {
          "color": "rgb(117, 174, 255)",
          "width": 1
         },
         "locationmode": "USA-states",
         "lon": [
          -73.9738,
          -74.0305
         ],
         "mode": "lines",
         "type": "scattergeo"
        },
        {
         "lat": [
          40.7386,
          40.7386
         ],
         "line": {
          "color": "rgb(117, 174, 255)",
          "width": 1
         },
         "locationmode": "USA-states",
         "lon": [
          -74.0305,
          -74.0305
         ],
         "mode": "lines",
         "type": "scattergeo"
        },
        {
         "lat": [
          40.7386,
          40.7191
         ],
         "line": {
          "color": "rgb(117, 174, 255)",
          "width": 1
         },
         "locationmode": "USA-states",
         "lon": [
          -74.0305,
          -74.0065
         ],
         "mode": "lines",
         "type": "scattergeo"
        },
        {
         "lat": [
          40.7191,
          40.7063
         ],
         "line": {
          "color": "rgb(117, 174, 255)",
          "width": 1
         },
         "locationmode": "USA-states",
         "lon": [
          -74.0065,
          -74.0091
         ],
         "mode": "lines",
         "type": "scattergeo"
        },
        {
         "lat": [
          40.7063,
          40.7373
         ],
         "line": {
          "color": "rgb(117, 174, 255)",
          "width": 1
         },
         "locationmode": "USA-states",
         "lon": [
          -74.0091,
          -74.0057
         ],
         "mode": "lines",
         "type": "scattergeo"
        },
        {
         "lat": [
          40.7373,
          40.6861
         ],
         "line": {
          "color": "rgb(117, 174, 255)",
          "width": 1
         },
         "locationmode": "USA-states",
         "lon": [
          -74.0057,
          -73.9739
         ],
         "mode": "lines",
         "type": "scattergeo"
        },
        {
         "lat": [
          40.6861,
          40.7607
         ],
         "line": {
          "color": "rgb(117, 174, 255)",
          "width": 1
         },
         "locationmode": "USA-states",
         "lon": [
          -73.9739,
          -73.9876
         ],
         "mode": "lines",
         "type": "scattergeo"
        },
        {
         "lat": [
          40.7607,
          40.7424
         ],
         "line": {
          "color": "rgb(117, 174, 255)",
          "width": 1
         },
         "locationmode": "USA-states",
         "lon": [
          -73.9876,
          -73.9851
         ],
         "mode": "lines",
         "type": "scattergeo"
        },
        {
         "lat": [
          40.7424,
          40.7126
         ],
         "line": {
          "color": "rgb(117, 174, 255)",
          "width": 1
         },
         "locationmode": "USA-states",
         "lon": [
          -73.9851,
          -73.9607
         ],
         "mode": "lines",
         "type": "scattergeo"
        },
        {
         "lat": [
          40.7126,
          40.7438
         ],
         "line": {
          "color": "rgb(117, 174, 255)",
          "width": 1
         },
         "locationmode": "USA-states",
         "lon": [
          -73.9607,
          -73.9924
         ],
         "mode": "lines",
         "type": "scattergeo"
        },
        {
         "lat": [
          40.7438,
          40.6464
         ],
         "line": {
          "color": "rgb(117, 174, 255)",
          "width": 1
         },
         "locationmode": "USA-states",
         "lon": [
          -73.9924,
          -73.7901
         ],
         "mode": "lines",
         "type": "scattergeo"
        },
        {
         "lat": [
          40.6464,
          40.6832
         ],
         "line": {
          "color": "rgb(117, 174, 255)",
          "width": 1
         },
         "locationmode": "USA-states",
         "lon": [
          -73.7901,
          -73.9755
         ],
         "mode": "lines",
         "type": "scattergeo"
        },
        {
         "lat": [
          40.6832,
          40.7737
         ],
         "line": {
          "color": "rgb(117, 174, 255)",
          "width": 1
         },
         "locationmode": "USA-states",
         "lon": [
          -73.9755,
          -73.9838
         ],
         "mode": "lines",
         "type": "scattergeo"
        },
        {
         "lat": [
          40.7737,
          40.7408
         ],
         "line": {
          "color": "rgb(117, 174, 255)",
          "width": 1
         },
         "locationmode": "USA-states",
         "lon": [
          -73.9838,
          -73.9859
         ],
         "mode": "lines",
         "type": "scattergeo"
        },
        {
         "lat": [
          40.7408,
          40.7472
         ],
         "line": {
          "color": "rgb(117, 174, 255)",
          "width": 1
         },
         "locationmode": "USA-states",
         "lon": [
          -73.9859,
          -73.9855
         ],
         "mode": "lines",
         "type": "scattergeo"
        },
        {
         "lat": [
          40.7472,
          40.7593
         ],
         "line": {
          "color": "rgb(117, 174, 255)",
          "width": 1
         },
         "locationmode": "USA-states",
         "lon": [
          -73.9855,
          -73.9809
         ],
         "mode": "lines",
         "type": "scattergeo"
        },
        {
         "lat": [
          40.7593,
          40.7301
         ],
         "line": {
          "color": "rgb(117, 174, 255)",
          "width": 1
         },
         "locationmode": "USA-states",
         "lon": [
          -73.9809,
          -74.0048
         ],
         "mode": "lines",
         "type": "scattergeo"
        },
        {
         "lat": [
          40.7301,
          40.8453
         ],
         "line": {
          "color": "rgb(117, 174, 255)",
          "width": 1
         },
         "locationmode": "USA-states",
         "lon": [
          -74.0048,
          -74.1574
         ],
         "mode": "lines",
         "type": "scattergeo"
        },
        {
         "lat": [
          40.8453,
          40.7438
         ],
         "line": {
          "color": "rgb(117, 174, 255)",
          "width": 1
         },
         "locationmode": "USA-states",
         "lon": [
          -74.1574,
          -73.9848
         ],
         "mode": "lines",
         "type": "scattergeo"
        },
        {
         "lat": [
          40.7438,
          40.7586
         ],
         "line": {
          "color": "rgb(117, 174, 255)",
          "width": 1
         },
         "locationmode": "USA-states",
         "lon": [
          -73.9848,
          -73.9744
         ],
         "mode": "lines",
         "type": "scattergeo"
        },
        {
         "lat": [
          40.7586,
          40.7265
         ],
         "line": {
          "color": "rgb(117, 174, 255)",
          "width": 1
         },
         "locationmode": "USA-states",
         "lon": [
          -73.9744,
          -74.0037
         ],
         "mode": "lines",
         "type": "scattergeo"
        },
        {
         "lat": [
          40.7265,
          40.7397
         ],
         "line": {
          "color": "rgb(117, 174, 255)",
          "width": 1
         },
         "locationmode": "USA-states",
         "lon": [
          -74.0037,
          -74.0269
         ],
         "mode": "lines",
         "type": "scattergeo"
        },
        {
         "lat": [
          40.7397,
          40.7397
         ],
         "line": {
          "color": "rgb(117, 174, 255)",
          "width": 1
         },
         "locationmode": "USA-states",
         "lon": [
          -74.0269,
          -74.0269
         ],
         "mode": "lines",
         "type": "scattergeo"
        },
        {
         "lat": [
          40.7397,
          40.7313
         ],
         "line": {
          "color": "rgb(117, 174, 255)",
          "width": 1
         },
         "locationmode": "USA-states",
         "lon": [
          -74.0269,
          -73.9886
         ],
         "mode": "lines",
         "type": "scattergeo"
        },
        {
         "lat": [
          40.7313,
          40.7151
         ],
         "line": {
          "color": "rgb(117, 174, 255)",
          "width": 1
         },
         "locationmode": "USA-states",
         "lon": [
          -73.9886,
          -74.0079
         ],
         "mode": "lines",
         "type": "scattergeo"
        },
        {
         "lat": [
          40.7151,
          40.7321
         ],
         "line": {
          "color": "rgb(117, 174, 255)",
          "width": 1
         },
         "locationmode": "USA-states",
         "lon": [
          -74.0079,
          -74.0065
         ],
         "mode": "lines",
         "type": "scattergeo"
        },
        {
         "lat": [
          40.7321,
          40.7404
         ],
         "line": {
          "color": "rgb(117, 174, 255)",
          "width": 1
         },
         "locationmode": "USA-states",
         "lon": [
          -74.0065,
          -74.0079
         ],
         "mode": "lines",
         "type": "scattergeo"
        },
        {
         "lat": [
          40.7404,
          40.7619
         ],
         "line": {
          "color": "rgb(117, 174, 255)",
          "width": 1
         },
         "locationmode": "USA-states",
         "lon": [
          -74.0079,
          -73.9899
         ],
         "mode": "lines",
         "type": "scattergeo"
        },
        {
         "lat": [
          40.7619,
          40.699
         ],
         "line": {
          "color": "rgb(117, 174, 255)",
          "width": 1
         },
         "locationmode": "USA-states",
         "lon": [
          -73.9899,
          -73.9577
         ],
         "mode": "lines",
         "type": "scattergeo"
        },
        {
         "lat": [
          40.699,
          40.7368
         ],
         "line": {
          "color": "rgb(117, 174, 255)",
          "width": 1
         },
         "locationmode": "USA-states",
         "lon": [
          -73.9577,
          -73.9867
         ],
         "mode": "lines",
         "type": "scattergeo"
        },
        {
         "lat": [
          40.7368,
          40.746
         ],
         "line": {
          "color": "rgb(117, 174, 255)",
          "width": 1
         },
         "locationmode": "USA-states",
         "lon": [
          -73.9867,
          -73.9906
         ],
         "mode": "lines",
         "type": "scattergeo"
        },
        {
         "lat": [
          40.746,
          40.7058
         ],
         "line": {
          "color": "rgb(117, 174, 255)",
          "width": 1
         },
         "locationmode": "USA-states",
         "lon": [
          -73.9906,
          -74.0088
         ],
         "mode": "lines",
         "type": "scattergeo"
        },
        {
         "lat": [
          40.7058,
          40.759
         ],
         "line": {
          "color": "rgb(117, 174, 255)",
          "width": 1
         },
         "locationmode": "USA-states",
         "lon": [
          -74.0088,
          -73.9724
         ],
         "mode": "lines",
         "type": "scattergeo"
        },
        {
         "lat": [
          40.759,
          40.7386
         ],
         "line": {
          "color": "rgb(117, 174, 255)",
          "width": 1
         },
         "locationmode": "USA-states",
         "lon": [
          -73.9724,
          -73.9855
         ],
         "mode": "lines",
         "type": "scattergeo"
        },
        {
         "lat": [
          40.7386,
          40.7627
         ],
         "line": {
          "color": "rgb(117, 174, 255)",
          "width": 1
         },
         "locationmode": "USA-states",
         "lon": [
          -73.9855,
          -73.9713
         ],
         "mode": "lines",
         "type": "scattergeo"
        },
        {
         "lat": [
          40.7627,
          40.7432
         ],
         "line": {
          "color": "rgb(117, 174, 255)",
          "width": 1
         },
         "locationmode": "USA-states",
         "lon": [
          -73.9713,
          -74.0075
         ],
         "mode": "lines",
         "type": "scattergeo"
        },
        {
         "lat": [
          40.7432,
          40.7256
         ],
         "line": {
          "color": "rgb(117, 174, 255)",
          "width": 1
         },
         "locationmode": "USA-states",
         "lon": [
          -74.0075,
          -73.9881
         ],
         "mode": "lines",
         "type": "scattergeo"
        },
        {
         "lat": [
          40.7256,
          40.7079
         ],
         "line": {
          "color": "rgb(117, 174, 255)",
          "width": 1
         },
         "locationmode": "USA-states",
         "lon": [
          -73.9881,
          -73.9464
         ],
         "mode": "lines",
         "type": "scattergeo"
        },
        {
         "lat": [
          40.7079,
          40.8548
         ],
         "line": {
          "color": "rgb(117, 174, 255)",
          "width": 1
         },
         "locationmode": "USA-states",
         "lon": [
          -73.9464,
          -73.9369
         ],
         "mode": "lines",
         "type": "scattergeo"
        },
        {
         "lat": [
          40.8548,
          40.7406
         ],
         "line": {
          "color": "rgb(117, 174, 255)",
          "width": 1
         },
         "locationmode": "USA-states",
         "lon": [
          -73.9369,
          -74.0057
         ],
         "mode": "lines",
         "type": "scattergeo"
        },
        {
         "lat": [
          40.7406,
          40.7384
         ],
         "line": {
          "color": "rgb(117, 174, 255)",
          "width": 1
         },
         "locationmode": "USA-states",
         "lon": [
          -74.0057,
          -73.9855
         ],
         "mode": "lines",
         "type": "scattergeo"
        },
        {
         "lat": [
          40.7384,
          40.7401
         ],
         "line": {
          "color": "rgb(117, 174, 255)",
          "width": 1
         },
         "locationmode": "USA-states",
         "lon": [
          -73.9855,
          -73.9792
         ],
         "mode": "lines",
         "type": "scattergeo"
        },
        {
         "lat": [
          40.7401,
          40.7416
         ],
         "line": {
          "color": "rgb(117, 174, 255)",
          "width": 1
         },
         "locationmode": "USA-states",
         "lon": [
          -73.9792,
          -74.0038
         ],
         "mode": "lines",
         "type": "scattergeo"
        },
        {
         "lat": [
          40.7416,
          40.7635
         ],
         "line": {
          "color": "rgb(117, 174, 255)",
          "width": 1
         },
         "locationmode": "USA-states",
         "lon": [
          -74.0038,
          -73.9764
         ],
         "mode": "lines",
         "type": "scattergeo"
        },
        {
         "lat": [
          40.7635,
          40.7627
         ],
         "line": {
          "color": "rgb(117, 174, 255)",
          "width": 1
         },
         "locationmode": "USA-states",
         "lon": [
          -73.9764,
          -73.9832
         ],
         "mode": "lines",
         "type": "scattergeo"
        },
        {
         "lat": [
          40.7627,
          40.7702
         ],
         "line": {
          "color": "rgb(117, 174, 255)",
          "width": 1
         },
         "locationmode": "USA-states",
         "lon": [
          -73.9832,
          -73.9818
         ],
         "mode": "lines",
         "type": "scattergeo"
        },
        {
         "lat": [
          40.7702,
          40.7644
         ],
         "line": {
          "color": "rgb(117, 174, 255)",
          "width": 1
         },
         "locationmode": "USA-states",
         "lon": [
          -73.9818,
          -73.97399999999999
         ],
         "mode": "lines",
         "type": "scattergeo"
        },
        {
         "lat": [
          40.7644,
          40.7144
         ],
         "line": {
          "color": "rgb(117, 174, 255)",
          "width": 1
         },
         "locationmode": "USA-states",
         "lon": [
          -73.97399999999999,
          -74
         ],
         "mode": "lines",
         "type": "scattergeo"
        },
        {
         "lat": [
          40.7144,
          40.7228
         ],
         "line": {
          "color": "rgb(117, 174, 255)",
          "width": 1
         },
         "locationmode": "USA-states",
         "lon": [
          -74,
          -73.9554
         ],
         "mode": "lines",
         "type": "scattergeo"
        },
        {
         "lat": [
          40.7228,
          40.6922
         ],
         "line": {
          "color": "rgb(117, 174, 255)",
          "width": 1
         },
         "locationmode": "USA-states",
         "lon": [
          -73.9554,
          -73.9873
         ],
         "mode": "lines",
         "type": "scattergeo"
        },
        {
         "lat": [
          40.6922,
          40.7466
         ],
         "line": {
          "color": "rgb(117, 174, 255)",
          "width": 1
         },
         "locationmode": "USA-states",
         "lon": [
          -73.9873,
          -74.0095
         ],
         "mode": "lines",
         "type": "scattergeo"
        },
        {
         "lat": [
          40.7466,
          40.7218
         ],
         "line": {
          "color": "rgb(117, 174, 255)",
          "width": 1
         },
         "locationmode": "USA-states",
         "lon": [
          -74.0095,
          -73.9975
         ],
         "mode": "lines",
         "type": "scattergeo"
        },
        {
         "lat": [
          40.7218,
          40.7051
         ],
         "line": {
          "color": "rgb(117, 174, 255)",
          "width": 1
         },
         "locationmode": "USA-states",
         "lon": [
          -73.9975,
          -73.9205
         ],
         "mode": "lines",
         "type": "scattergeo"
        },
        {
         "lat": [
          40.7051,
          40.7426
         ],
         "line": {
          "color": "rgb(117, 174, 255)",
          "width": 1
         },
         "locationmode": "USA-states",
         "lon": [
          -73.9205,
          -74.0042
         ],
         "mode": "lines",
         "type": "scattergeo"
        },
        {
         "lat": [
          40.7426,
          40.7554
         ],
         "line": {
          "color": "rgb(117, 174, 255)",
          "width": 1
         },
         "locationmode": "USA-states",
         "lon": [
          -74.0042,
          -73.9702
         ],
         "mode": "lines",
         "type": "scattergeo"
        },
        {
         "lat": [
          40.7554,
          40.7173
         ],
         "line": {
          "color": "rgb(117, 174, 255)",
          "width": 1
         },
         "locationmode": "USA-states",
         "lon": [
          -73.9702,
          -74.0097
         ],
         "mode": "lines",
         "type": "scattergeo"
        },
        {
         "lat": [
          40.7173,
          40.7649
         ],
         "line": {
          "color": "rgb(117, 174, 255)",
          "width": 1
         },
         "locationmode": "USA-states",
         "lon": [
          -74.0097,
          -73.9725
         ],
         "mode": "lines",
         "type": "scattergeo"
        }
       ],
       "layout": {
        "geo": {
         "countrycolor": "rgb(204, 204, 204)",
         "landcolor": "rgb(243, 243, 243)",
         "projection": {
          "type": "azimuthal equal area"
         },
         "scope": "north america",
         "showland": true
        },
        "showlegend": false,
        "title": "Uber Trips"
       }
      },
      "text/html": [
       "<div id=\"7e2a574b-1f34-4806-89a2-9f7c15059704\" style=\"height: 525px; width: 100%;\" class=\"plotly-graph-div\"></div><script type=\"text/javascript\">require([\"plotly\"], function(Plotly) { window.PLOTLYENV=window.PLOTLYENV || {};window.PLOTLYENV.BASE_URL=\"https://plot.ly\";Plotly.newPlot(\"7e2a574b-1f34-4806-89a2-9f7c15059704\", [{\"type\": \"scattergeo\", \"locationmode\": \"USA-states\", \"lon\": [-73.9549, -74.0345], \"lat\": [40.769, 40.7267], \"mode\": \"lines\", \"line\": {\"width\": 1, \"color\": \"rgb(117, 174, 255)\"}}, {\"type\": \"scattergeo\", \"locationmode\": \"USA-states\", \"lon\": [-74.0345, -73.9873], \"lat\": [40.7267, 40.7316], \"mode\": \"lines\", \"line\": {\"width\": 1, \"color\": \"rgb(117, 174, 255)\"}}, {\"type\": \"scattergeo\", \"locationmode\": \"USA-states\", \"lon\": [-73.9873, -73.9776], \"lat\": [40.7316, 40.7588], \"mode\": \"lines\", \"line\": {\"width\": 1, \"color\": \"rgb(117, 174, 255)\"}}, {\"type\": \"scattergeo\", \"locationmode\": \"USA-states\", \"lon\": [-73.9776, -73.9722], \"lat\": [40.7588, 40.7594], \"mode\": \"lines\", \"line\": {\"width\": 1, \"color\": \"rgb(117, 174, 255)\"}}, {\"type\": \"scattergeo\", \"locationmode\": \"USA-states\", \"lon\": [-73.9722, -74.0403], \"lat\": [40.7594, 40.7383], \"mode\": \"lines\", \"line\": {\"width\": 1, \"color\": \"rgb(117, 174, 255)\"}}, {\"type\": \"scattergeo\", \"locationmode\": \"USA-states\", \"lon\": [-74.0403, -73.9887], \"lat\": [40.7383, 40.7223], \"mode\": \"lines\", \"line\": {\"width\": 1, \"color\": \"rgb(117, 174, 255)\"}}, {\"type\": \"scattergeo\", \"locationmode\": \"USA-states\", \"lon\": [-73.9887, -73.979], \"lat\": [40.7223, 40.762], \"mode\": \"lines\", \"line\": {\"width\": 1, \"color\": \"rgb(117, 174, 255)\"}}, {\"type\": \"scattergeo\", \"locationmode\": \"USA-states\", \"lon\": [-73.979, -73.99600000000001], \"lat\": [40.762, 40.7524], \"mode\": \"lines\", \"line\": {\"width\": 1, \"color\": \"rgb(117, 174, 255)\"}}, {\"type\": \"scattergeo\", \"locationmode\": \"USA-states\", \"lon\": [-73.99600000000001, -73.9846], \"lat\": [40.7524, 40.7575], \"mode\": \"lines\", \"line\": {\"width\": 1, \"color\": \"rgb(117, 174, 255)\"}}, {\"type\": \"scattergeo\", \"locationmode\": \"USA-states\", \"lon\": [-73.9846, -73.9869], \"lat\": [40.7575, 40.7256], \"mode\": \"lines\", \"line\": {\"width\": 1, \"color\": \"rgb(117, 174, 255)\"}}, {\"type\": \"scattergeo\", \"locationmode\": \"USA-states\", \"lon\": [-73.9869, -73.9684], \"lat\": [40.7256, 40.7591], \"mode\": \"lines\", \"line\": {\"width\": 1, \"color\": \"rgb(117, 174, 255)\"}}, {\"type\": \"scattergeo\", \"locationmode\": \"USA-states\", \"lon\": [-73.9684, -73.9803], \"lat\": [40.7591, 40.7271], \"mode\": \"lines\", \"line\": {\"width\": 1, \"color\": \"rgb(117, 174, 255)\"}}, {\"type\": \"scattergeo\", \"locationmode\": \"USA-states\", \"lon\": [-73.9803, -73.7896], \"lat\": [40.7271, 40.6463], \"mode\": \"lines\", \"line\": {\"width\": 1, \"color\": \"rgb(117, 174, 255)\"}}, {\"type\": \"scattergeo\", \"locationmode\": \"USA-states\", \"lon\": [-73.7896, -73.9167], \"lat\": [40.6463, 40.7564], \"mode\": \"lines\", \"line\": {\"width\": 1, \"color\": \"rgb(117, 174, 255)\"}}, {\"type\": \"scattergeo\", \"locationmode\": \"USA-states\", \"lon\": [-73.9167, -73.9531], \"lat\": [40.7564, 40.7666], \"mode\": \"lines\", \"line\": {\"width\": 1, \"color\": \"rgb(117, 174, 255)\"}}, {\"type\": \"scattergeo\", \"locationmode\": \"USA-states\", \"lon\": [-73.9531, -73.9761], \"lat\": [40.7666, 40.758], \"mode\": \"lines\", \"line\": {\"width\": 1, \"color\": \"rgb(117, 174, 255)\"}}, {\"type\": \"scattergeo\", \"locationmode\": \"USA-states\", \"lon\": [-73.9761, -73.9821], \"lat\": [40.758, 40.7238], \"mode\": \"lines\", \"line\": {\"width\": 1, \"color\": \"rgb(117, 174, 255)\"}}, {\"type\": \"scattergeo\", \"locationmode\": \"USA-states\", \"lon\": [-73.9821, -74.0039], \"lat\": [40.7238, 40.7531], \"mode\": \"lines\", \"line\": {\"width\": 1, \"color\": \"rgb(117, 174, 255)\"}}, {\"type\": \"scattergeo\", \"locationmode\": \"USA-states\", \"lon\": [-74.0039, -74.0393], \"lat\": [40.7531, 40.7389], \"mode\": \"lines\", \"line\": {\"width\": 1, \"color\": \"rgb(117, 174, 255)\"}}, {\"type\": \"scattergeo\", \"locationmode\": \"USA-states\", \"lon\": [-74.0393, -73.9715], \"lat\": [40.7389, 40.7619], \"mode\": \"lines\", \"line\": {\"width\": 1, \"color\": \"rgb(117, 174, 255)\"}}, {\"type\": \"scattergeo\", \"locationmode\": \"USA-states\", \"lon\": [-73.9715, -74.0042], \"lat\": [40.7619, 40.753], \"mode\": \"lines\", \"line\": {\"width\": 1, \"color\": \"rgb(117, 174, 255)\"}}, {\"type\": \"scattergeo\", \"locationmode\": \"USA-states\", \"lon\": [-74.0042, -73.9531], \"lat\": [40.753, 40.6561], \"mode\": \"lines\", \"line\": {\"width\": 1, \"color\": \"rgb(117, 174, 255)\"}}, {\"type\": \"scattergeo\", \"locationmode\": \"USA-states\", \"lon\": [-73.9531, -73.9844], \"lat\": [40.6561, 40.725], \"mode\": \"lines\", \"line\": {\"width\": 1, \"color\": \"rgb(117, 174, 255)\"}}, {\"type\": \"scattergeo\", \"locationmode\": \"USA-states\", \"lon\": [-73.9844, -74.1783], \"lat\": [40.725, 40.695], \"mode\": \"lines\", \"line\": {\"width\": 1, \"color\": \"rgb(117, 174, 255)\"}}, {\"type\": \"scattergeo\", \"locationmode\": \"USA-states\", \"lon\": [-74.1783, -74.1578], \"lat\": [40.695, 40.9859], \"mode\": \"lines\", \"line\": {\"width\": 1, \"color\": \"rgb(117, 174, 255)\"}}, {\"type\": \"scattergeo\", \"locationmode\": \"USA-states\", \"lon\": [-74.1578, -74.1814], \"lat\": [40.9859, 40.6879], \"mode\": \"lines\", \"line\": {\"width\": 1, \"color\": \"rgb(117, 174, 255)\"}}, {\"type\": \"scattergeo\", \"locationmode\": \"USA-states\", \"lon\": [-74.1814, -74.1816], \"lat\": [40.6879, 40.6878], \"mode\": \"lines\", \"line\": {\"width\": 1, \"color\": \"rgb(117, 174, 255)\"}}, {\"type\": \"scattergeo\", \"locationmode\": \"USA-states\", \"lon\": [-74.1816, -73.9974], \"lat\": [40.6878, 40.7234], \"mode\": \"lines\", \"line\": {\"width\": 1, \"color\": \"rgb(117, 174, 255)\"}}, {\"type\": \"scattergeo\", \"locationmode\": \"USA-states\", \"lon\": [-73.9974, -73.99], \"lat\": [40.7234, 40.7336], \"mode\": \"lines\", \"line\": {\"width\": 1, \"color\": \"rgb(117, 174, 255)\"}}, {\"type\": \"scattergeo\", \"locationmode\": \"USA-states\", \"lon\": [-73.99, -74.0094], \"lat\": [40.7336, 40.7141], \"mode\": \"lines\", \"line\": {\"width\": 1, \"color\": \"rgb(117, 174, 255)\"}}, {\"type\": \"scattergeo\", \"locationmode\": \"USA-states\", \"lon\": [-74.0094, -73.9709], \"lat\": [40.7141, 40.7893], \"mode\": \"lines\", \"line\": {\"width\": 1, \"color\": \"rgb(117, 174, 255)\"}}, {\"type\": \"scattergeo\", \"locationmode\": \"USA-states\", \"lon\": [-73.9709, -73.991], \"lat\": [40.7893, 40.7747], \"mode\": \"lines\", \"line\": {\"width\": 1, \"color\": \"rgb(117, 174, 255)\"}}, {\"type\": \"scattergeo\", \"locationmode\": \"USA-states\", \"lon\": [-73.991, -73.9876], \"lat\": [40.7747, 40.7689], \"mode\": \"lines\", \"line\": {\"width\": 1, \"color\": \"rgb(117, 174, 255)\"}}, {\"type\": \"scattergeo\", \"locationmode\": \"USA-states\", \"lon\": [-73.9876, -74.0149], \"lat\": [40.7689, 40.7744], \"mode\": \"lines\", \"line\": {\"width\": 1, \"color\": \"rgb(117, 174, 255)\"}}, {\"type\": \"scattergeo\", \"locationmode\": \"USA-states\", \"lon\": [-74.0149, -73.9974], \"lat\": [40.7744, 40.7393], \"mode\": \"lines\", \"line\": {\"width\": 1, \"color\": \"rgb(117, 174, 255)\"}}, {\"type\": \"scattergeo\", \"locationmode\": \"USA-states\", \"lon\": [-73.9974, -73.9752], \"lat\": [40.7393, 40.7776], \"mode\": \"lines\", \"line\": {\"width\": 1, \"color\": \"rgb(117, 174, 255)\"}}, {\"type\": \"scattergeo\", \"locationmode\": \"USA-states\", \"lon\": [-73.9752, -73.7829], \"lat\": [40.7776, 40.6483], \"mode\": \"lines\", \"line\": {\"width\": 1, \"color\": \"rgb(117, 174, 255)\"}}, {\"type\": \"scattergeo\", \"locationmode\": \"USA-states\", \"lon\": [-73.7829, -74.1782], \"lat\": [40.6483, 40.6907], \"mode\": \"lines\", \"line\": {\"width\": 1, \"color\": \"rgb(117, 174, 255)\"}}, {\"type\": \"scattergeo\", \"locationmode\": \"USA-states\", \"lon\": [-74.1782, -73.9875], \"lat\": [40.6907, 40.7217], \"mode\": \"lines\", \"line\": {\"width\": 1, \"color\": \"rgb(117, 174, 255)\"}}, {\"type\": \"scattergeo\", \"locationmode\": \"USA-states\", \"lon\": [-73.9875, -73.9632], \"lat\": [40.7217, 40.7651], \"mode\": \"lines\", \"line\": {\"width\": 1, \"color\": \"rgb(117, 174, 255)\"}}, {\"type\": \"scattergeo\", \"locationmode\": \"USA-states\", \"lon\": [-73.9632, -73.9985], \"lat\": [40.7651, 40.7437], \"mode\": \"lines\", \"line\": {\"width\": 1, \"color\": \"rgb(117, 174, 255)\"}}, {\"type\": \"scattergeo\", \"locationmode\": \"USA-states\", \"lon\": [-73.9985, -73.97800000000001], \"lat\": [40.7437, 40.7605], \"mode\": \"lines\", \"line\": {\"width\": 1, \"color\": \"rgb(117, 174, 255)\"}}, {\"type\": \"scattergeo\", \"locationmode\": \"USA-states\", \"lon\": [-73.97800000000001, -74.0301], \"lat\": [40.7605, 40.743], \"mode\": \"lines\", \"line\": {\"width\": 1, \"color\": \"rgb(117, 174, 255)\"}}, {\"type\": \"scattergeo\", \"locationmode\": \"USA-states\", \"lon\": [-74.0301, -74.0301], \"lat\": [40.743, 40.743], \"mode\": \"lines\", \"line\": {\"width\": 1, \"color\": \"rgb(117, 174, 255)\"}}, {\"type\": \"scattergeo\", \"locationmode\": \"USA-states\", \"lon\": [-74.0301, -74.0371], \"lat\": [40.743, 40.7423], \"mode\": \"lines\", \"line\": {\"width\": 1, \"color\": \"rgb(117, 174, 255)\"}}, {\"type\": \"scattergeo\", \"locationmode\": \"USA-states\", \"lon\": [-74.0371, -74.0037], \"lat\": [40.7423, 40.7236], \"mode\": \"lines\", \"line\": {\"width\": 1, \"color\": \"rgb(117, 174, 255)\"}}, {\"type\": \"scattergeo\", \"locationmode\": \"USA-states\", \"lon\": [-74.0037, -73.9527], \"lat\": [40.7236, 40.7723], \"mode\": \"lines\", \"line\": {\"width\": 1, \"color\": \"rgb(117, 174, 255)\"}}, {\"type\": \"scattergeo\", \"locationmode\": \"USA-states\", \"lon\": [-73.9527, -73.9862], \"lat\": [40.7723, 40.7574], \"mode\": \"lines\", \"line\": {\"width\": 1, \"color\": \"rgb(117, 174, 255)\"}}, {\"type\": \"scattergeo\", \"locationmode\": \"USA-states\", \"lon\": [-73.9862, -73.9504], \"lat\": [40.7574, 40.7838], \"mode\": \"lines\", \"line\": {\"width\": 1, \"color\": \"rgb(117, 174, 255)\"}}, {\"type\": \"scattergeo\", \"locationmode\": \"USA-states\", \"lon\": [-73.9504, -73.9871], \"lat\": [40.7838, 40.7711], \"mode\": \"lines\", \"line\": {\"width\": 1, \"color\": \"rgb(117, 174, 255)\"}}, {\"type\": \"scattergeo\", \"locationmode\": \"USA-states\", \"lon\": [-73.9871, -73.9726], \"lat\": [40.7711, 40.7571], \"mode\": \"lines\", \"line\": {\"width\": 1, \"color\": \"rgb(117, 174, 255)\"}}, {\"type\": \"scattergeo\", \"locationmode\": \"USA-states\", \"lon\": [-73.9726, -73.9854], \"lat\": [40.7571, 40.7442], \"mode\": \"lines\", \"line\": {\"width\": 1, \"color\": \"rgb(117, 174, 255)\"}}, {\"type\": \"scattergeo\", \"locationmode\": \"USA-states\", \"lon\": [-73.9854, -74.0144], \"lat\": [40.7442, 40.7166], \"mode\": \"lines\", \"line\": {\"width\": 1, \"color\": \"rgb(117, 174, 255)\"}}, {\"type\": \"scattergeo\", \"locationmode\": \"USA-states\", \"lon\": [-74.0144, -73.9703], \"lat\": [40.7166, 40.7507], \"mode\": \"lines\", \"line\": {\"width\": 1, \"color\": \"rgb(117, 174, 255)\"}}, {\"type\": \"scattergeo\", \"locationmode\": \"USA-states\", \"lon\": [-73.9703, -73.9979], \"lat\": [40.7507, 40.7337], \"mode\": \"lines\", \"line\": {\"width\": 1, \"color\": \"rgb(117, 174, 255)\"}}, {\"type\": \"scattergeo\", \"locationmode\": \"USA-states\", \"lon\": [-73.9979, -74.0111], \"lat\": [40.7337, 40.7236], \"mode\": \"lines\", \"line\": {\"width\": 1, \"color\": \"rgb(117, 174, 255)\"}}, {\"type\": \"scattergeo\", \"locationmode\": \"USA-states\", \"lon\": [-74.0111, -74.0464], \"lat\": [40.7236, 40.7151], \"mode\": \"lines\", \"line\": {\"width\": 1, \"color\": \"rgb(117, 174, 255)\"}}, {\"type\": \"scattergeo\", \"locationmode\": \"USA-states\", \"lon\": [-74.0464, -73.9588], \"lat\": [40.7151, 40.7701], \"mode\": \"lines\", \"line\": {\"width\": 1, \"color\": \"rgb(117, 174, 255)\"}}, {\"type\": \"scattergeo\", \"locationmode\": \"USA-states\", \"lon\": [-73.9588, -73.9142], \"lat\": [40.7701, 40.86], \"mode\": \"lines\", \"line\": {\"width\": 1, \"color\": \"rgb(117, 174, 255)\"}}, {\"type\": \"scattergeo\", \"locationmode\": \"USA-states\", \"lon\": [-73.9142, -73.9729], \"lat\": [40.86, 40.7555], \"mode\": \"lines\", \"line\": {\"width\": 1, \"color\": \"rgb(117, 174, 255)\"}}, {\"type\": \"scattergeo\", \"locationmode\": \"USA-states\", \"lon\": [-73.9729, -74.0355], \"lat\": [40.7555, 40.7249], \"mode\": \"lines\", \"line\": {\"width\": 1, \"color\": \"rgb(117, 174, 255)\"}}, {\"type\": \"scattergeo\", \"locationmode\": \"USA-states\", \"lon\": [-74.0355, -74.157], \"lat\": [40.7249, 40.6193], \"mode\": \"lines\", \"line\": {\"width\": 1, \"color\": \"rgb(117, 174, 255)\"}}, {\"type\": \"scattergeo\", \"locationmode\": \"USA-states\", \"lon\": [-74.157, -73.97800000000001], \"lat\": [40.6193, 40.7753], \"mode\": \"lines\", \"line\": {\"width\": 1, \"color\": \"rgb(117, 174, 255)\"}}, {\"type\": \"scattergeo\", \"locationmode\": \"USA-states\", \"lon\": [-73.97800000000001, -73.9545], \"lat\": [40.7753, 40.7204], \"mode\": \"lines\", \"line\": {\"width\": 1, \"color\": \"rgb(117, 174, 255)\"}}, {\"type\": \"scattergeo\", \"locationmode\": \"USA-states\", \"lon\": [-73.9545, -73.9595], \"lat\": [40.7204, 40.7772], \"mode\": \"lines\", \"line\": {\"width\": 1, \"color\": \"rgb(117, 174, 255)\"}}, {\"type\": \"scattergeo\", \"locationmode\": \"USA-states\", \"lon\": [-73.9595, -74.082], \"lat\": [40.7772, 40.7651], \"mode\": \"lines\", \"line\": {\"width\": 1, \"color\": \"rgb(117, 174, 255)\"}}, {\"type\": \"scattergeo\", \"locationmode\": \"USA-states\", \"lon\": [-74.082, -73.9879], \"lat\": [40.7651, 40.74], \"mode\": \"lines\", \"line\": {\"width\": 1, \"color\": \"rgb(117, 174, 255)\"}}, {\"type\": \"scattergeo\", \"locationmode\": \"USA-states\", \"lon\": [-73.9879, -73.9568], \"lat\": [40.74, 40.7741], \"mode\": \"lines\", \"line\": {\"width\": 1, \"color\": \"rgb(117, 174, 255)\"}}, {\"type\": \"scattergeo\", \"locationmode\": \"USA-states\", \"lon\": [-73.9568, -73.9944], \"lat\": [40.7741, 40.7599], \"mode\": \"lines\", \"line\": {\"width\": 1, \"color\": \"rgb(117, 174, 255)\"}}, {\"type\": \"scattergeo\", \"locationmode\": \"USA-states\", \"lon\": [-73.9944, -74.0039], \"lat\": [40.7599, 40.7531], \"mode\": \"lines\", \"line\": {\"width\": 1, \"color\": \"rgb(117, 174, 255)\"}}, {\"type\": \"scattergeo\", \"locationmode\": \"USA-states\", \"lon\": [-74.0039, -73.9623], \"lat\": [40.7531, 40.7791], \"mode\": \"lines\", \"line\": {\"width\": 1, \"color\": \"rgb(117, 174, 255)\"}}, {\"type\": \"scattergeo\", \"locationmode\": \"USA-states\", \"lon\": [-73.9623, -74.0033], \"lat\": [40.7791, 40.7382], \"mode\": \"lines\", \"line\": {\"width\": 1, \"color\": \"rgb(117, 174, 255)\"}}, {\"type\": \"scattergeo\", \"locationmode\": \"USA-states\", \"lon\": [-74.0033, -73.9989], \"lat\": [40.7382, 40.7391], \"mode\": \"lines\", \"line\": {\"width\": 1, \"color\": \"rgb(117, 174, 255)\"}}, {\"type\": \"scattergeo\", \"locationmode\": \"USA-states\", \"lon\": [-73.9989, -73.982], \"lat\": [40.7391, 40.7806], \"mode\": \"lines\", \"line\": {\"width\": 1, \"color\": \"rgb(117, 174, 255)\"}}, {\"type\": \"scattergeo\", \"locationmode\": \"USA-states\", \"lon\": [-73.982, -73.9863], \"lat\": [40.7806, 40.7322], \"mode\": \"lines\", \"line\": {\"width\": 1, \"color\": \"rgb(117, 174, 255)\"}}, {\"type\": \"scattergeo\", \"locationmode\": \"USA-states\", \"lon\": [-73.9863, -73.96600000000001], \"lat\": [40.7322, 40.7703], \"mode\": \"lines\", \"line\": {\"width\": 1, \"color\": \"rgb(117, 174, 255)\"}}, {\"type\": \"scattergeo\", \"locationmode\": \"USA-states\", \"lon\": [-73.96600000000001, -74.0018], \"lat\": [40.7703, 40.7221], \"mode\": \"lines\", \"line\": {\"width\": 1, \"color\": \"rgb(117, 174, 255)\"}}, {\"type\": \"scattergeo\", \"locationmode\": \"USA-states\", \"lon\": [-74.0018, -73.9895], \"lat\": [40.7221, 40.7588], \"mode\": \"lines\", \"line\": {\"width\": 1, \"color\": \"rgb(117, 174, 255)\"}}, {\"type\": \"scattergeo\", \"locationmode\": \"USA-states\", \"lon\": [-73.9895, -73.9656], \"lat\": [40.7588, 40.7677], \"mode\": \"lines\", \"line\": {\"width\": 1, \"color\": \"rgb(117, 174, 255)\"}}, {\"type\": \"scattergeo\", \"locationmode\": \"USA-states\", \"lon\": [-73.9656, -74.0076], \"lat\": [40.7677, 40.7404], \"mode\": \"lines\", \"line\": {\"width\": 1, \"color\": \"rgb(117, 174, 255)\"}}, {\"type\": \"scattergeo\", \"locationmode\": \"USA-states\", \"lon\": [-74.0076, -73.9599], \"lat\": [40.7404, 40.7679], \"mode\": \"lines\", \"line\": {\"width\": 1, \"color\": \"rgb(117, 174, 255)\"}}, {\"type\": \"scattergeo\", \"locationmode\": \"USA-states\", \"lon\": [-73.9599, -73.9852], \"lat\": [40.7679, 40.7694], \"mode\": \"lines\", \"line\": {\"width\": 1, \"color\": \"rgb(117, 174, 255)\"}}, {\"type\": \"scattergeo\", \"locationmode\": \"USA-states\", \"lon\": [-73.9852, -73.9546], \"lat\": [40.7694, 40.7858], \"mode\": \"lines\", \"line\": {\"width\": 1, \"color\": \"rgb(117, 174, 255)\"}}, {\"type\": \"scattergeo\", \"locationmode\": \"USA-states\", \"lon\": [-73.9546, -73.9491], \"lat\": [40.7858, 40.7742], \"mode\": \"lines\", \"line\": {\"width\": 1, \"color\": \"rgb(117, 174, 255)\"}}, {\"type\": \"scattergeo\", \"locationmode\": \"USA-states\", \"lon\": [-73.9491, -73.95], \"lat\": [40.7742, 40.7703], \"mode\": \"lines\", \"line\": {\"width\": 1, \"color\": \"rgb(117, 174, 255)\"}}, {\"type\": \"scattergeo\", \"locationmode\": \"USA-states\", \"lon\": [-73.95, -73.9997], \"lat\": [40.7703, 40.7614], \"mode\": \"lines\", \"line\": {\"width\": 1, \"color\": \"rgb(117, 174, 255)\"}}, {\"type\": \"scattergeo\", \"locationmode\": \"USA-states\", \"lon\": [-73.9997, -73.9749], \"lat\": [40.7614, 40.793], \"mode\": \"lines\", \"line\": {\"width\": 1, \"color\": \"rgb(117, 174, 255)\"}}, {\"type\": \"scattergeo\", \"locationmode\": \"USA-states\", \"lon\": [-73.9749, -73.9442], \"lat\": [40.793, 40.7231], \"mode\": \"lines\", \"line\": {\"width\": 1, \"color\": \"rgb(117, 174, 255)\"}}, {\"type\": \"scattergeo\", \"locationmode\": \"USA-states\", \"lon\": [-73.9442, -73.9545], \"lat\": [40.7231, 40.7874], \"mode\": \"lines\", \"line\": {\"width\": 1, \"color\": \"rgb(117, 174, 255)\"}}, {\"type\": \"scattergeo\", \"locationmode\": \"USA-states\", \"lon\": [-73.9545, -73.9812], \"lat\": [40.7874, 40.7689], \"mode\": \"lines\", \"line\": {\"width\": 1, \"color\": \"rgb(117, 174, 255)\"}}, {\"type\": \"scattergeo\", \"locationmode\": \"USA-states\", \"lon\": [-73.9812, -73.9557], \"lat\": [40.7689, 40.7789], \"mode\": \"lines\", \"line\": {\"width\": 1, \"color\": \"rgb(117, 174, 255)\"}}, {\"type\": \"scattergeo\", \"locationmode\": \"USA-states\", \"lon\": [-73.9557, -74.0054], \"lat\": [40.7789, 40.7271], \"mode\": \"lines\", \"line\": {\"width\": 1, \"color\": \"rgb(117, 174, 255)\"}}, {\"type\": \"scattergeo\", \"locationmode\": \"USA-states\", \"lon\": [-74.0054, -73.973], \"lat\": [40.7271, 40.7877], \"mode\": \"lines\", \"line\": {\"width\": 1, \"color\": \"rgb(117, 174, 255)\"}}, {\"type\": \"scattergeo\", \"locationmode\": \"USA-states\", \"lon\": [-73.973, -74.0092], \"lat\": [40.7877, 40.7255], \"mode\": \"lines\", \"line\": {\"width\": 1, \"color\": \"rgb(117, 174, 255)\"}}, {\"type\": \"scattergeo\", \"locationmode\": \"USA-states\", \"lon\": [-74.0092, -73.9723], \"lat\": [40.7255, 40.7653], \"mode\": \"lines\", \"line\": {\"width\": 1, \"color\": \"rgb(117, 174, 255)\"}}, {\"type\": \"scattergeo\", \"locationmode\": \"USA-states\", \"lon\": [-73.9723, -73.9769], \"lat\": [40.7653, 40.7644], \"mode\": \"lines\", \"line\": {\"width\": 1, \"color\": \"rgb(117, 174, 255)\"}}, {\"type\": \"scattergeo\", \"locationmode\": \"USA-states\", \"lon\": [-73.9769, -73.9532], \"lat\": [40.7644, 40.7726], \"mode\": \"lines\", \"line\": {\"width\": 1, \"color\": \"rgb(117, 174, 255)\"}}, {\"type\": \"scattergeo\", \"locationmode\": \"USA-states\", \"lon\": [-73.9532, -73.9661], \"lat\": [40.7726, 40.7898], \"mode\": \"lines\", \"line\": {\"width\": 1, \"color\": \"rgb(117, 174, 255)\"}}, {\"type\": \"scattergeo\", \"locationmode\": \"USA-states\", \"lon\": [-73.9661, -73.9703], \"lat\": [40.7898, 40.7839], \"mode\": \"lines\", \"line\": {\"width\": 1, \"color\": \"rgb(117, 174, 255)\"}}, {\"type\": \"scattergeo\", \"locationmode\": \"USA-states\", \"lon\": [-73.9703, -74.0016], \"lat\": [40.7839, 40.7236], \"mode\": \"lines\", \"line\": {\"width\": 1, \"color\": \"rgb(117, 174, 255)\"}}, {\"type\": \"scattergeo\", \"locationmode\": \"USA-states\", \"lon\": [-74.0016, -73.9951], \"lat\": [40.7236, 40.699], \"mode\": \"lines\", \"line\": {\"width\": 1, \"color\": \"rgb(117, 174, 255)\"}}, {\"type\": \"scattergeo\", \"locationmode\": \"USA-states\", \"lon\": [-73.9951, -73.9219], \"lat\": [40.699, 40.7581], \"mode\": \"lines\", \"line\": {\"width\": 1, \"color\": \"rgb(117, 174, 255)\"}}, {\"type\": \"scattergeo\", \"locationmode\": \"USA-states\", \"lon\": [-73.9219, -73.9191], \"lat\": [40.7581, 40.768], \"mode\": \"lines\", \"line\": {\"width\": 1, \"color\": \"rgb(117, 174, 255)\"}}, {\"type\": \"scattergeo\", \"locationmode\": \"USA-states\", \"lon\": [-73.9191, -73.9897], \"lat\": [40.768, 40.7677], \"mode\": \"lines\", \"line\": {\"width\": 1, \"color\": \"rgb(117, 174, 255)\"}}, {\"type\": \"scattergeo\", \"locationmode\": \"USA-states\", \"lon\": [-73.9897, -73.866], \"lat\": [40.7677, 40.771], \"mode\": \"lines\", \"line\": {\"width\": 1, \"color\": \"rgb(117, 174, 255)\"}}, {\"type\": \"scattergeo\", \"locationmode\": \"USA-states\", \"lon\": [-73.866, -73.9487], \"lat\": [40.771, 40.7808], \"mode\": \"lines\", \"line\": {\"width\": 1, \"color\": \"rgb(117, 174, 255)\"}}, {\"type\": \"scattergeo\", \"locationmode\": \"USA-states\", \"lon\": [-73.9487, -74.0362], \"lat\": [40.7808, 40.7147], \"mode\": \"lines\", \"line\": {\"width\": 1, \"color\": \"rgb(117, 174, 255)\"}}, {\"type\": \"scattergeo\", \"locationmode\": \"USA-states\", \"lon\": [-74.0362, -73.9504], \"lat\": [40.7147, 40.7732], \"mode\": \"lines\", \"line\": {\"width\": 1, \"color\": \"rgb(117, 174, 255)\"}}, {\"type\": \"scattergeo\", \"locationmode\": \"USA-states\", \"lon\": [-73.9504, -74.0043], \"lat\": [40.7732, 40.7335], \"mode\": \"lines\", \"line\": {\"width\": 1, \"color\": \"rgb(117, 174, 255)\"}}, {\"type\": \"scattergeo\", \"locationmode\": \"USA-states\", \"lon\": [-74.0043, -73.9782], \"lat\": [40.7335, 40.7754], \"mode\": \"lines\", \"line\": {\"width\": 1, \"color\": \"rgb(117, 174, 255)\"}}, {\"type\": \"scattergeo\", \"locationmode\": \"USA-states\", \"lon\": [-73.9782, -73.9455], \"lat\": [40.7754, 40.7752], \"mode\": \"lines\", \"line\": {\"width\": 1, \"color\": \"rgb(117, 174, 255)\"}}, {\"type\": \"scattergeo\", \"locationmode\": \"USA-states\", \"lon\": [-73.9455, -74.0021], \"lat\": [40.7752, 40.7243], \"mode\": \"lines\", \"line\": {\"width\": 1, \"color\": \"rgb(117, 174, 255)\"}}, {\"type\": \"scattergeo\", \"locationmode\": \"USA-states\", \"lon\": [-74.0021, -73.9512], \"lat\": [40.7243, 40.7786], \"mode\": \"lines\", \"line\": {\"width\": 1, \"color\": \"rgb(117, 174, 255)\"}}, {\"type\": \"scattergeo\", \"locationmode\": \"USA-states\", \"lon\": [-73.9512, -73.9788], \"lat\": [40.7786, 40.7877], \"mode\": \"lines\", \"line\": {\"width\": 1, \"color\": \"rgb(117, 174, 255)\"}}, {\"type\": \"scattergeo\", \"locationmode\": \"USA-states\", \"lon\": [-73.9788, -73.8822], \"lat\": [40.7877, 40.8674], \"mode\": \"lines\", \"line\": {\"width\": 1, \"color\": \"rgb(117, 174, 255)\"}}, {\"type\": \"scattergeo\", \"locationmode\": \"USA-states\", \"lon\": [-73.8822, -73.9704], \"lat\": [40.8674, 40.7678], \"mode\": \"lines\", \"line\": {\"width\": 1, \"color\": \"rgb(117, 174, 255)\"}}, {\"type\": \"scattergeo\", \"locationmode\": \"USA-states\", \"lon\": [-73.9704, -73.9587], \"lat\": [40.7678, 40.7749], \"mode\": \"lines\", \"line\": {\"width\": 1, \"color\": \"rgb(117, 174, 255)\"}}, {\"type\": \"scattergeo\", \"locationmode\": \"USA-states\", \"lon\": [-73.9587, -73.9813], \"lat\": [40.7749, 40.7209], \"mode\": \"lines\", \"line\": {\"width\": 1, \"color\": \"rgb(117, 174, 255)\"}}, {\"type\": \"scattergeo\", \"locationmode\": \"USA-states\", \"lon\": [-73.9813, -73.9752], \"lat\": [40.7209, 40.756], \"mode\": \"lines\", \"line\": {\"width\": 1, \"color\": \"rgb(117, 174, 255)\"}}, {\"type\": \"scattergeo\", \"locationmode\": \"USA-states\", \"lon\": [-73.9752, -73.9676], \"lat\": [40.756, 40.7923], \"mode\": \"lines\", \"line\": {\"width\": 1, \"color\": \"rgb(117, 174, 255)\"}}, {\"type\": \"scattergeo\", \"locationmode\": \"USA-states\", \"lon\": [-73.9676, -73.9991], \"lat\": [40.7923, 40.739000000000004], \"mode\": \"lines\", \"line\": {\"width\": 1, \"color\": \"rgb(117, 174, 255)\"}}, {\"type\": \"scattergeo\", \"locationmode\": \"USA-states\", \"lon\": [-73.9991, -73.9797], \"lat\": [40.739000000000004, 40.7273], \"mode\": \"lines\", \"line\": {\"width\": 1, \"color\": \"rgb(117, 174, 255)\"}}, {\"type\": \"scattergeo\", \"locationmode\": \"USA-states\", \"lon\": [-73.9797, -73.9475], \"lat\": [40.7273, 40.7751], \"mode\": \"lines\", \"line\": {\"width\": 1, \"color\": \"rgb(117, 174, 255)\"}}, {\"type\": \"scattergeo\", \"locationmode\": \"USA-states\", \"lon\": [-73.9475, -73.9983], \"lat\": [40.7751, 40.7406], \"mode\": \"lines\", \"line\": {\"width\": 1, \"color\": \"rgb(117, 174, 255)\"}}, {\"type\": \"scattergeo\", \"locationmode\": \"USA-states\", \"lon\": [-73.9983, -74.1461], \"lat\": [40.7406, 40.8364], \"mode\": \"lines\", \"line\": {\"width\": 1, \"color\": \"rgb(117, 174, 255)\"}}, {\"type\": \"scattergeo\", \"locationmode\": \"USA-states\", \"lon\": [-74.1461, -73.991], \"lat\": [40.8364, 40.7452], \"mode\": \"lines\", \"line\": {\"width\": 1, \"color\": \"rgb(117, 174, 255)\"}}, {\"type\": \"scattergeo\", \"locationmode\": \"USA-states\", \"lon\": [-73.991, -73.9481], \"lat\": [40.7452, 40.7805], \"mode\": \"lines\", \"line\": {\"width\": 1, \"color\": \"rgb(117, 174, 255)\"}}, {\"type\": \"scattergeo\", \"locationmode\": \"USA-states\", \"lon\": [-73.9481, -73.9481], \"lat\": [40.7805, 40.7805], \"mode\": \"lines\", \"line\": {\"width\": 1, \"color\": \"rgb(117, 174, 255)\"}}, {\"type\": \"scattergeo\", \"locationmode\": \"USA-states\", \"lon\": [-73.9481, -73.9513], \"lat\": [40.7805, 40.7814], \"mode\": \"lines\", \"line\": {\"width\": 1, \"color\": \"rgb(117, 174, 255)\"}}, {\"type\": \"scattergeo\", \"locationmode\": \"USA-states\", \"lon\": [-73.9513, -73.9699], \"lat\": [40.7814, 40.7864], \"mode\": \"lines\", \"line\": {\"width\": 1, \"color\": \"rgb(117, 174, 255)\"}}, {\"type\": \"scattergeo\", \"locationmode\": \"USA-states\", \"lon\": [-73.9699, -73.9559], \"lat\": [40.7864, 40.783], \"mode\": \"lines\", \"line\": {\"width\": 1, \"color\": \"rgb(117, 174, 255)\"}}, {\"type\": \"scattergeo\", \"locationmode\": \"USA-states\", \"lon\": [-73.9559, -73.9928], \"lat\": [40.783, 40.7582], \"mode\": \"lines\", \"line\": {\"width\": 1, \"color\": \"rgb(117, 174, 255)\"}}, {\"type\": \"scattergeo\", \"locationmode\": \"USA-states\", \"lon\": [-73.9928, -74.0046], \"lat\": [40.7582, 40.7216], \"mode\": \"lines\", \"line\": {\"width\": 1, \"color\": \"rgb(117, 174, 255)\"}}, {\"type\": \"scattergeo\", \"locationmode\": \"USA-states\", \"lon\": [-74.0046, -73.9988], \"lat\": [40.7216, 40.7298], \"mode\": \"lines\", \"line\": {\"width\": 1, \"color\": \"rgb(117, 174, 255)\"}}, {\"type\": \"scattergeo\", \"locationmode\": \"USA-states\", \"lon\": [-73.9988, -73.956], \"lat\": [40.7298, 40.7746], \"mode\": \"lines\", \"line\": {\"width\": 1, \"color\": \"rgb(117, 174, 255)\"}}, {\"type\": \"scattergeo\", \"locationmode\": \"USA-states\", \"lon\": [-73.956, -73.994], \"lat\": [40.7746, 40.7208], \"mode\": \"lines\", \"line\": {\"width\": 1, \"color\": \"rgb(117, 174, 255)\"}}, {\"type\": \"scattergeo\", \"locationmode\": \"USA-states\", \"lon\": [-73.994, -73.9617], \"lat\": [40.7208, 40.7669], \"mode\": \"lines\", \"line\": {\"width\": 1, \"color\": \"rgb(117, 174, 255)\"}}, {\"type\": \"scattergeo\", \"locationmode\": \"USA-states\", \"lon\": [-73.9617, -74.0064], \"lat\": [40.7669, 40.7084], \"mode\": \"lines\", \"line\": {\"width\": 1, \"color\": \"rgb(117, 174, 255)\"}}, {\"type\": \"scattergeo\", \"locationmode\": \"USA-states\", \"lon\": [-74.0064, -73.9942], \"lat\": [40.7084, 40.7425], \"mode\": \"lines\", \"line\": {\"width\": 1, \"color\": \"rgb(117, 174, 255)\"}}, {\"type\": \"scattergeo\", \"locationmode\": \"USA-states\", \"lon\": [-73.9942, -73.9838], \"lat\": [40.7425, 40.7424], \"mode\": \"lines\", \"line\": {\"width\": 1, \"color\": \"rgb(117, 174, 255)\"}}, {\"type\": \"scattergeo\", \"locationmode\": \"USA-states\", \"lon\": [-73.9838, -73.955], \"lat\": [40.7424, 40.7724], \"mode\": \"lines\", \"line\": {\"width\": 1, \"color\": \"rgb(117, 174, 255)\"}}, {\"type\": \"scattergeo\", \"locationmode\": \"USA-states\", \"lon\": [-73.955, -73.9559], \"lat\": [40.7724, 40.7787], \"mode\": \"lines\", \"line\": {\"width\": 1, \"color\": \"rgb(117, 174, 255)\"}}, {\"type\": \"scattergeo\", \"locationmode\": \"USA-states\", \"lon\": [-73.9559, -73.9637], \"lat\": [40.7787, 40.7752], \"mode\": \"lines\", \"line\": {\"width\": 1, \"color\": \"rgb(117, 174, 255)\"}}, {\"type\": \"scattergeo\", \"locationmode\": \"USA-states\", \"lon\": [-73.9637, -73.95], \"lat\": [40.7752, 40.7754], \"mode\": \"lines\", \"line\": {\"width\": 1, \"color\": \"rgb(117, 174, 255)\"}}, {\"type\": \"scattergeo\", \"locationmode\": \"USA-states\", \"lon\": [-73.95, -74.0044], \"lat\": [40.7754, 40.7368], \"mode\": \"lines\", \"line\": {\"width\": 1, \"color\": \"rgb(117, 174, 255)\"}}, {\"type\": \"scattergeo\", \"locationmode\": \"USA-states\", \"lon\": [-74.0044, -73.9924], \"lat\": [40.7368, 40.7174], \"mode\": \"lines\", \"line\": {\"width\": 1, \"color\": \"rgb(117, 174, 255)\"}}, {\"type\": \"scattergeo\", \"locationmode\": \"USA-states\", \"lon\": [-73.9924, -73.9934], \"lat\": [40.7174, 40.7305], \"mode\": \"lines\", \"line\": {\"width\": 1, \"color\": \"rgb(117, 174, 255)\"}}, {\"type\": \"scattergeo\", \"locationmode\": \"USA-states\", \"lon\": [-73.9934, -73.9613], \"lat\": [40.7305, 40.7747], \"mode\": \"lines\", \"line\": {\"width\": 1, \"color\": \"rgb(117, 174, 255)\"}}, {\"type\": \"scattergeo\", \"locationmode\": \"USA-states\", \"lon\": [-73.9613, -73.994], \"lat\": [40.7747, 40.7229], \"mode\": \"lines\", \"line\": {\"width\": 1, \"color\": \"rgb(117, 174, 255)\"}}, {\"type\": \"scattergeo\", \"locationmode\": \"USA-states\", \"lon\": [-73.994, -73.98100000000001], \"lat\": [40.7229, 40.7396], \"mode\": \"lines\", \"line\": {\"width\": 1, \"color\": \"rgb(117, 174, 255)\"}}, {\"type\": \"scattergeo\", \"locationmode\": \"USA-states\", \"lon\": [-73.98100000000001, -73.9994], \"lat\": [40.7396, 40.725], \"mode\": \"lines\", \"line\": {\"width\": 1, \"color\": \"rgb(117, 174, 255)\"}}, {\"type\": \"scattergeo\", \"locationmode\": \"USA-states\", \"lon\": [-73.9994, -74.1774], \"lat\": [40.725, 40.695], \"mode\": \"lines\", \"line\": {\"width\": 1, \"color\": \"rgb(117, 174, 255)\"}}, {\"type\": \"scattergeo\", \"locationmode\": \"USA-states\", \"lon\": [-74.1774, -74.0064], \"lat\": [40.695, 40.719], \"mode\": \"lines\", \"line\": {\"width\": 1, \"color\": \"rgb(117, 174, 255)\"}}, {\"type\": \"scattergeo\", \"locationmode\": \"USA-states\", \"lon\": [-74.0064, -73.9726], \"lat\": [40.719, 40.8271], \"mode\": \"lines\", \"line\": {\"width\": 1, \"color\": \"rgb(117, 174, 255)\"}}, {\"type\": \"scattergeo\", \"locationmode\": \"USA-states\", \"lon\": [-73.9726, -73.9495], \"lat\": [40.8271, 40.7793], \"mode\": \"lines\", \"line\": {\"width\": 1, \"color\": \"rgb(117, 174, 255)\"}}, {\"type\": \"scattergeo\", \"locationmode\": \"USA-states\", \"lon\": [-73.9495, -73.9801], \"lat\": [40.7793, 40.7266], \"mode\": \"lines\", \"line\": {\"width\": 1, \"color\": \"rgb(117, 174, 255)\"}}, {\"type\": \"scattergeo\", \"locationmode\": \"USA-states\", \"lon\": [-73.9801, -74.1811], \"lat\": [40.7266, 40.6922], \"mode\": \"lines\", \"line\": {\"width\": 1, \"color\": \"rgb(117, 174, 255)\"}}, {\"type\": \"scattergeo\", \"locationmode\": \"USA-states\", \"lon\": [-74.1811, -74.0074], \"lat\": [40.6922, 40.7418], \"mode\": \"lines\", \"line\": {\"width\": 1, \"color\": \"rgb(117, 174, 255)\"}}, {\"type\": \"scattergeo\", \"locationmode\": \"USA-states\", \"lon\": [-74.0074, -73.9845], \"lat\": [40.7418, 40.7108], \"mode\": \"lines\", \"line\": {\"width\": 1, \"color\": \"rgb(117, 174, 255)\"}}, {\"type\": \"scattergeo\", \"locationmode\": \"USA-states\", \"lon\": [-73.9845, -73.9802], \"lat\": [40.7108, 40.7857], \"mode\": \"lines\", \"line\": {\"width\": 1, \"color\": \"rgb(117, 174, 255)\"}}, {\"type\": \"scattergeo\", \"locationmode\": \"USA-states\", \"lon\": [-73.9802, -73.9502], \"lat\": [40.7857, 40.7757], \"mode\": \"lines\", \"line\": {\"width\": 1, \"color\": \"rgb(117, 174, 255)\"}}, {\"type\": \"scattergeo\", \"locationmode\": \"USA-states\", \"lon\": [-73.9502, -73.9699], \"lat\": [40.7757, 40.7514], \"mode\": \"lines\", \"line\": {\"width\": 1, \"color\": \"rgb(117, 174, 255)\"}}, {\"type\": \"scattergeo\", \"locationmode\": \"USA-states\", \"lon\": [-73.9699, -73.9936], \"lat\": [40.7514, 40.7343], \"mode\": \"lines\", \"line\": {\"width\": 1, \"color\": \"rgb(117, 174, 255)\"}}, {\"type\": \"scattergeo\", \"locationmode\": \"USA-states\", \"lon\": [-73.9936, -74.0094], \"lat\": [40.7343, 40.734], \"mode\": \"lines\", \"line\": {\"width\": 1, \"color\": \"rgb(117, 174, 255)\"}}, {\"type\": \"scattergeo\", \"locationmode\": \"USA-states\", \"lon\": [-74.0094, -74.0099], \"lat\": [40.734, 40.718], \"mode\": \"lines\", \"line\": {\"width\": 1, \"color\": \"rgb(117, 174, 255)\"}}, {\"type\": \"scattergeo\", \"locationmode\": \"USA-states\", \"lon\": [-74.0099, -73.9805], \"lat\": [40.718, 40.7287], \"mode\": \"lines\", \"line\": {\"width\": 1, \"color\": \"rgb(117, 174, 255)\"}}, {\"type\": \"scattergeo\", \"locationmode\": \"USA-states\", \"lon\": [-73.9805, -73.9707], \"lat\": [40.7287, 40.758], \"mode\": \"lines\", \"line\": {\"width\": 1, \"color\": \"rgb(117, 174, 255)\"}}, {\"type\": \"scattergeo\", \"locationmode\": \"USA-states\", \"lon\": [-73.9707, -74.1813], \"lat\": [40.758, 40.692], \"mode\": \"lines\", \"line\": {\"width\": 1, \"color\": \"rgb(117, 174, 255)\"}}, {\"type\": \"scattergeo\", \"locationmode\": \"USA-states\", \"lon\": [-74.1813, -73.9487], \"lat\": [40.692, 40.778], \"mode\": \"lines\", \"line\": {\"width\": 1, \"color\": \"rgb(117, 174, 255)\"}}, {\"type\": \"scattergeo\", \"locationmode\": \"USA-states\", \"lon\": [-73.9487, -73.9692], \"lat\": [40.778, 40.7658], \"mode\": \"lines\", \"line\": {\"width\": 1, \"color\": \"rgb(117, 174, 255)\"}}, {\"type\": \"scattergeo\", \"locationmode\": \"USA-states\", \"lon\": [-73.9692, -74.0104], \"lat\": [40.7658, 40.7222], \"mode\": \"lines\", \"line\": {\"width\": 1, \"color\": \"rgb(117, 174, 255)\"}}, {\"type\": \"scattergeo\", \"locationmode\": \"USA-states\", \"lon\": [-74.0104, -73.9881], \"lat\": [40.7222, 40.7329], \"mode\": \"lines\", \"line\": {\"width\": 1, \"color\": \"rgb(117, 174, 255)\"}}, {\"type\": \"scattergeo\", \"locationmode\": \"USA-states\", \"lon\": [-73.9881, -73.9766], \"lat\": [40.7329, 40.7659], \"mode\": \"lines\", \"line\": {\"width\": 1, \"color\": \"rgb(117, 174, 255)\"}}, {\"type\": \"scattergeo\", \"locationmode\": \"USA-states\", \"lon\": [-73.9766, -73.9618], \"lat\": [40.7659, 40.7789], \"mode\": \"lines\", \"line\": {\"width\": 1, \"color\": \"rgb(117, 174, 255)\"}}, {\"type\": \"scattergeo\", \"locationmode\": \"USA-states\", \"lon\": [-73.9618, -73.9743], \"lat\": [40.7789, 40.789], \"mode\": \"lines\", \"line\": {\"width\": 1, \"color\": \"rgb(117, 174, 255)\"}}, {\"type\": \"scattergeo\", \"locationmode\": \"USA-states\", \"lon\": [-73.9743, -73.9843], \"lat\": [40.789, 40.7617], \"mode\": \"lines\", \"line\": {\"width\": 1, \"color\": \"rgb(117, 174, 255)\"}}, {\"type\": \"scattergeo\", \"locationmode\": \"USA-states\", \"lon\": [-73.9843, -73.9475], \"lat\": [40.7617, 40.7214], \"mode\": \"lines\", \"line\": {\"width\": 1, \"color\": \"rgb(117, 174, 255)\"}}, {\"type\": \"scattergeo\", \"locationmode\": \"USA-states\", \"lon\": [-73.9475, -73.9913], \"lat\": [40.7214, 40.7595], \"mode\": \"lines\", \"line\": {\"width\": 1, \"color\": \"rgb(117, 174, 255)\"}}, {\"type\": \"scattergeo\", \"locationmode\": \"USA-states\", \"lon\": [-73.9913, -73.9748], \"lat\": [40.7595, 40.7931], \"mode\": \"lines\", \"line\": {\"width\": 1, \"color\": \"rgb(117, 174, 255)\"}}, {\"type\": \"scattergeo\", \"locationmode\": \"USA-states\", \"lon\": [-73.9748, -74.0004], \"lat\": [40.7931, 40.7371], \"mode\": \"lines\", \"line\": {\"width\": 1, \"color\": \"rgb(117, 174, 255)\"}}, {\"type\": \"scattergeo\", \"locationmode\": \"USA-states\", \"lon\": [-74.0004, -73.99600000000001], \"lat\": [40.7371, 40.7345], \"mode\": \"lines\", \"line\": {\"width\": 1, \"color\": \"rgb(117, 174, 255)\"}}, {\"type\": \"scattergeo\", \"locationmode\": \"USA-states\", \"lon\": [-73.99600000000001, -73.9912], \"lat\": [40.7345, 40.7747], \"mode\": \"lines\", \"line\": {\"width\": 1, \"color\": \"rgb(117, 174, 255)\"}}, {\"type\": \"scattergeo\", \"locationmode\": \"USA-states\", \"lon\": [-73.9912, -73.9211], \"lat\": [40.7747, 40.8822], \"mode\": \"lines\", \"line\": {\"width\": 1, \"color\": \"rgb(117, 174, 255)\"}}, {\"type\": \"scattergeo\", \"locationmode\": \"USA-states\", \"lon\": [-73.9211, -73.9787], \"lat\": [40.8822, 40.762], \"mode\": \"lines\", \"line\": {\"width\": 1, \"color\": \"rgb(117, 174, 255)\"}}, {\"type\": \"scattergeo\", \"locationmode\": \"USA-states\", \"lon\": [-73.9787, -73.9787], \"lat\": [40.762, 40.762], \"mode\": \"lines\", \"line\": {\"width\": 1, \"color\": \"rgb(117, 174, 255)\"}}, {\"type\": \"scattergeo\", \"locationmode\": \"USA-states\", \"lon\": [-73.9787, -74.0038], \"lat\": [40.762, 40.7326], \"mode\": \"lines\", \"line\": {\"width\": 1, \"color\": \"rgb(117, 174, 255)\"}}, {\"type\": \"scattergeo\", \"locationmode\": \"USA-states\", \"lon\": [-74.0038, -73.9737], \"lat\": [40.7326, 40.7555], \"mode\": \"lines\", \"line\": {\"width\": 1, \"color\": \"rgb(117, 174, 255)\"}}, {\"type\": \"scattergeo\", \"locationmode\": \"USA-states\", \"lon\": [-73.9737, -73.9854], \"lat\": [40.7555, 40.7596], \"mode\": \"lines\", \"line\": {\"width\": 1, \"color\": \"rgb(117, 174, 255)\"}}, {\"type\": \"scattergeo\", \"locationmode\": \"USA-states\", \"lon\": [-73.9854, -74.1778], \"lat\": [40.7596, 40.6904], \"mode\": \"lines\", \"line\": {\"width\": 1, \"color\": \"rgb(117, 174, 255)\"}}, {\"type\": \"scattergeo\", \"locationmode\": \"USA-states\", \"lon\": [-74.1778, -74.1778], \"lat\": [40.6904, 40.6904], \"mode\": \"lines\", \"line\": {\"width\": 1, \"color\": \"rgb(117, 174, 255)\"}}, {\"type\": \"scattergeo\", \"locationmode\": \"USA-states\", \"lon\": [-74.1778, -73.9914], \"lat\": [40.6904, 40.7408], \"mode\": \"lines\", \"line\": {\"width\": 1, \"color\": \"rgb(117, 174, 255)\"}}, {\"type\": \"scattergeo\", \"locationmode\": \"USA-states\", \"lon\": [-73.9914, -73.9358], \"lat\": [40.7408, 40.6819], \"mode\": \"lines\", \"line\": {\"width\": 1, \"color\": \"rgb(117, 174, 255)\"}}, {\"type\": \"scattergeo\", \"locationmode\": \"USA-states\", \"lon\": [-73.9358, -73.9714], \"lat\": [40.6819, 40.7624], \"mode\": \"lines\", \"line\": {\"width\": 1, \"color\": \"rgb(117, 174, 255)\"}}, {\"type\": \"scattergeo\", \"locationmode\": \"USA-states\", \"lon\": [-73.9714, -73.9548], \"lat\": [40.7624, 40.7805], \"mode\": \"lines\", \"line\": {\"width\": 1, \"color\": \"rgb(117, 174, 255)\"}}, {\"type\": \"scattergeo\", \"locationmode\": \"USA-states\", \"lon\": [-73.9548, -73.9542], \"lat\": [40.7805, 40.7889], \"mode\": \"lines\", \"line\": {\"width\": 1, \"color\": \"rgb(117, 174, 255)\"}}, {\"type\": \"scattergeo\", \"locationmode\": \"USA-states\", \"lon\": [-73.9542, -73.9513], \"lat\": [40.7889, 40.7835], \"mode\": \"lines\", \"line\": {\"width\": 1, \"color\": \"rgb(117, 174, 255)\"}}, {\"type\": \"scattergeo\", \"locationmode\": \"USA-states\", \"lon\": [-73.9513, -73.9617], \"lat\": [40.7835, 40.7651], \"mode\": \"lines\", \"line\": {\"width\": 1, \"color\": \"rgb(117, 174, 255)\"}}, {\"type\": \"scattergeo\", \"locationmode\": \"USA-states\", \"lon\": [-73.9617, -73.9918], \"lat\": [40.7651, 40.7261], \"mode\": \"lines\", \"line\": {\"width\": 1, \"color\": \"rgb(117, 174, 255)\"}}, {\"type\": \"scattergeo\", \"locationmode\": \"USA-states\", \"lon\": [-73.9918, -73.9937], \"lat\": [40.7261, 40.7303], \"mode\": \"lines\", \"line\": {\"width\": 1, \"color\": \"rgb(117, 174, 255)\"}}, {\"type\": \"scattergeo\", \"locationmode\": \"USA-states\", \"lon\": [-73.9937, -74.0628], \"lat\": [40.7303, 40.8736], \"mode\": \"lines\", \"line\": {\"width\": 1, \"color\": \"rgb(117, 174, 255)\"}}, {\"type\": \"scattergeo\", \"locationmode\": \"USA-states\", \"lon\": [-74.0628, -73.9981], \"lat\": [40.8736, 40.724000000000004], \"mode\": \"lines\", \"line\": {\"width\": 1, \"color\": \"rgb(117, 174, 255)\"}}, {\"type\": \"scattergeo\", \"locationmode\": \"USA-states\", \"lon\": [-73.9981, -73.9578], \"lat\": [40.724000000000004, 40.7744], \"mode\": \"lines\", \"line\": {\"width\": 1, \"color\": \"rgb(117, 174, 255)\"}}, {\"type\": \"scattergeo\", \"locationmode\": \"USA-states\", \"lon\": [-73.9578, -73.9861], \"lat\": [40.7744, 40.7607], \"mode\": \"lines\", \"line\": {\"width\": 1, \"color\": \"rgb(117, 174, 255)\"}}, {\"type\": \"scattergeo\", \"locationmode\": \"USA-states\", \"lon\": [-73.9861, -73.9841], \"lat\": [40.7607, 40.7749], \"mode\": \"lines\", \"line\": {\"width\": 1, \"color\": \"rgb(117, 174, 255)\"}}, {\"type\": \"scattergeo\", \"locationmode\": \"USA-states\", \"lon\": [-73.9841, -73.9724], \"lat\": [40.7749, 40.7625], \"mode\": \"lines\", \"line\": {\"width\": 1, \"color\": \"rgb(117, 174, 255)\"}}, {\"type\": \"scattergeo\", \"locationmode\": \"USA-states\", \"lon\": [-73.9724, -73.9965], \"lat\": [40.7625, 40.7377], \"mode\": \"lines\", \"line\": {\"width\": 1, \"color\": \"rgb(117, 174, 255)\"}}, {\"type\": \"scattergeo\", \"locationmode\": \"USA-states\", \"lon\": [-73.9965, -74.0087], \"lat\": [40.7377, 40.7388], \"mode\": \"lines\", \"line\": {\"width\": 1, \"color\": \"rgb(117, 174, 255)\"}}, {\"type\": \"scattergeo\", \"locationmode\": \"USA-states\", \"lon\": [-74.0087, -73.98100000000001], \"lat\": [40.7388, 40.7677], \"mode\": \"lines\", \"line\": {\"width\": 1, \"color\": \"rgb(117, 174, 255)\"}}, {\"type\": \"scattergeo\", \"locationmode\": \"USA-states\", \"lon\": [-73.98100000000001, -73.9652], \"lat\": [40.7677, 40.7691], \"mode\": \"lines\", \"line\": {\"width\": 1, \"color\": \"rgb(117, 174, 255)\"}}, {\"type\": \"scattergeo\", \"locationmode\": \"USA-states\", \"lon\": [-73.9652, -73.9602], \"lat\": [40.7691, 40.7816], \"mode\": \"lines\", \"line\": {\"width\": 1, \"color\": \"rgb(117, 174, 255)\"}}, {\"type\": \"scattergeo\", \"locationmode\": \"USA-states\", \"lon\": [-73.9602, -73.8717], \"lat\": [40.7816, 40.7739], \"mode\": \"lines\", \"line\": {\"width\": 1, \"color\": \"rgb(117, 174, 255)\"}}, {\"type\": \"scattergeo\", \"locationmode\": \"USA-states\", \"lon\": [-73.8717, -73.9542], \"lat\": [40.7739, 40.7841], \"mode\": \"lines\", \"line\": {\"width\": 1, \"color\": \"rgb(117, 174, 255)\"}}, {\"type\": \"scattergeo\", \"locationmode\": \"USA-states\", \"lon\": [-73.9542, -73.9963], \"lat\": [40.7841, 40.7426], \"mode\": \"lines\", \"line\": {\"width\": 1, \"color\": \"rgb(117, 174, 255)\"}}, {\"type\": \"scattergeo\", \"locationmode\": \"USA-states\", \"lon\": [-73.9963, -73.8669], \"lat\": [40.7426, 40.771], \"mode\": \"lines\", \"line\": {\"width\": 1, \"color\": \"rgb(117, 174, 255)\"}}, {\"type\": \"scattergeo\", \"locationmode\": \"USA-states\", \"lon\": [-73.8669, -73.9888], \"lat\": [40.771, 40.775], \"mode\": \"lines\", \"line\": {\"width\": 1, \"color\": \"rgb(117, 174, 255)\"}}, {\"type\": \"scattergeo\", \"locationmode\": \"USA-states\", \"lon\": [-73.9888, -74.0029], \"lat\": [40.775, 40.7356], \"mode\": \"lines\", \"line\": {\"width\": 1, \"color\": \"rgb(117, 174, 255)\"}}, {\"type\": \"scattergeo\", \"locationmode\": \"USA-states\", \"lon\": [-74.0029, -73.9784], \"lat\": [40.7356, 40.7666], \"mode\": \"lines\", \"line\": {\"width\": 1, \"color\": \"rgb(117, 174, 255)\"}}, {\"type\": \"scattergeo\", \"locationmode\": \"USA-states\", \"lon\": [-73.9784, -73.9499], \"lat\": [40.7666, 40.7118], \"mode\": \"lines\", \"line\": {\"width\": 1, \"color\": \"rgb(117, 174, 255)\"}}, {\"type\": \"scattergeo\", \"locationmode\": \"USA-states\", \"lon\": [-73.9499, -74.0153], \"lat\": [40.7118, 40.7097], \"mode\": \"lines\", \"line\": {\"width\": 1, \"color\": \"rgb(117, 174, 255)\"}}, {\"type\": \"scattergeo\", \"locationmode\": \"USA-states\", \"lon\": [-74.0153, -74.0061], \"lat\": [40.7097, 40.7438], \"mode\": \"lines\", \"line\": {\"width\": 1, \"color\": \"rgb(117, 174, 255)\"}}, {\"type\": \"scattergeo\", \"locationmode\": \"USA-states\", \"lon\": [-74.0061, -73.9861], \"lat\": [40.7438, 40.76], \"mode\": \"lines\", \"line\": {\"width\": 1, \"color\": \"rgb(117, 174, 255)\"}}, {\"type\": \"scattergeo\", \"locationmode\": \"USA-states\", \"lon\": [-73.9861, -73.9635], \"lat\": [40.76, 40.7752], \"mode\": \"lines\", \"line\": {\"width\": 1, \"color\": \"rgb(117, 174, 255)\"}}, {\"type\": \"scattergeo\", \"locationmode\": \"USA-states\", \"lon\": [-73.9635, -73.956], \"lat\": [40.7752, 40.7788], \"mode\": \"lines\", \"line\": {\"width\": 1, \"color\": \"rgb(117, 174, 255)\"}}, {\"type\": \"scattergeo\", \"locationmode\": \"USA-states\", \"lon\": [-73.956, -73.9639], \"lat\": [40.7788, 40.8078], \"mode\": \"lines\", \"line\": {\"width\": 1, \"color\": \"rgb(117, 174, 255)\"}}, {\"type\": \"scattergeo\", \"locationmode\": \"USA-states\", \"lon\": [-73.9639, -73.9784], \"lat\": [40.8078, 40.7631], \"mode\": \"lines\", \"line\": {\"width\": 1, \"color\": \"rgb(117, 174, 255)\"}}, {\"type\": \"scattergeo\", \"locationmode\": \"USA-states\", \"lon\": [-73.9784, -73.95100000000001], \"lat\": [40.7631, 40.7788], \"mode\": \"lines\", \"line\": {\"width\": 1, \"color\": \"rgb(117, 174, 255)\"}}, {\"type\": \"scattergeo\", \"locationmode\": \"USA-states\", \"lon\": [-73.95100000000001, -73.9594], \"lat\": [40.7788, 40.7714], \"mode\": \"lines\", \"line\": {\"width\": 1, \"color\": \"rgb(117, 174, 255)\"}}, {\"type\": \"scattergeo\", \"locationmode\": \"USA-states\", \"lon\": [-73.9594, -73.983], \"lat\": [40.7714, 40.7694], \"mode\": \"lines\", \"line\": {\"width\": 1, \"color\": \"rgb(117, 174, 255)\"}}, {\"type\": \"scattergeo\", \"locationmode\": \"USA-states\", \"lon\": [-73.983, -73.9901], \"lat\": [40.7694, 40.733000000000004], \"mode\": \"lines\", \"line\": {\"width\": 1, \"color\": \"rgb(117, 174, 255)\"}}, {\"type\": \"scattergeo\", \"locationmode\": \"USA-states\", \"lon\": [-73.9901, -73.9878], \"lat\": [40.733000000000004, 40.7412], \"mode\": \"lines\", \"line\": {\"width\": 1, \"color\": \"rgb(117, 174, 255)\"}}, {\"type\": \"scattergeo\", \"locationmode\": \"USA-states\", \"lon\": [-73.9878, -73.975], \"lat\": [40.7412, 40.7526], \"mode\": \"lines\", \"line\": {\"width\": 1, \"color\": \"rgb(117, 174, 255)\"}}, {\"type\": \"scattergeo\", \"locationmode\": \"USA-states\", \"lon\": [-73.975, -73.9598], \"lat\": [40.7526, 40.7602], \"mode\": \"lines\", \"line\": {\"width\": 1, \"color\": \"rgb(117, 174, 255)\"}}, {\"type\": \"scattergeo\", \"locationmode\": \"USA-states\", \"lon\": [-73.9598, -73.9669], \"lat\": [40.7602, 40.773], \"mode\": \"lines\", \"line\": {\"width\": 1, \"color\": \"rgb(117, 174, 255)\"}}, {\"type\": \"scattergeo\", \"locationmode\": \"USA-states\", \"lon\": [-73.9669, -73.9948], \"lat\": [40.773, 40.7628], \"mode\": \"lines\", \"line\": {\"width\": 1, \"color\": \"rgb(117, 174, 255)\"}}, {\"type\": \"scattergeo\", \"locationmode\": \"USA-states\", \"lon\": [-73.9948, -73.9636], \"lat\": [40.7628, 40.7752], \"mode\": \"lines\", \"line\": {\"width\": 1, \"color\": \"rgb(117, 174, 255)\"}}, {\"type\": \"scattergeo\", \"locationmode\": \"USA-states\", \"lon\": [-73.9636, -74.0071], \"lat\": [40.7752, 40.7283], \"mode\": \"lines\", \"line\": {\"width\": 1, \"color\": \"rgb(117, 174, 255)\"}}, {\"type\": \"scattergeo\", \"locationmode\": \"USA-states\", \"lon\": [-74.0071, -74.0367], \"lat\": [40.7283, 40.7195], \"mode\": \"lines\", \"line\": {\"width\": 1, \"color\": \"rgb(117, 174, 255)\"}}, {\"type\": \"scattergeo\", \"locationmode\": \"USA-states\", \"lon\": [-74.0367, -74.0367], \"lat\": [40.7195, 40.7195], \"mode\": \"lines\", \"line\": {\"width\": 1, \"color\": \"rgb(117, 174, 255)\"}}, {\"type\": \"scattergeo\", \"locationmode\": \"USA-states\", \"lon\": [-74.0367, -73.9911], \"lat\": [40.7195, 40.7747], \"mode\": \"lines\", \"line\": {\"width\": 1, \"color\": \"rgb(117, 174, 255)\"}}, {\"type\": \"scattergeo\", \"locationmode\": \"USA-states\", \"lon\": [-73.9911, -73.992], \"lat\": [40.7747, 40.7401], \"mode\": \"lines\", \"line\": {\"width\": 1, \"color\": \"rgb(117, 174, 255)\"}}, {\"type\": \"scattergeo\", \"locationmode\": \"USA-states\", \"lon\": [-73.992, -73.9698], \"lat\": [40.7401, 40.7686], \"mode\": \"lines\", \"line\": {\"width\": 1, \"color\": \"rgb(117, 174, 255)\"}}, {\"type\": \"scattergeo\", \"locationmode\": \"USA-states\", \"lon\": [-73.9698, -73.9982], \"lat\": [40.7686, 40.7336], \"mode\": \"lines\", \"line\": {\"width\": 1, \"color\": \"rgb(117, 174, 255)\"}}, {\"type\": \"scattergeo\", \"locationmode\": \"USA-states\", \"lon\": [-73.9982, -73.9837], \"lat\": [40.7336, 40.7795], \"mode\": \"lines\", \"line\": {\"width\": 1, \"color\": \"rgb(117, 174, 255)\"}}, {\"type\": \"scattergeo\", \"locationmode\": \"USA-states\", \"lon\": [-73.9837, -74.0162], \"lat\": [40.7795, 40.7148], \"mode\": \"lines\", \"line\": {\"width\": 1, \"color\": \"rgb(117, 174, 255)\"}}, {\"type\": \"scattergeo\", \"locationmode\": \"USA-states\", \"lon\": [-74.0162, -73.9759], \"lat\": [40.7148, 40.7438], \"mode\": \"lines\", \"line\": {\"width\": 1, \"color\": \"rgb(117, 174, 255)\"}}, {\"type\": \"scattergeo\", \"locationmode\": \"USA-states\", \"lon\": [-73.9759, -73.9888], \"lat\": [40.7438, 40.745], \"mode\": \"lines\", \"line\": {\"width\": 1, \"color\": \"rgb(117, 174, 255)\"}}, {\"type\": \"scattergeo\", \"locationmode\": \"USA-states\", \"lon\": [-73.9888, -73.9773], \"lat\": [40.745, 40.7768], \"mode\": \"lines\", \"line\": {\"width\": 1, \"color\": \"rgb(117, 174, 255)\"}}, {\"type\": \"scattergeo\", \"locationmode\": \"USA-states\", \"lon\": [-73.9773, -73.96600000000001], \"lat\": [40.7768, 40.7594], \"mode\": \"lines\", \"line\": {\"width\": 1, \"color\": \"rgb(117, 174, 255)\"}}, {\"type\": \"scattergeo\", \"locationmode\": \"USA-states\", \"lon\": [-73.96600000000001, -73.8726], \"lat\": [40.7594, 40.7741], \"mode\": \"lines\", \"line\": {\"width\": 1, \"color\": \"rgb(117, 174, 255)\"}}, {\"type\": \"scattergeo\", \"locationmode\": \"USA-states\", \"lon\": [-73.8726, -73.9907], \"lat\": [40.7741, 40.7367], \"mode\": \"lines\", \"line\": {\"width\": 1, \"color\": \"rgb(117, 174, 255)\"}}, {\"type\": \"scattergeo\", \"locationmode\": \"USA-states\", \"lon\": [-73.9907, -73.9847], \"lat\": [40.7367, 40.7368], \"mode\": \"lines\", \"line\": {\"width\": 1, \"color\": \"rgb(117, 174, 255)\"}}, {\"type\": \"scattergeo\", \"locationmode\": \"USA-states\", \"lon\": [-73.9847, -73.9638], \"lat\": [40.7368, 40.8079], \"mode\": \"lines\", \"line\": {\"width\": 1, \"color\": \"rgb(117, 174, 255)\"}}, {\"type\": \"scattergeo\", \"locationmode\": \"USA-states\", \"lon\": [-73.9638, -73.7956], \"lat\": [40.8079, 40.6678], \"mode\": \"lines\", \"line\": {\"width\": 1, \"color\": \"rgb(117, 174, 255)\"}}, {\"type\": \"scattergeo\", \"locationmode\": \"USA-states\", \"lon\": [-73.7956, -74.0033], \"lat\": [40.6678, 40.721], \"mode\": \"lines\", \"line\": {\"width\": 1, \"color\": \"rgb(117, 174, 255)\"}}, {\"type\": \"scattergeo\", \"locationmode\": \"USA-states\", \"lon\": [-74.0033, -73.9598], \"lat\": [40.721, 40.7764], \"mode\": \"lines\", \"line\": {\"width\": 1, \"color\": \"rgb(117, 174, 255)\"}}, {\"type\": \"scattergeo\", \"locationmode\": \"USA-states\", \"lon\": [-73.9598, -73.9581], \"lat\": [40.7764, 40.7746], \"mode\": \"lines\", \"line\": {\"width\": 1, \"color\": \"rgb(117, 174, 255)\"}}, {\"type\": \"scattergeo\", \"locationmode\": \"USA-states\", \"lon\": [-73.9581, -73.9638], \"lat\": [40.7746, 40.7745], \"mode\": \"lines\", \"line\": {\"width\": 1, \"color\": \"rgb(117, 174, 255)\"}}, {\"type\": \"scattergeo\", \"locationmode\": \"USA-states\", \"lon\": [-73.9638, -73.9935], \"lat\": [40.7745, 40.7224], \"mode\": \"lines\", \"line\": {\"width\": 1, \"color\": \"rgb(117, 174, 255)\"}}, {\"type\": \"scattergeo\", \"locationmode\": \"USA-states\", \"lon\": [-73.9935, -73.9626], \"lat\": [40.7224, 40.7736], \"mode\": \"lines\", \"line\": {\"width\": 1, \"color\": \"rgb(117, 174, 255)\"}}, {\"type\": \"scattergeo\", \"locationmode\": \"USA-states\", \"lon\": [-73.9626, -73.9929], \"lat\": [40.7736, 40.7348], \"mode\": \"lines\", \"line\": {\"width\": 1, \"color\": \"rgb(117, 174, 255)\"}}, {\"type\": \"scattergeo\", \"locationmode\": \"USA-states\", \"lon\": [-73.9929, -73.9991], \"lat\": [40.7348, 40.7605], \"mode\": \"lines\", \"line\": {\"width\": 1, \"color\": \"rgb(117, 174, 255)\"}}, {\"type\": \"scattergeo\", \"locationmode\": \"USA-states\", \"lon\": [-73.9991, -74.1779], \"lat\": [40.7605, 40.6948], \"mode\": \"lines\", \"line\": {\"width\": 1, \"color\": \"rgb(117, 174, 255)\"}}, {\"type\": \"scattergeo\", \"locationmode\": \"USA-states\", \"lon\": [-74.1779, -73.9877], \"lat\": [40.6948, 40.7573], \"mode\": \"lines\", \"line\": {\"width\": 1, \"color\": \"rgb(117, 174, 255)\"}}, {\"type\": \"scattergeo\", \"locationmode\": \"USA-states\", \"lon\": [-73.9877, -74.1781], \"lat\": [40.7573, 40.6949], \"mode\": \"lines\", \"line\": {\"width\": 1, \"color\": \"rgb(117, 174, 255)\"}}, {\"type\": \"scattergeo\", \"locationmode\": \"USA-states\", \"lon\": [-74.1781, -74.1781], \"lat\": [40.6949, 40.6949], \"mode\": \"lines\", \"line\": {\"width\": 1, \"color\": \"rgb(117, 174, 255)\"}}, {\"type\": \"scattergeo\", \"locationmode\": \"USA-states\", \"lon\": [-74.1781, -73.9754], \"lat\": [40.6949, 40.7771], \"mode\": \"lines\", \"line\": {\"width\": 1, \"color\": \"rgb(117, 174, 255)\"}}, {\"type\": \"scattergeo\", \"locationmode\": \"USA-states\", \"lon\": [-73.9754, -73.98899999999999], \"lat\": [40.7771, 40.7584], \"mode\": \"lines\", \"line\": {\"width\": 1, \"color\": \"rgb(117, 174, 255)\"}}, {\"type\": \"scattergeo\", \"locationmode\": \"USA-states\", \"lon\": [-73.98899999999999, -73.9878], \"lat\": [40.7584, 40.755], \"mode\": \"lines\", \"line\": {\"width\": 1, \"color\": \"rgb(117, 174, 255)\"}}, {\"type\": \"scattergeo\", \"locationmode\": \"USA-states\", \"lon\": [-73.9878, -74.0004], \"lat\": [40.755, 40.7226], \"mode\": \"lines\", \"line\": {\"width\": 1, \"color\": \"rgb(117, 174, 255)\"}}, {\"type\": \"scattergeo\", \"locationmode\": \"USA-states\", \"lon\": [-74.0004, -73.9607], \"lat\": [40.7226, 40.774], \"mode\": \"lines\", \"line\": {\"width\": 1, \"color\": \"rgb(117, 174, 255)\"}}, {\"type\": \"scattergeo\", \"locationmode\": \"USA-states\", \"lon\": [-73.9607, -73.9654], \"lat\": [40.774, 40.7718], \"mode\": \"lines\", \"line\": {\"width\": 1, \"color\": \"rgb(117, 174, 255)\"}}, {\"type\": \"scattergeo\", \"locationmode\": \"USA-states\", \"lon\": [-73.9654, -73.991], \"lat\": [40.7718, 40.7748], \"mode\": \"lines\", \"line\": {\"width\": 1, \"color\": \"rgb(117, 174, 255)\"}}, {\"type\": \"scattergeo\", \"locationmode\": \"USA-states\", \"lon\": [-73.991, -73.9595], \"lat\": [40.7748, 40.775], \"mode\": \"lines\", \"line\": {\"width\": 1, \"color\": \"rgb(117, 174, 255)\"}}, {\"type\": \"scattergeo\", \"locationmode\": \"USA-states\", \"lon\": [-73.9595, -73.9636], \"lat\": [40.775, 40.7636], \"mode\": \"lines\", \"line\": {\"width\": 1, \"color\": \"rgb(117, 174, 255)\"}}, {\"type\": \"scattergeo\", \"locationmode\": \"USA-states\", \"lon\": [-73.9636, -73.9847], \"lat\": [40.7636, 40.7743], \"mode\": \"lines\", \"line\": {\"width\": 1, \"color\": \"rgb(117, 174, 255)\"}}, {\"type\": \"scattergeo\", \"locationmode\": \"USA-states\", \"lon\": [-73.9847, -73.8627], \"lat\": [40.7743, 40.7688], \"mode\": \"lines\", \"line\": {\"width\": 1, \"color\": \"rgb(117, 174, 255)\"}}, {\"type\": \"scattergeo\", \"locationmode\": \"USA-states\", \"lon\": [-73.8627, -74.0071], \"lat\": [40.7688, 40.7254], \"mode\": \"lines\", \"line\": {\"width\": 1, \"color\": \"rgb(117, 174, 255)\"}}, {\"type\": \"scattergeo\", \"locationmode\": \"USA-states\", \"lon\": [-74.0071, -73.9748], \"lat\": [40.7254, 40.7534], \"mode\": \"lines\", \"line\": {\"width\": 1, \"color\": \"rgb(117, 174, 255)\"}}, {\"type\": \"scattergeo\", \"locationmode\": \"USA-states\", \"lon\": [-73.9748, -73.9595], \"lat\": [40.7534, 40.7773], \"mode\": \"lines\", \"line\": {\"width\": 1, \"color\": \"rgb(117, 174, 255)\"}}, {\"type\": \"scattergeo\", \"locationmode\": \"USA-states\", \"lon\": [-73.9595, -74.0062], \"lat\": [40.7773, 40.7233], \"mode\": \"lines\", \"line\": {\"width\": 1, \"color\": \"rgb(117, 174, 255)\"}}, {\"type\": \"scattergeo\", \"locationmode\": \"USA-states\", \"lon\": [-74.0062, -73.9781], \"lat\": [40.7233, 40.763000000000005], \"mode\": \"lines\", \"line\": {\"width\": 1, \"color\": \"rgb(117, 174, 255)\"}}, {\"type\": \"scattergeo\", \"locationmode\": \"USA-states\", \"lon\": [-73.9781, -73.9599], \"lat\": [40.763000000000005, 40.7822], \"mode\": \"lines\", \"line\": {\"width\": 1, \"color\": \"rgb(117, 174, 255)\"}}, {\"type\": \"scattergeo\", \"locationmode\": \"USA-states\", \"lon\": [-73.9599, -73.9677], \"lat\": [40.7822, 40.6916], \"mode\": \"lines\", \"line\": {\"width\": 1, \"color\": \"rgb(117, 174, 255)\"}}, {\"type\": \"scattergeo\", \"locationmode\": \"USA-states\", \"lon\": [-73.9677, -73.9694], \"lat\": [40.6916, 40.7577], \"mode\": \"lines\", \"line\": {\"width\": 1, \"color\": \"rgb(117, 174, 255)\"}}, {\"type\": \"scattergeo\", \"locationmode\": \"USA-states\", \"lon\": [-73.9694, -73.9789], \"lat\": [40.7577, 40.7668], \"mode\": \"lines\", \"line\": {\"width\": 1, \"color\": \"rgb(117, 174, 255)\"}}, {\"type\": \"scattergeo\", \"locationmode\": \"USA-states\", \"lon\": [-73.9789, -73.9629], \"lat\": [40.7668, 40.7741], \"mode\": \"lines\", \"line\": {\"width\": 1, \"color\": \"rgb(117, 174, 255)\"}}, {\"type\": \"scattergeo\", \"locationmode\": \"USA-states\", \"lon\": [-73.9629, -74.0058], \"lat\": [40.7741, 40.7271], \"mode\": \"lines\", \"line\": {\"width\": 1, \"color\": \"rgb(117, 174, 255)\"}}, {\"type\": \"scattergeo\", \"locationmode\": \"USA-states\", \"lon\": [-74.0058, -74.0049], \"lat\": [40.7271, 40.7072], \"mode\": \"lines\", \"line\": {\"width\": 1, \"color\": \"rgb(117, 174, 255)\"}}, {\"type\": \"scattergeo\", \"locationmode\": \"USA-states\", \"lon\": [-74.0049, -73.9964], \"lat\": [40.7072, 40.7412], \"mode\": \"lines\", \"line\": {\"width\": 1, \"color\": \"rgb(117, 174, 255)\"}}, {\"type\": \"scattergeo\", \"locationmode\": \"USA-states\", \"lon\": [-73.9964, -74.0456], \"lat\": [40.7412, 40.7883], \"mode\": \"lines\", \"line\": {\"width\": 1, \"color\": \"rgb(117, 174, 255)\"}}, {\"type\": \"scattergeo\", \"locationmode\": \"USA-states\", \"lon\": [-74.0456, -74.0456], \"lat\": [40.7883, 40.7883], \"mode\": \"lines\", \"line\": {\"width\": 1, \"color\": \"rgb(117, 174, 255)\"}}, {\"type\": \"scattergeo\", \"locationmode\": \"USA-states\", \"lon\": [-74.0456, -73.9721], \"lat\": [40.7883, 40.7568], \"mode\": \"lines\", \"line\": {\"width\": 1, \"color\": \"rgb(117, 174, 255)\"}}, {\"type\": \"scattergeo\", \"locationmode\": \"USA-states\", \"lon\": [-73.9721, -73.9728], \"lat\": [40.7568, 40.7624], \"mode\": \"lines\", \"line\": {\"width\": 1, \"color\": \"rgb(117, 174, 255)\"}}, {\"type\": \"scattergeo\", \"locationmode\": \"USA-states\", \"lon\": [-73.9728, -73.9916], \"lat\": [40.7624, 40.7457], \"mode\": \"lines\", \"line\": {\"width\": 1, \"color\": \"rgb(117, 174, 255)\"}}, {\"type\": \"scattergeo\", \"locationmode\": \"USA-states\", \"lon\": [-73.9916, -73.9774], \"lat\": [40.7457, 40.7863], \"mode\": \"lines\", \"line\": {\"width\": 1, \"color\": \"rgb(117, 174, 255)\"}}, {\"type\": \"scattergeo\", \"locationmode\": \"USA-states\", \"lon\": [-73.9774, -73.9721], \"lat\": [40.7863, 40.7593], \"mode\": \"lines\", \"line\": {\"width\": 1, \"color\": \"rgb(117, 174, 255)\"}}, {\"type\": \"scattergeo\", \"locationmode\": \"USA-states\", \"lon\": [-73.9721, -73.9912], \"lat\": [40.7593, 40.7398], \"mode\": \"lines\", \"line\": {\"width\": 1, \"color\": \"rgb(117, 174, 255)\"}}, {\"type\": \"scattergeo\", \"locationmode\": \"USA-states\", \"lon\": [-73.9912, -74.0468], \"lat\": [40.7398, 40.8275], \"mode\": \"lines\", \"line\": {\"width\": 1, \"color\": \"rgb(117, 174, 255)\"}}, {\"type\": \"scattergeo\", \"locationmode\": \"USA-states\", \"lon\": [-74.0468, -74.0468], \"lat\": [40.8275, 40.8275], \"mode\": \"lines\", \"line\": {\"width\": 1, \"color\": \"rgb(117, 174, 255)\"}}, {\"type\": \"scattergeo\", \"locationmode\": \"USA-states\", \"lon\": [-74.0468, -73.9658], \"lat\": [40.8275, 40.7686], \"mode\": \"lines\", \"line\": {\"width\": 1, \"color\": \"rgb(117, 174, 255)\"}}, {\"type\": \"scattergeo\", \"locationmode\": \"USA-states\", \"lon\": [-73.9658, -73.9765], \"lat\": [40.7686, 40.7566], \"mode\": \"lines\", \"line\": {\"width\": 1, \"color\": \"rgb(117, 174, 255)\"}}, {\"type\": \"scattergeo\", \"locationmode\": \"USA-states\", \"lon\": [-73.9765, -73.9846], \"lat\": [40.7566, 40.7103], \"mode\": \"lines\", \"line\": {\"width\": 1, \"color\": \"rgb(117, 174, 255)\"}}, {\"type\": \"scattergeo\", \"locationmode\": \"USA-states\", \"lon\": [-73.9846, -73.9902], \"lat\": [40.7103, 40.7414], \"mode\": \"lines\", \"line\": {\"width\": 1, \"color\": \"rgb(117, 174, 255)\"}}, {\"type\": \"scattergeo\", \"locationmode\": \"USA-states\", \"lon\": [-73.9902, -73.9899], \"lat\": [40.7414, 40.7439], \"mode\": \"lines\", \"line\": {\"width\": 1, \"color\": \"rgb(117, 174, 255)\"}}, {\"type\": \"scattergeo\", \"locationmode\": \"USA-states\", \"lon\": [-73.9899, -73.973], \"lat\": [40.7439, 40.7619], \"mode\": \"lines\", \"line\": {\"width\": 1, \"color\": \"rgb(117, 174, 255)\"}}, {\"type\": \"scattergeo\", \"locationmode\": \"USA-states\", \"lon\": [-73.973, -74.0041], \"lat\": [40.7619, 40.7201], \"mode\": \"lines\", \"line\": {\"width\": 1, \"color\": \"rgb(117, 174, 255)\"}}, {\"type\": \"scattergeo\", \"locationmode\": \"USA-states\", \"lon\": [-74.0041, -73.9913], \"lat\": [40.7201, 40.7329], \"mode\": \"lines\", \"line\": {\"width\": 1, \"color\": \"rgb(117, 174, 255)\"}}, {\"type\": \"scattergeo\", \"locationmode\": \"USA-states\", \"lon\": [-73.9913, -73.9815], \"lat\": [40.7329, 40.7582], \"mode\": \"lines\", \"line\": {\"width\": 1, \"color\": \"rgb(117, 174, 255)\"}}, {\"type\": \"scattergeo\", \"locationmode\": \"USA-states\", \"lon\": [-73.9815, -73.9584], \"lat\": [40.7582, 40.7747], \"mode\": \"lines\", \"line\": {\"width\": 1, \"color\": \"rgb(117, 174, 255)\"}}, {\"type\": \"scattergeo\", \"locationmode\": \"USA-states\", \"lon\": [-73.9584, -73.9612], \"lat\": [40.7747, 40.7775], \"mode\": \"lines\", \"line\": {\"width\": 1, \"color\": \"rgb(117, 174, 255)\"}}, {\"type\": \"scattergeo\", \"locationmode\": \"USA-states\", \"lon\": [-73.9612, -73.9802], \"lat\": [40.7775, 40.773], \"mode\": \"lines\", \"line\": {\"width\": 1, \"color\": \"rgb(117, 174, 255)\"}}, {\"type\": \"scattergeo\", \"locationmode\": \"USA-states\", \"lon\": [-73.9802, -73.9991], \"lat\": [40.773, 40.7392], \"mode\": \"lines\", \"line\": {\"width\": 1, \"color\": \"rgb(117, 174, 255)\"}}, {\"type\": \"scattergeo\", \"locationmode\": \"USA-states\", \"lon\": [-73.9991, -73.9958], \"lat\": [40.7392, 40.7368], \"mode\": \"lines\", \"line\": {\"width\": 1, \"color\": \"rgb(117, 174, 255)\"}}, {\"type\": \"scattergeo\", \"locationmode\": \"USA-states\", \"lon\": [-73.9958, -73.9662], \"lat\": [40.7368, 40.8052], \"mode\": \"lines\", \"line\": {\"width\": 1, \"color\": \"rgb(117, 174, 255)\"}}, {\"type\": \"scattergeo\", \"locationmode\": \"USA-states\", \"lon\": [-73.9662, -74.0031], \"lat\": [40.8052, 40.7205], \"mode\": \"lines\", \"line\": {\"width\": 1, \"color\": \"rgb(117, 174, 255)\"}}, {\"type\": \"scattergeo\", \"locationmode\": \"USA-states\", \"lon\": [-74.0031, -73.9829], \"lat\": [40.7205, 40.7633], \"mode\": \"lines\", \"line\": {\"width\": 1, \"color\": \"rgb(117, 174, 255)\"}}, {\"type\": \"scattergeo\", \"locationmode\": \"USA-states\", \"lon\": [-73.9829, -73.9441], \"lat\": [40.7633, 40.6922], \"mode\": \"lines\", \"line\": {\"width\": 1, \"color\": \"rgb(117, 174, 255)\"}}, {\"type\": \"scattergeo\", \"locationmode\": \"USA-states\", \"lon\": [-73.9441, -73.9969], \"lat\": [40.6922, 40.7476], \"mode\": \"lines\", \"line\": {\"width\": 1, \"color\": \"rgb(117, 174, 255)\"}}, {\"type\": \"scattergeo\", \"locationmode\": \"USA-states\", \"lon\": [-73.9969, -73.9815], \"lat\": [40.7476, 40.7707], \"mode\": \"lines\", \"line\": {\"width\": 1, \"color\": \"rgb(117, 174, 255)\"}}, {\"type\": \"scattergeo\", \"locationmode\": \"USA-states\", \"lon\": [-73.9815, -73.9972], \"lat\": [40.7707, 40.7257], \"mode\": \"lines\", \"line\": {\"width\": 1, \"color\": \"rgb(117, 174, 255)\"}}, {\"type\": \"scattergeo\", \"locationmode\": \"USA-states\", \"lon\": [-73.9972, -73.9754], \"lat\": [40.7257, 40.7611], \"mode\": \"lines\", \"line\": {\"width\": 1, \"color\": \"rgb(117, 174, 255)\"}}, {\"type\": \"scattergeo\", \"locationmode\": \"USA-states\", \"lon\": [-73.9754, -74.0107], \"lat\": [40.7611, 40.7035], \"mode\": \"lines\", \"line\": {\"width\": 1, \"color\": \"rgb(117, 174, 255)\"}}, {\"type\": \"scattergeo\", \"locationmode\": \"USA-states\", \"lon\": [-74.0107, -73.99600000000001], \"lat\": [40.7035, 40.7591], \"mode\": \"lines\", \"line\": {\"width\": 1, \"color\": \"rgb(117, 174, 255)\"}}, {\"type\": \"scattergeo\", \"locationmode\": \"USA-states\", \"lon\": [-73.99600000000001, -74.0036], \"lat\": [40.7591, 40.7419], \"mode\": \"lines\", \"line\": {\"width\": 1, \"color\": \"rgb(117, 174, 255)\"}}, {\"type\": \"scattergeo\", \"locationmode\": \"USA-states\", \"lon\": [-74.0036, -73.9746], \"lat\": [40.7419, 40.755], \"mode\": \"lines\", \"line\": {\"width\": 1, \"color\": \"rgb(117, 174, 255)\"}}, {\"type\": \"scattergeo\", \"locationmode\": \"USA-states\", \"lon\": [-73.9746, -73.9863], \"lat\": [40.755, 40.7472], \"mode\": \"lines\", \"line\": {\"width\": 1, \"color\": \"rgb(117, 174, 255)\"}}, {\"type\": \"scattergeo\", \"locationmode\": \"USA-states\", \"lon\": [-73.9863, -73.9847], \"lat\": [40.7472, 40.7548], \"mode\": \"lines\", \"line\": {\"width\": 1, \"color\": \"rgb(117, 174, 255)\"}}, {\"type\": \"scattergeo\", \"locationmode\": \"USA-states\", \"lon\": [-73.9847, -73.9762], \"lat\": [40.7548, 40.7797], \"mode\": \"lines\", \"line\": {\"width\": 1, \"color\": \"rgb(117, 174, 255)\"}}, {\"type\": \"scattergeo\", \"locationmode\": \"USA-states\", \"lon\": [-73.9762, -74.0076], \"lat\": [40.7797, 40.7323], \"mode\": \"lines\", \"line\": {\"width\": 1, \"color\": \"rgb(117, 174, 255)\"}}, {\"type\": \"scattergeo\", \"locationmode\": \"USA-states\", \"lon\": [-74.0076, -73.8726], \"lat\": [40.7323, 40.7741], \"mode\": \"lines\", \"line\": {\"width\": 1, \"color\": \"rgb(117, 174, 255)\"}}, {\"type\": \"scattergeo\", \"locationmode\": \"USA-states\", \"lon\": [-73.8726, -74.0172], \"lat\": [40.7741, 40.7074], \"mode\": \"lines\", \"line\": {\"width\": 1, \"color\": \"rgb(117, 174, 255)\"}}, {\"type\": \"scattergeo\", \"locationmode\": \"USA-states\", \"lon\": [-74.0172, -73.9954], \"lat\": [40.7074, 40.6334], \"mode\": \"lines\", \"line\": {\"width\": 1, \"color\": \"rgb(117, 174, 255)\"}}, {\"type\": \"scattergeo\", \"locationmode\": \"USA-states\", \"lon\": [-73.9954, -74.0114], \"lat\": [40.6334, 40.71], \"mode\": \"lines\", \"line\": {\"width\": 1, \"color\": \"rgb(117, 174, 255)\"}}, {\"type\": \"scattergeo\", \"locationmode\": \"USA-states\", \"lon\": [-74.0114, -73.9897], \"lat\": [40.71, 40.7386], \"mode\": \"lines\", \"line\": {\"width\": 1, \"color\": \"rgb(117, 174, 255)\"}}, {\"type\": \"scattergeo\", \"locationmode\": \"USA-states\", \"lon\": [-73.9897, -74.0156], \"lat\": [40.7386, 40.7095], \"mode\": \"lines\", \"line\": {\"width\": 1, \"color\": \"rgb(117, 174, 255)\"}}, {\"type\": \"scattergeo\", \"locationmode\": \"USA-states\", \"lon\": [-74.0156, -74.0133], \"lat\": [40.7095, 40.7024], \"mode\": \"lines\", \"line\": {\"width\": 1, \"color\": \"rgb(117, 174, 255)\"}}, {\"type\": \"scattergeo\", \"locationmode\": \"USA-states\", \"lon\": [-74.0133, -73.9619], \"lat\": [40.7024, 40.7581], \"mode\": \"lines\", \"line\": {\"width\": 1, \"color\": \"rgb(117, 174, 255)\"}}, {\"type\": \"scattergeo\", \"locationmode\": \"USA-states\", \"lon\": [-73.9619, -73.8625], \"lat\": [40.7581, 40.7685], \"mode\": \"lines\", \"line\": {\"width\": 1, \"color\": \"rgb(117, 174, 255)\"}}, {\"type\": \"scattergeo\", \"locationmode\": \"USA-states\", \"lon\": [-73.8625, -73.9874], \"lat\": [40.7685, 40.7389], \"mode\": \"lines\", \"line\": {\"width\": 1, \"color\": \"rgb(117, 174, 255)\"}}, {\"type\": \"scattergeo\", \"locationmode\": \"USA-states\", \"lon\": [-73.9874, -73.8716], \"lat\": [40.7389, 40.7736], \"mode\": \"lines\", \"line\": {\"width\": 1, \"color\": \"rgb(117, 174, 255)\"}}, {\"type\": \"scattergeo\", \"locationmode\": \"USA-states\", \"lon\": [-73.8716, -74.0163], \"lat\": [40.7736, 40.7154], \"mode\": \"lines\", \"line\": {\"width\": 1, \"color\": \"rgb(117, 174, 255)\"}}, {\"type\": \"scattergeo\", \"locationmode\": \"USA-states\", \"lon\": [-74.0163, -73.9804], \"lat\": [40.7154, 40.7599], \"mode\": \"lines\", \"line\": {\"width\": 1, \"color\": \"rgb(117, 174, 255)\"}}, {\"type\": \"scattergeo\", \"locationmode\": \"USA-states\", \"lon\": [-73.9804, -73.9874], \"lat\": [40.7599, 40.7559], \"mode\": \"lines\", \"line\": {\"width\": 1, \"color\": \"rgb(117, 174, 255)\"}}, {\"type\": \"scattergeo\", \"locationmode\": \"USA-states\", \"lon\": [-73.9874, -74.02199999999999], \"lat\": [40.7559, 40.7852], \"mode\": \"lines\", \"line\": {\"width\": 1, \"color\": \"rgb(117, 174, 255)\"}}, {\"type\": \"scattergeo\", \"locationmode\": \"USA-states\", \"lon\": [-74.02199999999999, -74.02199999999999], \"lat\": [40.7852, 40.7852], \"mode\": \"lines\", \"line\": {\"width\": 1, \"color\": \"rgb(117, 174, 255)\"}}, {\"type\": \"scattergeo\", \"locationmode\": \"USA-states\", \"lon\": [-74.02199999999999, -74.1817], \"lat\": [40.7852, 40.6878], \"mode\": \"lines\", \"line\": {\"width\": 1, \"color\": \"rgb(117, 174, 255)\"}}, {\"type\": \"scattergeo\", \"locationmode\": \"USA-states\", \"lon\": [-74.1817, -73.9747], \"lat\": [40.6878, 40.6864], \"mode\": \"lines\", \"line\": {\"width\": 1, \"color\": \"rgb(117, 174, 255)\"}}, {\"type\": \"scattergeo\", \"locationmode\": \"USA-states\", \"lon\": [-73.9747, -73.9451], \"lat\": [40.6864, 40.8289], \"mode\": \"lines\", \"line\": {\"width\": 1, \"color\": \"rgb(117, 174, 255)\"}}, {\"type\": \"scattergeo\", \"locationmode\": \"USA-states\", \"lon\": [-73.9451, -73.9451], \"lat\": [40.8289, 40.8289], \"mode\": \"lines\", \"line\": {\"width\": 1, \"color\": \"rgb(117, 174, 255)\"}}, {\"type\": \"scattergeo\", \"locationmode\": \"USA-states\", \"lon\": [-73.9451, -73.9682], \"lat\": [40.8289, 40.7672], \"mode\": \"lines\", \"line\": {\"width\": 1, \"color\": \"rgb(117, 174, 255)\"}}, {\"type\": \"scattergeo\", \"locationmode\": \"USA-states\", \"lon\": [-73.9682, -73.9816], \"lat\": [40.7672, 40.7498], \"mode\": \"lines\", \"line\": {\"width\": 1, \"color\": \"rgb(117, 174, 255)\"}}, {\"type\": \"scattergeo\", \"locationmode\": \"USA-states\", \"lon\": [-73.9816, -73.8016], \"lat\": [40.7498, 40.6751], \"mode\": \"lines\", \"line\": {\"width\": 1, \"color\": \"rgb(117, 174, 255)\"}}, {\"type\": \"scattergeo\", \"locationmode\": \"USA-states\", \"lon\": [-73.8016, -73.9692], \"lat\": [40.6751, 40.7544], \"mode\": \"lines\", \"line\": {\"width\": 1, \"color\": \"rgb(117, 174, 255)\"}}, {\"type\": \"scattergeo\", \"locationmode\": \"USA-states\", \"lon\": [-73.9692, -73.9535], \"lat\": [40.7544, 40.7685], \"mode\": \"lines\", \"line\": {\"width\": 1, \"color\": \"rgb(117, 174, 255)\"}}, {\"type\": \"scattergeo\", \"locationmode\": \"USA-states\", \"lon\": [-73.9535, -73.9599], \"lat\": [40.7685, 40.7684], \"mode\": \"lines\", \"line\": {\"width\": 1, \"color\": \"rgb(117, 174, 255)\"}}, {\"type\": \"scattergeo\", \"locationmode\": \"USA-states\", \"lon\": [-73.9599, -73.9673], \"lat\": [40.7684, 40.7728], \"mode\": \"lines\", \"line\": {\"width\": 1, \"color\": \"rgb(117, 174, 255)\"}}, {\"type\": \"scattergeo\", \"locationmode\": \"USA-states\", \"lon\": [-73.9673, -73.9577], \"lat\": [40.7728, 40.7702], \"mode\": \"lines\", \"line\": {\"width\": 1, \"color\": \"rgb(117, 174, 255)\"}}, {\"type\": \"scattergeo\", \"locationmode\": \"USA-states\", \"lon\": [-73.9577, -73.9796], \"lat\": [40.7702, 40.7647], \"mode\": \"lines\", \"line\": {\"width\": 1, \"color\": \"rgb(117, 174, 255)\"}}, {\"type\": \"scattergeo\", \"locationmode\": \"USA-states\", \"lon\": [-73.9796, -73.972], \"lat\": [40.7647, 40.7868], \"mode\": \"lines\", \"line\": {\"width\": 1, \"color\": \"rgb(117, 174, 255)\"}}, {\"type\": \"scattergeo\", \"locationmode\": \"USA-states\", \"lon\": [-73.972, -74.0035], \"lat\": [40.7868, 40.7178], \"mode\": \"lines\", \"line\": {\"width\": 1, \"color\": \"rgb(117, 174, 255)\"}}, {\"type\": \"scattergeo\", \"locationmode\": \"USA-states\", \"lon\": [-74.0035, -73.8857], \"lat\": [40.7178, 40.7732], \"mode\": \"lines\", \"line\": {\"width\": 1, \"color\": \"rgb(117, 174, 255)\"}}, {\"type\": \"scattergeo\", \"locationmode\": \"USA-states\", \"lon\": [-73.8857, -73.9919], \"lat\": [40.7732, 40.7257], \"mode\": \"lines\", \"line\": {\"width\": 1, \"color\": \"rgb(117, 174, 255)\"}}, {\"type\": \"scattergeo\", \"locationmode\": \"USA-states\", \"lon\": [-73.9919, -74.178], \"lat\": [40.7257, 40.695], \"mode\": \"lines\", \"line\": {\"width\": 1, \"color\": \"rgb(117, 174, 255)\"}}, {\"type\": \"scattergeo\", \"locationmode\": \"USA-states\", \"lon\": [-74.178, -73.9796], \"lat\": [40.695, 40.7644], \"mode\": \"lines\", \"line\": {\"width\": 1, \"color\": \"rgb(117, 174, 255)\"}}, {\"type\": \"scattergeo\", \"locationmode\": \"USA-states\", \"lon\": [-73.9796, -73.9766], \"lat\": [40.7644, 40.7641], \"mode\": \"lines\", \"line\": {\"width\": 1, \"color\": \"rgb(117, 174, 255)\"}}, {\"type\": \"scattergeo\", \"locationmode\": \"USA-states\", \"lon\": [-73.9766, -74.0012], \"lat\": [40.7641, 40.723], \"mode\": \"lines\", \"line\": {\"width\": 1, \"color\": \"rgb(117, 174, 255)\"}}, {\"type\": \"scattergeo\", \"locationmode\": \"USA-states\", \"lon\": [-74.0012, -73.9935], \"lat\": [40.723, 40.7326], \"mode\": \"lines\", \"line\": {\"width\": 1, \"color\": \"rgb(117, 174, 255)\"}}, {\"type\": \"scattergeo\", \"locationmode\": \"USA-states\", \"lon\": [-73.9935, -73.9742], \"lat\": [40.7326, 40.7569], \"mode\": \"lines\", \"line\": {\"width\": 1, \"color\": \"rgb(117, 174, 255)\"}}, {\"type\": \"scattergeo\", \"locationmode\": \"USA-states\", \"lon\": [-73.9742, -73.9788], \"lat\": [40.7569, 40.7622], \"mode\": \"lines\", \"line\": {\"width\": 1, \"color\": \"rgb(117, 174, 255)\"}}, {\"type\": \"scattergeo\", \"locationmode\": \"USA-states\", \"lon\": [-73.9788, -73.9533], \"lat\": [40.7622, 40.7785], \"mode\": \"lines\", \"line\": {\"width\": 1, \"color\": \"rgb(117, 174, 255)\"}}, {\"type\": \"scattergeo\", \"locationmode\": \"USA-states\", \"lon\": [-73.9533, -73.9873], \"lat\": [40.7785, 40.7447], \"mode\": \"lines\", \"line\": {\"width\": 1, \"color\": \"rgb(117, 174, 255)\"}}, {\"type\": \"scattergeo\", \"locationmode\": \"USA-states\", \"lon\": [-73.9873, -73.9973], \"lat\": [40.7447, 40.7191], \"mode\": \"lines\", \"line\": {\"width\": 1, \"color\": \"rgb(117, 174, 255)\"}}, {\"type\": \"scattergeo\", \"locationmode\": \"USA-states\", \"lon\": [-73.9973, -73.9853], \"lat\": [40.7191, 40.7031], \"mode\": \"lines\", \"line\": {\"width\": 1, \"color\": \"rgb(117, 174, 255)\"}}, {\"type\": \"scattergeo\", \"locationmode\": \"USA-states\", \"lon\": [-73.9853, -74.2213], \"lat\": [40.7031, 40.9148], \"mode\": \"lines\", \"line\": {\"width\": 1, \"color\": \"rgb(117, 174, 255)\"}}, {\"type\": \"scattergeo\", \"locationmode\": \"USA-states\", \"lon\": [-74.2213, -73.9708], \"lat\": [40.9148, 40.7649], \"mode\": \"lines\", \"line\": {\"width\": 1, \"color\": \"rgb(117, 174, 255)\"}}, {\"type\": \"scattergeo\", \"locationmode\": \"USA-states\", \"lon\": [-73.9708, -73.9756], \"lat\": [40.7649, 40.7521], \"mode\": \"lines\", \"line\": {\"width\": 1, \"color\": \"rgb(117, 174, 255)\"}}, {\"type\": \"scattergeo\", \"locationmode\": \"USA-states\", \"lon\": [-73.9756, -74.0008], \"lat\": [40.7521, 40.7374], \"mode\": \"lines\", \"line\": {\"width\": 1, \"color\": \"rgb(117, 174, 255)\"}}, {\"type\": \"scattergeo\", \"locationmode\": \"USA-states\", \"lon\": [-74.0008, -73.9639], \"lat\": [40.7374, 40.7749], \"mode\": \"lines\", \"line\": {\"width\": 1, \"color\": \"rgb(117, 174, 255)\"}}, {\"type\": \"scattergeo\", \"locationmode\": \"USA-states\", \"lon\": [-73.9639, -73.9621], \"lat\": [40.7749, 40.7763], \"mode\": \"lines\", \"line\": {\"width\": 1, \"color\": \"rgb(117, 174, 255)\"}}, {\"type\": \"scattergeo\", \"locationmode\": \"USA-states\", \"lon\": [-73.9621, -74.0029], \"lat\": [40.7763, 40.749], \"mode\": \"lines\", \"line\": {\"width\": 1, \"color\": \"rgb(117, 174, 255)\"}}, {\"type\": \"scattergeo\", \"locationmode\": \"USA-states\", \"lon\": [-74.0029, -74.0349], \"lat\": [40.749, 40.7276], \"mode\": \"lines\", \"line\": {\"width\": 1, \"color\": \"rgb(117, 174, 255)\"}}, {\"type\": \"scattergeo\", \"locationmode\": \"USA-states\", \"lon\": [-74.0349, -74.0349], \"lat\": [40.7276, 40.7276], \"mode\": \"lines\", \"line\": {\"width\": 1, \"color\": \"rgb(117, 174, 255)\"}}, {\"type\": \"scattergeo\", \"locationmode\": \"USA-states\", \"lon\": [-74.0349, -73.9842], \"lat\": [40.7276, 40.7631], \"mode\": \"lines\", \"line\": {\"width\": 1, \"color\": \"rgb(117, 174, 255)\"}}, {\"type\": \"scattergeo\", \"locationmode\": \"USA-states\", \"lon\": [-73.9842, -73.9669], \"lat\": [40.7631, 40.7601], \"mode\": \"lines\", \"line\": {\"width\": 1, \"color\": \"rgb(117, 174, 255)\"}}, {\"type\": \"scattergeo\", \"locationmode\": \"USA-states\", \"lon\": [-73.9669, -73.8811], \"lat\": [40.7601, 40.8791], \"mode\": \"lines\", \"line\": {\"width\": 1, \"color\": \"rgb(117, 174, 255)\"}}, {\"type\": \"scattergeo\", \"locationmode\": \"USA-states\", \"lon\": [-73.8811, -73.866], \"lat\": [40.8791, 40.771], \"mode\": \"lines\", \"line\": {\"width\": 1, \"color\": \"rgb(117, 174, 255)\"}}, {\"type\": \"scattergeo\", \"locationmode\": \"USA-states\", \"lon\": [-73.866, -74.0099], \"lat\": [40.771, 40.7364], \"mode\": \"lines\", \"line\": {\"width\": 1, \"color\": \"rgb(117, 174, 255)\"}}, {\"type\": \"scattergeo\", \"locationmode\": \"USA-states\", \"lon\": [-74.0099, -73.9549], \"lat\": [40.7364, 40.7657], \"mode\": \"lines\", \"line\": {\"width\": 1, \"color\": \"rgb(117, 174, 255)\"}}, {\"type\": \"scattergeo\", \"locationmode\": \"USA-states\", \"lon\": [-73.9549, -73.9757], \"lat\": [40.7657, 40.75], \"mode\": \"lines\", \"line\": {\"width\": 1, \"color\": \"rgb(117, 174, 255)\"}}, {\"type\": \"scattergeo\", \"locationmode\": \"USA-states\", \"lon\": [-73.9757, -73.9857], \"lat\": [40.75, 40.7397], \"mode\": \"lines\", \"line\": {\"width\": 1, \"color\": \"rgb(117, 174, 255)\"}}, {\"type\": \"scattergeo\", \"locationmode\": \"USA-states\", \"lon\": [-73.9857, -74.42], \"lat\": [40.7397, 40.779], \"mode\": \"lines\", \"line\": {\"width\": 1, \"color\": \"rgb(117, 174, 255)\"}}, {\"type\": \"scattergeo\", \"locationmode\": \"USA-states\", \"lon\": [-74.42, -74.0007], \"lat\": [40.779, 40.7273], \"mode\": \"lines\", \"line\": {\"width\": 1, \"color\": \"rgb(117, 174, 255)\"}}, {\"type\": \"scattergeo\", \"locationmode\": \"USA-states\", \"lon\": [-74.0007, -73.8624], \"lat\": [40.7273, 40.7684], \"mode\": \"lines\", \"line\": {\"width\": 1, \"color\": \"rgb(117, 174, 255)\"}}, {\"type\": \"scattergeo\", \"locationmode\": \"USA-states\", \"lon\": [-73.8624, -73.9954], \"lat\": [40.7684, 40.7393], \"mode\": \"lines\", \"line\": {\"width\": 1, \"color\": \"rgb(117, 174, 255)\"}}, {\"type\": \"scattergeo\", \"locationmode\": \"USA-states\", \"lon\": [-73.9954, -74.0078], \"lat\": [40.7393, 40.7382], \"mode\": \"lines\", \"line\": {\"width\": 1, \"color\": \"rgb(117, 174, 255)\"}}, {\"type\": \"scattergeo\", \"locationmode\": \"USA-states\", \"lon\": [-74.0078, -74.0024], \"lat\": [40.7382, 40.7187], \"mode\": \"lines\", \"line\": {\"width\": 1, \"color\": \"rgb(117, 174, 255)\"}}, {\"type\": \"scattergeo\", \"locationmode\": \"USA-states\", \"lon\": [-74.0024, -73.9752], \"lat\": [40.7187, 40.7618], \"mode\": \"lines\", \"line\": {\"width\": 1, \"color\": \"rgb(117, 174, 255)\"}}, {\"type\": \"scattergeo\", \"locationmode\": \"USA-states\", \"lon\": [-73.9752, -73.9538], \"lat\": [40.7618, 40.7851], \"mode\": \"lines\", \"line\": {\"width\": 1, \"color\": \"rgb(117, 174, 255)\"}}, {\"type\": \"scattergeo\", \"locationmode\": \"USA-states\", \"lon\": [-73.9538, -73.9538], \"lat\": [40.7851, 40.7851], \"mode\": \"lines\", \"line\": {\"width\": 1, \"color\": \"rgb(117, 174, 255)\"}}, {\"type\": \"scattergeo\", \"locationmode\": \"USA-states\", \"lon\": [-73.9538, -73.985], \"lat\": [40.7851, 40.742], \"mode\": \"lines\", \"line\": {\"width\": 1, \"color\": \"rgb(117, 174, 255)\"}}, {\"type\": \"scattergeo\", \"locationmode\": \"USA-states\", \"lon\": [-73.985, -73.987], \"lat\": [40.742, 40.7458], \"mode\": \"lines\", \"line\": {\"width\": 1, \"color\": \"rgb(117, 174, 255)\"}}, {\"type\": \"scattergeo\", \"locationmode\": \"USA-states\", \"lon\": [-73.987, -73.9589], \"lat\": [40.7458, 40.7699], \"mode\": \"lines\", \"line\": {\"width\": 1, \"color\": \"rgb(117, 174, 255)\"}}, {\"type\": \"scattergeo\", \"locationmode\": \"USA-states\", \"lon\": [-73.9589, -73.9839], \"lat\": [40.7699, 40.76], \"mode\": \"lines\", \"line\": {\"width\": 1, \"color\": \"rgb(117, 174, 255)\"}}, {\"type\": \"scattergeo\", \"locationmode\": \"USA-states\", \"lon\": [-73.9839, -74.0761], \"lat\": [40.76, 40.9155], \"mode\": \"lines\", \"line\": {\"width\": 1, \"color\": \"rgb(117, 174, 255)\"}}, {\"type\": \"scattergeo\", \"locationmode\": \"USA-states\", \"lon\": [-74.0761, -73.9739], \"lat\": [40.9155, 40.7516], \"mode\": \"lines\", \"line\": {\"width\": 1, \"color\": \"rgb(117, 174, 255)\"}}, {\"type\": \"scattergeo\", \"locationmode\": \"USA-states\", \"lon\": [-73.9739, -73.8733], \"lat\": [40.7516, 40.774], \"mode\": \"lines\", \"line\": {\"width\": 1, \"color\": \"rgb(117, 174, 255)\"}}, {\"type\": \"scattergeo\", \"locationmode\": \"USA-states\", \"lon\": [-73.8733, -73.9843], \"lat\": [40.774, 40.7565], \"mode\": \"lines\", \"line\": {\"width\": 1, \"color\": \"rgb(117, 174, 255)\"}}, {\"type\": \"scattergeo\", \"locationmode\": \"USA-states\", \"lon\": [-73.9843, -74.0123], \"lat\": [40.7565, 40.7195], \"mode\": \"lines\", \"line\": {\"width\": 1, \"color\": \"rgb(117, 174, 255)\"}}, {\"type\": \"scattergeo\", \"locationmode\": \"USA-states\", \"lon\": [-74.0123, -73.9855], \"lat\": [40.7195, 40.7529], \"mode\": \"lines\", \"line\": {\"width\": 1, \"color\": \"rgb(117, 174, 255)\"}}, {\"type\": \"scattergeo\", \"locationmode\": \"USA-states\", \"lon\": [-73.9855, -73.9761], \"lat\": [40.7529, 40.7501], \"mode\": \"lines\", \"line\": {\"width\": 1, \"color\": \"rgb(117, 174, 255)\"}}, {\"type\": \"scattergeo\", \"locationmode\": \"USA-states\", \"lon\": [-73.9761, -73.9917], \"lat\": [40.7501, 40.7197], \"mode\": \"lines\", \"line\": {\"width\": 1, \"color\": \"rgb(117, 174, 255)\"}}, {\"type\": \"scattergeo\", \"locationmode\": \"USA-states\", \"lon\": [-73.9917, -73.9729], \"lat\": [40.7197, 40.7619], \"mode\": \"lines\", \"line\": {\"width\": 1, \"color\": \"rgb(117, 174, 255)\"}}, {\"type\": \"scattergeo\", \"locationmode\": \"USA-states\", \"lon\": [-73.9729, -73.95100000000001], \"lat\": [40.7619, 40.783], \"mode\": \"lines\", \"line\": {\"width\": 1, \"color\": \"rgb(117, 174, 255)\"}}, {\"type\": \"scattergeo\", \"locationmode\": \"USA-states\", \"lon\": [-73.95100000000001, -73.9877], \"lat\": [40.783, 40.7319], \"mode\": \"lines\", \"line\": {\"width\": 1, \"color\": \"rgb(117, 174, 255)\"}}, {\"type\": \"scattergeo\", \"locationmode\": \"USA-states\", \"lon\": [-73.9877, -73.9926], \"lat\": [40.7319, 40.7538], \"mode\": \"lines\", \"line\": {\"width\": 1, \"color\": \"rgb(117, 174, 255)\"}}, {\"type\": \"scattergeo\", \"locationmode\": \"USA-states\", \"lon\": [-73.9926, -74.0065], \"lat\": [40.7538, 40.7189], \"mode\": \"lines\", \"line\": {\"width\": 1, \"color\": \"rgb(117, 174, 255)\"}}, {\"type\": \"scattergeo\", \"locationmode\": \"USA-states\", \"lon\": [-74.0065, -73.988], \"lat\": [40.7189, 40.7455], \"mode\": \"lines\", \"line\": {\"width\": 1, \"color\": \"rgb(117, 174, 255)\"}}, {\"type\": \"scattergeo\", \"locationmode\": \"USA-states\", \"lon\": [-73.988, -74.0248], \"lat\": [40.7455, 40.753], \"mode\": \"lines\", \"line\": {\"width\": 1, \"color\": \"rgb(117, 174, 255)\"}}, {\"type\": \"scattergeo\", \"locationmode\": \"USA-states\", \"lon\": [-74.0248, -74.0248], \"lat\": [40.753, 40.753], \"mode\": \"lines\", \"line\": {\"width\": 1, \"color\": \"rgb(117, 174, 255)\"}}, {\"type\": \"scattergeo\", \"locationmode\": \"USA-states\", \"lon\": [-74.0248, -73.9686], \"lat\": [40.753, 40.7646], \"mode\": \"lines\", \"line\": {\"width\": 1, \"color\": \"rgb(117, 174, 255)\"}}, {\"type\": \"scattergeo\", \"locationmode\": \"USA-states\", \"lon\": [-73.9686, -73.9829], \"lat\": [40.7646, 40.7692], \"mode\": \"lines\", \"line\": {\"width\": 1, \"color\": \"rgb(117, 174, 255)\"}}, {\"type\": \"scattergeo\", \"locationmode\": \"USA-states\", \"lon\": [-73.9829, -74.0088], \"lat\": [40.7692, 40.7275], \"mode\": \"lines\", \"line\": {\"width\": 1, \"color\": \"rgb(117, 174, 255)\"}}, {\"type\": \"scattergeo\", \"locationmode\": \"USA-states\", \"lon\": [-74.0088, -73.9923], \"lat\": [40.7275, 40.7494], \"mode\": \"lines\", \"line\": {\"width\": 1, \"color\": \"rgb(117, 174, 255)\"}}, {\"type\": \"scattergeo\", \"locationmode\": \"USA-states\", \"lon\": [-73.9923, -73.9872], \"lat\": [40.7494, 40.6957], \"mode\": \"lines\", \"line\": {\"width\": 1, \"color\": \"rgb(117, 174, 255)\"}}, {\"type\": \"scattergeo\", \"locationmode\": \"USA-states\", \"lon\": [-73.9872, -74.1784], \"lat\": [40.6957, 40.695], \"mode\": \"lines\", \"line\": {\"width\": 1, \"color\": \"rgb(117, 174, 255)\"}}, {\"type\": \"scattergeo\", \"locationmode\": \"USA-states\", \"lon\": [-74.1784, -73.8728], \"lat\": [40.695, 40.7739], \"mode\": \"lines\", \"line\": {\"width\": 1, \"color\": \"rgb(117, 174, 255)\"}}, {\"type\": \"scattergeo\", \"locationmode\": \"USA-states\", \"lon\": [-73.8728, -73.4202], \"lat\": [40.7739, 40.7757], \"mode\": \"lines\", \"line\": {\"width\": 1, \"color\": \"rgb(117, 174, 255)\"}}, {\"type\": \"scattergeo\", \"locationmode\": \"USA-states\", \"lon\": [-73.4202, -73.9531], \"lat\": [40.7757, 40.7651], \"mode\": \"lines\", \"line\": {\"width\": 1, \"color\": \"rgb(117, 174, 255)\"}}, {\"type\": \"scattergeo\", \"locationmode\": \"USA-states\", \"lon\": [-73.9531, -73.9251], \"lat\": [40.7651, 40.7663], \"mode\": \"lines\", \"line\": {\"width\": 1, \"color\": \"rgb(117, 174, 255)\"}}, {\"type\": \"scattergeo\", \"locationmode\": \"USA-states\", \"lon\": [-73.9251, -73.9966], \"lat\": [40.7663, 40.7177], \"mode\": \"lines\", \"line\": {\"width\": 1, \"color\": \"rgb(117, 174, 255)\"}}, {\"type\": \"scattergeo\", \"locationmode\": \"USA-states\", \"lon\": [-73.9966, -73.961], \"lat\": [40.7177, 40.78], \"mode\": \"lines\", \"line\": {\"width\": 1, \"color\": \"rgb(117, 174, 255)\"}}, {\"type\": \"scattergeo\", \"locationmode\": \"USA-states\", \"lon\": [-73.961, -73.8727], \"lat\": [40.78, 40.7741], \"mode\": \"lines\", \"line\": {\"width\": 1, \"color\": \"rgb(117, 174, 255)\"}}, {\"type\": \"scattergeo\", \"locationmode\": \"USA-states\", \"lon\": [-73.8727, -73.9854], \"lat\": [40.7741, 40.7385], \"mode\": \"lines\", \"line\": {\"width\": 1, \"color\": \"rgb(117, 174, 255)\"}}, {\"type\": \"scattergeo\", \"locationmode\": \"USA-states\", \"lon\": [-73.9854, -73.8624], \"lat\": [40.7385, 40.7685], \"mode\": \"lines\", \"line\": {\"width\": 1, \"color\": \"rgb(117, 174, 255)\"}}, {\"type\": \"scattergeo\", \"locationmode\": \"USA-states\", \"lon\": [-73.8624, -73.9873], \"lat\": [40.7685, 40.6926], \"mode\": \"lines\", \"line\": {\"width\": 1, \"color\": \"rgb(117, 174, 255)\"}}, {\"type\": \"scattergeo\", \"locationmode\": \"USA-states\", \"lon\": [-73.9873, -73.9963], \"lat\": [40.6926, 40.7346], \"mode\": \"lines\", \"line\": {\"width\": 1, \"color\": \"rgb(117, 174, 255)\"}}, {\"type\": \"scattergeo\", \"locationmode\": \"USA-states\", \"lon\": [-73.9963, -73.9441], \"lat\": [40.7346, 40.775999999999996], \"mode\": \"lines\", \"line\": {\"width\": 1, \"color\": \"rgb(117, 174, 255)\"}}, {\"type\": \"scattergeo\", \"locationmode\": \"USA-states\", \"lon\": [-73.9441, -74.0005], \"lat\": [40.775999999999996, 40.7211], \"mode\": \"lines\", \"line\": {\"width\": 1, \"color\": \"rgb(117, 174, 255)\"}}, {\"type\": \"scattergeo\", \"locationmode\": \"USA-states\", \"lon\": [-74.0005, -74.0126], \"lat\": [40.7211, 40.7026], \"mode\": \"lines\", \"line\": {\"width\": 1, \"color\": \"rgb(117, 174, 255)\"}}, {\"type\": \"scattergeo\", \"locationmode\": \"USA-states\", \"lon\": [-74.0126, -73.9523], \"lat\": [40.7026, 40.768], \"mode\": \"lines\", \"line\": {\"width\": 1, \"color\": \"rgb(117, 174, 255)\"}}, {\"type\": \"scattergeo\", \"locationmode\": \"USA-states\", \"lon\": [-73.9523, -74.0061], \"lat\": [40.768, 40.7485], \"mode\": \"lines\", \"line\": {\"width\": 1, \"color\": \"rgb(117, 174, 255)\"}}, {\"type\": \"scattergeo\", \"locationmode\": \"USA-states\", \"lon\": [-74.0061, -73.9717], \"lat\": [40.7485, 40.7568], \"mode\": \"lines\", \"line\": {\"width\": 1, \"color\": \"rgb(117, 174, 255)\"}}, {\"type\": \"scattergeo\", \"locationmode\": \"USA-states\", \"lon\": [-73.9717, -73.9838], \"lat\": [40.7568, 40.7617], \"mode\": \"lines\", \"line\": {\"width\": 1, \"color\": \"rgb(117, 174, 255)\"}}, {\"type\": \"scattergeo\", \"locationmode\": \"USA-states\", \"lon\": [-73.9838, -73.8728], \"lat\": [40.7617, 40.774], \"mode\": \"lines\", \"line\": {\"width\": 1, \"color\": \"rgb(117, 174, 255)\"}}, {\"type\": \"scattergeo\", \"locationmode\": \"USA-states\", \"lon\": [-73.8728, -73.9966], \"lat\": [40.774, 40.6919], \"mode\": \"lines\", \"line\": {\"width\": 1, \"color\": \"rgb(117, 174, 255)\"}}, {\"type\": \"scattergeo\", \"locationmode\": \"USA-states\", \"lon\": [-73.9966, -73.9905], \"lat\": [40.6919, 40.7754], \"mode\": \"lines\", \"line\": {\"width\": 1, \"color\": \"rgb(117, 174, 255)\"}}, {\"type\": \"scattergeo\", \"locationmode\": \"USA-states\", \"lon\": [-73.9905, -73.993], \"lat\": [40.7754, 40.7515], \"mode\": \"lines\", \"line\": {\"width\": 1, \"color\": \"rgb(117, 174, 255)\"}}, {\"type\": \"scattergeo\", \"locationmode\": \"USA-states\", \"lon\": [-73.993, -73.9655], \"lat\": [40.7515, 40.7719], \"mode\": \"lines\", \"line\": {\"width\": 1, \"color\": \"rgb(117, 174, 255)\"}}, {\"type\": \"scattergeo\", \"locationmode\": \"USA-states\", \"lon\": [-73.9655, -73.8724], \"lat\": [40.7719, 40.7739], \"mode\": \"lines\", \"line\": {\"width\": 1, \"color\": \"rgb(117, 174, 255)\"}}, {\"type\": \"scattergeo\", \"locationmode\": \"USA-states\", \"lon\": [-73.8724, -74.1775], \"lat\": [40.7739, 40.6946], \"mode\": \"lines\", \"line\": {\"width\": 1, \"color\": \"rgb(117, 174, 255)\"}}, {\"type\": \"scattergeo\", \"locationmode\": \"USA-states\", \"lon\": [-74.1775, -73.9998], \"lat\": [40.6946, 40.7331], \"mode\": \"lines\", \"line\": {\"width\": 1, \"color\": \"rgb(117, 174, 255)\"}}, {\"type\": \"scattergeo\", \"locationmode\": \"USA-states\", \"lon\": [-73.9998, -73.8856], \"lat\": [40.7331, 40.7732], \"mode\": \"lines\", \"line\": {\"width\": 1, \"color\": \"rgb(117, 174, 255)\"}}, {\"type\": \"scattergeo\", \"locationmode\": \"USA-states\", \"lon\": [-73.8856, -73.9894], \"lat\": [40.7732, 40.7417], \"mode\": \"lines\", \"line\": {\"width\": 1, \"color\": \"rgb(117, 174, 255)\"}}, {\"type\": \"scattergeo\", \"locationmode\": \"USA-states\", \"lon\": [-73.9894, -74.0018], \"lat\": [40.7417, 40.7325], \"mode\": \"lines\", \"line\": {\"width\": 1, \"color\": \"rgb(117, 174, 255)\"}}, {\"type\": \"scattergeo\", \"locationmode\": \"USA-states\", \"lon\": [-74.0018, -73.9685], \"lat\": [40.7325, 40.764], \"mode\": \"lines\", \"line\": {\"width\": 1, \"color\": \"rgb(117, 174, 255)\"}}, {\"type\": \"scattergeo\", \"locationmode\": \"USA-states\", \"lon\": [-73.9685, -73.9723], \"lat\": [40.764, 40.7577], \"mode\": \"lines\", \"line\": {\"width\": 1, \"color\": \"rgb(117, 174, 255)\"}}, {\"type\": \"scattergeo\", \"locationmode\": \"USA-states\", \"lon\": [-73.9723, -74.1783], \"lat\": [40.7577, 40.6953], \"mode\": \"lines\", \"line\": {\"width\": 1, \"color\": \"rgb(117, 174, 255)\"}}, {\"type\": \"scattergeo\", \"locationmode\": \"USA-states\", \"lon\": [-74.1783, -73.9841], \"lat\": [40.6953, 40.7572], \"mode\": \"lines\", \"line\": {\"width\": 1, \"color\": \"rgb(117, 174, 255)\"}}, {\"type\": \"scattergeo\", \"locationmode\": \"USA-states\", \"lon\": [-73.9841, -74.3923], \"lat\": [40.7572, 40.8056], \"mode\": \"lines\", \"line\": {\"width\": 1, \"color\": \"rgb(117, 174, 255)\"}}, {\"type\": \"scattergeo\", \"locationmode\": \"USA-states\", \"lon\": [-74.3923, -73.9736], \"lat\": [40.8056, 40.7595], \"mode\": \"lines\", \"line\": {\"width\": 1, \"color\": \"rgb(117, 174, 255)\"}}, {\"type\": \"scattergeo\", \"locationmode\": \"USA-states\", \"lon\": [-73.9736, -73.9556], \"lat\": [40.7595, 40.7853], \"mode\": \"lines\", \"line\": {\"width\": 1, \"color\": \"rgb(117, 174, 255)\"}}, {\"type\": \"scattergeo\", \"locationmode\": \"USA-states\", \"lon\": [-73.9556, -73.9556], \"lat\": [40.7853, 40.7853], \"mode\": \"lines\", \"line\": {\"width\": 1, \"color\": \"rgb(117, 174, 255)\"}}, {\"type\": \"scattergeo\", \"locationmode\": \"USA-states\", \"lon\": [-73.9556, -74.0007], \"lat\": [40.7853, 40.7244], \"mode\": \"lines\", \"line\": {\"width\": 1, \"color\": \"rgb(117, 174, 255)\"}}, {\"type\": \"scattergeo\", \"locationmode\": \"USA-states\", \"lon\": [-74.0007, -74.0006], \"lat\": [40.7244, 40.7196], \"mode\": \"lines\", \"line\": {\"width\": 1, \"color\": \"rgb(117, 174, 255)\"}}, {\"type\": \"scattergeo\", \"locationmode\": \"USA-states\", \"lon\": [-74.0006, -73.9812], \"lat\": [40.7196, 40.7691], \"mode\": \"lines\", \"line\": {\"width\": 1, \"color\": \"rgb(117, 174, 255)\"}}, {\"type\": \"scattergeo\", \"locationmode\": \"USA-states\", \"lon\": [-73.9812, -73.9909], \"lat\": [40.7691, 40.7516], \"mode\": \"lines\", \"line\": {\"width\": 1, \"color\": \"rgb(117, 174, 255)\"}}, {\"type\": \"scattergeo\", \"locationmode\": \"USA-states\", \"lon\": [-73.9909, -73.9657], \"lat\": [40.7516, 40.7677], \"mode\": \"lines\", \"line\": {\"width\": 1, \"color\": \"rgb(117, 174, 255)\"}}, {\"type\": \"scattergeo\", \"locationmode\": \"USA-states\", \"lon\": [-73.9657, -73.96600000000001], \"lat\": [40.7677, 40.7546], \"mode\": \"lines\", \"line\": {\"width\": 1, \"color\": \"rgb(117, 174, 255)\"}}, {\"type\": \"scattergeo\", \"locationmode\": \"USA-states\", \"lon\": [-73.96600000000001, -73.9893], \"lat\": [40.7546, 40.7578], \"mode\": \"lines\", \"line\": {\"width\": 1, \"color\": \"rgb(117, 174, 255)\"}}, {\"type\": \"scattergeo\", \"locationmode\": \"USA-states\", \"lon\": [-73.9893, -73.9791], \"lat\": [40.7578, 40.7619], \"mode\": \"lines\", \"line\": {\"width\": 1, \"color\": \"rgb(117, 174, 255)\"}}, {\"type\": \"scattergeo\", \"locationmode\": \"USA-states\", \"lon\": [-73.9791, -73.9867], \"lat\": [40.7619, 40.7397], \"mode\": \"lines\", \"line\": {\"width\": 1, \"color\": \"rgb(117, 174, 255)\"}}, {\"type\": \"scattergeo\", \"locationmode\": \"USA-states\", \"lon\": [-73.9867, -74.001], \"lat\": [40.7397, 40.7275], \"mode\": \"lines\", \"line\": {\"width\": 1, \"color\": \"rgb(117, 174, 255)\"}}, {\"type\": \"scattergeo\", \"locationmode\": \"USA-states\", \"lon\": [-74.001, -73.9658], \"lat\": [40.7275, 40.7694], \"mode\": \"lines\", \"line\": {\"width\": 1, \"color\": \"rgb(117, 174, 255)\"}}, {\"type\": \"scattergeo\", \"locationmode\": \"USA-states\", \"lon\": [-73.9658, -73.9693], \"lat\": [40.7694, 40.8005], \"mode\": \"lines\", \"line\": {\"width\": 1, \"color\": \"rgb(117, 174, 255)\"}}, {\"type\": \"scattergeo\", \"locationmode\": \"USA-states\", \"lon\": [-73.9693, -73.7819], \"lat\": [40.8005, 40.645], \"mode\": \"lines\", \"line\": {\"width\": 1, \"color\": \"rgb(117, 174, 255)\"}}, {\"type\": \"scattergeo\", \"locationmode\": \"USA-states\", \"lon\": [-73.7819, -74.0736], \"lat\": [40.645, 40.9651], \"mode\": \"lines\", \"line\": {\"width\": 1, \"color\": \"rgb(117, 174, 255)\"}}, {\"type\": \"scattergeo\", \"locationmode\": \"USA-states\", \"lon\": [-74.0736, -73.9662], \"lat\": [40.9651, 40.7705], \"mode\": \"lines\", \"line\": {\"width\": 1, \"color\": \"rgb(117, 174, 255)\"}}, {\"type\": \"scattergeo\", \"locationmode\": \"USA-states\", \"lon\": [-73.9662, -73.9768], \"lat\": [40.7705, 40.6833], \"mode\": \"lines\", \"line\": {\"width\": 1, \"color\": \"rgb(117, 174, 255)\"}}, {\"type\": \"scattergeo\", \"locationmode\": \"USA-states\", \"lon\": [-73.9768, -74.0097], \"lat\": [40.6833, 40.7797], \"mode\": \"lines\", \"line\": {\"width\": 1, \"color\": \"rgb(117, 174, 255)\"}}, {\"type\": \"scattergeo\", \"locationmode\": \"USA-states\", \"lon\": [-74.0097, -73.9915], \"lat\": [40.7797, 40.7598], \"mode\": \"lines\", \"line\": {\"width\": 1, \"color\": \"rgb(117, 174, 255)\"}}, {\"type\": \"scattergeo\", \"locationmode\": \"USA-states\", \"lon\": [-73.9915, -73.7826], \"lat\": [40.7598, 40.6448], \"mode\": \"lines\", \"line\": {\"width\": 1, \"color\": \"rgb(117, 174, 255)\"}}, {\"type\": \"scattergeo\", \"locationmode\": \"USA-states\", \"lon\": [-73.7826, -73.9869], \"lat\": [40.6448, 40.7407], \"mode\": \"lines\", \"line\": {\"width\": 1, \"color\": \"rgb(117, 174, 255)\"}}, {\"type\": \"scattergeo\", \"locationmode\": \"USA-states\", \"lon\": [-73.9869, -73.9628], \"lat\": [40.7407, 40.7754], \"mode\": \"lines\", \"line\": {\"width\": 1, \"color\": \"rgb(117, 174, 255)\"}}, {\"type\": \"scattergeo\", \"locationmode\": \"USA-states\", \"lon\": [-73.9628, -73.9847], \"lat\": [40.7754, 40.7104], \"mode\": \"lines\", \"line\": {\"width\": 1, \"color\": \"rgb(117, 174, 255)\"}}, {\"type\": \"scattergeo\", \"locationmode\": \"USA-states\", \"lon\": [-73.9847, -74.0051], \"lat\": [40.7104, 40.7198], \"mode\": \"lines\", \"line\": {\"width\": 1, \"color\": \"rgb(117, 174, 255)\"}}, {\"type\": \"scattergeo\", \"locationmode\": \"USA-states\", \"lon\": [-74.0051, -73.9846], \"lat\": [40.7198, 40.7103], \"mode\": \"lines\", \"line\": {\"width\": 1, \"color\": \"rgb(117, 174, 255)\"}}, {\"type\": \"scattergeo\", \"locationmode\": \"USA-states\", \"lon\": [-73.9846, -74.1834], \"lat\": [40.7103, 40.6931], \"mode\": \"lines\", \"line\": {\"width\": 1, \"color\": \"rgb(117, 174, 255)\"}}, {\"type\": \"scattergeo\", \"locationmode\": \"USA-states\", \"lon\": [-74.1834, -74.0062], \"lat\": [40.6931, 40.7394], \"mode\": \"lines\", \"line\": {\"width\": 1, \"color\": \"rgb(117, 174, 255)\"}}, {\"type\": \"scattergeo\", \"locationmode\": \"USA-states\", \"lon\": [-74.0062, -73.9706], \"lat\": [40.7394, 40.7647], \"mode\": \"lines\", \"line\": {\"width\": 1, \"color\": \"rgb(117, 174, 255)\"}}, {\"type\": \"scattergeo\", \"locationmode\": \"USA-states\", \"lon\": [-73.9706, -73.9632], \"lat\": [40.7647, 40.7642], \"mode\": \"lines\", \"line\": {\"width\": 1, \"color\": \"rgb(117, 174, 255)\"}}, {\"type\": \"scattergeo\", \"locationmode\": \"USA-states\", \"lon\": [-73.9632, -74.1787], \"lat\": [40.7642, 40.6951], \"mode\": \"lines\", \"line\": {\"width\": 1, \"color\": \"rgb(117, 174, 255)\"}}, {\"type\": \"scattergeo\", \"locationmode\": \"USA-states\", \"lon\": [-74.1787, -73.9697], \"lat\": [40.6951, 40.7585], \"mode\": \"lines\", \"line\": {\"width\": 1, \"color\": \"rgb(117, 174, 255)\"}}, {\"type\": \"scattergeo\", \"locationmode\": \"USA-states\", \"lon\": [-73.9697, -73.9945], \"lat\": [40.7585, 40.7504], \"mode\": \"lines\", \"line\": {\"width\": 1, \"color\": \"rgb(117, 174, 255)\"}}, {\"type\": \"scattergeo\", \"locationmode\": \"USA-states\", \"lon\": [-73.9945, -73.953], \"lat\": [40.7504, 40.7682], \"mode\": \"lines\", \"line\": {\"width\": 1, \"color\": \"rgb(117, 174, 255)\"}}, {\"type\": \"scattergeo\", \"locationmode\": \"USA-states\", \"lon\": [-73.953, -74.0022], \"lat\": [40.7682, 40.7247], \"mode\": \"lines\", \"line\": {\"width\": 1, \"color\": \"rgb(117, 174, 255)\"}}, {\"type\": \"scattergeo\", \"locationmode\": \"USA-states\", \"lon\": [-74.0022, -74.0025], \"lat\": [40.7247, 40.7145], \"mode\": \"lines\", \"line\": {\"width\": 1, \"color\": \"rgb(117, 174, 255)\"}}, {\"type\": \"scattergeo\", \"locationmode\": \"USA-states\", \"lon\": [-74.0025, -73.9745], \"lat\": [40.7145, 40.7593], \"mode\": \"lines\", \"line\": {\"width\": 1, \"color\": \"rgb(117, 174, 255)\"}}, {\"type\": \"scattergeo\", \"locationmode\": \"USA-states\", \"lon\": [-73.9745, -74.0071], \"lat\": [40.7593, 40.7284], \"mode\": \"lines\", \"line\": {\"width\": 1, \"color\": \"rgb(117, 174, 255)\"}}, {\"type\": \"scattergeo\", \"locationmode\": \"USA-states\", \"lon\": [-74.0071, -74.0093], \"lat\": [40.7284, 40.7079], \"mode\": \"lines\", \"line\": {\"width\": 1, \"color\": \"rgb(117, 174, 255)\"}}, {\"type\": \"scattergeo\", \"locationmode\": \"USA-states\", \"lon\": [-74.0093, -73.9631], \"lat\": [40.7079, 40.7692], \"mode\": \"lines\", \"line\": {\"width\": 1, \"color\": \"rgb(117, 174, 255)\"}}, {\"type\": \"scattergeo\", \"locationmode\": \"USA-states\", \"lon\": [-73.9631, -73.953], \"lat\": [40.7692, 40.7644], \"mode\": \"lines\", \"line\": {\"width\": 1, \"color\": \"rgb(117, 174, 255)\"}}, {\"type\": \"scattergeo\", \"locationmode\": \"USA-states\", \"lon\": [-73.953, -73.9795], \"lat\": [40.7644, 40.7553], \"mode\": \"lines\", \"line\": {\"width\": 1, \"color\": \"rgb(117, 174, 255)\"}}, {\"type\": \"scattergeo\", \"locationmode\": \"USA-states\", \"lon\": [-73.9795, -73.9622], \"lat\": [40.7553, 40.7551], \"mode\": \"lines\", \"line\": {\"width\": 1, \"color\": \"rgb(117, 174, 255)\"}}, {\"type\": \"scattergeo\", \"locationmode\": \"USA-states\", \"lon\": [-73.9622, -73.8727], \"lat\": [40.7551, 40.7741], \"mode\": \"lines\", \"line\": {\"width\": 1, \"color\": \"rgb(117, 174, 255)\"}}, {\"type\": \"scattergeo\", \"locationmode\": \"USA-states\", \"lon\": [-73.8727, -73.9757], \"lat\": [40.7741, 40.7545], \"mode\": \"lines\", \"line\": {\"width\": 1, \"color\": \"rgb(117, 174, 255)\"}}, {\"type\": \"scattergeo\", \"locationmode\": \"USA-states\", \"lon\": [-73.9757, -73.9755], \"lat\": [40.7545, 40.7355], \"mode\": \"lines\", \"line\": {\"width\": 1, \"color\": \"rgb(117, 174, 255)\"}}, {\"type\": \"scattergeo\", \"locationmode\": \"USA-states\", \"lon\": [-73.9755, -73.866], \"lat\": [40.7355, 40.771], \"mode\": \"lines\", \"line\": {\"width\": 1, \"color\": \"rgb(117, 174, 255)\"}}, {\"type\": \"scattergeo\", \"locationmode\": \"USA-states\", \"lon\": [-73.866, -73.9558], \"lat\": [40.771, 40.7755], \"mode\": \"lines\", \"line\": {\"width\": 1, \"color\": \"rgb(117, 174, 255)\"}}, {\"type\": \"scattergeo\", \"locationmode\": \"USA-states\", \"lon\": [-73.9558, -73.9869], \"lat\": [40.7755, 40.7283], \"mode\": \"lines\", \"line\": {\"width\": 1, \"color\": \"rgb(117, 174, 255)\"}}, {\"type\": \"scattergeo\", \"locationmode\": \"USA-states\", \"lon\": [-73.9869, -73.9902], \"lat\": [40.7283, 40.7577], \"mode\": \"lines\", \"line\": {\"width\": 1, \"color\": \"rgb(117, 174, 255)\"}}, {\"type\": \"scattergeo\", \"locationmode\": \"USA-states\", \"lon\": [-73.9902, -73.9825], \"lat\": [40.7577, 40.764], \"mode\": \"lines\", \"line\": {\"width\": 1, \"color\": \"rgb(117, 174, 255)\"}}, {\"type\": \"scattergeo\", \"locationmode\": \"USA-states\", \"lon\": [-73.9825, -73.9806], \"lat\": [40.764, 40.7644], \"mode\": \"lines\", \"line\": {\"width\": 1, \"color\": \"rgb(117, 174, 255)\"}}, {\"type\": \"scattergeo\", \"locationmode\": \"USA-states\", \"lon\": [-73.9806, -73.9536], \"lat\": [40.7644, 40.8092], \"mode\": \"lines\", \"line\": {\"width\": 1, \"color\": \"rgb(117, 174, 255)\"}}, {\"type\": \"scattergeo\", \"locationmode\": \"USA-states\", \"lon\": [-73.9536, -73.8658], \"lat\": [40.8092, 40.7708], \"mode\": \"lines\", \"line\": {\"width\": 1, \"color\": \"rgb(117, 174, 255)\"}}, {\"type\": \"scattergeo\", \"locationmode\": \"USA-states\", \"lon\": [-73.8658, -73.9716], \"lat\": [40.7708, 40.7556], \"mode\": \"lines\", \"line\": {\"width\": 1, \"color\": \"rgb(117, 174, 255)\"}}, {\"type\": \"scattergeo\", \"locationmode\": \"USA-states\", \"lon\": [-73.9716, -73.9739], \"lat\": [40.7556, 40.7578], \"mode\": \"lines\", \"line\": {\"width\": 1, \"color\": \"rgb(117, 174, 255)\"}}, {\"type\": \"scattergeo\", \"locationmode\": \"USA-states\", \"lon\": [-73.9739, -73.97399999999999], \"lat\": [40.7578, 40.7557], \"mode\": \"lines\", \"line\": {\"width\": 1, \"color\": \"rgb(117, 174, 255)\"}}, {\"type\": \"scattergeo\", \"locationmode\": \"USA-states\", \"lon\": [-73.97399999999999, -73.9849], \"lat\": [40.7557, 40.7101], \"mode\": \"lines\", \"line\": {\"width\": 1, \"color\": \"rgb(117, 174, 255)\"}}, {\"type\": \"scattergeo\", \"locationmode\": \"USA-states\", \"lon\": [-73.9849, -73.96], \"lat\": [40.7101, 40.7798], \"mode\": \"lines\", \"line\": {\"width\": 1, \"color\": \"rgb(117, 174, 255)\"}}, {\"type\": \"scattergeo\", \"locationmode\": \"USA-states\", \"lon\": [-73.96, -73.96], \"lat\": [40.7798, 40.7798], \"mode\": \"lines\", \"line\": {\"width\": 1, \"color\": \"rgb(117, 174, 255)\"}}, {\"type\": \"scattergeo\", \"locationmode\": \"USA-states\", \"lon\": [-73.96, -73.9735], \"lat\": [40.7798, 40.8247], \"mode\": \"lines\", \"line\": {\"width\": 1, \"color\": \"rgb(117, 174, 255)\"}}, {\"type\": \"scattergeo\", \"locationmode\": \"USA-states\", \"lon\": [-73.9735, -74.0067], \"lat\": [40.8247, 40.7416], \"mode\": \"lines\", \"line\": {\"width\": 1, \"color\": \"rgb(117, 174, 255)\"}}, {\"type\": \"scattergeo\", \"locationmode\": \"USA-states\", \"lon\": [-74.0067, -73.9744], \"lat\": [40.7416, 40.7624], \"mode\": \"lines\", \"line\": {\"width\": 1, \"color\": \"rgb(117, 174, 255)\"}}, {\"type\": \"scattergeo\", \"locationmode\": \"USA-states\", \"lon\": [-73.9744, -73.9727], \"lat\": [40.7624, 40.7644], \"mode\": \"lines\", \"line\": {\"width\": 1, \"color\": \"rgb(117, 174, 255)\"}}, {\"type\": \"scattergeo\", \"locationmode\": \"USA-states\", \"lon\": [-73.9727, -73.977], \"lat\": [40.7644, 40.7641], \"mode\": \"lines\", \"line\": {\"width\": 1, \"color\": \"rgb(117, 174, 255)\"}}, {\"type\": \"scattergeo\", \"locationmode\": \"USA-states\", \"lon\": [-73.977, -73.985], \"lat\": [40.7641, 40.745], \"mode\": \"lines\", \"line\": {\"width\": 1, \"color\": \"rgb(117, 174, 255)\"}}, {\"type\": \"scattergeo\", \"locationmode\": \"USA-states\", \"lon\": [-73.985, -73.973], \"lat\": [40.745, 40.7617], \"mode\": \"lines\", \"line\": {\"width\": 1, \"color\": \"rgb(117, 174, 255)\"}}, {\"type\": \"scattergeo\", \"locationmode\": \"USA-states\", \"lon\": [-73.973, -73.9735], \"lat\": [40.7617, 40.7636], \"mode\": \"lines\", \"line\": {\"width\": 1, \"color\": \"rgb(117, 174, 255)\"}}, {\"type\": \"scattergeo\", \"locationmode\": \"USA-states\", \"lon\": [-73.9735, -74.0062], \"lat\": [40.7636, 40.7413], \"mode\": \"lines\", \"line\": {\"width\": 1, \"color\": \"rgb(117, 174, 255)\"}}, {\"type\": \"scattergeo\", \"locationmode\": \"USA-states\", \"lon\": [-74.0062, -73.9547], \"lat\": [40.7413, 40.7866], \"mode\": \"lines\", \"line\": {\"width\": 1, \"color\": \"rgb(117, 174, 255)\"}}, {\"type\": \"scattergeo\", \"locationmode\": \"USA-states\", \"lon\": [-73.9547, -73.9466], \"lat\": [40.7866, 40.7824], \"mode\": \"lines\", \"line\": {\"width\": 1, \"color\": \"rgb(117, 174, 255)\"}}, {\"type\": \"scattergeo\", \"locationmode\": \"USA-states\", \"lon\": [-73.9466, -73.9686], \"lat\": [40.7824, 40.7616], \"mode\": \"lines\", \"line\": {\"width\": 1, \"color\": \"rgb(117, 174, 255)\"}}, {\"type\": \"scattergeo\", \"locationmode\": \"USA-states\", \"lon\": [-73.9686, -73.9788], \"lat\": [40.7616, 40.7566], \"mode\": \"lines\", \"line\": {\"width\": 1, \"color\": \"rgb(117, 174, 255)\"}}, {\"type\": \"scattergeo\", \"locationmode\": \"USA-states\", \"lon\": [-73.9788, -74.0131], \"lat\": [40.7566, 40.6339], \"mode\": \"lines\", \"line\": {\"width\": 1, \"color\": \"rgb(117, 174, 255)\"}}, {\"type\": \"scattergeo\", \"locationmode\": \"USA-states\", \"lon\": [-74.0131, -74.0073], \"lat\": [40.6339, 40.7274], \"mode\": \"lines\", \"line\": {\"width\": 1, \"color\": \"rgb(117, 174, 255)\"}}, {\"type\": \"scattergeo\", \"locationmode\": \"USA-states\", \"lon\": [-74.0073, -73.8715], \"lat\": [40.7274, 40.7739], \"mode\": \"lines\", \"line\": {\"width\": 1, \"color\": \"rgb(117, 174, 255)\"}}, {\"type\": \"scattergeo\", \"locationmode\": \"USA-states\", \"lon\": [-73.8715, -73.9875], \"lat\": [40.7739, 40.7671], \"mode\": \"lines\", \"line\": {\"width\": 1, \"color\": \"rgb(117, 174, 255)\"}}, {\"type\": \"scattergeo\", \"locationmode\": \"USA-states\", \"lon\": [-73.9875, -74.1783], \"lat\": [40.7671, 40.6951], \"mode\": \"lines\", \"line\": {\"width\": 1, \"color\": \"rgb(117, 174, 255)\"}}, {\"type\": \"scattergeo\", \"locationmode\": \"USA-states\", \"lon\": [-74.1783, -73.9893], \"lat\": [40.6951, 40.7731], \"mode\": \"lines\", \"line\": {\"width\": 1, \"color\": \"rgb(117, 174, 255)\"}}, {\"type\": \"scattergeo\", \"locationmode\": \"USA-states\", \"lon\": [-73.9893, -73.998], \"lat\": [40.7731, 40.7122], \"mode\": \"lines\", \"line\": {\"width\": 1, \"color\": \"rgb(117, 174, 255)\"}}, {\"type\": \"scattergeo\", \"locationmode\": \"USA-states\", \"lon\": [-73.998, -74.1779], \"lat\": [40.7122, 40.6956], \"mode\": \"lines\", \"line\": {\"width\": 1, \"color\": \"rgb(117, 174, 255)\"}}, {\"type\": \"scattergeo\", \"locationmode\": \"USA-states\", \"lon\": [-74.1779, -73.7895], \"lat\": [40.6956, 40.6433], \"mode\": \"lines\", \"line\": {\"width\": 1, \"color\": \"rgb(117, 174, 255)\"}}, {\"type\": \"scattergeo\", \"locationmode\": \"USA-states\", \"lon\": [-73.7895, -73.9753], \"lat\": [40.6433, 40.7556], \"mode\": \"lines\", \"line\": {\"width\": 1, \"color\": \"rgb(117, 174, 255)\"}}, {\"type\": \"scattergeo\", \"locationmode\": \"USA-states\", \"lon\": [-73.9753, -73.9708], \"lat\": [40.7556, 40.7593], \"mode\": \"lines\", \"line\": {\"width\": 1, \"color\": \"rgb(117, 174, 255)\"}}, {\"type\": \"scattergeo\", \"locationmode\": \"USA-states\", \"lon\": [-73.9708, -73.9726], \"lat\": [40.7593, 40.7619], \"mode\": \"lines\", \"line\": {\"width\": 1, \"color\": \"rgb(117, 174, 255)\"}}, {\"type\": \"scattergeo\", \"locationmode\": \"USA-states\", \"lon\": [-73.9726, -73.9599], \"lat\": [40.7619, 40.7729], \"mode\": \"lines\", \"line\": {\"width\": 1, \"color\": \"rgb(117, 174, 255)\"}}, {\"type\": \"scattergeo\", \"locationmode\": \"USA-states\", \"lon\": [-73.9599, -73.9754], \"lat\": [40.7729, 40.7616], \"mode\": \"lines\", \"line\": {\"width\": 1, \"color\": \"rgb(117, 174, 255)\"}}, {\"type\": \"scattergeo\", \"locationmode\": \"USA-states\", \"lon\": [-73.9754, -74.0031], \"lat\": [40.7616, 40.7207], \"mode\": \"lines\", \"line\": {\"width\": 1, \"color\": \"rgb(117, 174, 255)\"}}, {\"type\": \"scattergeo\", \"locationmode\": \"USA-states\", \"lon\": [-74.0031, -73.7823], \"lat\": [40.7207, 40.6449], \"mode\": \"lines\", \"line\": {\"width\": 1, \"color\": \"rgb(117, 174, 255)\"}}, {\"type\": \"scattergeo\", \"locationmode\": \"USA-states\", \"lon\": [-73.7823, -73.9947], \"lat\": [40.6449, 40.7413], \"mode\": \"lines\", \"line\": {\"width\": 1, \"color\": \"rgb(117, 174, 255)\"}}, {\"type\": \"scattergeo\", \"locationmode\": \"USA-states\", \"lon\": [-73.9947, -73.9802], \"lat\": [40.7413, 40.7658], \"mode\": \"lines\", \"line\": {\"width\": 1, \"color\": \"rgb(117, 174, 255)\"}}, {\"type\": \"scattergeo\", \"locationmode\": \"USA-states\", \"lon\": [-73.9802, -73.9788], \"lat\": [40.7658, 40.7623], \"mode\": \"lines\", \"line\": {\"width\": 1, \"color\": \"rgb(117, 174, 255)\"}}, {\"type\": \"scattergeo\", \"locationmode\": \"USA-states\", \"lon\": [-73.9788, -73.9954], \"lat\": [40.7623, 40.744], \"mode\": \"lines\", \"line\": {\"width\": 1, \"color\": \"rgb(117, 174, 255)\"}}, {\"type\": \"scattergeo\", \"locationmode\": \"USA-states\", \"lon\": [-73.9954, -73.9608], \"lat\": [40.744, 40.7799], \"mode\": \"lines\", \"line\": {\"width\": 1, \"color\": \"rgb(117, 174, 255)\"}}, {\"type\": \"scattergeo\", \"locationmode\": \"USA-states\", \"lon\": [-73.9608, -73.9724], \"lat\": [40.7799, 40.7591], \"mode\": \"lines\", \"line\": {\"width\": 1, \"color\": \"rgb(117, 174, 255)\"}}, {\"type\": \"scattergeo\", \"locationmode\": \"USA-states\", \"lon\": [-73.9724, -73.9712], \"lat\": [40.7591, 40.7573], \"mode\": \"lines\", \"line\": {\"width\": 1, \"color\": \"rgb(117, 174, 255)\"}}, {\"type\": \"scattergeo\", \"locationmode\": \"USA-states\", \"lon\": [-73.9712, -73.9712], \"lat\": [40.7573, 40.7573], \"mode\": \"lines\", \"line\": {\"width\": 1, \"color\": \"rgb(117, 174, 255)\"}}, {\"type\": \"scattergeo\", \"locationmode\": \"USA-states\", \"lon\": [-73.9712, -73.9696], \"lat\": [40.7573, 40.7576], \"mode\": \"lines\", \"line\": {\"width\": 1, \"color\": \"rgb(117, 174, 255)\"}}, {\"type\": \"scattergeo\", \"locationmode\": \"USA-states\", \"lon\": [-73.9696, -74.01], \"lat\": [40.7576, 40.7052], \"mode\": \"lines\", \"line\": {\"width\": 1, \"color\": \"rgb(117, 174, 255)\"}}, {\"type\": \"scattergeo\", \"locationmode\": \"USA-states\", \"lon\": [-74.01, -74.1794], \"lat\": [40.7052, 40.7371], \"mode\": \"lines\", \"line\": {\"width\": 1, \"color\": \"rgb(117, 174, 255)\"}}, {\"type\": \"scattergeo\", \"locationmode\": \"USA-states\", \"lon\": [-74.1794, -74.0053], \"lat\": [40.7371, 40.7375], \"mode\": \"lines\", \"line\": {\"width\": 1, \"color\": \"rgb(117, 174, 255)\"}}, {\"type\": \"scattergeo\", \"locationmode\": \"USA-states\", \"lon\": [-74.0053, -73.99600000000001], \"lat\": [40.7375, 40.7541], \"mode\": \"lines\", \"line\": {\"width\": 1, \"color\": \"rgb(117, 174, 255)\"}}, {\"type\": \"scattergeo\", \"locationmode\": \"USA-states\", \"lon\": [-73.99600000000001, -73.9834], \"lat\": [40.7541, 40.7435], \"mode\": \"lines\", \"line\": {\"width\": 1, \"color\": \"rgb(117, 174, 255)\"}}, {\"type\": \"scattergeo\", \"locationmode\": \"USA-states\", \"lon\": [-73.9834, -73.9751], \"lat\": [40.7435, 40.758], \"mode\": \"lines\", \"line\": {\"width\": 1, \"color\": \"rgb(117, 174, 255)\"}}, {\"type\": \"scattergeo\", \"locationmode\": \"USA-states\", \"lon\": [-73.9751, -73.9839], \"lat\": [40.758, 40.7608], \"mode\": \"lines\", \"line\": {\"width\": 1, \"color\": \"rgb(117, 174, 255)\"}}, {\"type\": \"scattergeo\", \"locationmode\": \"USA-states\", \"lon\": [-73.9839, -74.0112], \"lat\": [40.7608, 40.7109], \"mode\": \"lines\", \"line\": {\"width\": 1, \"color\": \"rgb(117, 174, 255)\"}}, {\"type\": \"scattergeo\", \"locationmode\": \"USA-states\", \"lon\": [-74.0112, -73.8724], \"lat\": [40.7109, 40.7742], \"mode\": \"lines\", \"line\": {\"width\": 1, \"color\": \"rgb(117, 174, 255)\"}}, {\"type\": \"scattergeo\", \"locationmode\": \"USA-states\", \"lon\": [-73.8724, -73.9633], \"lat\": [40.7742, 40.7746], \"mode\": \"lines\", \"line\": {\"width\": 1, \"color\": \"rgb(117, 174, 255)\"}}, {\"type\": \"scattergeo\", \"locationmode\": \"USA-states\", \"lon\": [-73.9633, -73.9647], \"lat\": [40.7746, 40.7685], \"mode\": \"lines\", \"line\": {\"width\": 1, \"color\": \"rgb(117, 174, 255)\"}}, {\"type\": \"scattergeo\", \"locationmode\": \"USA-states\", \"lon\": [-73.9647, -73.9909], \"lat\": [40.7685, 40.7396], \"mode\": \"lines\", \"line\": {\"width\": 1, \"color\": \"rgb(117, 174, 255)\"}}, {\"type\": \"scattergeo\", \"locationmode\": \"USA-states\", \"lon\": [-73.9909, -73.9868], \"lat\": [40.7396, 40.7429], \"mode\": \"lines\", \"line\": {\"width\": 1, \"color\": \"rgb(117, 174, 255)\"}}, {\"type\": \"scattergeo\", \"locationmode\": \"USA-states\", \"lon\": [-73.9868, -73.9566], \"lat\": [40.7429, 40.7839], \"mode\": \"lines\", \"line\": {\"width\": 1, \"color\": \"rgb(117, 174, 255)\"}}, {\"type\": \"scattergeo\", \"locationmode\": \"USA-states\", \"lon\": [-73.9566, -73.9744], \"lat\": [40.7839, 40.7541], \"mode\": \"lines\", \"line\": {\"width\": 1, \"color\": \"rgb(117, 174, 255)\"}}, {\"type\": \"scattergeo\", \"locationmode\": \"USA-states\", \"lon\": [-73.9744, -73.9879], \"lat\": [40.7541, 40.7701], \"mode\": \"lines\", \"line\": {\"width\": 1, \"color\": \"rgb(117, 174, 255)\"}}, {\"type\": \"scattergeo\", \"locationmode\": \"USA-states\", \"lon\": [-73.9879, -73.8991], \"lat\": [40.7701, 40.8942], \"mode\": \"lines\", \"line\": {\"width\": 1, \"color\": \"rgb(117, 174, 255)\"}}, {\"type\": \"scattergeo\", \"locationmode\": \"USA-states\", \"lon\": [-73.8991, -73.9809], \"lat\": [40.8942, 40.7538], \"mode\": \"lines\", \"line\": {\"width\": 1, \"color\": \"rgb(117, 174, 255)\"}}, {\"type\": \"scattergeo\", \"locationmode\": \"USA-states\", \"lon\": [-73.9809, -73.9852], \"lat\": [40.7538, 40.7413], \"mode\": \"lines\", \"line\": {\"width\": 1, \"color\": \"rgb(117, 174, 255)\"}}, {\"type\": \"scattergeo\", \"locationmode\": \"USA-states\", \"lon\": [-73.9852, -73.9878], \"lat\": [40.7413, 40.7551], \"mode\": \"lines\", \"line\": {\"width\": 1, \"color\": \"rgb(117, 174, 255)\"}}, {\"type\": \"scattergeo\", \"locationmode\": \"USA-states\", \"lon\": [-73.9878, -74.008], \"lat\": [40.7551, 40.7474], \"mode\": \"lines\", \"line\": {\"width\": 1, \"color\": \"rgb(117, 174, 255)\"}}, {\"type\": \"scattergeo\", \"locationmode\": \"USA-states\", \"lon\": [-74.008, -73.9803], \"lat\": [40.7474, 40.7544], \"mode\": \"lines\", \"line\": {\"width\": 1, \"color\": \"rgb(117, 174, 255)\"}}, {\"type\": \"scattergeo\", \"locationmode\": \"USA-states\", \"lon\": [-73.9803, -73.997], \"lat\": [40.7544, 40.7356], \"mode\": \"lines\", \"line\": {\"width\": 1, \"color\": \"rgb(117, 174, 255)\"}}, {\"type\": \"scattergeo\", \"locationmode\": \"USA-states\", \"lon\": [-73.997, -73.9916], \"lat\": [40.7356, 40.7698], \"mode\": \"lines\", \"line\": {\"width\": 1, \"color\": \"rgb(117, 174, 255)\"}}, {\"type\": \"scattergeo\", \"locationmode\": \"USA-states\", \"lon\": [-73.9916, -73.9641], \"lat\": [40.7698, 40.7764], \"mode\": \"lines\", \"line\": {\"width\": 1, \"color\": \"rgb(117, 174, 255)\"}}, {\"type\": \"scattergeo\", \"locationmode\": \"USA-states\", \"lon\": [-73.9641, -73.9839], \"lat\": [40.7764, 40.7629], \"mode\": \"lines\", \"line\": {\"width\": 1, \"color\": \"rgb(117, 174, 255)\"}}, {\"type\": \"scattergeo\", \"locationmode\": \"USA-states\", \"lon\": [-73.9839, -74.0055], \"lat\": [40.7629, 40.7386], \"mode\": \"lines\", \"line\": {\"width\": 1, \"color\": \"rgb(117, 174, 255)\"}}, {\"type\": \"scattergeo\", \"locationmode\": \"USA-states\", \"lon\": [-74.0055, -73.9788], \"lat\": [40.7386, 40.7504], \"mode\": \"lines\", \"line\": {\"width\": 1, \"color\": \"rgb(117, 174, 255)\"}}, {\"type\": \"scattergeo\", \"locationmode\": \"USA-states\", \"lon\": [-73.9788, -73.9724], \"lat\": [40.7504, 40.7651], \"mode\": \"lines\", \"line\": {\"width\": 1, \"color\": \"rgb(117, 174, 255)\"}}, {\"type\": \"scattergeo\", \"locationmode\": \"USA-states\", \"lon\": [-73.9724, -73.991], \"lat\": [40.7651, 40.7546], \"mode\": \"lines\", \"line\": {\"width\": 1, \"color\": \"rgb(117, 174, 255)\"}}, {\"type\": \"scattergeo\", \"locationmode\": \"USA-states\", \"lon\": [-73.991, -74.0077], \"lat\": [40.7546, 40.7321], \"mode\": \"lines\", \"line\": {\"width\": 1, \"color\": \"rgb(117, 174, 255)\"}}, {\"type\": \"scattergeo\", \"locationmode\": \"USA-states\", \"lon\": [-74.0077, -73.9733], \"lat\": [40.7321, 40.764], \"mode\": \"lines\", \"line\": {\"width\": 1, \"color\": \"rgb(117, 174, 255)\"}}, {\"type\": \"scattergeo\", \"locationmode\": \"USA-states\", \"lon\": [-73.9733, -74.0149], \"lat\": [40.764, 40.7167], \"mode\": \"lines\", \"line\": {\"width\": 1, \"color\": \"rgb(117, 174, 255)\"}}, {\"type\": \"scattergeo\", \"locationmode\": \"USA-states\", \"lon\": [-74.0149, -73.9662], \"lat\": [40.7167, 40.7679], \"mode\": \"lines\", \"line\": {\"width\": 1, \"color\": \"rgb(117, 174, 255)\"}}, {\"type\": \"scattergeo\", \"locationmode\": \"USA-states\", \"lon\": [-73.9662, -74.0073], \"lat\": [40.7679, 40.7051], \"mode\": \"lines\", \"line\": {\"width\": 1, \"color\": \"rgb(117, 174, 255)\"}}, {\"type\": \"scattergeo\", \"locationmode\": \"USA-states\", \"lon\": [-74.0073, -73.9772], \"lat\": [40.7051, 40.7601], \"mode\": \"lines\", \"line\": {\"width\": 1, \"color\": \"rgb(117, 174, 255)\"}}, {\"type\": \"scattergeo\", \"locationmode\": \"USA-states\", \"lon\": [-73.9772, -73.9772], \"lat\": [40.7601, 40.7601], \"mode\": \"lines\", \"line\": {\"width\": 1, \"color\": \"rgb(117, 174, 255)\"}}, {\"type\": \"scattergeo\", \"locationmode\": \"USA-states\", \"lon\": [-73.9772, -73.9844], \"lat\": [40.7601, 40.6916], \"mode\": \"lines\", \"line\": {\"width\": 1, \"color\": \"rgb(117, 174, 255)\"}}, {\"type\": \"scattergeo\", \"locationmode\": \"USA-states\", \"lon\": [-73.9844, -73.983], \"lat\": [40.6916, 40.7632], \"mode\": \"lines\", \"line\": {\"width\": 1, \"color\": \"rgb(117, 174, 255)\"}}, {\"type\": \"scattergeo\", \"locationmode\": \"USA-states\", \"lon\": [-73.983, -73.9741], \"lat\": [40.7632, 40.7637], \"mode\": \"lines\", \"line\": {\"width\": 1, \"color\": \"rgb(117, 174, 255)\"}}, {\"type\": \"scattergeo\", \"locationmode\": \"USA-states\", \"lon\": [-73.9741, -73.9968], \"lat\": [40.7637, 40.732], \"mode\": \"lines\", \"line\": {\"width\": 1, \"color\": \"rgb(117, 174, 255)\"}}, {\"type\": \"scattergeo\", \"locationmode\": \"USA-states\", \"lon\": [-73.9968, -74.0662], \"lat\": [40.732, 40.8448], \"mode\": \"lines\", \"line\": {\"width\": 1, \"color\": \"rgb(117, 174, 255)\"}}, {\"type\": \"scattergeo\", \"locationmode\": \"USA-states\", \"lon\": [-74.0662, -73.9987], \"lat\": [40.8448, 40.7245], \"mode\": \"lines\", \"line\": {\"width\": 1, \"color\": \"rgb(117, 174, 255)\"}}, {\"type\": \"scattergeo\", \"locationmode\": \"USA-states\", \"lon\": [-73.9987, -74.0084], \"lat\": [40.7245, 40.7491], \"mode\": \"lines\", \"line\": {\"width\": 1, \"color\": \"rgb(117, 174, 255)\"}}, {\"type\": \"scattergeo\", \"locationmode\": \"USA-states\", \"lon\": [-74.0084, -73.9858], \"lat\": [40.7491, 40.7106], \"mode\": \"lines\", \"line\": {\"width\": 1, \"color\": \"rgb(117, 174, 255)\"}}, {\"type\": \"scattergeo\", \"locationmode\": \"USA-states\", \"lon\": [-73.9858, -73.9651], \"lat\": [40.7106, 40.76], \"mode\": \"lines\", \"line\": {\"width\": 1, \"color\": \"rgb(117, 174, 255)\"}}, {\"type\": \"scattergeo\", \"locationmode\": \"USA-states\", \"lon\": [-73.9651, -74.0003], \"lat\": [40.76, 40.7257], \"mode\": \"lines\", \"line\": {\"width\": 1, \"color\": \"rgb(117, 174, 255)\"}}, {\"type\": \"scattergeo\", \"locationmode\": \"USA-states\", \"lon\": [-74.0003, -73.9716], \"lat\": [40.7257, 40.7464], \"mode\": \"lines\", \"line\": {\"width\": 1, \"color\": \"rgb(117, 174, 255)\"}}, {\"type\": \"scattergeo\", \"locationmode\": \"USA-states\", \"lon\": [-73.9716, -73.9955], \"lat\": [40.7464, 40.7403], \"mode\": \"lines\", \"line\": {\"width\": 1, \"color\": \"rgb(117, 174, 255)\"}}, {\"type\": \"scattergeo\", \"locationmode\": \"USA-states\", \"lon\": [-73.9955, -73.9739], \"lat\": [40.7403, 40.7555], \"mode\": \"lines\", \"line\": {\"width\": 1, \"color\": \"rgb(117, 174, 255)\"}}, {\"type\": \"scattergeo\", \"locationmode\": \"USA-states\", \"lon\": [-73.9739, -73.9716], \"lat\": [40.7555, 40.7636], \"mode\": \"lines\", \"line\": {\"width\": 1, \"color\": \"rgb(117, 174, 255)\"}}, {\"type\": \"scattergeo\", \"locationmode\": \"USA-states\", \"lon\": [-73.9716, -73.9881], \"lat\": [40.7636, 40.7552], \"mode\": \"lines\", \"line\": {\"width\": 1, \"color\": \"rgb(117, 174, 255)\"}}, {\"type\": \"scattergeo\", \"locationmode\": \"USA-states\", \"lon\": [-73.9881, -73.958], \"lat\": [40.7552, 40.7208], \"mode\": \"lines\", \"line\": {\"width\": 1, \"color\": \"rgb(117, 174, 255)\"}}, {\"type\": \"scattergeo\", \"locationmode\": \"USA-states\", \"lon\": [-73.958, -73.8725], \"lat\": [40.7208, 40.7741], \"mode\": \"lines\", \"line\": {\"width\": 1, \"color\": \"rgb(117, 174, 255)\"}}, {\"type\": \"scattergeo\", \"locationmode\": \"USA-states\", \"lon\": [-73.8725, -73.9744], \"lat\": [40.7741, 40.7563], \"mode\": \"lines\", \"line\": {\"width\": 1, \"color\": \"rgb(117, 174, 255)\"}}, {\"type\": \"scattergeo\", \"locationmode\": \"USA-states\", \"lon\": [-73.9744, -73.9878], \"lat\": [40.7563, 40.7544], \"mode\": \"lines\", \"line\": {\"width\": 1, \"color\": \"rgb(117, 174, 255)\"}}, {\"type\": \"scattergeo\", \"locationmode\": \"USA-states\", \"lon\": [-73.9878, -73.9834], \"lat\": [40.7544, 40.7842], \"mode\": \"lines\", \"line\": {\"width\": 1, \"color\": \"rgb(117, 174, 255)\"}}, {\"type\": \"scattergeo\", \"locationmode\": \"USA-states\", \"lon\": [-73.9834, -74.0033], \"lat\": [40.7842, 40.7382], \"mode\": \"lines\", \"line\": {\"width\": 1, \"color\": \"rgb(117, 174, 255)\"}}, {\"type\": \"scattergeo\", \"locationmode\": \"USA-states\", \"lon\": [-74.0033, -73.9751], \"lat\": [40.7382, 40.7578], \"mode\": \"lines\", \"line\": {\"width\": 1, \"color\": \"rgb(117, 174, 255)\"}}, {\"type\": \"scattergeo\", \"locationmode\": \"USA-states\", \"lon\": [-73.9751, -73.9897], \"lat\": [40.7578, 40.7387], \"mode\": \"lines\", \"line\": {\"width\": 1, \"color\": \"rgb(117, 174, 255)\"}}, {\"type\": \"scattergeo\", \"locationmode\": \"USA-states\", \"lon\": [-73.9897, -73.8624], \"lat\": [40.7387, 40.7685], \"mode\": \"lines\", \"line\": {\"width\": 1, \"color\": \"rgb(117, 174, 255)\"}}, {\"type\": \"scattergeo\", \"locationmode\": \"USA-states\", \"lon\": [-73.8624, -73.9759], \"lat\": [40.7685, 40.7813], \"mode\": \"lines\", \"line\": {\"width\": 1, \"color\": \"rgb(117, 174, 255)\"}}, {\"type\": \"scattergeo\", \"locationmode\": \"USA-states\", \"lon\": [-73.9759, -73.982], \"lat\": [40.7813, 40.7558], \"mode\": \"lines\", \"line\": {\"width\": 1, \"color\": \"rgb(117, 174, 255)\"}}, {\"type\": \"scattergeo\", \"locationmode\": \"USA-states\", \"lon\": [-73.982, -73.9824], \"lat\": [40.7558, 40.7561], \"mode\": \"lines\", \"line\": {\"width\": 1, \"color\": \"rgb(117, 174, 255)\"}}, {\"type\": \"scattergeo\", \"locationmode\": \"USA-states\", \"lon\": [-73.9824, -73.9876], \"lat\": [40.7561, 40.7528], \"mode\": \"lines\", \"line\": {\"width\": 1, \"color\": \"rgb(117, 174, 255)\"}}, {\"type\": \"scattergeo\", \"locationmode\": \"USA-states\", \"lon\": [-73.9876, -73.97399999999999], \"lat\": [40.7528, 40.7634], \"mode\": \"lines\", \"line\": {\"width\": 1, \"color\": \"rgb(117, 174, 255)\"}}, {\"type\": \"scattergeo\", \"locationmode\": \"USA-states\", \"lon\": [-73.97399999999999, -73.9723], \"lat\": [40.7634, 40.76], \"mode\": \"lines\", \"line\": {\"width\": 1, \"color\": \"rgb(117, 174, 255)\"}}, {\"type\": \"scattergeo\", \"locationmode\": \"USA-states\", \"lon\": [-73.9723, -73.9749], \"lat\": [40.76, 40.7512], \"mode\": \"lines\", \"line\": {\"width\": 1, \"color\": \"rgb(117, 174, 255)\"}}, {\"type\": \"scattergeo\", \"locationmode\": \"USA-states\", \"lon\": [-73.9749, -74.1771], \"lat\": [40.7512, 40.6914], \"mode\": \"lines\", \"line\": {\"width\": 1, \"color\": \"rgb(117, 174, 255)\"}}, {\"type\": \"scattergeo\", \"locationmode\": \"USA-states\", \"lon\": [-74.1771, -73.8655], \"lat\": [40.6914, 40.7706], \"mode\": \"lines\", \"line\": {\"width\": 1, \"color\": \"rgb(117, 174, 255)\"}}, {\"type\": \"scattergeo\", \"locationmode\": \"USA-states\", \"lon\": [-73.8655, -74.0072], \"lat\": [40.7706, 40.7415], \"mode\": \"lines\", \"line\": {\"width\": 1, \"color\": \"rgb(117, 174, 255)\"}}, {\"type\": \"scattergeo\", \"locationmode\": \"USA-states\", \"lon\": [-74.0072, -73.9782], \"lat\": [40.7415, 40.7511], \"mode\": \"lines\", \"line\": {\"width\": 1, \"color\": \"rgb(117, 174, 255)\"}}, {\"type\": \"scattergeo\", \"locationmode\": \"USA-states\", \"lon\": [-73.9782, -73.9811], \"lat\": [40.7511, 40.7519], \"mode\": \"lines\", \"line\": {\"width\": 1, \"color\": \"rgb(117, 174, 255)\"}}, {\"type\": \"scattergeo\", \"locationmode\": \"USA-states\", \"lon\": [-73.9811, -73.7768], \"lat\": [40.7519, 40.646], \"mode\": \"lines\", \"line\": {\"width\": 1, \"color\": \"rgb(117, 174, 255)\"}}, {\"type\": \"scattergeo\", \"locationmode\": \"USA-states\", \"lon\": [-73.7768, -73.9991], \"lat\": [40.646, 40.7213], \"mode\": \"lines\", \"line\": {\"width\": 1, \"color\": \"rgb(117, 174, 255)\"}}, {\"type\": \"scattergeo\", \"locationmode\": \"USA-states\", \"lon\": [-73.9991, -73.967], \"lat\": [40.7213, 40.7591], \"mode\": \"lines\", \"line\": {\"width\": 1, \"color\": \"rgb(117, 174, 255)\"}}, {\"type\": \"scattergeo\", \"locationmode\": \"USA-states\", \"lon\": [-73.967, -73.9625], \"lat\": [40.7591, 40.7701], \"mode\": \"lines\", \"line\": {\"width\": 1, \"color\": \"rgb(117, 174, 255)\"}}, {\"type\": \"scattergeo\", \"locationmode\": \"USA-states\", \"lon\": [-73.9625, -73.9559], \"lat\": [40.7701, 40.7789], \"mode\": \"lines\", \"line\": {\"width\": 1, \"color\": \"rgb(117, 174, 255)\"}}, {\"type\": \"scattergeo\", \"locationmode\": \"USA-states\", \"lon\": [-73.9559, -73.9559], \"lat\": [40.7789, 40.7789], \"mode\": \"lines\", \"line\": {\"width\": 1, \"color\": \"rgb(117, 174, 255)\"}}, {\"type\": \"scattergeo\", \"locationmode\": \"USA-states\", \"lon\": [-73.9559, -73.9824], \"lat\": [40.7789, 40.733000000000004], \"mode\": \"lines\", \"line\": {\"width\": 1, \"color\": \"rgb(117, 174, 255)\"}}, {\"type\": \"scattergeo\", \"locationmode\": \"USA-states\", \"lon\": [-73.9824, -73.9763], \"lat\": [40.733000000000004, 40.7582], \"mode\": \"lines\", \"line\": {\"width\": 1, \"color\": \"rgb(117, 174, 255)\"}}, {\"type\": \"scattergeo\", \"locationmode\": \"USA-states\", \"lon\": [-73.9763, -73.9887], \"lat\": [40.7582, 40.7437], \"mode\": \"lines\", \"line\": {\"width\": 1, \"color\": \"rgb(117, 174, 255)\"}}, {\"type\": \"scattergeo\", \"locationmode\": \"USA-states\", \"lon\": [-73.9887, -73.9887], \"lat\": [40.7437, 40.7437], \"mode\": \"lines\", \"line\": {\"width\": 1, \"color\": \"rgb(117, 174, 255)\"}}, {\"type\": \"scattergeo\", \"locationmode\": \"USA-states\", \"lon\": [-73.9887, -73.9891], \"lat\": [40.7437, 40.7512], \"mode\": \"lines\", \"line\": {\"width\": 1, \"color\": \"rgb(117, 174, 255)\"}}, {\"type\": \"scattergeo\", \"locationmode\": \"USA-states\", \"lon\": [-73.9891, -73.9839], \"lat\": [40.7512, 40.7554], \"mode\": \"lines\", \"line\": {\"width\": 1, \"color\": \"rgb(117, 174, 255)\"}}, {\"type\": \"scattergeo\", \"locationmode\": \"USA-states\", \"lon\": [-73.9839, -73.9699], \"lat\": [40.7554, 40.7647], \"mode\": \"lines\", \"line\": {\"width\": 1, \"color\": \"rgb(117, 174, 255)\"}}, {\"type\": \"scattergeo\", \"locationmode\": \"USA-states\", \"lon\": [-73.9699, -73.9523], \"lat\": [40.7647, 40.7915], \"mode\": \"lines\", \"line\": {\"width\": 1, \"color\": \"rgb(117, 174, 255)\"}}, {\"type\": \"scattergeo\", \"locationmode\": \"USA-states\", \"lon\": [-73.9523, -73.9482], \"lat\": [40.7915, 40.7756], \"mode\": \"lines\", \"line\": {\"width\": 1, \"color\": \"rgb(117, 174, 255)\"}}, {\"type\": \"scattergeo\", \"locationmode\": \"USA-states\", \"lon\": [-73.9482, -73.9803], \"lat\": [40.7756, 40.7701], \"mode\": \"lines\", \"line\": {\"width\": 1, \"color\": \"rgb(117, 174, 255)\"}}, {\"type\": \"scattergeo\", \"locationmode\": \"USA-states\", \"lon\": [-73.9803, -73.9851], \"lat\": [40.7701, 40.7556], \"mode\": \"lines\", \"line\": {\"width\": 1, \"color\": \"rgb(117, 174, 255)\"}}, {\"type\": \"scattergeo\", \"locationmode\": \"USA-states\", \"lon\": [-73.9851, -73.9856], \"lat\": [40.7556, 40.7527], \"mode\": \"lines\", \"line\": {\"width\": 1, \"color\": \"rgb(117, 174, 255)\"}}, {\"type\": \"scattergeo\", \"locationmode\": \"USA-states\", \"lon\": [-73.9856, -73.9908], \"lat\": [40.7527, 40.7413], \"mode\": \"lines\", \"line\": {\"width\": 1, \"color\": \"rgb(117, 174, 255)\"}}, {\"type\": \"scattergeo\", \"locationmode\": \"USA-states\", \"lon\": [-73.9908, -74.0087], \"lat\": [40.7413, 40.7324], \"mode\": \"lines\", \"line\": {\"width\": 1, \"color\": \"rgb(117, 174, 255)\"}}, {\"type\": \"scattergeo\", \"locationmode\": \"USA-states\", \"lon\": [-74.0087, -73.9863], \"lat\": [40.7324, 40.7432], \"mode\": \"lines\", \"line\": {\"width\": 1, \"color\": \"rgb(117, 174, 255)\"}}, {\"type\": \"scattergeo\", \"locationmode\": \"USA-states\", \"lon\": [-73.9863, -73.98100000000001], \"lat\": [40.7432, 40.7697], \"mode\": \"lines\", \"line\": {\"width\": 1, \"color\": \"rgb(117, 174, 255)\"}}, {\"type\": \"scattergeo\", \"locationmode\": \"USA-states\", \"lon\": [-73.98100000000001, -74.0087], \"lat\": [40.7697, 40.7227], \"mode\": \"lines\", \"line\": {\"width\": 1, \"color\": \"rgb(117, 174, 255)\"}}, {\"type\": \"scattergeo\", \"locationmode\": \"USA-states\", \"lon\": [-74.0087, -74.0048], \"lat\": [40.7227, 40.7204], \"mode\": \"lines\", \"line\": {\"width\": 1, \"color\": \"rgb(117, 174, 255)\"}}, {\"type\": \"scattergeo\", \"locationmode\": \"USA-states\", \"lon\": [-74.0048, -73.9824], \"lat\": [40.7204, 40.7615], \"mode\": \"lines\", \"line\": {\"width\": 1, \"color\": \"rgb(117, 174, 255)\"}}, {\"type\": \"scattergeo\", \"locationmode\": \"USA-states\", \"lon\": [-73.9824, -73.9782], \"lat\": [40.7615, 40.6898], \"mode\": \"lines\", \"line\": {\"width\": 1, \"color\": \"rgb(117, 174, 255)\"}}, {\"type\": \"scattergeo\", \"locationmode\": \"USA-states\", \"lon\": [-73.9782, -73.9983], \"lat\": [40.6898, 40.7296], \"mode\": \"lines\", \"line\": {\"width\": 1, \"color\": \"rgb(117, 174, 255)\"}}, {\"type\": \"scattergeo\", \"locationmode\": \"USA-states\", \"lon\": [-73.9983, -74.0054], \"lat\": [40.7296, 40.7256], \"mode\": \"lines\", \"line\": {\"width\": 1, \"color\": \"rgb(117, 174, 255)\"}}, {\"type\": \"scattergeo\", \"locationmode\": \"USA-states\", \"lon\": [-74.0054, -74.0043], \"lat\": [40.7256, 40.7199], \"mode\": \"lines\", \"line\": {\"width\": 1, \"color\": \"rgb(117, 174, 255)\"}}, {\"type\": \"scattergeo\", \"locationmode\": \"USA-states\", \"lon\": [-74.0043, -73.9806], \"lat\": [40.7199, 40.7539], \"mode\": \"lines\", \"line\": {\"width\": 1, \"color\": \"rgb(117, 174, 255)\"}}, {\"type\": \"scattergeo\", \"locationmode\": \"USA-states\", \"lon\": [-73.9806, -73.962], \"lat\": [40.7539, 40.7649], \"mode\": \"lines\", \"line\": {\"width\": 1, \"color\": \"rgb(117, 174, 255)\"}}, {\"type\": \"scattergeo\", \"locationmode\": \"USA-states\", \"lon\": [-73.962, -73.9764], \"lat\": [40.7649, 40.7539], \"mode\": \"lines\", \"line\": {\"width\": 1, \"color\": \"rgb(117, 174, 255)\"}}, {\"type\": \"scattergeo\", \"locationmode\": \"USA-states\", \"lon\": [-73.9764, -73.9726], \"lat\": [40.7539, 40.7554], \"mode\": \"lines\", \"line\": {\"width\": 1, \"color\": \"rgb(117, 174, 255)\"}}, {\"type\": \"scattergeo\", \"locationmode\": \"USA-states\", \"lon\": [-73.9726, -73.9573], \"lat\": [40.7554, 40.775999999999996], \"mode\": \"lines\", \"line\": {\"width\": 1, \"color\": \"rgb(117, 174, 255)\"}}, {\"type\": \"scattergeo\", \"locationmode\": \"USA-states\", \"lon\": [-73.9573, -73.9742], \"lat\": [40.775999999999996, 40.7631], \"mode\": \"lines\", \"line\": {\"width\": 1, \"color\": \"rgb(117, 174, 255)\"}}, {\"type\": \"scattergeo\", \"locationmode\": \"USA-states\", \"lon\": [-73.9742, -73.8625], \"lat\": [40.7631, 40.7685], \"mode\": \"lines\", \"line\": {\"width\": 1, \"color\": \"rgb(117, 174, 255)\"}}, {\"type\": \"scattergeo\", \"locationmode\": \"USA-states\", \"lon\": [-73.8625, -73.973], \"lat\": [40.7685, 40.7938], \"mode\": \"lines\", \"line\": {\"width\": 1, \"color\": \"rgb(117, 174, 255)\"}}, {\"type\": \"scattergeo\", \"locationmode\": \"USA-states\", \"lon\": [-73.973, -73.9553], \"lat\": [40.7938, 40.7857], \"mode\": \"lines\", \"line\": {\"width\": 1, \"color\": \"rgb(117, 174, 255)\"}}, {\"type\": \"scattergeo\", \"locationmode\": \"USA-states\", \"lon\": [-73.9553, -73.9553], \"lat\": [40.7857, 40.7857], \"mode\": \"lines\", \"line\": {\"width\": 1, \"color\": \"rgb(117, 174, 255)\"}}, {\"type\": \"scattergeo\", \"locationmode\": \"USA-states\", \"lon\": [-73.9553, -73.9991], \"lat\": [40.7857, 40.72], \"mode\": \"lines\", \"line\": {\"width\": 1, \"color\": \"rgb(117, 174, 255)\"}}, {\"type\": \"scattergeo\", \"locationmode\": \"USA-states\", \"lon\": [-73.9991, -73.9628], \"lat\": [40.72, 40.7782], \"mode\": \"lines\", \"line\": {\"width\": 1, \"color\": \"rgb(117, 174, 255)\"}}, {\"type\": \"scattergeo\", \"locationmode\": \"USA-states\", \"lon\": [-73.9628, -73.9767], \"lat\": [40.7782, 40.751], \"mode\": \"lines\", \"line\": {\"width\": 1, \"color\": \"rgb(117, 174, 255)\"}}, {\"type\": \"scattergeo\", \"locationmode\": \"USA-states\", \"lon\": [-73.9767, -74.0018], \"lat\": [40.751, 40.7212], \"mode\": \"lines\", \"line\": {\"width\": 1, \"color\": \"rgb(117, 174, 255)\"}}, {\"type\": \"scattergeo\", \"locationmode\": \"USA-states\", \"lon\": [-74.0018, -73.9898], \"lat\": [40.7212, 40.7287], \"mode\": \"lines\", \"line\": {\"width\": 1, \"color\": \"rgb(117, 174, 255)\"}}, {\"type\": \"scattergeo\", \"locationmode\": \"USA-states\", \"lon\": [-73.9898, -73.9812], \"lat\": [40.7287, 40.7736], \"mode\": \"lines\", \"line\": {\"width\": 1, \"color\": \"rgb(117, 174, 255)\"}}, {\"type\": \"scattergeo\", \"locationmode\": \"USA-states\", \"lon\": [-73.9812, -73.986], \"lat\": [40.7736, 40.7328], \"mode\": \"lines\", \"line\": {\"width\": 1, \"color\": \"rgb(117, 174, 255)\"}}, {\"type\": \"scattergeo\", \"locationmode\": \"USA-states\", \"lon\": [-73.986, -73.9739], \"lat\": [40.7328, 40.7566], \"mode\": \"lines\", \"line\": {\"width\": 1, \"color\": \"rgb(117, 174, 255)\"}}, {\"type\": \"scattergeo\", \"locationmode\": \"USA-states\", \"lon\": [-73.9739, -73.982], \"lat\": [40.7566, 40.7539], \"mode\": \"lines\", \"line\": {\"width\": 1, \"color\": \"rgb(117, 174, 255)\"}}, {\"type\": \"scattergeo\", \"locationmode\": \"USA-states\", \"lon\": [-73.982, -74.0038], \"lat\": [40.7539, 40.72], \"mode\": \"lines\", \"line\": {\"width\": 1, \"color\": \"rgb(117, 174, 255)\"}}, {\"type\": \"scattergeo\", \"locationmode\": \"USA-states\", \"lon\": [-74.0038, -73.9941], \"lat\": [40.72, 40.7395], \"mode\": \"lines\", \"line\": {\"width\": 1, \"color\": \"rgb(117, 174, 255)\"}}, {\"type\": \"scattergeo\", \"locationmode\": \"USA-states\", \"lon\": [-73.9941, -74.0091], \"lat\": [40.7395, 40.7457], \"mode\": \"lines\", \"line\": {\"width\": 1, \"color\": \"rgb(117, 174, 255)\"}}, {\"type\": \"scattergeo\", \"locationmode\": \"USA-states\", \"lon\": [-74.0091, -74.0127], \"lat\": [40.7457, 40.7021], \"mode\": \"lines\", \"line\": {\"width\": 1, \"color\": \"rgb(117, 174, 255)\"}}, {\"type\": \"scattergeo\", \"locationmode\": \"USA-states\", \"lon\": [-74.0127, -73.9904], \"lat\": [40.7021, 40.7534], \"mode\": \"lines\", \"line\": {\"width\": 1, \"color\": \"rgb(117, 174, 255)\"}}, {\"type\": \"scattergeo\", \"locationmode\": \"USA-states\", \"lon\": [-73.9904, -74.001], \"lat\": [40.7534, 40.7242], \"mode\": \"lines\", \"line\": {\"width\": 1, \"color\": \"rgb(117, 174, 255)\"}}, {\"type\": \"scattergeo\", \"locationmode\": \"USA-states\", \"lon\": [-74.001, -73.9988], \"lat\": [40.7242, 40.755], \"mode\": \"lines\", \"line\": {\"width\": 1, \"color\": \"rgb(117, 174, 255)\"}}, {\"type\": \"scattergeo\", \"locationmode\": \"USA-states\", \"lon\": [-73.9988, -74.2762], \"lat\": [40.755, 40.6844], \"mode\": \"lines\", \"line\": {\"width\": 1, \"color\": \"rgb(117, 174, 255)\"}}, {\"type\": \"scattergeo\", \"locationmode\": \"USA-states\", \"lon\": [-74.2762, -73.9762], \"lat\": [40.6844, 40.7574], \"mode\": \"lines\", \"line\": {\"width\": 1, \"color\": \"rgb(117, 174, 255)\"}}, {\"type\": \"scattergeo\", \"locationmode\": \"USA-states\", \"lon\": [-73.9762, -73.8838], \"lat\": [40.7574, 40.7529], \"mode\": \"lines\", \"line\": {\"width\": 1, \"color\": \"rgb(117, 174, 255)\"}}, {\"type\": \"scattergeo\", \"locationmode\": \"USA-states\", \"lon\": [-73.8838, -73.975], \"lat\": [40.7529, 40.7617], \"mode\": \"lines\", \"line\": {\"width\": 1, \"color\": \"rgb(117, 174, 255)\"}}, {\"type\": \"scattergeo\", \"locationmode\": \"USA-states\", \"lon\": [-73.975, -73.9791], \"lat\": [40.7617, 40.753], \"mode\": \"lines\", \"line\": {\"width\": 1, \"color\": \"rgb(117, 174, 255)\"}}, {\"type\": \"scattergeo\", \"locationmode\": \"USA-states\", \"lon\": [-73.9791, -73.9884], \"lat\": [40.753, 40.7459], \"mode\": \"lines\", \"line\": {\"width\": 1, \"color\": \"rgb(117, 174, 255)\"}}, {\"type\": \"scattergeo\", \"locationmode\": \"USA-states\", \"lon\": [-73.9884, -73.9521], \"lat\": [40.7459, 40.7178], \"mode\": \"lines\", \"line\": {\"width\": 1, \"color\": \"rgb(117, 174, 255)\"}}, {\"type\": \"scattergeo\", \"locationmode\": \"USA-states\", \"lon\": [-73.9521, -73.9803], \"lat\": [40.7178, 40.7816], \"mode\": \"lines\", \"line\": {\"width\": 1, \"color\": \"rgb(117, 174, 255)\"}}, {\"type\": \"scattergeo\", \"locationmode\": \"USA-states\", \"lon\": [-73.9803, -73.9745], \"lat\": [40.7816, 40.7556], \"mode\": \"lines\", \"line\": {\"width\": 1, \"color\": \"rgb(117, 174, 255)\"}}, {\"type\": \"scattergeo\", \"locationmode\": \"USA-states\", \"lon\": [-73.9745, -73.9974], \"lat\": [40.7556, 40.7214], \"mode\": \"lines\", \"line\": {\"width\": 1, \"color\": \"rgb(117, 174, 255)\"}}, {\"type\": \"scattergeo\", \"locationmode\": \"USA-states\", \"lon\": [-73.9974, -73.9684], \"lat\": [40.7214, 40.7875], \"mode\": \"lines\", \"line\": {\"width\": 1, \"color\": \"rgb(117, 174, 255)\"}}, {\"type\": \"scattergeo\", \"locationmode\": \"USA-states\", \"lon\": [-73.9684, -73.9689], \"lat\": [40.7875, 40.7685], \"mode\": \"lines\", \"line\": {\"width\": 1, \"color\": \"rgb(117, 174, 255)\"}}, {\"type\": \"scattergeo\", \"locationmode\": \"USA-states\", \"lon\": [-73.9689, -73.9701], \"lat\": [40.7685, 40.753], \"mode\": \"lines\", \"line\": {\"width\": 1, \"color\": \"rgb(117, 174, 255)\"}}, {\"type\": \"scattergeo\", \"locationmode\": \"USA-states\", \"lon\": [-73.9701, -74.0044], \"lat\": [40.753, 40.7478], \"mode\": \"lines\", \"line\": {\"width\": 1, \"color\": \"rgb(117, 174, 255)\"}}, {\"type\": \"scattergeo\", \"locationmode\": \"USA-states\", \"lon\": [-74.0044, -73.958], \"lat\": [40.7478, 40.7745], \"mode\": \"lines\", \"line\": {\"width\": 1, \"color\": \"rgb(117, 174, 255)\"}}, {\"type\": \"scattergeo\", \"locationmode\": \"USA-states\", \"lon\": [-73.958, -73.9698], \"lat\": [40.7745, 40.7562], \"mode\": \"lines\", \"line\": {\"width\": 1, \"color\": \"rgb(117, 174, 255)\"}}, {\"type\": \"scattergeo\", \"locationmode\": \"USA-states\", \"lon\": [-73.9698, -74.0356], \"lat\": [40.7562, 40.7129], \"mode\": \"lines\", \"line\": {\"width\": 1, \"color\": \"rgb(117, 174, 255)\"}}, {\"type\": \"scattergeo\", \"locationmode\": \"USA-states\", \"lon\": [-74.0356, -74.0356], \"lat\": [40.7129, 40.7129], \"mode\": \"lines\", \"line\": {\"width\": 1, \"color\": \"rgb(117, 174, 255)\"}}, {\"type\": \"scattergeo\", \"locationmode\": \"USA-states\", \"lon\": [-74.0356, -74.0123], \"lat\": [40.7129, 40.7169], \"mode\": \"lines\", \"line\": {\"width\": 1, \"color\": \"rgb(117, 174, 255)\"}}, {\"type\": \"scattergeo\", \"locationmode\": \"USA-states\", \"lon\": [-74.0123, -73.9672], \"lat\": [40.7169, 40.7634], \"mode\": \"lines\", \"line\": {\"width\": 1, \"color\": \"rgb(117, 174, 255)\"}}, {\"type\": \"scattergeo\", \"locationmode\": \"USA-states\", \"lon\": [-73.9672, -73.9739], \"lat\": [40.7634, 40.7555], \"mode\": \"lines\", \"line\": {\"width\": 1, \"color\": \"rgb(117, 174, 255)\"}}, {\"type\": \"scattergeo\", \"locationmode\": \"USA-states\", \"lon\": [-73.9739, -73.9816], \"lat\": [40.7555, 40.7581], \"mode\": \"lines\", \"line\": {\"width\": 1, \"color\": \"rgb(117, 174, 255)\"}}, {\"type\": \"scattergeo\", \"locationmode\": \"USA-states\", \"lon\": [-73.9816, -73.9487], \"lat\": [40.7581, 40.7849], \"mode\": \"lines\", \"line\": {\"width\": 1, \"color\": \"rgb(117, 174, 255)\"}}, {\"type\": \"scattergeo\", \"locationmode\": \"USA-states\", \"lon\": [-73.9487, -73.9956], \"lat\": [40.7849, 40.7332], \"mode\": \"lines\", \"line\": {\"width\": 1, \"color\": \"rgb(117, 174, 255)\"}}, {\"type\": \"scattergeo\", \"locationmode\": \"USA-states\", \"lon\": [-73.9956, -73.9926], \"lat\": [40.7332, 40.7376], \"mode\": \"lines\", \"line\": {\"width\": 1, \"color\": \"rgb(117, 174, 255)\"}}, {\"type\": \"scattergeo\", \"locationmode\": \"USA-states\", \"lon\": [-73.9926, -73.9717], \"lat\": [40.7376, 40.756], \"mode\": \"lines\", \"line\": {\"width\": 1, \"color\": \"rgb(117, 174, 255)\"}}, {\"type\": \"scattergeo\", \"locationmode\": \"USA-states\", \"lon\": [-73.9717, -73.9615], \"lat\": [40.756, 40.771], \"mode\": \"lines\", \"line\": {\"width\": 1, \"color\": \"rgb(117, 174, 255)\"}}, {\"type\": \"scattergeo\", \"locationmode\": \"USA-states\", \"lon\": [-73.9615, -73.9994], \"lat\": [40.771, 40.7221], \"mode\": \"lines\", \"line\": {\"width\": 1, \"color\": \"rgb(117, 174, 255)\"}}, {\"type\": \"scattergeo\", \"locationmode\": \"USA-states\", \"lon\": [-73.9994, -74.0069], \"lat\": [40.7221, 40.7305], \"mode\": \"lines\", \"line\": {\"width\": 1, \"color\": \"rgb(117, 174, 255)\"}}, {\"type\": \"scattergeo\", \"locationmode\": \"USA-states\", \"lon\": [-74.0069, -73.9844], \"lat\": [40.7305, 40.7565], \"mode\": \"lines\", \"line\": {\"width\": 1, \"color\": \"rgb(117, 174, 255)\"}}, {\"type\": \"scattergeo\", \"locationmode\": \"USA-states\", \"lon\": [-73.9844, -73.9718], \"lat\": [40.7565, 40.7568], \"mode\": \"lines\", \"line\": {\"width\": 1, \"color\": \"rgb(117, 174, 255)\"}}, {\"type\": \"scattergeo\", \"locationmode\": \"USA-states\", \"lon\": [-73.9718, -74.0085], \"lat\": [40.7568, 40.7381], \"mode\": \"lines\", \"line\": {\"width\": 1, \"color\": \"rgb(117, 174, 255)\"}}, {\"type\": \"scattergeo\", \"locationmode\": \"USA-states\", \"lon\": [-74.0085, -73.9728], \"lat\": [40.7381, 40.7986], \"mode\": \"lines\", \"line\": {\"width\": 1, \"color\": \"rgb(117, 174, 255)\"}}, {\"type\": \"scattergeo\", \"locationmode\": \"USA-states\", \"lon\": [-73.9728, -73.972], \"lat\": [40.7986, 40.757], \"mode\": \"lines\", \"line\": {\"width\": 1, \"color\": \"rgb(117, 174, 255)\"}}, {\"type\": \"scattergeo\", \"locationmode\": \"USA-states\", \"lon\": [-73.972, -73.9786], \"lat\": [40.757, 40.7535], \"mode\": \"lines\", \"line\": {\"width\": 1, \"color\": \"rgb(117, 174, 255)\"}}, {\"type\": \"scattergeo\", \"locationmode\": \"USA-states\", \"lon\": [-73.9786, -73.8857], \"lat\": [40.7535, 40.7732], \"mode\": \"lines\", \"line\": {\"width\": 1, \"color\": \"rgb(117, 174, 255)\"}}, {\"type\": \"scattergeo\", \"locationmode\": \"USA-states\", \"lon\": [-73.8857, -73.9851], \"lat\": [40.7732, 40.742], \"mode\": \"lines\", \"line\": {\"width\": 1, \"color\": \"rgb(117, 174, 255)\"}}, {\"type\": \"scattergeo\", \"locationmode\": \"USA-states\", \"lon\": [-73.9851, -73.98100000000001], \"lat\": [40.742, 40.786], \"mode\": \"lines\", \"line\": {\"width\": 1, \"color\": \"rgb(117, 174, 255)\"}}, {\"type\": \"scattergeo\", \"locationmode\": \"USA-states\", \"lon\": [-73.98100000000001, -74.0167], \"lat\": [40.786, 40.7059], \"mode\": \"lines\", \"line\": {\"width\": 1, \"color\": \"rgb(117, 174, 255)\"}}, {\"type\": \"scattergeo\", \"locationmode\": \"USA-states\", \"lon\": [-74.0167, -73.9901], \"lat\": [40.7059, 40.7401], \"mode\": \"lines\", \"line\": {\"width\": 1, \"color\": \"rgb(117, 174, 255)\"}}, {\"type\": \"scattergeo\", \"locationmode\": \"USA-states\", \"lon\": [-73.9901, -73.9884], \"lat\": [40.7401, 40.7403], \"mode\": \"lines\", \"line\": {\"width\": 1, \"color\": \"rgb(117, 174, 255)\"}}, {\"type\": \"scattergeo\", \"locationmode\": \"USA-states\", \"lon\": [-73.9884, -73.9933], \"lat\": [40.7403, 40.7243], \"mode\": \"lines\", \"line\": {\"width\": 1, \"color\": \"rgb(117, 174, 255)\"}}, {\"type\": \"scattergeo\", \"locationmode\": \"USA-states\", \"lon\": [-73.9933, -73.9912], \"lat\": [40.7243, 40.733000000000004], \"mode\": \"lines\", \"line\": {\"width\": 1, \"color\": \"rgb(117, 174, 255)\"}}, {\"type\": \"scattergeo\", \"locationmode\": \"USA-states\", \"lon\": [-73.9912, -73.9739], \"lat\": [40.733000000000004, 40.7535], \"mode\": \"lines\", \"line\": {\"width\": 1, \"color\": \"rgb(117, 174, 255)\"}}, {\"type\": \"scattergeo\", \"locationmode\": \"USA-states\", \"lon\": [-73.9739, -73.9739], \"lat\": [40.7535, 40.7535], \"mode\": \"lines\", \"line\": {\"width\": 1, \"color\": \"rgb(117, 174, 255)\"}}, {\"type\": \"scattergeo\", \"locationmode\": \"USA-states\", \"lon\": [-73.9739, -73.9765], \"lat\": [40.7535, 40.7615], \"mode\": \"lines\", \"line\": {\"width\": 1, \"color\": \"rgb(117, 174, 255)\"}}, {\"type\": \"scattergeo\", \"locationmode\": \"USA-states\", \"lon\": [-73.9765, -74.0347], \"lat\": [40.7615, 40.7288], \"mode\": \"lines\", \"line\": {\"width\": 1, \"color\": \"rgb(117, 174, 255)\"}}, {\"type\": \"scattergeo\", \"locationmode\": \"USA-states\", \"lon\": [-74.0347, -74.0041], \"lat\": [40.7288, 40.7219], \"mode\": \"lines\", \"line\": {\"width\": 1, \"color\": \"rgb(117, 174, 255)\"}}, {\"type\": \"scattergeo\", \"locationmode\": \"USA-states\", \"lon\": [-74.0041, -73.9688], \"lat\": [40.7219, 40.7101], \"mode\": \"lines\", \"line\": {\"width\": 1, \"color\": \"rgb(117, 174, 255)\"}}, {\"type\": \"scattergeo\", \"locationmode\": \"USA-states\", \"lon\": [-73.9688, -74.0007], \"lat\": [40.7101, 40.7473], \"mode\": \"lines\", \"line\": {\"width\": 1, \"color\": \"rgb(117, 174, 255)\"}}, {\"type\": \"scattergeo\", \"locationmode\": \"USA-states\", \"lon\": [-74.0007, -73.9326], \"lat\": [40.7473, 40.6086], \"mode\": \"lines\", \"line\": {\"width\": 1, \"color\": \"rgb(117, 174, 255)\"}}, {\"type\": \"scattergeo\", \"locationmode\": \"USA-states\", \"lon\": [-73.9326, -73.9845], \"lat\": [40.6086, 40.7103], \"mode\": \"lines\", \"line\": {\"width\": 1, \"color\": \"rgb(117, 174, 255)\"}}, {\"type\": \"scattergeo\", \"locationmode\": \"USA-states\", \"lon\": [-73.9845, -73.9832], \"lat\": [40.7103, 40.7265], \"mode\": \"lines\", \"line\": {\"width\": 1, \"color\": \"rgb(117, 174, 255)\"}}, {\"type\": \"scattergeo\", \"locationmode\": \"USA-states\", \"lon\": [-73.9832, -73.4372], \"lat\": [40.7265, 40.7829], \"mode\": \"lines\", \"line\": {\"width\": 1, \"color\": \"rgb(117, 174, 255)\"}}, {\"type\": \"scattergeo\", \"locationmode\": \"USA-states\", \"lon\": [-73.4372, -73.9734], \"lat\": [40.7829, 40.7548], \"mode\": \"lines\", \"line\": {\"width\": 1, \"color\": \"rgb(117, 174, 255)\"}}, {\"type\": \"scattergeo\", \"locationmode\": \"USA-states\", \"lon\": [-73.9734, -73.9831], \"lat\": [40.7548, 40.7548], \"mode\": \"lines\", \"line\": {\"width\": 1, \"color\": \"rgb(117, 174, 255)\"}}, {\"type\": \"scattergeo\", \"locationmode\": \"USA-states\", \"lon\": [-73.9831, -73.9814], \"lat\": [40.7548, 40.7636], \"mode\": \"lines\", \"line\": {\"width\": 1, \"color\": \"rgb(117, 174, 255)\"}}, {\"type\": \"scattergeo\", \"locationmode\": \"USA-states\", \"lon\": [-73.9814, -73.9688], \"lat\": [40.7636, 40.7643], \"mode\": \"lines\", \"line\": {\"width\": 1, \"color\": \"rgb(117, 174, 255)\"}}, {\"type\": \"scattergeo\", \"locationmode\": \"USA-states\", \"lon\": [-73.9688, -74.0346], \"lat\": [40.7643, 40.7277], \"mode\": \"lines\", \"line\": {\"width\": 1, \"color\": \"rgb(117, 174, 255)\"}}, {\"type\": \"scattergeo\", \"locationmode\": \"USA-states\", \"lon\": [-74.0346, -74.0346], \"lat\": [40.7277, 40.7277], \"mode\": \"lines\", \"line\": {\"width\": 1, \"color\": \"rgb(117, 174, 255)\"}}, {\"type\": \"scattergeo\", \"locationmode\": \"USA-states\", \"lon\": [-74.0346, -73.9779], \"lat\": [40.7277, 40.7627], \"mode\": \"lines\", \"line\": {\"width\": 1, \"color\": \"rgb(117, 174, 255)\"}}, {\"type\": \"scattergeo\", \"locationmode\": \"USA-states\", \"lon\": [-73.9779, -73.9753], \"lat\": [40.7627, 40.7551], \"mode\": \"lines\", \"line\": {\"width\": 1, \"color\": \"rgb(117, 174, 255)\"}}, {\"type\": \"scattergeo\", \"locationmode\": \"USA-states\", \"lon\": [-73.9753, -73.7822], \"lat\": [40.7551, 40.6449], \"mode\": \"lines\", \"line\": {\"width\": 1, \"color\": \"rgb(117, 174, 255)\"}}, {\"type\": \"scattergeo\", \"locationmode\": \"USA-states\", \"lon\": [-73.7822, -73.99600000000001], \"lat\": [40.6449, 40.7327], \"mode\": \"lines\", \"line\": {\"width\": 1, \"color\": \"rgb(117, 174, 255)\"}}, {\"type\": \"scattergeo\", \"locationmode\": \"USA-states\", \"lon\": [-73.99600000000001, -73.9844], \"lat\": [40.7327, 40.6757], \"mode\": \"lines\", \"line\": {\"width\": 1, \"color\": \"rgb(117, 174, 255)\"}}, {\"type\": \"scattergeo\", \"locationmode\": \"USA-states\", \"lon\": [-73.9844, -73.9848], \"lat\": [40.6757, 40.7414], \"mode\": \"lines\", \"line\": {\"width\": 1, \"color\": \"rgb(117, 174, 255)\"}}, {\"type\": \"scattergeo\", \"locationmode\": \"USA-states\", \"lon\": [-73.9848, -73.9782], \"lat\": [40.7414, 40.7603], \"mode\": \"lines\", \"line\": {\"width\": 1, \"color\": \"rgb(117, 174, 255)\"}}, {\"type\": \"scattergeo\", \"locationmode\": \"USA-states\", \"lon\": [-73.9782, -73.9998], \"lat\": [40.7603, 40.7243], \"mode\": \"lines\", \"line\": {\"width\": 1, \"color\": \"rgb(117, 174, 255)\"}}, {\"type\": \"scattergeo\", \"locationmode\": \"USA-states\", \"lon\": [-73.9998, -73.9692], \"lat\": [40.7243, 40.7666], \"mode\": \"lines\", \"line\": {\"width\": 1, \"color\": \"rgb(117, 174, 255)\"}}, {\"type\": \"scattergeo\", \"locationmode\": \"USA-states\", \"lon\": [-73.9692, -73.9618], \"lat\": [40.7666, 40.7093], \"mode\": \"lines\", \"line\": {\"width\": 1, \"color\": \"rgb(117, 174, 255)\"}}, {\"type\": \"scattergeo\", \"locationmode\": \"USA-states\", \"lon\": [-73.9618, -74.0017], \"lat\": [40.7093, 40.7278], \"mode\": \"lines\", \"line\": {\"width\": 1, \"color\": \"rgb(117, 174, 255)\"}}, {\"type\": \"scattergeo\", \"locationmode\": \"USA-states\", \"lon\": [-74.0017, -73.9768], \"lat\": [40.7278, 40.7545], \"mode\": \"lines\", \"line\": {\"width\": 1, \"color\": \"rgb(117, 174, 255)\"}}, {\"type\": \"scattergeo\", \"locationmode\": \"USA-states\", \"lon\": [-73.9768, -73.9691], \"lat\": [40.7545, 40.7578], \"mode\": \"lines\", \"line\": {\"width\": 1, \"color\": \"rgb(117, 174, 255)\"}}, {\"type\": \"scattergeo\", \"locationmode\": \"USA-states\", \"lon\": [-73.9691, -74.0049], \"lat\": [40.7578, 40.7457], \"mode\": \"lines\", \"line\": {\"width\": 1, \"color\": \"rgb(117, 174, 255)\"}}, {\"type\": \"scattergeo\", \"locationmode\": \"USA-states\", \"lon\": [-74.0049, -73.9913], \"lat\": [40.7457, 40.7414], \"mode\": \"lines\", \"line\": {\"width\": 1, \"color\": \"rgb(117, 174, 255)\"}}, {\"type\": \"scattergeo\", \"locationmode\": \"USA-states\", \"lon\": [-73.9913, -73.9832], \"lat\": [40.7414, 40.7678], \"mode\": \"lines\", \"line\": {\"width\": 1, \"color\": \"rgb(117, 174, 255)\"}}, {\"type\": \"scattergeo\", \"locationmode\": \"USA-states\", \"lon\": [-73.9832, -73.9757], \"lat\": [40.7678, 40.758], \"mode\": \"lines\", \"line\": {\"width\": 1, \"color\": \"rgb(117, 174, 255)\"}}, {\"type\": \"scattergeo\", \"locationmode\": \"USA-states\", \"lon\": [-73.9757, -74.0071], \"lat\": [40.758, 40.7284], \"mode\": \"lines\", \"line\": {\"width\": 1, \"color\": \"rgb(117, 174, 255)\"}}, {\"type\": \"scattergeo\", \"locationmode\": \"USA-states\", \"lon\": [-74.0071, -73.9886], \"lat\": [40.7284, 40.7429], \"mode\": \"lines\", \"line\": {\"width\": 1, \"color\": \"rgb(117, 174, 255)\"}}, {\"type\": \"scattergeo\", \"locationmode\": \"USA-states\", \"lon\": [-73.9886, -73.9765], \"lat\": [40.7429, 40.7591], \"mode\": \"lines\", \"line\": {\"width\": 1, \"color\": \"rgb(117, 174, 255)\"}}, {\"type\": \"scattergeo\", \"locationmode\": \"USA-states\", \"lon\": [-73.9765, -73.9718], \"lat\": [40.7591, 40.763000000000005], \"mode\": \"lines\", \"line\": {\"width\": 1, \"color\": \"rgb(117, 174, 255)\"}}, {\"type\": \"scattergeo\", \"locationmode\": \"USA-states\", \"lon\": [-73.9718, -73.962], \"lat\": [40.763000000000005, 40.7782], \"mode\": \"lines\", \"line\": {\"width\": 1, \"color\": \"rgb(117, 174, 255)\"}}, {\"type\": \"scattergeo\", \"locationmode\": \"USA-states\", \"lon\": [-73.962, -73.962], \"lat\": [40.7782, 40.7782], \"mode\": \"lines\", \"line\": {\"width\": 1, \"color\": \"rgb(117, 174, 255)\"}}, {\"type\": \"scattergeo\", \"locationmode\": \"USA-states\", \"lon\": [-73.962, -74.0079], \"lat\": [40.7782, 40.7445], \"mode\": \"lines\", \"line\": {\"width\": 1, \"color\": \"rgb(117, 174, 255)\"}}, {\"type\": \"scattergeo\", \"locationmode\": \"USA-states\", \"lon\": [-74.0079, -74.0079], \"lat\": [40.7445, 40.7445], \"mode\": \"lines\", \"line\": {\"width\": 1, \"color\": \"rgb(117, 174, 255)\"}}, {\"type\": \"scattergeo\", \"locationmode\": \"USA-states\", \"lon\": [-74.0079, -73.9731], \"lat\": [40.7445, 40.7642], \"mode\": \"lines\", \"line\": {\"width\": 1, \"color\": \"rgb(117, 174, 255)\"}}, {\"type\": \"scattergeo\", \"locationmode\": \"USA-states\", \"lon\": [-73.9731, -73.9569], \"lat\": [40.7642, 40.7211], \"mode\": \"lines\", \"line\": {\"width\": 1, \"color\": \"rgb(117, 174, 255)\"}}, {\"type\": \"scattergeo\", \"locationmode\": \"USA-states\", \"lon\": [-73.9569, -74.0054], \"lat\": [40.7211, 40.7077], \"mode\": \"lines\", \"line\": {\"width\": 1, \"color\": \"rgb(117, 174, 255)\"}}, {\"type\": \"scattergeo\", \"locationmode\": \"USA-states\", \"lon\": [-74.0054, -74.0039], \"lat\": [40.7077, 40.7341], \"mode\": \"lines\", \"line\": {\"width\": 1, \"color\": \"rgb(117, 174, 255)\"}}, {\"type\": \"scattergeo\", \"locationmode\": \"USA-states\", \"lon\": [-74.0039, -73.9523], \"lat\": [40.7341, 40.6164], \"mode\": \"lines\", \"line\": {\"width\": 1, \"color\": \"rgb(117, 174, 255)\"}}, {\"type\": \"scattergeo\", \"locationmode\": \"USA-states\", \"lon\": [-73.9523, -73.9746], \"lat\": [40.6164, 40.7565], \"mode\": \"lines\", \"line\": {\"width\": 1, \"color\": \"rgb(117, 174, 255)\"}}, {\"type\": \"scattergeo\", \"locationmode\": \"USA-states\", \"lon\": [-73.9746, -74.0235], \"lat\": [40.7565, 40.7592], \"mode\": \"lines\", \"line\": {\"width\": 1, \"color\": \"rgb(117, 174, 255)\"}}, {\"type\": \"scattergeo\", \"locationmode\": \"USA-states\", \"lon\": [-74.0235, -73.995], \"lat\": [40.7592, 40.7255], \"mode\": \"lines\", \"line\": {\"width\": 1, \"color\": \"rgb(117, 174, 255)\"}}, {\"type\": \"scattergeo\", \"locationmode\": \"USA-states\", \"lon\": [-73.995, -73.9713], \"lat\": [40.7255, 40.764], \"mode\": \"lines\", \"line\": {\"width\": 1, \"color\": \"rgb(117, 174, 255)\"}}, {\"type\": \"scattergeo\", \"locationmode\": \"USA-states\", \"lon\": [-73.9713, -73.9724], \"lat\": [40.764, 40.7584], \"mode\": \"lines\", \"line\": {\"width\": 1, \"color\": \"rgb(117, 174, 255)\"}}, {\"type\": \"scattergeo\", \"locationmode\": \"USA-states\", \"lon\": [-73.9724, -73.99], \"lat\": [40.7584, 40.741], \"mode\": \"lines\", \"line\": {\"width\": 1, \"color\": \"rgb(117, 174, 255)\"}}, {\"type\": \"scattergeo\", \"locationmode\": \"USA-states\", \"lon\": [-73.99, -73.9989], \"lat\": [40.741, 40.7215], \"mode\": \"lines\", \"line\": {\"width\": 1, \"color\": \"rgb(117, 174, 255)\"}}, {\"type\": \"scattergeo\", \"locationmode\": \"USA-states\", \"lon\": [-73.9989, -73.9751], \"lat\": [40.7215, 40.7558], \"mode\": \"lines\", \"line\": {\"width\": 1, \"color\": \"rgb(117, 174, 255)\"}}, {\"type\": \"scattergeo\", \"locationmode\": \"USA-states\", \"lon\": [-73.9751, -73.9697], \"lat\": [40.7558, 40.7899], \"mode\": \"lines\", \"line\": {\"width\": 1, \"color\": \"rgb(117, 174, 255)\"}}, {\"type\": \"scattergeo\", \"locationmode\": \"USA-states\", \"lon\": [-73.9697, -74.0074], \"lat\": [40.7899, 40.7219], \"mode\": \"lines\", \"line\": {\"width\": 1, \"color\": \"rgb(117, 174, 255)\"}}, {\"type\": \"scattergeo\", \"locationmode\": \"USA-states\", \"lon\": [-74.0074, -74.0076], \"lat\": [40.7219, 40.743], \"mode\": \"lines\", \"line\": {\"width\": 1, \"color\": \"rgb(117, 174, 255)\"}}, {\"type\": \"scattergeo\", \"locationmode\": \"USA-states\", \"lon\": [-74.0076, -73.8625], \"lat\": [40.743, 40.7688], \"mode\": \"lines\", \"line\": {\"width\": 1, \"color\": \"rgb(117, 174, 255)\"}}, {\"type\": \"scattergeo\", \"locationmode\": \"USA-states\", \"lon\": [-73.8625, -74.002], \"lat\": [40.7688, 40.7222], \"mode\": \"lines\", \"line\": {\"width\": 1, \"color\": \"rgb(117, 174, 255)\"}}, {\"type\": \"scattergeo\", \"locationmode\": \"USA-states\", \"lon\": [-74.002, -74.002], \"lat\": [40.7222, 40.7222], \"mode\": \"lines\", \"line\": {\"width\": 1, \"color\": \"rgb(117, 174, 255)\"}}, {\"type\": \"scattergeo\", \"locationmode\": \"USA-states\", \"lon\": [-74.002, -73.9722], \"lat\": [40.7222, 40.7578], \"mode\": \"lines\", \"line\": {\"width\": 1, \"color\": \"rgb(117, 174, 255)\"}}, {\"type\": \"scattergeo\", \"locationmode\": \"USA-states\", \"lon\": [-73.9722, -74.0103], \"lat\": [40.7578, 40.7045], \"mode\": \"lines\", \"line\": {\"width\": 1, \"color\": \"rgb(117, 174, 255)\"}}, {\"type\": \"scattergeo\", \"locationmode\": \"USA-states\", \"lon\": [-74.0103, -73.9835], \"lat\": [40.7045, 40.7624], \"mode\": \"lines\", \"line\": {\"width\": 1, \"color\": \"rgb(117, 174, 255)\"}}, {\"type\": \"scattergeo\", \"locationmode\": \"USA-states\", \"lon\": [-73.9835, -73.9754], \"lat\": [40.7624, 40.7525], \"mode\": \"lines\", \"line\": {\"width\": 1, \"color\": \"rgb(117, 174, 255)\"}}, {\"type\": \"scattergeo\", \"locationmode\": \"USA-states\", \"lon\": [-73.9754, -74.0094], \"lat\": [40.7525, 40.7065], \"mode\": \"lines\", \"line\": {\"width\": 1, \"color\": \"rgb(117, 174, 255)\"}}, {\"type\": \"scattergeo\", \"locationmode\": \"USA-states\", \"lon\": [-74.0094, -74.1689], \"lat\": [40.7065, 40.7354], \"mode\": \"lines\", \"line\": {\"width\": 1, \"color\": \"rgb(117, 174, 255)\"}}, {\"type\": \"scattergeo\", \"locationmode\": \"USA-states\", \"lon\": [-74.1689, -73.9548], \"lat\": [40.7354, 40.7733], \"mode\": \"lines\", \"line\": {\"width\": 1, \"color\": \"rgb(117, 174, 255)\"}}, {\"type\": \"scattergeo\", \"locationmode\": \"USA-states\", \"lon\": [-73.9548, -73.9984], \"lat\": [40.7733, 40.7287], \"mode\": \"lines\", \"line\": {\"width\": 1, \"color\": \"rgb(117, 174, 255)\"}}, {\"type\": \"scattergeo\", \"locationmode\": \"USA-states\", \"lon\": [-73.9984, -73.9951], \"lat\": [40.7287, 40.7123], \"mode\": \"lines\", \"line\": {\"width\": 1, \"color\": \"rgb(117, 174, 255)\"}}, {\"type\": \"scattergeo\", \"locationmode\": \"USA-states\", \"lon\": [-73.9951, -73.979], \"lat\": [40.7123, 40.7608], \"mode\": \"lines\", \"line\": {\"width\": 1, \"color\": \"rgb(117, 174, 255)\"}}, {\"type\": \"scattergeo\", \"locationmode\": \"USA-states\", \"lon\": [-73.979, -73.9539], \"lat\": [40.7608, 40.7843], \"mode\": \"lines\", \"line\": {\"width\": 1, \"color\": \"rgb(117, 174, 255)\"}}, {\"type\": \"scattergeo\", \"locationmode\": \"USA-states\", \"lon\": [-73.9539, -73.9539], \"lat\": [40.7843, 40.7843], \"mode\": \"lines\", \"line\": {\"width\": 1, \"color\": \"rgb(117, 174, 255)\"}}, {\"type\": \"scattergeo\", \"locationmode\": \"USA-states\", \"lon\": [-73.9539, -73.9975], \"lat\": [40.7843, 40.6836], \"mode\": \"lines\", \"line\": {\"width\": 1, \"color\": \"rgb(117, 174, 255)\"}}, {\"type\": \"scattergeo\", \"locationmode\": \"USA-states\", \"lon\": [-73.9975, -73.9949], \"lat\": [40.6836, 40.6971], \"mode\": \"lines\", \"line\": {\"width\": 1, \"color\": \"rgb(117, 174, 255)\"}}, {\"type\": \"scattergeo\", \"locationmode\": \"USA-states\", \"lon\": [-73.9949, -74.183], \"lat\": [40.6971, 40.6881], \"mode\": \"lines\", \"line\": {\"width\": 1, \"color\": \"rgb(117, 174, 255)\"}}, {\"type\": \"scattergeo\", \"locationmode\": \"USA-states\", \"lon\": [-74.183, -73.9918], \"lat\": [40.6881, 40.7417], \"mode\": \"lines\", \"line\": {\"width\": 1, \"color\": \"rgb(117, 174, 255)\"}}, {\"type\": \"scattergeo\", \"locationmode\": \"USA-states\", \"lon\": [-73.9918, -73.9754], \"lat\": [40.7417, 40.7605], \"mode\": \"lines\", \"line\": {\"width\": 1, \"color\": \"rgb(117, 174, 255)\"}}, {\"type\": \"scattergeo\", \"locationmode\": \"USA-states\", \"lon\": [-73.9754, -73.9813], \"lat\": [40.7605, 40.7641], \"mode\": \"lines\", \"line\": {\"width\": 1, \"color\": \"rgb(117, 174, 255)\"}}, {\"type\": \"scattergeo\", \"locationmode\": \"USA-states\", \"lon\": [-73.9813, -73.9998], \"lat\": [40.7641, 40.727], \"mode\": \"lines\", \"line\": {\"width\": 1, \"color\": \"rgb(117, 174, 255)\"}}, {\"type\": \"scattergeo\", \"locationmode\": \"USA-states\", \"lon\": [-73.9998, -73.9908], \"lat\": [40.727, 40.7453], \"mode\": \"lines\", \"line\": {\"width\": 1, \"color\": \"rgb(117, 174, 255)\"}}, {\"type\": \"scattergeo\", \"locationmode\": \"USA-states\", \"lon\": [-73.9908, -73.9552], \"lat\": [40.7453, 40.714], \"mode\": \"lines\", \"line\": {\"width\": 1, \"color\": \"rgb(117, 174, 255)\"}}, {\"type\": \"scattergeo\", \"locationmode\": \"USA-states\", \"lon\": [-73.9552, -73.9888], \"lat\": [40.714, 40.7368], \"mode\": \"lines\", \"line\": {\"width\": 1, \"color\": \"rgb(117, 174, 255)\"}}, {\"type\": \"scattergeo\", \"locationmode\": \"USA-states\", \"lon\": [-73.9888, -73.9865], \"lat\": [40.7368, 40.7321], \"mode\": \"lines\", \"line\": {\"width\": 1, \"color\": \"rgb(117, 174, 255)\"}}, {\"type\": \"scattergeo\", \"locationmode\": \"USA-states\", \"lon\": [-73.9865, -73.979], \"lat\": [40.7321, 40.764], \"mode\": \"lines\", \"line\": {\"width\": 1, \"color\": \"rgb(117, 174, 255)\"}}, {\"type\": \"scattergeo\", \"locationmode\": \"USA-states\", \"lon\": [-73.979, -74.0068], \"lat\": [40.764, 40.7308], \"mode\": \"lines\", \"line\": {\"width\": 1, \"color\": \"rgb(117, 174, 255)\"}}, {\"type\": \"scattergeo\", \"locationmode\": \"USA-states\", \"lon\": [-74.0068, -73.9764], \"lat\": [40.7308, 40.7541], \"mode\": \"lines\", \"line\": {\"width\": 1, \"color\": \"rgb(117, 174, 255)\"}}, {\"type\": \"scattergeo\", \"locationmode\": \"USA-states\", \"lon\": [-73.9764, -73.992], \"lat\": [40.7541, 40.7408], \"mode\": \"lines\", \"line\": {\"width\": 1, \"color\": \"rgb(117, 174, 255)\"}}, {\"type\": \"scattergeo\", \"locationmode\": \"USA-states\", \"lon\": [-73.992, -73.9751], \"lat\": [40.7408, 40.7581], \"mode\": \"lines\", \"line\": {\"width\": 1, \"color\": \"rgb(117, 174, 255)\"}}, {\"type\": \"scattergeo\", \"locationmode\": \"USA-states\", \"lon\": [-73.9751, -74.0036], \"lat\": [40.7581, 40.7234], \"mode\": \"lines\", \"line\": {\"width\": 1, \"color\": \"rgb(117, 174, 255)\"}}, {\"type\": \"scattergeo\", \"locationmode\": \"USA-states\", \"lon\": [-74.0036, -73.9558], \"lat\": [40.7234, 40.7727], \"mode\": \"lines\", \"line\": {\"width\": 1, \"color\": \"rgb(117, 174, 255)\"}}, {\"type\": \"scattergeo\", \"locationmode\": \"USA-states\", \"lon\": [-73.9558, -73.9769], \"lat\": [40.7727, 40.7625], \"mode\": \"lines\", \"line\": {\"width\": 1, \"color\": \"rgb(117, 174, 255)\"}}, {\"type\": \"scattergeo\", \"locationmode\": \"USA-states\", \"lon\": [-73.9769, -74.0308], \"lat\": [40.7625, 40.738], \"mode\": \"lines\", \"line\": {\"width\": 1, \"color\": \"rgb(117, 174, 255)\"}}, {\"type\": \"scattergeo\", \"locationmode\": \"USA-states\", \"lon\": [-74.0308, -73.9862], \"lat\": [40.738, 40.7517], \"mode\": \"lines\", \"line\": {\"width\": 1, \"color\": \"rgb(117, 174, 255)\"}}, {\"type\": \"scattergeo\", \"locationmode\": \"USA-states\", \"lon\": [-73.9862, -74.0057], \"lat\": [40.7517, 40.7274], \"mode\": \"lines\", \"line\": {\"width\": 1, \"color\": \"rgb(117, 174, 255)\"}}, {\"type\": \"scattergeo\", \"locationmode\": \"USA-states\", \"lon\": [-74.0057, -73.9969], \"lat\": [40.7274, 40.7324], \"mode\": \"lines\", \"line\": {\"width\": 1, \"color\": \"rgb(117, 174, 255)\"}}, {\"type\": \"scattergeo\", \"locationmode\": \"USA-states\", \"lon\": [-73.9969, -74.0461], \"lat\": [40.7324, 40.7304], \"mode\": \"lines\", \"line\": {\"width\": 1, \"color\": \"rgb(117, 174, 255)\"}}, {\"type\": \"scattergeo\", \"locationmode\": \"USA-states\", \"lon\": [-74.0461, -73.9847], \"lat\": [40.7304, 40.7104], \"mode\": \"lines\", \"line\": {\"width\": 1, \"color\": \"rgb(117, 174, 255)\"}}, {\"type\": \"scattergeo\", \"locationmode\": \"USA-states\", \"lon\": [-73.9847, -73.984], \"lat\": [40.7104, 40.7441], \"mode\": \"lines\", \"line\": {\"width\": 1, \"color\": \"rgb(117, 174, 255)\"}}, {\"type\": \"scattergeo\", \"locationmode\": \"USA-states\", \"lon\": [-73.984, -73.9439], \"lat\": [40.7441, 40.8262], \"mode\": \"lines\", \"line\": {\"width\": 1, \"color\": \"rgb(117, 174, 255)\"}}, {\"type\": \"scattergeo\", \"locationmode\": \"USA-states\", \"lon\": [-73.9439, -74.0042], \"lat\": [40.8262, 40.7218], \"mode\": \"lines\", \"line\": {\"width\": 1, \"color\": \"rgb(117, 174, 255)\"}}, {\"type\": \"scattergeo\", \"locationmode\": \"USA-states\", \"lon\": [-74.0042, -73.9828], \"lat\": [40.7218, 40.7594], \"mode\": \"lines\", \"line\": {\"width\": 1, \"color\": \"rgb(117, 174, 255)\"}}, {\"type\": \"scattergeo\", \"locationmode\": \"USA-states\", \"lon\": [-73.9828, -74.0077], \"lat\": [40.7594, 40.7327], \"mode\": \"lines\", \"line\": {\"width\": 1, \"color\": \"rgb(117, 174, 255)\"}}, {\"type\": \"scattergeo\", \"locationmode\": \"USA-states\", \"lon\": [-74.0077, -73.9825], \"lat\": [40.7327, 40.7616], \"mode\": \"lines\", \"line\": {\"width\": 1, \"color\": \"rgb(117, 174, 255)\"}}, {\"type\": \"scattergeo\", \"locationmode\": \"USA-states\", \"lon\": [-73.9825, -73.9624], \"lat\": [40.7616, 40.759], \"mode\": \"lines\", \"line\": {\"width\": 1, \"color\": \"rgb(117, 174, 255)\"}}, {\"type\": \"scattergeo\", \"locationmode\": \"USA-states\", \"lon\": [-73.9624, -74.181], \"lat\": [40.759, 40.6879], \"mode\": \"lines\", \"line\": {\"width\": 1, \"color\": \"rgb(117, 174, 255)\"}}, {\"type\": \"scattergeo\", \"locationmode\": \"USA-states\", \"lon\": [-74.181, -73.8232], \"lat\": [40.6879, 40.7122], \"mode\": \"lines\", \"line\": {\"width\": 1, \"color\": \"rgb(117, 174, 255)\"}}, {\"type\": \"scattergeo\", \"locationmode\": \"USA-states\", \"lon\": [-73.8232, -73.9766], \"lat\": [40.7122, 40.764], \"mode\": \"lines\", \"line\": {\"width\": 1, \"color\": \"rgb(117, 174, 255)\"}}, {\"type\": \"scattergeo\", \"locationmode\": \"USA-states\", \"lon\": [-73.9766, -74.0024], \"lat\": [40.764, 40.7167], \"mode\": \"lines\", \"line\": {\"width\": 1, \"color\": \"rgb(117, 174, 255)\"}}, {\"type\": \"scattergeo\", \"locationmode\": \"USA-states\", \"lon\": [-74.0024, -74.1798], \"lat\": [40.7167, 40.6953], \"mode\": \"lines\", \"line\": {\"width\": 1, \"color\": \"rgb(117, 174, 255)\"}}, {\"type\": \"scattergeo\", \"locationmode\": \"USA-states\", \"lon\": [-74.1798, -74.0021], \"lat\": [40.6953, 40.7371], \"mode\": \"lines\", \"line\": {\"width\": 1, \"color\": \"rgb(117, 174, 255)\"}}, {\"type\": \"scattergeo\", \"locationmode\": \"USA-states\", \"lon\": [-74.0021, -73.9792], \"lat\": [40.7371, 40.7437], \"mode\": \"lines\", \"line\": {\"width\": 1, \"color\": \"rgb(117, 174, 255)\"}}, {\"type\": \"scattergeo\", \"locationmode\": \"USA-states\", \"lon\": [-73.9792, -73.9729], \"lat\": [40.7437, 40.751], \"mode\": \"lines\", \"line\": {\"width\": 1, \"color\": \"rgb(117, 174, 255)\"}}, {\"type\": \"scattergeo\", \"locationmode\": \"USA-states\", \"lon\": [-73.9729, -73.6507], \"lat\": [40.751, 40.7999], \"mode\": \"lines\", \"line\": {\"width\": 1, \"color\": \"rgb(117, 174, 255)\"}}, {\"type\": \"scattergeo\", \"locationmode\": \"USA-states\", \"lon\": [-73.6507, -73.9962], \"lat\": [40.7999, 40.7261], \"mode\": \"lines\", \"line\": {\"width\": 1, \"color\": \"rgb(117, 174, 255)\"}}, {\"type\": \"scattergeo\", \"locationmode\": \"USA-states\", \"lon\": [-73.9962, -73.9867], \"lat\": [40.7261, 40.702], \"mode\": \"lines\", \"line\": {\"width\": 1, \"color\": \"rgb(117, 174, 255)\"}}, {\"type\": \"scattergeo\", \"locationmode\": \"USA-states\", \"lon\": [-73.9867, -73.7899], \"lat\": [40.702, 40.6436], \"mode\": \"lines\", \"line\": {\"width\": 1, \"color\": \"rgb(117, 174, 255)\"}}, {\"type\": \"scattergeo\", \"locationmode\": \"USA-states\", \"lon\": [-73.7899, -73.987], \"lat\": [40.6436, 40.7295], \"mode\": \"lines\", \"line\": {\"width\": 1, \"color\": \"rgb(117, 174, 255)\"}}, {\"type\": \"scattergeo\", \"locationmode\": \"USA-states\", \"lon\": [-73.987, -74.015], \"lat\": [40.7295, 40.7102], \"mode\": \"lines\", \"line\": {\"width\": 1, \"color\": \"rgb(117, 174, 255)\"}}, {\"type\": \"scattergeo\", \"locationmode\": \"USA-states\", \"lon\": [-74.015, -73.9777], \"lat\": [40.7102, 40.7592], \"mode\": \"lines\", \"line\": {\"width\": 1, \"color\": \"rgb(117, 174, 255)\"}}, {\"type\": \"scattergeo\", \"locationmode\": \"USA-states\", \"lon\": [-73.9777, -73.9638], \"lat\": [40.7592, 40.7995], \"mode\": \"lines\", \"line\": {\"width\": 1, \"color\": \"rgb(117, 174, 255)\"}}, {\"type\": \"scattergeo\", \"locationmode\": \"USA-states\", \"lon\": [-73.9638, -74.0056], \"lat\": [40.7995, 40.7333], \"mode\": \"lines\", \"line\": {\"width\": 1, \"color\": \"rgb(117, 174, 255)\"}}, {\"type\": \"scattergeo\", \"locationmode\": \"USA-states\", \"lon\": [-74.0056, -74.2143], \"lat\": [40.7333, 40.8132], \"mode\": \"lines\", \"line\": {\"width\": 1, \"color\": \"rgb(117, 174, 255)\"}}, {\"type\": \"scattergeo\", \"locationmode\": \"USA-states\", \"lon\": [-74.2143, -73.9917], \"lat\": [40.8132, 40.7384], \"mode\": \"lines\", \"line\": {\"width\": 1, \"color\": \"rgb(117, 174, 255)\"}}, {\"type\": \"scattergeo\", \"locationmode\": \"USA-states\", \"lon\": [-73.9917, -74.0027], \"lat\": [40.7384, 40.7236], \"mode\": \"lines\", \"line\": {\"width\": 1, \"color\": \"rgb(117, 174, 255)\"}}, {\"type\": \"scattergeo\", \"locationmode\": \"USA-states\", \"lon\": [-74.0027, -73.9766], \"lat\": [40.7236, 40.764], \"mode\": \"lines\", \"line\": {\"width\": 1, \"color\": \"rgb(117, 174, 255)\"}}, {\"type\": \"scattergeo\", \"locationmode\": \"USA-states\", \"lon\": [-73.9766, -73.9664], \"lat\": [40.764, 40.7533], \"mode\": \"lines\", \"line\": {\"width\": 1, \"color\": \"rgb(117, 174, 255)\"}}, {\"type\": \"scattergeo\", \"locationmode\": \"USA-states\", \"lon\": [-73.9664, -73.9794], \"lat\": [40.7533, 40.7636], \"mode\": \"lines\", \"line\": {\"width\": 1, \"color\": \"rgb(117, 174, 255)\"}}, {\"type\": \"scattergeo\", \"locationmode\": \"USA-states\", \"lon\": [-73.9794, -74.0076], \"lat\": [40.7636, 40.7322], \"mode\": \"lines\", \"line\": {\"width\": 1, \"color\": \"rgb(117, 174, 255)\"}}, {\"type\": \"scattergeo\", \"locationmode\": \"USA-states\", \"lon\": [-74.0076, -74.0101], \"lat\": [40.7322, 40.7146], \"mode\": \"lines\", \"line\": {\"width\": 1, \"color\": \"rgb(117, 174, 255)\"}}, {\"type\": \"scattergeo\", \"locationmode\": \"USA-states\", \"lon\": [-74.0101, -74.0347], \"lat\": [40.7146, 40.7271], \"mode\": \"lines\", \"line\": {\"width\": 1, \"color\": \"rgb(117, 174, 255)\"}}, {\"type\": \"scattergeo\", \"locationmode\": \"USA-states\", \"lon\": [-74.0347, -74.009], \"lat\": [40.7271, 40.7475], \"mode\": \"lines\", \"line\": {\"width\": 1, \"color\": \"rgb(117, 174, 255)\"}}, {\"type\": \"scattergeo\", \"locationmode\": \"USA-states\", \"lon\": [-74.009, -73.8626], \"lat\": [40.7475, 40.7685], \"mode\": \"lines\", \"line\": {\"width\": 1, \"color\": \"rgb(117, 174, 255)\"}}, {\"type\": \"scattergeo\", \"locationmode\": \"USA-states\", \"lon\": [-73.8626, -73.8626], \"lat\": [40.7685, 40.7685], \"mode\": \"lines\", \"line\": {\"width\": 1, \"color\": \"rgb(117, 174, 255)\"}}, {\"type\": \"scattergeo\", \"locationmode\": \"USA-states\", \"lon\": [-73.8626, -73.9829], \"lat\": [40.7685, 40.7218], \"mode\": \"lines\", \"line\": {\"width\": 1, \"color\": \"rgb(117, 174, 255)\"}}, {\"type\": \"scattergeo\", \"locationmode\": \"USA-states\", \"lon\": [-73.9829, -73.7822], \"lat\": [40.7218, 40.6449], \"mode\": \"lines\", \"line\": {\"width\": 1, \"color\": \"rgb(117, 174, 255)\"}}, {\"type\": \"scattergeo\", \"locationmode\": \"USA-states\", \"lon\": [-73.7822, -73.9937], \"lat\": [40.6449, 40.7274], \"mode\": \"lines\", \"line\": {\"width\": 1, \"color\": \"rgb(117, 174, 255)\"}}, {\"type\": \"scattergeo\", \"locationmode\": \"USA-states\", \"lon\": [-73.9937, -73.9856], \"lat\": [40.7274, 40.73], \"mode\": \"lines\", \"line\": {\"width\": 1, \"color\": \"rgb(117, 174, 255)\"}}, {\"type\": \"scattergeo\", \"locationmode\": \"USA-states\", \"lon\": [-73.9856, -74.0323], \"lat\": [40.73, 40.7195], \"mode\": \"lines\", \"line\": {\"width\": 1, \"color\": \"rgb(117, 174, 255)\"}}, {\"type\": \"scattergeo\", \"locationmode\": \"USA-states\", \"lon\": [-74.0323, -74.0323], \"lat\": [40.7195, 40.7195], \"mode\": \"lines\", \"line\": {\"width\": 1, \"color\": \"rgb(117, 174, 255)\"}}, {\"type\": \"scattergeo\", \"locationmode\": \"USA-states\", \"lon\": [-74.0323, -73.9847], \"lat\": [40.7195, 40.7103], \"mode\": \"lines\", \"line\": {\"width\": 1, \"color\": \"rgb(117, 174, 255)\"}}, {\"type\": \"scattergeo\", \"locationmode\": \"USA-states\", \"lon\": [-73.9847, -73.977], \"lat\": [40.7103, 40.7516], \"mode\": \"lines\", \"line\": {\"width\": 1, \"color\": \"rgb(117, 174, 255)\"}}, {\"type\": \"scattergeo\", \"locationmode\": \"USA-states\", \"lon\": [-73.977, -73.979], \"lat\": [40.7516, 40.7608], \"mode\": \"lines\", \"line\": {\"width\": 1, \"color\": \"rgb(117, 174, 255)\"}}, {\"type\": \"scattergeo\", \"locationmode\": \"USA-states\", \"lon\": [-73.979, -73.9754], \"lat\": [40.7608, 40.7636], \"mode\": \"lines\", \"line\": {\"width\": 1, \"color\": \"rgb(117, 174, 255)\"}}, {\"type\": \"scattergeo\", \"locationmode\": \"USA-states\", \"lon\": [-73.9754, -73.9776], \"lat\": [40.7636, 40.7588], \"mode\": \"lines\", \"line\": {\"width\": 1, \"color\": \"rgb(117, 174, 255)\"}}, {\"type\": \"scattergeo\", \"locationmode\": \"USA-states\", \"lon\": [-73.9776, -74.0055], \"lat\": [40.7588, 40.742], \"mode\": \"lines\", \"line\": {\"width\": 1, \"color\": \"rgb(117, 174, 255)\"}}, {\"type\": \"scattergeo\", \"locationmode\": \"USA-states\", \"lon\": [-74.0055, -73.9931], \"lat\": [40.742, 40.7497], \"mode\": \"lines\", \"line\": {\"width\": 1, \"color\": \"rgb(117, 174, 255)\"}}, {\"type\": \"scattergeo\", \"locationmode\": \"USA-states\", \"lon\": [-73.9931, -73.9934], \"lat\": [40.7497, 40.7399], \"mode\": \"lines\", \"line\": {\"width\": 1, \"color\": \"rgb(117, 174, 255)\"}}, {\"type\": \"scattergeo\", \"locationmode\": \"USA-states\", \"lon\": [-73.9934, -73.998], \"lat\": [40.7399, 40.736999999999995], \"mode\": \"lines\", \"line\": {\"width\": 1, \"color\": \"rgb(117, 174, 255)\"}}, {\"type\": \"scattergeo\", \"locationmode\": \"USA-states\", \"lon\": [-73.998, -74.01], \"lat\": [40.736999999999995, 40.7345], \"mode\": \"lines\", \"line\": {\"width\": 1, \"color\": \"rgb(117, 174, 255)\"}}, {\"type\": \"scattergeo\", \"locationmode\": \"USA-states\", \"lon\": [-74.01, -73.956], \"lat\": [40.7345, 40.7737], \"mode\": \"lines\", \"line\": {\"width\": 1, \"color\": \"rgb(117, 174, 255)\"}}, {\"type\": \"scattergeo\", \"locationmode\": \"USA-states\", \"lon\": [-73.956, -74.0083], \"lat\": [40.7737, 40.7233], \"mode\": \"lines\", \"line\": {\"width\": 1, \"color\": \"rgb(117, 174, 255)\"}}, {\"type\": \"scattergeo\", \"locationmode\": \"USA-states\", \"lon\": [-74.0083, -74.0339], \"lat\": [40.7233, 40.7186], \"mode\": \"lines\", \"line\": {\"width\": 1, \"color\": \"rgb(117, 174, 255)\"}}, {\"type\": \"scattergeo\", \"locationmode\": \"USA-states\", \"lon\": [-74.0339, -74.0339], \"lat\": [40.7186, 40.7186], \"mode\": \"lines\", \"line\": {\"width\": 1, \"color\": \"rgb(117, 174, 255)\"}}, {\"type\": \"scattergeo\", \"locationmode\": \"USA-states\", \"lon\": [-74.0339, -74.001], \"lat\": [40.7186, 40.7308], \"mode\": \"lines\", \"line\": {\"width\": 1, \"color\": \"rgb(117, 174, 255)\"}}, {\"type\": \"scattergeo\", \"locationmode\": \"USA-states\", \"lon\": [-74.001, -73.9893], \"lat\": [40.7308, 40.7546], \"mode\": \"lines\", \"line\": {\"width\": 1, \"color\": \"rgb(117, 174, 255)\"}}, {\"type\": \"scattergeo\", \"locationmode\": \"USA-states\", \"lon\": [-73.9893, -74.0228], \"lat\": [40.7546, 40.7592], \"mode\": \"lines\", \"line\": {\"width\": 1, \"color\": \"rgb(117, 174, 255)\"}}, {\"type\": \"scattergeo\", \"locationmode\": \"USA-states\", \"lon\": [-74.0228, -73.9731], \"lat\": [40.7592, 40.7555], \"mode\": \"lines\", \"line\": {\"width\": 1, \"color\": \"rgb(117, 174, 255)\"}}, {\"type\": \"scattergeo\", \"locationmode\": \"USA-states\", \"lon\": [-73.9731, -73.9807], \"lat\": [40.7555, 40.7649], \"mode\": \"lines\", \"line\": {\"width\": 1, \"color\": \"rgb(117, 174, 255)\"}}, {\"type\": \"scattergeo\", \"locationmode\": \"USA-states\", \"lon\": [-73.9807, -73.9845], \"lat\": [40.7649, 40.7617], \"mode\": \"lines\", \"line\": {\"width\": 1, \"color\": \"rgb(117, 174, 255)\"}}, {\"type\": \"scattergeo\", \"locationmode\": \"USA-states\", \"lon\": [-73.9845, -74.0635], \"lat\": [40.7617, 40.7138], \"mode\": \"lines\", \"line\": {\"width\": 1, \"color\": \"rgb(117, 174, 255)\"}}, {\"type\": \"scattergeo\", \"locationmode\": \"USA-states\", \"lon\": [-74.0635, -73.9934], \"lat\": [40.7138, 40.7218], \"mode\": \"lines\", \"line\": {\"width\": 1, \"color\": \"rgb(117, 174, 255)\"}}, {\"type\": \"scattergeo\", \"locationmode\": \"USA-states\", \"lon\": [-73.9934, -73.9794], \"lat\": [40.7218, 40.7203], \"mode\": \"lines\", \"line\": {\"width\": 1, \"color\": \"rgb(117, 174, 255)\"}}, {\"type\": \"scattergeo\", \"locationmode\": \"USA-states\", \"lon\": [-73.9794, -73.9931], \"lat\": [40.7203, 40.7324], \"mode\": \"lines\", \"line\": {\"width\": 1, \"color\": \"rgb(117, 174, 255)\"}}, {\"type\": \"scattergeo\", \"locationmode\": \"USA-states\", \"lon\": [-73.9931, -73.9907], \"lat\": [40.7324, 40.7035], \"mode\": \"lines\", \"line\": {\"width\": 1, \"color\": \"rgb(117, 174, 255)\"}}, {\"type\": \"scattergeo\", \"locationmode\": \"USA-states\", \"lon\": [-73.9907, -73.9694], \"lat\": [40.7035, 40.7636], \"mode\": \"lines\", \"line\": {\"width\": 1, \"color\": \"rgb(117, 174, 255)\"}}, {\"type\": \"scattergeo\", \"locationmode\": \"USA-states\", \"lon\": [-73.9694, -73.9899], \"lat\": [40.7636, 40.7498], \"mode\": \"lines\", \"line\": {\"width\": 1, \"color\": \"rgb(117, 174, 255)\"}}, {\"type\": \"scattergeo\", \"locationmode\": \"USA-states\", \"lon\": [-73.9899, -73.9792], \"lat\": [40.7498, 40.7634], \"mode\": \"lines\", \"line\": {\"width\": 1, \"color\": \"rgb(117, 174, 255)\"}}, {\"type\": \"scattergeo\", \"locationmode\": \"USA-states\", \"lon\": [-73.9792, -73.9758], \"lat\": [40.7634, 40.7655], \"mode\": \"lines\", \"line\": {\"width\": 1, \"color\": \"rgb(117, 174, 255)\"}}, {\"type\": \"scattergeo\", \"locationmode\": \"USA-states\", \"lon\": [-73.9758, -73.9834], \"lat\": [40.7655, 40.6728], \"mode\": \"lines\", \"line\": {\"width\": 1, \"color\": \"rgb(117, 174, 255)\"}}, {\"type\": \"scattergeo\", \"locationmode\": \"USA-states\", \"lon\": [-73.9834, -73.9787], \"lat\": [40.6728, 40.7626], \"mode\": \"lines\", \"line\": {\"width\": 1, \"color\": \"rgb(117, 174, 255)\"}}, {\"type\": \"scattergeo\", \"locationmode\": \"USA-states\", \"lon\": [-73.9787, -74.0068], \"lat\": [40.7626, 40.7406], \"mode\": \"lines\", \"line\": {\"width\": 1, \"color\": \"rgb(117, 174, 255)\"}}, {\"type\": \"scattergeo\", \"locationmode\": \"USA-states\", \"lon\": [-74.0068, -73.9706], \"lat\": [40.7406, 40.7605], \"mode\": \"lines\", \"line\": {\"width\": 1, \"color\": \"rgb(117, 174, 255)\"}}, {\"type\": \"scattergeo\", \"locationmode\": \"USA-states\", \"lon\": [-73.9706, -73.9706], \"lat\": [40.7605, 40.7605], \"mode\": \"lines\", \"line\": {\"width\": 1, \"color\": \"rgb(117, 174, 255)\"}}, {\"type\": \"scattergeo\", \"locationmode\": \"USA-states\", \"lon\": [-73.9706, -73.9785], \"lat\": [40.7605, 40.7615], \"mode\": \"lines\", \"line\": {\"width\": 1, \"color\": \"rgb(117, 174, 255)\"}}, {\"type\": \"scattergeo\", \"locationmode\": \"USA-states\", \"lon\": [-73.9785, -73.9742], \"lat\": [40.7615, 40.7573], \"mode\": \"lines\", \"line\": {\"width\": 1, \"color\": \"rgb(117, 174, 255)\"}}, {\"type\": \"scattergeo\", \"locationmode\": \"USA-states\", \"lon\": [-73.9742, -73.8847], \"lat\": [40.7573, 40.6609], \"mode\": \"lines\", \"line\": {\"width\": 1, \"color\": \"rgb(117, 174, 255)\"}}, {\"type\": \"scattergeo\", \"locationmode\": \"USA-states\", \"lon\": [-73.8847, -73.9795], \"lat\": [40.6609, 40.7587], \"mode\": \"lines\", \"line\": {\"width\": 1, \"color\": \"rgb(117, 174, 255)\"}}, {\"type\": \"scattergeo\", \"locationmode\": \"USA-states\", \"lon\": [-73.9795, -73.9959], \"lat\": [40.7587, 40.7321], \"mode\": \"lines\", \"line\": {\"width\": 1, \"color\": \"rgb(117, 174, 255)\"}}, {\"type\": \"scattergeo\", \"locationmode\": \"USA-states\", \"lon\": [-73.9959, -73.9872], \"lat\": [40.7321, 40.7551], \"mode\": \"lines\", \"line\": {\"width\": 1, \"color\": \"rgb(117, 174, 255)\"}}, {\"type\": \"scattergeo\", \"locationmode\": \"USA-states\", \"lon\": [-73.9872, -74.0081], \"lat\": [40.7551, 40.7462], \"mode\": \"lines\", \"line\": {\"width\": 1, \"color\": \"rgb(117, 174, 255)\"}}, {\"type\": \"scattergeo\", \"locationmode\": \"USA-states\", \"lon\": [-74.0081, -73.9921], \"lat\": [40.7462, 40.7251], \"mode\": \"lines\", \"line\": {\"width\": 1, \"color\": \"rgb(117, 174, 255)\"}}, {\"type\": \"scattergeo\", \"locationmode\": \"USA-states\", \"lon\": [-73.9921, -73.9946], \"lat\": [40.7251, 40.7257], \"mode\": \"lines\", \"line\": {\"width\": 1, \"color\": \"rgb(117, 174, 255)\"}}, {\"type\": \"scattergeo\", \"locationmode\": \"USA-states\", \"lon\": [-73.9946, -73.9922], \"lat\": [40.7257, 40.7494], \"mode\": \"lines\", \"line\": {\"width\": 1, \"color\": \"rgb(117, 174, 255)\"}}, {\"type\": \"scattergeo\", \"locationmode\": \"USA-states\", \"lon\": [-73.9922, -73.9744], \"lat\": [40.7494, 40.7537], \"mode\": \"lines\", \"line\": {\"width\": 1, \"color\": \"rgb(117, 174, 255)\"}}, {\"type\": \"scattergeo\", \"locationmode\": \"USA-states\", \"lon\": [-73.9744, -73.983], \"lat\": [40.7537, 40.7693], \"mode\": \"lines\", \"line\": {\"width\": 1, \"color\": \"rgb(117, 174, 255)\"}}, {\"type\": \"scattergeo\", \"locationmode\": \"USA-states\", \"lon\": [-73.983, -73.97800000000001], \"lat\": [40.7693, 40.7575], \"mode\": \"lines\", \"line\": {\"width\": 1, \"color\": \"rgb(117, 174, 255)\"}}, {\"type\": \"scattergeo\", \"locationmode\": \"USA-states\", \"lon\": [-73.97800000000001, -73.9774], \"lat\": [40.7575, 40.7644], \"mode\": \"lines\", \"line\": {\"width\": 1, \"color\": \"rgb(117, 174, 255)\"}}, {\"type\": \"scattergeo\", \"locationmode\": \"USA-states\", \"lon\": [-73.9774, -74.0096], \"lat\": [40.7644, 40.7461], \"mode\": \"lines\", \"line\": {\"width\": 1, \"color\": \"rgb(117, 174, 255)\"}}, {\"type\": \"scattergeo\", \"locationmode\": \"USA-states\", \"lon\": [-74.0096, -73.9867], \"lat\": [40.7461, 40.7017], \"mode\": \"lines\", \"line\": {\"width\": 1, \"color\": \"rgb(117, 174, 255)\"}}, {\"type\": \"scattergeo\", \"locationmode\": \"USA-states\", \"lon\": [-73.9867, -73.9938], \"lat\": [40.7017, 40.7272], \"mode\": \"lines\", \"line\": {\"width\": 1, \"color\": \"rgb(117, 174, 255)\"}}, {\"type\": \"scattergeo\", \"locationmode\": \"USA-states\", \"lon\": [-73.9938, -73.9877], \"lat\": [40.7272, 40.7294], \"mode\": \"lines\", \"line\": {\"width\": 1, \"color\": \"rgb(117, 174, 255)\"}}, {\"type\": \"scattergeo\", \"locationmode\": \"USA-states\", \"lon\": [-73.9877, -73.9927], \"lat\": [40.7294, 40.7366], \"mode\": \"lines\", \"line\": {\"width\": 1, \"color\": \"rgb(117, 174, 255)\"}}, {\"type\": \"scattergeo\", \"locationmode\": \"USA-states\", \"lon\": [-73.9927, -74.0038], \"lat\": [40.7366, 40.7419], \"mode\": \"lines\", \"line\": {\"width\": 1, \"color\": \"rgb(117, 174, 255)\"}}, {\"type\": \"scattergeo\", \"locationmode\": \"USA-states\", \"lon\": [-74.0038, -73.9794], \"lat\": [40.7419, 40.7614], \"mode\": \"lines\", \"line\": {\"width\": 1, \"color\": \"rgb(117, 174, 255)\"}}, {\"type\": \"scattergeo\", \"locationmode\": \"USA-states\", \"lon\": [-73.9794, -74.0808], \"lat\": [40.7614, 40.7094], \"mode\": \"lines\", \"line\": {\"width\": 1, \"color\": \"rgb(117, 174, 255)\"}}, {\"type\": \"scattergeo\", \"locationmode\": \"USA-states\", \"lon\": [-74.0808, -73.9725], \"lat\": [40.7094, 40.7636], \"mode\": \"lines\", \"line\": {\"width\": 1, \"color\": \"rgb(117, 174, 255)\"}}, {\"type\": \"scattergeo\", \"locationmode\": \"USA-states\", \"lon\": [-73.9725, -74.0082], \"lat\": [40.7636, 40.7405], \"mode\": \"lines\", \"line\": {\"width\": 1, \"color\": \"rgb(117, 174, 255)\"}}, {\"type\": \"scattergeo\", \"locationmode\": \"USA-states\", \"lon\": [-74.0082, -74.0004], \"lat\": [40.7405, 40.7315], \"mode\": \"lines\", \"line\": {\"width\": 1, \"color\": \"rgb(117, 174, 255)\"}}, {\"type\": \"scattergeo\", \"locationmode\": \"USA-states\", \"lon\": [-74.0004, -73.9847], \"lat\": [40.7315, 40.7425], \"mode\": \"lines\", \"line\": {\"width\": 1, \"color\": \"rgb(117, 174, 255)\"}}, {\"type\": \"scattergeo\", \"locationmode\": \"USA-states\", \"lon\": [-73.9847, -74.0013], \"lat\": [40.7425, 40.7441], \"mode\": \"lines\", \"line\": {\"width\": 1, \"color\": \"rgb(117, 174, 255)\"}}, {\"type\": \"scattergeo\", \"locationmode\": \"USA-states\", \"lon\": [-74.0013, -73.9837], \"lat\": [40.7441, 40.7647], \"mode\": \"lines\", \"line\": {\"width\": 1, \"color\": \"rgb(117, 174, 255)\"}}, {\"type\": \"scattergeo\", \"locationmode\": \"USA-states\", \"lon\": [-73.9837, -73.8658], \"lat\": [40.7647, 40.7708], \"mode\": \"lines\", \"line\": {\"width\": 1, \"color\": \"rgb(117, 174, 255)\"}}, {\"type\": \"scattergeo\", \"locationmode\": \"USA-states\", \"lon\": [-73.8658, -73.9839], \"lat\": [40.7708, 40.7231], \"mode\": \"lines\", \"line\": {\"width\": 1, \"color\": \"rgb(117, 174, 255)\"}}, {\"type\": \"scattergeo\", \"locationmode\": \"USA-states\", \"lon\": [-73.9839, -73.9945], \"lat\": [40.7231, 40.7508], \"mode\": \"lines\", \"line\": {\"width\": 1, \"color\": \"rgb(117, 174, 255)\"}}, {\"type\": \"scattergeo\", \"locationmode\": \"USA-states\", \"lon\": [-73.9945, -73.9745], \"lat\": [40.7508, 40.7598], \"mode\": \"lines\", \"line\": {\"width\": 1, \"color\": \"rgb(117, 174, 255)\"}}, {\"type\": \"scattergeo\", \"locationmode\": \"USA-states\", \"lon\": [-73.9745, -73.8719], \"lat\": [40.7598, 40.774], \"mode\": \"lines\", \"line\": {\"width\": 1, \"color\": \"rgb(117, 174, 255)\"}}, {\"type\": \"scattergeo\", \"locationmode\": \"USA-states\", \"lon\": [-73.8719, -73.975], \"lat\": [40.774, 40.6834], \"mode\": \"lines\", \"line\": {\"width\": 1, \"color\": \"rgb(117, 174, 255)\"}}, {\"type\": \"scattergeo\", \"locationmode\": \"USA-states\", \"lon\": [-73.975, -73.9789], \"lat\": [40.6834, 40.7653], \"mode\": \"lines\", \"line\": {\"width\": 1, \"color\": \"rgb(117, 174, 255)\"}}, {\"type\": \"scattergeo\", \"locationmode\": \"USA-states\", \"lon\": [-73.9789, -73.9992], \"lat\": [40.7653, 40.7282], \"mode\": \"lines\", \"line\": {\"width\": 1, \"color\": \"rgb(117, 174, 255)\"}}, {\"type\": \"scattergeo\", \"locationmode\": \"USA-states\", \"lon\": [-73.9992, -73.9996], \"lat\": [40.7282, 40.725], \"mode\": \"lines\", \"line\": {\"width\": 1, \"color\": \"rgb(117, 174, 255)\"}}, {\"type\": \"scattergeo\", \"locationmode\": \"USA-states\", \"lon\": [-73.9996, -73.9878], \"lat\": [40.725, 40.7635], \"mode\": \"lines\", \"line\": {\"width\": 1, \"color\": \"rgb(117, 174, 255)\"}}, {\"type\": \"scattergeo\", \"locationmode\": \"USA-states\", \"lon\": [-73.9878, -73.9766], \"lat\": [40.7635, 40.7643], \"mode\": \"lines\", \"line\": {\"width\": 1, \"color\": \"rgb(117, 174, 255)\"}}, {\"type\": \"scattergeo\", \"locationmode\": \"USA-states\", \"lon\": [-73.9766, -73.9738], \"lat\": [40.7643, 40.7446], \"mode\": \"lines\", \"line\": {\"width\": 1, \"color\": \"rgb(117, 174, 255)\"}}, {\"type\": \"scattergeo\", \"locationmode\": \"USA-states\", \"lon\": [-73.9738, -74.0305], \"lat\": [40.7446, 40.7386], \"mode\": \"lines\", \"line\": {\"width\": 1, \"color\": \"rgb(117, 174, 255)\"}}, {\"type\": \"scattergeo\", \"locationmode\": \"USA-states\", \"lon\": [-74.0305, -74.0305], \"lat\": [40.7386, 40.7386], \"mode\": \"lines\", \"line\": {\"width\": 1, \"color\": \"rgb(117, 174, 255)\"}}, {\"type\": \"scattergeo\", \"locationmode\": \"USA-states\", \"lon\": [-74.0305, -74.0065], \"lat\": [40.7386, 40.7191], \"mode\": \"lines\", \"line\": {\"width\": 1, \"color\": \"rgb(117, 174, 255)\"}}, {\"type\": \"scattergeo\", \"locationmode\": \"USA-states\", \"lon\": [-74.0065, -74.0091], \"lat\": [40.7191, 40.7063], \"mode\": \"lines\", \"line\": {\"width\": 1, \"color\": \"rgb(117, 174, 255)\"}}, {\"type\": \"scattergeo\", \"locationmode\": \"USA-states\", \"lon\": [-74.0091, -74.0057], \"lat\": [40.7063, 40.7373], \"mode\": \"lines\", \"line\": {\"width\": 1, \"color\": \"rgb(117, 174, 255)\"}}, {\"type\": \"scattergeo\", \"locationmode\": \"USA-states\", \"lon\": [-74.0057, -73.9739], \"lat\": [40.7373, 40.6861], \"mode\": \"lines\", \"line\": {\"width\": 1, \"color\": \"rgb(117, 174, 255)\"}}, {\"type\": \"scattergeo\", \"locationmode\": \"USA-states\", \"lon\": [-73.9739, -73.9876], \"lat\": [40.6861, 40.7607], \"mode\": \"lines\", \"line\": {\"width\": 1, \"color\": \"rgb(117, 174, 255)\"}}, {\"type\": \"scattergeo\", \"locationmode\": \"USA-states\", \"lon\": [-73.9876, -73.9851], \"lat\": [40.7607, 40.7424], \"mode\": \"lines\", \"line\": {\"width\": 1, \"color\": \"rgb(117, 174, 255)\"}}, {\"type\": \"scattergeo\", \"locationmode\": \"USA-states\", \"lon\": [-73.9851, -73.9607], \"lat\": [40.7424, 40.7126], \"mode\": \"lines\", \"line\": {\"width\": 1, \"color\": \"rgb(117, 174, 255)\"}}, {\"type\": \"scattergeo\", \"locationmode\": \"USA-states\", \"lon\": [-73.9607, -73.9924], \"lat\": [40.7126, 40.7438], \"mode\": \"lines\", \"line\": {\"width\": 1, \"color\": \"rgb(117, 174, 255)\"}}, {\"type\": \"scattergeo\", \"locationmode\": \"USA-states\", \"lon\": [-73.9924, -73.7901], \"lat\": [40.7438, 40.6464], \"mode\": \"lines\", \"line\": {\"width\": 1, \"color\": \"rgb(117, 174, 255)\"}}, {\"type\": \"scattergeo\", \"locationmode\": \"USA-states\", \"lon\": [-73.7901, -73.9755], \"lat\": [40.6464, 40.6832], \"mode\": \"lines\", \"line\": {\"width\": 1, \"color\": \"rgb(117, 174, 255)\"}}, {\"type\": \"scattergeo\", \"locationmode\": \"USA-states\", \"lon\": [-73.9755, -73.9838], \"lat\": [40.6832, 40.7737], \"mode\": \"lines\", \"line\": {\"width\": 1, \"color\": \"rgb(117, 174, 255)\"}}, {\"type\": \"scattergeo\", \"locationmode\": \"USA-states\", \"lon\": [-73.9838, -73.9859], \"lat\": [40.7737, 40.7408], \"mode\": \"lines\", \"line\": {\"width\": 1, \"color\": \"rgb(117, 174, 255)\"}}, {\"type\": \"scattergeo\", \"locationmode\": \"USA-states\", \"lon\": [-73.9859, -73.9855], \"lat\": [40.7408, 40.7472], \"mode\": \"lines\", \"line\": {\"width\": 1, \"color\": \"rgb(117, 174, 255)\"}}, {\"type\": \"scattergeo\", \"locationmode\": \"USA-states\", \"lon\": [-73.9855, -73.9809], \"lat\": [40.7472, 40.7593], \"mode\": \"lines\", \"line\": {\"width\": 1, \"color\": \"rgb(117, 174, 255)\"}}, {\"type\": \"scattergeo\", \"locationmode\": \"USA-states\", \"lon\": [-73.9809, -74.0048], \"lat\": [40.7593, 40.7301], \"mode\": \"lines\", \"line\": {\"width\": 1, \"color\": \"rgb(117, 174, 255)\"}}, {\"type\": \"scattergeo\", \"locationmode\": \"USA-states\", \"lon\": [-74.0048, -74.1574], \"lat\": [40.7301, 40.8453], \"mode\": \"lines\", \"line\": {\"width\": 1, \"color\": \"rgb(117, 174, 255)\"}}, {\"type\": \"scattergeo\", \"locationmode\": \"USA-states\", \"lon\": [-74.1574, -73.9848], \"lat\": [40.8453, 40.7438], \"mode\": \"lines\", \"line\": {\"width\": 1, \"color\": \"rgb(117, 174, 255)\"}}, {\"type\": \"scattergeo\", \"locationmode\": \"USA-states\", \"lon\": [-73.9848, -73.9744], \"lat\": [40.7438, 40.7586], \"mode\": \"lines\", \"line\": {\"width\": 1, \"color\": \"rgb(117, 174, 255)\"}}, {\"type\": \"scattergeo\", \"locationmode\": \"USA-states\", \"lon\": [-73.9744, -74.0037], \"lat\": [40.7586, 40.7265], \"mode\": \"lines\", \"line\": {\"width\": 1, \"color\": \"rgb(117, 174, 255)\"}}, {\"type\": \"scattergeo\", \"locationmode\": \"USA-states\", \"lon\": [-74.0037, -74.0269], \"lat\": [40.7265, 40.7397], \"mode\": \"lines\", \"line\": {\"width\": 1, \"color\": \"rgb(117, 174, 255)\"}}, {\"type\": \"scattergeo\", \"locationmode\": \"USA-states\", \"lon\": [-74.0269, -74.0269], \"lat\": [40.7397, 40.7397], \"mode\": \"lines\", \"line\": {\"width\": 1, \"color\": \"rgb(117, 174, 255)\"}}, {\"type\": \"scattergeo\", \"locationmode\": \"USA-states\", \"lon\": [-74.0269, -73.9886], \"lat\": [40.7397, 40.7313], \"mode\": \"lines\", \"line\": {\"width\": 1, \"color\": \"rgb(117, 174, 255)\"}}, {\"type\": \"scattergeo\", \"locationmode\": \"USA-states\", \"lon\": [-73.9886, -74.0079], \"lat\": [40.7313, 40.7151], \"mode\": \"lines\", \"line\": {\"width\": 1, \"color\": \"rgb(117, 174, 255)\"}}, {\"type\": \"scattergeo\", \"locationmode\": \"USA-states\", \"lon\": [-74.0079, -74.0065], \"lat\": [40.7151, 40.7321], \"mode\": \"lines\", \"line\": {\"width\": 1, \"color\": \"rgb(117, 174, 255)\"}}, {\"type\": \"scattergeo\", \"locationmode\": \"USA-states\", \"lon\": [-74.0065, -74.0079], \"lat\": [40.7321, 40.7404], \"mode\": \"lines\", \"line\": {\"width\": 1, \"color\": \"rgb(117, 174, 255)\"}}, {\"type\": \"scattergeo\", \"locationmode\": \"USA-states\", \"lon\": [-74.0079, -73.9899], \"lat\": [40.7404, 40.7619], \"mode\": \"lines\", \"line\": {\"width\": 1, \"color\": \"rgb(117, 174, 255)\"}}, {\"type\": \"scattergeo\", \"locationmode\": \"USA-states\", \"lon\": [-73.9899, -73.9577], \"lat\": [40.7619, 40.699], \"mode\": \"lines\", \"line\": {\"width\": 1, \"color\": \"rgb(117, 174, 255)\"}}, {\"type\": \"scattergeo\", \"locationmode\": \"USA-states\", \"lon\": [-73.9577, -73.9867], \"lat\": [40.699, 40.7368], \"mode\": \"lines\", \"line\": {\"width\": 1, \"color\": \"rgb(117, 174, 255)\"}}, {\"type\": \"scattergeo\", \"locationmode\": \"USA-states\", \"lon\": [-73.9867, -73.9906], \"lat\": [40.7368, 40.746], \"mode\": \"lines\", \"line\": {\"width\": 1, \"color\": \"rgb(117, 174, 255)\"}}, {\"type\": \"scattergeo\", \"locationmode\": \"USA-states\", \"lon\": [-73.9906, -74.0088], \"lat\": [40.746, 40.7058], \"mode\": \"lines\", \"line\": {\"width\": 1, \"color\": \"rgb(117, 174, 255)\"}}, {\"type\": \"scattergeo\", \"locationmode\": \"USA-states\", \"lon\": [-74.0088, -73.9724], \"lat\": [40.7058, 40.759], \"mode\": \"lines\", \"line\": {\"width\": 1, \"color\": \"rgb(117, 174, 255)\"}}, {\"type\": \"scattergeo\", \"locationmode\": \"USA-states\", \"lon\": [-73.9724, -73.9855], \"lat\": [40.759, 40.7386], \"mode\": \"lines\", \"line\": {\"width\": 1, \"color\": \"rgb(117, 174, 255)\"}}, {\"type\": \"scattergeo\", \"locationmode\": \"USA-states\", \"lon\": [-73.9855, -73.9713], \"lat\": [40.7386, 40.7627], \"mode\": \"lines\", \"line\": {\"width\": 1, \"color\": \"rgb(117, 174, 255)\"}}, {\"type\": \"scattergeo\", \"locationmode\": \"USA-states\", \"lon\": [-73.9713, -74.0075], \"lat\": [40.7627, 40.7432], \"mode\": \"lines\", \"line\": {\"width\": 1, \"color\": \"rgb(117, 174, 255)\"}}, {\"type\": \"scattergeo\", \"locationmode\": \"USA-states\", \"lon\": [-74.0075, -73.9881], \"lat\": [40.7432, 40.7256], \"mode\": \"lines\", \"line\": {\"width\": 1, \"color\": \"rgb(117, 174, 255)\"}}, {\"type\": \"scattergeo\", \"locationmode\": \"USA-states\", \"lon\": [-73.9881, -73.9464], \"lat\": [40.7256, 40.7079], \"mode\": \"lines\", \"line\": {\"width\": 1, \"color\": \"rgb(117, 174, 255)\"}}, {\"type\": \"scattergeo\", \"locationmode\": \"USA-states\", \"lon\": [-73.9464, -73.9369], \"lat\": [40.7079, 40.8548], \"mode\": \"lines\", \"line\": {\"width\": 1, \"color\": \"rgb(117, 174, 255)\"}}, {\"type\": \"scattergeo\", \"locationmode\": \"USA-states\", \"lon\": [-73.9369, -74.0057], \"lat\": [40.8548, 40.7406], \"mode\": \"lines\", \"line\": {\"width\": 1, \"color\": \"rgb(117, 174, 255)\"}}, {\"type\": \"scattergeo\", \"locationmode\": \"USA-states\", \"lon\": [-74.0057, -73.9855], \"lat\": [40.7406, 40.7384], \"mode\": \"lines\", \"line\": {\"width\": 1, \"color\": \"rgb(117, 174, 255)\"}}, {\"type\": \"scattergeo\", \"locationmode\": \"USA-states\", \"lon\": [-73.9855, -73.9792], \"lat\": [40.7384, 40.7401], \"mode\": \"lines\", \"line\": {\"width\": 1, \"color\": \"rgb(117, 174, 255)\"}}, {\"type\": \"scattergeo\", \"locationmode\": \"USA-states\", \"lon\": [-73.9792, -74.0038], \"lat\": [40.7401, 40.7416], \"mode\": \"lines\", \"line\": {\"width\": 1, \"color\": \"rgb(117, 174, 255)\"}}, {\"type\": \"scattergeo\", \"locationmode\": \"USA-states\", \"lon\": [-74.0038, -73.9764], \"lat\": [40.7416, 40.7635], \"mode\": \"lines\", \"line\": {\"width\": 1, \"color\": \"rgb(117, 174, 255)\"}}, {\"type\": \"scattergeo\", \"locationmode\": \"USA-states\", \"lon\": [-73.9764, -73.9832], \"lat\": [40.7635, 40.7627], \"mode\": \"lines\", \"line\": {\"width\": 1, \"color\": \"rgb(117, 174, 255)\"}}, {\"type\": \"scattergeo\", \"locationmode\": \"USA-states\", \"lon\": [-73.9832, -73.9818], \"lat\": [40.7627, 40.7702], \"mode\": \"lines\", \"line\": {\"width\": 1, \"color\": \"rgb(117, 174, 255)\"}}, {\"type\": \"scattergeo\", \"locationmode\": \"USA-states\", \"lon\": [-73.9818, -73.97399999999999], \"lat\": [40.7702, 40.7644], \"mode\": \"lines\", \"line\": {\"width\": 1, \"color\": \"rgb(117, 174, 255)\"}}, {\"type\": \"scattergeo\", \"locationmode\": \"USA-states\", \"lon\": [-73.97399999999999, -74.0], \"lat\": [40.7644, 40.7144], \"mode\": \"lines\", \"line\": {\"width\": 1, \"color\": \"rgb(117, 174, 255)\"}}, {\"type\": \"scattergeo\", \"locationmode\": \"USA-states\", \"lon\": [-74.0, -73.9554], \"lat\": [40.7144, 40.7228], \"mode\": \"lines\", \"line\": {\"width\": 1, \"color\": \"rgb(117, 174, 255)\"}}, {\"type\": \"scattergeo\", \"locationmode\": \"USA-states\", \"lon\": [-73.9554, -73.9873], \"lat\": [40.7228, 40.6922], \"mode\": \"lines\", \"line\": {\"width\": 1, \"color\": \"rgb(117, 174, 255)\"}}, {\"type\": \"scattergeo\", \"locationmode\": \"USA-states\", \"lon\": [-73.9873, -74.0095], \"lat\": [40.6922, 40.7466], \"mode\": \"lines\", \"line\": {\"width\": 1, \"color\": \"rgb(117, 174, 255)\"}}, {\"type\": \"scattergeo\", \"locationmode\": \"USA-states\", \"lon\": [-74.0095, -73.9975], \"lat\": [40.7466, 40.7218], \"mode\": \"lines\", \"line\": {\"width\": 1, \"color\": \"rgb(117, 174, 255)\"}}, {\"type\": \"scattergeo\", \"locationmode\": \"USA-states\", \"lon\": [-73.9975, -73.9205], \"lat\": [40.7218, 40.7051], \"mode\": \"lines\", \"line\": {\"width\": 1, \"color\": \"rgb(117, 174, 255)\"}}, {\"type\": \"scattergeo\", \"locationmode\": \"USA-states\", \"lon\": [-73.9205, -74.0042], \"lat\": [40.7051, 40.7426], \"mode\": \"lines\", \"line\": {\"width\": 1, \"color\": \"rgb(117, 174, 255)\"}}, {\"type\": \"scattergeo\", \"locationmode\": \"USA-states\", \"lon\": [-74.0042, -73.9702], \"lat\": [40.7426, 40.7554], \"mode\": \"lines\", \"line\": {\"width\": 1, \"color\": \"rgb(117, 174, 255)\"}}, {\"type\": \"scattergeo\", \"locationmode\": \"USA-states\", \"lon\": [-73.9702, -74.0097], \"lat\": [40.7554, 40.7173], \"mode\": \"lines\", \"line\": {\"width\": 1, \"color\": \"rgb(117, 174, 255)\"}}, {\"type\": \"scattergeo\", \"locationmode\": \"USA-states\", \"lon\": [-74.0097, -73.9725], \"lat\": [40.7173, 40.7649], \"mode\": \"lines\", \"line\": {\"width\": 1, \"color\": \"rgb(117, 174, 255)\"}}], {\"title\": \"Uber Trips\", \"showlegend\": false, \"geo\": {\"scope\": \"north america\", \"projection\": {\"type\": \"azimuthal equal area\"}, \"showland\": true, \"landcolor\": \"rgb(243, 243, 243)\", \"countrycolor\": \"rgb(204, 204, 204)\"}}, {\"showLink\": true, \"linkText\": \"Export to plot.ly\"})});</script>"
      ],
      "text/vnd.plotly.v1+html": [
       "<div id=\"7e2a574b-1f34-4806-89a2-9f7c15059704\" style=\"height: 525px; width: 100%;\" class=\"plotly-graph-div\"></div><script type=\"text/javascript\">require([\"plotly\"], function(Plotly) { window.PLOTLYENV=window.PLOTLYENV || {};window.PLOTLYENV.BASE_URL=\"https://plot.ly\";Plotly.newPlot(\"7e2a574b-1f34-4806-89a2-9f7c15059704\", [{\"type\": \"scattergeo\", \"locationmode\": \"USA-states\", \"lon\": [-73.9549, -74.0345], \"lat\": [40.769, 40.7267], \"mode\": \"lines\", \"line\": {\"width\": 1, \"color\": \"rgb(117, 174, 255)\"}}, {\"type\": \"scattergeo\", \"locationmode\": \"USA-states\", \"lon\": [-74.0345, -73.9873], \"lat\": [40.7267, 40.7316], \"mode\": \"lines\", \"line\": {\"width\": 1, \"color\": \"rgb(117, 174, 255)\"}}, {\"type\": \"scattergeo\", \"locationmode\": \"USA-states\", \"lon\": [-73.9873, -73.9776], \"lat\": [40.7316, 40.7588], \"mode\": \"lines\", \"line\": {\"width\": 1, \"color\": \"rgb(117, 174, 255)\"}}, {\"type\": \"scattergeo\", \"locationmode\": \"USA-states\", \"lon\": [-73.9776, -73.9722], \"lat\": [40.7588, 40.7594], \"mode\": \"lines\", \"line\": {\"width\": 1, \"color\": \"rgb(117, 174, 255)\"}}, {\"type\": \"scattergeo\", \"locationmode\": \"USA-states\", \"lon\": [-73.9722, -74.0403], \"lat\": [40.7594, 40.7383], \"mode\": \"lines\", \"line\": {\"width\": 1, \"color\": \"rgb(117, 174, 255)\"}}, {\"type\": \"scattergeo\", \"locationmode\": \"USA-states\", \"lon\": [-74.0403, -73.9887], \"lat\": [40.7383, 40.7223], \"mode\": \"lines\", \"line\": {\"width\": 1, \"color\": \"rgb(117, 174, 255)\"}}, {\"type\": \"scattergeo\", \"locationmode\": \"USA-states\", \"lon\": [-73.9887, -73.979], \"lat\": [40.7223, 40.762], \"mode\": \"lines\", \"line\": {\"width\": 1, \"color\": \"rgb(117, 174, 255)\"}}, {\"type\": \"scattergeo\", \"locationmode\": \"USA-states\", \"lon\": [-73.979, -73.99600000000001], \"lat\": [40.762, 40.7524], \"mode\": \"lines\", \"line\": {\"width\": 1, \"color\": \"rgb(117, 174, 255)\"}}, {\"type\": \"scattergeo\", \"locationmode\": \"USA-states\", \"lon\": [-73.99600000000001, -73.9846], \"lat\": [40.7524, 40.7575], \"mode\": \"lines\", \"line\": {\"width\": 1, \"color\": \"rgb(117, 174, 255)\"}}, {\"type\": \"scattergeo\", \"locationmode\": \"USA-states\", \"lon\": [-73.9846, -73.9869], \"lat\": [40.7575, 40.7256], \"mode\": \"lines\", \"line\": {\"width\": 1, \"color\": \"rgb(117, 174, 255)\"}}, {\"type\": \"scattergeo\", \"locationmode\": \"USA-states\", \"lon\": [-73.9869, -73.9684], \"lat\": [40.7256, 40.7591], \"mode\": \"lines\", \"line\": {\"width\": 1, \"color\": \"rgb(117, 174, 255)\"}}, {\"type\": \"scattergeo\", \"locationmode\": \"USA-states\", \"lon\": [-73.9684, -73.9803], \"lat\": [40.7591, 40.7271], \"mode\": \"lines\", \"line\": {\"width\": 1, \"color\": \"rgb(117, 174, 255)\"}}, {\"type\": \"scattergeo\", \"locationmode\": \"USA-states\", \"lon\": [-73.9803, -73.7896], \"lat\": [40.7271, 40.6463], \"mode\": \"lines\", \"line\": {\"width\": 1, \"color\": \"rgb(117, 174, 255)\"}}, {\"type\": \"scattergeo\", \"locationmode\": \"USA-states\", \"lon\": [-73.7896, -73.9167], \"lat\": [40.6463, 40.7564], \"mode\": \"lines\", \"line\": {\"width\": 1, \"color\": \"rgb(117, 174, 255)\"}}, {\"type\": \"scattergeo\", \"locationmode\": \"USA-states\", \"lon\": [-73.9167, -73.9531], \"lat\": [40.7564, 40.7666], \"mode\": \"lines\", \"line\": {\"width\": 1, \"color\": \"rgb(117, 174, 255)\"}}, {\"type\": \"scattergeo\", \"locationmode\": \"USA-states\", \"lon\": [-73.9531, -73.9761], \"lat\": [40.7666, 40.758], \"mode\": \"lines\", \"line\": {\"width\": 1, \"color\": \"rgb(117, 174, 255)\"}}, {\"type\": \"scattergeo\", \"locationmode\": \"USA-states\", \"lon\": [-73.9761, -73.9821], \"lat\": [40.758, 40.7238], \"mode\": \"lines\", \"line\": {\"width\": 1, \"color\": \"rgb(117, 174, 255)\"}}, {\"type\": \"scattergeo\", \"locationmode\": \"USA-states\", \"lon\": [-73.9821, -74.0039], \"lat\": [40.7238, 40.7531], \"mode\": \"lines\", \"line\": {\"width\": 1, \"color\": \"rgb(117, 174, 255)\"}}, {\"type\": \"scattergeo\", \"locationmode\": \"USA-states\", \"lon\": [-74.0039, -74.0393], \"lat\": [40.7531, 40.7389], \"mode\": \"lines\", \"line\": {\"width\": 1, \"color\": \"rgb(117, 174, 255)\"}}, {\"type\": \"scattergeo\", \"locationmode\": \"USA-states\", \"lon\": [-74.0393, -73.9715], \"lat\": [40.7389, 40.7619], \"mode\": \"lines\", \"line\": {\"width\": 1, \"color\": \"rgb(117, 174, 255)\"}}, {\"type\": \"scattergeo\", \"locationmode\": \"USA-states\", \"lon\": [-73.9715, -74.0042], \"lat\": [40.7619, 40.753], \"mode\": \"lines\", \"line\": {\"width\": 1, \"color\": \"rgb(117, 174, 255)\"}}, {\"type\": \"scattergeo\", \"locationmode\": \"USA-states\", \"lon\": [-74.0042, -73.9531], \"lat\": [40.753, 40.6561], \"mode\": \"lines\", \"line\": {\"width\": 1, \"color\": \"rgb(117, 174, 255)\"}}, {\"type\": \"scattergeo\", \"locationmode\": \"USA-states\", \"lon\": [-73.9531, -73.9844], \"lat\": [40.6561, 40.725], \"mode\": \"lines\", \"line\": {\"width\": 1, \"color\": \"rgb(117, 174, 255)\"}}, {\"type\": \"scattergeo\", \"locationmode\": \"USA-states\", \"lon\": [-73.9844, -74.1783], \"lat\": [40.725, 40.695], \"mode\": \"lines\", \"line\": {\"width\": 1, \"color\": \"rgb(117, 174, 255)\"}}, {\"type\": \"scattergeo\", \"locationmode\": \"USA-states\", \"lon\": [-74.1783, -74.1578], \"lat\": [40.695, 40.9859], \"mode\": \"lines\", \"line\": {\"width\": 1, \"color\": \"rgb(117, 174, 255)\"}}, {\"type\": \"scattergeo\", \"locationmode\": \"USA-states\", \"lon\": [-74.1578, -74.1814], \"lat\": [40.9859, 40.6879], \"mode\": \"lines\", \"line\": {\"width\": 1, \"color\": \"rgb(117, 174, 255)\"}}, {\"type\": \"scattergeo\", \"locationmode\": \"USA-states\", \"lon\": [-74.1814, -74.1816], \"lat\": [40.6879, 40.6878], \"mode\": \"lines\", \"line\": {\"width\": 1, \"color\": \"rgb(117, 174, 255)\"}}, {\"type\": \"scattergeo\", \"locationmode\": \"USA-states\", \"lon\": [-74.1816, -73.9974], \"lat\": [40.6878, 40.7234], \"mode\": \"lines\", \"line\": {\"width\": 1, \"color\": \"rgb(117, 174, 255)\"}}, {\"type\": \"scattergeo\", \"locationmode\": \"USA-states\", \"lon\": [-73.9974, -73.99], \"lat\": [40.7234, 40.7336], \"mode\": \"lines\", \"line\": {\"width\": 1, \"color\": \"rgb(117, 174, 255)\"}}, {\"type\": \"scattergeo\", \"locationmode\": \"USA-states\", \"lon\": [-73.99, -74.0094], \"lat\": [40.7336, 40.7141], \"mode\": \"lines\", \"line\": {\"width\": 1, \"color\": \"rgb(117, 174, 255)\"}}, {\"type\": \"scattergeo\", \"locationmode\": \"USA-states\", \"lon\": [-74.0094, -73.9709], \"lat\": [40.7141, 40.7893], \"mode\": \"lines\", \"line\": {\"width\": 1, \"color\": \"rgb(117, 174, 255)\"}}, {\"type\": \"scattergeo\", \"locationmode\": \"USA-states\", \"lon\": [-73.9709, -73.991], \"lat\": [40.7893, 40.7747], \"mode\": \"lines\", \"line\": {\"width\": 1, \"color\": \"rgb(117, 174, 255)\"}}, {\"type\": \"scattergeo\", \"locationmode\": \"USA-states\", \"lon\": [-73.991, -73.9876], \"lat\": [40.7747, 40.7689], \"mode\": \"lines\", \"line\": {\"width\": 1, \"color\": \"rgb(117, 174, 255)\"}}, {\"type\": \"scattergeo\", \"locationmode\": \"USA-states\", \"lon\": [-73.9876, -74.0149], \"lat\": [40.7689, 40.7744], \"mode\": \"lines\", \"line\": {\"width\": 1, \"color\": \"rgb(117, 174, 255)\"}}, {\"type\": \"scattergeo\", \"locationmode\": \"USA-states\", \"lon\": [-74.0149, -73.9974], \"lat\": [40.7744, 40.7393], \"mode\": \"lines\", \"line\": {\"width\": 1, \"color\": \"rgb(117, 174, 255)\"}}, {\"type\": \"scattergeo\", \"locationmode\": \"USA-states\", \"lon\": [-73.9974, -73.9752], \"lat\": [40.7393, 40.7776], \"mode\": \"lines\", \"line\": {\"width\": 1, \"color\": \"rgb(117, 174, 255)\"}}, {\"type\": \"scattergeo\", \"locationmode\": \"USA-states\", \"lon\": [-73.9752, -73.7829], \"lat\": [40.7776, 40.6483], \"mode\": \"lines\", \"line\": {\"width\": 1, \"color\": \"rgb(117, 174, 255)\"}}, {\"type\": \"scattergeo\", \"locationmode\": \"USA-states\", \"lon\": [-73.7829, -74.1782], \"lat\": [40.6483, 40.6907], \"mode\": \"lines\", \"line\": {\"width\": 1, \"color\": \"rgb(117, 174, 255)\"}}, {\"type\": \"scattergeo\", \"locationmode\": \"USA-states\", \"lon\": [-74.1782, -73.9875], \"lat\": [40.6907, 40.7217], \"mode\": \"lines\", \"line\": {\"width\": 1, \"color\": \"rgb(117, 174, 255)\"}}, {\"type\": \"scattergeo\", \"locationmode\": \"USA-states\", \"lon\": [-73.9875, -73.9632], \"lat\": [40.7217, 40.7651], \"mode\": \"lines\", \"line\": {\"width\": 1, \"color\": \"rgb(117, 174, 255)\"}}, {\"type\": \"scattergeo\", \"locationmode\": \"USA-states\", \"lon\": [-73.9632, -73.9985], \"lat\": [40.7651, 40.7437], \"mode\": \"lines\", \"line\": {\"width\": 1, \"color\": \"rgb(117, 174, 255)\"}}, {\"type\": \"scattergeo\", \"locationmode\": \"USA-states\", \"lon\": [-73.9985, -73.97800000000001], \"lat\": [40.7437, 40.7605], \"mode\": \"lines\", \"line\": {\"width\": 1, \"color\": \"rgb(117, 174, 255)\"}}, {\"type\": \"scattergeo\", \"locationmode\": \"USA-states\", \"lon\": [-73.97800000000001, -74.0301], \"lat\": [40.7605, 40.743], \"mode\": \"lines\", \"line\": {\"width\": 1, \"color\": \"rgb(117, 174, 255)\"}}, {\"type\": \"scattergeo\", \"locationmode\": \"USA-states\", \"lon\": [-74.0301, -74.0301], \"lat\": [40.743, 40.743], \"mode\": \"lines\", \"line\": {\"width\": 1, \"color\": \"rgb(117, 174, 255)\"}}, {\"type\": \"scattergeo\", \"locationmode\": \"USA-states\", \"lon\": [-74.0301, -74.0371], \"lat\": [40.743, 40.7423], \"mode\": \"lines\", \"line\": {\"width\": 1, \"color\": \"rgb(117, 174, 255)\"}}, {\"type\": \"scattergeo\", \"locationmode\": \"USA-states\", \"lon\": [-74.0371, -74.0037], \"lat\": [40.7423, 40.7236], \"mode\": \"lines\", \"line\": {\"width\": 1, \"color\": \"rgb(117, 174, 255)\"}}, {\"type\": \"scattergeo\", \"locationmode\": \"USA-states\", \"lon\": [-74.0037, -73.9527], \"lat\": [40.7236, 40.7723], \"mode\": \"lines\", \"line\": {\"width\": 1, \"color\": \"rgb(117, 174, 255)\"}}, {\"type\": \"scattergeo\", \"locationmode\": \"USA-states\", \"lon\": [-73.9527, -73.9862], \"lat\": [40.7723, 40.7574], \"mode\": \"lines\", \"line\": {\"width\": 1, \"color\": \"rgb(117, 174, 255)\"}}, {\"type\": \"scattergeo\", \"locationmode\": \"USA-states\", \"lon\": [-73.9862, -73.9504], \"lat\": [40.7574, 40.7838], \"mode\": \"lines\", \"line\": {\"width\": 1, \"color\": \"rgb(117, 174, 255)\"}}, {\"type\": \"scattergeo\", \"locationmode\": \"USA-states\", \"lon\": [-73.9504, -73.9871], \"lat\": [40.7838, 40.7711], \"mode\": \"lines\", \"line\": {\"width\": 1, \"color\": \"rgb(117, 174, 255)\"}}, {\"type\": \"scattergeo\", \"locationmode\": \"USA-states\", \"lon\": [-73.9871, -73.9726], \"lat\": [40.7711, 40.7571], \"mode\": \"lines\", \"line\": {\"width\": 1, \"color\": \"rgb(117, 174, 255)\"}}, {\"type\": \"scattergeo\", \"locationmode\": \"USA-states\", \"lon\": [-73.9726, -73.9854], \"lat\": [40.7571, 40.7442], \"mode\": \"lines\", \"line\": {\"width\": 1, \"color\": \"rgb(117, 174, 255)\"}}, {\"type\": \"scattergeo\", \"locationmode\": \"USA-states\", \"lon\": [-73.9854, -74.0144], \"lat\": [40.7442, 40.7166], \"mode\": \"lines\", \"line\": {\"width\": 1, \"color\": \"rgb(117, 174, 255)\"}}, {\"type\": \"scattergeo\", \"locationmode\": \"USA-states\", \"lon\": [-74.0144, -73.9703], \"lat\": [40.7166, 40.7507], \"mode\": \"lines\", \"line\": {\"width\": 1, \"color\": \"rgb(117, 174, 255)\"}}, {\"type\": \"scattergeo\", \"locationmode\": \"USA-states\", \"lon\": [-73.9703, -73.9979], \"lat\": [40.7507, 40.7337], \"mode\": \"lines\", \"line\": {\"width\": 1, \"color\": \"rgb(117, 174, 255)\"}}, {\"type\": \"scattergeo\", \"locationmode\": \"USA-states\", \"lon\": [-73.9979, -74.0111], \"lat\": [40.7337, 40.7236], \"mode\": \"lines\", \"line\": {\"width\": 1, \"color\": \"rgb(117, 174, 255)\"}}, {\"type\": \"scattergeo\", \"locationmode\": \"USA-states\", \"lon\": [-74.0111, -74.0464], \"lat\": [40.7236, 40.7151], \"mode\": \"lines\", \"line\": {\"width\": 1, \"color\": \"rgb(117, 174, 255)\"}}, {\"type\": \"scattergeo\", \"locationmode\": \"USA-states\", \"lon\": [-74.0464, -73.9588], \"lat\": [40.7151, 40.7701], \"mode\": \"lines\", \"line\": {\"width\": 1, \"color\": \"rgb(117, 174, 255)\"}}, {\"type\": \"scattergeo\", \"locationmode\": \"USA-states\", \"lon\": [-73.9588, -73.9142], \"lat\": [40.7701, 40.86], \"mode\": \"lines\", \"line\": {\"width\": 1, \"color\": \"rgb(117, 174, 255)\"}}, {\"type\": \"scattergeo\", \"locationmode\": \"USA-states\", \"lon\": [-73.9142, -73.9729], \"lat\": [40.86, 40.7555], \"mode\": \"lines\", \"line\": {\"width\": 1, \"color\": \"rgb(117, 174, 255)\"}}, {\"type\": \"scattergeo\", \"locationmode\": \"USA-states\", \"lon\": [-73.9729, -74.0355], \"lat\": [40.7555, 40.7249], \"mode\": \"lines\", \"line\": {\"width\": 1, \"color\": \"rgb(117, 174, 255)\"}}, {\"type\": \"scattergeo\", \"locationmode\": \"USA-states\", \"lon\": [-74.0355, -74.157], \"lat\": [40.7249, 40.6193], \"mode\": \"lines\", \"line\": {\"width\": 1, \"color\": \"rgb(117, 174, 255)\"}}, {\"type\": \"scattergeo\", \"locationmode\": \"USA-states\", \"lon\": [-74.157, -73.97800000000001], \"lat\": [40.6193, 40.7753], \"mode\": \"lines\", \"line\": {\"width\": 1, \"color\": \"rgb(117, 174, 255)\"}}, {\"type\": \"scattergeo\", \"locationmode\": \"USA-states\", \"lon\": [-73.97800000000001, -73.9545], \"lat\": [40.7753, 40.7204], \"mode\": \"lines\", \"line\": {\"width\": 1, \"color\": \"rgb(117, 174, 255)\"}}, {\"type\": \"scattergeo\", \"locationmode\": \"USA-states\", \"lon\": [-73.9545, -73.9595], \"lat\": [40.7204, 40.7772], \"mode\": \"lines\", \"line\": {\"width\": 1, \"color\": \"rgb(117, 174, 255)\"}}, {\"type\": \"scattergeo\", \"locationmode\": \"USA-states\", \"lon\": [-73.9595, -74.082], \"lat\": [40.7772, 40.7651], \"mode\": \"lines\", \"line\": {\"width\": 1, \"color\": \"rgb(117, 174, 255)\"}}, {\"type\": \"scattergeo\", \"locationmode\": \"USA-states\", \"lon\": [-74.082, -73.9879], \"lat\": [40.7651, 40.74], \"mode\": \"lines\", \"line\": {\"width\": 1, \"color\": \"rgb(117, 174, 255)\"}}, {\"type\": \"scattergeo\", \"locationmode\": \"USA-states\", \"lon\": [-73.9879, -73.9568], \"lat\": [40.74, 40.7741], \"mode\": \"lines\", \"line\": {\"width\": 1, \"color\": \"rgb(117, 174, 255)\"}}, {\"type\": \"scattergeo\", \"locationmode\": \"USA-states\", \"lon\": [-73.9568, -73.9944], \"lat\": [40.7741, 40.7599], \"mode\": \"lines\", \"line\": {\"width\": 1, \"color\": \"rgb(117, 174, 255)\"}}, {\"type\": \"scattergeo\", \"locationmode\": \"USA-states\", \"lon\": [-73.9944, -74.0039], \"lat\": [40.7599, 40.7531], \"mode\": \"lines\", \"line\": {\"width\": 1, \"color\": \"rgb(117, 174, 255)\"}}, {\"type\": \"scattergeo\", \"locationmode\": \"USA-states\", \"lon\": [-74.0039, -73.9623], \"lat\": [40.7531, 40.7791], \"mode\": \"lines\", \"line\": {\"width\": 1, \"color\": \"rgb(117, 174, 255)\"}}, {\"type\": \"scattergeo\", \"locationmode\": \"USA-states\", \"lon\": [-73.9623, -74.0033], \"lat\": [40.7791, 40.7382], \"mode\": \"lines\", \"line\": {\"width\": 1, \"color\": \"rgb(117, 174, 255)\"}}, {\"type\": \"scattergeo\", \"locationmode\": \"USA-states\", \"lon\": [-74.0033, -73.9989], \"lat\": [40.7382, 40.7391], \"mode\": \"lines\", \"line\": {\"width\": 1, \"color\": \"rgb(117, 174, 255)\"}}, {\"type\": \"scattergeo\", \"locationmode\": \"USA-states\", \"lon\": [-73.9989, -73.982], \"lat\": [40.7391, 40.7806], \"mode\": \"lines\", \"line\": {\"width\": 1, \"color\": \"rgb(117, 174, 255)\"}}, {\"type\": \"scattergeo\", \"locationmode\": \"USA-states\", \"lon\": [-73.982, -73.9863], \"lat\": [40.7806, 40.7322], \"mode\": \"lines\", \"line\": {\"width\": 1, \"color\": \"rgb(117, 174, 255)\"}}, {\"type\": \"scattergeo\", \"locationmode\": \"USA-states\", \"lon\": [-73.9863, -73.96600000000001], \"lat\": [40.7322, 40.7703], \"mode\": \"lines\", \"line\": {\"width\": 1, \"color\": \"rgb(117, 174, 255)\"}}, {\"type\": \"scattergeo\", \"locationmode\": \"USA-states\", \"lon\": [-73.96600000000001, -74.0018], \"lat\": [40.7703, 40.7221], \"mode\": \"lines\", \"line\": {\"width\": 1, \"color\": \"rgb(117, 174, 255)\"}}, {\"type\": \"scattergeo\", \"locationmode\": \"USA-states\", \"lon\": [-74.0018, -73.9895], \"lat\": [40.7221, 40.7588], \"mode\": \"lines\", \"line\": {\"width\": 1, \"color\": \"rgb(117, 174, 255)\"}}, {\"type\": \"scattergeo\", \"locationmode\": \"USA-states\", \"lon\": [-73.9895, -73.9656], \"lat\": [40.7588, 40.7677], \"mode\": \"lines\", \"line\": {\"width\": 1, \"color\": \"rgb(117, 174, 255)\"}}, {\"type\": \"scattergeo\", \"locationmode\": \"USA-states\", \"lon\": [-73.9656, -74.0076], \"lat\": [40.7677, 40.7404], \"mode\": \"lines\", \"line\": {\"width\": 1, \"color\": \"rgb(117, 174, 255)\"}}, {\"type\": \"scattergeo\", \"locationmode\": \"USA-states\", \"lon\": [-74.0076, -73.9599], \"lat\": [40.7404, 40.7679], \"mode\": \"lines\", \"line\": {\"width\": 1, \"color\": \"rgb(117, 174, 255)\"}}, {\"type\": \"scattergeo\", \"locationmode\": \"USA-states\", \"lon\": [-73.9599, -73.9852], \"lat\": [40.7679, 40.7694], \"mode\": \"lines\", \"line\": {\"width\": 1, \"color\": \"rgb(117, 174, 255)\"}}, {\"type\": \"scattergeo\", \"locationmode\": \"USA-states\", \"lon\": [-73.9852, -73.9546], \"lat\": [40.7694, 40.7858], \"mode\": \"lines\", \"line\": {\"width\": 1, \"color\": \"rgb(117, 174, 255)\"}}, {\"type\": \"scattergeo\", \"locationmode\": \"USA-states\", \"lon\": [-73.9546, -73.9491], \"lat\": [40.7858, 40.7742], \"mode\": \"lines\", \"line\": {\"width\": 1, \"color\": \"rgb(117, 174, 255)\"}}, {\"type\": \"scattergeo\", \"locationmode\": \"USA-states\", \"lon\": [-73.9491, -73.95], \"lat\": [40.7742, 40.7703], \"mode\": \"lines\", \"line\": {\"width\": 1, \"color\": \"rgb(117, 174, 255)\"}}, {\"type\": \"scattergeo\", \"locationmode\": \"USA-states\", \"lon\": [-73.95, -73.9997], \"lat\": [40.7703, 40.7614], \"mode\": \"lines\", \"line\": {\"width\": 1, \"color\": \"rgb(117, 174, 255)\"}}, {\"type\": \"scattergeo\", \"locationmode\": \"USA-states\", \"lon\": [-73.9997, -73.9749], \"lat\": [40.7614, 40.793], \"mode\": \"lines\", \"line\": {\"width\": 1, \"color\": \"rgb(117, 174, 255)\"}}, {\"type\": \"scattergeo\", \"locationmode\": \"USA-states\", \"lon\": [-73.9749, -73.9442], \"lat\": [40.793, 40.7231], \"mode\": \"lines\", \"line\": {\"width\": 1, \"color\": \"rgb(117, 174, 255)\"}}, {\"type\": \"scattergeo\", \"locationmode\": \"USA-states\", \"lon\": [-73.9442, -73.9545], \"lat\": [40.7231, 40.7874], \"mode\": \"lines\", \"line\": {\"width\": 1, \"color\": \"rgb(117, 174, 255)\"}}, {\"type\": \"scattergeo\", \"locationmode\": \"USA-states\", \"lon\": [-73.9545, -73.9812], \"lat\": [40.7874, 40.7689], \"mode\": \"lines\", \"line\": {\"width\": 1, \"color\": \"rgb(117, 174, 255)\"}}, {\"type\": \"scattergeo\", \"locationmode\": \"USA-states\", \"lon\": [-73.9812, -73.9557], \"lat\": [40.7689, 40.7789], \"mode\": \"lines\", \"line\": {\"width\": 1, \"color\": \"rgb(117, 174, 255)\"}}, {\"type\": \"scattergeo\", \"locationmode\": \"USA-states\", \"lon\": [-73.9557, -74.0054], \"lat\": [40.7789, 40.7271], \"mode\": \"lines\", \"line\": {\"width\": 1, \"color\": \"rgb(117, 174, 255)\"}}, {\"type\": \"scattergeo\", \"locationmode\": \"USA-states\", \"lon\": [-74.0054, -73.973], \"lat\": [40.7271, 40.7877], \"mode\": \"lines\", \"line\": {\"width\": 1, \"color\": \"rgb(117, 174, 255)\"}}, {\"type\": \"scattergeo\", \"locationmode\": \"USA-states\", \"lon\": [-73.973, -74.0092], \"lat\": [40.7877, 40.7255], \"mode\": \"lines\", \"line\": {\"width\": 1, \"color\": \"rgb(117, 174, 255)\"}}, {\"type\": \"scattergeo\", \"locationmode\": \"USA-states\", \"lon\": [-74.0092, -73.9723], \"lat\": [40.7255, 40.7653], \"mode\": \"lines\", \"line\": {\"width\": 1, \"color\": \"rgb(117, 174, 255)\"}}, {\"type\": \"scattergeo\", \"locationmode\": \"USA-states\", \"lon\": [-73.9723, -73.9769], \"lat\": [40.7653, 40.7644], \"mode\": \"lines\", \"line\": {\"width\": 1, \"color\": \"rgb(117, 174, 255)\"}}, {\"type\": \"scattergeo\", \"locationmode\": \"USA-states\", \"lon\": [-73.9769, -73.9532], \"lat\": [40.7644, 40.7726], \"mode\": \"lines\", \"line\": {\"width\": 1, \"color\": \"rgb(117, 174, 255)\"}}, {\"type\": \"scattergeo\", \"locationmode\": \"USA-states\", \"lon\": [-73.9532, -73.9661], \"lat\": [40.7726, 40.7898], \"mode\": \"lines\", \"line\": {\"width\": 1, \"color\": \"rgb(117, 174, 255)\"}}, {\"type\": \"scattergeo\", \"locationmode\": \"USA-states\", \"lon\": [-73.9661, -73.9703], \"lat\": [40.7898, 40.7839], \"mode\": \"lines\", \"line\": {\"width\": 1, \"color\": \"rgb(117, 174, 255)\"}}, {\"type\": \"scattergeo\", \"locationmode\": \"USA-states\", \"lon\": [-73.9703, -74.0016], \"lat\": [40.7839, 40.7236], \"mode\": \"lines\", \"line\": {\"width\": 1, \"color\": \"rgb(117, 174, 255)\"}}, {\"type\": \"scattergeo\", \"locationmode\": \"USA-states\", \"lon\": [-74.0016, -73.9951], \"lat\": [40.7236, 40.699], \"mode\": \"lines\", \"line\": {\"width\": 1, \"color\": \"rgb(117, 174, 255)\"}}, {\"type\": \"scattergeo\", \"locationmode\": \"USA-states\", \"lon\": [-73.9951, -73.9219], \"lat\": [40.699, 40.7581], \"mode\": \"lines\", \"line\": {\"width\": 1, \"color\": \"rgb(117, 174, 255)\"}}, {\"type\": \"scattergeo\", \"locationmode\": \"USA-states\", \"lon\": [-73.9219, -73.9191], \"lat\": [40.7581, 40.768], \"mode\": \"lines\", \"line\": {\"width\": 1, \"color\": \"rgb(117, 174, 255)\"}}, {\"type\": \"scattergeo\", \"locationmode\": \"USA-states\", \"lon\": [-73.9191, -73.9897], \"lat\": [40.768, 40.7677], \"mode\": \"lines\", \"line\": {\"width\": 1, \"color\": \"rgb(117, 174, 255)\"}}, {\"type\": \"scattergeo\", \"locationmode\": \"USA-states\", \"lon\": [-73.9897, -73.866], \"lat\": [40.7677, 40.771], \"mode\": \"lines\", \"line\": {\"width\": 1, \"color\": \"rgb(117, 174, 255)\"}}, {\"type\": \"scattergeo\", \"locationmode\": \"USA-states\", \"lon\": [-73.866, -73.9487], \"lat\": [40.771, 40.7808], \"mode\": \"lines\", \"line\": {\"width\": 1, \"color\": \"rgb(117, 174, 255)\"}}, {\"type\": \"scattergeo\", \"locationmode\": \"USA-states\", \"lon\": [-73.9487, -74.0362], \"lat\": [40.7808, 40.7147], \"mode\": \"lines\", \"line\": {\"width\": 1, \"color\": \"rgb(117, 174, 255)\"}}, {\"type\": \"scattergeo\", \"locationmode\": \"USA-states\", \"lon\": [-74.0362, -73.9504], \"lat\": [40.7147, 40.7732], \"mode\": \"lines\", \"line\": {\"width\": 1, \"color\": \"rgb(117, 174, 255)\"}}, {\"type\": \"scattergeo\", \"locationmode\": \"USA-states\", \"lon\": [-73.9504, -74.0043], \"lat\": [40.7732, 40.7335], \"mode\": \"lines\", \"line\": {\"width\": 1, \"color\": \"rgb(117, 174, 255)\"}}, {\"type\": \"scattergeo\", \"locationmode\": \"USA-states\", \"lon\": [-74.0043, -73.9782], \"lat\": [40.7335, 40.7754], \"mode\": \"lines\", \"line\": {\"width\": 1, \"color\": \"rgb(117, 174, 255)\"}}, {\"type\": \"scattergeo\", \"locationmode\": \"USA-states\", \"lon\": [-73.9782, -73.9455], \"lat\": [40.7754, 40.7752], \"mode\": \"lines\", \"line\": {\"width\": 1, \"color\": \"rgb(117, 174, 255)\"}}, {\"type\": \"scattergeo\", \"locationmode\": \"USA-states\", \"lon\": [-73.9455, -74.0021], \"lat\": [40.7752, 40.7243], \"mode\": \"lines\", \"line\": {\"width\": 1, \"color\": \"rgb(117, 174, 255)\"}}, {\"type\": \"scattergeo\", \"locationmode\": \"USA-states\", \"lon\": [-74.0021, -73.9512], \"lat\": [40.7243, 40.7786], \"mode\": \"lines\", \"line\": {\"width\": 1, \"color\": \"rgb(117, 174, 255)\"}}, {\"type\": \"scattergeo\", \"locationmode\": \"USA-states\", \"lon\": [-73.9512, -73.9788], \"lat\": [40.7786, 40.7877], \"mode\": \"lines\", \"line\": {\"width\": 1, \"color\": \"rgb(117, 174, 255)\"}}, {\"type\": \"scattergeo\", \"locationmode\": \"USA-states\", \"lon\": [-73.9788, -73.8822], \"lat\": [40.7877, 40.8674], \"mode\": \"lines\", \"line\": {\"width\": 1, \"color\": \"rgb(117, 174, 255)\"}}, {\"type\": \"scattergeo\", \"locationmode\": \"USA-states\", \"lon\": [-73.8822, -73.9704], \"lat\": [40.8674, 40.7678], \"mode\": \"lines\", \"line\": {\"width\": 1, \"color\": \"rgb(117, 174, 255)\"}}, {\"type\": \"scattergeo\", \"locationmode\": \"USA-states\", \"lon\": [-73.9704, -73.9587], \"lat\": [40.7678, 40.7749], \"mode\": \"lines\", \"line\": {\"width\": 1, \"color\": \"rgb(117, 174, 255)\"}}, {\"type\": \"scattergeo\", \"locationmode\": \"USA-states\", \"lon\": [-73.9587, -73.9813], \"lat\": [40.7749, 40.7209], \"mode\": \"lines\", \"line\": {\"width\": 1, \"color\": \"rgb(117, 174, 255)\"}}, {\"type\": \"scattergeo\", \"locationmode\": \"USA-states\", \"lon\": [-73.9813, -73.9752], \"lat\": [40.7209, 40.756], \"mode\": \"lines\", \"line\": {\"width\": 1, \"color\": \"rgb(117, 174, 255)\"}}, {\"type\": \"scattergeo\", \"locationmode\": \"USA-states\", \"lon\": [-73.9752, -73.9676], \"lat\": [40.756, 40.7923], \"mode\": \"lines\", \"line\": {\"width\": 1, \"color\": \"rgb(117, 174, 255)\"}}, {\"type\": \"scattergeo\", \"locationmode\": \"USA-states\", \"lon\": [-73.9676, -73.9991], \"lat\": [40.7923, 40.739000000000004], \"mode\": \"lines\", \"line\": {\"width\": 1, \"color\": \"rgb(117, 174, 255)\"}}, {\"type\": \"scattergeo\", \"locationmode\": \"USA-states\", \"lon\": [-73.9991, -73.9797], \"lat\": [40.739000000000004, 40.7273], \"mode\": \"lines\", \"line\": {\"width\": 1, \"color\": \"rgb(117, 174, 255)\"}}, {\"type\": \"scattergeo\", \"locationmode\": \"USA-states\", \"lon\": [-73.9797, -73.9475], \"lat\": [40.7273, 40.7751], \"mode\": \"lines\", \"line\": {\"width\": 1, \"color\": \"rgb(117, 174, 255)\"}}, {\"type\": \"scattergeo\", \"locationmode\": \"USA-states\", \"lon\": [-73.9475, -73.9983], \"lat\": [40.7751, 40.7406], \"mode\": \"lines\", \"line\": {\"width\": 1, \"color\": \"rgb(117, 174, 255)\"}}, {\"type\": \"scattergeo\", \"locationmode\": \"USA-states\", \"lon\": [-73.9983, -74.1461], \"lat\": [40.7406, 40.8364], \"mode\": \"lines\", \"line\": {\"width\": 1, \"color\": \"rgb(117, 174, 255)\"}}, {\"type\": \"scattergeo\", \"locationmode\": \"USA-states\", \"lon\": [-74.1461, -73.991], \"lat\": [40.8364, 40.7452], \"mode\": \"lines\", \"line\": {\"width\": 1, \"color\": \"rgb(117, 174, 255)\"}}, {\"type\": \"scattergeo\", \"locationmode\": \"USA-states\", \"lon\": [-73.991, -73.9481], \"lat\": [40.7452, 40.7805], \"mode\": \"lines\", \"line\": {\"width\": 1, \"color\": \"rgb(117, 174, 255)\"}}, {\"type\": \"scattergeo\", \"locationmode\": \"USA-states\", \"lon\": [-73.9481, -73.9481], \"lat\": [40.7805, 40.7805], \"mode\": \"lines\", \"line\": {\"width\": 1, \"color\": \"rgb(117, 174, 255)\"}}, {\"type\": \"scattergeo\", \"locationmode\": \"USA-states\", \"lon\": [-73.9481, -73.9513], \"lat\": [40.7805, 40.7814], \"mode\": \"lines\", \"line\": {\"width\": 1, \"color\": \"rgb(117, 174, 255)\"}}, {\"type\": \"scattergeo\", \"locationmode\": \"USA-states\", \"lon\": [-73.9513, -73.9699], \"lat\": [40.7814, 40.7864], \"mode\": \"lines\", \"line\": {\"width\": 1, \"color\": \"rgb(117, 174, 255)\"}}, {\"type\": \"scattergeo\", \"locationmode\": \"USA-states\", \"lon\": [-73.9699, -73.9559], \"lat\": [40.7864, 40.783], \"mode\": \"lines\", \"line\": {\"width\": 1, \"color\": \"rgb(117, 174, 255)\"}}, {\"type\": \"scattergeo\", \"locationmode\": \"USA-states\", \"lon\": [-73.9559, -73.9928], \"lat\": [40.783, 40.7582], \"mode\": \"lines\", \"line\": {\"width\": 1, \"color\": \"rgb(117, 174, 255)\"}}, {\"type\": \"scattergeo\", \"locationmode\": \"USA-states\", \"lon\": [-73.9928, -74.0046], \"lat\": [40.7582, 40.7216], \"mode\": \"lines\", \"line\": {\"width\": 1, \"color\": \"rgb(117, 174, 255)\"}}, {\"type\": \"scattergeo\", \"locationmode\": \"USA-states\", \"lon\": [-74.0046, -73.9988], \"lat\": [40.7216, 40.7298], \"mode\": \"lines\", \"line\": {\"width\": 1, \"color\": \"rgb(117, 174, 255)\"}}, {\"type\": \"scattergeo\", \"locationmode\": \"USA-states\", \"lon\": [-73.9988, -73.956], \"lat\": [40.7298, 40.7746], \"mode\": \"lines\", \"line\": {\"width\": 1, \"color\": \"rgb(117, 174, 255)\"}}, {\"type\": \"scattergeo\", \"locationmode\": \"USA-states\", \"lon\": [-73.956, -73.994], \"lat\": [40.7746, 40.7208], \"mode\": \"lines\", \"line\": {\"width\": 1, \"color\": \"rgb(117, 174, 255)\"}}, {\"type\": \"scattergeo\", \"locationmode\": \"USA-states\", \"lon\": [-73.994, -73.9617], \"lat\": [40.7208, 40.7669], \"mode\": \"lines\", \"line\": {\"width\": 1, \"color\": \"rgb(117, 174, 255)\"}}, {\"type\": \"scattergeo\", \"locationmode\": \"USA-states\", \"lon\": [-73.9617, -74.0064], \"lat\": [40.7669, 40.7084], \"mode\": \"lines\", \"line\": {\"width\": 1, \"color\": \"rgb(117, 174, 255)\"}}, {\"type\": \"scattergeo\", \"locationmode\": \"USA-states\", \"lon\": [-74.0064, -73.9942], \"lat\": [40.7084, 40.7425], \"mode\": \"lines\", \"line\": {\"width\": 1, \"color\": \"rgb(117, 174, 255)\"}}, {\"type\": \"scattergeo\", \"locationmode\": \"USA-states\", \"lon\": [-73.9942, -73.9838], \"lat\": [40.7425, 40.7424], \"mode\": \"lines\", \"line\": {\"width\": 1, \"color\": \"rgb(117, 174, 255)\"}}, {\"type\": \"scattergeo\", \"locationmode\": \"USA-states\", \"lon\": [-73.9838, -73.955], \"lat\": [40.7424, 40.7724], \"mode\": \"lines\", \"line\": {\"width\": 1, \"color\": \"rgb(117, 174, 255)\"}}, {\"type\": \"scattergeo\", \"locationmode\": \"USA-states\", \"lon\": [-73.955, -73.9559], \"lat\": [40.7724, 40.7787], \"mode\": \"lines\", \"line\": {\"width\": 1, \"color\": \"rgb(117, 174, 255)\"}}, {\"type\": \"scattergeo\", \"locationmode\": \"USA-states\", \"lon\": [-73.9559, -73.9637], \"lat\": [40.7787, 40.7752], \"mode\": \"lines\", \"line\": {\"width\": 1, \"color\": \"rgb(117, 174, 255)\"}}, {\"type\": \"scattergeo\", \"locationmode\": \"USA-states\", \"lon\": [-73.9637, -73.95], \"lat\": [40.7752, 40.7754], \"mode\": \"lines\", \"line\": {\"width\": 1, \"color\": \"rgb(117, 174, 255)\"}}, {\"type\": \"scattergeo\", \"locationmode\": \"USA-states\", \"lon\": [-73.95, -74.0044], \"lat\": [40.7754, 40.7368], \"mode\": \"lines\", \"line\": {\"width\": 1, \"color\": \"rgb(117, 174, 255)\"}}, {\"type\": \"scattergeo\", \"locationmode\": \"USA-states\", \"lon\": [-74.0044, -73.9924], \"lat\": [40.7368, 40.7174], \"mode\": \"lines\", \"line\": {\"width\": 1, \"color\": \"rgb(117, 174, 255)\"}}, {\"type\": \"scattergeo\", \"locationmode\": \"USA-states\", \"lon\": [-73.9924, -73.9934], \"lat\": [40.7174, 40.7305], \"mode\": \"lines\", \"line\": {\"width\": 1, \"color\": \"rgb(117, 174, 255)\"}}, {\"type\": \"scattergeo\", \"locationmode\": \"USA-states\", \"lon\": [-73.9934, -73.9613], \"lat\": [40.7305, 40.7747], \"mode\": \"lines\", \"line\": {\"width\": 1, \"color\": \"rgb(117, 174, 255)\"}}, {\"type\": \"scattergeo\", \"locationmode\": \"USA-states\", \"lon\": [-73.9613, -73.994], \"lat\": [40.7747, 40.7229], \"mode\": \"lines\", \"line\": {\"width\": 1, \"color\": \"rgb(117, 174, 255)\"}}, {\"type\": \"scattergeo\", \"locationmode\": \"USA-states\", \"lon\": [-73.994, -73.98100000000001], \"lat\": [40.7229, 40.7396], \"mode\": \"lines\", \"line\": {\"width\": 1, \"color\": \"rgb(117, 174, 255)\"}}, {\"type\": \"scattergeo\", \"locationmode\": \"USA-states\", \"lon\": [-73.98100000000001, -73.9994], \"lat\": [40.7396, 40.725], \"mode\": \"lines\", \"line\": {\"width\": 1, \"color\": \"rgb(117, 174, 255)\"}}, {\"type\": \"scattergeo\", \"locationmode\": \"USA-states\", \"lon\": [-73.9994, -74.1774], \"lat\": [40.725, 40.695], \"mode\": \"lines\", \"line\": {\"width\": 1, \"color\": \"rgb(117, 174, 255)\"}}, {\"type\": \"scattergeo\", \"locationmode\": \"USA-states\", \"lon\": [-74.1774, -74.0064], \"lat\": [40.695, 40.719], \"mode\": \"lines\", \"line\": {\"width\": 1, \"color\": \"rgb(117, 174, 255)\"}}, {\"type\": \"scattergeo\", \"locationmode\": \"USA-states\", \"lon\": [-74.0064, -73.9726], \"lat\": [40.719, 40.8271], \"mode\": \"lines\", \"line\": {\"width\": 1, \"color\": \"rgb(117, 174, 255)\"}}, {\"type\": \"scattergeo\", \"locationmode\": \"USA-states\", \"lon\": [-73.9726, -73.9495], \"lat\": [40.8271, 40.7793], \"mode\": \"lines\", \"line\": {\"width\": 1, \"color\": \"rgb(117, 174, 255)\"}}, {\"type\": \"scattergeo\", \"locationmode\": \"USA-states\", \"lon\": [-73.9495, -73.9801], \"lat\": [40.7793, 40.7266], \"mode\": \"lines\", \"line\": {\"width\": 1, \"color\": \"rgb(117, 174, 255)\"}}, {\"type\": \"scattergeo\", \"locationmode\": \"USA-states\", \"lon\": [-73.9801, -74.1811], \"lat\": [40.7266, 40.6922], \"mode\": \"lines\", \"line\": {\"width\": 1, \"color\": \"rgb(117, 174, 255)\"}}, {\"type\": \"scattergeo\", \"locationmode\": \"USA-states\", \"lon\": [-74.1811, -74.0074], \"lat\": [40.6922, 40.7418], \"mode\": \"lines\", \"line\": {\"width\": 1, \"color\": \"rgb(117, 174, 255)\"}}, {\"type\": \"scattergeo\", \"locationmode\": \"USA-states\", \"lon\": [-74.0074, -73.9845], \"lat\": [40.7418, 40.7108], \"mode\": \"lines\", \"line\": {\"width\": 1, \"color\": \"rgb(117, 174, 255)\"}}, {\"type\": \"scattergeo\", \"locationmode\": \"USA-states\", \"lon\": [-73.9845, -73.9802], \"lat\": [40.7108, 40.7857], \"mode\": \"lines\", \"line\": {\"width\": 1, \"color\": \"rgb(117, 174, 255)\"}}, {\"type\": \"scattergeo\", \"locationmode\": \"USA-states\", \"lon\": [-73.9802, -73.9502], \"lat\": [40.7857, 40.7757], \"mode\": \"lines\", \"line\": {\"width\": 1, \"color\": \"rgb(117, 174, 255)\"}}, {\"type\": \"scattergeo\", \"locationmode\": \"USA-states\", \"lon\": [-73.9502, -73.9699], \"lat\": [40.7757, 40.7514], \"mode\": \"lines\", \"line\": {\"width\": 1, \"color\": \"rgb(117, 174, 255)\"}}, {\"type\": \"scattergeo\", \"locationmode\": \"USA-states\", \"lon\": [-73.9699, -73.9936], \"lat\": [40.7514, 40.7343], \"mode\": \"lines\", \"line\": {\"width\": 1, \"color\": \"rgb(117, 174, 255)\"}}, {\"type\": \"scattergeo\", \"locationmode\": \"USA-states\", \"lon\": [-73.9936, -74.0094], \"lat\": [40.7343, 40.734], \"mode\": \"lines\", \"line\": {\"width\": 1, \"color\": \"rgb(117, 174, 255)\"}}, {\"type\": \"scattergeo\", \"locationmode\": \"USA-states\", \"lon\": [-74.0094, -74.0099], \"lat\": [40.734, 40.718], \"mode\": \"lines\", \"line\": {\"width\": 1, \"color\": \"rgb(117, 174, 255)\"}}, {\"type\": \"scattergeo\", \"locationmode\": \"USA-states\", \"lon\": [-74.0099, -73.9805], \"lat\": [40.718, 40.7287], \"mode\": \"lines\", \"line\": {\"width\": 1, \"color\": \"rgb(117, 174, 255)\"}}, {\"type\": \"scattergeo\", \"locationmode\": \"USA-states\", \"lon\": [-73.9805, -73.9707], \"lat\": [40.7287, 40.758], \"mode\": \"lines\", \"line\": {\"width\": 1, \"color\": \"rgb(117, 174, 255)\"}}, {\"type\": \"scattergeo\", \"locationmode\": \"USA-states\", \"lon\": [-73.9707, -74.1813], \"lat\": [40.758, 40.692], \"mode\": \"lines\", \"line\": {\"width\": 1, \"color\": \"rgb(117, 174, 255)\"}}, {\"type\": \"scattergeo\", \"locationmode\": \"USA-states\", \"lon\": [-74.1813, -73.9487], \"lat\": [40.692, 40.778], \"mode\": \"lines\", \"line\": {\"width\": 1, \"color\": \"rgb(117, 174, 255)\"}}, {\"type\": \"scattergeo\", \"locationmode\": \"USA-states\", \"lon\": [-73.9487, -73.9692], \"lat\": [40.778, 40.7658], \"mode\": \"lines\", \"line\": {\"width\": 1, \"color\": \"rgb(117, 174, 255)\"}}, {\"type\": \"scattergeo\", \"locationmode\": \"USA-states\", \"lon\": [-73.9692, -74.0104], \"lat\": [40.7658, 40.7222], \"mode\": \"lines\", \"line\": {\"width\": 1, \"color\": \"rgb(117, 174, 255)\"}}, {\"type\": \"scattergeo\", \"locationmode\": \"USA-states\", \"lon\": [-74.0104, -73.9881], \"lat\": [40.7222, 40.7329], \"mode\": \"lines\", \"line\": {\"width\": 1, \"color\": \"rgb(117, 174, 255)\"}}, {\"type\": \"scattergeo\", \"locationmode\": \"USA-states\", \"lon\": [-73.9881, -73.9766], \"lat\": [40.7329, 40.7659], \"mode\": \"lines\", \"line\": {\"width\": 1, \"color\": \"rgb(117, 174, 255)\"}}, {\"type\": \"scattergeo\", \"locationmode\": \"USA-states\", \"lon\": [-73.9766, -73.9618], \"lat\": [40.7659, 40.7789], \"mode\": \"lines\", \"line\": {\"width\": 1, \"color\": \"rgb(117, 174, 255)\"}}, {\"type\": \"scattergeo\", \"locationmode\": \"USA-states\", \"lon\": [-73.9618, -73.9743], \"lat\": [40.7789, 40.789], \"mode\": \"lines\", \"line\": {\"width\": 1, \"color\": \"rgb(117, 174, 255)\"}}, {\"type\": \"scattergeo\", \"locationmode\": \"USA-states\", \"lon\": [-73.9743, -73.9843], \"lat\": [40.789, 40.7617], \"mode\": \"lines\", \"line\": {\"width\": 1, \"color\": \"rgb(117, 174, 255)\"}}, {\"type\": \"scattergeo\", \"locationmode\": \"USA-states\", \"lon\": [-73.9843, -73.9475], \"lat\": [40.7617, 40.7214], \"mode\": \"lines\", \"line\": {\"width\": 1, \"color\": \"rgb(117, 174, 255)\"}}, {\"type\": \"scattergeo\", \"locationmode\": \"USA-states\", \"lon\": [-73.9475, -73.9913], \"lat\": [40.7214, 40.7595], \"mode\": \"lines\", \"line\": {\"width\": 1, \"color\": \"rgb(117, 174, 255)\"}}, {\"type\": \"scattergeo\", \"locationmode\": \"USA-states\", \"lon\": [-73.9913, -73.9748], \"lat\": [40.7595, 40.7931], \"mode\": \"lines\", \"line\": {\"width\": 1, \"color\": \"rgb(117, 174, 255)\"}}, {\"type\": \"scattergeo\", \"locationmode\": \"USA-states\", \"lon\": [-73.9748, -74.0004], \"lat\": [40.7931, 40.7371], \"mode\": \"lines\", \"line\": {\"width\": 1, \"color\": \"rgb(117, 174, 255)\"}}, {\"type\": \"scattergeo\", \"locationmode\": \"USA-states\", \"lon\": [-74.0004, -73.99600000000001], \"lat\": [40.7371, 40.7345], \"mode\": \"lines\", \"line\": {\"width\": 1, \"color\": \"rgb(117, 174, 255)\"}}, {\"type\": \"scattergeo\", \"locationmode\": \"USA-states\", \"lon\": [-73.99600000000001, -73.9912], \"lat\": [40.7345, 40.7747], \"mode\": \"lines\", \"line\": {\"width\": 1, \"color\": \"rgb(117, 174, 255)\"}}, {\"type\": \"scattergeo\", \"locationmode\": \"USA-states\", \"lon\": [-73.9912, -73.9211], \"lat\": [40.7747, 40.8822], \"mode\": \"lines\", \"line\": {\"width\": 1, \"color\": \"rgb(117, 174, 255)\"}}, {\"type\": \"scattergeo\", \"locationmode\": \"USA-states\", \"lon\": [-73.9211, -73.9787], \"lat\": [40.8822, 40.762], \"mode\": \"lines\", \"line\": {\"width\": 1, \"color\": \"rgb(117, 174, 255)\"}}, {\"type\": \"scattergeo\", \"locationmode\": \"USA-states\", \"lon\": [-73.9787, -73.9787], \"lat\": [40.762, 40.762], \"mode\": \"lines\", \"line\": {\"width\": 1, \"color\": \"rgb(117, 174, 255)\"}}, {\"type\": \"scattergeo\", \"locationmode\": \"USA-states\", \"lon\": [-73.9787, -74.0038], \"lat\": [40.762, 40.7326], \"mode\": \"lines\", \"line\": {\"width\": 1, \"color\": \"rgb(117, 174, 255)\"}}, {\"type\": \"scattergeo\", \"locationmode\": \"USA-states\", \"lon\": [-74.0038, -73.9737], \"lat\": [40.7326, 40.7555], \"mode\": \"lines\", \"line\": {\"width\": 1, \"color\": \"rgb(117, 174, 255)\"}}, {\"type\": \"scattergeo\", \"locationmode\": \"USA-states\", \"lon\": [-73.9737, -73.9854], \"lat\": [40.7555, 40.7596], \"mode\": \"lines\", \"line\": {\"width\": 1, \"color\": \"rgb(117, 174, 255)\"}}, {\"type\": \"scattergeo\", \"locationmode\": \"USA-states\", \"lon\": [-73.9854, -74.1778], \"lat\": [40.7596, 40.6904], \"mode\": \"lines\", \"line\": {\"width\": 1, \"color\": \"rgb(117, 174, 255)\"}}, {\"type\": \"scattergeo\", \"locationmode\": \"USA-states\", \"lon\": [-74.1778, -74.1778], \"lat\": [40.6904, 40.6904], \"mode\": \"lines\", \"line\": {\"width\": 1, \"color\": \"rgb(117, 174, 255)\"}}, {\"type\": \"scattergeo\", \"locationmode\": \"USA-states\", \"lon\": [-74.1778, -73.9914], \"lat\": [40.6904, 40.7408], \"mode\": \"lines\", \"line\": {\"width\": 1, \"color\": \"rgb(117, 174, 255)\"}}, {\"type\": \"scattergeo\", \"locationmode\": \"USA-states\", \"lon\": [-73.9914, -73.9358], \"lat\": [40.7408, 40.6819], \"mode\": \"lines\", \"line\": {\"width\": 1, \"color\": \"rgb(117, 174, 255)\"}}, {\"type\": \"scattergeo\", \"locationmode\": \"USA-states\", \"lon\": [-73.9358, -73.9714], \"lat\": [40.6819, 40.7624], \"mode\": \"lines\", \"line\": {\"width\": 1, \"color\": \"rgb(117, 174, 255)\"}}, {\"type\": \"scattergeo\", \"locationmode\": \"USA-states\", \"lon\": [-73.9714, -73.9548], \"lat\": [40.7624, 40.7805], \"mode\": \"lines\", \"line\": {\"width\": 1, \"color\": \"rgb(117, 174, 255)\"}}, {\"type\": \"scattergeo\", \"locationmode\": \"USA-states\", \"lon\": [-73.9548, -73.9542], \"lat\": [40.7805, 40.7889], \"mode\": \"lines\", \"line\": {\"width\": 1, \"color\": \"rgb(117, 174, 255)\"}}, {\"type\": \"scattergeo\", \"locationmode\": \"USA-states\", \"lon\": [-73.9542, -73.9513], \"lat\": [40.7889, 40.7835], \"mode\": \"lines\", \"line\": {\"width\": 1, \"color\": \"rgb(117, 174, 255)\"}}, {\"type\": \"scattergeo\", \"locationmode\": \"USA-states\", \"lon\": [-73.9513, -73.9617], \"lat\": [40.7835, 40.7651], \"mode\": \"lines\", \"line\": {\"width\": 1, \"color\": \"rgb(117, 174, 255)\"}}, {\"type\": \"scattergeo\", \"locationmode\": \"USA-states\", \"lon\": [-73.9617, -73.9918], \"lat\": [40.7651, 40.7261], \"mode\": \"lines\", \"line\": {\"width\": 1, \"color\": \"rgb(117, 174, 255)\"}}, {\"type\": \"scattergeo\", \"locationmode\": \"USA-states\", \"lon\": [-73.9918, -73.9937], \"lat\": [40.7261, 40.7303], \"mode\": \"lines\", \"line\": {\"width\": 1, \"color\": \"rgb(117, 174, 255)\"}}, {\"type\": \"scattergeo\", \"locationmode\": \"USA-states\", \"lon\": [-73.9937, -74.0628], \"lat\": [40.7303, 40.8736], \"mode\": \"lines\", \"line\": {\"width\": 1, \"color\": \"rgb(117, 174, 255)\"}}, {\"type\": \"scattergeo\", \"locationmode\": \"USA-states\", \"lon\": [-74.0628, -73.9981], \"lat\": [40.8736, 40.724000000000004], \"mode\": \"lines\", \"line\": {\"width\": 1, \"color\": \"rgb(117, 174, 255)\"}}, {\"type\": \"scattergeo\", \"locationmode\": \"USA-states\", \"lon\": [-73.9981, -73.9578], \"lat\": [40.724000000000004, 40.7744], \"mode\": \"lines\", \"line\": {\"width\": 1, \"color\": \"rgb(117, 174, 255)\"}}, {\"type\": \"scattergeo\", \"locationmode\": \"USA-states\", \"lon\": [-73.9578, -73.9861], \"lat\": [40.7744, 40.7607], \"mode\": \"lines\", \"line\": {\"width\": 1, \"color\": \"rgb(117, 174, 255)\"}}, {\"type\": \"scattergeo\", \"locationmode\": \"USA-states\", \"lon\": [-73.9861, -73.9841], \"lat\": [40.7607, 40.7749], \"mode\": \"lines\", \"line\": {\"width\": 1, \"color\": \"rgb(117, 174, 255)\"}}, {\"type\": \"scattergeo\", \"locationmode\": \"USA-states\", \"lon\": [-73.9841, -73.9724], \"lat\": [40.7749, 40.7625], \"mode\": \"lines\", \"line\": {\"width\": 1, \"color\": \"rgb(117, 174, 255)\"}}, {\"type\": \"scattergeo\", \"locationmode\": \"USA-states\", \"lon\": [-73.9724, -73.9965], \"lat\": [40.7625, 40.7377], \"mode\": \"lines\", \"line\": {\"width\": 1, \"color\": \"rgb(117, 174, 255)\"}}, {\"type\": \"scattergeo\", \"locationmode\": \"USA-states\", \"lon\": [-73.9965, -74.0087], \"lat\": [40.7377, 40.7388], \"mode\": \"lines\", \"line\": {\"width\": 1, \"color\": \"rgb(117, 174, 255)\"}}, {\"type\": \"scattergeo\", \"locationmode\": \"USA-states\", \"lon\": [-74.0087, -73.98100000000001], \"lat\": [40.7388, 40.7677], \"mode\": \"lines\", \"line\": {\"width\": 1, \"color\": \"rgb(117, 174, 255)\"}}, {\"type\": \"scattergeo\", \"locationmode\": \"USA-states\", \"lon\": [-73.98100000000001, -73.9652], \"lat\": [40.7677, 40.7691], \"mode\": \"lines\", \"line\": {\"width\": 1, \"color\": \"rgb(117, 174, 255)\"}}, {\"type\": \"scattergeo\", \"locationmode\": \"USA-states\", \"lon\": [-73.9652, -73.9602], \"lat\": [40.7691, 40.7816], \"mode\": \"lines\", \"line\": {\"width\": 1, \"color\": \"rgb(117, 174, 255)\"}}, {\"type\": \"scattergeo\", \"locationmode\": \"USA-states\", \"lon\": [-73.9602, -73.8717], \"lat\": [40.7816, 40.7739], \"mode\": \"lines\", \"line\": {\"width\": 1, \"color\": \"rgb(117, 174, 255)\"}}, {\"type\": \"scattergeo\", \"locationmode\": \"USA-states\", \"lon\": [-73.8717, -73.9542], \"lat\": [40.7739, 40.7841], \"mode\": \"lines\", \"line\": {\"width\": 1, \"color\": \"rgb(117, 174, 255)\"}}, {\"type\": \"scattergeo\", \"locationmode\": \"USA-states\", \"lon\": [-73.9542, -73.9963], \"lat\": [40.7841, 40.7426], \"mode\": \"lines\", \"line\": {\"width\": 1, \"color\": \"rgb(117, 174, 255)\"}}, {\"type\": \"scattergeo\", \"locationmode\": \"USA-states\", \"lon\": [-73.9963, -73.8669], \"lat\": [40.7426, 40.771], \"mode\": \"lines\", \"line\": {\"width\": 1, \"color\": \"rgb(117, 174, 255)\"}}, {\"type\": \"scattergeo\", \"locationmode\": \"USA-states\", \"lon\": [-73.8669, -73.9888], \"lat\": [40.771, 40.775], \"mode\": \"lines\", \"line\": {\"width\": 1, \"color\": \"rgb(117, 174, 255)\"}}, {\"type\": \"scattergeo\", \"locationmode\": \"USA-states\", \"lon\": [-73.9888, -74.0029], \"lat\": [40.775, 40.7356], \"mode\": \"lines\", \"line\": {\"width\": 1, \"color\": \"rgb(117, 174, 255)\"}}, {\"type\": \"scattergeo\", \"locationmode\": \"USA-states\", \"lon\": [-74.0029, -73.9784], \"lat\": [40.7356, 40.7666], \"mode\": \"lines\", \"line\": {\"width\": 1, \"color\": \"rgb(117, 174, 255)\"}}, {\"type\": \"scattergeo\", \"locationmode\": \"USA-states\", \"lon\": [-73.9784, -73.9499], \"lat\": [40.7666, 40.7118], \"mode\": \"lines\", \"line\": {\"width\": 1, \"color\": \"rgb(117, 174, 255)\"}}, {\"type\": \"scattergeo\", \"locationmode\": \"USA-states\", \"lon\": [-73.9499, -74.0153], \"lat\": [40.7118, 40.7097], \"mode\": \"lines\", \"line\": {\"width\": 1, \"color\": \"rgb(117, 174, 255)\"}}, {\"type\": \"scattergeo\", \"locationmode\": \"USA-states\", \"lon\": [-74.0153, -74.0061], \"lat\": [40.7097, 40.7438], \"mode\": \"lines\", \"line\": {\"width\": 1, \"color\": \"rgb(117, 174, 255)\"}}, {\"type\": \"scattergeo\", \"locationmode\": \"USA-states\", \"lon\": [-74.0061, -73.9861], \"lat\": [40.7438, 40.76], \"mode\": \"lines\", \"line\": {\"width\": 1, \"color\": \"rgb(117, 174, 255)\"}}, {\"type\": \"scattergeo\", \"locationmode\": \"USA-states\", \"lon\": [-73.9861, -73.9635], \"lat\": [40.76, 40.7752], \"mode\": \"lines\", \"line\": {\"width\": 1, \"color\": \"rgb(117, 174, 255)\"}}, {\"type\": \"scattergeo\", \"locationmode\": \"USA-states\", \"lon\": [-73.9635, -73.956], \"lat\": [40.7752, 40.7788], \"mode\": \"lines\", \"line\": {\"width\": 1, \"color\": \"rgb(117, 174, 255)\"}}, {\"type\": \"scattergeo\", \"locationmode\": \"USA-states\", \"lon\": [-73.956, -73.9639], \"lat\": [40.7788, 40.8078], \"mode\": \"lines\", \"line\": {\"width\": 1, \"color\": \"rgb(117, 174, 255)\"}}, {\"type\": \"scattergeo\", \"locationmode\": \"USA-states\", \"lon\": [-73.9639, -73.9784], \"lat\": [40.8078, 40.7631], \"mode\": \"lines\", \"line\": {\"width\": 1, \"color\": \"rgb(117, 174, 255)\"}}, {\"type\": \"scattergeo\", \"locationmode\": \"USA-states\", \"lon\": [-73.9784, -73.95100000000001], \"lat\": [40.7631, 40.7788], \"mode\": \"lines\", \"line\": {\"width\": 1, \"color\": \"rgb(117, 174, 255)\"}}, {\"type\": \"scattergeo\", \"locationmode\": \"USA-states\", \"lon\": [-73.95100000000001, -73.9594], \"lat\": [40.7788, 40.7714], \"mode\": \"lines\", \"line\": {\"width\": 1, \"color\": \"rgb(117, 174, 255)\"}}, {\"type\": \"scattergeo\", \"locationmode\": \"USA-states\", \"lon\": [-73.9594, -73.983], \"lat\": [40.7714, 40.7694], \"mode\": \"lines\", \"line\": {\"width\": 1, \"color\": \"rgb(117, 174, 255)\"}}, {\"type\": \"scattergeo\", \"locationmode\": \"USA-states\", \"lon\": [-73.983, -73.9901], \"lat\": [40.7694, 40.733000000000004], \"mode\": \"lines\", \"line\": {\"width\": 1, \"color\": \"rgb(117, 174, 255)\"}}, {\"type\": \"scattergeo\", \"locationmode\": \"USA-states\", \"lon\": [-73.9901, -73.9878], \"lat\": [40.733000000000004, 40.7412], \"mode\": \"lines\", \"line\": {\"width\": 1, \"color\": \"rgb(117, 174, 255)\"}}, {\"type\": \"scattergeo\", \"locationmode\": \"USA-states\", \"lon\": [-73.9878, -73.975], \"lat\": [40.7412, 40.7526], \"mode\": \"lines\", \"line\": {\"width\": 1, \"color\": \"rgb(117, 174, 255)\"}}, {\"type\": \"scattergeo\", \"locationmode\": \"USA-states\", \"lon\": [-73.975, -73.9598], \"lat\": [40.7526, 40.7602], \"mode\": \"lines\", \"line\": {\"width\": 1, \"color\": \"rgb(117, 174, 255)\"}}, {\"type\": \"scattergeo\", \"locationmode\": \"USA-states\", \"lon\": [-73.9598, -73.9669], \"lat\": [40.7602, 40.773], \"mode\": \"lines\", \"line\": {\"width\": 1, \"color\": \"rgb(117, 174, 255)\"}}, {\"type\": \"scattergeo\", \"locationmode\": \"USA-states\", \"lon\": [-73.9669, -73.9948], \"lat\": [40.773, 40.7628], \"mode\": \"lines\", \"line\": {\"width\": 1, \"color\": \"rgb(117, 174, 255)\"}}, {\"type\": \"scattergeo\", \"locationmode\": \"USA-states\", \"lon\": [-73.9948, -73.9636], \"lat\": [40.7628, 40.7752], \"mode\": \"lines\", \"line\": {\"width\": 1, \"color\": \"rgb(117, 174, 255)\"}}, {\"type\": \"scattergeo\", \"locationmode\": \"USA-states\", \"lon\": [-73.9636, -74.0071], \"lat\": [40.7752, 40.7283], \"mode\": \"lines\", \"line\": {\"width\": 1, \"color\": \"rgb(117, 174, 255)\"}}, {\"type\": \"scattergeo\", \"locationmode\": \"USA-states\", \"lon\": [-74.0071, -74.0367], \"lat\": [40.7283, 40.7195], \"mode\": \"lines\", \"line\": {\"width\": 1, \"color\": \"rgb(117, 174, 255)\"}}, {\"type\": \"scattergeo\", \"locationmode\": \"USA-states\", \"lon\": [-74.0367, -74.0367], \"lat\": [40.7195, 40.7195], \"mode\": \"lines\", \"line\": {\"width\": 1, \"color\": \"rgb(117, 174, 255)\"}}, {\"type\": \"scattergeo\", \"locationmode\": \"USA-states\", \"lon\": [-74.0367, -73.9911], \"lat\": [40.7195, 40.7747], \"mode\": \"lines\", \"line\": {\"width\": 1, \"color\": \"rgb(117, 174, 255)\"}}, {\"type\": \"scattergeo\", \"locationmode\": \"USA-states\", \"lon\": [-73.9911, -73.992], \"lat\": [40.7747, 40.7401], \"mode\": \"lines\", \"line\": {\"width\": 1, \"color\": \"rgb(117, 174, 255)\"}}, {\"type\": \"scattergeo\", \"locationmode\": \"USA-states\", \"lon\": [-73.992, -73.9698], \"lat\": [40.7401, 40.7686], \"mode\": \"lines\", \"line\": {\"width\": 1, \"color\": \"rgb(117, 174, 255)\"}}, {\"type\": \"scattergeo\", \"locationmode\": \"USA-states\", \"lon\": [-73.9698, -73.9982], \"lat\": [40.7686, 40.7336], \"mode\": \"lines\", \"line\": {\"width\": 1, \"color\": \"rgb(117, 174, 255)\"}}, {\"type\": \"scattergeo\", \"locationmode\": \"USA-states\", \"lon\": [-73.9982, -73.9837], \"lat\": [40.7336, 40.7795], \"mode\": \"lines\", \"line\": {\"width\": 1, \"color\": \"rgb(117, 174, 255)\"}}, {\"type\": \"scattergeo\", \"locationmode\": \"USA-states\", \"lon\": [-73.9837, -74.0162], \"lat\": [40.7795, 40.7148], \"mode\": \"lines\", \"line\": {\"width\": 1, \"color\": \"rgb(117, 174, 255)\"}}, {\"type\": \"scattergeo\", \"locationmode\": \"USA-states\", \"lon\": [-74.0162, -73.9759], \"lat\": [40.7148, 40.7438], \"mode\": \"lines\", \"line\": {\"width\": 1, \"color\": \"rgb(117, 174, 255)\"}}, {\"type\": \"scattergeo\", \"locationmode\": \"USA-states\", \"lon\": [-73.9759, -73.9888], \"lat\": [40.7438, 40.745], \"mode\": \"lines\", \"line\": {\"width\": 1, \"color\": \"rgb(117, 174, 255)\"}}, {\"type\": \"scattergeo\", \"locationmode\": \"USA-states\", \"lon\": [-73.9888, -73.9773], \"lat\": [40.745, 40.7768], \"mode\": \"lines\", \"line\": {\"width\": 1, \"color\": \"rgb(117, 174, 255)\"}}, {\"type\": \"scattergeo\", \"locationmode\": \"USA-states\", \"lon\": [-73.9773, -73.96600000000001], \"lat\": [40.7768, 40.7594], \"mode\": \"lines\", \"line\": {\"width\": 1, \"color\": \"rgb(117, 174, 255)\"}}, {\"type\": \"scattergeo\", \"locationmode\": \"USA-states\", \"lon\": [-73.96600000000001, -73.8726], \"lat\": [40.7594, 40.7741], \"mode\": \"lines\", \"line\": {\"width\": 1, \"color\": \"rgb(117, 174, 255)\"}}, {\"type\": \"scattergeo\", \"locationmode\": \"USA-states\", \"lon\": [-73.8726, -73.9907], \"lat\": [40.7741, 40.7367], \"mode\": \"lines\", \"line\": {\"width\": 1, \"color\": \"rgb(117, 174, 255)\"}}, {\"type\": \"scattergeo\", \"locationmode\": \"USA-states\", \"lon\": [-73.9907, -73.9847], \"lat\": [40.7367, 40.7368], \"mode\": \"lines\", \"line\": {\"width\": 1, \"color\": \"rgb(117, 174, 255)\"}}, {\"type\": \"scattergeo\", \"locationmode\": \"USA-states\", \"lon\": [-73.9847, -73.9638], \"lat\": [40.7368, 40.8079], \"mode\": \"lines\", \"line\": {\"width\": 1, \"color\": \"rgb(117, 174, 255)\"}}, {\"type\": \"scattergeo\", \"locationmode\": \"USA-states\", \"lon\": [-73.9638, -73.7956], \"lat\": [40.8079, 40.6678], \"mode\": \"lines\", \"line\": {\"width\": 1, \"color\": \"rgb(117, 174, 255)\"}}, {\"type\": \"scattergeo\", \"locationmode\": \"USA-states\", \"lon\": [-73.7956, -74.0033], \"lat\": [40.6678, 40.721], \"mode\": \"lines\", \"line\": {\"width\": 1, \"color\": \"rgb(117, 174, 255)\"}}, {\"type\": \"scattergeo\", \"locationmode\": \"USA-states\", \"lon\": [-74.0033, -73.9598], \"lat\": [40.721, 40.7764], \"mode\": \"lines\", \"line\": {\"width\": 1, \"color\": \"rgb(117, 174, 255)\"}}, {\"type\": \"scattergeo\", \"locationmode\": \"USA-states\", \"lon\": [-73.9598, -73.9581], \"lat\": [40.7764, 40.7746], \"mode\": \"lines\", \"line\": {\"width\": 1, \"color\": \"rgb(117, 174, 255)\"}}, {\"type\": \"scattergeo\", \"locationmode\": \"USA-states\", \"lon\": [-73.9581, -73.9638], \"lat\": [40.7746, 40.7745], \"mode\": \"lines\", \"line\": {\"width\": 1, \"color\": \"rgb(117, 174, 255)\"}}, {\"type\": \"scattergeo\", \"locationmode\": \"USA-states\", \"lon\": [-73.9638, -73.9935], \"lat\": [40.7745, 40.7224], \"mode\": \"lines\", \"line\": {\"width\": 1, \"color\": \"rgb(117, 174, 255)\"}}, {\"type\": \"scattergeo\", \"locationmode\": \"USA-states\", \"lon\": [-73.9935, -73.9626], \"lat\": [40.7224, 40.7736], \"mode\": \"lines\", \"line\": {\"width\": 1, \"color\": \"rgb(117, 174, 255)\"}}, {\"type\": \"scattergeo\", \"locationmode\": \"USA-states\", \"lon\": [-73.9626, -73.9929], \"lat\": [40.7736, 40.7348], \"mode\": \"lines\", \"line\": {\"width\": 1, \"color\": \"rgb(117, 174, 255)\"}}, {\"type\": \"scattergeo\", \"locationmode\": \"USA-states\", \"lon\": [-73.9929, -73.9991], \"lat\": [40.7348, 40.7605], \"mode\": \"lines\", \"line\": {\"width\": 1, \"color\": \"rgb(117, 174, 255)\"}}, {\"type\": \"scattergeo\", \"locationmode\": \"USA-states\", \"lon\": [-73.9991, -74.1779], \"lat\": [40.7605, 40.6948], \"mode\": \"lines\", \"line\": {\"width\": 1, \"color\": \"rgb(117, 174, 255)\"}}, {\"type\": \"scattergeo\", \"locationmode\": \"USA-states\", \"lon\": [-74.1779, -73.9877], \"lat\": [40.6948, 40.7573], \"mode\": \"lines\", \"line\": {\"width\": 1, \"color\": \"rgb(117, 174, 255)\"}}, {\"type\": \"scattergeo\", \"locationmode\": \"USA-states\", \"lon\": [-73.9877, -74.1781], \"lat\": [40.7573, 40.6949], \"mode\": \"lines\", \"line\": {\"width\": 1, \"color\": \"rgb(117, 174, 255)\"}}, {\"type\": \"scattergeo\", \"locationmode\": \"USA-states\", \"lon\": [-74.1781, -74.1781], \"lat\": [40.6949, 40.6949], \"mode\": \"lines\", \"line\": {\"width\": 1, \"color\": \"rgb(117, 174, 255)\"}}, {\"type\": \"scattergeo\", \"locationmode\": \"USA-states\", \"lon\": [-74.1781, -73.9754], \"lat\": [40.6949, 40.7771], \"mode\": \"lines\", \"line\": {\"width\": 1, \"color\": \"rgb(117, 174, 255)\"}}, {\"type\": \"scattergeo\", \"locationmode\": \"USA-states\", \"lon\": [-73.9754, -73.98899999999999], \"lat\": [40.7771, 40.7584], \"mode\": \"lines\", \"line\": {\"width\": 1, \"color\": \"rgb(117, 174, 255)\"}}, {\"type\": \"scattergeo\", \"locationmode\": \"USA-states\", \"lon\": [-73.98899999999999, -73.9878], \"lat\": [40.7584, 40.755], \"mode\": \"lines\", \"line\": {\"width\": 1, \"color\": \"rgb(117, 174, 255)\"}}, {\"type\": \"scattergeo\", \"locationmode\": \"USA-states\", \"lon\": [-73.9878, -74.0004], \"lat\": [40.755, 40.7226], \"mode\": \"lines\", \"line\": {\"width\": 1, \"color\": \"rgb(117, 174, 255)\"}}, {\"type\": \"scattergeo\", \"locationmode\": \"USA-states\", \"lon\": [-74.0004, -73.9607], \"lat\": [40.7226, 40.774], \"mode\": \"lines\", \"line\": {\"width\": 1, \"color\": \"rgb(117, 174, 255)\"}}, {\"type\": \"scattergeo\", \"locationmode\": \"USA-states\", \"lon\": [-73.9607, -73.9654], \"lat\": [40.774, 40.7718], \"mode\": \"lines\", \"line\": {\"width\": 1, \"color\": \"rgb(117, 174, 255)\"}}, {\"type\": \"scattergeo\", \"locationmode\": \"USA-states\", \"lon\": [-73.9654, -73.991], \"lat\": [40.7718, 40.7748], \"mode\": \"lines\", \"line\": {\"width\": 1, \"color\": \"rgb(117, 174, 255)\"}}, {\"type\": \"scattergeo\", \"locationmode\": \"USA-states\", \"lon\": [-73.991, -73.9595], \"lat\": [40.7748, 40.775], \"mode\": \"lines\", \"line\": {\"width\": 1, \"color\": \"rgb(117, 174, 255)\"}}, {\"type\": \"scattergeo\", \"locationmode\": \"USA-states\", \"lon\": [-73.9595, -73.9636], \"lat\": [40.775, 40.7636], \"mode\": \"lines\", \"line\": {\"width\": 1, \"color\": \"rgb(117, 174, 255)\"}}, {\"type\": \"scattergeo\", \"locationmode\": \"USA-states\", \"lon\": [-73.9636, -73.9847], \"lat\": [40.7636, 40.7743], \"mode\": \"lines\", \"line\": {\"width\": 1, \"color\": \"rgb(117, 174, 255)\"}}, {\"type\": \"scattergeo\", \"locationmode\": \"USA-states\", \"lon\": [-73.9847, -73.8627], \"lat\": [40.7743, 40.7688], \"mode\": \"lines\", \"line\": {\"width\": 1, \"color\": \"rgb(117, 174, 255)\"}}, {\"type\": \"scattergeo\", \"locationmode\": \"USA-states\", \"lon\": [-73.8627, -74.0071], \"lat\": [40.7688, 40.7254], \"mode\": \"lines\", \"line\": {\"width\": 1, \"color\": \"rgb(117, 174, 255)\"}}, {\"type\": \"scattergeo\", \"locationmode\": \"USA-states\", \"lon\": [-74.0071, -73.9748], \"lat\": [40.7254, 40.7534], \"mode\": \"lines\", \"line\": {\"width\": 1, \"color\": \"rgb(117, 174, 255)\"}}, {\"type\": \"scattergeo\", \"locationmode\": \"USA-states\", \"lon\": [-73.9748, -73.9595], \"lat\": [40.7534, 40.7773], \"mode\": \"lines\", \"line\": {\"width\": 1, \"color\": \"rgb(117, 174, 255)\"}}, {\"type\": \"scattergeo\", \"locationmode\": \"USA-states\", \"lon\": [-73.9595, -74.0062], \"lat\": [40.7773, 40.7233], \"mode\": \"lines\", \"line\": {\"width\": 1, \"color\": \"rgb(117, 174, 255)\"}}, {\"type\": \"scattergeo\", \"locationmode\": \"USA-states\", \"lon\": [-74.0062, -73.9781], \"lat\": [40.7233, 40.763000000000005], \"mode\": \"lines\", \"line\": {\"width\": 1, \"color\": \"rgb(117, 174, 255)\"}}, {\"type\": \"scattergeo\", \"locationmode\": \"USA-states\", \"lon\": [-73.9781, -73.9599], \"lat\": [40.763000000000005, 40.7822], \"mode\": \"lines\", \"line\": {\"width\": 1, \"color\": \"rgb(117, 174, 255)\"}}, {\"type\": \"scattergeo\", \"locationmode\": \"USA-states\", \"lon\": [-73.9599, -73.9677], \"lat\": [40.7822, 40.6916], \"mode\": \"lines\", \"line\": {\"width\": 1, \"color\": \"rgb(117, 174, 255)\"}}, {\"type\": \"scattergeo\", \"locationmode\": \"USA-states\", \"lon\": [-73.9677, -73.9694], \"lat\": [40.6916, 40.7577], \"mode\": \"lines\", \"line\": {\"width\": 1, \"color\": \"rgb(117, 174, 255)\"}}, {\"type\": \"scattergeo\", \"locationmode\": \"USA-states\", \"lon\": [-73.9694, -73.9789], \"lat\": [40.7577, 40.7668], \"mode\": \"lines\", \"line\": {\"width\": 1, \"color\": \"rgb(117, 174, 255)\"}}, {\"type\": \"scattergeo\", \"locationmode\": \"USA-states\", \"lon\": [-73.9789, -73.9629], \"lat\": [40.7668, 40.7741], \"mode\": \"lines\", \"line\": {\"width\": 1, \"color\": \"rgb(117, 174, 255)\"}}, {\"type\": \"scattergeo\", \"locationmode\": \"USA-states\", \"lon\": [-73.9629, -74.0058], \"lat\": [40.7741, 40.7271], \"mode\": \"lines\", \"line\": {\"width\": 1, \"color\": \"rgb(117, 174, 255)\"}}, {\"type\": \"scattergeo\", \"locationmode\": \"USA-states\", \"lon\": [-74.0058, -74.0049], \"lat\": [40.7271, 40.7072], \"mode\": \"lines\", \"line\": {\"width\": 1, \"color\": \"rgb(117, 174, 255)\"}}, {\"type\": \"scattergeo\", \"locationmode\": \"USA-states\", \"lon\": [-74.0049, -73.9964], \"lat\": [40.7072, 40.7412], \"mode\": \"lines\", \"line\": {\"width\": 1, \"color\": \"rgb(117, 174, 255)\"}}, {\"type\": \"scattergeo\", \"locationmode\": \"USA-states\", \"lon\": [-73.9964, -74.0456], \"lat\": [40.7412, 40.7883], \"mode\": \"lines\", \"line\": {\"width\": 1, \"color\": \"rgb(117, 174, 255)\"}}, {\"type\": \"scattergeo\", \"locationmode\": \"USA-states\", \"lon\": [-74.0456, -74.0456], \"lat\": [40.7883, 40.7883], \"mode\": \"lines\", \"line\": {\"width\": 1, \"color\": \"rgb(117, 174, 255)\"}}, {\"type\": \"scattergeo\", \"locationmode\": \"USA-states\", \"lon\": [-74.0456, -73.9721], \"lat\": [40.7883, 40.7568], \"mode\": \"lines\", \"line\": {\"width\": 1, \"color\": \"rgb(117, 174, 255)\"}}, {\"type\": \"scattergeo\", \"locationmode\": \"USA-states\", \"lon\": [-73.9721, -73.9728], \"lat\": [40.7568, 40.7624], \"mode\": \"lines\", \"line\": {\"width\": 1, \"color\": \"rgb(117, 174, 255)\"}}, {\"type\": \"scattergeo\", \"locationmode\": \"USA-states\", \"lon\": [-73.9728, -73.9916], \"lat\": [40.7624, 40.7457], \"mode\": \"lines\", \"line\": {\"width\": 1, \"color\": \"rgb(117, 174, 255)\"}}, {\"type\": \"scattergeo\", \"locationmode\": \"USA-states\", \"lon\": [-73.9916, -73.9774], \"lat\": [40.7457, 40.7863], \"mode\": \"lines\", \"line\": {\"width\": 1, \"color\": \"rgb(117, 174, 255)\"}}, {\"type\": \"scattergeo\", \"locationmode\": \"USA-states\", \"lon\": [-73.9774, -73.9721], \"lat\": [40.7863, 40.7593], \"mode\": \"lines\", \"line\": {\"width\": 1, \"color\": \"rgb(117, 174, 255)\"}}, {\"type\": \"scattergeo\", \"locationmode\": \"USA-states\", \"lon\": [-73.9721, -73.9912], \"lat\": [40.7593, 40.7398], \"mode\": \"lines\", \"line\": {\"width\": 1, \"color\": \"rgb(117, 174, 255)\"}}, {\"type\": \"scattergeo\", \"locationmode\": \"USA-states\", \"lon\": [-73.9912, -74.0468], \"lat\": [40.7398, 40.8275], \"mode\": \"lines\", \"line\": {\"width\": 1, \"color\": \"rgb(117, 174, 255)\"}}, {\"type\": \"scattergeo\", \"locationmode\": \"USA-states\", \"lon\": [-74.0468, -74.0468], \"lat\": [40.8275, 40.8275], \"mode\": \"lines\", \"line\": {\"width\": 1, \"color\": \"rgb(117, 174, 255)\"}}, {\"type\": \"scattergeo\", \"locationmode\": \"USA-states\", \"lon\": [-74.0468, -73.9658], \"lat\": [40.8275, 40.7686], \"mode\": \"lines\", \"line\": {\"width\": 1, \"color\": \"rgb(117, 174, 255)\"}}, {\"type\": \"scattergeo\", \"locationmode\": \"USA-states\", \"lon\": [-73.9658, -73.9765], \"lat\": [40.7686, 40.7566], \"mode\": \"lines\", \"line\": {\"width\": 1, \"color\": \"rgb(117, 174, 255)\"}}, {\"type\": \"scattergeo\", \"locationmode\": \"USA-states\", \"lon\": [-73.9765, -73.9846], \"lat\": [40.7566, 40.7103], \"mode\": \"lines\", \"line\": {\"width\": 1, \"color\": \"rgb(117, 174, 255)\"}}, {\"type\": \"scattergeo\", \"locationmode\": \"USA-states\", \"lon\": [-73.9846, -73.9902], \"lat\": [40.7103, 40.7414], \"mode\": \"lines\", \"line\": {\"width\": 1, \"color\": \"rgb(117, 174, 255)\"}}, {\"type\": \"scattergeo\", \"locationmode\": \"USA-states\", \"lon\": [-73.9902, -73.9899], \"lat\": [40.7414, 40.7439], \"mode\": \"lines\", \"line\": {\"width\": 1, \"color\": \"rgb(117, 174, 255)\"}}, {\"type\": \"scattergeo\", \"locationmode\": \"USA-states\", \"lon\": [-73.9899, -73.973], \"lat\": [40.7439, 40.7619], \"mode\": \"lines\", \"line\": {\"width\": 1, \"color\": \"rgb(117, 174, 255)\"}}, {\"type\": \"scattergeo\", \"locationmode\": \"USA-states\", \"lon\": [-73.973, -74.0041], \"lat\": [40.7619, 40.7201], \"mode\": \"lines\", \"line\": {\"width\": 1, \"color\": \"rgb(117, 174, 255)\"}}, {\"type\": \"scattergeo\", \"locationmode\": \"USA-states\", \"lon\": [-74.0041, -73.9913], \"lat\": [40.7201, 40.7329], \"mode\": \"lines\", \"line\": {\"width\": 1, \"color\": \"rgb(117, 174, 255)\"}}, {\"type\": \"scattergeo\", \"locationmode\": \"USA-states\", \"lon\": [-73.9913, -73.9815], \"lat\": [40.7329, 40.7582], \"mode\": \"lines\", \"line\": {\"width\": 1, \"color\": \"rgb(117, 174, 255)\"}}, {\"type\": \"scattergeo\", \"locationmode\": \"USA-states\", \"lon\": [-73.9815, -73.9584], \"lat\": [40.7582, 40.7747], \"mode\": \"lines\", \"line\": {\"width\": 1, \"color\": \"rgb(117, 174, 255)\"}}, {\"type\": \"scattergeo\", \"locationmode\": \"USA-states\", \"lon\": [-73.9584, -73.9612], \"lat\": [40.7747, 40.7775], \"mode\": \"lines\", \"line\": {\"width\": 1, \"color\": \"rgb(117, 174, 255)\"}}, {\"type\": \"scattergeo\", \"locationmode\": \"USA-states\", \"lon\": [-73.9612, -73.9802], \"lat\": [40.7775, 40.773], \"mode\": \"lines\", \"line\": {\"width\": 1, \"color\": \"rgb(117, 174, 255)\"}}, {\"type\": \"scattergeo\", \"locationmode\": \"USA-states\", \"lon\": [-73.9802, -73.9991], \"lat\": [40.773, 40.7392], \"mode\": \"lines\", \"line\": {\"width\": 1, \"color\": \"rgb(117, 174, 255)\"}}, {\"type\": \"scattergeo\", \"locationmode\": \"USA-states\", \"lon\": [-73.9991, -73.9958], \"lat\": [40.7392, 40.7368], \"mode\": \"lines\", \"line\": {\"width\": 1, \"color\": \"rgb(117, 174, 255)\"}}, {\"type\": \"scattergeo\", \"locationmode\": \"USA-states\", \"lon\": [-73.9958, -73.9662], \"lat\": [40.7368, 40.8052], \"mode\": \"lines\", \"line\": {\"width\": 1, \"color\": \"rgb(117, 174, 255)\"}}, {\"type\": \"scattergeo\", \"locationmode\": \"USA-states\", \"lon\": [-73.9662, -74.0031], \"lat\": [40.8052, 40.7205], \"mode\": \"lines\", \"line\": {\"width\": 1, \"color\": \"rgb(117, 174, 255)\"}}, {\"type\": \"scattergeo\", \"locationmode\": \"USA-states\", \"lon\": [-74.0031, -73.9829], \"lat\": [40.7205, 40.7633], \"mode\": \"lines\", \"line\": {\"width\": 1, \"color\": \"rgb(117, 174, 255)\"}}, {\"type\": \"scattergeo\", \"locationmode\": \"USA-states\", \"lon\": [-73.9829, -73.9441], \"lat\": [40.7633, 40.6922], \"mode\": \"lines\", \"line\": {\"width\": 1, \"color\": \"rgb(117, 174, 255)\"}}, {\"type\": \"scattergeo\", \"locationmode\": \"USA-states\", \"lon\": [-73.9441, -73.9969], \"lat\": [40.6922, 40.7476], \"mode\": \"lines\", \"line\": {\"width\": 1, \"color\": \"rgb(117, 174, 255)\"}}, {\"type\": \"scattergeo\", \"locationmode\": \"USA-states\", \"lon\": [-73.9969, -73.9815], \"lat\": [40.7476, 40.7707], \"mode\": \"lines\", \"line\": {\"width\": 1, \"color\": \"rgb(117, 174, 255)\"}}, {\"type\": \"scattergeo\", \"locationmode\": \"USA-states\", \"lon\": [-73.9815, -73.9972], \"lat\": [40.7707, 40.7257], \"mode\": \"lines\", \"line\": {\"width\": 1, \"color\": \"rgb(117, 174, 255)\"}}, {\"type\": \"scattergeo\", \"locationmode\": \"USA-states\", \"lon\": [-73.9972, -73.9754], \"lat\": [40.7257, 40.7611], \"mode\": \"lines\", \"line\": {\"width\": 1, \"color\": \"rgb(117, 174, 255)\"}}, {\"type\": \"scattergeo\", \"locationmode\": \"USA-states\", \"lon\": [-73.9754, -74.0107], \"lat\": [40.7611, 40.7035], \"mode\": \"lines\", \"line\": {\"width\": 1, \"color\": \"rgb(117, 174, 255)\"}}, {\"type\": \"scattergeo\", \"locationmode\": \"USA-states\", \"lon\": [-74.0107, -73.99600000000001], \"lat\": [40.7035, 40.7591], \"mode\": \"lines\", \"line\": {\"width\": 1, \"color\": \"rgb(117, 174, 255)\"}}, {\"type\": \"scattergeo\", \"locationmode\": \"USA-states\", \"lon\": [-73.99600000000001, -74.0036], \"lat\": [40.7591, 40.7419], \"mode\": \"lines\", \"line\": {\"width\": 1, \"color\": \"rgb(117, 174, 255)\"}}, {\"type\": \"scattergeo\", \"locationmode\": \"USA-states\", \"lon\": [-74.0036, -73.9746], \"lat\": [40.7419, 40.755], \"mode\": \"lines\", \"line\": {\"width\": 1, \"color\": \"rgb(117, 174, 255)\"}}, {\"type\": \"scattergeo\", \"locationmode\": \"USA-states\", \"lon\": [-73.9746, -73.9863], \"lat\": [40.755, 40.7472], \"mode\": \"lines\", \"line\": {\"width\": 1, \"color\": \"rgb(117, 174, 255)\"}}, {\"type\": \"scattergeo\", \"locationmode\": \"USA-states\", \"lon\": [-73.9863, -73.9847], \"lat\": [40.7472, 40.7548], \"mode\": \"lines\", \"line\": {\"width\": 1, \"color\": \"rgb(117, 174, 255)\"}}, {\"type\": \"scattergeo\", \"locationmode\": \"USA-states\", \"lon\": [-73.9847, -73.9762], \"lat\": [40.7548, 40.7797], \"mode\": \"lines\", \"line\": {\"width\": 1, \"color\": \"rgb(117, 174, 255)\"}}, {\"type\": \"scattergeo\", \"locationmode\": \"USA-states\", \"lon\": [-73.9762, -74.0076], \"lat\": [40.7797, 40.7323], \"mode\": \"lines\", \"line\": {\"width\": 1, \"color\": \"rgb(117, 174, 255)\"}}, {\"type\": \"scattergeo\", \"locationmode\": \"USA-states\", \"lon\": [-74.0076, -73.8726], \"lat\": [40.7323, 40.7741], \"mode\": \"lines\", \"line\": {\"width\": 1, \"color\": \"rgb(117, 174, 255)\"}}, {\"type\": \"scattergeo\", \"locationmode\": \"USA-states\", \"lon\": [-73.8726, -74.0172], \"lat\": [40.7741, 40.7074], \"mode\": \"lines\", \"line\": {\"width\": 1, \"color\": \"rgb(117, 174, 255)\"}}, {\"type\": \"scattergeo\", \"locationmode\": \"USA-states\", \"lon\": [-74.0172, -73.9954], \"lat\": [40.7074, 40.6334], \"mode\": \"lines\", \"line\": {\"width\": 1, \"color\": \"rgb(117, 174, 255)\"}}, {\"type\": \"scattergeo\", \"locationmode\": \"USA-states\", \"lon\": [-73.9954, -74.0114], \"lat\": [40.6334, 40.71], \"mode\": \"lines\", \"line\": {\"width\": 1, \"color\": \"rgb(117, 174, 255)\"}}, {\"type\": \"scattergeo\", \"locationmode\": \"USA-states\", \"lon\": [-74.0114, -73.9897], \"lat\": [40.71, 40.7386], \"mode\": \"lines\", \"line\": {\"width\": 1, \"color\": \"rgb(117, 174, 255)\"}}, {\"type\": \"scattergeo\", \"locationmode\": \"USA-states\", \"lon\": [-73.9897, -74.0156], \"lat\": [40.7386, 40.7095], \"mode\": \"lines\", \"line\": {\"width\": 1, \"color\": \"rgb(117, 174, 255)\"}}, {\"type\": \"scattergeo\", \"locationmode\": \"USA-states\", \"lon\": [-74.0156, -74.0133], \"lat\": [40.7095, 40.7024], \"mode\": \"lines\", \"line\": {\"width\": 1, \"color\": \"rgb(117, 174, 255)\"}}, {\"type\": \"scattergeo\", \"locationmode\": \"USA-states\", \"lon\": [-74.0133, -73.9619], \"lat\": [40.7024, 40.7581], \"mode\": \"lines\", \"line\": {\"width\": 1, \"color\": \"rgb(117, 174, 255)\"}}, {\"type\": \"scattergeo\", \"locationmode\": \"USA-states\", \"lon\": [-73.9619, -73.8625], \"lat\": [40.7581, 40.7685], \"mode\": \"lines\", \"line\": {\"width\": 1, \"color\": \"rgb(117, 174, 255)\"}}, {\"type\": \"scattergeo\", \"locationmode\": \"USA-states\", \"lon\": [-73.8625, -73.9874], \"lat\": [40.7685, 40.7389], \"mode\": \"lines\", \"line\": {\"width\": 1, \"color\": \"rgb(117, 174, 255)\"}}, {\"type\": \"scattergeo\", \"locationmode\": \"USA-states\", \"lon\": [-73.9874, -73.8716], \"lat\": [40.7389, 40.7736], \"mode\": \"lines\", \"line\": {\"width\": 1, \"color\": \"rgb(117, 174, 255)\"}}, {\"type\": \"scattergeo\", \"locationmode\": \"USA-states\", \"lon\": [-73.8716, -74.0163], \"lat\": [40.7736, 40.7154], \"mode\": \"lines\", \"line\": {\"width\": 1, \"color\": \"rgb(117, 174, 255)\"}}, {\"type\": \"scattergeo\", \"locationmode\": \"USA-states\", \"lon\": [-74.0163, -73.9804], \"lat\": [40.7154, 40.7599], \"mode\": \"lines\", \"line\": {\"width\": 1, \"color\": \"rgb(117, 174, 255)\"}}, {\"type\": \"scattergeo\", \"locationmode\": \"USA-states\", \"lon\": [-73.9804, -73.9874], \"lat\": [40.7599, 40.7559], \"mode\": \"lines\", \"line\": {\"width\": 1, \"color\": \"rgb(117, 174, 255)\"}}, {\"type\": \"scattergeo\", \"locationmode\": \"USA-states\", \"lon\": [-73.9874, -74.02199999999999], \"lat\": [40.7559, 40.7852], \"mode\": \"lines\", \"line\": {\"width\": 1, \"color\": \"rgb(117, 174, 255)\"}}, {\"type\": \"scattergeo\", \"locationmode\": \"USA-states\", \"lon\": [-74.02199999999999, -74.02199999999999], \"lat\": [40.7852, 40.7852], \"mode\": \"lines\", \"line\": {\"width\": 1, \"color\": \"rgb(117, 174, 255)\"}}, {\"type\": \"scattergeo\", \"locationmode\": \"USA-states\", \"lon\": [-74.02199999999999, -74.1817], \"lat\": [40.7852, 40.6878], \"mode\": \"lines\", \"line\": {\"width\": 1, \"color\": \"rgb(117, 174, 255)\"}}, {\"type\": \"scattergeo\", \"locationmode\": \"USA-states\", \"lon\": [-74.1817, -73.9747], \"lat\": [40.6878, 40.6864], \"mode\": \"lines\", \"line\": {\"width\": 1, \"color\": \"rgb(117, 174, 255)\"}}, {\"type\": \"scattergeo\", \"locationmode\": \"USA-states\", \"lon\": [-73.9747, -73.9451], \"lat\": [40.6864, 40.8289], \"mode\": \"lines\", \"line\": {\"width\": 1, \"color\": \"rgb(117, 174, 255)\"}}, {\"type\": \"scattergeo\", \"locationmode\": \"USA-states\", \"lon\": [-73.9451, -73.9451], \"lat\": [40.8289, 40.8289], \"mode\": \"lines\", \"line\": {\"width\": 1, \"color\": \"rgb(117, 174, 255)\"}}, {\"type\": \"scattergeo\", \"locationmode\": \"USA-states\", \"lon\": [-73.9451, -73.9682], \"lat\": [40.8289, 40.7672], \"mode\": \"lines\", \"line\": {\"width\": 1, \"color\": \"rgb(117, 174, 255)\"}}, {\"type\": \"scattergeo\", \"locationmode\": \"USA-states\", \"lon\": [-73.9682, -73.9816], \"lat\": [40.7672, 40.7498], \"mode\": \"lines\", \"line\": {\"width\": 1, \"color\": \"rgb(117, 174, 255)\"}}, {\"type\": \"scattergeo\", \"locationmode\": \"USA-states\", \"lon\": [-73.9816, -73.8016], \"lat\": [40.7498, 40.6751], \"mode\": \"lines\", \"line\": {\"width\": 1, \"color\": \"rgb(117, 174, 255)\"}}, {\"type\": \"scattergeo\", \"locationmode\": \"USA-states\", \"lon\": [-73.8016, -73.9692], \"lat\": [40.6751, 40.7544], \"mode\": \"lines\", \"line\": {\"width\": 1, \"color\": \"rgb(117, 174, 255)\"}}, {\"type\": \"scattergeo\", \"locationmode\": \"USA-states\", \"lon\": [-73.9692, -73.9535], \"lat\": [40.7544, 40.7685], \"mode\": \"lines\", \"line\": {\"width\": 1, \"color\": \"rgb(117, 174, 255)\"}}, {\"type\": \"scattergeo\", \"locationmode\": \"USA-states\", \"lon\": [-73.9535, -73.9599], \"lat\": [40.7685, 40.7684], \"mode\": \"lines\", \"line\": {\"width\": 1, \"color\": \"rgb(117, 174, 255)\"}}, {\"type\": \"scattergeo\", \"locationmode\": \"USA-states\", \"lon\": [-73.9599, -73.9673], \"lat\": [40.7684, 40.7728], \"mode\": \"lines\", \"line\": {\"width\": 1, \"color\": \"rgb(117, 174, 255)\"}}, {\"type\": \"scattergeo\", \"locationmode\": \"USA-states\", \"lon\": [-73.9673, -73.9577], \"lat\": [40.7728, 40.7702], \"mode\": \"lines\", \"line\": {\"width\": 1, \"color\": \"rgb(117, 174, 255)\"}}, {\"type\": \"scattergeo\", \"locationmode\": \"USA-states\", \"lon\": [-73.9577, -73.9796], \"lat\": [40.7702, 40.7647], \"mode\": \"lines\", \"line\": {\"width\": 1, \"color\": \"rgb(117, 174, 255)\"}}, {\"type\": \"scattergeo\", \"locationmode\": \"USA-states\", \"lon\": [-73.9796, -73.972], \"lat\": [40.7647, 40.7868], \"mode\": \"lines\", \"line\": {\"width\": 1, \"color\": \"rgb(117, 174, 255)\"}}, {\"type\": \"scattergeo\", \"locationmode\": \"USA-states\", \"lon\": [-73.972, -74.0035], \"lat\": [40.7868, 40.7178], \"mode\": \"lines\", \"line\": {\"width\": 1, \"color\": \"rgb(117, 174, 255)\"}}, {\"type\": \"scattergeo\", \"locationmode\": \"USA-states\", \"lon\": [-74.0035, -73.8857], \"lat\": [40.7178, 40.7732], \"mode\": \"lines\", \"line\": {\"width\": 1, \"color\": \"rgb(117, 174, 255)\"}}, {\"type\": \"scattergeo\", \"locationmode\": \"USA-states\", \"lon\": [-73.8857, -73.9919], \"lat\": [40.7732, 40.7257], \"mode\": \"lines\", \"line\": {\"width\": 1, \"color\": \"rgb(117, 174, 255)\"}}, {\"type\": \"scattergeo\", \"locationmode\": \"USA-states\", \"lon\": [-73.9919, -74.178], \"lat\": [40.7257, 40.695], \"mode\": \"lines\", \"line\": {\"width\": 1, \"color\": \"rgb(117, 174, 255)\"}}, {\"type\": \"scattergeo\", \"locationmode\": \"USA-states\", \"lon\": [-74.178, -73.9796], \"lat\": [40.695, 40.7644], \"mode\": \"lines\", \"line\": {\"width\": 1, \"color\": \"rgb(117, 174, 255)\"}}, {\"type\": \"scattergeo\", \"locationmode\": \"USA-states\", \"lon\": [-73.9796, -73.9766], \"lat\": [40.7644, 40.7641], \"mode\": \"lines\", \"line\": {\"width\": 1, \"color\": \"rgb(117, 174, 255)\"}}, {\"type\": \"scattergeo\", \"locationmode\": \"USA-states\", \"lon\": [-73.9766, -74.0012], \"lat\": [40.7641, 40.723], \"mode\": \"lines\", \"line\": {\"width\": 1, \"color\": \"rgb(117, 174, 255)\"}}, {\"type\": \"scattergeo\", \"locationmode\": \"USA-states\", \"lon\": [-74.0012, -73.9935], \"lat\": [40.723, 40.7326], \"mode\": \"lines\", \"line\": {\"width\": 1, \"color\": \"rgb(117, 174, 255)\"}}, {\"type\": \"scattergeo\", \"locationmode\": \"USA-states\", \"lon\": [-73.9935, -73.9742], \"lat\": [40.7326, 40.7569], \"mode\": \"lines\", \"line\": {\"width\": 1, \"color\": \"rgb(117, 174, 255)\"}}, {\"type\": \"scattergeo\", \"locationmode\": \"USA-states\", \"lon\": [-73.9742, -73.9788], \"lat\": [40.7569, 40.7622], \"mode\": \"lines\", \"line\": {\"width\": 1, \"color\": \"rgb(117, 174, 255)\"}}, {\"type\": \"scattergeo\", \"locationmode\": \"USA-states\", \"lon\": [-73.9788, -73.9533], \"lat\": [40.7622, 40.7785], \"mode\": \"lines\", \"line\": {\"width\": 1, \"color\": \"rgb(117, 174, 255)\"}}, {\"type\": \"scattergeo\", \"locationmode\": \"USA-states\", \"lon\": [-73.9533, -73.9873], \"lat\": [40.7785, 40.7447], \"mode\": \"lines\", \"line\": {\"width\": 1, \"color\": \"rgb(117, 174, 255)\"}}, {\"type\": \"scattergeo\", \"locationmode\": \"USA-states\", \"lon\": [-73.9873, -73.9973], \"lat\": [40.7447, 40.7191], \"mode\": \"lines\", \"line\": {\"width\": 1, \"color\": \"rgb(117, 174, 255)\"}}, {\"type\": \"scattergeo\", \"locationmode\": \"USA-states\", \"lon\": [-73.9973, -73.9853], \"lat\": [40.7191, 40.7031], \"mode\": \"lines\", \"line\": {\"width\": 1, \"color\": \"rgb(117, 174, 255)\"}}, {\"type\": \"scattergeo\", \"locationmode\": \"USA-states\", \"lon\": [-73.9853, -74.2213], \"lat\": [40.7031, 40.9148], \"mode\": \"lines\", \"line\": {\"width\": 1, \"color\": \"rgb(117, 174, 255)\"}}, {\"type\": \"scattergeo\", \"locationmode\": \"USA-states\", \"lon\": [-74.2213, -73.9708], \"lat\": [40.9148, 40.7649], \"mode\": \"lines\", \"line\": {\"width\": 1, \"color\": \"rgb(117, 174, 255)\"}}, {\"type\": \"scattergeo\", \"locationmode\": \"USA-states\", \"lon\": [-73.9708, -73.9756], \"lat\": [40.7649, 40.7521], \"mode\": \"lines\", \"line\": {\"width\": 1, \"color\": \"rgb(117, 174, 255)\"}}, {\"type\": \"scattergeo\", \"locationmode\": \"USA-states\", \"lon\": [-73.9756, -74.0008], \"lat\": [40.7521, 40.7374], \"mode\": \"lines\", \"line\": {\"width\": 1, \"color\": \"rgb(117, 174, 255)\"}}, {\"type\": \"scattergeo\", \"locationmode\": \"USA-states\", \"lon\": [-74.0008, -73.9639], \"lat\": [40.7374, 40.7749], \"mode\": \"lines\", \"line\": {\"width\": 1, \"color\": \"rgb(117, 174, 255)\"}}, {\"type\": \"scattergeo\", \"locationmode\": \"USA-states\", \"lon\": [-73.9639, -73.9621], \"lat\": [40.7749, 40.7763], \"mode\": \"lines\", \"line\": {\"width\": 1, \"color\": \"rgb(117, 174, 255)\"}}, {\"type\": \"scattergeo\", \"locationmode\": \"USA-states\", \"lon\": [-73.9621, -74.0029], \"lat\": [40.7763, 40.749], \"mode\": \"lines\", \"line\": {\"width\": 1, \"color\": \"rgb(117, 174, 255)\"}}, {\"type\": \"scattergeo\", \"locationmode\": \"USA-states\", \"lon\": [-74.0029, -74.0349], \"lat\": [40.749, 40.7276], \"mode\": \"lines\", \"line\": {\"width\": 1, \"color\": \"rgb(117, 174, 255)\"}}, {\"type\": \"scattergeo\", \"locationmode\": \"USA-states\", \"lon\": [-74.0349, -74.0349], \"lat\": [40.7276, 40.7276], \"mode\": \"lines\", \"line\": {\"width\": 1, \"color\": \"rgb(117, 174, 255)\"}}, {\"type\": \"scattergeo\", \"locationmode\": \"USA-states\", \"lon\": [-74.0349, -73.9842], \"lat\": [40.7276, 40.7631], \"mode\": \"lines\", \"line\": {\"width\": 1, \"color\": \"rgb(117, 174, 255)\"}}, {\"type\": \"scattergeo\", \"locationmode\": \"USA-states\", \"lon\": [-73.9842, -73.9669], \"lat\": [40.7631, 40.7601], \"mode\": \"lines\", \"line\": {\"width\": 1, \"color\": \"rgb(117, 174, 255)\"}}, {\"type\": \"scattergeo\", \"locationmode\": \"USA-states\", \"lon\": [-73.9669, -73.8811], \"lat\": [40.7601, 40.8791], \"mode\": \"lines\", \"line\": {\"width\": 1, \"color\": \"rgb(117, 174, 255)\"}}, {\"type\": \"scattergeo\", \"locationmode\": \"USA-states\", \"lon\": [-73.8811, -73.866], \"lat\": [40.8791, 40.771], \"mode\": \"lines\", \"line\": {\"width\": 1, \"color\": \"rgb(117, 174, 255)\"}}, {\"type\": \"scattergeo\", \"locationmode\": \"USA-states\", \"lon\": [-73.866, -74.0099], \"lat\": [40.771, 40.7364], \"mode\": \"lines\", \"line\": {\"width\": 1, \"color\": \"rgb(117, 174, 255)\"}}, {\"type\": \"scattergeo\", \"locationmode\": \"USA-states\", \"lon\": [-74.0099, -73.9549], \"lat\": [40.7364, 40.7657], \"mode\": \"lines\", \"line\": {\"width\": 1, \"color\": \"rgb(117, 174, 255)\"}}, {\"type\": \"scattergeo\", \"locationmode\": \"USA-states\", \"lon\": [-73.9549, -73.9757], \"lat\": [40.7657, 40.75], \"mode\": \"lines\", \"line\": {\"width\": 1, \"color\": \"rgb(117, 174, 255)\"}}, {\"type\": \"scattergeo\", \"locationmode\": \"USA-states\", \"lon\": [-73.9757, -73.9857], \"lat\": [40.75, 40.7397], \"mode\": \"lines\", \"line\": {\"width\": 1, \"color\": \"rgb(117, 174, 255)\"}}, {\"type\": \"scattergeo\", \"locationmode\": \"USA-states\", \"lon\": [-73.9857, -74.42], \"lat\": [40.7397, 40.779], \"mode\": \"lines\", \"line\": {\"width\": 1, \"color\": \"rgb(117, 174, 255)\"}}, {\"type\": \"scattergeo\", \"locationmode\": \"USA-states\", \"lon\": [-74.42, -74.0007], \"lat\": [40.779, 40.7273], \"mode\": \"lines\", \"line\": {\"width\": 1, \"color\": \"rgb(117, 174, 255)\"}}, {\"type\": \"scattergeo\", \"locationmode\": \"USA-states\", \"lon\": [-74.0007, -73.8624], \"lat\": [40.7273, 40.7684], \"mode\": \"lines\", \"line\": {\"width\": 1, \"color\": \"rgb(117, 174, 255)\"}}, {\"type\": \"scattergeo\", \"locationmode\": \"USA-states\", \"lon\": [-73.8624, -73.9954], \"lat\": [40.7684, 40.7393], \"mode\": \"lines\", \"line\": {\"width\": 1, \"color\": \"rgb(117, 174, 255)\"}}, {\"type\": \"scattergeo\", \"locationmode\": \"USA-states\", \"lon\": [-73.9954, -74.0078], \"lat\": [40.7393, 40.7382], \"mode\": \"lines\", \"line\": {\"width\": 1, \"color\": \"rgb(117, 174, 255)\"}}, {\"type\": \"scattergeo\", \"locationmode\": \"USA-states\", \"lon\": [-74.0078, -74.0024], \"lat\": [40.7382, 40.7187], \"mode\": \"lines\", \"line\": {\"width\": 1, \"color\": \"rgb(117, 174, 255)\"}}, {\"type\": \"scattergeo\", \"locationmode\": \"USA-states\", \"lon\": [-74.0024, -73.9752], \"lat\": [40.7187, 40.7618], \"mode\": \"lines\", \"line\": {\"width\": 1, \"color\": \"rgb(117, 174, 255)\"}}, {\"type\": \"scattergeo\", \"locationmode\": \"USA-states\", \"lon\": [-73.9752, -73.9538], \"lat\": [40.7618, 40.7851], \"mode\": \"lines\", \"line\": {\"width\": 1, \"color\": \"rgb(117, 174, 255)\"}}, {\"type\": \"scattergeo\", \"locationmode\": \"USA-states\", \"lon\": [-73.9538, -73.9538], \"lat\": [40.7851, 40.7851], \"mode\": \"lines\", \"line\": {\"width\": 1, \"color\": \"rgb(117, 174, 255)\"}}, {\"type\": \"scattergeo\", \"locationmode\": \"USA-states\", \"lon\": [-73.9538, -73.985], \"lat\": [40.7851, 40.742], \"mode\": \"lines\", \"line\": {\"width\": 1, \"color\": \"rgb(117, 174, 255)\"}}, {\"type\": \"scattergeo\", \"locationmode\": \"USA-states\", \"lon\": [-73.985, -73.987], \"lat\": [40.742, 40.7458], \"mode\": \"lines\", \"line\": {\"width\": 1, \"color\": \"rgb(117, 174, 255)\"}}, {\"type\": \"scattergeo\", \"locationmode\": \"USA-states\", \"lon\": [-73.987, -73.9589], \"lat\": [40.7458, 40.7699], \"mode\": \"lines\", \"line\": {\"width\": 1, \"color\": \"rgb(117, 174, 255)\"}}, {\"type\": \"scattergeo\", \"locationmode\": \"USA-states\", \"lon\": [-73.9589, -73.9839], \"lat\": [40.7699, 40.76], \"mode\": \"lines\", \"line\": {\"width\": 1, \"color\": \"rgb(117, 174, 255)\"}}, {\"type\": \"scattergeo\", \"locationmode\": \"USA-states\", \"lon\": [-73.9839, -74.0761], \"lat\": [40.76, 40.9155], \"mode\": \"lines\", \"line\": {\"width\": 1, \"color\": \"rgb(117, 174, 255)\"}}, {\"type\": \"scattergeo\", \"locationmode\": \"USA-states\", \"lon\": [-74.0761, -73.9739], \"lat\": [40.9155, 40.7516], \"mode\": \"lines\", \"line\": {\"width\": 1, \"color\": \"rgb(117, 174, 255)\"}}, {\"type\": \"scattergeo\", \"locationmode\": \"USA-states\", \"lon\": [-73.9739, -73.8733], \"lat\": [40.7516, 40.774], \"mode\": \"lines\", \"line\": {\"width\": 1, \"color\": \"rgb(117, 174, 255)\"}}, {\"type\": \"scattergeo\", \"locationmode\": \"USA-states\", \"lon\": [-73.8733, -73.9843], \"lat\": [40.774, 40.7565], \"mode\": \"lines\", \"line\": {\"width\": 1, \"color\": \"rgb(117, 174, 255)\"}}, {\"type\": \"scattergeo\", \"locationmode\": \"USA-states\", \"lon\": [-73.9843, -74.0123], \"lat\": [40.7565, 40.7195], \"mode\": \"lines\", \"line\": {\"width\": 1, \"color\": \"rgb(117, 174, 255)\"}}, {\"type\": \"scattergeo\", \"locationmode\": \"USA-states\", \"lon\": [-74.0123, -73.9855], \"lat\": [40.7195, 40.7529], \"mode\": \"lines\", \"line\": {\"width\": 1, \"color\": \"rgb(117, 174, 255)\"}}, {\"type\": \"scattergeo\", \"locationmode\": \"USA-states\", \"lon\": [-73.9855, -73.9761], \"lat\": [40.7529, 40.7501], \"mode\": \"lines\", \"line\": {\"width\": 1, \"color\": \"rgb(117, 174, 255)\"}}, {\"type\": \"scattergeo\", \"locationmode\": \"USA-states\", \"lon\": [-73.9761, -73.9917], \"lat\": [40.7501, 40.7197], \"mode\": \"lines\", \"line\": {\"width\": 1, \"color\": \"rgb(117, 174, 255)\"}}, {\"type\": \"scattergeo\", \"locationmode\": \"USA-states\", \"lon\": [-73.9917, -73.9729], \"lat\": [40.7197, 40.7619], \"mode\": \"lines\", \"line\": {\"width\": 1, \"color\": \"rgb(117, 174, 255)\"}}, {\"type\": \"scattergeo\", \"locationmode\": \"USA-states\", \"lon\": [-73.9729, -73.95100000000001], \"lat\": [40.7619, 40.783], \"mode\": \"lines\", \"line\": {\"width\": 1, \"color\": \"rgb(117, 174, 255)\"}}, {\"type\": \"scattergeo\", \"locationmode\": \"USA-states\", \"lon\": [-73.95100000000001, -73.9877], \"lat\": [40.783, 40.7319], \"mode\": \"lines\", \"line\": {\"width\": 1, \"color\": \"rgb(117, 174, 255)\"}}, {\"type\": \"scattergeo\", \"locationmode\": \"USA-states\", \"lon\": [-73.9877, -73.9926], \"lat\": [40.7319, 40.7538], \"mode\": \"lines\", \"line\": {\"width\": 1, \"color\": \"rgb(117, 174, 255)\"}}, {\"type\": \"scattergeo\", \"locationmode\": \"USA-states\", \"lon\": [-73.9926, -74.0065], \"lat\": [40.7538, 40.7189], \"mode\": \"lines\", \"line\": {\"width\": 1, \"color\": \"rgb(117, 174, 255)\"}}, {\"type\": \"scattergeo\", \"locationmode\": \"USA-states\", \"lon\": [-74.0065, -73.988], \"lat\": [40.7189, 40.7455], \"mode\": \"lines\", \"line\": {\"width\": 1, \"color\": \"rgb(117, 174, 255)\"}}, {\"type\": \"scattergeo\", \"locationmode\": \"USA-states\", \"lon\": [-73.988, -74.0248], \"lat\": [40.7455, 40.753], \"mode\": \"lines\", \"line\": {\"width\": 1, \"color\": \"rgb(117, 174, 255)\"}}, {\"type\": \"scattergeo\", \"locationmode\": \"USA-states\", \"lon\": [-74.0248, -74.0248], \"lat\": [40.753, 40.753], \"mode\": \"lines\", \"line\": {\"width\": 1, \"color\": \"rgb(117, 174, 255)\"}}, {\"type\": \"scattergeo\", \"locationmode\": \"USA-states\", \"lon\": [-74.0248, -73.9686], \"lat\": [40.753, 40.7646], \"mode\": \"lines\", \"line\": {\"width\": 1, \"color\": \"rgb(117, 174, 255)\"}}, {\"type\": \"scattergeo\", \"locationmode\": \"USA-states\", \"lon\": [-73.9686, -73.9829], \"lat\": [40.7646, 40.7692], \"mode\": \"lines\", \"line\": {\"width\": 1, \"color\": \"rgb(117, 174, 255)\"}}, {\"type\": \"scattergeo\", \"locationmode\": \"USA-states\", \"lon\": [-73.9829, -74.0088], \"lat\": [40.7692, 40.7275], \"mode\": \"lines\", \"line\": {\"width\": 1, \"color\": \"rgb(117, 174, 255)\"}}, {\"type\": \"scattergeo\", \"locationmode\": \"USA-states\", \"lon\": [-74.0088, -73.9923], \"lat\": [40.7275, 40.7494], \"mode\": \"lines\", \"line\": {\"width\": 1, \"color\": \"rgb(117, 174, 255)\"}}, {\"type\": \"scattergeo\", \"locationmode\": \"USA-states\", \"lon\": [-73.9923, -73.9872], \"lat\": [40.7494, 40.6957], \"mode\": \"lines\", \"line\": {\"width\": 1, \"color\": \"rgb(117, 174, 255)\"}}, {\"type\": \"scattergeo\", \"locationmode\": \"USA-states\", \"lon\": [-73.9872, -74.1784], \"lat\": [40.6957, 40.695], \"mode\": \"lines\", \"line\": {\"width\": 1, \"color\": \"rgb(117, 174, 255)\"}}, {\"type\": \"scattergeo\", \"locationmode\": \"USA-states\", \"lon\": [-74.1784, -73.8728], \"lat\": [40.695, 40.7739], \"mode\": \"lines\", \"line\": {\"width\": 1, \"color\": \"rgb(117, 174, 255)\"}}, {\"type\": \"scattergeo\", \"locationmode\": \"USA-states\", \"lon\": [-73.8728, -73.4202], \"lat\": [40.7739, 40.7757], \"mode\": \"lines\", \"line\": {\"width\": 1, \"color\": \"rgb(117, 174, 255)\"}}, {\"type\": \"scattergeo\", \"locationmode\": \"USA-states\", \"lon\": [-73.4202, -73.9531], \"lat\": [40.7757, 40.7651], \"mode\": \"lines\", \"line\": {\"width\": 1, \"color\": \"rgb(117, 174, 255)\"}}, {\"type\": \"scattergeo\", \"locationmode\": \"USA-states\", \"lon\": [-73.9531, -73.9251], \"lat\": [40.7651, 40.7663], \"mode\": \"lines\", \"line\": {\"width\": 1, \"color\": \"rgb(117, 174, 255)\"}}, {\"type\": \"scattergeo\", \"locationmode\": \"USA-states\", \"lon\": [-73.9251, -73.9966], \"lat\": [40.7663, 40.7177], \"mode\": \"lines\", \"line\": {\"width\": 1, \"color\": \"rgb(117, 174, 255)\"}}, {\"type\": \"scattergeo\", \"locationmode\": \"USA-states\", \"lon\": [-73.9966, -73.961], \"lat\": [40.7177, 40.78], \"mode\": \"lines\", \"line\": {\"width\": 1, \"color\": \"rgb(117, 174, 255)\"}}, {\"type\": \"scattergeo\", \"locationmode\": \"USA-states\", \"lon\": [-73.961, -73.8727], \"lat\": [40.78, 40.7741], \"mode\": \"lines\", \"line\": {\"width\": 1, \"color\": \"rgb(117, 174, 255)\"}}, {\"type\": \"scattergeo\", \"locationmode\": \"USA-states\", \"lon\": [-73.8727, -73.9854], \"lat\": [40.7741, 40.7385], \"mode\": \"lines\", \"line\": {\"width\": 1, \"color\": \"rgb(117, 174, 255)\"}}, {\"type\": \"scattergeo\", \"locationmode\": \"USA-states\", \"lon\": [-73.9854, -73.8624], \"lat\": [40.7385, 40.7685], \"mode\": \"lines\", \"line\": {\"width\": 1, \"color\": \"rgb(117, 174, 255)\"}}, {\"type\": \"scattergeo\", \"locationmode\": \"USA-states\", \"lon\": [-73.8624, -73.9873], \"lat\": [40.7685, 40.6926], \"mode\": \"lines\", \"line\": {\"width\": 1, \"color\": \"rgb(117, 174, 255)\"}}, {\"type\": \"scattergeo\", \"locationmode\": \"USA-states\", \"lon\": [-73.9873, -73.9963], \"lat\": [40.6926, 40.7346], \"mode\": \"lines\", \"line\": {\"width\": 1, \"color\": \"rgb(117, 174, 255)\"}}, {\"type\": \"scattergeo\", \"locationmode\": \"USA-states\", \"lon\": [-73.9963, -73.9441], \"lat\": [40.7346, 40.775999999999996], \"mode\": \"lines\", \"line\": {\"width\": 1, \"color\": \"rgb(117, 174, 255)\"}}, {\"type\": \"scattergeo\", \"locationmode\": \"USA-states\", \"lon\": [-73.9441, -74.0005], \"lat\": [40.775999999999996, 40.7211], \"mode\": \"lines\", \"line\": {\"width\": 1, \"color\": \"rgb(117, 174, 255)\"}}, {\"type\": \"scattergeo\", \"locationmode\": \"USA-states\", \"lon\": [-74.0005, -74.0126], \"lat\": [40.7211, 40.7026], \"mode\": \"lines\", \"line\": {\"width\": 1, \"color\": \"rgb(117, 174, 255)\"}}, {\"type\": \"scattergeo\", \"locationmode\": \"USA-states\", \"lon\": [-74.0126, -73.9523], \"lat\": [40.7026, 40.768], \"mode\": \"lines\", \"line\": {\"width\": 1, \"color\": \"rgb(117, 174, 255)\"}}, {\"type\": \"scattergeo\", \"locationmode\": \"USA-states\", \"lon\": [-73.9523, -74.0061], \"lat\": [40.768, 40.7485], \"mode\": \"lines\", \"line\": {\"width\": 1, \"color\": \"rgb(117, 174, 255)\"}}, {\"type\": \"scattergeo\", \"locationmode\": \"USA-states\", \"lon\": [-74.0061, -73.9717], \"lat\": [40.7485, 40.7568], \"mode\": \"lines\", \"line\": {\"width\": 1, \"color\": \"rgb(117, 174, 255)\"}}, {\"type\": \"scattergeo\", \"locationmode\": \"USA-states\", \"lon\": [-73.9717, -73.9838], \"lat\": [40.7568, 40.7617], \"mode\": \"lines\", \"line\": {\"width\": 1, \"color\": \"rgb(117, 174, 255)\"}}, {\"type\": \"scattergeo\", \"locationmode\": \"USA-states\", \"lon\": [-73.9838, -73.8728], \"lat\": [40.7617, 40.774], \"mode\": \"lines\", \"line\": {\"width\": 1, \"color\": \"rgb(117, 174, 255)\"}}, {\"type\": \"scattergeo\", \"locationmode\": \"USA-states\", \"lon\": [-73.8728, -73.9966], \"lat\": [40.774, 40.6919], \"mode\": \"lines\", \"line\": {\"width\": 1, \"color\": \"rgb(117, 174, 255)\"}}, {\"type\": \"scattergeo\", \"locationmode\": \"USA-states\", \"lon\": [-73.9966, -73.9905], \"lat\": [40.6919, 40.7754], \"mode\": \"lines\", \"line\": {\"width\": 1, \"color\": \"rgb(117, 174, 255)\"}}, {\"type\": \"scattergeo\", \"locationmode\": \"USA-states\", \"lon\": [-73.9905, -73.993], \"lat\": [40.7754, 40.7515], \"mode\": \"lines\", \"line\": {\"width\": 1, \"color\": \"rgb(117, 174, 255)\"}}, {\"type\": \"scattergeo\", \"locationmode\": \"USA-states\", \"lon\": [-73.993, -73.9655], \"lat\": [40.7515, 40.7719], \"mode\": \"lines\", \"line\": {\"width\": 1, \"color\": \"rgb(117, 174, 255)\"}}, {\"type\": \"scattergeo\", \"locationmode\": \"USA-states\", \"lon\": [-73.9655, -73.8724], \"lat\": [40.7719, 40.7739], \"mode\": \"lines\", \"line\": {\"width\": 1, \"color\": \"rgb(117, 174, 255)\"}}, {\"type\": \"scattergeo\", \"locationmode\": \"USA-states\", \"lon\": [-73.8724, -74.1775], \"lat\": [40.7739, 40.6946], \"mode\": \"lines\", \"line\": {\"width\": 1, \"color\": \"rgb(117, 174, 255)\"}}, {\"type\": \"scattergeo\", \"locationmode\": \"USA-states\", \"lon\": [-74.1775, -73.9998], \"lat\": [40.6946, 40.7331], \"mode\": \"lines\", \"line\": {\"width\": 1, \"color\": \"rgb(117, 174, 255)\"}}, {\"type\": \"scattergeo\", \"locationmode\": \"USA-states\", \"lon\": [-73.9998, -73.8856], \"lat\": [40.7331, 40.7732], \"mode\": \"lines\", \"line\": {\"width\": 1, \"color\": \"rgb(117, 174, 255)\"}}, {\"type\": \"scattergeo\", \"locationmode\": \"USA-states\", \"lon\": [-73.8856, -73.9894], \"lat\": [40.7732, 40.7417], \"mode\": \"lines\", \"line\": {\"width\": 1, \"color\": \"rgb(117, 174, 255)\"}}, {\"type\": \"scattergeo\", \"locationmode\": \"USA-states\", \"lon\": [-73.9894, -74.0018], \"lat\": [40.7417, 40.7325], \"mode\": \"lines\", \"line\": {\"width\": 1, \"color\": \"rgb(117, 174, 255)\"}}, {\"type\": \"scattergeo\", \"locationmode\": \"USA-states\", \"lon\": [-74.0018, -73.9685], \"lat\": [40.7325, 40.764], \"mode\": \"lines\", \"line\": {\"width\": 1, \"color\": \"rgb(117, 174, 255)\"}}, {\"type\": \"scattergeo\", \"locationmode\": \"USA-states\", \"lon\": [-73.9685, -73.9723], \"lat\": [40.764, 40.7577], \"mode\": \"lines\", \"line\": {\"width\": 1, \"color\": \"rgb(117, 174, 255)\"}}, {\"type\": \"scattergeo\", \"locationmode\": \"USA-states\", \"lon\": [-73.9723, -74.1783], \"lat\": [40.7577, 40.6953], \"mode\": \"lines\", \"line\": {\"width\": 1, \"color\": \"rgb(117, 174, 255)\"}}, {\"type\": \"scattergeo\", \"locationmode\": \"USA-states\", \"lon\": [-74.1783, -73.9841], \"lat\": [40.6953, 40.7572], \"mode\": \"lines\", \"line\": {\"width\": 1, \"color\": \"rgb(117, 174, 255)\"}}, {\"type\": \"scattergeo\", \"locationmode\": \"USA-states\", \"lon\": [-73.9841, -74.3923], \"lat\": [40.7572, 40.8056], \"mode\": \"lines\", \"line\": {\"width\": 1, \"color\": \"rgb(117, 174, 255)\"}}, {\"type\": \"scattergeo\", \"locationmode\": \"USA-states\", \"lon\": [-74.3923, -73.9736], \"lat\": [40.8056, 40.7595], \"mode\": \"lines\", \"line\": {\"width\": 1, \"color\": \"rgb(117, 174, 255)\"}}, {\"type\": \"scattergeo\", \"locationmode\": \"USA-states\", \"lon\": [-73.9736, -73.9556], \"lat\": [40.7595, 40.7853], \"mode\": \"lines\", \"line\": {\"width\": 1, \"color\": \"rgb(117, 174, 255)\"}}, {\"type\": \"scattergeo\", \"locationmode\": \"USA-states\", \"lon\": [-73.9556, -73.9556], \"lat\": [40.7853, 40.7853], \"mode\": \"lines\", \"line\": {\"width\": 1, \"color\": \"rgb(117, 174, 255)\"}}, {\"type\": \"scattergeo\", \"locationmode\": \"USA-states\", \"lon\": [-73.9556, -74.0007], \"lat\": [40.7853, 40.7244], \"mode\": \"lines\", \"line\": {\"width\": 1, \"color\": \"rgb(117, 174, 255)\"}}, {\"type\": \"scattergeo\", \"locationmode\": \"USA-states\", \"lon\": [-74.0007, -74.0006], \"lat\": [40.7244, 40.7196], \"mode\": \"lines\", \"line\": {\"width\": 1, \"color\": \"rgb(117, 174, 255)\"}}, {\"type\": \"scattergeo\", \"locationmode\": \"USA-states\", \"lon\": [-74.0006, -73.9812], \"lat\": [40.7196, 40.7691], \"mode\": \"lines\", \"line\": {\"width\": 1, \"color\": \"rgb(117, 174, 255)\"}}, {\"type\": \"scattergeo\", \"locationmode\": \"USA-states\", \"lon\": [-73.9812, -73.9909], \"lat\": [40.7691, 40.7516], \"mode\": \"lines\", \"line\": {\"width\": 1, \"color\": \"rgb(117, 174, 255)\"}}, {\"type\": \"scattergeo\", \"locationmode\": \"USA-states\", \"lon\": [-73.9909, -73.9657], \"lat\": [40.7516, 40.7677], \"mode\": \"lines\", \"line\": {\"width\": 1, \"color\": \"rgb(117, 174, 255)\"}}, {\"type\": \"scattergeo\", \"locationmode\": \"USA-states\", \"lon\": [-73.9657, -73.96600000000001], \"lat\": [40.7677, 40.7546], \"mode\": \"lines\", \"line\": {\"width\": 1, \"color\": \"rgb(117, 174, 255)\"}}, {\"type\": \"scattergeo\", \"locationmode\": \"USA-states\", \"lon\": [-73.96600000000001, -73.9893], \"lat\": [40.7546, 40.7578], \"mode\": \"lines\", \"line\": {\"width\": 1, \"color\": \"rgb(117, 174, 255)\"}}, {\"type\": \"scattergeo\", \"locationmode\": \"USA-states\", \"lon\": [-73.9893, -73.9791], \"lat\": [40.7578, 40.7619], \"mode\": \"lines\", \"line\": {\"width\": 1, \"color\": \"rgb(117, 174, 255)\"}}, {\"type\": \"scattergeo\", \"locationmode\": \"USA-states\", \"lon\": [-73.9791, -73.9867], \"lat\": [40.7619, 40.7397], \"mode\": \"lines\", \"line\": {\"width\": 1, \"color\": \"rgb(117, 174, 255)\"}}, {\"type\": \"scattergeo\", \"locationmode\": \"USA-states\", \"lon\": [-73.9867, -74.001], \"lat\": [40.7397, 40.7275], \"mode\": \"lines\", \"line\": {\"width\": 1, \"color\": \"rgb(117, 174, 255)\"}}, {\"type\": \"scattergeo\", \"locationmode\": \"USA-states\", \"lon\": [-74.001, -73.9658], \"lat\": [40.7275, 40.7694], \"mode\": \"lines\", \"line\": {\"width\": 1, \"color\": \"rgb(117, 174, 255)\"}}, {\"type\": \"scattergeo\", \"locationmode\": \"USA-states\", \"lon\": [-73.9658, -73.9693], \"lat\": [40.7694, 40.8005], \"mode\": \"lines\", \"line\": {\"width\": 1, \"color\": \"rgb(117, 174, 255)\"}}, {\"type\": \"scattergeo\", \"locationmode\": \"USA-states\", \"lon\": [-73.9693, -73.7819], \"lat\": [40.8005, 40.645], \"mode\": \"lines\", \"line\": {\"width\": 1, \"color\": \"rgb(117, 174, 255)\"}}, {\"type\": \"scattergeo\", \"locationmode\": \"USA-states\", \"lon\": [-73.7819, -74.0736], \"lat\": [40.645, 40.9651], \"mode\": \"lines\", \"line\": {\"width\": 1, \"color\": \"rgb(117, 174, 255)\"}}, {\"type\": \"scattergeo\", \"locationmode\": \"USA-states\", \"lon\": [-74.0736, -73.9662], \"lat\": [40.9651, 40.7705], \"mode\": \"lines\", \"line\": {\"width\": 1, \"color\": \"rgb(117, 174, 255)\"}}, {\"type\": \"scattergeo\", \"locationmode\": \"USA-states\", \"lon\": [-73.9662, -73.9768], \"lat\": [40.7705, 40.6833], \"mode\": \"lines\", \"line\": {\"width\": 1, \"color\": \"rgb(117, 174, 255)\"}}, {\"type\": \"scattergeo\", \"locationmode\": \"USA-states\", \"lon\": [-73.9768, -74.0097], \"lat\": [40.6833, 40.7797], \"mode\": \"lines\", \"line\": {\"width\": 1, \"color\": \"rgb(117, 174, 255)\"}}, {\"type\": \"scattergeo\", \"locationmode\": \"USA-states\", \"lon\": [-74.0097, -73.9915], \"lat\": [40.7797, 40.7598], \"mode\": \"lines\", \"line\": {\"width\": 1, \"color\": \"rgb(117, 174, 255)\"}}, {\"type\": \"scattergeo\", \"locationmode\": \"USA-states\", \"lon\": [-73.9915, -73.7826], \"lat\": [40.7598, 40.6448], \"mode\": \"lines\", \"line\": {\"width\": 1, \"color\": \"rgb(117, 174, 255)\"}}, {\"type\": \"scattergeo\", \"locationmode\": \"USA-states\", \"lon\": [-73.7826, -73.9869], \"lat\": [40.6448, 40.7407], \"mode\": \"lines\", \"line\": {\"width\": 1, \"color\": \"rgb(117, 174, 255)\"}}, {\"type\": \"scattergeo\", \"locationmode\": \"USA-states\", \"lon\": [-73.9869, -73.9628], \"lat\": [40.7407, 40.7754], \"mode\": \"lines\", \"line\": {\"width\": 1, \"color\": \"rgb(117, 174, 255)\"}}, {\"type\": \"scattergeo\", \"locationmode\": \"USA-states\", \"lon\": [-73.9628, -73.9847], \"lat\": [40.7754, 40.7104], \"mode\": \"lines\", \"line\": {\"width\": 1, \"color\": \"rgb(117, 174, 255)\"}}, {\"type\": \"scattergeo\", \"locationmode\": \"USA-states\", \"lon\": [-73.9847, -74.0051], \"lat\": [40.7104, 40.7198], \"mode\": \"lines\", \"line\": {\"width\": 1, \"color\": \"rgb(117, 174, 255)\"}}, {\"type\": \"scattergeo\", \"locationmode\": \"USA-states\", \"lon\": [-74.0051, -73.9846], \"lat\": [40.7198, 40.7103], \"mode\": \"lines\", \"line\": {\"width\": 1, \"color\": \"rgb(117, 174, 255)\"}}, {\"type\": \"scattergeo\", \"locationmode\": \"USA-states\", \"lon\": [-73.9846, -74.1834], \"lat\": [40.7103, 40.6931], \"mode\": \"lines\", \"line\": {\"width\": 1, \"color\": \"rgb(117, 174, 255)\"}}, {\"type\": \"scattergeo\", \"locationmode\": \"USA-states\", \"lon\": [-74.1834, -74.0062], \"lat\": [40.6931, 40.7394], \"mode\": \"lines\", \"line\": {\"width\": 1, \"color\": \"rgb(117, 174, 255)\"}}, {\"type\": \"scattergeo\", \"locationmode\": \"USA-states\", \"lon\": [-74.0062, -73.9706], \"lat\": [40.7394, 40.7647], \"mode\": \"lines\", \"line\": {\"width\": 1, \"color\": \"rgb(117, 174, 255)\"}}, {\"type\": \"scattergeo\", \"locationmode\": \"USA-states\", \"lon\": [-73.9706, -73.9632], \"lat\": [40.7647, 40.7642], \"mode\": \"lines\", \"line\": {\"width\": 1, \"color\": \"rgb(117, 174, 255)\"}}, {\"type\": \"scattergeo\", \"locationmode\": \"USA-states\", \"lon\": [-73.9632, -74.1787], \"lat\": [40.7642, 40.6951], \"mode\": \"lines\", \"line\": {\"width\": 1, \"color\": \"rgb(117, 174, 255)\"}}, {\"type\": \"scattergeo\", \"locationmode\": \"USA-states\", \"lon\": [-74.1787, -73.9697], \"lat\": [40.6951, 40.7585], \"mode\": \"lines\", \"line\": {\"width\": 1, \"color\": \"rgb(117, 174, 255)\"}}, {\"type\": \"scattergeo\", \"locationmode\": \"USA-states\", \"lon\": [-73.9697, -73.9945], \"lat\": [40.7585, 40.7504], \"mode\": \"lines\", \"line\": {\"width\": 1, \"color\": \"rgb(117, 174, 255)\"}}, {\"type\": \"scattergeo\", \"locationmode\": \"USA-states\", \"lon\": [-73.9945, -73.953], \"lat\": [40.7504, 40.7682], \"mode\": \"lines\", \"line\": {\"width\": 1, \"color\": \"rgb(117, 174, 255)\"}}, {\"type\": \"scattergeo\", \"locationmode\": \"USA-states\", \"lon\": [-73.953, -74.0022], \"lat\": [40.7682, 40.7247], \"mode\": \"lines\", \"line\": {\"width\": 1, \"color\": \"rgb(117, 174, 255)\"}}, {\"type\": \"scattergeo\", \"locationmode\": \"USA-states\", \"lon\": [-74.0022, -74.0025], \"lat\": [40.7247, 40.7145], \"mode\": \"lines\", \"line\": {\"width\": 1, \"color\": \"rgb(117, 174, 255)\"}}, {\"type\": \"scattergeo\", \"locationmode\": \"USA-states\", \"lon\": [-74.0025, -73.9745], \"lat\": [40.7145, 40.7593], \"mode\": \"lines\", \"line\": {\"width\": 1, \"color\": \"rgb(117, 174, 255)\"}}, {\"type\": \"scattergeo\", \"locationmode\": \"USA-states\", \"lon\": [-73.9745, -74.0071], \"lat\": [40.7593, 40.7284], \"mode\": \"lines\", \"line\": {\"width\": 1, \"color\": \"rgb(117, 174, 255)\"}}, {\"type\": \"scattergeo\", \"locationmode\": \"USA-states\", \"lon\": [-74.0071, -74.0093], \"lat\": [40.7284, 40.7079], \"mode\": \"lines\", \"line\": {\"width\": 1, \"color\": \"rgb(117, 174, 255)\"}}, {\"type\": \"scattergeo\", \"locationmode\": \"USA-states\", \"lon\": [-74.0093, -73.9631], \"lat\": [40.7079, 40.7692], \"mode\": \"lines\", \"line\": {\"width\": 1, \"color\": \"rgb(117, 174, 255)\"}}, {\"type\": \"scattergeo\", \"locationmode\": \"USA-states\", \"lon\": [-73.9631, -73.953], \"lat\": [40.7692, 40.7644], \"mode\": \"lines\", \"line\": {\"width\": 1, \"color\": \"rgb(117, 174, 255)\"}}, {\"type\": \"scattergeo\", \"locationmode\": \"USA-states\", \"lon\": [-73.953, -73.9795], \"lat\": [40.7644, 40.7553], \"mode\": \"lines\", \"line\": {\"width\": 1, \"color\": \"rgb(117, 174, 255)\"}}, {\"type\": \"scattergeo\", \"locationmode\": \"USA-states\", \"lon\": [-73.9795, -73.9622], \"lat\": [40.7553, 40.7551], \"mode\": \"lines\", \"line\": {\"width\": 1, \"color\": \"rgb(117, 174, 255)\"}}, {\"type\": \"scattergeo\", \"locationmode\": \"USA-states\", \"lon\": [-73.9622, -73.8727], \"lat\": [40.7551, 40.7741], \"mode\": \"lines\", \"line\": {\"width\": 1, \"color\": \"rgb(117, 174, 255)\"}}, {\"type\": \"scattergeo\", \"locationmode\": \"USA-states\", \"lon\": [-73.8727, -73.9757], \"lat\": [40.7741, 40.7545], \"mode\": \"lines\", \"line\": {\"width\": 1, \"color\": \"rgb(117, 174, 255)\"}}, {\"type\": \"scattergeo\", \"locationmode\": \"USA-states\", \"lon\": [-73.9757, -73.9755], \"lat\": [40.7545, 40.7355], \"mode\": \"lines\", \"line\": {\"width\": 1, \"color\": \"rgb(117, 174, 255)\"}}, {\"type\": \"scattergeo\", \"locationmode\": \"USA-states\", \"lon\": [-73.9755, -73.866], \"lat\": [40.7355, 40.771], \"mode\": \"lines\", \"line\": {\"width\": 1, \"color\": \"rgb(117, 174, 255)\"}}, {\"type\": \"scattergeo\", \"locationmode\": \"USA-states\", \"lon\": [-73.866, -73.9558], \"lat\": [40.771, 40.7755], \"mode\": \"lines\", \"line\": {\"width\": 1, \"color\": \"rgb(117, 174, 255)\"}}, {\"type\": \"scattergeo\", \"locationmode\": \"USA-states\", \"lon\": [-73.9558, -73.9869], \"lat\": [40.7755, 40.7283], \"mode\": \"lines\", \"line\": {\"width\": 1, \"color\": \"rgb(117, 174, 255)\"}}, {\"type\": \"scattergeo\", \"locationmode\": \"USA-states\", \"lon\": [-73.9869, -73.9902], \"lat\": [40.7283, 40.7577], \"mode\": \"lines\", \"line\": {\"width\": 1, \"color\": \"rgb(117, 174, 255)\"}}, {\"type\": \"scattergeo\", \"locationmode\": \"USA-states\", \"lon\": [-73.9902, -73.9825], \"lat\": [40.7577, 40.764], \"mode\": \"lines\", \"line\": {\"width\": 1, \"color\": \"rgb(117, 174, 255)\"}}, {\"type\": \"scattergeo\", \"locationmode\": \"USA-states\", \"lon\": [-73.9825, -73.9806], \"lat\": [40.764, 40.7644], \"mode\": \"lines\", \"line\": {\"width\": 1, \"color\": \"rgb(117, 174, 255)\"}}, {\"type\": \"scattergeo\", \"locationmode\": \"USA-states\", \"lon\": [-73.9806, -73.9536], \"lat\": [40.7644, 40.8092], \"mode\": \"lines\", \"line\": {\"width\": 1, \"color\": \"rgb(117, 174, 255)\"}}, {\"type\": \"scattergeo\", \"locationmode\": \"USA-states\", \"lon\": [-73.9536, -73.8658], \"lat\": [40.8092, 40.7708], \"mode\": \"lines\", \"line\": {\"width\": 1, \"color\": \"rgb(117, 174, 255)\"}}, {\"type\": \"scattergeo\", \"locationmode\": \"USA-states\", \"lon\": [-73.8658, -73.9716], \"lat\": [40.7708, 40.7556], \"mode\": \"lines\", \"line\": {\"width\": 1, \"color\": \"rgb(117, 174, 255)\"}}, {\"type\": \"scattergeo\", \"locationmode\": \"USA-states\", \"lon\": [-73.9716, -73.9739], \"lat\": [40.7556, 40.7578], \"mode\": \"lines\", \"line\": {\"width\": 1, \"color\": \"rgb(117, 174, 255)\"}}, {\"type\": \"scattergeo\", \"locationmode\": \"USA-states\", \"lon\": [-73.9739, -73.97399999999999], \"lat\": [40.7578, 40.7557], \"mode\": \"lines\", \"line\": {\"width\": 1, \"color\": \"rgb(117, 174, 255)\"}}, {\"type\": \"scattergeo\", \"locationmode\": \"USA-states\", \"lon\": [-73.97399999999999, -73.9849], \"lat\": [40.7557, 40.7101], \"mode\": \"lines\", \"line\": {\"width\": 1, \"color\": \"rgb(117, 174, 255)\"}}, {\"type\": \"scattergeo\", \"locationmode\": \"USA-states\", \"lon\": [-73.9849, -73.96], \"lat\": [40.7101, 40.7798], \"mode\": \"lines\", \"line\": {\"width\": 1, \"color\": \"rgb(117, 174, 255)\"}}, {\"type\": \"scattergeo\", \"locationmode\": \"USA-states\", \"lon\": [-73.96, -73.96], \"lat\": [40.7798, 40.7798], \"mode\": \"lines\", \"line\": {\"width\": 1, \"color\": \"rgb(117, 174, 255)\"}}, {\"type\": \"scattergeo\", \"locationmode\": \"USA-states\", \"lon\": [-73.96, -73.9735], \"lat\": [40.7798, 40.8247], \"mode\": \"lines\", \"line\": {\"width\": 1, \"color\": \"rgb(117, 174, 255)\"}}, {\"type\": \"scattergeo\", \"locationmode\": \"USA-states\", \"lon\": [-73.9735, -74.0067], \"lat\": [40.8247, 40.7416], \"mode\": \"lines\", \"line\": {\"width\": 1, \"color\": \"rgb(117, 174, 255)\"}}, {\"type\": \"scattergeo\", \"locationmode\": \"USA-states\", \"lon\": [-74.0067, -73.9744], \"lat\": [40.7416, 40.7624], \"mode\": \"lines\", \"line\": {\"width\": 1, \"color\": \"rgb(117, 174, 255)\"}}, {\"type\": \"scattergeo\", \"locationmode\": \"USA-states\", \"lon\": [-73.9744, -73.9727], \"lat\": [40.7624, 40.7644], \"mode\": \"lines\", \"line\": {\"width\": 1, \"color\": \"rgb(117, 174, 255)\"}}, {\"type\": \"scattergeo\", \"locationmode\": \"USA-states\", \"lon\": [-73.9727, -73.977], \"lat\": [40.7644, 40.7641], \"mode\": \"lines\", \"line\": {\"width\": 1, \"color\": \"rgb(117, 174, 255)\"}}, {\"type\": \"scattergeo\", \"locationmode\": \"USA-states\", \"lon\": [-73.977, -73.985], \"lat\": [40.7641, 40.745], \"mode\": \"lines\", \"line\": {\"width\": 1, \"color\": \"rgb(117, 174, 255)\"}}, {\"type\": \"scattergeo\", \"locationmode\": \"USA-states\", \"lon\": [-73.985, -73.973], \"lat\": [40.745, 40.7617], \"mode\": \"lines\", \"line\": {\"width\": 1, \"color\": \"rgb(117, 174, 255)\"}}, {\"type\": \"scattergeo\", \"locationmode\": \"USA-states\", \"lon\": [-73.973, -73.9735], \"lat\": [40.7617, 40.7636], \"mode\": \"lines\", \"line\": {\"width\": 1, \"color\": \"rgb(117, 174, 255)\"}}, {\"type\": \"scattergeo\", \"locationmode\": \"USA-states\", \"lon\": [-73.9735, -74.0062], \"lat\": [40.7636, 40.7413], \"mode\": \"lines\", \"line\": {\"width\": 1, \"color\": \"rgb(117, 174, 255)\"}}, {\"type\": \"scattergeo\", \"locationmode\": \"USA-states\", \"lon\": [-74.0062, -73.9547], \"lat\": [40.7413, 40.7866], \"mode\": \"lines\", \"line\": {\"width\": 1, \"color\": \"rgb(117, 174, 255)\"}}, {\"type\": \"scattergeo\", \"locationmode\": \"USA-states\", \"lon\": [-73.9547, -73.9466], \"lat\": [40.7866, 40.7824], \"mode\": \"lines\", \"line\": {\"width\": 1, \"color\": \"rgb(117, 174, 255)\"}}, {\"type\": \"scattergeo\", \"locationmode\": \"USA-states\", \"lon\": [-73.9466, -73.9686], \"lat\": [40.7824, 40.7616], \"mode\": \"lines\", \"line\": {\"width\": 1, \"color\": \"rgb(117, 174, 255)\"}}, {\"type\": \"scattergeo\", \"locationmode\": \"USA-states\", \"lon\": [-73.9686, -73.9788], \"lat\": [40.7616, 40.7566], \"mode\": \"lines\", \"line\": {\"width\": 1, \"color\": \"rgb(117, 174, 255)\"}}, {\"type\": \"scattergeo\", \"locationmode\": \"USA-states\", \"lon\": [-73.9788, -74.0131], \"lat\": [40.7566, 40.6339], \"mode\": \"lines\", \"line\": {\"width\": 1, \"color\": \"rgb(117, 174, 255)\"}}, {\"type\": \"scattergeo\", \"locationmode\": \"USA-states\", \"lon\": [-74.0131, -74.0073], \"lat\": [40.6339, 40.7274], \"mode\": \"lines\", \"line\": {\"width\": 1, \"color\": \"rgb(117, 174, 255)\"}}, {\"type\": \"scattergeo\", \"locationmode\": \"USA-states\", \"lon\": [-74.0073, -73.8715], \"lat\": [40.7274, 40.7739], \"mode\": \"lines\", \"line\": {\"width\": 1, \"color\": \"rgb(117, 174, 255)\"}}, {\"type\": \"scattergeo\", \"locationmode\": \"USA-states\", \"lon\": [-73.8715, -73.9875], \"lat\": [40.7739, 40.7671], \"mode\": \"lines\", \"line\": {\"width\": 1, \"color\": \"rgb(117, 174, 255)\"}}, {\"type\": \"scattergeo\", \"locationmode\": \"USA-states\", \"lon\": [-73.9875, -74.1783], \"lat\": [40.7671, 40.6951], \"mode\": \"lines\", \"line\": {\"width\": 1, \"color\": \"rgb(117, 174, 255)\"}}, {\"type\": \"scattergeo\", \"locationmode\": \"USA-states\", \"lon\": [-74.1783, -73.9893], \"lat\": [40.6951, 40.7731], \"mode\": \"lines\", \"line\": {\"width\": 1, \"color\": \"rgb(117, 174, 255)\"}}, {\"type\": \"scattergeo\", \"locationmode\": \"USA-states\", \"lon\": [-73.9893, -73.998], \"lat\": [40.7731, 40.7122], \"mode\": \"lines\", \"line\": {\"width\": 1, \"color\": \"rgb(117, 174, 255)\"}}, {\"type\": \"scattergeo\", \"locationmode\": \"USA-states\", \"lon\": [-73.998, -74.1779], \"lat\": [40.7122, 40.6956], \"mode\": \"lines\", \"line\": {\"width\": 1, \"color\": \"rgb(117, 174, 255)\"}}, {\"type\": \"scattergeo\", \"locationmode\": \"USA-states\", \"lon\": [-74.1779, -73.7895], \"lat\": [40.6956, 40.6433], \"mode\": \"lines\", \"line\": {\"width\": 1, \"color\": \"rgb(117, 174, 255)\"}}, {\"type\": \"scattergeo\", \"locationmode\": \"USA-states\", \"lon\": [-73.7895, -73.9753], \"lat\": [40.6433, 40.7556], \"mode\": \"lines\", \"line\": {\"width\": 1, \"color\": \"rgb(117, 174, 255)\"}}, {\"type\": \"scattergeo\", \"locationmode\": \"USA-states\", \"lon\": [-73.9753, -73.9708], \"lat\": [40.7556, 40.7593], \"mode\": \"lines\", \"line\": {\"width\": 1, \"color\": \"rgb(117, 174, 255)\"}}, {\"type\": \"scattergeo\", \"locationmode\": \"USA-states\", \"lon\": [-73.9708, -73.9726], \"lat\": [40.7593, 40.7619], \"mode\": \"lines\", \"line\": {\"width\": 1, \"color\": \"rgb(117, 174, 255)\"}}, {\"type\": \"scattergeo\", \"locationmode\": \"USA-states\", \"lon\": [-73.9726, -73.9599], \"lat\": [40.7619, 40.7729], \"mode\": \"lines\", \"line\": {\"width\": 1, \"color\": \"rgb(117, 174, 255)\"}}, {\"type\": \"scattergeo\", \"locationmode\": \"USA-states\", \"lon\": [-73.9599, -73.9754], \"lat\": [40.7729, 40.7616], \"mode\": \"lines\", \"line\": {\"width\": 1, \"color\": \"rgb(117, 174, 255)\"}}, {\"type\": \"scattergeo\", \"locationmode\": \"USA-states\", \"lon\": [-73.9754, -74.0031], \"lat\": [40.7616, 40.7207], \"mode\": \"lines\", \"line\": {\"width\": 1, \"color\": \"rgb(117, 174, 255)\"}}, {\"type\": \"scattergeo\", \"locationmode\": \"USA-states\", \"lon\": [-74.0031, -73.7823], \"lat\": [40.7207, 40.6449], \"mode\": \"lines\", \"line\": {\"width\": 1, \"color\": \"rgb(117, 174, 255)\"}}, {\"type\": \"scattergeo\", \"locationmode\": \"USA-states\", \"lon\": [-73.7823, -73.9947], \"lat\": [40.6449, 40.7413], \"mode\": \"lines\", \"line\": {\"width\": 1, \"color\": \"rgb(117, 174, 255)\"}}, {\"type\": \"scattergeo\", \"locationmode\": \"USA-states\", \"lon\": [-73.9947, -73.9802], \"lat\": [40.7413, 40.7658], \"mode\": \"lines\", \"line\": {\"width\": 1, \"color\": \"rgb(117, 174, 255)\"}}, {\"type\": \"scattergeo\", \"locationmode\": \"USA-states\", \"lon\": [-73.9802, -73.9788], \"lat\": [40.7658, 40.7623], \"mode\": \"lines\", \"line\": {\"width\": 1, \"color\": \"rgb(117, 174, 255)\"}}, {\"type\": \"scattergeo\", \"locationmode\": \"USA-states\", \"lon\": [-73.9788, -73.9954], \"lat\": [40.7623, 40.744], \"mode\": \"lines\", \"line\": {\"width\": 1, \"color\": \"rgb(117, 174, 255)\"}}, {\"type\": \"scattergeo\", \"locationmode\": \"USA-states\", \"lon\": [-73.9954, -73.9608], \"lat\": [40.744, 40.7799], \"mode\": \"lines\", \"line\": {\"width\": 1, \"color\": \"rgb(117, 174, 255)\"}}, {\"type\": \"scattergeo\", \"locationmode\": \"USA-states\", \"lon\": [-73.9608, -73.9724], \"lat\": [40.7799, 40.7591], \"mode\": \"lines\", \"line\": {\"width\": 1, \"color\": \"rgb(117, 174, 255)\"}}, {\"type\": \"scattergeo\", \"locationmode\": \"USA-states\", \"lon\": [-73.9724, -73.9712], \"lat\": [40.7591, 40.7573], \"mode\": \"lines\", \"line\": {\"width\": 1, \"color\": \"rgb(117, 174, 255)\"}}, {\"type\": \"scattergeo\", \"locationmode\": \"USA-states\", \"lon\": [-73.9712, -73.9712], \"lat\": [40.7573, 40.7573], \"mode\": \"lines\", \"line\": {\"width\": 1, \"color\": \"rgb(117, 174, 255)\"}}, {\"type\": \"scattergeo\", \"locationmode\": \"USA-states\", \"lon\": [-73.9712, -73.9696], \"lat\": [40.7573, 40.7576], \"mode\": \"lines\", \"line\": {\"width\": 1, \"color\": \"rgb(117, 174, 255)\"}}, {\"type\": \"scattergeo\", \"locationmode\": \"USA-states\", \"lon\": [-73.9696, -74.01], \"lat\": [40.7576, 40.7052], \"mode\": \"lines\", \"line\": {\"width\": 1, \"color\": \"rgb(117, 174, 255)\"}}, {\"type\": \"scattergeo\", \"locationmode\": \"USA-states\", \"lon\": [-74.01, -74.1794], \"lat\": [40.7052, 40.7371], \"mode\": \"lines\", \"line\": {\"width\": 1, \"color\": \"rgb(117, 174, 255)\"}}, {\"type\": \"scattergeo\", \"locationmode\": \"USA-states\", \"lon\": [-74.1794, -74.0053], \"lat\": [40.7371, 40.7375], \"mode\": \"lines\", \"line\": {\"width\": 1, \"color\": \"rgb(117, 174, 255)\"}}, {\"type\": \"scattergeo\", \"locationmode\": \"USA-states\", \"lon\": [-74.0053, -73.99600000000001], \"lat\": [40.7375, 40.7541], \"mode\": \"lines\", \"line\": {\"width\": 1, \"color\": \"rgb(117, 174, 255)\"}}, {\"type\": \"scattergeo\", \"locationmode\": \"USA-states\", \"lon\": [-73.99600000000001, -73.9834], \"lat\": [40.7541, 40.7435], \"mode\": \"lines\", \"line\": {\"width\": 1, \"color\": \"rgb(117, 174, 255)\"}}, {\"type\": \"scattergeo\", \"locationmode\": \"USA-states\", \"lon\": [-73.9834, -73.9751], \"lat\": [40.7435, 40.758], \"mode\": \"lines\", \"line\": {\"width\": 1, \"color\": \"rgb(117, 174, 255)\"}}, {\"type\": \"scattergeo\", \"locationmode\": \"USA-states\", \"lon\": [-73.9751, -73.9839], \"lat\": [40.758, 40.7608], \"mode\": \"lines\", \"line\": {\"width\": 1, \"color\": \"rgb(117, 174, 255)\"}}, {\"type\": \"scattergeo\", \"locationmode\": \"USA-states\", \"lon\": [-73.9839, -74.0112], \"lat\": [40.7608, 40.7109], \"mode\": \"lines\", \"line\": {\"width\": 1, \"color\": \"rgb(117, 174, 255)\"}}, {\"type\": \"scattergeo\", \"locationmode\": \"USA-states\", \"lon\": [-74.0112, -73.8724], \"lat\": [40.7109, 40.7742], \"mode\": \"lines\", \"line\": {\"width\": 1, \"color\": \"rgb(117, 174, 255)\"}}, {\"type\": \"scattergeo\", \"locationmode\": \"USA-states\", \"lon\": [-73.8724, -73.9633], \"lat\": [40.7742, 40.7746], \"mode\": \"lines\", \"line\": {\"width\": 1, \"color\": \"rgb(117, 174, 255)\"}}, {\"type\": \"scattergeo\", \"locationmode\": \"USA-states\", \"lon\": [-73.9633, -73.9647], \"lat\": [40.7746, 40.7685], \"mode\": \"lines\", \"line\": {\"width\": 1, \"color\": \"rgb(117, 174, 255)\"}}, {\"type\": \"scattergeo\", \"locationmode\": \"USA-states\", \"lon\": [-73.9647, -73.9909], \"lat\": [40.7685, 40.7396], \"mode\": \"lines\", \"line\": {\"width\": 1, \"color\": \"rgb(117, 174, 255)\"}}, {\"type\": \"scattergeo\", \"locationmode\": \"USA-states\", \"lon\": [-73.9909, -73.9868], \"lat\": [40.7396, 40.7429], \"mode\": \"lines\", \"line\": {\"width\": 1, \"color\": \"rgb(117, 174, 255)\"}}, {\"type\": \"scattergeo\", \"locationmode\": \"USA-states\", \"lon\": [-73.9868, -73.9566], \"lat\": [40.7429, 40.7839], \"mode\": \"lines\", \"line\": {\"width\": 1, \"color\": \"rgb(117, 174, 255)\"}}, {\"type\": \"scattergeo\", \"locationmode\": \"USA-states\", \"lon\": [-73.9566, -73.9744], \"lat\": [40.7839, 40.7541], \"mode\": \"lines\", \"line\": {\"width\": 1, \"color\": \"rgb(117, 174, 255)\"}}, {\"type\": \"scattergeo\", \"locationmode\": \"USA-states\", \"lon\": [-73.9744, -73.9879], \"lat\": [40.7541, 40.7701], \"mode\": \"lines\", \"line\": {\"width\": 1, \"color\": \"rgb(117, 174, 255)\"}}, {\"type\": \"scattergeo\", \"locationmode\": \"USA-states\", \"lon\": [-73.9879, -73.8991], \"lat\": [40.7701, 40.8942], \"mode\": \"lines\", \"line\": {\"width\": 1, \"color\": \"rgb(117, 174, 255)\"}}, {\"type\": \"scattergeo\", \"locationmode\": \"USA-states\", \"lon\": [-73.8991, -73.9809], \"lat\": [40.8942, 40.7538], \"mode\": \"lines\", \"line\": {\"width\": 1, \"color\": \"rgb(117, 174, 255)\"}}, {\"type\": \"scattergeo\", \"locationmode\": \"USA-states\", \"lon\": [-73.9809, -73.9852], \"lat\": [40.7538, 40.7413], \"mode\": \"lines\", \"line\": {\"width\": 1, \"color\": \"rgb(117, 174, 255)\"}}, {\"type\": \"scattergeo\", \"locationmode\": \"USA-states\", \"lon\": [-73.9852, -73.9878], \"lat\": [40.7413, 40.7551], \"mode\": \"lines\", \"line\": {\"width\": 1, \"color\": \"rgb(117, 174, 255)\"}}, {\"type\": \"scattergeo\", \"locationmode\": \"USA-states\", \"lon\": [-73.9878, -74.008], \"lat\": [40.7551, 40.7474], \"mode\": \"lines\", \"line\": {\"width\": 1, \"color\": \"rgb(117, 174, 255)\"}}, {\"type\": \"scattergeo\", \"locationmode\": \"USA-states\", \"lon\": [-74.008, -73.9803], \"lat\": [40.7474, 40.7544], \"mode\": \"lines\", \"line\": {\"width\": 1, \"color\": \"rgb(117, 174, 255)\"}}, {\"type\": \"scattergeo\", \"locationmode\": \"USA-states\", \"lon\": [-73.9803, -73.997], \"lat\": [40.7544, 40.7356], \"mode\": \"lines\", \"line\": {\"width\": 1, \"color\": \"rgb(117, 174, 255)\"}}, {\"type\": \"scattergeo\", \"locationmode\": \"USA-states\", \"lon\": [-73.997, -73.9916], \"lat\": [40.7356, 40.7698], \"mode\": \"lines\", \"line\": {\"width\": 1, \"color\": \"rgb(117, 174, 255)\"}}, {\"type\": \"scattergeo\", \"locationmode\": \"USA-states\", \"lon\": [-73.9916, -73.9641], \"lat\": [40.7698, 40.7764], \"mode\": \"lines\", \"line\": {\"width\": 1, \"color\": \"rgb(117, 174, 255)\"}}, {\"type\": \"scattergeo\", \"locationmode\": \"USA-states\", \"lon\": [-73.9641, -73.9839], \"lat\": [40.7764, 40.7629], \"mode\": \"lines\", \"line\": {\"width\": 1, \"color\": \"rgb(117, 174, 255)\"}}, {\"type\": \"scattergeo\", \"locationmode\": \"USA-states\", \"lon\": [-73.9839, -74.0055], \"lat\": [40.7629, 40.7386], \"mode\": \"lines\", \"line\": {\"width\": 1, \"color\": \"rgb(117, 174, 255)\"}}, {\"type\": \"scattergeo\", \"locationmode\": \"USA-states\", \"lon\": [-74.0055, -73.9788], \"lat\": [40.7386, 40.7504], \"mode\": \"lines\", \"line\": {\"width\": 1, \"color\": \"rgb(117, 174, 255)\"}}, {\"type\": \"scattergeo\", \"locationmode\": \"USA-states\", \"lon\": [-73.9788, -73.9724], \"lat\": [40.7504, 40.7651], \"mode\": \"lines\", \"line\": {\"width\": 1, \"color\": \"rgb(117, 174, 255)\"}}, {\"type\": \"scattergeo\", \"locationmode\": \"USA-states\", \"lon\": [-73.9724, -73.991], \"lat\": [40.7651, 40.7546], \"mode\": \"lines\", \"line\": {\"width\": 1, \"color\": \"rgb(117, 174, 255)\"}}, {\"type\": \"scattergeo\", \"locationmode\": \"USA-states\", \"lon\": [-73.991, -74.0077], \"lat\": [40.7546, 40.7321], \"mode\": \"lines\", \"line\": {\"width\": 1, \"color\": \"rgb(117, 174, 255)\"}}, {\"type\": \"scattergeo\", \"locationmode\": \"USA-states\", \"lon\": [-74.0077, -73.9733], \"lat\": [40.7321, 40.764], \"mode\": \"lines\", \"line\": {\"width\": 1, \"color\": \"rgb(117, 174, 255)\"}}, {\"type\": \"scattergeo\", \"locationmode\": \"USA-states\", \"lon\": [-73.9733, -74.0149], \"lat\": [40.764, 40.7167], \"mode\": \"lines\", \"line\": {\"width\": 1, \"color\": \"rgb(117, 174, 255)\"}}, {\"type\": \"scattergeo\", \"locationmode\": \"USA-states\", \"lon\": [-74.0149, -73.9662], \"lat\": [40.7167, 40.7679], \"mode\": \"lines\", \"line\": {\"width\": 1, \"color\": \"rgb(117, 174, 255)\"}}, {\"type\": \"scattergeo\", \"locationmode\": \"USA-states\", \"lon\": [-73.9662, -74.0073], \"lat\": [40.7679, 40.7051], \"mode\": \"lines\", \"line\": {\"width\": 1, \"color\": \"rgb(117, 174, 255)\"}}, {\"type\": \"scattergeo\", \"locationmode\": \"USA-states\", \"lon\": [-74.0073, -73.9772], \"lat\": [40.7051, 40.7601], \"mode\": \"lines\", \"line\": {\"width\": 1, \"color\": \"rgb(117, 174, 255)\"}}, {\"type\": \"scattergeo\", \"locationmode\": \"USA-states\", \"lon\": [-73.9772, -73.9772], \"lat\": [40.7601, 40.7601], \"mode\": \"lines\", \"line\": {\"width\": 1, \"color\": \"rgb(117, 174, 255)\"}}, {\"type\": \"scattergeo\", \"locationmode\": \"USA-states\", \"lon\": [-73.9772, -73.9844], \"lat\": [40.7601, 40.6916], \"mode\": \"lines\", \"line\": {\"width\": 1, \"color\": \"rgb(117, 174, 255)\"}}, {\"type\": \"scattergeo\", \"locationmode\": \"USA-states\", \"lon\": [-73.9844, -73.983], \"lat\": [40.6916, 40.7632], \"mode\": \"lines\", \"line\": {\"width\": 1, \"color\": \"rgb(117, 174, 255)\"}}, {\"type\": \"scattergeo\", \"locationmode\": \"USA-states\", \"lon\": [-73.983, -73.9741], \"lat\": [40.7632, 40.7637], \"mode\": \"lines\", \"line\": {\"width\": 1, \"color\": \"rgb(117, 174, 255)\"}}, {\"type\": \"scattergeo\", \"locationmode\": \"USA-states\", \"lon\": [-73.9741, -73.9968], \"lat\": [40.7637, 40.732], \"mode\": \"lines\", \"line\": {\"width\": 1, \"color\": \"rgb(117, 174, 255)\"}}, {\"type\": \"scattergeo\", \"locationmode\": \"USA-states\", \"lon\": [-73.9968, -74.0662], \"lat\": [40.732, 40.8448], \"mode\": \"lines\", \"line\": {\"width\": 1, \"color\": \"rgb(117, 174, 255)\"}}, {\"type\": \"scattergeo\", \"locationmode\": \"USA-states\", \"lon\": [-74.0662, -73.9987], \"lat\": [40.8448, 40.7245], \"mode\": \"lines\", \"line\": {\"width\": 1, \"color\": \"rgb(117, 174, 255)\"}}, {\"type\": \"scattergeo\", \"locationmode\": \"USA-states\", \"lon\": [-73.9987, -74.0084], \"lat\": [40.7245, 40.7491], \"mode\": \"lines\", \"line\": {\"width\": 1, \"color\": \"rgb(117, 174, 255)\"}}, {\"type\": \"scattergeo\", \"locationmode\": \"USA-states\", \"lon\": [-74.0084, -73.9858], \"lat\": [40.7491, 40.7106], \"mode\": \"lines\", \"line\": {\"width\": 1, \"color\": \"rgb(117, 174, 255)\"}}, {\"type\": \"scattergeo\", \"locationmode\": \"USA-states\", \"lon\": [-73.9858, -73.9651], \"lat\": [40.7106, 40.76], \"mode\": \"lines\", \"line\": {\"width\": 1, \"color\": \"rgb(117, 174, 255)\"}}, {\"type\": \"scattergeo\", \"locationmode\": \"USA-states\", \"lon\": [-73.9651, -74.0003], \"lat\": [40.76, 40.7257], \"mode\": \"lines\", \"line\": {\"width\": 1, \"color\": \"rgb(117, 174, 255)\"}}, {\"type\": \"scattergeo\", \"locationmode\": \"USA-states\", \"lon\": [-74.0003, -73.9716], \"lat\": [40.7257, 40.7464], \"mode\": \"lines\", \"line\": {\"width\": 1, \"color\": \"rgb(117, 174, 255)\"}}, {\"type\": \"scattergeo\", \"locationmode\": \"USA-states\", \"lon\": [-73.9716, -73.9955], \"lat\": [40.7464, 40.7403], \"mode\": \"lines\", \"line\": {\"width\": 1, \"color\": \"rgb(117, 174, 255)\"}}, {\"type\": \"scattergeo\", \"locationmode\": \"USA-states\", \"lon\": [-73.9955, -73.9739], \"lat\": [40.7403, 40.7555], \"mode\": \"lines\", \"line\": {\"width\": 1, \"color\": \"rgb(117, 174, 255)\"}}, {\"type\": \"scattergeo\", \"locationmode\": \"USA-states\", \"lon\": [-73.9739, -73.9716], \"lat\": [40.7555, 40.7636], \"mode\": \"lines\", \"line\": {\"width\": 1, \"color\": \"rgb(117, 174, 255)\"}}, {\"type\": \"scattergeo\", \"locationmode\": \"USA-states\", \"lon\": [-73.9716, -73.9881], \"lat\": [40.7636, 40.7552], \"mode\": \"lines\", \"line\": {\"width\": 1, \"color\": \"rgb(117, 174, 255)\"}}, {\"type\": \"scattergeo\", \"locationmode\": \"USA-states\", \"lon\": [-73.9881, -73.958], \"lat\": [40.7552, 40.7208], \"mode\": \"lines\", \"line\": {\"width\": 1, \"color\": \"rgb(117, 174, 255)\"}}, {\"type\": \"scattergeo\", \"locationmode\": \"USA-states\", \"lon\": [-73.958, -73.8725], \"lat\": [40.7208, 40.7741], \"mode\": \"lines\", \"line\": {\"width\": 1, \"color\": \"rgb(117, 174, 255)\"}}, {\"type\": \"scattergeo\", \"locationmode\": \"USA-states\", \"lon\": [-73.8725, -73.9744], \"lat\": [40.7741, 40.7563], \"mode\": \"lines\", \"line\": {\"width\": 1, \"color\": \"rgb(117, 174, 255)\"}}, {\"type\": \"scattergeo\", \"locationmode\": \"USA-states\", \"lon\": [-73.9744, -73.9878], \"lat\": [40.7563, 40.7544], \"mode\": \"lines\", \"line\": {\"width\": 1, \"color\": \"rgb(117, 174, 255)\"}}, {\"type\": \"scattergeo\", \"locationmode\": \"USA-states\", \"lon\": [-73.9878, -73.9834], \"lat\": [40.7544, 40.7842], \"mode\": \"lines\", \"line\": {\"width\": 1, \"color\": \"rgb(117, 174, 255)\"}}, {\"type\": \"scattergeo\", \"locationmode\": \"USA-states\", \"lon\": [-73.9834, -74.0033], \"lat\": [40.7842, 40.7382], \"mode\": \"lines\", \"line\": {\"width\": 1, \"color\": \"rgb(117, 174, 255)\"}}, {\"type\": \"scattergeo\", \"locationmode\": \"USA-states\", \"lon\": [-74.0033, -73.9751], \"lat\": [40.7382, 40.7578], \"mode\": \"lines\", \"line\": {\"width\": 1, \"color\": \"rgb(117, 174, 255)\"}}, {\"type\": \"scattergeo\", \"locationmode\": \"USA-states\", \"lon\": [-73.9751, -73.9897], \"lat\": [40.7578, 40.7387], \"mode\": \"lines\", \"line\": {\"width\": 1, \"color\": \"rgb(117, 174, 255)\"}}, {\"type\": \"scattergeo\", \"locationmode\": \"USA-states\", \"lon\": [-73.9897, -73.8624], \"lat\": [40.7387, 40.7685], \"mode\": \"lines\", \"line\": {\"width\": 1, \"color\": \"rgb(117, 174, 255)\"}}, {\"type\": \"scattergeo\", \"locationmode\": \"USA-states\", \"lon\": [-73.8624, -73.9759], \"lat\": [40.7685, 40.7813], \"mode\": \"lines\", \"line\": {\"width\": 1, \"color\": \"rgb(117, 174, 255)\"}}, {\"type\": \"scattergeo\", \"locationmode\": \"USA-states\", \"lon\": [-73.9759, -73.982], \"lat\": [40.7813, 40.7558], \"mode\": \"lines\", \"line\": {\"width\": 1, \"color\": \"rgb(117, 174, 255)\"}}, {\"type\": \"scattergeo\", \"locationmode\": \"USA-states\", \"lon\": [-73.982, -73.9824], \"lat\": [40.7558, 40.7561], \"mode\": \"lines\", \"line\": {\"width\": 1, \"color\": \"rgb(117, 174, 255)\"}}, {\"type\": \"scattergeo\", \"locationmode\": \"USA-states\", \"lon\": [-73.9824, -73.9876], \"lat\": [40.7561, 40.7528], \"mode\": \"lines\", \"line\": {\"width\": 1, \"color\": \"rgb(117, 174, 255)\"}}, {\"type\": \"scattergeo\", \"locationmode\": \"USA-states\", \"lon\": [-73.9876, -73.97399999999999], \"lat\": [40.7528, 40.7634], \"mode\": \"lines\", \"line\": {\"width\": 1, \"color\": \"rgb(117, 174, 255)\"}}, {\"type\": \"scattergeo\", \"locationmode\": \"USA-states\", \"lon\": [-73.97399999999999, -73.9723], \"lat\": [40.7634, 40.76], \"mode\": \"lines\", \"line\": {\"width\": 1, \"color\": \"rgb(117, 174, 255)\"}}, {\"type\": \"scattergeo\", \"locationmode\": \"USA-states\", \"lon\": [-73.9723, -73.9749], \"lat\": [40.76, 40.7512], \"mode\": \"lines\", \"line\": {\"width\": 1, \"color\": \"rgb(117, 174, 255)\"}}, {\"type\": \"scattergeo\", \"locationmode\": \"USA-states\", \"lon\": [-73.9749, -74.1771], \"lat\": [40.7512, 40.6914], \"mode\": \"lines\", \"line\": {\"width\": 1, \"color\": \"rgb(117, 174, 255)\"}}, {\"type\": \"scattergeo\", \"locationmode\": \"USA-states\", \"lon\": [-74.1771, -73.8655], \"lat\": [40.6914, 40.7706], \"mode\": \"lines\", \"line\": {\"width\": 1, \"color\": \"rgb(117, 174, 255)\"}}, {\"type\": \"scattergeo\", \"locationmode\": \"USA-states\", \"lon\": [-73.8655, -74.0072], \"lat\": [40.7706, 40.7415], \"mode\": \"lines\", \"line\": {\"width\": 1, \"color\": \"rgb(117, 174, 255)\"}}, {\"type\": \"scattergeo\", \"locationmode\": \"USA-states\", \"lon\": [-74.0072, -73.9782], \"lat\": [40.7415, 40.7511], \"mode\": \"lines\", \"line\": {\"width\": 1, \"color\": \"rgb(117, 174, 255)\"}}, {\"type\": \"scattergeo\", \"locationmode\": \"USA-states\", \"lon\": [-73.9782, -73.9811], \"lat\": [40.7511, 40.7519], \"mode\": \"lines\", \"line\": {\"width\": 1, \"color\": \"rgb(117, 174, 255)\"}}, {\"type\": \"scattergeo\", \"locationmode\": \"USA-states\", \"lon\": [-73.9811, -73.7768], \"lat\": [40.7519, 40.646], \"mode\": \"lines\", \"line\": {\"width\": 1, \"color\": \"rgb(117, 174, 255)\"}}, {\"type\": \"scattergeo\", \"locationmode\": \"USA-states\", \"lon\": [-73.7768, -73.9991], \"lat\": [40.646, 40.7213], \"mode\": \"lines\", \"line\": {\"width\": 1, \"color\": \"rgb(117, 174, 255)\"}}, {\"type\": \"scattergeo\", \"locationmode\": \"USA-states\", \"lon\": [-73.9991, -73.967], \"lat\": [40.7213, 40.7591], \"mode\": \"lines\", \"line\": {\"width\": 1, \"color\": \"rgb(117, 174, 255)\"}}, {\"type\": \"scattergeo\", \"locationmode\": \"USA-states\", \"lon\": [-73.967, -73.9625], \"lat\": [40.7591, 40.7701], \"mode\": \"lines\", \"line\": {\"width\": 1, \"color\": \"rgb(117, 174, 255)\"}}, {\"type\": \"scattergeo\", \"locationmode\": \"USA-states\", \"lon\": [-73.9625, -73.9559], \"lat\": [40.7701, 40.7789], \"mode\": \"lines\", \"line\": {\"width\": 1, \"color\": \"rgb(117, 174, 255)\"}}, {\"type\": \"scattergeo\", \"locationmode\": \"USA-states\", \"lon\": [-73.9559, -73.9559], \"lat\": [40.7789, 40.7789], \"mode\": \"lines\", \"line\": {\"width\": 1, \"color\": \"rgb(117, 174, 255)\"}}, {\"type\": \"scattergeo\", \"locationmode\": \"USA-states\", \"lon\": [-73.9559, -73.9824], \"lat\": [40.7789, 40.733000000000004], \"mode\": \"lines\", \"line\": {\"width\": 1, \"color\": \"rgb(117, 174, 255)\"}}, {\"type\": \"scattergeo\", \"locationmode\": \"USA-states\", \"lon\": [-73.9824, -73.9763], \"lat\": [40.733000000000004, 40.7582], \"mode\": \"lines\", \"line\": {\"width\": 1, \"color\": \"rgb(117, 174, 255)\"}}, {\"type\": \"scattergeo\", \"locationmode\": \"USA-states\", \"lon\": [-73.9763, -73.9887], \"lat\": [40.7582, 40.7437], \"mode\": \"lines\", \"line\": {\"width\": 1, \"color\": \"rgb(117, 174, 255)\"}}, {\"type\": \"scattergeo\", \"locationmode\": \"USA-states\", \"lon\": [-73.9887, -73.9887], \"lat\": [40.7437, 40.7437], \"mode\": \"lines\", \"line\": {\"width\": 1, \"color\": \"rgb(117, 174, 255)\"}}, {\"type\": \"scattergeo\", \"locationmode\": \"USA-states\", \"lon\": [-73.9887, -73.9891], \"lat\": [40.7437, 40.7512], \"mode\": \"lines\", \"line\": {\"width\": 1, \"color\": \"rgb(117, 174, 255)\"}}, {\"type\": \"scattergeo\", \"locationmode\": \"USA-states\", \"lon\": [-73.9891, -73.9839], \"lat\": [40.7512, 40.7554], \"mode\": \"lines\", \"line\": {\"width\": 1, \"color\": \"rgb(117, 174, 255)\"}}, {\"type\": \"scattergeo\", \"locationmode\": \"USA-states\", \"lon\": [-73.9839, -73.9699], \"lat\": [40.7554, 40.7647], \"mode\": \"lines\", \"line\": {\"width\": 1, \"color\": \"rgb(117, 174, 255)\"}}, {\"type\": \"scattergeo\", \"locationmode\": \"USA-states\", \"lon\": [-73.9699, -73.9523], \"lat\": [40.7647, 40.7915], \"mode\": \"lines\", \"line\": {\"width\": 1, \"color\": \"rgb(117, 174, 255)\"}}, {\"type\": \"scattergeo\", \"locationmode\": \"USA-states\", \"lon\": [-73.9523, -73.9482], \"lat\": [40.7915, 40.7756], \"mode\": \"lines\", \"line\": {\"width\": 1, \"color\": \"rgb(117, 174, 255)\"}}, {\"type\": \"scattergeo\", \"locationmode\": \"USA-states\", \"lon\": [-73.9482, -73.9803], \"lat\": [40.7756, 40.7701], \"mode\": \"lines\", \"line\": {\"width\": 1, \"color\": \"rgb(117, 174, 255)\"}}, {\"type\": \"scattergeo\", \"locationmode\": \"USA-states\", \"lon\": [-73.9803, -73.9851], \"lat\": [40.7701, 40.7556], \"mode\": \"lines\", \"line\": {\"width\": 1, \"color\": \"rgb(117, 174, 255)\"}}, {\"type\": \"scattergeo\", \"locationmode\": \"USA-states\", \"lon\": [-73.9851, -73.9856], \"lat\": [40.7556, 40.7527], \"mode\": \"lines\", \"line\": {\"width\": 1, \"color\": \"rgb(117, 174, 255)\"}}, {\"type\": \"scattergeo\", \"locationmode\": \"USA-states\", \"lon\": [-73.9856, -73.9908], \"lat\": [40.7527, 40.7413], \"mode\": \"lines\", \"line\": {\"width\": 1, \"color\": \"rgb(117, 174, 255)\"}}, {\"type\": \"scattergeo\", \"locationmode\": \"USA-states\", \"lon\": [-73.9908, -74.0087], \"lat\": [40.7413, 40.7324], \"mode\": \"lines\", \"line\": {\"width\": 1, \"color\": \"rgb(117, 174, 255)\"}}, {\"type\": \"scattergeo\", \"locationmode\": \"USA-states\", \"lon\": [-74.0087, -73.9863], \"lat\": [40.7324, 40.7432], \"mode\": \"lines\", \"line\": {\"width\": 1, \"color\": \"rgb(117, 174, 255)\"}}, {\"type\": \"scattergeo\", \"locationmode\": \"USA-states\", \"lon\": [-73.9863, -73.98100000000001], \"lat\": [40.7432, 40.7697], \"mode\": \"lines\", \"line\": {\"width\": 1, \"color\": \"rgb(117, 174, 255)\"}}, {\"type\": \"scattergeo\", \"locationmode\": \"USA-states\", \"lon\": [-73.98100000000001, -74.0087], \"lat\": [40.7697, 40.7227], \"mode\": \"lines\", \"line\": {\"width\": 1, \"color\": \"rgb(117, 174, 255)\"}}, {\"type\": \"scattergeo\", \"locationmode\": \"USA-states\", \"lon\": [-74.0087, -74.0048], \"lat\": [40.7227, 40.7204], \"mode\": \"lines\", \"line\": {\"width\": 1, \"color\": \"rgb(117, 174, 255)\"}}, {\"type\": \"scattergeo\", \"locationmode\": \"USA-states\", \"lon\": [-74.0048, -73.9824], \"lat\": [40.7204, 40.7615], \"mode\": \"lines\", \"line\": {\"width\": 1, \"color\": \"rgb(117, 174, 255)\"}}, {\"type\": \"scattergeo\", \"locationmode\": \"USA-states\", \"lon\": [-73.9824, -73.9782], \"lat\": [40.7615, 40.6898], \"mode\": \"lines\", \"line\": {\"width\": 1, \"color\": \"rgb(117, 174, 255)\"}}, {\"type\": \"scattergeo\", \"locationmode\": \"USA-states\", \"lon\": [-73.9782, -73.9983], \"lat\": [40.6898, 40.7296], \"mode\": \"lines\", \"line\": {\"width\": 1, \"color\": \"rgb(117, 174, 255)\"}}, {\"type\": \"scattergeo\", \"locationmode\": \"USA-states\", \"lon\": [-73.9983, -74.0054], \"lat\": [40.7296, 40.7256], \"mode\": \"lines\", \"line\": {\"width\": 1, \"color\": \"rgb(117, 174, 255)\"}}, {\"type\": \"scattergeo\", \"locationmode\": \"USA-states\", \"lon\": [-74.0054, -74.0043], \"lat\": [40.7256, 40.7199], \"mode\": \"lines\", \"line\": {\"width\": 1, \"color\": \"rgb(117, 174, 255)\"}}, {\"type\": \"scattergeo\", \"locationmode\": \"USA-states\", \"lon\": [-74.0043, -73.9806], \"lat\": [40.7199, 40.7539], \"mode\": \"lines\", \"line\": {\"width\": 1, \"color\": \"rgb(117, 174, 255)\"}}, {\"type\": \"scattergeo\", \"locationmode\": \"USA-states\", \"lon\": [-73.9806, -73.962], \"lat\": [40.7539, 40.7649], \"mode\": \"lines\", \"line\": {\"width\": 1, \"color\": \"rgb(117, 174, 255)\"}}, {\"type\": \"scattergeo\", \"locationmode\": \"USA-states\", \"lon\": [-73.962, -73.9764], \"lat\": [40.7649, 40.7539], \"mode\": \"lines\", \"line\": {\"width\": 1, \"color\": \"rgb(117, 174, 255)\"}}, {\"type\": \"scattergeo\", \"locationmode\": \"USA-states\", \"lon\": [-73.9764, -73.9726], \"lat\": [40.7539, 40.7554], \"mode\": \"lines\", \"line\": {\"width\": 1, \"color\": \"rgb(117, 174, 255)\"}}, {\"type\": \"scattergeo\", \"locationmode\": \"USA-states\", \"lon\": [-73.9726, -73.9573], \"lat\": [40.7554, 40.775999999999996], \"mode\": \"lines\", \"line\": {\"width\": 1, \"color\": \"rgb(117, 174, 255)\"}}, {\"type\": \"scattergeo\", \"locationmode\": \"USA-states\", \"lon\": [-73.9573, -73.9742], \"lat\": [40.775999999999996, 40.7631], \"mode\": \"lines\", \"line\": {\"width\": 1, \"color\": \"rgb(117, 174, 255)\"}}, {\"type\": \"scattergeo\", \"locationmode\": \"USA-states\", \"lon\": [-73.9742, -73.8625], \"lat\": [40.7631, 40.7685], \"mode\": \"lines\", \"line\": {\"width\": 1, \"color\": \"rgb(117, 174, 255)\"}}, {\"type\": \"scattergeo\", \"locationmode\": \"USA-states\", \"lon\": [-73.8625, -73.973], \"lat\": [40.7685, 40.7938], \"mode\": \"lines\", \"line\": {\"width\": 1, \"color\": \"rgb(117, 174, 255)\"}}, {\"type\": \"scattergeo\", \"locationmode\": \"USA-states\", \"lon\": [-73.973, -73.9553], \"lat\": [40.7938, 40.7857], \"mode\": \"lines\", \"line\": {\"width\": 1, \"color\": \"rgb(117, 174, 255)\"}}, {\"type\": \"scattergeo\", \"locationmode\": \"USA-states\", \"lon\": [-73.9553, -73.9553], \"lat\": [40.7857, 40.7857], \"mode\": \"lines\", \"line\": {\"width\": 1, \"color\": \"rgb(117, 174, 255)\"}}, {\"type\": \"scattergeo\", \"locationmode\": \"USA-states\", \"lon\": [-73.9553, -73.9991], \"lat\": [40.7857, 40.72], \"mode\": \"lines\", \"line\": {\"width\": 1, \"color\": \"rgb(117, 174, 255)\"}}, {\"type\": \"scattergeo\", \"locationmode\": \"USA-states\", \"lon\": [-73.9991, -73.9628], \"lat\": [40.72, 40.7782], \"mode\": \"lines\", \"line\": {\"width\": 1, \"color\": \"rgb(117, 174, 255)\"}}, {\"type\": \"scattergeo\", \"locationmode\": \"USA-states\", \"lon\": [-73.9628, -73.9767], \"lat\": [40.7782, 40.751], \"mode\": \"lines\", \"line\": {\"width\": 1, \"color\": \"rgb(117, 174, 255)\"}}, {\"type\": \"scattergeo\", \"locationmode\": \"USA-states\", \"lon\": [-73.9767, -74.0018], \"lat\": [40.751, 40.7212], \"mode\": \"lines\", \"line\": {\"width\": 1, \"color\": \"rgb(117, 174, 255)\"}}, {\"type\": \"scattergeo\", \"locationmode\": \"USA-states\", \"lon\": [-74.0018, -73.9898], \"lat\": [40.7212, 40.7287], \"mode\": \"lines\", \"line\": {\"width\": 1, \"color\": \"rgb(117, 174, 255)\"}}, {\"type\": \"scattergeo\", \"locationmode\": \"USA-states\", \"lon\": [-73.9898, -73.9812], \"lat\": [40.7287, 40.7736], \"mode\": \"lines\", \"line\": {\"width\": 1, \"color\": \"rgb(117, 174, 255)\"}}, {\"type\": \"scattergeo\", \"locationmode\": \"USA-states\", \"lon\": [-73.9812, -73.986], \"lat\": [40.7736, 40.7328], \"mode\": \"lines\", \"line\": {\"width\": 1, \"color\": \"rgb(117, 174, 255)\"}}, {\"type\": \"scattergeo\", \"locationmode\": \"USA-states\", \"lon\": [-73.986, -73.9739], \"lat\": [40.7328, 40.7566], \"mode\": \"lines\", \"line\": {\"width\": 1, \"color\": \"rgb(117, 174, 255)\"}}, {\"type\": \"scattergeo\", \"locationmode\": \"USA-states\", \"lon\": [-73.9739, -73.982], \"lat\": [40.7566, 40.7539], \"mode\": \"lines\", \"line\": {\"width\": 1, \"color\": \"rgb(117, 174, 255)\"}}, {\"type\": \"scattergeo\", \"locationmode\": \"USA-states\", \"lon\": [-73.982, -74.0038], \"lat\": [40.7539, 40.72], \"mode\": \"lines\", \"line\": {\"width\": 1, \"color\": \"rgb(117, 174, 255)\"}}, {\"type\": \"scattergeo\", \"locationmode\": \"USA-states\", \"lon\": [-74.0038, -73.9941], \"lat\": [40.72, 40.7395], \"mode\": \"lines\", \"line\": {\"width\": 1, \"color\": \"rgb(117, 174, 255)\"}}, {\"type\": \"scattergeo\", \"locationmode\": \"USA-states\", \"lon\": [-73.9941, -74.0091], \"lat\": [40.7395, 40.7457], \"mode\": \"lines\", \"line\": {\"width\": 1, \"color\": \"rgb(117, 174, 255)\"}}, {\"type\": \"scattergeo\", \"locationmode\": \"USA-states\", \"lon\": [-74.0091, -74.0127], \"lat\": [40.7457, 40.7021], \"mode\": \"lines\", \"line\": {\"width\": 1, \"color\": \"rgb(117, 174, 255)\"}}, {\"type\": \"scattergeo\", \"locationmode\": \"USA-states\", \"lon\": [-74.0127, -73.9904], \"lat\": [40.7021, 40.7534], \"mode\": \"lines\", \"line\": {\"width\": 1, \"color\": \"rgb(117, 174, 255)\"}}, {\"type\": \"scattergeo\", \"locationmode\": \"USA-states\", \"lon\": [-73.9904, -74.001], \"lat\": [40.7534, 40.7242], \"mode\": \"lines\", \"line\": {\"width\": 1, \"color\": \"rgb(117, 174, 255)\"}}, {\"type\": \"scattergeo\", \"locationmode\": \"USA-states\", \"lon\": [-74.001, -73.9988], \"lat\": [40.7242, 40.755], \"mode\": \"lines\", \"line\": {\"width\": 1, \"color\": \"rgb(117, 174, 255)\"}}, {\"type\": \"scattergeo\", \"locationmode\": \"USA-states\", \"lon\": [-73.9988, -74.2762], \"lat\": [40.755, 40.6844], \"mode\": \"lines\", \"line\": {\"width\": 1, \"color\": \"rgb(117, 174, 255)\"}}, {\"type\": \"scattergeo\", \"locationmode\": \"USA-states\", \"lon\": [-74.2762, -73.9762], \"lat\": [40.6844, 40.7574], \"mode\": \"lines\", \"line\": {\"width\": 1, \"color\": \"rgb(117, 174, 255)\"}}, {\"type\": \"scattergeo\", \"locationmode\": \"USA-states\", \"lon\": [-73.9762, -73.8838], \"lat\": [40.7574, 40.7529], \"mode\": \"lines\", \"line\": {\"width\": 1, \"color\": \"rgb(117, 174, 255)\"}}, {\"type\": \"scattergeo\", \"locationmode\": \"USA-states\", \"lon\": [-73.8838, -73.975], \"lat\": [40.7529, 40.7617], \"mode\": \"lines\", \"line\": {\"width\": 1, \"color\": \"rgb(117, 174, 255)\"}}, {\"type\": \"scattergeo\", \"locationmode\": \"USA-states\", \"lon\": [-73.975, -73.9791], \"lat\": [40.7617, 40.753], \"mode\": \"lines\", \"line\": {\"width\": 1, \"color\": \"rgb(117, 174, 255)\"}}, {\"type\": \"scattergeo\", \"locationmode\": \"USA-states\", \"lon\": [-73.9791, -73.9884], \"lat\": [40.753, 40.7459], \"mode\": \"lines\", \"line\": {\"width\": 1, \"color\": \"rgb(117, 174, 255)\"}}, {\"type\": \"scattergeo\", \"locationmode\": \"USA-states\", \"lon\": [-73.9884, -73.9521], \"lat\": [40.7459, 40.7178], \"mode\": \"lines\", \"line\": {\"width\": 1, \"color\": \"rgb(117, 174, 255)\"}}, {\"type\": \"scattergeo\", \"locationmode\": \"USA-states\", \"lon\": [-73.9521, -73.9803], \"lat\": [40.7178, 40.7816], \"mode\": \"lines\", \"line\": {\"width\": 1, \"color\": \"rgb(117, 174, 255)\"}}, {\"type\": \"scattergeo\", \"locationmode\": \"USA-states\", \"lon\": [-73.9803, -73.9745], \"lat\": [40.7816, 40.7556], \"mode\": \"lines\", \"line\": {\"width\": 1, \"color\": \"rgb(117, 174, 255)\"}}, {\"type\": \"scattergeo\", \"locationmode\": \"USA-states\", \"lon\": [-73.9745, -73.9974], \"lat\": [40.7556, 40.7214], \"mode\": \"lines\", \"line\": {\"width\": 1, \"color\": \"rgb(117, 174, 255)\"}}, {\"type\": \"scattergeo\", \"locationmode\": \"USA-states\", \"lon\": [-73.9974, -73.9684], \"lat\": [40.7214, 40.7875], \"mode\": \"lines\", \"line\": {\"width\": 1, \"color\": \"rgb(117, 174, 255)\"}}, {\"type\": \"scattergeo\", \"locationmode\": \"USA-states\", \"lon\": [-73.9684, -73.9689], \"lat\": [40.7875, 40.7685], \"mode\": \"lines\", \"line\": {\"width\": 1, \"color\": \"rgb(117, 174, 255)\"}}, {\"type\": \"scattergeo\", \"locationmode\": \"USA-states\", \"lon\": [-73.9689, -73.9701], \"lat\": [40.7685, 40.753], \"mode\": \"lines\", \"line\": {\"width\": 1, \"color\": \"rgb(117, 174, 255)\"}}, {\"type\": \"scattergeo\", \"locationmode\": \"USA-states\", \"lon\": [-73.9701, -74.0044], \"lat\": [40.753, 40.7478], \"mode\": \"lines\", \"line\": {\"width\": 1, \"color\": \"rgb(117, 174, 255)\"}}, {\"type\": \"scattergeo\", \"locationmode\": \"USA-states\", \"lon\": [-74.0044, -73.958], \"lat\": [40.7478, 40.7745], \"mode\": \"lines\", \"line\": {\"width\": 1, \"color\": \"rgb(117, 174, 255)\"}}, {\"type\": \"scattergeo\", \"locationmode\": \"USA-states\", \"lon\": [-73.958, -73.9698], \"lat\": [40.7745, 40.7562], \"mode\": \"lines\", \"line\": {\"width\": 1, \"color\": \"rgb(117, 174, 255)\"}}, {\"type\": \"scattergeo\", \"locationmode\": \"USA-states\", \"lon\": [-73.9698, -74.0356], \"lat\": [40.7562, 40.7129], \"mode\": \"lines\", \"line\": {\"width\": 1, \"color\": \"rgb(117, 174, 255)\"}}, {\"type\": \"scattergeo\", \"locationmode\": \"USA-states\", \"lon\": [-74.0356, -74.0356], \"lat\": [40.7129, 40.7129], \"mode\": \"lines\", \"line\": {\"width\": 1, \"color\": \"rgb(117, 174, 255)\"}}, {\"type\": \"scattergeo\", \"locationmode\": \"USA-states\", \"lon\": [-74.0356, -74.0123], \"lat\": [40.7129, 40.7169], \"mode\": \"lines\", \"line\": {\"width\": 1, \"color\": \"rgb(117, 174, 255)\"}}, {\"type\": \"scattergeo\", \"locationmode\": \"USA-states\", \"lon\": [-74.0123, -73.9672], \"lat\": [40.7169, 40.7634], \"mode\": \"lines\", \"line\": {\"width\": 1, \"color\": \"rgb(117, 174, 255)\"}}, {\"type\": \"scattergeo\", \"locationmode\": \"USA-states\", \"lon\": [-73.9672, -73.9739], \"lat\": [40.7634, 40.7555], \"mode\": \"lines\", \"line\": {\"width\": 1, \"color\": \"rgb(117, 174, 255)\"}}, {\"type\": \"scattergeo\", \"locationmode\": \"USA-states\", \"lon\": [-73.9739, -73.9816], \"lat\": [40.7555, 40.7581], \"mode\": \"lines\", \"line\": {\"width\": 1, \"color\": \"rgb(117, 174, 255)\"}}, {\"type\": \"scattergeo\", \"locationmode\": \"USA-states\", \"lon\": [-73.9816, -73.9487], \"lat\": [40.7581, 40.7849], \"mode\": \"lines\", \"line\": {\"width\": 1, \"color\": \"rgb(117, 174, 255)\"}}, {\"type\": \"scattergeo\", \"locationmode\": \"USA-states\", \"lon\": [-73.9487, -73.9956], \"lat\": [40.7849, 40.7332], \"mode\": \"lines\", \"line\": {\"width\": 1, \"color\": \"rgb(117, 174, 255)\"}}, {\"type\": \"scattergeo\", \"locationmode\": \"USA-states\", \"lon\": [-73.9956, -73.9926], \"lat\": [40.7332, 40.7376], \"mode\": \"lines\", \"line\": {\"width\": 1, \"color\": \"rgb(117, 174, 255)\"}}, {\"type\": \"scattergeo\", \"locationmode\": \"USA-states\", \"lon\": [-73.9926, -73.9717], \"lat\": [40.7376, 40.756], \"mode\": \"lines\", \"line\": {\"width\": 1, \"color\": \"rgb(117, 174, 255)\"}}, {\"type\": \"scattergeo\", \"locationmode\": \"USA-states\", \"lon\": [-73.9717, -73.9615], \"lat\": [40.756, 40.771], \"mode\": \"lines\", \"line\": {\"width\": 1, \"color\": \"rgb(117, 174, 255)\"}}, {\"type\": \"scattergeo\", \"locationmode\": \"USA-states\", \"lon\": [-73.9615, -73.9994], \"lat\": [40.771, 40.7221], \"mode\": \"lines\", \"line\": {\"width\": 1, \"color\": \"rgb(117, 174, 255)\"}}, {\"type\": \"scattergeo\", \"locationmode\": \"USA-states\", \"lon\": [-73.9994, -74.0069], \"lat\": [40.7221, 40.7305], \"mode\": \"lines\", \"line\": {\"width\": 1, \"color\": \"rgb(117, 174, 255)\"}}, {\"type\": \"scattergeo\", \"locationmode\": \"USA-states\", \"lon\": [-74.0069, -73.9844], \"lat\": [40.7305, 40.7565], \"mode\": \"lines\", \"line\": {\"width\": 1, \"color\": \"rgb(117, 174, 255)\"}}, {\"type\": \"scattergeo\", \"locationmode\": \"USA-states\", \"lon\": [-73.9844, -73.9718], \"lat\": [40.7565, 40.7568], \"mode\": \"lines\", \"line\": {\"width\": 1, \"color\": \"rgb(117, 174, 255)\"}}, {\"type\": \"scattergeo\", \"locationmode\": \"USA-states\", \"lon\": [-73.9718, -74.0085], \"lat\": [40.7568, 40.7381], \"mode\": \"lines\", \"line\": {\"width\": 1, \"color\": \"rgb(117, 174, 255)\"}}, {\"type\": \"scattergeo\", \"locationmode\": \"USA-states\", \"lon\": [-74.0085, -73.9728], \"lat\": [40.7381, 40.7986], \"mode\": \"lines\", \"line\": {\"width\": 1, \"color\": \"rgb(117, 174, 255)\"}}, {\"type\": \"scattergeo\", \"locationmode\": \"USA-states\", \"lon\": [-73.9728, -73.972], \"lat\": [40.7986, 40.757], \"mode\": \"lines\", \"line\": {\"width\": 1, \"color\": \"rgb(117, 174, 255)\"}}, {\"type\": \"scattergeo\", \"locationmode\": \"USA-states\", \"lon\": [-73.972, -73.9786], \"lat\": [40.757, 40.7535], \"mode\": \"lines\", \"line\": {\"width\": 1, \"color\": \"rgb(117, 174, 255)\"}}, {\"type\": \"scattergeo\", \"locationmode\": \"USA-states\", \"lon\": [-73.9786, -73.8857], \"lat\": [40.7535, 40.7732], \"mode\": \"lines\", \"line\": {\"width\": 1, \"color\": \"rgb(117, 174, 255)\"}}, {\"type\": \"scattergeo\", \"locationmode\": \"USA-states\", \"lon\": [-73.8857, -73.9851], \"lat\": [40.7732, 40.742], \"mode\": \"lines\", \"line\": {\"width\": 1, \"color\": \"rgb(117, 174, 255)\"}}, {\"type\": \"scattergeo\", \"locationmode\": \"USA-states\", \"lon\": [-73.9851, -73.98100000000001], \"lat\": [40.742, 40.786], \"mode\": \"lines\", \"line\": {\"width\": 1, \"color\": \"rgb(117, 174, 255)\"}}, {\"type\": \"scattergeo\", \"locationmode\": \"USA-states\", \"lon\": [-73.98100000000001, -74.0167], \"lat\": [40.786, 40.7059], \"mode\": \"lines\", \"line\": {\"width\": 1, \"color\": \"rgb(117, 174, 255)\"}}, {\"type\": \"scattergeo\", \"locationmode\": \"USA-states\", \"lon\": [-74.0167, -73.9901], \"lat\": [40.7059, 40.7401], \"mode\": \"lines\", \"line\": {\"width\": 1, \"color\": \"rgb(117, 174, 255)\"}}, {\"type\": \"scattergeo\", \"locationmode\": \"USA-states\", \"lon\": [-73.9901, -73.9884], \"lat\": [40.7401, 40.7403], \"mode\": \"lines\", \"line\": {\"width\": 1, \"color\": \"rgb(117, 174, 255)\"}}, {\"type\": \"scattergeo\", \"locationmode\": \"USA-states\", \"lon\": [-73.9884, -73.9933], \"lat\": [40.7403, 40.7243], \"mode\": \"lines\", \"line\": {\"width\": 1, \"color\": \"rgb(117, 174, 255)\"}}, {\"type\": \"scattergeo\", \"locationmode\": \"USA-states\", \"lon\": [-73.9933, -73.9912], \"lat\": [40.7243, 40.733000000000004], \"mode\": \"lines\", \"line\": {\"width\": 1, \"color\": \"rgb(117, 174, 255)\"}}, {\"type\": \"scattergeo\", \"locationmode\": \"USA-states\", \"lon\": [-73.9912, -73.9739], \"lat\": [40.733000000000004, 40.7535], \"mode\": \"lines\", \"line\": {\"width\": 1, \"color\": \"rgb(117, 174, 255)\"}}, {\"type\": \"scattergeo\", \"locationmode\": \"USA-states\", \"lon\": [-73.9739, -73.9739], \"lat\": [40.7535, 40.7535], \"mode\": \"lines\", \"line\": {\"width\": 1, \"color\": \"rgb(117, 174, 255)\"}}, {\"type\": \"scattergeo\", \"locationmode\": \"USA-states\", \"lon\": [-73.9739, -73.9765], \"lat\": [40.7535, 40.7615], \"mode\": \"lines\", \"line\": {\"width\": 1, \"color\": \"rgb(117, 174, 255)\"}}, {\"type\": \"scattergeo\", \"locationmode\": \"USA-states\", \"lon\": [-73.9765, -74.0347], \"lat\": [40.7615, 40.7288], \"mode\": \"lines\", \"line\": {\"width\": 1, \"color\": \"rgb(117, 174, 255)\"}}, {\"type\": \"scattergeo\", \"locationmode\": \"USA-states\", \"lon\": [-74.0347, -74.0041], \"lat\": [40.7288, 40.7219], \"mode\": \"lines\", \"line\": {\"width\": 1, \"color\": \"rgb(117, 174, 255)\"}}, {\"type\": \"scattergeo\", \"locationmode\": \"USA-states\", \"lon\": [-74.0041, -73.9688], \"lat\": [40.7219, 40.7101], \"mode\": \"lines\", \"line\": {\"width\": 1, \"color\": \"rgb(117, 174, 255)\"}}, {\"type\": \"scattergeo\", \"locationmode\": \"USA-states\", \"lon\": [-73.9688, -74.0007], \"lat\": [40.7101, 40.7473], \"mode\": \"lines\", \"line\": {\"width\": 1, \"color\": \"rgb(117, 174, 255)\"}}, {\"type\": \"scattergeo\", \"locationmode\": \"USA-states\", \"lon\": [-74.0007, -73.9326], \"lat\": [40.7473, 40.6086], \"mode\": \"lines\", \"line\": {\"width\": 1, \"color\": \"rgb(117, 174, 255)\"}}, {\"type\": \"scattergeo\", \"locationmode\": \"USA-states\", \"lon\": [-73.9326, -73.9845], \"lat\": [40.6086, 40.7103], \"mode\": \"lines\", \"line\": {\"width\": 1, \"color\": \"rgb(117, 174, 255)\"}}, {\"type\": \"scattergeo\", \"locationmode\": \"USA-states\", \"lon\": [-73.9845, -73.9832], \"lat\": [40.7103, 40.7265], \"mode\": \"lines\", \"line\": {\"width\": 1, \"color\": \"rgb(117, 174, 255)\"}}, {\"type\": \"scattergeo\", \"locationmode\": \"USA-states\", \"lon\": [-73.9832, -73.4372], \"lat\": [40.7265, 40.7829], \"mode\": \"lines\", \"line\": {\"width\": 1, \"color\": \"rgb(117, 174, 255)\"}}, {\"type\": \"scattergeo\", \"locationmode\": \"USA-states\", \"lon\": [-73.4372, -73.9734], \"lat\": [40.7829, 40.7548], \"mode\": \"lines\", \"line\": {\"width\": 1, \"color\": \"rgb(117, 174, 255)\"}}, {\"type\": \"scattergeo\", \"locationmode\": \"USA-states\", \"lon\": [-73.9734, -73.9831], \"lat\": [40.7548, 40.7548], \"mode\": \"lines\", \"line\": {\"width\": 1, \"color\": \"rgb(117, 174, 255)\"}}, {\"type\": \"scattergeo\", \"locationmode\": \"USA-states\", \"lon\": [-73.9831, -73.9814], \"lat\": [40.7548, 40.7636], \"mode\": \"lines\", \"line\": {\"width\": 1, \"color\": \"rgb(117, 174, 255)\"}}, {\"type\": \"scattergeo\", \"locationmode\": \"USA-states\", \"lon\": [-73.9814, -73.9688], \"lat\": [40.7636, 40.7643], \"mode\": \"lines\", \"line\": {\"width\": 1, \"color\": \"rgb(117, 174, 255)\"}}, {\"type\": \"scattergeo\", \"locationmode\": \"USA-states\", \"lon\": [-73.9688, -74.0346], \"lat\": [40.7643, 40.7277], \"mode\": \"lines\", \"line\": {\"width\": 1, \"color\": \"rgb(117, 174, 255)\"}}, {\"type\": \"scattergeo\", \"locationmode\": \"USA-states\", \"lon\": [-74.0346, -74.0346], \"lat\": [40.7277, 40.7277], \"mode\": \"lines\", \"line\": {\"width\": 1, \"color\": \"rgb(117, 174, 255)\"}}, {\"type\": \"scattergeo\", \"locationmode\": \"USA-states\", \"lon\": [-74.0346, -73.9779], \"lat\": [40.7277, 40.7627], \"mode\": \"lines\", \"line\": {\"width\": 1, \"color\": \"rgb(117, 174, 255)\"}}, {\"type\": \"scattergeo\", \"locationmode\": \"USA-states\", \"lon\": [-73.9779, -73.9753], \"lat\": [40.7627, 40.7551], \"mode\": \"lines\", \"line\": {\"width\": 1, \"color\": \"rgb(117, 174, 255)\"}}, {\"type\": \"scattergeo\", \"locationmode\": \"USA-states\", \"lon\": [-73.9753, -73.7822], \"lat\": [40.7551, 40.6449], \"mode\": \"lines\", \"line\": {\"width\": 1, \"color\": \"rgb(117, 174, 255)\"}}, {\"type\": \"scattergeo\", \"locationmode\": \"USA-states\", \"lon\": [-73.7822, -73.99600000000001], \"lat\": [40.6449, 40.7327], \"mode\": \"lines\", \"line\": {\"width\": 1, \"color\": \"rgb(117, 174, 255)\"}}, {\"type\": \"scattergeo\", \"locationmode\": \"USA-states\", \"lon\": [-73.99600000000001, -73.9844], \"lat\": [40.7327, 40.6757], \"mode\": \"lines\", \"line\": {\"width\": 1, \"color\": \"rgb(117, 174, 255)\"}}, {\"type\": \"scattergeo\", \"locationmode\": \"USA-states\", \"lon\": [-73.9844, -73.9848], \"lat\": [40.6757, 40.7414], \"mode\": \"lines\", \"line\": {\"width\": 1, \"color\": \"rgb(117, 174, 255)\"}}, {\"type\": \"scattergeo\", \"locationmode\": \"USA-states\", \"lon\": [-73.9848, -73.9782], \"lat\": [40.7414, 40.7603], \"mode\": \"lines\", \"line\": {\"width\": 1, \"color\": \"rgb(117, 174, 255)\"}}, {\"type\": \"scattergeo\", \"locationmode\": \"USA-states\", \"lon\": [-73.9782, -73.9998], \"lat\": [40.7603, 40.7243], \"mode\": \"lines\", \"line\": {\"width\": 1, \"color\": \"rgb(117, 174, 255)\"}}, {\"type\": \"scattergeo\", \"locationmode\": \"USA-states\", \"lon\": [-73.9998, -73.9692], \"lat\": [40.7243, 40.7666], \"mode\": \"lines\", \"line\": {\"width\": 1, \"color\": \"rgb(117, 174, 255)\"}}, {\"type\": \"scattergeo\", \"locationmode\": \"USA-states\", \"lon\": [-73.9692, -73.9618], \"lat\": [40.7666, 40.7093], \"mode\": \"lines\", \"line\": {\"width\": 1, \"color\": \"rgb(117, 174, 255)\"}}, {\"type\": \"scattergeo\", \"locationmode\": \"USA-states\", \"lon\": [-73.9618, -74.0017], \"lat\": [40.7093, 40.7278], \"mode\": \"lines\", \"line\": {\"width\": 1, \"color\": \"rgb(117, 174, 255)\"}}, {\"type\": \"scattergeo\", \"locationmode\": \"USA-states\", \"lon\": [-74.0017, -73.9768], \"lat\": [40.7278, 40.7545], \"mode\": \"lines\", \"line\": {\"width\": 1, \"color\": \"rgb(117, 174, 255)\"}}, {\"type\": \"scattergeo\", \"locationmode\": \"USA-states\", \"lon\": [-73.9768, -73.9691], \"lat\": [40.7545, 40.7578], \"mode\": \"lines\", \"line\": {\"width\": 1, \"color\": \"rgb(117, 174, 255)\"}}, {\"type\": \"scattergeo\", \"locationmode\": \"USA-states\", \"lon\": [-73.9691, -74.0049], \"lat\": [40.7578, 40.7457], \"mode\": \"lines\", \"line\": {\"width\": 1, \"color\": \"rgb(117, 174, 255)\"}}, {\"type\": \"scattergeo\", \"locationmode\": \"USA-states\", \"lon\": [-74.0049, -73.9913], \"lat\": [40.7457, 40.7414], \"mode\": \"lines\", \"line\": {\"width\": 1, \"color\": \"rgb(117, 174, 255)\"}}, {\"type\": \"scattergeo\", \"locationmode\": \"USA-states\", \"lon\": [-73.9913, -73.9832], \"lat\": [40.7414, 40.7678], \"mode\": \"lines\", \"line\": {\"width\": 1, \"color\": \"rgb(117, 174, 255)\"}}, {\"type\": \"scattergeo\", \"locationmode\": \"USA-states\", \"lon\": [-73.9832, -73.9757], \"lat\": [40.7678, 40.758], \"mode\": \"lines\", \"line\": {\"width\": 1, \"color\": \"rgb(117, 174, 255)\"}}, {\"type\": \"scattergeo\", \"locationmode\": \"USA-states\", \"lon\": [-73.9757, -74.0071], \"lat\": [40.758, 40.7284], \"mode\": \"lines\", \"line\": {\"width\": 1, \"color\": \"rgb(117, 174, 255)\"}}, {\"type\": \"scattergeo\", \"locationmode\": \"USA-states\", \"lon\": [-74.0071, -73.9886], \"lat\": [40.7284, 40.7429], \"mode\": \"lines\", \"line\": {\"width\": 1, \"color\": \"rgb(117, 174, 255)\"}}, {\"type\": \"scattergeo\", \"locationmode\": \"USA-states\", \"lon\": [-73.9886, -73.9765], \"lat\": [40.7429, 40.7591], \"mode\": \"lines\", \"line\": {\"width\": 1, \"color\": \"rgb(117, 174, 255)\"}}, {\"type\": \"scattergeo\", \"locationmode\": \"USA-states\", \"lon\": [-73.9765, -73.9718], \"lat\": [40.7591, 40.763000000000005], \"mode\": \"lines\", \"line\": {\"width\": 1, \"color\": \"rgb(117, 174, 255)\"}}, {\"type\": \"scattergeo\", \"locationmode\": \"USA-states\", \"lon\": [-73.9718, -73.962], \"lat\": [40.763000000000005, 40.7782], \"mode\": \"lines\", \"line\": {\"width\": 1, \"color\": \"rgb(117, 174, 255)\"}}, {\"type\": \"scattergeo\", \"locationmode\": \"USA-states\", \"lon\": [-73.962, -73.962], \"lat\": [40.7782, 40.7782], \"mode\": \"lines\", \"line\": {\"width\": 1, \"color\": \"rgb(117, 174, 255)\"}}, {\"type\": \"scattergeo\", \"locationmode\": \"USA-states\", \"lon\": [-73.962, -74.0079], \"lat\": [40.7782, 40.7445], \"mode\": \"lines\", \"line\": {\"width\": 1, \"color\": \"rgb(117, 174, 255)\"}}, {\"type\": \"scattergeo\", \"locationmode\": \"USA-states\", \"lon\": [-74.0079, -74.0079], \"lat\": [40.7445, 40.7445], \"mode\": \"lines\", \"line\": {\"width\": 1, \"color\": \"rgb(117, 174, 255)\"}}, {\"type\": \"scattergeo\", \"locationmode\": \"USA-states\", \"lon\": [-74.0079, -73.9731], \"lat\": [40.7445, 40.7642], \"mode\": \"lines\", \"line\": {\"width\": 1, \"color\": \"rgb(117, 174, 255)\"}}, {\"type\": \"scattergeo\", \"locationmode\": \"USA-states\", \"lon\": [-73.9731, -73.9569], \"lat\": [40.7642, 40.7211], \"mode\": \"lines\", \"line\": {\"width\": 1, \"color\": \"rgb(117, 174, 255)\"}}, {\"type\": \"scattergeo\", \"locationmode\": \"USA-states\", \"lon\": [-73.9569, -74.0054], \"lat\": [40.7211, 40.7077], \"mode\": \"lines\", \"line\": {\"width\": 1, \"color\": \"rgb(117, 174, 255)\"}}, {\"type\": \"scattergeo\", \"locationmode\": \"USA-states\", \"lon\": [-74.0054, -74.0039], \"lat\": [40.7077, 40.7341], \"mode\": \"lines\", \"line\": {\"width\": 1, \"color\": \"rgb(117, 174, 255)\"}}, {\"type\": \"scattergeo\", \"locationmode\": \"USA-states\", \"lon\": [-74.0039, -73.9523], \"lat\": [40.7341, 40.6164], \"mode\": \"lines\", \"line\": {\"width\": 1, \"color\": \"rgb(117, 174, 255)\"}}, {\"type\": \"scattergeo\", \"locationmode\": \"USA-states\", \"lon\": [-73.9523, -73.9746], \"lat\": [40.6164, 40.7565], \"mode\": \"lines\", \"line\": {\"width\": 1, \"color\": \"rgb(117, 174, 255)\"}}, {\"type\": \"scattergeo\", \"locationmode\": \"USA-states\", \"lon\": [-73.9746, -74.0235], \"lat\": [40.7565, 40.7592], \"mode\": \"lines\", \"line\": {\"width\": 1, \"color\": \"rgb(117, 174, 255)\"}}, {\"type\": \"scattergeo\", \"locationmode\": \"USA-states\", \"lon\": [-74.0235, -73.995], \"lat\": [40.7592, 40.7255], \"mode\": \"lines\", \"line\": {\"width\": 1, \"color\": \"rgb(117, 174, 255)\"}}, {\"type\": \"scattergeo\", \"locationmode\": \"USA-states\", \"lon\": [-73.995, -73.9713], \"lat\": [40.7255, 40.764], \"mode\": \"lines\", \"line\": {\"width\": 1, \"color\": \"rgb(117, 174, 255)\"}}, {\"type\": \"scattergeo\", \"locationmode\": \"USA-states\", \"lon\": [-73.9713, -73.9724], \"lat\": [40.764, 40.7584], \"mode\": \"lines\", \"line\": {\"width\": 1, \"color\": \"rgb(117, 174, 255)\"}}, {\"type\": \"scattergeo\", \"locationmode\": \"USA-states\", \"lon\": [-73.9724, -73.99], \"lat\": [40.7584, 40.741], \"mode\": \"lines\", \"line\": {\"width\": 1, \"color\": \"rgb(117, 174, 255)\"}}, {\"type\": \"scattergeo\", \"locationmode\": \"USA-states\", \"lon\": [-73.99, -73.9989], \"lat\": [40.741, 40.7215], \"mode\": \"lines\", \"line\": {\"width\": 1, \"color\": \"rgb(117, 174, 255)\"}}, {\"type\": \"scattergeo\", \"locationmode\": \"USA-states\", \"lon\": [-73.9989, -73.9751], \"lat\": [40.7215, 40.7558], \"mode\": \"lines\", \"line\": {\"width\": 1, \"color\": \"rgb(117, 174, 255)\"}}, {\"type\": \"scattergeo\", \"locationmode\": \"USA-states\", \"lon\": [-73.9751, -73.9697], \"lat\": [40.7558, 40.7899], \"mode\": \"lines\", \"line\": {\"width\": 1, \"color\": \"rgb(117, 174, 255)\"}}, {\"type\": \"scattergeo\", \"locationmode\": \"USA-states\", \"lon\": [-73.9697, -74.0074], \"lat\": [40.7899, 40.7219], \"mode\": \"lines\", \"line\": {\"width\": 1, \"color\": \"rgb(117, 174, 255)\"}}, {\"type\": \"scattergeo\", \"locationmode\": \"USA-states\", \"lon\": [-74.0074, -74.0076], \"lat\": [40.7219, 40.743], \"mode\": \"lines\", \"line\": {\"width\": 1, \"color\": \"rgb(117, 174, 255)\"}}, {\"type\": \"scattergeo\", \"locationmode\": \"USA-states\", \"lon\": [-74.0076, -73.8625], \"lat\": [40.743, 40.7688], \"mode\": \"lines\", \"line\": {\"width\": 1, \"color\": \"rgb(117, 174, 255)\"}}, {\"type\": \"scattergeo\", \"locationmode\": \"USA-states\", \"lon\": [-73.8625, -74.002], \"lat\": [40.7688, 40.7222], \"mode\": \"lines\", \"line\": {\"width\": 1, \"color\": \"rgb(117, 174, 255)\"}}, {\"type\": \"scattergeo\", \"locationmode\": \"USA-states\", \"lon\": [-74.002, -74.002], \"lat\": [40.7222, 40.7222], \"mode\": \"lines\", \"line\": {\"width\": 1, \"color\": \"rgb(117, 174, 255)\"}}, {\"type\": \"scattergeo\", \"locationmode\": \"USA-states\", \"lon\": [-74.002, -73.9722], \"lat\": [40.7222, 40.7578], \"mode\": \"lines\", \"line\": {\"width\": 1, \"color\": \"rgb(117, 174, 255)\"}}, {\"type\": \"scattergeo\", \"locationmode\": \"USA-states\", \"lon\": [-73.9722, -74.0103], \"lat\": [40.7578, 40.7045], \"mode\": \"lines\", \"line\": {\"width\": 1, \"color\": \"rgb(117, 174, 255)\"}}, {\"type\": \"scattergeo\", \"locationmode\": \"USA-states\", \"lon\": [-74.0103, -73.9835], \"lat\": [40.7045, 40.7624], \"mode\": \"lines\", \"line\": {\"width\": 1, \"color\": \"rgb(117, 174, 255)\"}}, {\"type\": \"scattergeo\", \"locationmode\": \"USA-states\", \"lon\": [-73.9835, -73.9754], \"lat\": [40.7624, 40.7525], \"mode\": \"lines\", \"line\": {\"width\": 1, \"color\": \"rgb(117, 174, 255)\"}}, {\"type\": \"scattergeo\", \"locationmode\": \"USA-states\", \"lon\": [-73.9754, -74.0094], \"lat\": [40.7525, 40.7065], \"mode\": \"lines\", \"line\": {\"width\": 1, \"color\": \"rgb(117, 174, 255)\"}}, {\"type\": \"scattergeo\", \"locationmode\": \"USA-states\", \"lon\": [-74.0094, -74.1689], \"lat\": [40.7065, 40.7354], \"mode\": \"lines\", \"line\": {\"width\": 1, \"color\": \"rgb(117, 174, 255)\"}}, {\"type\": \"scattergeo\", \"locationmode\": \"USA-states\", \"lon\": [-74.1689, -73.9548], \"lat\": [40.7354, 40.7733], \"mode\": \"lines\", \"line\": {\"width\": 1, \"color\": \"rgb(117, 174, 255)\"}}, {\"type\": \"scattergeo\", \"locationmode\": \"USA-states\", \"lon\": [-73.9548, -73.9984], \"lat\": [40.7733, 40.7287], \"mode\": \"lines\", \"line\": {\"width\": 1, \"color\": \"rgb(117, 174, 255)\"}}, {\"type\": \"scattergeo\", \"locationmode\": \"USA-states\", \"lon\": [-73.9984, -73.9951], \"lat\": [40.7287, 40.7123], \"mode\": \"lines\", \"line\": {\"width\": 1, \"color\": \"rgb(117, 174, 255)\"}}, {\"type\": \"scattergeo\", \"locationmode\": \"USA-states\", \"lon\": [-73.9951, -73.979], \"lat\": [40.7123, 40.7608], \"mode\": \"lines\", \"line\": {\"width\": 1, \"color\": \"rgb(117, 174, 255)\"}}, {\"type\": \"scattergeo\", \"locationmode\": \"USA-states\", \"lon\": [-73.979, -73.9539], \"lat\": [40.7608, 40.7843], \"mode\": \"lines\", \"line\": {\"width\": 1, \"color\": \"rgb(117, 174, 255)\"}}, {\"type\": \"scattergeo\", \"locationmode\": \"USA-states\", \"lon\": [-73.9539, -73.9539], \"lat\": [40.7843, 40.7843], \"mode\": \"lines\", \"line\": {\"width\": 1, \"color\": \"rgb(117, 174, 255)\"}}, {\"type\": \"scattergeo\", \"locationmode\": \"USA-states\", \"lon\": [-73.9539, -73.9975], \"lat\": [40.7843, 40.6836], \"mode\": \"lines\", \"line\": {\"width\": 1, \"color\": \"rgb(117, 174, 255)\"}}, {\"type\": \"scattergeo\", \"locationmode\": \"USA-states\", \"lon\": [-73.9975, -73.9949], \"lat\": [40.6836, 40.6971], \"mode\": \"lines\", \"line\": {\"width\": 1, \"color\": \"rgb(117, 174, 255)\"}}, {\"type\": \"scattergeo\", \"locationmode\": \"USA-states\", \"lon\": [-73.9949, -74.183], \"lat\": [40.6971, 40.6881], \"mode\": \"lines\", \"line\": {\"width\": 1, \"color\": \"rgb(117, 174, 255)\"}}, {\"type\": \"scattergeo\", \"locationmode\": \"USA-states\", \"lon\": [-74.183, -73.9918], \"lat\": [40.6881, 40.7417], \"mode\": \"lines\", \"line\": {\"width\": 1, \"color\": \"rgb(117, 174, 255)\"}}, {\"type\": \"scattergeo\", \"locationmode\": \"USA-states\", \"lon\": [-73.9918, -73.9754], \"lat\": [40.7417, 40.7605], \"mode\": \"lines\", \"line\": {\"width\": 1, \"color\": \"rgb(117, 174, 255)\"}}, {\"type\": \"scattergeo\", \"locationmode\": \"USA-states\", \"lon\": [-73.9754, -73.9813], \"lat\": [40.7605, 40.7641], \"mode\": \"lines\", \"line\": {\"width\": 1, \"color\": \"rgb(117, 174, 255)\"}}, {\"type\": \"scattergeo\", \"locationmode\": \"USA-states\", \"lon\": [-73.9813, -73.9998], \"lat\": [40.7641, 40.727], \"mode\": \"lines\", \"line\": {\"width\": 1, \"color\": \"rgb(117, 174, 255)\"}}, {\"type\": \"scattergeo\", \"locationmode\": \"USA-states\", \"lon\": [-73.9998, -73.9908], \"lat\": [40.727, 40.7453], \"mode\": \"lines\", \"line\": {\"width\": 1, \"color\": \"rgb(117, 174, 255)\"}}, {\"type\": \"scattergeo\", \"locationmode\": \"USA-states\", \"lon\": [-73.9908, -73.9552], \"lat\": [40.7453, 40.714], \"mode\": \"lines\", \"line\": {\"width\": 1, \"color\": \"rgb(117, 174, 255)\"}}, {\"type\": \"scattergeo\", \"locationmode\": \"USA-states\", \"lon\": [-73.9552, -73.9888], \"lat\": [40.714, 40.7368], \"mode\": \"lines\", \"line\": {\"width\": 1, \"color\": \"rgb(117, 174, 255)\"}}, {\"type\": \"scattergeo\", \"locationmode\": \"USA-states\", \"lon\": [-73.9888, -73.9865], \"lat\": [40.7368, 40.7321], \"mode\": \"lines\", \"line\": {\"width\": 1, \"color\": \"rgb(117, 174, 255)\"}}, {\"type\": \"scattergeo\", \"locationmode\": \"USA-states\", \"lon\": [-73.9865, -73.979], \"lat\": [40.7321, 40.764], \"mode\": \"lines\", \"line\": {\"width\": 1, \"color\": \"rgb(117, 174, 255)\"}}, {\"type\": \"scattergeo\", \"locationmode\": \"USA-states\", \"lon\": [-73.979, -74.0068], \"lat\": [40.764, 40.7308], \"mode\": \"lines\", \"line\": {\"width\": 1, \"color\": \"rgb(117, 174, 255)\"}}, {\"type\": \"scattergeo\", \"locationmode\": \"USA-states\", \"lon\": [-74.0068, -73.9764], \"lat\": [40.7308, 40.7541], \"mode\": \"lines\", \"line\": {\"width\": 1, \"color\": \"rgb(117, 174, 255)\"}}, {\"type\": \"scattergeo\", \"locationmode\": \"USA-states\", \"lon\": [-73.9764, -73.992], \"lat\": [40.7541, 40.7408], \"mode\": \"lines\", \"line\": {\"width\": 1, \"color\": \"rgb(117, 174, 255)\"}}, {\"type\": \"scattergeo\", \"locationmode\": \"USA-states\", \"lon\": [-73.992, -73.9751], \"lat\": [40.7408, 40.7581], \"mode\": \"lines\", \"line\": {\"width\": 1, \"color\": \"rgb(117, 174, 255)\"}}, {\"type\": \"scattergeo\", \"locationmode\": \"USA-states\", \"lon\": [-73.9751, -74.0036], \"lat\": [40.7581, 40.7234], \"mode\": \"lines\", \"line\": {\"width\": 1, \"color\": \"rgb(117, 174, 255)\"}}, {\"type\": \"scattergeo\", \"locationmode\": \"USA-states\", \"lon\": [-74.0036, -73.9558], \"lat\": [40.7234, 40.7727], \"mode\": \"lines\", \"line\": {\"width\": 1, \"color\": \"rgb(117, 174, 255)\"}}, {\"type\": \"scattergeo\", \"locationmode\": \"USA-states\", \"lon\": [-73.9558, -73.9769], \"lat\": [40.7727, 40.7625], \"mode\": \"lines\", \"line\": {\"width\": 1, \"color\": \"rgb(117, 174, 255)\"}}, {\"type\": \"scattergeo\", \"locationmode\": \"USA-states\", \"lon\": [-73.9769, -74.0308], \"lat\": [40.7625, 40.738], \"mode\": \"lines\", \"line\": {\"width\": 1, \"color\": \"rgb(117, 174, 255)\"}}, {\"type\": \"scattergeo\", \"locationmode\": \"USA-states\", \"lon\": [-74.0308, -73.9862], \"lat\": [40.738, 40.7517], \"mode\": \"lines\", \"line\": {\"width\": 1, \"color\": \"rgb(117, 174, 255)\"}}, {\"type\": \"scattergeo\", \"locationmode\": \"USA-states\", \"lon\": [-73.9862, -74.0057], \"lat\": [40.7517, 40.7274], \"mode\": \"lines\", \"line\": {\"width\": 1, \"color\": \"rgb(117, 174, 255)\"}}, {\"type\": \"scattergeo\", \"locationmode\": \"USA-states\", \"lon\": [-74.0057, -73.9969], \"lat\": [40.7274, 40.7324], \"mode\": \"lines\", \"line\": {\"width\": 1, \"color\": \"rgb(117, 174, 255)\"}}, {\"type\": \"scattergeo\", \"locationmode\": \"USA-states\", \"lon\": [-73.9969, -74.0461], \"lat\": [40.7324, 40.7304], \"mode\": \"lines\", \"line\": {\"width\": 1, \"color\": \"rgb(117, 174, 255)\"}}, {\"type\": \"scattergeo\", \"locationmode\": \"USA-states\", \"lon\": [-74.0461, -73.9847], \"lat\": [40.7304, 40.7104], \"mode\": \"lines\", \"line\": {\"width\": 1, \"color\": \"rgb(117, 174, 255)\"}}, {\"type\": \"scattergeo\", \"locationmode\": \"USA-states\", \"lon\": [-73.9847, -73.984], \"lat\": [40.7104, 40.7441], \"mode\": \"lines\", \"line\": {\"width\": 1, \"color\": \"rgb(117, 174, 255)\"}}, {\"type\": \"scattergeo\", \"locationmode\": \"USA-states\", \"lon\": [-73.984, -73.9439], \"lat\": [40.7441, 40.8262], \"mode\": \"lines\", \"line\": {\"width\": 1, \"color\": \"rgb(117, 174, 255)\"}}, {\"type\": \"scattergeo\", \"locationmode\": \"USA-states\", \"lon\": [-73.9439, -74.0042], \"lat\": [40.8262, 40.7218], \"mode\": \"lines\", \"line\": {\"width\": 1, \"color\": \"rgb(117, 174, 255)\"}}, {\"type\": \"scattergeo\", \"locationmode\": \"USA-states\", \"lon\": [-74.0042, -73.9828], \"lat\": [40.7218, 40.7594], \"mode\": \"lines\", \"line\": {\"width\": 1, \"color\": \"rgb(117, 174, 255)\"}}, {\"type\": \"scattergeo\", \"locationmode\": \"USA-states\", \"lon\": [-73.9828, -74.0077], \"lat\": [40.7594, 40.7327], \"mode\": \"lines\", \"line\": {\"width\": 1, \"color\": \"rgb(117, 174, 255)\"}}, {\"type\": \"scattergeo\", \"locationmode\": \"USA-states\", \"lon\": [-74.0077, -73.9825], \"lat\": [40.7327, 40.7616], \"mode\": \"lines\", \"line\": {\"width\": 1, \"color\": \"rgb(117, 174, 255)\"}}, {\"type\": \"scattergeo\", \"locationmode\": \"USA-states\", \"lon\": [-73.9825, -73.9624], \"lat\": [40.7616, 40.759], \"mode\": \"lines\", \"line\": {\"width\": 1, \"color\": \"rgb(117, 174, 255)\"}}, {\"type\": \"scattergeo\", \"locationmode\": \"USA-states\", \"lon\": [-73.9624, -74.181], \"lat\": [40.759, 40.6879], \"mode\": \"lines\", \"line\": {\"width\": 1, \"color\": \"rgb(117, 174, 255)\"}}, {\"type\": \"scattergeo\", \"locationmode\": \"USA-states\", \"lon\": [-74.181, -73.8232], \"lat\": [40.6879, 40.7122], \"mode\": \"lines\", \"line\": {\"width\": 1, \"color\": \"rgb(117, 174, 255)\"}}, {\"type\": \"scattergeo\", \"locationmode\": \"USA-states\", \"lon\": [-73.8232, -73.9766], \"lat\": [40.7122, 40.764], \"mode\": \"lines\", \"line\": {\"width\": 1, \"color\": \"rgb(117, 174, 255)\"}}, {\"type\": \"scattergeo\", \"locationmode\": \"USA-states\", \"lon\": [-73.9766, -74.0024], \"lat\": [40.764, 40.7167], \"mode\": \"lines\", \"line\": {\"width\": 1, \"color\": \"rgb(117, 174, 255)\"}}, {\"type\": \"scattergeo\", \"locationmode\": \"USA-states\", \"lon\": [-74.0024, -74.1798], \"lat\": [40.7167, 40.6953], \"mode\": \"lines\", \"line\": {\"width\": 1, \"color\": \"rgb(117, 174, 255)\"}}, {\"type\": \"scattergeo\", \"locationmode\": \"USA-states\", \"lon\": [-74.1798, -74.0021], \"lat\": [40.6953, 40.7371], \"mode\": \"lines\", \"line\": {\"width\": 1, \"color\": \"rgb(117, 174, 255)\"}}, {\"type\": \"scattergeo\", \"locationmode\": \"USA-states\", \"lon\": [-74.0021, -73.9792], \"lat\": [40.7371, 40.7437], \"mode\": \"lines\", \"line\": {\"width\": 1, \"color\": \"rgb(117, 174, 255)\"}}, {\"type\": \"scattergeo\", \"locationmode\": \"USA-states\", \"lon\": [-73.9792, -73.9729], \"lat\": [40.7437, 40.751], \"mode\": \"lines\", \"line\": {\"width\": 1, \"color\": \"rgb(117, 174, 255)\"}}, {\"type\": \"scattergeo\", \"locationmode\": \"USA-states\", \"lon\": [-73.9729, -73.6507], \"lat\": [40.751, 40.7999], \"mode\": \"lines\", \"line\": {\"width\": 1, \"color\": \"rgb(117, 174, 255)\"}}, {\"type\": \"scattergeo\", \"locationmode\": \"USA-states\", \"lon\": [-73.6507, -73.9962], \"lat\": [40.7999, 40.7261], \"mode\": \"lines\", \"line\": {\"width\": 1, \"color\": \"rgb(117, 174, 255)\"}}, {\"type\": \"scattergeo\", \"locationmode\": \"USA-states\", \"lon\": [-73.9962, -73.9867], \"lat\": [40.7261, 40.702], \"mode\": \"lines\", \"line\": {\"width\": 1, \"color\": \"rgb(117, 174, 255)\"}}, {\"type\": \"scattergeo\", \"locationmode\": \"USA-states\", \"lon\": [-73.9867, -73.7899], \"lat\": [40.702, 40.6436], \"mode\": \"lines\", \"line\": {\"width\": 1, \"color\": \"rgb(117, 174, 255)\"}}, {\"type\": \"scattergeo\", \"locationmode\": \"USA-states\", \"lon\": [-73.7899, -73.987], \"lat\": [40.6436, 40.7295], \"mode\": \"lines\", \"line\": {\"width\": 1, \"color\": \"rgb(117, 174, 255)\"}}, {\"type\": \"scattergeo\", \"locationmode\": \"USA-states\", \"lon\": [-73.987, -74.015], \"lat\": [40.7295, 40.7102], \"mode\": \"lines\", \"line\": {\"width\": 1, \"color\": \"rgb(117, 174, 255)\"}}, {\"type\": \"scattergeo\", \"locationmode\": \"USA-states\", \"lon\": [-74.015, -73.9777], \"lat\": [40.7102, 40.7592], \"mode\": \"lines\", \"line\": {\"width\": 1, \"color\": \"rgb(117, 174, 255)\"}}, {\"type\": \"scattergeo\", \"locationmode\": \"USA-states\", \"lon\": [-73.9777, -73.9638], \"lat\": [40.7592, 40.7995], \"mode\": \"lines\", \"line\": {\"width\": 1, \"color\": \"rgb(117, 174, 255)\"}}, {\"type\": \"scattergeo\", \"locationmode\": \"USA-states\", \"lon\": [-73.9638, -74.0056], \"lat\": [40.7995, 40.7333], \"mode\": \"lines\", \"line\": {\"width\": 1, \"color\": \"rgb(117, 174, 255)\"}}, {\"type\": \"scattergeo\", \"locationmode\": \"USA-states\", \"lon\": [-74.0056, -74.2143], \"lat\": [40.7333, 40.8132], \"mode\": \"lines\", \"line\": {\"width\": 1, \"color\": \"rgb(117, 174, 255)\"}}, {\"type\": \"scattergeo\", \"locationmode\": \"USA-states\", \"lon\": [-74.2143, -73.9917], \"lat\": [40.8132, 40.7384], \"mode\": \"lines\", \"line\": {\"width\": 1, \"color\": \"rgb(117, 174, 255)\"}}, {\"type\": \"scattergeo\", \"locationmode\": \"USA-states\", \"lon\": [-73.9917, -74.0027], \"lat\": [40.7384, 40.7236], \"mode\": \"lines\", \"line\": {\"width\": 1, \"color\": \"rgb(117, 174, 255)\"}}, {\"type\": \"scattergeo\", \"locationmode\": \"USA-states\", \"lon\": [-74.0027, -73.9766], \"lat\": [40.7236, 40.764], \"mode\": \"lines\", \"line\": {\"width\": 1, \"color\": \"rgb(117, 174, 255)\"}}, {\"type\": \"scattergeo\", \"locationmode\": \"USA-states\", \"lon\": [-73.9766, -73.9664], \"lat\": [40.764, 40.7533], \"mode\": \"lines\", \"line\": {\"width\": 1, \"color\": \"rgb(117, 174, 255)\"}}, {\"type\": \"scattergeo\", \"locationmode\": \"USA-states\", \"lon\": [-73.9664, -73.9794], \"lat\": [40.7533, 40.7636], \"mode\": \"lines\", \"line\": {\"width\": 1, \"color\": \"rgb(117, 174, 255)\"}}, {\"type\": \"scattergeo\", \"locationmode\": \"USA-states\", \"lon\": [-73.9794, -74.0076], \"lat\": [40.7636, 40.7322], \"mode\": \"lines\", \"line\": {\"width\": 1, \"color\": \"rgb(117, 174, 255)\"}}, {\"type\": \"scattergeo\", \"locationmode\": \"USA-states\", \"lon\": [-74.0076, -74.0101], \"lat\": [40.7322, 40.7146], \"mode\": \"lines\", \"line\": {\"width\": 1, \"color\": \"rgb(117, 174, 255)\"}}, {\"type\": \"scattergeo\", \"locationmode\": \"USA-states\", \"lon\": [-74.0101, -74.0347], \"lat\": [40.7146, 40.7271], \"mode\": \"lines\", \"line\": {\"width\": 1, \"color\": \"rgb(117, 174, 255)\"}}, {\"type\": \"scattergeo\", \"locationmode\": \"USA-states\", \"lon\": [-74.0347, -74.009], \"lat\": [40.7271, 40.7475], \"mode\": \"lines\", \"line\": {\"width\": 1, \"color\": \"rgb(117, 174, 255)\"}}, {\"type\": \"scattergeo\", \"locationmode\": \"USA-states\", \"lon\": [-74.009, -73.8626], \"lat\": [40.7475, 40.7685], \"mode\": \"lines\", \"line\": {\"width\": 1, \"color\": \"rgb(117, 174, 255)\"}}, {\"type\": \"scattergeo\", \"locationmode\": \"USA-states\", \"lon\": [-73.8626, -73.8626], \"lat\": [40.7685, 40.7685], \"mode\": \"lines\", \"line\": {\"width\": 1, \"color\": \"rgb(117, 174, 255)\"}}, {\"type\": \"scattergeo\", \"locationmode\": \"USA-states\", \"lon\": [-73.8626, -73.9829], \"lat\": [40.7685, 40.7218], \"mode\": \"lines\", \"line\": {\"width\": 1, \"color\": \"rgb(117, 174, 255)\"}}, {\"type\": \"scattergeo\", \"locationmode\": \"USA-states\", \"lon\": [-73.9829, -73.7822], \"lat\": [40.7218, 40.6449], \"mode\": \"lines\", \"line\": {\"width\": 1, \"color\": \"rgb(117, 174, 255)\"}}, {\"type\": \"scattergeo\", \"locationmode\": \"USA-states\", \"lon\": [-73.7822, -73.9937], \"lat\": [40.6449, 40.7274], \"mode\": \"lines\", \"line\": {\"width\": 1, \"color\": \"rgb(117, 174, 255)\"}}, {\"type\": \"scattergeo\", \"locationmode\": \"USA-states\", \"lon\": [-73.9937, -73.9856], \"lat\": [40.7274, 40.73], \"mode\": \"lines\", \"line\": {\"width\": 1, \"color\": \"rgb(117, 174, 255)\"}}, {\"type\": \"scattergeo\", \"locationmode\": \"USA-states\", \"lon\": [-73.9856, -74.0323], \"lat\": [40.73, 40.7195], \"mode\": \"lines\", \"line\": {\"width\": 1, \"color\": \"rgb(117, 174, 255)\"}}, {\"type\": \"scattergeo\", \"locationmode\": \"USA-states\", \"lon\": [-74.0323, -74.0323], \"lat\": [40.7195, 40.7195], \"mode\": \"lines\", \"line\": {\"width\": 1, \"color\": \"rgb(117, 174, 255)\"}}, {\"type\": \"scattergeo\", \"locationmode\": \"USA-states\", \"lon\": [-74.0323, -73.9847], \"lat\": [40.7195, 40.7103], \"mode\": \"lines\", \"line\": {\"width\": 1, \"color\": \"rgb(117, 174, 255)\"}}, {\"type\": \"scattergeo\", \"locationmode\": \"USA-states\", \"lon\": [-73.9847, -73.977], \"lat\": [40.7103, 40.7516], \"mode\": \"lines\", \"line\": {\"width\": 1, \"color\": \"rgb(117, 174, 255)\"}}, {\"type\": \"scattergeo\", \"locationmode\": \"USA-states\", \"lon\": [-73.977, -73.979], \"lat\": [40.7516, 40.7608], \"mode\": \"lines\", \"line\": {\"width\": 1, \"color\": \"rgb(117, 174, 255)\"}}, {\"type\": \"scattergeo\", \"locationmode\": \"USA-states\", \"lon\": [-73.979, -73.9754], \"lat\": [40.7608, 40.7636], \"mode\": \"lines\", \"line\": {\"width\": 1, \"color\": \"rgb(117, 174, 255)\"}}, {\"type\": \"scattergeo\", \"locationmode\": \"USA-states\", \"lon\": [-73.9754, -73.9776], \"lat\": [40.7636, 40.7588], \"mode\": \"lines\", \"line\": {\"width\": 1, \"color\": \"rgb(117, 174, 255)\"}}, {\"type\": \"scattergeo\", \"locationmode\": \"USA-states\", \"lon\": [-73.9776, -74.0055], \"lat\": [40.7588, 40.742], \"mode\": \"lines\", \"line\": {\"width\": 1, \"color\": \"rgb(117, 174, 255)\"}}, {\"type\": \"scattergeo\", \"locationmode\": \"USA-states\", \"lon\": [-74.0055, -73.9931], \"lat\": [40.742, 40.7497], \"mode\": \"lines\", \"line\": {\"width\": 1, \"color\": \"rgb(117, 174, 255)\"}}, {\"type\": \"scattergeo\", \"locationmode\": \"USA-states\", \"lon\": [-73.9931, -73.9934], \"lat\": [40.7497, 40.7399], \"mode\": \"lines\", \"line\": {\"width\": 1, \"color\": \"rgb(117, 174, 255)\"}}, {\"type\": \"scattergeo\", \"locationmode\": \"USA-states\", \"lon\": [-73.9934, -73.998], \"lat\": [40.7399, 40.736999999999995], \"mode\": \"lines\", \"line\": {\"width\": 1, \"color\": \"rgb(117, 174, 255)\"}}, {\"type\": \"scattergeo\", \"locationmode\": \"USA-states\", \"lon\": [-73.998, -74.01], \"lat\": [40.736999999999995, 40.7345], \"mode\": \"lines\", \"line\": {\"width\": 1, \"color\": \"rgb(117, 174, 255)\"}}, {\"type\": \"scattergeo\", \"locationmode\": \"USA-states\", \"lon\": [-74.01, -73.956], \"lat\": [40.7345, 40.7737], \"mode\": \"lines\", \"line\": {\"width\": 1, \"color\": \"rgb(117, 174, 255)\"}}, {\"type\": \"scattergeo\", \"locationmode\": \"USA-states\", \"lon\": [-73.956, -74.0083], \"lat\": [40.7737, 40.7233], \"mode\": \"lines\", \"line\": {\"width\": 1, \"color\": \"rgb(117, 174, 255)\"}}, {\"type\": \"scattergeo\", \"locationmode\": \"USA-states\", \"lon\": [-74.0083, -74.0339], \"lat\": [40.7233, 40.7186], \"mode\": \"lines\", \"line\": {\"width\": 1, \"color\": \"rgb(117, 174, 255)\"}}, {\"type\": \"scattergeo\", \"locationmode\": \"USA-states\", \"lon\": [-74.0339, -74.0339], \"lat\": [40.7186, 40.7186], \"mode\": \"lines\", \"line\": {\"width\": 1, \"color\": \"rgb(117, 174, 255)\"}}, {\"type\": \"scattergeo\", \"locationmode\": \"USA-states\", \"lon\": [-74.0339, -74.001], \"lat\": [40.7186, 40.7308], \"mode\": \"lines\", \"line\": {\"width\": 1, \"color\": \"rgb(117, 174, 255)\"}}, {\"type\": \"scattergeo\", \"locationmode\": \"USA-states\", \"lon\": [-74.001, -73.9893], \"lat\": [40.7308, 40.7546], \"mode\": \"lines\", \"line\": {\"width\": 1, \"color\": \"rgb(117, 174, 255)\"}}, {\"type\": \"scattergeo\", \"locationmode\": \"USA-states\", \"lon\": [-73.9893, -74.0228], \"lat\": [40.7546, 40.7592], \"mode\": \"lines\", \"line\": {\"width\": 1, \"color\": \"rgb(117, 174, 255)\"}}, {\"type\": \"scattergeo\", \"locationmode\": \"USA-states\", \"lon\": [-74.0228, -73.9731], \"lat\": [40.7592, 40.7555], \"mode\": \"lines\", \"line\": {\"width\": 1, \"color\": \"rgb(117, 174, 255)\"}}, {\"type\": \"scattergeo\", \"locationmode\": \"USA-states\", \"lon\": [-73.9731, -73.9807], \"lat\": [40.7555, 40.7649], \"mode\": \"lines\", \"line\": {\"width\": 1, \"color\": \"rgb(117, 174, 255)\"}}, {\"type\": \"scattergeo\", \"locationmode\": \"USA-states\", \"lon\": [-73.9807, -73.9845], \"lat\": [40.7649, 40.7617], \"mode\": \"lines\", \"line\": {\"width\": 1, \"color\": \"rgb(117, 174, 255)\"}}, {\"type\": \"scattergeo\", \"locationmode\": \"USA-states\", \"lon\": [-73.9845, -74.0635], \"lat\": [40.7617, 40.7138], \"mode\": \"lines\", \"line\": {\"width\": 1, \"color\": \"rgb(117, 174, 255)\"}}, {\"type\": \"scattergeo\", \"locationmode\": \"USA-states\", \"lon\": [-74.0635, -73.9934], \"lat\": [40.7138, 40.7218], \"mode\": \"lines\", \"line\": {\"width\": 1, \"color\": \"rgb(117, 174, 255)\"}}, {\"type\": \"scattergeo\", \"locationmode\": \"USA-states\", \"lon\": [-73.9934, -73.9794], \"lat\": [40.7218, 40.7203], \"mode\": \"lines\", \"line\": {\"width\": 1, \"color\": \"rgb(117, 174, 255)\"}}, {\"type\": \"scattergeo\", \"locationmode\": \"USA-states\", \"lon\": [-73.9794, -73.9931], \"lat\": [40.7203, 40.7324], \"mode\": \"lines\", \"line\": {\"width\": 1, \"color\": \"rgb(117, 174, 255)\"}}, {\"type\": \"scattergeo\", \"locationmode\": \"USA-states\", \"lon\": [-73.9931, -73.9907], \"lat\": [40.7324, 40.7035], \"mode\": \"lines\", \"line\": {\"width\": 1, \"color\": \"rgb(117, 174, 255)\"}}, {\"type\": \"scattergeo\", \"locationmode\": \"USA-states\", \"lon\": [-73.9907, -73.9694], \"lat\": [40.7035, 40.7636], \"mode\": \"lines\", \"line\": {\"width\": 1, \"color\": \"rgb(117, 174, 255)\"}}, {\"type\": \"scattergeo\", \"locationmode\": \"USA-states\", \"lon\": [-73.9694, -73.9899], \"lat\": [40.7636, 40.7498], \"mode\": \"lines\", \"line\": {\"width\": 1, \"color\": \"rgb(117, 174, 255)\"}}, {\"type\": \"scattergeo\", \"locationmode\": \"USA-states\", \"lon\": [-73.9899, -73.9792], \"lat\": [40.7498, 40.7634], \"mode\": \"lines\", \"line\": {\"width\": 1, \"color\": \"rgb(117, 174, 255)\"}}, {\"type\": \"scattergeo\", \"locationmode\": \"USA-states\", \"lon\": [-73.9792, -73.9758], \"lat\": [40.7634, 40.7655], \"mode\": \"lines\", \"line\": {\"width\": 1, \"color\": \"rgb(117, 174, 255)\"}}, {\"type\": \"scattergeo\", \"locationmode\": \"USA-states\", \"lon\": [-73.9758, -73.9834], \"lat\": [40.7655, 40.6728], \"mode\": \"lines\", \"line\": {\"width\": 1, \"color\": \"rgb(117, 174, 255)\"}}, {\"type\": \"scattergeo\", \"locationmode\": \"USA-states\", \"lon\": [-73.9834, -73.9787], \"lat\": [40.6728, 40.7626], \"mode\": \"lines\", \"line\": {\"width\": 1, \"color\": \"rgb(117, 174, 255)\"}}, {\"type\": \"scattergeo\", \"locationmode\": \"USA-states\", \"lon\": [-73.9787, -74.0068], \"lat\": [40.7626, 40.7406], \"mode\": \"lines\", \"line\": {\"width\": 1, \"color\": \"rgb(117, 174, 255)\"}}, {\"type\": \"scattergeo\", \"locationmode\": \"USA-states\", \"lon\": [-74.0068, -73.9706], \"lat\": [40.7406, 40.7605], \"mode\": \"lines\", \"line\": {\"width\": 1, \"color\": \"rgb(117, 174, 255)\"}}, {\"type\": \"scattergeo\", \"locationmode\": \"USA-states\", \"lon\": [-73.9706, -73.9706], \"lat\": [40.7605, 40.7605], \"mode\": \"lines\", \"line\": {\"width\": 1, \"color\": \"rgb(117, 174, 255)\"}}, {\"type\": \"scattergeo\", \"locationmode\": \"USA-states\", \"lon\": [-73.9706, -73.9785], \"lat\": [40.7605, 40.7615], \"mode\": \"lines\", \"line\": {\"width\": 1, \"color\": \"rgb(117, 174, 255)\"}}, {\"type\": \"scattergeo\", \"locationmode\": \"USA-states\", \"lon\": [-73.9785, -73.9742], \"lat\": [40.7615, 40.7573], \"mode\": \"lines\", \"line\": {\"width\": 1, \"color\": \"rgb(117, 174, 255)\"}}, {\"type\": \"scattergeo\", \"locationmode\": \"USA-states\", \"lon\": [-73.9742, -73.8847], \"lat\": [40.7573, 40.6609], \"mode\": \"lines\", \"line\": {\"width\": 1, \"color\": \"rgb(117, 174, 255)\"}}, {\"type\": \"scattergeo\", \"locationmode\": \"USA-states\", \"lon\": [-73.8847, -73.9795], \"lat\": [40.6609, 40.7587], \"mode\": \"lines\", \"line\": {\"width\": 1, \"color\": \"rgb(117, 174, 255)\"}}, {\"type\": \"scattergeo\", \"locationmode\": \"USA-states\", \"lon\": [-73.9795, -73.9959], \"lat\": [40.7587, 40.7321], \"mode\": \"lines\", \"line\": {\"width\": 1, \"color\": \"rgb(117, 174, 255)\"}}, {\"type\": \"scattergeo\", \"locationmode\": \"USA-states\", \"lon\": [-73.9959, -73.9872], \"lat\": [40.7321, 40.7551], \"mode\": \"lines\", \"line\": {\"width\": 1, \"color\": \"rgb(117, 174, 255)\"}}, {\"type\": \"scattergeo\", \"locationmode\": \"USA-states\", \"lon\": [-73.9872, -74.0081], \"lat\": [40.7551, 40.7462], \"mode\": \"lines\", \"line\": {\"width\": 1, \"color\": \"rgb(117, 174, 255)\"}}, {\"type\": \"scattergeo\", \"locationmode\": \"USA-states\", \"lon\": [-74.0081, -73.9921], \"lat\": [40.7462, 40.7251], \"mode\": \"lines\", \"line\": {\"width\": 1, \"color\": \"rgb(117, 174, 255)\"}}, {\"type\": \"scattergeo\", \"locationmode\": \"USA-states\", \"lon\": [-73.9921, -73.9946], \"lat\": [40.7251, 40.7257], \"mode\": \"lines\", \"line\": {\"width\": 1, \"color\": \"rgb(117, 174, 255)\"}}, {\"type\": \"scattergeo\", \"locationmode\": \"USA-states\", \"lon\": [-73.9946, -73.9922], \"lat\": [40.7257, 40.7494], \"mode\": \"lines\", \"line\": {\"width\": 1, \"color\": \"rgb(117, 174, 255)\"}}, {\"type\": \"scattergeo\", \"locationmode\": \"USA-states\", \"lon\": [-73.9922, -73.9744], \"lat\": [40.7494, 40.7537], \"mode\": \"lines\", \"line\": {\"width\": 1, \"color\": \"rgb(117, 174, 255)\"}}, {\"type\": \"scattergeo\", \"locationmode\": \"USA-states\", \"lon\": [-73.9744, -73.983], \"lat\": [40.7537, 40.7693], \"mode\": \"lines\", \"line\": {\"width\": 1, \"color\": \"rgb(117, 174, 255)\"}}, {\"type\": \"scattergeo\", \"locationmode\": \"USA-states\", \"lon\": [-73.983, -73.97800000000001], \"lat\": [40.7693, 40.7575], \"mode\": \"lines\", \"line\": {\"width\": 1, \"color\": \"rgb(117, 174, 255)\"}}, {\"type\": \"scattergeo\", \"locationmode\": \"USA-states\", \"lon\": [-73.97800000000001, -73.9774], \"lat\": [40.7575, 40.7644], \"mode\": \"lines\", \"line\": {\"width\": 1, \"color\": \"rgb(117, 174, 255)\"}}, {\"type\": \"scattergeo\", \"locationmode\": \"USA-states\", \"lon\": [-73.9774, -74.0096], \"lat\": [40.7644, 40.7461], \"mode\": \"lines\", \"line\": {\"width\": 1, \"color\": \"rgb(117, 174, 255)\"}}, {\"type\": \"scattergeo\", \"locationmode\": \"USA-states\", \"lon\": [-74.0096, -73.9867], \"lat\": [40.7461, 40.7017], \"mode\": \"lines\", \"line\": {\"width\": 1, \"color\": \"rgb(117, 174, 255)\"}}, {\"type\": \"scattergeo\", \"locationmode\": \"USA-states\", \"lon\": [-73.9867, -73.9938], \"lat\": [40.7017, 40.7272], \"mode\": \"lines\", \"line\": {\"width\": 1, \"color\": \"rgb(117, 174, 255)\"}}, {\"type\": \"scattergeo\", \"locationmode\": \"USA-states\", \"lon\": [-73.9938, -73.9877], \"lat\": [40.7272, 40.7294], \"mode\": \"lines\", \"line\": {\"width\": 1, \"color\": \"rgb(117, 174, 255)\"}}, {\"type\": \"scattergeo\", \"locationmode\": \"USA-states\", \"lon\": [-73.9877, -73.9927], \"lat\": [40.7294, 40.7366], \"mode\": \"lines\", \"line\": {\"width\": 1, \"color\": \"rgb(117, 174, 255)\"}}, {\"type\": \"scattergeo\", \"locationmode\": \"USA-states\", \"lon\": [-73.9927, -74.0038], \"lat\": [40.7366, 40.7419], \"mode\": \"lines\", \"line\": {\"width\": 1, \"color\": \"rgb(117, 174, 255)\"}}, {\"type\": \"scattergeo\", \"locationmode\": \"USA-states\", \"lon\": [-74.0038, -73.9794], \"lat\": [40.7419, 40.7614], \"mode\": \"lines\", \"line\": {\"width\": 1, \"color\": \"rgb(117, 174, 255)\"}}, {\"type\": \"scattergeo\", \"locationmode\": \"USA-states\", \"lon\": [-73.9794, -74.0808], \"lat\": [40.7614, 40.7094], \"mode\": \"lines\", \"line\": {\"width\": 1, \"color\": \"rgb(117, 174, 255)\"}}, {\"type\": \"scattergeo\", \"locationmode\": \"USA-states\", \"lon\": [-74.0808, -73.9725], \"lat\": [40.7094, 40.7636], \"mode\": \"lines\", \"line\": {\"width\": 1, \"color\": \"rgb(117, 174, 255)\"}}, {\"type\": \"scattergeo\", \"locationmode\": \"USA-states\", \"lon\": [-73.9725, -74.0082], \"lat\": [40.7636, 40.7405], \"mode\": \"lines\", \"line\": {\"width\": 1, \"color\": \"rgb(117, 174, 255)\"}}, {\"type\": \"scattergeo\", \"locationmode\": \"USA-states\", \"lon\": [-74.0082, -74.0004], \"lat\": [40.7405, 40.7315], \"mode\": \"lines\", \"line\": {\"width\": 1, \"color\": \"rgb(117, 174, 255)\"}}, {\"type\": \"scattergeo\", \"locationmode\": \"USA-states\", \"lon\": [-74.0004, -73.9847], \"lat\": [40.7315, 40.7425], \"mode\": \"lines\", \"line\": {\"width\": 1, \"color\": \"rgb(117, 174, 255)\"}}, {\"type\": \"scattergeo\", \"locationmode\": \"USA-states\", \"lon\": [-73.9847, -74.0013], \"lat\": [40.7425, 40.7441], \"mode\": \"lines\", \"line\": {\"width\": 1, \"color\": \"rgb(117, 174, 255)\"}}, {\"type\": \"scattergeo\", \"locationmode\": \"USA-states\", \"lon\": [-74.0013, -73.9837], \"lat\": [40.7441, 40.7647], \"mode\": \"lines\", \"line\": {\"width\": 1, \"color\": \"rgb(117, 174, 255)\"}}, {\"type\": \"scattergeo\", \"locationmode\": \"USA-states\", \"lon\": [-73.9837, -73.8658], \"lat\": [40.7647, 40.7708], \"mode\": \"lines\", \"line\": {\"width\": 1, \"color\": \"rgb(117, 174, 255)\"}}, {\"type\": \"scattergeo\", \"locationmode\": \"USA-states\", \"lon\": [-73.8658, -73.9839], \"lat\": [40.7708, 40.7231], \"mode\": \"lines\", \"line\": {\"width\": 1, \"color\": \"rgb(117, 174, 255)\"}}, {\"type\": \"scattergeo\", \"locationmode\": \"USA-states\", \"lon\": [-73.9839, -73.9945], \"lat\": [40.7231, 40.7508], \"mode\": \"lines\", \"line\": {\"width\": 1, \"color\": \"rgb(117, 174, 255)\"}}, {\"type\": \"scattergeo\", \"locationmode\": \"USA-states\", \"lon\": [-73.9945, -73.9745], \"lat\": [40.7508, 40.7598], \"mode\": \"lines\", \"line\": {\"width\": 1, \"color\": \"rgb(117, 174, 255)\"}}, {\"type\": \"scattergeo\", \"locationmode\": \"USA-states\", \"lon\": [-73.9745, -73.8719], \"lat\": [40.7598, 40.774], \"mode\": \"lines\", \"line\": {\"width\": 1, \"color\": \"rgb(117, 174, 255)\"}}, {\"type\": \"scattergeo\", \"locationmode\": \"USA-states\", \"lon\": [-73.8719, -73.975], \"lat\": [40.774, 40.6834], \"mode\": \"lines\", \"line\": {\"width\": 1, \"color\": \"rgb(117, 174, 255)\"}}, {\"type\": \"scattergeo\", \"locationmode\": \"USA-states\", \"lon\": [-73.975, -73.9789], \"lat\": [40.6834, 40.7653], \"mode\": \"lines\", \"line\": {\"width\": 1, \"color\": \"rgb(117, 174, 255)\"}}, {\"type\": \"scattergeo\", \"locationmode\": \"USA-states\", \"lon\": [-73.9789, -73.9992], \"lat\": [40.7653, 40.7282], \"mode\": \"lines\", \"line\": {\"width\": 1, \"color\": \"rgb(117, 174, 255)\"}}, {\"type\": \"scattergeo\", \"locationmode\": \"USA-states\", \"lon\": [-73.9992, -73.9996], \"lat\": [40.7282, 40.725], \"mode\": \"lines\", \"line\": {\"width\": 1, \"color\": \"rgb(117, 174, 255)\"}}, {\"type\": \"scattergeo\", \"locationmode\": \"USA-states\", \"lon\": [-73.9996, -73.9878], \"lat\": [40.725, 40.7635], \"mode\": \"lines\", \"line\": {\"width\": 1, \"color\": \"rgb(117, 174, 255)\"}}, {\"type\": \"scattergeo\", \"locationmode\": \"USA-states\", \"lon\": [-73.9878, -73.9766], \"lat\": [40.7635, 40.7643], \"mode\": \"lines\", \"line\": {\"width\": 1, \"color\": \"rgb(117, 174, 255)\"}}, {\"type\": \"scattergeo\", \"locationmode\": \"USA-states\", \"lon\": [-73.9766, -73.9738], \"lat\": [40.7643, 40.7446], \"mode\": \"lines\", \"line\": {\"width\": 1, \"color\": \"rgb(117, 174, 255)\"}}, {\"type\": \"scattergeo\", \"locationmode\": \"USA-states\", \"lon\": [-73.9738, -74.0305], \"lat\": [40.7446, 40.7386], \"mode\": \"lines\", \"line\": {\"width\": 1, \"color\": \"rgb(117, 174, 255)\"}}, {\"type\": \"scattergeo\", \"locationmode\": \"USA-states\", \"lon\": [-74.0305, -74.0305], \"lat\": [40.7386, 40.7386], \"mode\": \"lines\", \"line\": {\"width\": 1, \"color\": \"rgb(117, 174, 255)\"}}, {\"type\": \"scattergeo\", \"locationmode\": \"USA-states\", \"lon\": [-74.0305, -74.0065], \"lat\": [40.7386, 40.7191], \"mode\": \"lines\", \"line\": {\"width\": 1, \"color\": \"rgb(117, 174, 255)\"}}, {\"type\": \"scattergeo\", \"locationmode\": \"USA-states\", \"lon\": [-74.0065, -74.0091], \"lat\": [40.7191, 40.7063], \"mode\": \"lines\", \"line\": {\"width\": 1, \"color\": \"rgb(117, 174, 255)\"}}, {\"type\": \"scattergeo\", \"locationmode\": \"USA-states\", \"lon\": [-74.0091, -74.0057], \"lat\": [40.7063, 40.7373], \"mode\": \"lines\", \"line\": {\"width\": 1, \"color\": \"rgb(117, 174, 255)\"}}, {\"type\": \"scattergeo\", \"locationmode\": \"USA-states\", \"lon\": [-74.0057, -73.9739], \"lat\": [40.7373, 40.6861], \"mode\": \"lines\", \"line\": {\"width\": 1, \"color\": \"rgb(117, 174, 255)\"}}, {\"type\": \"scattergeo\", \"locationmode\": \"USA-states\", \"lon\": [-73.9739, -73.9876], \"lat\": [40.6861, 40.7607], \"mode\": \"lines\", \"line\": {\"width\": 1, \"color\": \"rgb(117, 174, 255)\"}}, {\"type\": \"scattergeo\", \"locationmode\": \"USA-states\", \"lon\": [-73.9876, -73.9851], \"lat\": [40.7607, 40.7424], \"mode\": \"lines\", \"line\": {\"width\": 1, \"color\": \"rgb(117, 174, 255)\"}}, {\"type\": \"scattergeo\", \"locationmode\": \"USA-states\", \"lon\": [-73.9851, -73.9607], \"lat\": [40.7424, 40.7126], \"mode\": \"lines\", \"line\": {\"width\": 1, \"color\": \"rgb(117, 174, 255)\"}}, {\"type\": \"scattergeo\", \"locationmode\": \"USA-states\", \"lon\": [-73.9607, -73.9924], \"lat\": [40.7126, 40.7438], \"mode\": \"lines\", \"line\": {\"width\": 1, \"color\": \"rgb(117, 174, 255)\"}}, {\"type\": \"scattergeo\", \"locationmode\": \"USA-states\", \"lon\": [-73.9924, -73.7901], \"lat\": [40.7438, 40.6464], \"mode\": \"lines\", \"line\": {\"width\": 1, \"color\": \"rgb(117, 174, 255)\"}}, {\"type\": \"scattergeo\", \"locationmode\": \"USA-states\", \"lon\": [-73.7901, -73.9755], \"lat\": [40.6464, 40.6832], \"mode\": \"lines\", \"line\": {\"width\": 1, \"color\": \"rgb(117, 174, 255)\"}}, {\"type\": \"scattergeo\", \"locationmode\": \"USA-states\", \"lon\": [-73.9755, -73.9838], \"lat\": [40.6832, 40.7737], \"mode\": \"lines\", \"line\": {\"width\": 1, \"color\": \"rgb(117, 174, 255)\"}}, {\"type\": \"scattergeo\", \"locationmode\": \"USA-states\", \"lon\": [-73.9838, -73.9859], \"lat\": [40.7737, 40.7408], \"mode\": \"lines\", \"line\": {\"width\": 1, \"color\": \"rgb(117, 174, 255)\"}}, {\"type\": \"scattergeo\", \"locationmode\": \"USA-states\", \"lon\": [-73.9859, -73.9855], \"lat\": [40.7408, 40.7472], \"mode\": \"lines\", \"line\": {\"width\": 1, \"color\": \"rgb(117, 174, 255)\"}}, {\"type\": \"scattergeo\", \"locationmode\": \"USA-states\", \"lon\": [-73.9855, -73.9809], \"lat\": [40.7472, 40.7593], \"mode\": \"lines\", \"line\": {\"width\": 1, \"color\": \"rgb(117, 174, 255)\"}}, {\"type\": \"scattergeo\", \"locationmode\": \"USA-states\", \"lon\": [-73.9809, -74.0048], \"lat\": [40.7593, 40.7301], \"mode\": \"lines\", \"line\": {\"width\": 1, \"color\": \"rgb(117, 174, 255)\"}}, {\"type\": \"scattergeo\", \"locationmode\": \"USA-states\", \"lon\": [-74.0048, -74.1574], \"lat\": [40.7301, 40.8453], \"mode\": \"lines\", \"line\": {\"width\": 1, \"color\": \"rgb(117, 174, 255)\"}}, {\"type\": \"scattergeo\", \"locationmode\": \"USA-states\", \"lon\": [-74.1574, -73.9848], \"lat\": [40.8453, 40.7438], \"mode\": \"lines\", \"line\": {\"width\": 1, \"color\": \"rgb(117, 174, 255)\"}}, {\"type\": \"scattergeo\", \"locationmode\": \"USA-states\", \"lon\": [-73.9848, -73.9744], \"lat\": [40.7438, 40.7586], \"mode\": \"lines\", \"line\": {\"width\": 1, \"color\": \"rgb(117, 174, 255)\"}}, {\"type\": \"scattergeo\", \"locationmode\": \"USA-states\", \"lon\": [-73.9744, -74.0037], \"lat\": [40.7586, 40.7265], \"mode\": \"lines\", \"line\": {\"width\": 1, \"color\": \"rgb(117, 174, 255)\"}}, {\"type\": \"scattergeo\", \"locationmode\": \"USA-states\", \"lon\": [-74.0037, -74.0269], \"lat\": [40.7265, 40.7397], \"mode\": \"lines\", \"line\": {\"width\": 1, \"color\": \"rgb(117, 174, 255)\"}}, {\"type\": \"scattergeo\", \"locationmode\": \"USA-states\", \"lon\": [-74.0269, -74.0269], \"lat\": [40.7397, 40.7397], \"mode\": \"lines\", \"line\": {\"width\": 1, \"color\": \"rgb(117, 174, 255)\"}}, {\"type\": \"scattergeo\", \"locationmode\": \"USA-states\", \"lon\": [-74.0269, -73.9886], \"lat\": [40.7397, 40.7313], \"mode\": \"lines\", \"line\": {\"width\": 1, \"color\": \"rgb(117, 174, 255)\"}}, {\"type\": \"scattergeo\", \"locationmode\": \"USA-states\", \"lon\": [-73.9886, -74.0079], \"lat\": [40.7313, 40.7151], \"mode\": \"lines\", \"line\": {\"width\": 1, \"color\": \"rgb(117, 174, 255)\"}}, {\"type\": \"scattergeo\", \"locationmode\": \"USA-states\", \"lon\": [-74.0079, -74.0065], \"lat\": [40.7151, 40.7321], \"mode\": \"lines\", \"line\": {\"width\": 1, \"color\": \"rgb(117, 174, 255)\"}}, {\"type\": \"scattergeo\", \"locationmode\": \"USA-states\", \"lon\": [-74.0065, -74.0079], \"lat\": [40.7321, 40.7404], \"mode\": \"lines\", \"line\": {\"width\": 1, \"color\": \"rgb(117, 174, 255)\"}}, {\"type\": \"scattergeo\", \"locationmode\": \"USA-states\", \"lon\": [-74.0079, -73.9899], \"lat\": [40.7404, 40.7619], \"mode\": \"lines\", \"line\": {\"width\": 1, \"color\": \"rgb(117, 174, 255)\"}}, {\"type\": \"scattergeo\", \"locationmode\": \"USA-states\", \"lon\": [-73.9899, -73.9577], \"lat\": [40.7619, 40.699], \"mode\": \"lines\", \"line\": {\"width\": 1, \"color\": \"rgb(117, 174, 255)\"}}, {\"type\": \"scattergeo\", \"locationmode\": \"USA-states\", \"lon\": [-73.9577, -73.9867], \"lat\": [40.699, 40.7368], \"mode\": \"lines\", \"line\": {\"width\": 1, \"color\": \"rgb(117, 174, 255)\"}}, {\"type\": \"scattergeo\", \"locationmode\": \"USA-states\", \"lon\": [-73.9867, -73.9906], \"lat\": [40.7368, 40.746], \"mode\": \"lines\", \"line\": {\"width\": 1, \"color\": \"rgb(117, 174, 255)\"}}, {\"type\": \"scattergeo\", \"locationmode\": \"USA-states\", \"lon\": [-73.9906, -74.0088], \"lat\": [40.746, 40.7058], \"mode\": \"lines\", \"line\": {\"width\": 1, \"color\": \"rgb(117, 174, 255)\"}}, {\"type\": \"scattergeo\", \"locationmode\": \"USA-states\", \"lon\": [-74.0088, -73.9724], \"lat\": [40.7058, 40.759], \"mode\": \"lines\", \"line\": {\"width\": 1, \"color\": \"rgb(117, 174, 255)\"}}, {\"type\": \"scattergeo\", \"locationmode\": \"USA-states\", \"lon\": [-73.9724, -73.9855], \"lat\": [40.759, 40.7386], \"mode\": \"lines\", \"line\": {\"width\": 1, \"color\": \"rgb(117, 174, 255)\"}}, {\"type\": \"scattergeo\", \"locationmode\": \"USA-states\", \"lon\": [-73.9855, -73.9713], \"lat\": [40.7386, 40.7627], \"mode\": \"lines\", \"line\": {\"width\": 1, \"color\": \"rgb(117, 174, 255)\"}}, {\"type\": \"scattergeo\", \"locationmode\": \"USA-states\", \"lon\": [-73.9713, -74.0075], \"lat\": [40.7627, 40.7432], \"mode\": \"lines\", \"line\": {\"width\": 1, \"color\": \"rgb(117, 174, 255)\"}}, {\"type\": \"scattergeo\", \"locationmode\": \"USA-states\", \"lon\": [-74.0075, -73.9881], \"lat\": [40.7432, 40.7256], \"mode\": \"lines\", \"line\": {\"width\": 1, \"color\": \"rgb(117, 174, 255)\"}}, {\"type\": \"scattergeo\", \"locationmode\": \"USA-states\", \"lon\": [-73.9881, -73.9464], \"lat\": [40.7256, 40.7079], \"mode\": \"lines\", \"line\": {\"width\": 1, \"color\": \"rgb(117, 174, 255)\"}}, {\"type\": \"scattergeo\", \"locationmode\": \"USA-states\", \"lon\": [-73.9464, -73.9369], \"lat\": [40.7079, 40.8548], \"mode\": \"lines\", \"line\": {\"width\": 1, \"color\": \"rgb(117, 174, 255)\"}}, {\"type\": \"scattergeo\", \"locationmode\": \"USA-states\", \"lon\": [-73.9369, -74.0057], \"lat\": [40.8548, 40.7406], \"mode\": \"lines\", \"line\": {\"width\": 1, \"color\": \"rgb(117, 174, 255)\"}}, {\"type\": \"scattergeo\", \"locationmode\": \"USA-states\", \"lon\": [-74.0057, -73.9855], \"lat\": [40.7406, 40.7384], \"mode\": \"lines\", \"line\": {\"width\": 1, \"color\": \"rgb(117, 174, 255)\"}}, {\"type\": \"scattergeo\", \"locationmode\": \"USA-states\", \"lon\": [-73.9855, -73.9792], \"lat\": [40.7384, 40.7401], \"mode\": \"lines\", \"line\": {\"width\": 1, \"color\": \"rgb(117, 174, 255)\"}}, {\"type\": \"scattergeo\", \"locationmode\": \"USA-states\", \"lon\": [-73.9792, -74.0038], \"lat\": [40.7401, 40.7416], \"mode\": \"lines\", \"line\": {\"width\": 1, \"color\": \"rgb(117, 174, 255)\"}}, {\"type\": \"scattergeo\", \"locationmode\": \"USA-states\", \"lon\": [-74.0038, -73.9764], \"lat\": [40.7416, 40.7635], \"mode\": \"lines\", \"line\": {\"width\": 1, \"color\": \"rgb(117, 174, 255)\"}}, {\"type\": \"scattergeo\", \"locationmode\": \"USA-states\", \"lon\": [-73.9764, -73.9832], \"lat\": [40.7635, 40.7627], \"mode\": \"lines\", \"line\": {\"width\": 1, \"color\": \"rgb(117, 174, 255)\"}}, {\"type\": \"scattergeo\", \"locationmode\": \"USA-states\", \"lon\": [-73.9832, -73.9818], \"lat\": [40.7627, 40.7702], \"mode\": \"lines\", \"line\": {\"width\": 1, \"color\": \"rgb(117, 174, 255)\"}}, {\"type\": \"scattergeo\", \"locationmode\": \"USA-states\", \"lon\": [-73.9818, -73.97399999999999], \"lat\": [40.7702, 40.7644], \"mode\": \"lines\", \"line\": {\"width\": 1, \"color\": \"rgb(117, 174, 255)\"}}, {\"type\": \"scattergeo\", \"locationmode\": \"USA-states\", \"lon\": [-73.97399999999999, -74.0], \"lat\": [40.7644, 40.7144], \"mode\": \"lines\", \"line\": {\"width\": 1, \"color\": \"rgb(117, 174, 255)\"}}, {\"type\": \"scattergeo\", \"locationmode\": \"USA-states\", \"lon\": [-74.0, -73.9554], \"lat\": [40.7144, 40.7228], \"mode\": \"lines\", \"line\": {\"width\": 1, \"color\": \"rgb(117, 174, 255)\"}}, {\"type\": \"scattergeo\", \"locationmode\": \"USA-states\", \"lon\": [-73.9554, -73.9873], \"lat\": [40.7228, 40.6922], \"mode\": \"lines\", \"line\": {\"width\": 1, \"color\": \"rgb(117, 174, 255)\"}}, {\"type\": \"scattergeo\", \"locationmode\": \"USA-states\", \"lon\": [-73.9873, -74.0095], \"lat\": [40.6922, 40.7466], \"mode\": \"lines\", \"line\": {\"width\": 1, \"color\": \"rgb(117, 174, 255)\"}}, {\"type\": \"scattergeo\", \"locationmode\": \"USA-states\", \"lon\": [-74.0095, -73.9975], \"lat\": [40.7466, 40.7218], \"mode\": \"lines\", \"line\": {\"width\": 1, \"color\": \"rgb(117, 174, 255)\"}}, {\"type\": \"scattergeo\", \"locationmode\": \"USA-states\", \"lon\": [-73.9975, -73.9205], \"lat\": [40.7218, 40.7051], \"mode\": \"lines\", \"line\": {\"width\": 1, \"color\": \"rgb(117, 174, 255)\"}}, {\"type\": \"scattergeo\", \"locationmode\": \"USA-states\", \"lon\": [-73.9205, -74.0042], \"lat\": [40.7051, 40.7426], \"mode\": \"lines\", \"line\": {\"width\": 1, \"color\": \"rgb(117, 174, 255)\"}}, {\"type\": \"scattergeo\", \"locationmode\": \"USA-states\", \"lon\": [-74.0042, -73.9702], \"lat\": [40.7426, 40.7554], \"mode\": \"lines\", \"line\": {\"width\": 1, \"color\": \"rgb(117, 174, 255)\"}}, {\"type\": \"scattergeo\", \"locationmode\": \"USA-states\", \"lon\": [-73.9702, -74.0097], \"lat\": [40.7554, 40.7173], \"mode\": \"lines\", \"line\": {\"width\": 1, \"color\": \"rgb(117, 174, 255)\"}}, {\"type\": \"scattergeo\", \"locationmode\": \"USA-states\", \"lon\": [-74.0097, -73.9725], \"lat\": [40.7173, 40.7649], \"mode\": \"lines\", \"line\": {\"width\": 1, \"color\": \"rgb(117, 174, 255)\"}}], {\"title\": \"Uber Trips\", \"showlegend\": false, \"geo\": {\"scope\": \"north america\", \"projection\": {\"type\": \"azimuthal equal area\"}, \"showland\": true, \"landcolor\": \"rgb(243, 243, 243)\", \"countrycolor\": \"rgb(204, 204, 204)\"}}, {\"showLink\": true, \"linkText\": \"Export to plot.ly\"})});</script>"
      ]
     },
     "metadata": {},
     "output_type": "display_data"
    }
   ],
   "source": [
    "trip_paths = []\n",
    "for i in range(1000):\n",
    "    trip_paths.append(\n",
    "        dict(\n",
    "            type = 'scattergeo',\n",
    "            locationmode = 'USA-states',\n",
    "            lon = [april_df['Lon'][i], april_df['Lon'][i+1]],\n",
    "            lat = [ april_df['Lat'][i], april_df['Lat'][i+1]],\n",
    "            mode = 'lines',\n",
    "            line = dict(\n",
    "                width = 1,\n",
    "                color = 'rgb(117, 174, 255)'\n",
    "            )\n",
    "        )\n",
    "    )\n",
    "    \n",
    "layout = dict(title = 'Uber Trips',\n",
    "              showlegend = False, \n",
    "              geo = dict(\n",
    "                  scope='north america',\n",
    "                  projection=dict( type='azimuthal equal area' ),\n",
    "                  showland = True,\n",
    "                  landcolor = 'rgb(243, 243, 243)',\n",
    "                  countrycolor = 'rgb(204, 204, 204)'))\n",
    "    \n",
    "fig = dict(data= trip_paths, layout=layout)\n",
    "iplot(fig, filename='april_trips' )\n"
   ]
  },
  {
   "cell_type": "code",
   "execution_count": null,
   "metadata": {
    "collapsed": true
   },
   "outputs": [],
   "source": []
  }
 ],
 "metadata": {
  "kernelspec": {
   "display_name": "Python 3",
   "language": "python",
   "name": "python3"
  },
  "language_info": {
   "codemirror_mode": {
    "name": "ipython",
    "version": 3
   },
   "file_extension": ".py",
   "mimetype": "text/x-python",
   "name": "python",
   "nbconvert_exporter": "python",
   "pygments_lexer": "ipython3",
   "version": "3.6.1"
  }
 },
 "nbformat": 4,
 "nbformat_minor": 2
}
