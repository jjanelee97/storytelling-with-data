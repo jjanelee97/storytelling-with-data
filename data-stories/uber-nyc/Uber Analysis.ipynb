{
 "cells": [
  {
   "cell_type": "code",
   "execution_count": 16,
   "metadata": {},
   "outputs": [
    {
     "data": {
      "text/html": [
       "<script>requirejs.config({paths: { 'plotly': ['https://cdn.plot.ly/plotly-latest.min']},});if(!window.Plotly) {{require(['plotly'],function(plotly) {window.Plotly=plotly;});}}</script>"
      ],
      "text/vnd.plotly.v1+html": [
       "<script>requirejs.config({paths: { 'plotly': ['https://cdn.plot.ly/plotly-latest.min']},});if(!window.Plotly) {{require(['plotly'],function(plotly) {window.Plotly=plotly;});}}</script>"
      ]
     },
     "metadata": {},
     "output_type": "display_data"
    }
   ],
   "source": [
    "import pandas as pd\n",
    "from plotly.offline import download_plotlyjs, init_notebook_mode, plot, iplot\n",
    "import numpy as np\n",
    "import matplotlib.pyplot as plt\n",
    "import hypertools as hyp\n",
    "import seaborn as sns\n",
    "%matplotlib inline\n",
    "\n",
    "init_notebook_mode(connected=True)"
   ]
  },
  {
   "cell_type": "code",
   "execution_count": 5,
   "metadata": {
    "collapsed": true
   },
   "outputs": [],
   "source": [
    "#load in the data\n",
    "\n",
    "fname1 = 'Uber-Jan-Feb-FOIL.csv'\n",
    "columns1 = ('dispatching_base_number', 'date', 'active_vehicles', 'trips')\n",
    "FOIL_df = pd.read_csv(fname1, skiprows=[0], names=columns1)\n"
   ]
  },
  {
   "cell_type": "code",
   "execution_count": 6,
   "metadata": {
    "collapsed": true
   },
   "outputs": [],
   "source": [
    "fname2 = 'Aggregate FHV Data.xlsx'\n",
    "\n",
    "\n",
    "sheet1 = 'Trips Per Day'\n",
    "sheet2 = 'Trips Per Hour and Weekday'\n",
    "sheet3 = 'Change in Trips Sep 2013-2014'\n",
    "sheet4 = 'Change in Daily Trips by Hour'\n",
    "\n",
    "FHV_col1 = ('Date', 'American', 'Carmel', 'Dial 7', 'Diplo', 'Firstclass', 'Highclass', \n",
    "            'Prestige', 'Skyline', 'Lyft', 'Uber', 'Yellow Taxis', 'Green Taxis')\n",
    "FHV_col3 = ('Location', 'Uber and Lyft Trips Per Day 2014', \n",
    "            'Yellow Taxi Trips Per Day 2014', 'Yellow Taxi Trips Per Day 2013')\n",
    "FHV_col4 = ('Hour', 'Uber and Lyft Trips in MN Core (Sep 2014)', \n",
    "           'Change in Daily Yellow Trips in MN Core (Sep 2014 compared with Sep 2013')\n",
    "\n",
    "## data key: MN, JFK, LGA\n",
    "FHV_df1 = pd.read_excel(fname2, sheetname = sheet1, skiprows=[0], names = FHV_col1)\n",
    "FHV_df3 = pd.read_excel(fname2, sheetname = sheet3, skiprows=[0], names = FHV_col3)\n",
    "FHV_df4 = pd.read_excel(fname2, sheetname = sheet4, skiprows=[0], names = FHV_col4)"
   ]
  },
  {
   "cell_type": "code",
   "execution_count": 7,
   "metadata": {
    "collapsed": true
   },
   "outputs": [],
   "source": [
    "FHV_df1.set_index('Date', inplace=True)"
   ]
  },
  {
   "cell_type": "code",
   "execution_count": 8,
   "metadata": {},
   "outputs": [
    {
     "data": {
      "text/html": [
       "<div>\n",
       "<style>\n",
       "    .dataframe thead tr:only-child th {\n",
       "        text-align: right;\n",
       "    }\n",
       "\n",
       "    .dataframe thead th {\n",
       "        text-align: left;\n",
       "    }\n",
       "\n",
       "    .dataframe tbody tr th {\n",
       "        vertical-align: top;\n",
       "    }\n",
       "</style>\n",
       "<table border=\"1\" class=\"dataframe\">\n",
       "  <thead>\n",
       "    <tr style=\"text-align: right;\">\n",
       "      <th></th>\n",
       "      <th>American</th>\n",
       "      <th>Carmel</th>\n",
       "      <th>Dial 7</th>\n",
       "      <th>Diplo</th>\n",
       "      <th>Firstclass</th>\n",
       "      <th>Highclass</th>\n",
       "      <th>Prestige</th>\n",
       "      <th>Skyline</th>\n",
       "      <th>Lyft</th>\n",
       "      <th>Uber</th>\n",
       "      <th>Yellow Taxis</th>\n",
       "      <th>Green Taxis</th>\n",
       "    </tr>\n",
       "    <tr>\n",
       "      <th>Date</th>\n",
       "      <th></th>\n",
       "      <th></th>\n",
       "      <th></th>\n",
       "      <th></th>\n",
       "      <th></th>\n",
       "      <th></th>\n",
       "      <th></th>\n",
       "      <th></th>\n",
       "      <th></th>\n",
       "      <th></th>\n",
       "      <th></th>\n",
       "      <th></th>\n",
       "    </tr>\n",
       "  </thead>\n",
       "  <tbody>\n",
       "    <tr>\n",
       "      <th>2014-07-02</th>\n",
       "      <td>1028</td>\n",
       "      <td>2965</td>\n",
       "      <td>2409</td>\n",
       "      <td>1275</td>\n",
       "      <td>2228</td>\n",
       "      <td>1661</td>\n",
       "      <td>3533</td>\n",
       "      <td>1691</td>\n",
       "      <td>0</td>\n",
       "      <td>26480</td>\n",
       "      <td>434416</td>\n",
       "      <td>42472</td>\n",
       "    </tr>\n",
       "    <tr>\n",
       "      <th>2014-07-03</th>\n",
       "      <td>1068</td>\n",
       "      <td>3361</td>\n",
       "      <td>2520</td>\n",
       "      <td>1200</td>\n",
       "      <td>2121</td>\n",
       "      <td>1599</td>\n",
       "      <td>3649</td>\n",
       "      <td>1157</td>\n",
       "      <td>0</td>\n",
       "      <td>21597</td>\n",
       "      <td>412980</td>\n",
       "      <td>46046</td>\n",
       "    </tr>\n",
       "    <tr>\n",
       "      <th>2014-07-04</th>\n",
       "      <td>1008</td>\n",
       "      <td>2174</td>\n",
       "      <td>1955</td>\n",
       "      <td>1171</td>\n",
       "      <td>1459</td>\n",
       "      <td>1622</td>\n",
       "      <td>3401</td>\n",
       "      <td>337</td>\n",
       "      <td>0</td>\n",
       "      <td>14148</td>\n",
       "      <td>306773</td>\n",
       "      <td>41535</td>\n",
       "    </tr>\n",
       "    <tr>\n",
       "      <th>2014-07-05</th>\n",
       "      <td>1214</td>\n",
       "      <td>1846</td>\n",
       "      <td>1371</td>\n",
       "      <td>1371</td>\n",
       "      <td>1703</td>\n",
       "      <td>1898</td>\n",
       "      <td>4081</td>\n",
       "      <td>276</td>\n",
       "      <td>0</td>\n",
       "      <td>10890</td>\n",
       "      <td>305653</td>\n",
       "      <td>46873</td>\n",
       "    </tr>\n",
       "    <tr>\n",
       "      <th>2014-07-06</th>\n",
       "      <td>1048</td>\n",
       "      <td>2480</td>\n",
       "      <td>1872</td>\n",
       "      <td>1251</td>\n",
       "      <td>1501</td>\n",
       "      <td>1738</td>\n",
       "      <td>3545</td>\n",
       "      <td>401</td>\n",
       "      <td>0</td>\n",
       "      <td>11443</td>\n",
       "      <td>310376</td>\n",
       "      <td>40354</td>\n",
       "    </tr>\n",
       "  </tbody>\n",
       "</table>\n",
       "</div>"
      ],
      "text/plain": [
       "            American  Carmel  Dial 7  Diplo  Firstclass  Highclass  Prestige  \\\n",
       "Date                                                                           \n",
       "2014-07-02      1028    2965    2409   1275        2228       1661      3533   \n",
       "2014-07-03      1068    3361    2520   1200        2121       1599      3649   \n",
       "2014-07-04      1008    2174    1955   1171        1459       1622      3401   \n",
       "2014-07-05      1214    1846    1371   1371        1703       1898      4081   \n",
       "2014-07-06      1048    2480    1872   1251        1501       1738      3545   \n",
       "\n",
       "            Skyline  Lyft   Uber  Yellow Taxis  Green Taxis  \n",
       "Date                                                         \n",
       "2014-07-02     1691     0  26480        434416        42472  \n",
       "2014-07-03     1157     0  21597        412980        46046  \n",
       "2014-07-04      337     0  14148        306773        41535  \n",
       "2014-07-05      276     0  10890        305653        46873  \n",
       "2014-07-06      401     0  11443        310376        40354  "
      ]
     },
     "execution_count": 8,
     "metadata": {},
     "output_type": "execute_result"
    }
   ],
   "source": [
    "FHV_df1.head()"
   ]
  },
  {
   "cell_type": "code",
   "execution_count": 9,
   "metadata": {},
   "outputs": [
    {
     "data": {
      "image/png": "[encoded data removed]",
      "text/plain": [
       "<matplotlib.figure.Figure at 0x7fae91b91e80>"
      ]
     },
     "metadata": {},
     "output_type": "display_data"
    },
    {
     "data": {
      "text/plain": [
       "(<matplotlib.figure.Figure at 0x7fae91b91e80>,\n",
       " <matplotlib.axes._subplots.Axes3DSubplot at 0x7fae81ef05f8>,\n",
       " [array([[  1028,   2965,   2409, ...,  26480, 434416,  42472],\n",
       "         [  1068,   3361,   2520, ...,  21597, 412980,  46046],\n",
       "         [  1008,   2174,   1955, ...,  14148, 306773,  41535],\n",
       "         ..., \n",
       "         [  1080,   2559,   1949, ...,  29656, 429068,  51832],\n",
       "         [   772,   3225,   2349, ...,  29201, 396191,  37657],\n",
       "         [   848,   2824,   2004, ...,  33431, 431354,  38665]])],\n",
       " None)"
      ]
     },
     "execution_count": 9,
     "metadata": {},
     "output_type": "execute_result"
    }
   ],
   "source": [
    "hyp.plot(FHV_df1, model='SpectralEmbedding')"
   ]
  },
  {
   "cell_type": "code",
   "execution_count": 10,
   "metadata": {
    "collapsed": true
   },
   "outputs": [],
   "source": [
    "fname3 = 'uber-trip-data/uber-raw-data-apr14.csv'\n",
    "columns3 = ('Time', 'Lat', 'Lon', 'Base')\n",
    "april_df = pd.read_csv(fname3, skiprows=[0], names=columns3)"
   ]
  },
  {
   "cell_type": "code",
   "execution_count": 11,
   "metadata": {},
   "outputs": [
    {
     "data": {
      "text/html": [
       "<div>\n",
       "<style>\n",
       "    .dataframe thead tr:only-child th {\n",
       "        text-align: right;\n",
       "    }\n",
       "\n",
       "    .dataframe thead th {\n",
       "        text-align: left;\n",
       "    }\n",
       "\n",
       "    .dataframe tbody tr th {\n",
       "        vertical-align: top;\n",
       "    }\n",
       "</style>\n",
       "<table border=\"1\" class=\"dataframe\">\n",
       "  <thead>\n",
       "    <tr style=\"text-align: right;\">\n",
       "      <th></th>\n",
       "      <th>Time</th>\n",
       "      <th>Lat</th>\n",
       "      <th>Lon</th>\n",
       "      <th>Base</th>\n",
       "    </tr>\n",
       "  </thead>\n",
       "  <tbody>\n",
       "    <tr>\n",
       "      <th>0</th>\n",
       "      <td>4/1/14 0:11</td>\n",
       "      <td>40.7690</td>\n",
       "      <td>-73.9549</td>\n",
       "      <td>B02512</td>\n",
       "    </tr>\n",
       "    <tr>\n",
       "      <th>1</th>\n",
       "      <td>4/1/14 0:17</td>\n",
       "      <td>40.7267</td>\n",
       "      <td>-74.0345</td>\n",
       "      <td>B02512</td>\n",
       "    </tr>\n",
       "    <tr>\n",
       "      <th>2</th>\n",
       "      <td>4/1/14 0:21</td>\n",
       "      <td>40.7316</td>\n",
       "      <td>-73.9873</td>\n",
       "      <td>B02512</td>\n",
       "    </tr>\n",
       "    <tr>\n",
       "      <th>3</th>\n",
       "      <td>4/1/14 0:28</td>\n",
       "      <td>40.7588</td>\n",
       "      <td>-73.9776</td>\n",
       "      <td>B02512</td>\n",
       "    </tr>\n",
       "    <tr>\n",
       "      <th>4</th>\n",
       "      <td>4/1/14 0:33</td>\n",
       "      <td>40.7594</td>\n",
       "      <td>-73.9722</td>\n",
       "      <td>B02512</td>\n",
       "    </tr>\n",
       "    <tr>\n",
       "      <th>5</th>\n",
       "      <td>4/1/14 0:33</td>\n",
       "      <td>40.7383</td>\n",
       "      <td>-74.0403</td>\n",
       "      <td>B02512</td>\n",
       "    </tr>\n",
       "    <tr>\n",
       "      <th>6</th>\n",
       "      <td>4/1/14 0:39</td>\n",
       "      <td>40.7223</td>\n",
       "      <td>-73.9887</td>\n",
       "      <td>B02512</td>\n",
       "    </tr>\n",
       "    <tr>\n",
       "      <th>7</th>\n",
       "      <td>4/1/14 0:45</td>\n",
       "      <td>40.7620</td>\n",
       "      <td>-73.9790</td>\n",
       "      <td>B02512</td>\n",
       "    </tr>\n",
       "    <tr>\n",
       "      <th>8</th>\n",
       "      <td>4/1/14 0:55</td>\n",
       "      <td>40.7524</td>\n",
       "      <td>-73.9960</td>\n",
       "      <td>B02512</td>\n",
       "    </tr>\n",
       "    <tr>\n",
       "      <th>9</th>\n",
       "      <td>4/1/14 1:01</td>\n",
       "      <td>40.7575</td>\n",
       "      <td>-73.9846</td>\n",
       "      <td>B02512</td>\n",
       "    </tr>\n",
       "    <tr>\n",
       "      <th>10</th>\n",
       "      <td>4/1/14 1:19</td>\n",
       "      <td>40.7256</td>\n",
       "      <td>-73.9869</td>\n",
       "      <td>B02512</td>\n",
       "    </tr>\n",
       "    <tr>\n",
       "      <th>11</th>\n",
       "      <td>4/1/14 1:48</td>\n",
       "      <td>40.7591</td>\n",
       "      <td>-73.9684</td>\n",
       "      <td>B02512</td>\n",
       "    </tr>\n",
       "    <tr>\n",
       "      <th>12</th>\n",
       "      <td>4/1/14 1:49</td>\n",
       "      <td>40.7271</td>\n",
       "      <td>-73.9803</td>\n",
       "      <td>B02512</td>\n",
       "    </tr>\n",
       "    <tr>\n",
       "      <th>13</th>\n",
       "      <td>4/1/14 2:11</td>\n",
       "      <td>40.6463</td>\n",
       "      <td>-73.7896</td>\n",
       "      <td>B02512</td>\n",
       "    </tr>\n",
       "    <tr>\n",
       "      <th>14</th>\n",
       "      <td>4/1/14 2:25</td>\n",
       "      <td>40.7564</td>\n",
       "      <td>-73.9167</td>\n",
       "      <td>B02512</td>\n",
       "    </tr>\n",
       "    <tr>\n",
       "      <th>15</th>\n",
       "      <td>4/1/14 2:31</td>\n",
       "      <td>40.7666</td>\n",
       "      <td>-73.9531</td>\n",
       "      <td>B02512</td>\n",
       "    </tr>\n",
       "    <tr>\n",
       "      <th>16</th>\n",
       "      <td>4/1/14 2:43</td>\n",
       "      <td>40.7580</td>\n",
       "      <td>-73.9761</td>\n",
       "      <td>B02512</td>\n",
       "    </tr>\n",
       "    <tr>\n",
       "      <th>17</th>\n",
       "      <td>4/1/14 3:22</td>\n",
       "      <td>40.7238</td>\n",
       "      <td>-73.9821</td>\n",
       "      <td>B02512</td>\n",
       "    </tr>\n",
       "    <tr>\n",
       "      <th>18</th>\n",
       "      <td>4/1/14 3:35</td>\n",
       "      <td>40.7531</td>\n",
       "      <td>-74.0039</td>\n",
       "      <td>B02512</td>\n",
       "    </tr>\n",
       "    <tr>\n",
       "      <th>19</th>\n",
       "      <td>4/1/14 3:35</td>\n",
       "      <td>40.7389</td>\n",
       "      <td>-74.0393</td>\n",
       "      <td>B02512</td>\n",
       "    </tr>\n",
       "    <tr>\n",
       "      <th>20</th>\n",
       "      <td>4/1/14 3:41</td>\n",
       "      <td>40.7619</td>\n",
       "      <td>-73.9715</td>\n",
       "      <td>B02512</td>\n",
       "    </tr>\n",
       "    <tr>\n",
       "      <th>21</th>\n",
       "      <td>4/1/14 4:11</td>\n",
       "      <td>40.7530</td>\n",
       "      <td>-74.0042</td>\n",
       "      <td>B02512</td>\n",
       "    </tr>\n",
       "    <tr>\n",
       "      <th>22</th>\n",
       "      <td>4/1/14 4:15</td>\n",
       "      <td>40.6561</td>\n",
       "      <td>-73.9531</td>\n",
       "      <td>B02512</td>\n",
       "    </tr>\n",
       "    <tr>\n",
       "      <th>23</th>\n",
       "      <td>4/1/14 4:19</td>\n",
       "      <td>40.7250</td>\n",
       "      <td>-73.9844</td>\n",
       "      <td>B02512</td>\n",
       "    </tr>\n",
       "    <tr>\n",
       "      <th>24</th>\n",
       "      <td>4/1/14 4:20</td>\n",
       "      <td>40.6950</td>\n",
       "      <td>-74.1783</td>\n",
       "      <td>B02512</td>\n",
       "    </tr>\n",
       "    <tr>\n",
       "      <th>25</th>\n",
       "      <td>4/1/14 4:26</td>\n",
       "      <td>40.9859</td>\n",
       "      <td>-74.1578</td>\n",
       "      <td>B02512</td>\n",
       "    </tr>\n",
       "    <tr>\n",
       "      <th>26</th>\n",
       "      <td>4/1/14 4:27</td>\n",
       "      <td>40.6879</td>\n",
       "      <td>-74.1814</td>\n",
       "      <td>B02512</td>\n",
       "    </tr>\n",
       "    <tr>\n",
       "      <th>27</th>\n",
       "      <td>4/1/14 4:38</td>\n",
       "      <td>40.6878</td>\n",
       "      <td>-74.1816</td>\n",
       "      <td>B02512</td>\n",
       "    </tr>\n",
       "    <tr>\n",
       "      <th>28</th>\n",
       "      <td>4/1/14 4:47</td>\n",
       "      <td>40.7234</td>\n",
       "      <td>-73.9974</td>\n",
       "      <td>B02512</td>\n",
       "    </tr>\n",
       "    <tr>\n",
       "      <th>29</th>\n",
       "      <td>4/1/14 4:49</td>\n",
       "      <td>40.7336</td>\n",
       "      <td>-73.9900</td>\n",
       "      <td>B02512</td>\n",
       "    </tr>\n",
       "    <tr>\n",
       "      <th>...</th>\n",
       "      <td>...</td>\n",
       "      <td>...</td>\n",
       "      <td>...</td>\n",
       "      <td>...</td>\n",
       "    </tr>\n",
       "    <tr>\n",
       "      <th>564486</th>\n",
       "      <td>4/30/14 22:25</td>\n",
       "      <td>40.7342</td>\n",
       "      <td>-74.0101</td>\n",
       "      <td>B02764</td>\n",
       "    </tr>\n",
       "    <tr>\n",
       "      <th>564487</th>\n",
       "      <td>4/30/14 22:25</td>\n",
       "      <td>40.7412</td>\n",
       "      <td>-73.9792</td>\n",
       "      <td>B02764</td>\n",
       "    </tr>\n",
       "    <tr>\n",
       "      <th>564488</th>\n",
       "      <td>4/30/14 22:25</td>\n",
       "      <td>40.7633</td>\n",
       "      <td>-73.9867</td>\n",
       "      <td>B02764</td>\n",
       "    </tr>\n",
       "    <tr>\n",
       "      <th>564489</th>\n",
       "      <td>4/30/14 22:26</td>\n",
       "      <td>40.7549</td>\n",
       "      <td>-73.9845</td>\n",
       "      <td>B02764</td>\n",
       "    </tr>\n",
       "    <tr>\n",
       "      <th>564490</th>\n",
       "      <td>4/30/14 22:27</td>\n",
       "      <td>40.7210</td>\n",
       "      <td>-73.9850</td>\n",
       "      <td>B02764</td>\n",
       "    </tr>\n",
       "    <tr>\n",
       "      <th>564491</th>\n",
       "      <td>4/30/14 22:27</td>\n",
       "      <td>40.7025</td>\n",
       "      <td>-74.0127</td>\n",
       "      <td>B02764</td>\n",
       "    </tr>\n",
       "    <tr>\n",
       "      <th>564492</th>\n",
       "      <td>4/30/14 22:28</td>\n",
       "      <td>40.7568</td>\n",
       "      <td>-73.9848</td>\n",
       "      <td>B02764</td>\n",
       "    </tr>\n",
       "    <tr>\n",
       "      <th>564493</th>\n",
       "      <td>4/30/14 22:29</td>\n",
       "      <td>40.7446</td>\n",
       "      <td>-73.9837</td>\n",
       "      <td>B02764</td>\n",
       "    </tr>\n",
       "    <tr>\n",
       "      <th>564494</th>\n",
       "      <td>4/30/14 22:32</td>\n",
       "      <td>40.7013</td>\n",
       "      <td>-73.9367</td>\n",
       "      <td>B02764</td>\n",
       "    </tr>\n",
       "    <tr>\n",
       "      <th>564495</th>\n",
       "      <td>4/30/14 22:35</td>\n",
       "      <td>40.7213</td>\n",
       "      <td>-73.9948</td>\n",
       "      <td>B02764</td>\n",
       "    </tr>\n",
       "    <tr>\n",
       "      <th>564496</th>\n",
       "      <td>4/30/14 22:36</td>\n",
       "      <td>40.7587</td>\n",
       "      <td>-73.9723</td>\n",
       "      <td>B02764</td>\n",
       "    </tr>\n",
       "    <tr>\n",
       "      <th>564497</th>\n",
       "      <td>4/30/14 22:42</td>\n",
       "      <td>40.7325</td>\n",
       "      <td>-73.9969</td>\n",
       "      <td>B02764</td>\n",
       "    </tr>\n",
       "    <tr>\n",
       "      <th>564498</th>\n",
       "      <td>4/30/14 22:46</td>\n",
       "      <td>40.8152</td>\n",
       "      <td>-73.9433</td>\n",
       "      <td>B02764</td>\n",
       "    </tr>\n",
       "    <tr>\n",
       "      <th>564499</th>\n",
       "      <td>4/30/14 22:47</td>\n",
       "      <td>40.7643</td>\n",
       "      <td>-73.9868</td>\n",
       "      <td>B02764</td>\n",
       "    </tr>\n",
       "    <tr>\n",
       "      <th>564500</th>\n",
       "      <td>4/30/14 22:50</td>\n",
       "      <td>40.7650</td>\n",
       "      <td>-73.9773</td>\n",
       "      <td>B02764</td>\n",
       "    </tr>\n",
       "    <tr>\n",
       "      <th>564501</th>\n",
       "      <td>4/30/14 22:51</td>\n",
       "      <td>40.7436</td>\n",
       "      <td>-73.9848</td>\n",
       "      <td>B02764</td>\n",
       "    </tr>\n",
       "    <tr>\n",
       "      <th>564502</th>\n",
       "      <td>4/30/14 22:56</td>\n",
       "      <td>40.7313</td>\n",
       "      <td>-73.9940</td>\n",
       "      <td>B02764</td>\n",
       "    </tr>\n",
       "    <tr>\n",
       "      <th>564503</th>\n",
       "      <td>4/30/14 22:57</td>\n",
       "      <td>40.8007</td>\n",
       "      <td>-73.9565</td>\n",
       "      <td>B02764</td>\n",
       "    </tr>\n",
       "    <tr>\n",
       "      <th>564504</th>\n",
       "      <td>4/30/14 22:58</td>\n",
       "      <td>40.7603</td>\n",
       "      <td>-73.9870</td>\n",
       "      <td>B02764</td>\n",
       "    </tr>\n",
       "    <tr>\n",
       "      <th>564505</th>\n",
       "      <td>4/30/14 22:58</td>\n",
       "      <td>40.7419</td>\n",
       "      <td>-73.9866</td>\n",
       "      <td>B02764</td>\n",
       "    </tr>\n",
       "    <tr>\n",
       "      <th>564506</th>\n",
       "      <td>4/30/14 23:00</td>\n",
       "      <td>40.7316</td>\n",
       "      <td>-73.9891</td>\n",
       "      <td>B02764</td>\n",
       "    </tr>\n",
       "    <tr>\n",
       "      <th>564507</th>\n",
       "      <td>4/30/14 23:04</td>\n",
       "      <td>40.7267</td>\n",
       "      <td>-73.9937</td>\n",
       "      <td>B02764</td>\n",
       "    </tr>\n",
       "    <tr>\n",
       "      <th>564508</th>\n",
       "      <td>4/30/14 23:05</td>\n",
       "      <td>40.7788</td>\n",
       "      <td>-73.9600</td>\n",
       "      <td>B02764</td>\n",
       "    </tr>\n",
       "    <tr>\n",
       "      <th>564509</th>\n",
       "      <td>4/30/14 23:15</td>\n",
       "      <td>40.7420</td>\n",
       "      <td>-74.0037</td>\n",
       "      <td>B02764</td>\n",
       "    </tr>\n",
       "    <tr>\n",
       "      <th>564510</th>\n",
       "      <td>4/30/14 23:18</td>\n",
       "      <td>40.7514</td>\n",
       "      <td>-74.0066</td>\n",
       "      <td>B02764</td>\n",
       "    </tr>\n",
       "    <tr>\n",
       "      <th>564511</th>\n",
       "      <td>4/30/14 23:22</td>\n",
       "      <td>40.7640</td>\n",
       "      <td>-73.9744</td>\n",
       "      <td>B02764</td>\n",
       "    </tr>\n",
       "    <tr>\n",
       "      <th>564512</th>\n",
       "      <td>4/30/14 23:26</td>\n",
       "      <td>40.7629</td>\n",
       "      <td>-73.9672</td>\n",
       "      <td>B02764</td>\n",
       "    </tr>\n",
       "    <tr>\n",
       "      <th>564513</th>\n",
       "      <td>4/30/14 23:31</td>\n",
       "      <td>40.7443</td>\n",
       "      <td>-73.9889</td>\n",
       "      <td>B02764</td>\n",
       "    </tr>\n",
       "    <tr>\n",
       "      <th>564514</th>\n",
       "      <td>4/30/14 23:32</td>\n",
       "      <td>40.6756</td>\n",
       "      <td>-73.9405</td>\n",
       "      <td>B02764</td>\n",
       "    </tr>\n",
       "    <tr>\n",
       "      <th>564515</th>\n",
       "      <td>4/30/14 23:48</td>\n",
       "      <td>40.6880</td>\n",
       "      <td>-73.9608</td>\n",
       "      <td>B02764</td>\n",
       "    </tr>\n",
       "  </tbody>\n",
       "</table>\n",
       "<p>564516 rows × 4 columns</p>\n",
       "</div>"
      ],
      "text/plain": [
       "                 Time      Lat      Lon    Base\n",
       "0         4/1/14 0:11  40.7690 -73.9549  B02512\n",
       "1         4/1/14 0:17  40.7267 -74.0345  B02512\n",
       "2         4/1/14 0:21  40.7316 -73.9873  B02512\n",
       "3         4/1/14 0:28  40.7588 -73.9776  B02512\n",
       "4         4/1/14 0:33  40.7594 -73.9722  B02512\n",
       "5         4/1/14 0:33  40.7383 -74.0403  B02512\n",
       "6         4/1/14 0:39  40.7223 -73.9887  B02512\n",
       "7         4/1/14 0:45  40.7620 -73.9790  B02512\n",
       "8         4/1/14 0:55  40.7524 -73.9960  B02512\n",
       "9         4/1/14 1:01  40.7575 -73.9846  B02512\n",
       "10        4/1/14 1:19  40.7256 -73.9869  B02512\n",
       "11        4/1/14 1:48  40.7591 -73.9684  B02512\n",
       "12        4/1/14 1:49  40.7271 -73.9803  B02512\n",
       "13        4/1/14 2:11  40.6463 -73.7896  B02512\n",
       "14        4/1/14 2:25  40.7564 -73.9167  B02512\n",
       "15        4/1/14 2:31  40.7666 -73.9531  B02512\n",
       "16        4/1/14 2:43  40.7580 -73.9761  B02512\n",
       "17        4/1/14 3:22  40.7238 -73.9821  B02512\n",
       "18        4/1/14 3:35  40.7531 -74.0039  B02512\n",
       "19        4/1/14 3:35  40.7389 -74.0393  B02512\n",
       "20        4/1/14 3:41  40.7619 -73.9715  B02512\n",
       "21        4/1/14 4:11  40.7530 -74.0042  B02512\n",
       "22        4/1/14 4:15  40.6561 -73.9531  B02512\n",
       "23        4/1/14 4:19  40.7250 -73.9844  B02512\n",
       "24        4/1/14 4:20  40.6950 -74.1783  B02512\n",
       "25        4/1/14 4:26  40.9859 -74.1578  B02512\n",
       "26        4/1/14 4:27  40.6879 -74.1814  B02512\n",
       "27        4/1/14 4:38  40.6878 -74.1816  B02512\n",
       "28        4/1/14 4:47  40.7234 -73.9974  B02512\n",
       "29        4/1/14 4:49  40.7336 -73.9900  B02512\n",
       "...               ...      ...      ...     ...\n",
       "564486  4/30/14 22:25  40.7342 -74.0101  B02764\n",
       "564487  4/30/14 22:25  40.7412 -73.9792  B02764\n",
       "564488  4/30/14 22:25  40.7633 -73.9867  B02764\n",
       "564489  4/30/14 22:26  40.7549 -73.9845  B02764\n",
       "564490  4/30/14 22:27  40.7210 -73.9850  B02764\n",
       "564491  4/30/14 22:27  40.7025 -74.0127  B02764\n",
       "564492  4/30/14 22:28  40.7568 -73.9848  B02764\n",
       "564493  4/30/14 22:29  40.7446 -73.9837  B02764\n",
       "564494  4/30/14 22:32  40.7013 -73.9367  B02764\n",
       "564495  4/30/14 22:35  40.7213 -73.9948  B02764\n",
       "564496  4/30/14 22:36  40.7587 -73.9723  B02764\n",
       "564497  4/30/14 22:42  40.7325 -73.9969  B02764\n",
       "564498  4/30/14 22:46  40.8152 -73.9433  B02764\n",
       "564499  4/30/14 22:47  40.7643 -73.9868  B02764\n",
       "564500  4/30/14 22:50  40.7650 -73.9773  B02764\n",
       "564501  4/30/14 22:51  40.7436 -73.9848  B02764\n",
       "564502  4/30/14 22:56  40.7313 -73.9940  B02764\n",
       "564503  4/30/14 22:57  40.8007 -73.9565  B02764\n",
       "564504  4/30/14 22:58  40.7603 -73.9870  B02764\n",
       "564505  4/30/14 22:58  40.7419 -73.9866  B02764\n",
       "564506  4/30/14 23:00  40.7316 -73.9891  B02764\n",
       "564507  4/30/14 23:04  40.7267 -73.9937  B02764\n",
       "564508  4/30/14 23:05  40.7788 -73.9600  B02764\n",
       "564509  4/30/14 23:15  40.7420 -74.0037  B02764\n",
       "564510  4/30/14 23:18  40.7514 -74.0066  B02764\n",
       "564511  4/30/14 23:22  40.7640 -73.9744  B02764\n",
       "564512  4/30/14 23:26  40.7629 -73.9672  B02764\n",
       "564513  4/30/14 23:31  40.7443 -73.9889  B02764\n",
       "564514  4/30/14 23:32  40.6756 -73.9405  B02764\n",
       "564515  4/30/14 23:48  40.6880 -73.9608  B02764\n",
       "\n",
       "[564516 rows x 4 columns]"
      ]
     },
     "execution_count": 11,
     "metadata": {},
     "output_type": "execute_result"
    }
   ],
   "source": [
    "april_df"
   ]
  },
  {
   "cell_type": "code",
   "execution_count": 12,
   "metadata": {},
   "outputs": [
    {
     "data": {
      "text/html": [
       "<div>\n",
       "<style>\n",
       "    .dataframe thead tr:only-child th {\n",
       "        text-align: right;\n",
       "    }\n",
       "\n",
       "    .dataframe thead th {\n",
       "        text-align: left;\n",
       "    }\n",
       "\n",
       "    .dataframe tbody tr th {\n",
       "        vertical-align: top;\n",
       "    }\n",
       "</style>\n",
       "<table border=\"1\" class=\"dataframe\">\n",
       "  <thead>\n",
       "    <tr style=\"text-align: right;\">\n",
       "      <th></th>\n",
       "      <th>Time</th>\n",
       "      <th>Lat</th>\n",
       "      <th>Lon</th>\n",
       "      <th>Base</th>\n",
       "    </tr>\n",
       "  </thead>\n",
       "  <tbody>\n",
       "    <tr>\n",
       "      <th>0</th>\n",
       "      <td>4/1/14 0:11</td>\n",
       "      <td>40.7690</td>\n",
       "      <td>-73.9549</td>\n",
       "      <td>B02512</td>\n",
       "    </tr>\n",
       "    <tr>\n",
       "      <th>1</th>\n",
       "      <td>4/1/14 0:17</td>\n",
       "      <td>40.7267</td>\n",
       "      <td>-74.0345</td>\n",
       "      <td>B02512</td>\n",
       "    </tr>\n",
       "    <tr>\n",
       "      <th>2</th>\n",
       "      <td>4/1/14 0:21</td>\n",
       "      <td>40.7316</td>\n",
       "      <td>-73.9873</td>\n",
       "      <td>B02512</td>\n",
       "    </tr>\n",
       "    <tr>\n",
       "      <th>3</th>\n",
       "      <td>4/1/14 0:28</td>\n",
       "      <td>40.7588</td>\n",
       "      <td>-73.9776</td>\n",
       "      <td>B02512</td>\n",
       "    </tr>\n",
       "    <tr>\n",
       "      <th>4</th>\n",
       "      <td>4/1/14 0:33</td>\n",
       "      <td>40.7594</td>\n",
       "      <td>-73.9722</td>\n",
       "      <td>B02512</td>\n",
       "    </tr>\n",
       "  </tbody>\n",
       "</table>\n",
       "</div>"
      ],
      "text/plain": [
       "          Time      Lat      Lon    Base\n",
       "0  4/1/14 0:11  40.7690 -73.9549  B02512\n",
       "1  4/1/14 0:17  40.7267 -74.0345  B02512\n",
       "2  4/1/14 0:21  40.7316 -73.9873  B02512\n",
       "3  4/1/14 0:28  40.7588 -73.9776  B02512\n",
       "4  4/1/14 0:33  40.7594 -73.9722  B02512"
      ]
     },
     "execution_count": 12,
     "metadata": {},
     "output_type": "execute_result"
    }
   ],
   "source": [
    "april_df.head()"
   ]
  },
  {
   "cell_type": "code",
   "execution_count": 19,
   "metadata": {},
   "outputs": [
    {
     "data": {
      "application/vnd.plotly.v1+json": {
       "data": [
        {
         "lat": [
          40.769,
          40.7267
         ],
         "line": {
          "color": "red",
          "width": 1
         },
         "locationmode": "USA-states",
         "lon": [
          -73.9549,
          -74.0345
         ],
         "mode": "lines",
         "type": "scattergeo"
        },
        {
         "lat": [
          40.7267,
          40.7316
         ],
         "line": {
          "color": "red",
          "width": 1
         },
         "locationmode": "USA-states",
         "lon": [
          -74.0345,
          -73.9873
         ],
         "mode": "lines",
         "type": "scattergeo"
        },
        {
         "lat": [
          40.7316,
          40.7588
         ],
         "line": {
          "color": "red",
          "width": 1
         },
         "locationmode": "USA-states",
         "lon": [
          -73.9873,
          -73.9776
         ],
         "mode": "lines",
         "type": "scattergeo"
        },
        {
         "lat": [
          40.7588,
          40.7594
         ],
         "line": {
          "color": "red",
          "width": 1
         },
         "locationmode": "USA-states",
         "lon": [
          -73.9776,
          -73.9722
         ],
         "mode": "lines",
         "type": "scattergeo"
        },
        {
         "lat": [
          40.7594,
          40.7383
         ],
         "line": {
          "color": "red",
          "width": 1
         },
         "locationmode": "USA-states",
         "lon": [
          -73.9722,
          -74.0403
         ],
         "mode": "lines",
         "type": "scattergeo"
        },
        {
         "lat": [
          40.7383,
          40.7223
         ],
         "line": {
          "color": "red",
          "width": 1
         },
         "locationmode": "USA-states",
         "lon": [
          -74.0403,
          -73.9887
         ],
         "mode": "lines",
         "type": "scattergeo"
        },
        {
         "lat": [
          40.7223,
          40.762
         ],
         "line": {
          "color": "red",
          "width": 1
         },
         "locationmode": "USA-states",
         "lon": [
          -73.9887,
          -73.979
         ],
         "mode": "lines",
         "type": "scattergeo"
        },
        {
         "lat": [
          40.762,
          40.7524
         ],
         "line": {
          "color": "red",
          "width": 1
         },
         "locationmode": "USA-states",
         "lon": [
          -73.979,
          -73.99600000000001
         ],
         "mode": "lines",
         "type": "scattergeo"
        },
        {
         "lat": [
          40.7524,
          40.7575
         ],
         "line": {
          "color": "red",
          "width": 1
         },
         "locationmode": "USA-states",
         "lon": [
          -73.99600000000001,
          -73.9846
         ],
         "mode": "lines",
         "type": "scattergeo"
        },
        {
         "lat": [
          40.7575,
          40.7256
         ],
         "line": {
          "color": "red",
          "width": 1
         },
         "locationmode": "USA-states",
         "lon": [
          -73.9846,
          -73.9869
         ],
         "mode": "lines",
         "type": "scattergeo"
        },
        {
         "lat": [
          40.7256,
          40.7591
         ],
         "line": {
          "color": "red",
          "width": 1
         },
         "locationmode": "USA-states",
         "lon": [
          -73.9869,
          -73.9684
         ],
         "mode": "lines",
         "type": "scattergeo"
        },
        {
         "lat": [
          40.7591,
          40.7271
         ],
         "line": {
          "color": "red",
          "width": 1
         },
         "locationmode": "USA-states",
         "lon": [
          -73.9684,
          -73.9803
         ],
         "mode": "lines",
         "type": "scattergeo"
        },
        {
         "lat": [
          40.7271,
          40.6463
         ],
         "line": {
          "color": "red",
          "width": 1
         },
         "locationmode": "USA-states",
         "lon": [
          -73.9803,
          -73.7896
         ],
         "mode": "lines",
         "type": "scattergeo"
        },
        {
         "lat": [
          40.6463,
          40.7564
         ],
         "line": {
          "color": "red",
          "width": 1
         },
         "locationmode": "USA-states",
         "lon": [
          -73.7896,
          -73.9167
         ],
         "mode": "lines",
         "type": "scattergeo"
        },
        {
         "lat": [
          40.7564,
          40.7666
         ],
         "line": {
          "color": "red",
          "width": 1
         },
         "locationmode": "USA-states",
         "lon": [
          -73.9167,
          -73.9531
         ],
         "mode": "lines",
         "type": "scattergeo"
        },
        {
         "lat": [
          40.7666,
          40.758
         ],
         "line": {
          "color": "red",
          "width": 1
         },
         "locationmode": "USA-states",
         "lon": [
          -73.9531,
          -73.9761
         ],
         "mode": "lines",
         "type": "scattergeo"
        },
        {
         "lat": [
          40.758,
          40.7238
         ],
         "line": {
          "color": "red",
          "width": 1
         },
         "locationmode": "USA-states",
         "lon": [
          -73.9761,
          -73.9821
         ],
         "mode": "lines",
         "type": "scattergeo"
        },
        {
         "lat": [
          40.7238,
          40.7531
         ],
         "line": {
          "color": "red",
          "width": 1
         },
         "locationmode": "USA-states",
         "lon": [
          -73.9821,
          -74.0039
         ],
         "mode": "lines",
         "type": "scattergeo"
        },
        {
         "lat": [
          40.7531,
          40.7389
         ],
         "line": {
          "color": "red",
          "width": 1
         },
         "locationmode": "USA-states",
         "lon": [
          -74.0039,
          -74.0393
         ],
         "mode": "lines",
         "type": "scattergeo"
        },
        {
         "lat": [
          40.7389,
          40.7619
         ],
         "line": {
          "color": "red",
          "width": 1
         },
         "locationmode": "USA-states",
         "lon": [
          -74.0393,
          -73.9715
         ],
         "mode": "lines",
         "type": "scattergeo"
        },
        {
         "lat": [
          40.7619,
          40.753
         ],
         "line": {
          "color": "red",
          "width": 1
         },
         "locationmode": "USA-states",
         "lon": [
          -73.9715,
          -74.0042
         ],
         "mode": "lines",
         "type": "scattergeo"
        },
        {
         "lat": [
          40.753,
          40.6561
         ],
         "line": {
          "color": "red",
          "width": 1
         },
         "locationmode": "USA-states",
         "lon": [
          -74.0042,
          -73.9531
         ],
         "mode": "lines",
         "type": "scattergeo"
        },
        {
         "lat": [
          40.6561,
          40.725
         ],
         "line": {
          "color": "red",
          "width": 1
         },
         "locationmode": "USA-states",
         "lon": [
          -73.9531,
          -73.9844
         ],
         "mode": "lines",
         "type": "scattergeo"
        },
        {
         "lat": [
          40.725,
          40.695
         ],
         "line": {
          "color": "red",
          "width": 1
         },
         "locationmode": "USA-states",
         "lon": [
          -73.9844,
          -74.1783
         ],
         "mode": "lines",
         "type": "scattergeo"
        },
        {
         "lat": [
          40.695,
          40.9859
         ],
         "line": {
          "color": "red",
          "width": 1
         },
         "locationmode": "USA-states",
         "lon": [
          -74.1783,
          -74.1578
         ],
         "mode": "lines",
         "type": "scattergeo"
        },
        {
         "lat": [
          40.9859,
          40.6879
         ],
         "line": {
          "color": "red",
          "width": 1
         },
         "locationmode": "USA-states",
         "lon": [
          -74.1578,
          -74.1814
         ],
         "mode": "lines",
         "type": "scattergeo"
        },
        {
         "lat": [
          40.6879,
          40.6878
         ],
         "line": {
          "color": "red",
          "width": 1
         },
         "locationmode": "USA-states",
         "lon": [
          -74.1814,
          -74.1816
         ],
         "mode": "lines",
         "type": "scattergeo"
        },
        {
         "lat": [
          40.6878,
          40.7234
         ],
         "line": {
          "color": "red",
          "width": 1
         },
         "locationmode": "USA-states",
         "lon": [
          -74.1816,
          -73.9974
         ],
         "mode": "lines",
         "type": "scattergeo"
        },
        {
         "lat": [
          40.7234,
          40.7336
         ],
         "line": {
          "color": "red",
          "width": 1
         },
         "locationmode": "USA-states",
         "lon": [
          -73.9974,
          -73.99
         ],
         "mode": "lines",
         "type": "scattergeo"
        },
        {
         "lat": [
          40.7336,
          40.7141
         ],
         "line": {
          "color": "red",
          "width": 1
         },
         "locationmode": "USA-states",
         "lon": [
          -73.99,
          -74.0094
         ],
         "mode": "lines",
         "type": "scattergeo"
        },
        {
         "lat": [
          40.7141,
          40.7893
         ],
         "line": {
          "color": "red",
          "width": 1
         },
         "locationmode": "USA-states",
         "lon": [
          -74.0094,
          -73.9709
         ],
         "mode": "lines",
         "type": "scattergeo"
        },
        {
         "lat": [
          40.7893,
          40.7747
         ],
         "line": {
          "color": "red",
          "width": 1
         },
         "locationmode": "USA-states",
         "lon": [
          -73.9709,
          -73.991
         ],
         "mode": "lines",
         "type": "scattergeo"
        },
        {
         "lat": [
          40.7747,
          40.7689
         ],
         "line": {
          "color": "red",
          "width": 1
         },
         "locationmode": "USA-states",
         "lon": [
          -73.991,
          -73.9876
         ],
         "mode": "lines",
         "type": "scattergeo"
        },
        {
         "lat": [
          40.7689,
          40.7744
         ],
         "line": {
          "color": "red",
          "width": 1
         },
         "locationmode": "USA-states",
         "lon": [
          -73.9876,
          -74.0149
         ],
         "mode": "lines",
         "type": "scattergeo"
        },
        {
         "lat": [
          40.7744,
          40.7393
         ],
         "line": {
          "color": "red",
          "width": 1
         },
         "locationmode": "USA-states",
         "lon": [
          -74.0149,
          -73.9974
         ],
         "mode": "lines",
         "type": "scattergeo"
        },
        {
         "lat": [
          40.7393,
          40.7776
         ],
         "line": {
          "color": "red",
          "width": 1
         },
         "locationmode": "USA-states",
         "lon": [
          -73.9974,
          -73.9752
         ],
         "mode": "lines",
         "type": "scattergeo"
        },
        {
         "lat": [
          40.7776,
          40.6483
         ],
         "line": {
          "color": "red",
          "width": 1
         },
         "locationmode": "USA-states",
         "lon": [
          -73.9752,
          -73.7829
         ],
         "mode": "lines",
         "type": "scattergeo"
        },
        {
         "lat": [
          40.6483,
          40.6907
         ],
         "line": {
          "color": "red",
          "width": 1
         },
         "locationmode": "USA-states",
         "lon": [
          -73.7829,
          -74.1782
         ],
         "mode": "lines",
         "type": "scattergeo"
        },
        {
         "lat": [
          40.6907,
          40.7217
         ],
         "line": {
          "color": "red",
          "width": 1
         },
         "locationmode": "USA-states",
         "lon": [
          -74.1782,
          -73.9875
         ],
         "mode": "lines",
         "type": "scattergeo"
        },
        {
         "lat": [
          40.7217,
          40.7651
         ],
         "line": {
          "color": "red",
          "width": 1
         },
         "locationmode": "USA-states",
         "lon": [
          -73.9875,
          -73.9632
         ],
         "mode": "lines",
         "type": "scattergeo"
        },
        {
         "lat": [
          40.7651,
          40.7437
         ],
         "line": {
          "color": "red",
          "width": 1
         },
         "locationmode": "USA-states",
         "lon": [
          -73.9632,
          -73.9985
         ],
         "mode": "lines",
         "type": "scattergeo"
        },
        {
         "lat": [
          40.7437,
          40.7605
         ],
         "line": {
          "color": "red",
          "width": 1
         },
         "locationmode": "USA-states",
         "lon": [
          -73.9985,
          -73.97800000000001
         ],
         "mode": "lines",
         "type": "scattergeo"
        },
        {
         "lat": [
          40.7605,
          40.743
         ],
         "line": {
          "color": "red",
          "width": 1
         },
         "locationmode": "USA-states",
         "lon": [
          -73.97800000000001,
          -74.0301
         ],
         "mode": "lines",
         "type": "scattergeo"
        },
        {
         "lat": [
          40.743,
          40.743
         ],
         "line": {
          "color": "red",
          "width": 1
         },
         "locationmode": "USA-states",
         "lon": [
          -74.0301,
          -74.0301
         ],
         "mode": "lines",
         "type": "scattergeo"
        },
        {
         "lat": [
          40.743,
          40.7423
         ],
         "line": {
          "color": "red",
          "width": 1
         },
         "locationmode": "USA-states",
         "lon": [
          -74.0301,
          -74.0371
         ],
         "mode": "lines",
         "type": "scattergeo"
        },
        {
         "lat": [
          40.7423,
          40.7236
         ],
         "line": {
          "color": "red",
          "width": 1
         },
         "locationmode": "USA-states",
         "lon": [
          -74.0371,
          -74.0037
         ],
         "mode": "lines",
         "type": "scattergeo"
        },
        {
         "lat": [
          40.7236,
          40.7723
         ],
         "line": {
          "color": "red",
          "width": 1
         },
         "locationmode": "USA-states",
         "lon": [
          -74.0037,
          -73.9527
         ],
         "mode": "lines",
         "type": "scattergeo"
        },
        {
         "lat": [
          40.7723,
          40.7574
         ],
         "line": {
          "color": "red",
          "width": 1
         },
         "locationmode": "USA-states",
         "lon": [
          -73.9527,
          -73.9862
         ],
         "mode": "lines",
         "type": "scattergeo"
        },
        {
         "lat": [
          40.7574,
          40.7838
         ],
         "line": {
          "color": "red",
          "width": 1
         },
         "locationmode": "USA-states",
         "lon": [
          -73.9862,
          -73.9504
         ],
         "mode": "lines",
         "type": "scattergeo"
        },
        {
         "lat": [
          40.7838,
          40.7711
         ],
         "line": {
          "color": "red",
          "width": 1
         },
         "locationmode": "USA-states",
         "lon": [
          -73.9504,
          -73.9871
         ],
         "mode": "lines",
         "type": "scattergeo"
        },
        {
         "lat": [
          40.7711,
          40.7571
         ],
         "line": {
          "color": "red",
          "width": 1
         },
         "locationmode": "USA-states",
         "lon": [
          -73.9871,
          -73.9726
         ],
         "mode": "lines",
         "type": "scattergeo"
        },
        {
         "lat": [
          40.7571,
          40.7442
         ],
         "line": {
          "color": "red",
          "width": 1
         },
         "locationmode": "USA-states",
         "lon": [
          -73.9726,
          -73.9854
         ],
         "mode": "lines",
         "type": "scattergeo"
        },
        {
         "lat": [
          40.7442,
          40.7166
         ],
         "line": {
          "color": "red",
          "width": 1
         },
         "locationmode": "USA-states",
         "lon": [
          -73.9854,
          -74.0144
         ],
         "mode": "lines",
         "type": "scattergeo"
        },
        {
         "lat": [
          40.7166,
          40.7507
         ],
         "line": {
          "color": "red",
          "width": 1
         },
         "locationmode": "USA-states",
         "lon": [
          -74.0144,
          -73.9703
         ],
         "mode": "lines",
         "type": "scattergeo"
        },
        {
         "lat": [
          40.7507,
          40.7337
         ],
         "line": {
          "color": "red",
          "width": 1
         },
         "locationmode": "USA-states",
         "lon": [
          -73.9703,
          -73.9979
         ],
         "mode": "lines",
         "type": "scattergeo"
        },
        {
         "lat": [
          40.7337,
          40.7236
         ],
         "line": {
          "color": "red",
          "width": 1
         },
         "locationmode": "USA-states",
         "lon": [
          -73.9979,
          -74.0111
         ],
         "mode": "lines",
         "type": "scattergeo"
        },
        {
         "lat": [
          40.7236,
          40.7151
         ],
         "line": {
          "color": "red",
          "width": 1
         },
         "locationmode": "USA-states",
         "lon": [
          -74.0111,
          -74.0464
         ],
         "mode": "lines",
         "type": "scattergeo"
        },
        {
         "lat": [
          40.7151,
          40.7701
         ],
         "line": {
          "color": "red",
          "width": 1
         },
         "locationmode": "USA-states",
         "lon": [
          -74.0464,
          -73.9588
         ],
         "mode": "lines",
         "type": "scattergeo"
        },
        {
         "lat": [
          40.7701,
          40.86
         ],
         "line": {
          "color": "red",
          "width": 1
         },
         "locationmode": "USA-states",
         "lon": [
          -73.9588,
          -73.9142
         ],
         "mode": "lines",
         "type": "scattergeo"
        },
        {
         "lat": [
          40.86,
          40.7555
         ],
         "line": {
          "color": "red",
          "width": 1
         },
         "locationmode": "USA-states",
         "lon": [
          -73.9142,
          -73.9729
         ],
         "mode": "lines",
         "type": "scattergeo"
        },
        {
         "lat": [
          40.7555,
          40.7249
         ],
         "line": {
          "color": "red",
          "width": 1
         },
         "locationmode": "USA-states",
         "lon": [
          -73.9729,
          -74.0355
         ],
         "mode": "lines",
         "type": "scattergeo"
        },
        {
         "lat": [
          40.7249,
          40.6193
         ],
         "line": {
          "color": "red",
          "width": 1
         },
         "locationmode": "USA-states",
         "lon": [
          -74.0355,
          -74.157
         ],
         "mode": "lines",
         "type": "scattergeo"
        },
        {
         "lat": [
          40.6193,
          40.7753
         ],
         "line": {
          "color": "red",
          "width": 1
         },
         "locationmode": "USA-states",
         "lon": [
          -74.157,
          -73.97800000000001
         ],
         "mode": "lines",
         "type": "scattergeo"
        },
        {
         "lat": [
          40.7753,
          40.7204
         ],
         "line": {
          "color": "red",
          "width": 1
         },
         "locationmode": "USA-states",
         "lon": [
          -73.97800000000001,
          -73.9545
         ],
         "mode": "lines",
         "type": "scattergeo"
        },
        {
         "lat": [
          40.7204,
          40.7772
         ],
         "line": {
          "color": "red",
          "width": 1
         },
         "locationmode": "USA-states",
         "lon": [
          -73.9545,
          -73.9595
         ],
         "mode": "lines",
         "type": "scattergeo"
        },
        {
         "lat": [
          40.7772,
          40.7651
         ],
         "line": {
          "color": "red",
          "width": 1
         },
         "locationmode": "USA-states",
         "lon": [
          -73.9595,
          -74.082
         ],
         "mode": "lines",
         "type": "scattergeo"
        },
        {
         "lat": [
          40.7651,
          40.74
         ],
         "line": {
          "color": "red",
          "width": 1
         },
         "locationmode": "USA-states",
         "lon": [
          -74.082,
          -73.9879
         ],
         "mode": "lines",
         "type": "scattergeo"
        },
        {
         "lat": [
          40.74,
          40.7741
         ],
         "line": {
          "color": "red",
          "width": 1
         },
         "locationmode": "USA-states",
         "lon": [
          -73.9879,
          -73.9568
         ],
         "mode": "lines",
         "type": "scattergeo"
        },
        {
         "lat": [
          40.7741,
          40.7599
         ],
         "line": {
          "color": "red",
          "width": 1
         },
         "locationmode": "USA-states",
         "lon": [
          -73.9568,
          -73.9944
         ],
         "mode": "lines",
         "type": "scattergeo"
        },
        {
         "lat": [
          40.7599,
          40.7531
         ],
         "line": {
          "color": "red",
          "width": 1
         },
         "locationmode": "USA-states",
         "lon": [
          -73.9944,
          -74.0039
         ],
         "mode": "lines",
         "type": "scattergeo"
        },
        {
         "lat": [
          40.7531,
          40.7791
         ],
         "line": {
          "color": "red",
          "width": 1
         },
         "locationmode": "USA-states",
         "lon": [
          -74.0039,
          -73.9623
         ],
         "mode": "lines",
         "type": "scattergeo"
        },
        {
         "lat": [
          40.7791,
          40.7382
         ],
         "line": {
          "color": "red",
          "width": 1
         },
         "locationmode": "USA-states",
         "lon": [
          -73.9623,
          -74.0033
         ],
         "mode": "lines",
         "type": "scattergeo"
        },
        {
         "lat": [
          40.7382,
          40.7391
         ],
         "line": {
          "color": "red",
          "width": 1
         },
         "locationmode": "USA-states",
         "lon": [
          -74.0033,
          -73.9989
         ],
         "mode": "lines",
         "type": "scattergeo"
        },
        {
         "lat": [
          40.7391,
          40.7806
         ],
         "line": {
          "color": "red",
          "width": 1
         },
         "locationmode": "USA-states",
         "lon": [
          -73.9989,
          -73.982
         ],
         "mode": "lines",
         "type": "scattergeo"
        },
        {
         "lat": [
          40.7806,
          40.7322
         ],
         "line": {
          "color": "red",
          "width": 1
         },
         "locationmode": "USA-states",
         "lon": [
          -73.982,
          -73.9863
         ],
         "mode": "lines",
         "type": "scattergeo"
        },
        {
         "lat": [
          40.7322,
          40.7703
         ],
         "line": {
          "color": "red",
          "width": 1
         },
         "locationmode": "USA-states",
         "lon": [
          -73.9863,
          -73.96600000000001
         ],
         "mode": "lines",
         "type": "scattergeo"
        },
        {
         "lat": [
          40.7703,
          40.7221
         ],
         "line": {
          "color": "red",
          "width": 1
         },
         "locationmode": "USA-states",
         "lon": [
          -73.96600000000001,
          -74.0018
         ],
         "mode": "lines",
         "type": "scattergeo"
        },
        {
         "lat": [
          40.7221,
          40.7588
         ],
         "line": {
          "color": "red",
          "width": 1
         },
         "locationmode": "USA-states",
         "lon": [
          -74.0018,
          -73.9895
         ],
         "mode": "lines",
         "type": "scattergeo"
        },
        {
         "lat": [
          40.7588,
          40.7677
         ],
         "line": {
          "color": "red",
          "width": 1
         },
         "locationmode": "USA-states",
         "lon": [
          -73.9895,
          -73.9656
         ],
         "mode": "lines",
         "type": "scattergeo"
        },
        {
         "lat": [
          40.7677,
          40.7404
         ],
         "line": {
          "color": "red",
          "width": 1
         },
         "locationmode": "USA-states",
         "lon": [
          -73.9656,
          -74.0076
         ],
         "mode": "lines",
         "type": "scattergeo"
        },
        {
         "lat": [
          40.7404,
          40.7679
         ],
         "line": {
          "color": "red",
          "width": 1
         },
         "locationmode": "USA-states",
         "lon": [
          -74.0076,
          -73.9599
         ],
         "mode": "lines",
         "type": "scattergeo"
        },
        {
         "lat": [
          40.7679,
          40.7694
         ],
         "line": {
          "color": "red",
          "width": 1
         },
         "locationmode": "USA-states",
         "lon": [
          -73.9599,
          -73.9852
         ],
         "mode": "lines",
         "type": "scattergeo"
        },
        {
         "lat": [
          40.7694,
          40.7858
         ],
         "line": {
          "color": "red",
          "width": 1
         },
         "locationmode": "USA-states",
         "lon": [
          -73.9852,
          -73.9546
         ],
         "mode": "lines",
         "type": "scattergeo"
        },
        {
         "lat": [
          40.7858,
          40.7742
         ],
         "line": {
          "color": "red",
          "width": 1
         },
         "locationmode": "USA-states",
         "lon": [
          -73.9546,
          -73.9491
         ],
         "mode": "lines",
         "type": "scattergeo"
        },
        {
         "lat": [
          40.7742,
          40.7703
         ],
         "line": {
          "color": "red",
          "width": 1
         },
         "locationmode": "USA-states",
         "lon": [
          -73.9491,
          -73.95
         ],
         "mode": "lines",
         "type": "scattergeo"
        },
        {
         "lat": [
          40.7703,
          40.7614
         ],
         "line": {
          "color": "red",
          "width": 1
         },
         "locationmode": "USA-states",
         "lon": [
          -73.95,
          -73.9997
         ],
         "mode": "lines",
         "type": "scattergeo"
        },
        {
         "lat": [
          40.7614,
          40.793
         ],
         "line": {
          "color": "red",
          "width": 1
         },
         "locationmode": "USA-states",
         "lon": [
          -73.9997,
          -73.9749
         ],
         "mode": "lines",
         "type": "scattergeo"
        },
        {
         "lat": [
          40.793,
          40.7231
         ],
         "line": {
          "color": "red",
          "width": 1
         },
         "locationmode": "USA-states",
         "lon": [
          -73.9749,
          -73.9442
         ],
         "mode": "lines",
         "type": "scattergeo"
        },
        {
         "lat": [
          40.7231,
          40.7874
         ],
         "line": {
          "color": "red",
          "width": 1
         },
         "locationmode": "USA-states",
         "lon": [
          -73.9442,
          -73.9545
         ],
         "mode": "lines",
         "type": "scattergeo"
        },
        {
         "lat": [
          40.7874,
          40.7689
         ],
         "line": {
          "color": "red",
          "width": 1
         },
         "locationmode": "USA-states",
         "lon": [
          -73.9545,
          -73.9812
         ],
         "mode": "lines",
         "type": "scattergeo"
        },
        {
         "lat": [
          40.7689,
          40.7789
         ],
         "line": {
          "color": "red",
          "width": 1
         },
         "locationmode": "USA-states",
         "lon": [
          -73.9812,
          -73.9557
         ],
         "mode": "lines",
         "type": "scattergeo"
        },
        {
         "lat": [
          40.7789,
          40.7271
         ],
         "line": {
          "color": "red",
          "width": 1
         },
         "locationmode": "USA-states",
         "lon": [
          -73.9557,
          -74.0054
         ],
         "mode": "lines",
         "type": "scattergeo"
        },
        {
         "lat": [
          40.7271,
          40.7877
         ],
         "line": {
          "color": "red",
          "width": 1
         },
         "locationmode": "USA-states",
         "lon": [
          -74.0054,
          -73.973
         ],
         "mode": "lines",
         "type": "scattergeo"
        },
        {
         "lat": [
          40.7877,
          40.7255
         ],
         "line": {
          "color": "red",
          "width": 1
         },
         "locationmode": "USA-states",
         "lon": [
          -73.973,
          -74.0092
         ],
         "mode": "lines",
         "type": "scattergeo"
        },
        {
         "lat": [
          40.7255,
          40.7653
         ],
         "line": {
          "color": "red",
          "width": 1
         },
         "locationmode": "USA-states",
         "lon": [
          -74.0092,
          -73.9723
         ],
         "mode": "lines",
         "type": "scattergeo"
        },
        {
         "lat": [
          40.7653,
          40.7644
         ],
         "line": {
          "color": "red",
          "width": 1
         },
         "locationmode": "USA-states",
         "lon": [
          -73.9723,
          -73.9769
         ],
         "mode": "lines",
         "type": "scattergeo"
        },
        {
         "lat": [
          40.7644,
          40.7726
         ],
         "line": {
          "color": "red",
          "width": 1
         },
         "locationmode": "USA-states",
         "lon": [
          -73.9769,
          -73.9532
         ],
         "mode": "lines",
         "type": "scattergeo"
        },
        {
         "lat": [
          40.7726,
          40.7898
         ],
         "line": {
          "color": "red",
          "width": 1
         },
         "locationmode": "USA-states",
         "lon": [
          -73.9532,
          -73.9661
         ],
         "mode": "lines",
         "type": "scattergeo"
        },
        {
         "lat": [
          40.7898,
          40.7839
         ],
         "line": {
          "color": "red",
          "width": 1
         },
         "locationmode": "USA-states",
         "lon": [
          -73.9661,
          -73.9703
         ],
         "mode": "lines",
         "type": "scattergeo"
        },
        {
         "lat": [
          40.7839,
          40.7236
         ],
         "line": {
          "color": "red",
          "width": 1
         },
         "locationmode": "USA-states",
         "lon": [
          -73.9703,
          -74.0016
         ],
         "mode": "lines",
         "type": "scattergeo"
        },
        {
         "lat": [
          40.7236,
          40.699
         ],
         "line": {
          "color": "red",
          "width": 1
         },
         "locationmode": "USA-states",
         "lon": [
          -74.0016,
          -73.9951
         ],
         "mode": "lines",
         "type": "scattergeo"
        }
       ],
       "layout": {
        "geo": {
         "countrycolor": "rgb(204, 204, 204)",
         "landcolor": "rgb(243, 243, 243)",
         "projection": {
          "type": "azimuthal equal area"
         },
         "scope": "north america",
         "showland": true
        },
        "showlegend": false,
        "title": "Feb. 2011 American Airline flight paths<br>(Hover for airport names)"
       }
      },
      "text/html": [
       "<div id=\"2002733f-28da-4b5e-a47b-3a216f4b7037\" style=\"height: 525px; width: 100%;\" class=\"plotly-graph-div\"></div><script type=\"text/javascript\">require([\"plotly\"], function(Plotly) { window.PLOTLYENV=window.PLOTLYENV || {};window.PLOTLYENV.BASE_URL=\"https://plot.ly\";Plotly.newPlot(\"2002733f-28da-4b5e-a47b-3a216f4b7037\", [{\"type\": \"scattergeo\", \"locationmode\": \"USA-states\", \"lon\": [-73.9549, -74.0345], \"lat\": [40.769, 40.7267], \"mode\": \"lines\", \"line\": {\"width\": 1, \"color\": \"red\"}}, {\"type\": \"scattergeo\", \"locationmode\": \"USA-states\", \"lon\": [-74.0345, -73.9873], \"lat\": [40.7267, 40.7316], \"mode\": \"lines\", \"line\": {\"width\": 1, \"color\": \"red\"}}, {\"type\": \"scattergeo\", \"locationmode\": \"USA-states\", \"lon\": [-73.9873, -73.9776], \"lat\": [40.7316, 40.7588], \"mode\": \"lines\", \"line\": {\"width\": 1, \"color\": \"red\"}}, {\"type\": \"scattergeo\", \"locationmode\": \"USA-states\", \"lon\": [-73.9776, -73.9722], \"lat\": [40.7588, 40.7594], \"mode\": \"lines\", \"line\": {\"width\": 1, \"color\": \"red\"}}, {\"type\": \"scattergeo\", \"locationmode\": \"USA-states\", \"lon\": [-73.9722, -74.0403], \"lat\": [40.7594, 40.7383], \"mode\": \"lines\", \"line\": {\"width\": 1, \"color\": \"red\"}}, {\"type\": \"scattergeo\", \"locationmode\": \"USA-states\", \"lon\": [-74.0403, -73.9887], \"lat\": [40.7383, 40.7223], \"mode\": \"lines\", \"line\": {\"width\": 1, \"color\": \"red\"}}, {\"type\": \"scattergeo\", \"locationmode\": \"USA-states\", \"lon\": [-73.9887, -73.979], \"lat\": [40.7223, 40.762], \"mode\": \"lines\", \"line\": {\"width\": 1, \"color\": \"red\"}}, {\"type\": \"scattergeo\", \"locationmode\": \"USA-states\", \"lon\": [-73.979, -73.99600000000001], \"lat\": [40.762, 40.7524], \"mode\": \"lines\", \"line\": {\"width\": 1, \"color\": \"red\"}}, {\"type\": \"scattergeo\", \"locationmode\": \"USA-states\", \"lon\": [-73.99600000000001, -73.9846], \"lat\": [40.7524, 40.7575], \"mode\": \"lines\", \"line\": {\"width\": 1, \"color\": \"red\"}}, {\"type\": \"scattergeo\", \"locationmode\": \"USA-states\", \"lon\": [-73.9846, -73.9869], \"lat\": [40.7575, 40.7256], \"mode\": \"lines\", \"line\": {\"width\": 1, \"color\": \"red\"}}, {\"type\": \"scattergeo\", \"locationmode\": \"USA-states\", \"lon\": [-73.9869, -73.9684], \"lat\": [40.7256, 40.7591], \"mode\": \"lines\", \"line\": {\"width\": 1, \"color\": \"red\"}}, {\"type\": \"scattergeo\", \"locationmode\": \"USA-states\", \"lon\": [-73.9684, -73.9803], \"lat\": [40.7591, 40.7271], \"mode\": \"lines\", \"line\": {\"width\": 1, \"color\": \"red\"}}, {\"type\": \"scattergeo\", \"locationmode\": \"USA-states\", \"lon\": [-73.9803, -73.7896], \"lat\": [40.7271, 40.6463], \"mode\": \"lines\", \"line\": {\"width\": 1, \"color\": \"red\"}}, {\"type\": \"scattergeo\", \"locationmode\": \"USA-states\", \"lon\": [-73.7896, -73.9167], \"lat\": [40.6463, 40.7564], \"mode\": \"lines\", \"line\": {\"width\": 1, \"color\": \"red\"}}, {\"type\": \"scattergeo\", \"locationmode\": \"USA-states\", \"lon\": [-73.9167, -73.9531], \"lat\": [40.7564, 40.7666], \"mode\": \"lines\", \"line\": {\"width\": 1, \"color\": \"red\"}}, {\"type\": \"scattergeo\", \"locationmode\": \"USA-states\", \"lon\": [-73.9531, -73.9761], \"lat\": [40.7666, 40.758], \"mode\": \"lines\", \"line\": {\"width\": 1, \"color\": \"red\"}}, {\"type\": \"scattergeo\", \"locationmode\": \"USA-states\", \"lon\": [-73.9761, -73.9821], \"lat\": [40.758, 40.7238], \"mode\": \"lines\", \"line\": {\"width\": 1, \"color\": \"red\"}}, {\"type\": \"scattergeo\", \"locationmode\": \"USA-states\", \"lon\": [-73.9821, -74.0039], \"lat\": [40.7238, 40.7531], \"mode\": \"lines\", \"line\": {\"width\": 1, \"color\": \"red\"}}, {\"type\": \"scattergeo\", \"locationmode\": \"USA-states\", \"lon\": [-74.0039, -74.0393], \"lat\": [40.7531, 40.7389], \"mode\": \"lines\", \"line\": {\"width\": 1, \"color\": \"red\"}}, {\"type\": \"scattergeo\", \"locationmode\": \"USA-states\", \"lon\": [-74.0393, -73.9715], \"lat\": [40.7389, 40.7619], \"mode\": \"lines\", \"line\": {\"width\": 1, \"color\": \"red\"}}, {\"type\": \"scattergeo\", \"locationmode\": \"USA-states\", \"lon\": [-73.9715, -74.0042], \"lat\": [40.7619, 40.753], \"mode\": \"lines\", \"line\": {\"width\": 1, \"color\": \"red\"}}, {\"type\": \"scattergeo\", \"locationmode\": \"USA-states\", \"lon\": [-74.0042, -73.9531], \"lat\": [40.753, 40.6561], \"mode\": \"lines\", \"line\": {\"width\": 1, \"color\": \"red\"}}, {\"type\": \"scattergeo\", \"locationmode\": \"USA-states\", \"lon\": [-73.9531, -73.9844], \"lat\": [40.6561, 40.725], \"mode\": \"lines\", \"line\": {\"width\": 1, \"color\": \"red\"}}, {\"type\": \"scattergeo\", \"locationmode\": \"USA-states\", \"lon\": [-73.9844, -74.1783], \"lat\": [40.725, 40.695], \"mode\": \"lines\", \"line\": {\"width\": 1, \"color\": \"red\"}}, {\"type\": \"scattergeo\", \"locationmode\": \"USA-states\", \"lon\": [-74.1783, -74.1578], \"lat\": [40.695, 40.9859], \"mode\": \"lines\", \"line\": {\"width\": 1, \"color\": \"red\"}}, {\"type\": \"scattergeo\", \"locationmode\": \"USA-states\", \"lon\": [-74.1578, -74.1814], \"lat\": [40.9859, 40.6879], \"mode\": \"lines\", \"line\": {\"width\": 1, \"color\": \"red\"}}, {\"type\": \"scattergeo\", \"locationmode\": \"USA-states\", \"lon\": [-74.1814, -74.1816], \"lat\": [40.6879, 40.6878], \"mode\": \"lines\", \"line\": {\"width\": 1, \"color\": \"red\"}}, {\"type\": \"scattergeo\", \"locationmode\": \"USA-states\", \"lon\": [-74.1816, -73.9974], \"lat\": [40.6878, 40.7234], \"mode\": \"lines\", \"line\": {\"width\": 1, \"color\": \"red\"}}, {\"type\": \"scattergeo\", \"locationmode\": \"USA-states\", \"lon\": [-73.9974, -73.99], \"lat\": [40.7234, 40.7336], \"mode\": \"lines\", \"line\": {\"width\": 1, \"color\": \"red\"}}, {\"type\": \"scattergeo\", \"locationmode\": \"USA-states\", \"lon\": [-73.99, -74.0094], \"lat\": [40.7336, 40.7141], \"mode\": \"lines\", \"line\": {\"width\": 1, \"color\": \"red\"}}, {\"type\": \"scattergeo\", \"locationmode\": \"USA-states\", \"lon\": [-74.0094, -73.9709], \"lat\": [40.7141, 40.7893], \"mode\": \"lines\", \"line\": {\"width\": 1, \"color\": \"red\"}}, {\"type\": \"scattergeo\", \"locationmode\": \"USA-states\", \"lon\": [-73.9709, -73.991], \"lat\": [40.7893, 40.7747], \"mode\": \"lines\", \"line\": {\"width\": 1, \"color\": \"red\"}}, {\"type\": \"scattergeo\", \"locationmode\": \"USA-states\", \"lon\": [-73.991, -73.9876], \"lat\": [40.7747, 40.7689], \"mode\": \"lines\", \"line\": {\"width\": 1, \"color\": \"red\"}}, {\"type\": \"scattergeo\", \"locationmode\": \"USA-states\", \"lon\": [-73.9876, -74.0149], \"lat\": [40.7689, 40.7744], \"mode\": \"lines\", \"line\": {\"width\": 1, \"color\": \"red\"}}, {\"type\": \"scattergeo\", \"locationmode\": \"USA-states\", \"lon\": [-74.0149, -73.9974], \"lat\": [40.7744, 40.7393], \"mode\": \"lines\", \"line\": {\"width\": 1, \"color\": \"red\"}}, {\"type\": \"scattergeo\", \"locationmode\": \"USA-states\", \"lon\": [-73.9974, -73.9752], \"lat\": [40.7393, 40.7776], \"mode\": \"lines\", \"line\": {\"width\": 1, \"color\": \"red\"}}, {\"type\": \"scattergeo\", \"locationmode\": \"USA-states\", \"lon\": [-73.9752, -73.7829], \"lat\": [40.7776, 40.6483], \"mode\": \"lines\", \"line\": {\"width\": 1, \"color\": \"red\"}}, {\"type\": \"scattergeo\", \"locationmode\": \"USA-states\", \"lon\": [-73.7829, -74.1782], \"lat\": [40.6483, 40.6907], \"mode\": \"lines\", \"line\": {\"width\": 1, \"color\": \"red\"}}, {\"type\": \"scattergeo\", \"locationmode\": \"USA-states\", \"lon\": [-74.1782, -73.9875], \"lat\": [40.6907, 40.7217], \"mode\": \"lines\", \"line\": {\"width\": 1, \"color\": \"red\"}}, {\"type\": \"scattergeo\", \"locationmode\": \"USA-states\", \"lon\": [-73.9875, -73.9632], \"lat\": [40.7217, 40.7651], \"mode\": \"lines\", \"line\": {\"width\": 1, \"color\": \"red\"}}, {\"type\": \"scattergeo\", \"locationmode\": \"USA-states\", \"lon\": [-73.9632, -73.9985], \"lat\": [40.7651, 40.7437], \"mode\": \"lines\", \"line\": {\"width\": 1, \"color\": \"red\"}}, {\"type\": \"scattergeo\", \"locationmode\": \"USA-states\", \"lon\": [-73.9985, -73.97800000000001], \"lat\": [40.7437, 40.7605], \"mode\": \"lines\", \"line\": {\"width\": 1, \"color\": \"red\"}}, {\"type\": \"scattergeo\", \"locationmode\": \"USA-states\", \"lon\": [-73.97800000000001, -74.0301], \"lat\": [40.7605, 40.743], \"mode\": \"lines\", \"line\": {\"width\": 1, \"color\": \"red\"}}, {\"type\": \"scattergeo\", \"locationmode\": \"USA-states\", \"lon\": [-74.0301, -74.0301], \"lat\": [40.743, 40.743], \"mode\": \"lines\", \"line\": {\"width\": 1, \"color\": \"red\"}}, {\"type\": \"scattergeo\", \"locationmode\": \"USA-states\", \"lon\": [-74.0301, -74.0371], \"lat\": [40.743, 40.7423], \"mode\": \"lines\", \"line\": {\"width\": 1, \"color\": \"red\"}}, {\"type\": \"scattergeo\", \"locationmode\": \"USA-states\", \"lon\": [-74.0371, -74.0037], \"lat\": [40.7423, 40.7236], \"mode\": \"lines\", \"line\": {\"width\": 1, \"color\": \"red\"}}, {\"type\": \"scattergeo\", \"locationmode\": \"USA-states\", \"lon\": [-74.0037, -73.9527], \"lat\": [40.7236, 40.7723], \"mode\": \"lines\", \"line\": {\"width\": 1, \"color\": \"red\"}}, {\"type\": \"scattergeo\", \"locationmode\": \"USA-states\", \"lon\": [-73.9527, -73.9862], \"lat\": [40.7723, 40.7574], \"mode\": \"lines\", \"line\": {\"width\": 1, \"color\": \"red\"}}, {\"type\": \"scattergeo\", \"locationmode\": \"USA-states\", \"lon\": [-73.9862, -73.9504], \"lat\": [40.7574, 40.7838], \"mode\": \"lines\", \"line\": {\"width\": 1, \"color\": \"red\"}}, {\"type\": \"scattergeo\", \"locationmode\": \"USA-states\", \"lon\": [-73.9504, -73.9871], \"lat\": [40.7838, 40.7711], \"mode\": \"lines\", \"line\": {\"width\": 1, \"color\": \"red\"}}, {\"type\": \"scattergeo\", \"locationmode\": \"USA-states\", \"lon\": [-73.9871, -73.9726], \"lat\": [40.7711, 40.7571], \"mode\": \"lines\", \"line\": {\"width\": 1, \"color\": \"red\"}}, {\"type\": \"scattergeo\", \"locationmode\": \"USA-states\", \"lon\": [-73.9726, -73.9854], \"lat\": [40.7571, 40.7442], \"mode\": \"lines\", \"line\": {\"width\": 1, \"color\": \"red\"}}, {\"type\": \"scattergeo\", \"locationmode\": \"USA-states\", \"lon\": [-73.9854, -74.0144], \"lat\": [40.7442, 40.7166], \"mode\": \"lines\", \"line\": {\"width\": 1, \"color\": \"red\"}}, {\"type\": \"scattergeo\", \"locationmode\": \"USA-states\", \"lon\": [-74.0144, -73.9703], \"lat\": [40.7166, 40.7507], \"mode\": \"lines\", \"line\": {\"width\": 1, \"color\": \"red\"}}, {\"type\": \"scattergeo\", \"locationmode\": \"USA-states\", \"lon\": [-73.9703, -73.9979], \"lat\": [40.7507, 40.7337], \"mode\": \"lines\", \"line\": {\"width\": 1, \"color\": \"red\"}}, {\"type\": \"scattergeo\", \"locationmode\": \"USA-states\", \"lon\": [-73.9979, -74.0111], \"lat\": [40.7337, 40.7236], \"mode\": \"lines\", \"line\": {\"width\": 1, \"color\": \"red\"}}, {\"type\": \"scattergeo\", \"locationmode\": \"USA-states\", \"lon\": [-74.0111, -74.0464], \"lat\": [40.7236, 40.7151], \"mode\": \"lines\", \"line\": {\"width\": 1, \"color\": \"red\"}}, {\"type\": \"scattergeo\", \"locationmode\": \"USA-states\", \"lon\": [-74.0464, -73.9588], \"lat\": [40.7151, 40.7701], \"mode\": \"lines\", \"line\": {\"width\": 1, \"color\": \"red\"}}, {\"type\": \"scattergeo\", \"locationmode\": \"USA-states\", \"lon\": [-73.9588, -73.9142], \"lat\": [40.7701, 40.86], \"mode\": \"lines\", \"line\": {\"width\": 1, \"color\": \"red\"}}, {\"type\": \"scattergeo\", \"locationmode\": \"USA-states\", \"lon\": [-73.9142, -73.9729], \"lat\": [40.86, 40.7555], \"mode\": \"lines\", \"line\": {\"width\": 1, \"color\": \"red\"}}, {\"type\": \"scattergeo\", \"locationmode\": \"USA-states\", \"lon\": [-73.9729, -74.0355], \"lat\": [40.7555, 40.7249], \"mode\": \"lines\", \"line\": {\"width\": 1, \"color\": \"red\"}}, {\"type\": \"scattergeo\", \"locationmode\": \"USA-states\", \"lon\": [-74.0355, -74.157], \"lat\": [40.7249, 40.6193], \"mode\": \"lines\", \"line\": {\"width\": 1, \"color\": \"red\"}}, {\"type\": \"scattergeo\", \"locationmode\": \"USA-states\", \"lon\": [-74.157, -73.97800000000001], \"lat\": [40.6193, 40.7753], \"mode\": \"lines\", \"line\": {\"width\": 1, \"color\": \"red\"}}, {\"type\": \"scattergeo\", \"locationmode\": \"USA-states\", \"lon\": [-73.97800000000001, -73.9545], \"lat\": [40.7753, 40.7204], \"mode\": \"lines\", \"line\": {\"width\": 1, \"color\": \"red\"}}, {\"type\": \"scattergeo\", \"locationmode\": \"USA-states\", \"lon\": [-73.9545, -73.9595], \"lat\": [40.7204, 40.7772], \"mode\": \"lines\", \"line\": {\"width\": 1, \"color\": \"red\"}}, {\"type\": \"scattergeo\", \"locationmode\": \"USA-states\", \"lon\": [-73.9595, -74.082], \"lat\": [40.7772, 40.7651], \"mode\": \"lines\", \"line\": {\"width\": 1, \"color\": \"red\"}}, {\"type\": \"scattergeo\", \"locationmode\": \"USA-states\", \"lon\": [-74.082, -73.9879], \"lat\": [40.7651, 40.74], \"mode\": \"lines\", \"line\": {\"width\": 1, \"color\": \"red\"}}, {\"type\": \"scattergeo\", \"locationmode\": \"USA-states\", \"lon\": [-73.9879, -73.9568], \"lat\": [40.74, 40.7741], \"mode\": \"lines\", \"line\": {\"width\": 1, \"color\": \"red\"}}, {\"type\": \"scattergeo\", \"locationmode\": \"USA-states\", \"lon\": [-73.9568, -73.9944], \"lat\": [40.7741, 40.7599], \"mode\": \"lines\", \"line\": {\"width\": 1, \"color\": \"red\"}}, {\"type\": \"scattergeo\", \"locationmode\": \"USA-states\", \"lon\": [-73.9944, -74.0039], \"lat\": [40.7599, 40.7531], \"mode\": \"lines\", \"line\": {\"width\": 1, \"color\": \"red\"}}, {\"type\": \"scattergeo\", \"locationmode\": \"USA-states\", \"lon\": [-74.0039, -73.9623], \"lat\": [40.7531, 40.7791], \"mode\": \"lines\", \"line\": {\"width\": 1, \"color\": \"red\"}}, {\"type\": \"scattergeo\", \"locationmode\": \"USA-states\", \"lon\": [-73.9623, -74.0033], \"lat\": [40.7791, 40.7382], \"mode\": \"lines\", \"line\": {\"width\": 1, \"color\": \"red\"}}, {\"type\": \"scattergeo\", \"locationmode\": \"USA-states\", \"lon\": [-74.0033, -73.9989], \"lat\": [40.7382, 40.7391], \"mode\": \"lines\", \"line\": {\"width\": 1, \"color\": \"red\"}}, {\"type\": \"scattergeo\", \"locationmode\": \"USA-states\", \"lon\": [-73.9989, -73.982], \"lat\": [40.7391, 40.7806], \"mode\": \"lines\", \"line\": {\"width\": 1, \"color\": \"red\"}}, {\"type\": \"scattergeo\", \"locationmode\": \"USA-states\", \"lon\": [-73.982, -73.9863], \"lat\": [40.7806, 40.7322], \"mode\": \"lines\", \"line\": {\"width\": 1, \"color\": \"red\"}}, {\"type\": \"scattergeo\", \"locationmode\": \"USA-states\", \"lon\": [-73.9863, -73.96600000000001], \"lat\": [40.7322, 40.7703], \"mode\": \"lines\", \"line\": {\"width\": 1, \"color\": \"red\"}}, {\"type\": \"scattergeo\", \"locationmode\": \"USA-states\", \"lon\": [-73.96600000000001, -74.0018], \"lat\": [40.7703, 40.7221], \"mode\": \"lines\", \"line\": {\"width\": 1, \"color\": \"red\"}}, {\"type\": \"scattergeo\", \"locationmode\": \"USA-states\", \"lon\": [-74.0018, -73.9895], \"lat\": [40.7221, 40.7588], \"mode\": \"lines\", \"line\": {\"width\": 1, \"color\": \"red\"}}, {\"type\": \"scattergeo\", \"locationmode\": \"USA-states\", \"lon\": [-73.9895, -73.9656], \"lat\": [40.7588, 40.7677], \"mode\": \"lines\", \"line\": {\"width\": 1, \"color\": \"red\"}}, {\"type\": \"scattergeo\", \"locationmode\": \"USA-states\", \"lon\": [-73.9656, -74.0076], \"lat\": [40.7677, 40.7404], \"mode\": \"lines\", \"line\": {\"width\": 1, \"color\": \"red\"}}, {\"type\": \"scattergeo\", \"locationmode\": \"USA-states\", \"lon\": [-74.0076, -73.9599], \"lat\": [40.7404, 40.7679], \"mode\": \"lines\", \"line\": {\"width\": 1, \"color\": \"red\"}}, {\"type\": \"scattergeo\", \"locationmode\": \"USA-states\", \"lon\": [-73.9599, -73.9852], \"lat\": [40.7679, 40.7694], \"mode\": \"lines\", \"line\": {\"width\": 1, \"color\": \"red\"}}, {\"type\": \"scattergeo\", \"locationmode\": \"USA-states\", \"lon\": [-73.9852, -73.9546], \"lat\": [40.7694, 40.7858], \"mode\": \"lines\", \"line\": {\"width\": 1, \"color\": \"red\"}}, {\"type\": \"scattergeo\", \"locationmode\": \"USA-states\", \"lon\": [-73.9546, -73.9491], \"lat\": [40.7858, 40.7742], \"mode\": \"lines\", \"line\": {\"width\": 1, \"color\": \"red\"}}, {\"type\": \"scattergeo\", \"locationmode\": \"USA-states\", \"lon\": [-73.9491, -73.95], \"lat\": [40.7742, 40.7703], \"mode\": \"lines\", \"line\": {\"width\": 1, \"color\": \"red\"}}, {\"type\": \"scattergeo\", \"locationmode\": \"USA-states\", \"lon\": [-73.95, -73.9997], \"lat\": [40.7703, 40.7614], \"mode\": \"lines\", \"line\": {\"width\": 1, \"color\": \"red\"}}, {\"type\": \"scattergeo\", \"locationmode\": \"USA-states\", \"lon\": [-73.9997, -73.9749], \"lat\": [40.7614, 40.793], \"mode\": \"lines\", \"line\": {\"width\": 1, \"color\": \"red\"}}, {\"type\": \"scattergeo\", \"locationmode\": \"USA-states\", \"lon\": [-73.9749, -73.9442], \"lat\": [40.793, 40.7231], \"mode\": \"lines\", \"line\": {\"width\": 1, \"color\": \"red\"}}, {\"type\": \"scattergeo\", \"locationmode\": \"USA-states\", \"lon\": [-73.9442, -73.9545], \"lat\": [40.7231, 40.7874], \"mode\": \"lines\", \"line\": {\"width\": 1, \"color\": \"red\"}}, {\"type\": \"scattergeo\", \"locationmode\": \"USA-states\", \"lon\": [-73.9545, -73.9812], \"lat\": [40.7874, 40.7689], \"mode\": \"lines\", \"line\": {\"width\": 1, \"color\": \"red\"}}, {\"type\": \"scattergeo\", \"locationmode\": \"USA-states\", \"lon\": [-73.9812, -73.9557], \"lat\": [40.7689, 40.7789], \"mode\": \"lines\", \"line\": {\"width\": 1, \"color\": \"red\"}}, {\"type\": \"scattergeo\", \"locationmode\": \"USA-states\", \"lon\": [-73.9557, -74.0054], \"lat\": [40.7789, 40.7271], \"mode\": \"lines\", \"line\": {\"width\": 1, \"color\": \"red\"}}, {\"type\": \"scattergeo\", \"locationmode\": \"USA-states\", \"lon\": [-74.0054, -73.973], \"lat\": [40.7271, 40.7877], \"mode\": \"lines\", \"line\": {\"width\": 1, \"color\": \"red\"}}, {\"type\": \"scattergeo\", \"locationmode\": \"USA-states\", \"lon\": [-73.973, -74.0092], \"lat\": [40.7877, 40.7255], \"mode\": \"lines\", \"line\": {\"width\": 1, \"color\": \"red\"}}, {\"type\": \"scattergeo\", \"locationmode\": \"USA-states\", \"lon\": [-74.0092, -73.9723], \"lat\": [40.7255, 40.7653], \"mode\": \"lines\", \"line\": {\"width\": 1, \"color\": \"red\"}}, {\"type\": \"scattergeo\", \"locationmode\": \"USA-states\", \"lon\": [-73.9723, -73.9769], \"lat\": [40.7653, 40.7644], \"mode\": \"lines\", \"line\": {\"width\": 1, \"color\": \"red\"}}, {\"type\": \"scattergeo\", \"locationmode\": \"USA-states\", \"lon\": [-73.9769, -73.9532], \"lat\": [40.7644, 40.7726], \"mode\": \"lines\", \"line\": {\"width\": 1, \"color\": \"red\"}}, {\"type\": \"scattergeo\", \"locationmode\": \"USA-states\", \"lon\": [-73.9532, -73.9661], \"lat\": [40.7726, 40.7898], \"mode\": \"lines\", \"line\": {\"width\": 1, \"color\": \"red\"}}, {\"type\": \"scattergeo\", \"locationmode\": \"USA-states\", \"lon\": [-73.9661, -73.9703], \"lat\": [40.7898, 40.7839], \"mode\": \"lines\", \"line\": {\"width\": 1, \"color\": \"red\"}}, {\"type\": \"scattergeo\", \"locationmode\": \"USA-states\", \"lon\": [-73.9703, -74.0016], \"lat\": [40.7839, 40.7236], \"mode\": \"lines\", \"line\": {\"width\": 1, \"color\": \"red\"}}, {\"type\": \"scattergeo\", \"locationmode\": \"USA-states\", \"lon\": [-74.0016, -73.9951], \"lat\": [40.7236, 40.699], \"mode\": \"lines\", \"line\": {\"width\": 1, \"color\": \"red\"}}], {\"title\": \"Feb. 2011 American Airline flight paths<br>(Hover for airport names)\", \"showlegend\": false, \"geo\": {\"scope\": \"north america\", \"projection\": {\"type\": \"azimuthal equal area\"}, \"showland\": true, \"landcolor\": \"rgb(243, 243, 243)\", \"countrycolor\": \"rgb(204, 204, 204)\"}}, {\"showLink\": true, \"linkText\": \"Export to plot.ly\"})});</script>"
      ],
      "text/vnd.plotly.v1+html": [
       "<div id=\"2002733f-28da-4b5e-a47b-3a216f4b7037\" style=\"height: 525px; width: 100%;\" class=\"plotly-graph-div\"></div><script type=\"text/javascript\">require([\"plotly\"], function(Plotly) { window.PLOTLYENV=window.PLOTLYENV || {};window.PLOTLYENV.BASE_URL=\"https://plot.ly\";Plotly.newPlot(\"2002733f-28da-4b5e-a47b-3a216f4b7037\", [{\"type\": \"scattergeo\", \"locationmode\": \"USA-states\", \"lon\": [-73.9549, -74.0345], \"lat\": [40.769, 40.7267], \"mode\": \"lines\", \"line\": {\"width\": 1, \"color\": \"red\"}}, {\"type\": \"scattergeo\", \"locationmode\": \"USA-states\", \"lon\": [-74.0345, -73.9873], \"lat\": [40.7267, 40.7316], \"mode\": \"lines\", \"line\": {\"width\": 1, \"color\": \"red\"}}, {\"type\": \"scattergeo\", \"locationmode\": \"USA-states\", \"lon\": [-73.9873, -73.9776], \"lat\": [40.7316, 40.7588], \"mode\": \"lines\", \"line\": {\"width\": 1, \"color\": \"red\"}}, {\"type\": \"scattergeo\", \"locationmode\": \"USA-states\", \"lon\": [-73.9776, -73.9722], \"lat\": [40.7588, 40.7594], \"mode\": \"lines\", \"line\": {\"width\": 1, \"color\": \"red\"}}, {\"type\": \"scattergeo\", \"locationmode\": \"USA-states\", \"lon\": [-73.9722, -74.0403], \"lat\": [40.7594, 40.7383], \"mode\": \"lines\", \"line\": {\"width\": 1, \"color\": \"red\"}}, {\"type\": \"scattergeo\", \"locationmode\": \"USA-states\", \"lon\": [-74.0403, -73.9887], \"lat\": [40.7383, 40.7223], \"mode\": \"lines\", \"line\": {\"width\": 1, \"color\": \"red\"}}, {\"type\": \"scattergeo\", \"locationmode\": \"USA-states\", \"lon\": [-73.9887, -73.979], \"lat\": [40.7223, 40.762], \"mode\": \"lines\", \"line\": {\"width\": 1, \"color\": \"red\"}}, {\"type\": \"scattergeo\", \"locationmode\": \"USA-states\", \"lon\": [-73.979, -73.99600000000001], \"lat\": [40.762, 40.7524], \"mode\": \"lines\", \"line\": {\"width\": 1, \"color\": \"red\"}}, {\"type\": \"scattergeo\", \"locationmode\": \"USA-states\", \"lon\": [-73.99600000000001, -73.9846], \"lat\": [40.7524, 40.7575], \"mode\": \"lines\", \"line\": {\"width\": 1, \"color\": \"red\"}}, {\"type\": \"scattergeo\", \"locationmode\": \"USA-states\", \"lon\": [-73.9846, -73.9869], \"lat\": [40.7575, 40.7256], \"mode\": \"lines\", \"line\": {\"width\": 1, \"color\": \"red\"}}, {\"type\": \"scattergeo\", \"locationmode\": \"USA-states\", \"lon\": [-73.9869, -73.9684], \"lat\": [40.7256, 40.7591], \"mode\": \"lines\", \"line\": {\"width\": 1, \"color\": \"red\"}}, {\"type\": \"scattergeo\", \"locationmode\": \"USA-states\", \"lon\": [-73.9684, -73.9803], \"lat\": [40.7591, 40.7271], \"mode\": \"lines\", \"line\": {\"width\": 1, \"color\": \"red\"}}, {\"type\": \"scattergeo\", \"locationmode\": \"USA-states\", \"lon\": [-73.9803, -73.7896], \"lat\": [40.7271, 40.6463], \"mode\": \"lines\", \"line\": {\"width\": 1, \"color\": \"red\"}}, {\"type\": \"scattergeo\", \"locationmode\": \"USA-states\", \"lon\": [-73.7896, -73.9167], \"lat\": [40.6463, 40.7564], \"mode\": \"lines\", \"line\": {\"width\": 1, \"color\": \"red\"}}, {\"type\": \"scattergeo\", \"locationmode\": \"USA-states\", \"lon\": [-73.9167, -73.9531], \"lat\": [40.7564, 40.7666], \"mode\": \"lines\", \"line\": {\"width\": 1, \"color\": \"red\"}}, {\"type\": \"scattergeo\", \"locationmode\": \"USA-states\", \"lon\": [-73.9531, -73.9761], \"lat\": [40.7666, 40.758], \"mode\": \"lines\", \"line\": {\"width\": 1, \"color\": \"red\"}}, {\"type\": \"scattergeo\", \"locationmode\": \"USA-states\", \"lon\": [-73.9761, -73.9821], \"lat\": [40.758, 40.7238], \"mode\": \"lines\", \"line\": {\"width\": 1, \"color\": \"red\"}}, {\"type\": \"scattergeo\", \"locationmode\": \"USA-states\", \"lon\": [-73.9821, -74.0039], \"lat\": [40.7238, 40.7531], \"mode\": \"lines\", \"line\": {\"width\": 1, \"color\": \"red\"}}, {\"type\": \"scattergeo\", \"locationmode\": \"USA-states\", \"lon\": [-74.0039, -74.0393], \"lat\": [40.7531, 40.7389], \"mode\": \"lines\", \"line\": {\"width\": 1, \"color\": \"red\"}}, {\"type\": \"scattergeo\", \"locationmode\": \"USA-states\", \"lon\": [-74.0393, -73.9715], \"lat\": [40.7389, 40.7619], \"mode\": \"lines\", \"line\": {\"width\": 1, \"color\": \"red\"}}, {\"type\": \"scattergeo\", \"locationmode\": \"USA-states\", \"lon\": [-73.9715, -74.0042], \"lat\": [40.7619, 40.753], \"mode\": \"lines\", \"line\": {\"width\": 1, \"color\": \"red\"}}, {\"type\": \"scattergeo\", \"locationmode\": \"USA-states\", \"lon\": [-74.0042, -73.9531], \"lat\": [40.753, 40.6561], \"mode\": \"lines\", \"line\": {\"width\": 1, \"color\": \"red\"}}, {\"type\": \"scattergeo\", \"locationmode\": \"USA-states\", \"lon\": [-73.9531, -73.9844], \"lat\": [40.6561, 40.725], \"mode\": \"lines\", \"line\": {\"width\": 1, \"color\": \"red\"}}, {\"type\": \"scattergeo\", \"locationmode\": \"USA-states\", \"lon\": [-73.9844, -74.1783], \"lat\": [40.725, 40.695], \"mode\": \"lines\", \"line\": {\"width\": 1, \"color\": \"red\"}}, {\"type\": \"scattergeo\", \"locationmode\": \"USA-states\", \"lon\": [-74.1783, -74.1578], \"lat\": [40.695, 40.9859], \"mode\": \"lines\", \"line\": {\"width\": 1, \"color\": \"red\"}}, {\"type\": \"scattergeo\", \"locationmode\": \"USA-states\", \"lon\": [-74.1578, -74.1814], \"lat\": [40.9859, 40.6879], \"mode\": \"lines\", \"line\": {\"width\": 1, \"color\": \"red\"}}, {\"type\": \"scattergeo\", \"locationmode\": \"USA-states\", \"lon\": [-74.1814, -74.1816], \"lat\": [40.6879, 40.6878], \"mode\": \"lines\", \"line\": {\"width\": 1, \"color\": \"red\"}}, {\"type\": \"scattergeo\", \"locationmode\": \"USA-states\", \"lon\": [-74.1816, -73.9974], \"lat\": [40.6878, 40.7234], \"mode\": \"lines\", \"line\": {\"width\": 1, \"color\": \"red\"}}, {\"type\": \"scattergeo\", \"locationmode\": \"USA-states\", \"lon\": [-73.9974, -73.99], \"lat\": [40.7234, 40.7336], \"mode\": \"lines\", \"line\": {\"width\": 1, \"color\": \"red\"}}, {\"type\": \"scattergeo\", \"locationmode\": \"USA-states\", \"lon\": [-73.99, -74.0094], \"lat\": [40.7336, 40.7141], \"mode\": \"lines\", \"line\": {\"width\": 1, \"color\": \"red\"}}, {\"type\": \"scattergeo\", \"locationmode\": \"USA-states\", \"lon\": [-74.0094, -73.9709], \"lat\": [40.7141, 40.7893], \"mode\": \"lines\", \"line\": {\"width\": 1, \"color\": \"red\"}}, {\"type\": \"scattergeo\", \"locationmode\": \"USA-states\", \"lon\": [-73.9709, -73.991], \"lat\": [40.7893, 40.7747], \"mode\": \"lines\", \"line\": {\"width\": 1, \"color\": \"red\"}}, {\"type\": \"scattergeo\", \"locationmode\": \"USA-states\", \"lon\": [-73.991, -73.9876], \"lat\": [40.7747, 40.7689], \"mode\": \"lines\", \"line\": {\"width\": 1, \"color\": \"red\"}}, {\"type\": \"scattergeo\", \"locationmode\": \"USA-states\", \"lon\": [-73.9876, -74.0149], \"lat\": [40.7689, 40.7744], \"mode\": \"lines\", \"line\": {\"width\": 1, \"color\": \"red\"}}, {\"type\": \"scattergeo\", \"locationmode\": \"USA-states\", \"lon\": [-74.0149, -73.9974], \"lat\": [40.7744, 40.7393], \"mode\": \"lines\", \"line\": {\"width\": 1, \"color\": \"red\"}}, {\"type\": \"scattergeo\", \"locationmode\": \"USA-states\", \"lon\": [-73.9974, -73.9752], \"lat\": [40.7393, 40.7776], \"mode\": \"lines\", \"line\": {\"width\": 1, \"color\": \"red\"}}, {\"type\": \"scattergeo\", \"locationmode\": \"USA-states\", \"lon\": [-73.9752, -73.7829], \"lat\": [40.7776, 40.6483], \"mode\": \"lines\", \"line\": {\"width\": 1, \"color\": \"red\"}}, {\"type\": \"scattergeo\", \"locationmode\": \"USA-states\", \"lon\": [-73.7829, -74.1782], \"lat\": [40.6483, 40.6907], \"mode\": \"lines\", \"line\": {\"width\": 1, \"color\": \"red\"}}, {\"type\": \"scattergeo\", \"locationmode\": \"USA-states\", \"lon\": [-74.1782, -73.9875], \"lat\": [40.6907, 40.7217], \"mode\": \"lines\", \"line\": {\"width\": 1, \"color\": \"red\"}}, {\"type\": \"scattergeo\", \"locationmode\": \"USA-states\", \"lon\": [-73.9875, -73.9632], \"lat\": [40.7217, 40.7651], \"mode\": \"lines\", \"line\": {\"width\": 1, \"color\": \"red\"}}, {\"type\": \"scattergeo\", \"locationmode\": \"USA-states\", \"lon\": [-73.9632, -73.9985], \"lat\": [40.7651, 40.7437], \"mode\": \"lines\", \"line\": {\"width\": 1, \"color\": \"red\"}}, {\"type\": \"scattergeo\", \"locationmode\": \"USA-states\", \"lon\": [-73.9985, -73.97800000000001], \"lat\": [40.7437, 40.7605], \"mode\": \"lines\", \"line\": {\"width\": 1, \"color\": \"red\"}}, {\"type\": \"scattergeo\", \"locationmode\": \"USA-states\", \"lon\": [-73.97800000000001, -74.0301], \"lat\": [40.7605, 40.743], \"mode\": \"lines\", \"line\": {\"width\": 1, \"color\": \"red\"}}, {\"type\": \"scattergeo\", \"locationmode\": \"USA-states\", \"lon\": [-74.0301, -74.0301], \"lat\": [40.743, 40.743], \"mode\": \"lines\", \"line\": {\"width\": 1, \"color\": \"red\"}}, {\"type\": \"scattergeo\", \"locationmode\": \"USA-states\", \"lon\": [-74.0301, -74.0371], \"lat\": [40.743, 40.7423], \"mode\": \"lines\", \"line\": {\"width\": 1, \"color\": \"red\"}}, {\"type\": \"scattergeo\", \"locationmode\": \"USA-states\", \"lon\": [-74.0371, -74.0037], \"lat\": [40.7423, 40.7236], \"mode\": \"lines\", \"line\": {\"width\": 1, \"color\": \"red\"}}, {\"type\": \"scattergeo\", \"locationmode\": \"USA-states\", \"lon\": [-74.0037, -73.9527], \"lat\": [40.7236, 40.7723], \"mode\": \"lines\", \"line\": {\"width\": 1, \"color\": \"red\"}}, {\"type\": \"scattergeo\", \"locationmode\": \"USA-states\", \"lon\": [-73.9527, -73.9862], \"lat\": [40.7723, 40.7574], \"mode\": \"lines\", \"line\": {\"width\": 1, \"color\": \"red\"}}, {\"type\": \"scattergeo\", \"locationmode\": \"USA-states\", \"lon\": [-73.9862, -73.9504], \"lat\": [40.7574, 40.7838], \"mode\": \"lines\", \"line\": {\"width\": 1, \"color\": \"red\"}}, {\"type\": \"scattergeo\", \"locationmode\": \"USA-states\", \"lon\": [-73.9504, -73.9871], \"lat\": [40.7838, 40.7711], \"mode\": \"lines\", \"line\": {\"width\": 1, \"color\": \"red\"}}, {\"type\": \"scattergeo\", \"locationmode\": \"USA-states\", \"lon\": [-73.9871, -73.9726], \"lat\": [40.7711, 40.7571], \"mode\": \"lines\", \"line\": {\"width\": 1, \"color\": \"red\"}}, {\"type\": \"scattergeo\", \"locationmode\": \"USA-states\", \"lon\": [-73.9726, -73.9854], \"lat\": [40.7571, 40.7442], \"mode\": \"lines\", \"line\": {\"width\": 1, \"color\": \"red\"}}, {\"type\": \"scattergeo\", \"locationmode\": \"USA-states\", \"lon\": [-73.9854, -74.0144], \"lat\": [40.7442, 40.7166], \"mode\": \"lines\", \"line\": {\"width\": 1, \"color\": \"red\"}}, {\"type\": \"scattergeo\", \"locationmode\": \"USA-states\", \"lon\": [-74.0144, -73.9703], \"lat\": [40.7166, 40.7507], \"mode\": \"lines\", \"line\": {\"width\": 1, \"color\": \"red\"}}, {\"type\": \"scattergeo\", \"locationmode\": \"USA-states\", \"lon\": [-73.9703, -73.9979], \"lat\": [40.7507, 40.7337], \"mode\": \"lines\", \"line\": {\"width\": 1, \"color\": \"red\"}}, {\"type\": \"scattergeo\", \"locationmode\": \"USA-states\", \"lon\": [-73.9979, -74.0111], \"lat\": [40.7337, 40.7236], \"mode\": \"lines\", \"line\": {\"width\": 1, \"color\": \"red\"}}, {\"type\": \"scattergeo\", \"locationmode\": \"USA-states\", \"lon\": [-74.0111, -74.0464], \"lat\": [40.7236, 40.7151], \"mode\": \"lines\", \"line\": {\"width\": 1, \"color\": \"red\"}}, {\"type\": \"scattergeo\", \"locationmode\": \"USA-states\", \"lon\": [-74.0464, -73.9588], \"lat\": [40.7151, 40.7701], \"mode\": \"lines\", \"line\": {\"width\": 1, \"color\": \"red\"}}, {\"type\": \"scattergeo\", \"locationmode\": \"USA-states\", \"lon\": [-73.9588, -73.9142], \"lat\": [40.7701, 40.86], \"mode\": \"lines\", \"line\": {\"width\": 1, \"color\": \"red\"}}, {\"type\": \"scattergeo\", \"locationmode\": \"USA-states\", \"lon\": [-73.9142, -73.9729], \"lat\": [40.86, 40.7555], \"mode\": \"lines\", \"line\": {\"width\": 1, \"color\": \"red\"}}, {\"type\": \"scattergeo\", \"locationmode\": \"USA-states\", \"lon\": [-73.9729, -74.0355], \"lat\": [40.7555, 40.7249], \"mode\": \"lines\", \"line\": {\"width\": 1, \"color\": \"red\"}}, {\"type\": \"scattergeo\", \"locationmode\": \"USA-states\", \"lon\": [-74.0355, -74.157], \"lat\": [40.7249, 40.6193], \"mode\": \"lines\", \"line\": {\"width\": 1, \"color\": \"red\"}}, {\"type\": \"scattergeo\", \"locationmode\": \"USA-states\", \"lon\": [-74.157, -73.97800000000001], \"lat\": [40.6193, 40.7753], \"mode\": \"lines\", \"line\": {\"width\": 1, \"color\": \"red\"}}, {\"type\": \"scattergeo\", \"locationmode\": \"USA-states\", \"lon\": [-73.97800000000001, -73.9545], \"lat\": [40.7753, 40.7204], \"mode\": \"lines\", \"line\": {\"width\": 1, \"color\": \"red\"}}, {\"type\": \"scattergeo\", \"locationmode\": \"USA-states\", \"lon\": [-73.9545, -73.9595], \"lat\": [40.7204, 40.7772], \"mode\": \"lines\", \"line\": {\"width\": 1, \"color\": \"red\"}}, {\"type\": \"scattergeo\", \"locationmode\": \"USA-states\", \"lon\": [-73.9595, -74.082], \"lat\": [40.7772, 40.7651], \"mode\": \"lines\", \"line\": {\"width\": 1, \"color\": \"red\"}}, {\"type\": \"scattergeo\", \"locationmode\": \"USA-states\", \"lon\": [-74.082, -73.9879], \"lat\": [40.7651, 40.74], \"mode\": \"lines\", \"line\": {\"width\": 1, \"color\": \"red\"}}, {\"type\": \"scattergeo\", \"locationmode\": \"USA-states\", \"lon\": [-73.9879, -73.9568], \"lat\": [40.74, 40.7741], \"mode\": \"lines\", \"line\": {\"width\": 1, \"color\": \"red\"}}, {\"type\": \"scattergeo\", \"locationmode\": \"USA-states\", \"lon\": [-73.9568, -73.9944], \"lat\": [40.7741, 40.7599], \"mode\": \"lines\", \"line\": {\"width\": 1, \"color\": \"red\"}}, {\"type\": \"scattergeo\", \"locationmode\": \"USA-states\", \"lon\": [-73.9944, -74.0039], \"lat\": [40.7599, 40.7531], \"mode\": \"lines\", \"line\": {\"width\": 1, \"color\": \"red\"}}, {\"type\": \"scattergeo\", \"locationmode\": \"USA-states\", \"lon\": [-74.0039, -73.9623], \"lat\": [40.7531, 40.7791], \"mode\": \"lines\", \"line\": {\"width\": 1, \"color\": \"red\"}}, {\"type\": \"scattergeo\", \"locationmode\": \"USA-states\", \"lon\": [-73.9623, -74.0033], \"lat\": [40.7791, 40.7382], \"mode\": \"lines\", \"line\": {\"width\": 1, \"color\": \"red\"}}, {\"type\": \"scattergeo\", \"locationmode\": \"USA-states\", \"lon\": [-74.0033, -73.9989], \"lat\": [40.7382, 40.7391], \"mode\": \"lines\", \"line\": {\"width\": 1, \"color\": \"red\"}}, {\"type\": \"scattergeo\", \"locationmode\": \"USA-states\", \"lon\": [-73.9989, -73.982], \"lat\": [40.7391, 40.7806], \"mode\": \"lines\", \"line\": {\"width\": 1, \"color\": \"red\"}}, {\"type\": \"scattergeo\", \"locationmode\": \"USA-states\", \"lon\": [-73.982, -73.9863], \"lat\": [40.7806, 40.7322], \"mode\": \"lines\", \"line\": {\"width\": 1, \"color\": \"red\"}}, {\"type\": \"scattergeo\", \"locationmode\": \"USA-states\", \"lon\": [-73.9863, -73.96600000000001], \"lat\": [40.7322, 40.7703], \"mode\": \"lines\", \"line\": {\"width\": 1, \"color\": \"red\"}}, {\"type\": \"scattergeo\", \"locationmode\": \"USA-states\", \"lon\": [-73.96600000000001, -74.0018], \"lat\": [40.7703, 40.7221], \"mode\": \"lines\", \"line\": {\"width\": 1, \"color\": \"red\"}}, {\"type\": \"scattergeo\", \"locationmode\": \"USA-states\", \"lon\": [-74.0018, -73.9895], \"lat\": [40.7221, 40.7588], \"mode\": \"lines\", \"line\": {\"width\": 1, \"color\": \"red\"}}, {\"type\": \"scattergeo\", \"locationmode\": \"USA-states\", \"lon\": [-73.9895, -73.9656], \"lat\": [40.7588, 40.7677], \"mode\": \"lines\", \"line\": {\"width\": 1, \"color\": \"red\"}}, {\"type\": \"scattergeo\", \"locationmode\": \"USA-states\", \"lon\": [-73.9656, -74.0076], \"lat\": [40.7677, 40.7404], \"mode\": \"lines\", \"line\": {\"width\": 1, \"color\": \"red\"}}, {\"type\": \"scattergeo\", \"locationmode\": \"USA-states\", \"lon\": [-74.0076, -73.9599], \"lat\": [40.7404, 40.7679], \"mode\": \"lines\", \"line\": {\"width\": 1, \"color\": \"red\"}}, {\"type\": \"scattergeo\", \"locationmode\": \"USA-states\", \"lon\": [-73.9599, -73.9852], \"lat\": [40.7679, 40.7694], \"mode\": \"lines\", \"line\": {\"width\": 1, \"color\": \"red\"}}, {\"type\": \"scattergeo\", \"locationmode\": \"USA-states\", \"lon\": [-73.9852, -73.9546], \"lat\": [40.7694, 40.7858], \"mode\": \"lines\", \"line\": {\"width\": 1, \"color\": \"red\"}}, {\"type\": \"scattergeo\", \"locationmode\": \"USA-states\", \"lon\": [-73.9546, -73.9491], \"lat\": [40.7858, 40.7742], \"mode\": \"lines\", \"line\": {\"width\": 1, \"color\": \"red\"}}, {\"type\": \"scattergeo\", \"locationmode\": \"USA-states\", \"lon\": [-73.9491, -73.95], \"lat\": [40.7742, 40.7703], \"mode\": \"lines\", \"line\": {\"width\": 1, \"color\": \"red\"}}, {\"type\": \"scattergeo\", \"locationmode\": \"USA-states\", \"lon\": [-73.95, -73.9997], \"lat\": [40.7703, 40.7614], \"mode\": \"lines\", \"line\": {\"width\": 1, \"color\": \"red\"}}, {\"type\": \"scattergeo\", \"locationmode\": \"USA-states\", \"lon\": [-73.9997, -73.9749], \"lat\": [40.7614, 40.793], \"mode\": \"lines\", \"line\": {\"width\": 1, \"color\": \"red\"}}, {\"type\": \"scattergeo\", \"locationmode\": \"USA-states\", \"lon\": [-73.9749, -73.9442], \"lat\": [40.793, 40.7231], \"mode\": \"lines\", \"line\": {\"width\": 1, \"color\": \"red\"}}, {\"type\": \"scattergeo\", \"locationmode\": \"USA-states\", \"lon\": [-73.9442, -73.9545], \"lat\": [40.7231, 40.7874], \"mode\": \"lines\", \"line\": {\"width\": 1, \"color\": \"red\"}}, {\"type\": \"scattergeo\", \"locationmode\": \"USA-states\", \"lon\": [-73.9545, -73.9812], \"lat\": [40.7874, 40.7689], \"mode\": \"lines\", \"line\": {\"width\": 1, \"color\": \"red\"}}, {\"type\": \"scattergeo\", \"locationmode\": \"USA-states\", \"lon\": [-73.9812, -73.9557], \"lat\": [40.7689, 40.7789], \"mode\": \"lines\", \"line\": {\"width\": 1, \"color\": \"red\"}}, {\"type\": \"scattergeo\", \"locationmode\": \"USA-states\", \"lon\": [-73.9557, -74.0054], \"lat\": [40.7789, 40.7271], \"mode\": \"lines\", \"line\": {\"width\": 1, \"color\": \"red\"}}, {\"type\": \"scattergeo\", \"locationmode\": \"USA-states\", \"lon\": [-74.0054, -73.973], \"lat\": [40.7271, 40.7877], \"mode\": \"lines\", \"line\": {\"width\": 1, \"color\": \"red\"}}, {\"type\": \"scattergeo\", \"locationmode\": \"USA-states\", \"lon\": [-73.973, -74.0092], \"lat\": [40.7877, 40.7255], \"mode\": \"lines\", \"line\": {\"width\": 1, \"color\": \"red\"}}, {\"type\": \"scattergeo\", \"locationmode\": \"USA-states\", \"lon\": [-74.0092, -73.9723], \"lat\": [40.7255, 40.7653], \"mode\": \"lines\", \"line\": {\"width\": 1, \"color\": \"red\"}}, {\"type\": \"scattergeo\", \"locationmode\": \"USA-states\", \"lon\": [-73.9723, -73.9769], \"lat\": [40.7653, 40.7644], \"mode\": \"lines\", \"line\": {\"width\": 1, \"color\": \"red\"}}, {\"type\": \"scattergeo\", \"locationmode\": \"USA-states\", \"lon\": [-73.9769, -73.9532], \"lat\": [40.7644, 40.7726], \"mode\": \"lines\", \"line\": {\"width\": 1, \"color\": \"red\"}}, {\"type\": \"scattergeo\", \"locationmode\": \"USA-states\", \"lon\": [-73.9532, -73.9661], \"lat\": [40.7726, 40.7898], \"mode\": \"lines\", \"line\": {\"width\": 1, \"color\": \"red\"}}, {\"type\": \"scattergeo\", \"locationmode\": \"USA-states\", \"lon\": [-73.9661, -73.9703], \"lat\": [40.7898, 40.7839], \"mode\": \"lines\", \"line\": {\"width\": 1, \"color\": \"red\"}}, {\"type\": \"scattergeo\", \"locationmode\": \"USA-states\", \"lon\": [-73.9703, -74.0016], \"lat\": [40.7839, 40.7236], \"mode\": \"lines\", \"line\": {\"width\": 1, \"color\": \"red\"}}, {\"type\": \"scattergeo\", \"locationmode\": \"USA-states\", \"lon\": [-74.0016, -73.9951], \"lat\": [40.7236, 40.699], \"mode\": \"lines\", \"line\": {\"width\": 1, \"color\": \"red\"}}], {\"title\": \"Feb. 2011 American Airline flight paths<br>(Hover for airport names)\", \"showlegend\": false, \"geo\": {\"scope\": \"north america\", \"projection\": {\"type\": \"azimuthal equal area\"}, \"showland\": true, \"landcolor\": \"rgb(243, 243, 243)\", \"countrycolor\": \"rgb(204, 204, 204)\"}}, {\"showLink\": true, \"linkText\": \"Export to plot.ly\"})});</script>"
      ]
     },
     "metadata": {},
     "output_type": "display_data"
    }
   ],
   "source": [
    "trip_paths = []\n",
    "for i in range(101):\n",
    "    trip_paths.append(\n",
    "        dict(\n",
    "            type = 'scattergeo',\n",
    "            locationmode = 'USA-states',\n",
    "            lon = [april_df['Lon'][i], april_df['Lon'][i+1] ],\n",
    "            lat = [ april_df['Lat'][i], april_df['Lat'][i+1] ],\n",
    "            mode = 'lines',\n",
    "            line = dict(\n",
    "                width = 1,\n",
    "                color = 'red',\n",
    "            ),\n",
    "            # opacity = float(trip_paths['Time'][i])/float(trip_paths['Time'].max()),\n",
    "        )\n",
    "    )\n",
    "    \n",
    "layout = dict(\n",
    "        title = 'Feb. 2011 American Airline flight paths<br>(Hover for airport names)',\n",
    "        showlegend = False, \n",
    "        geo = dict(\n",
    "            scope='north america',\n",
    "            projection=dict( type='azimuthal equal area' ),\n",
    "            showland = True,\n",
    "            landcolor = 'rgb(243, 243, 243)',\n",
    "            countrycolor = 'rgb(204, 204, 204)',\n",
    "        ),\n",
    "    )\n",
    "    \n",
    "fig = dict( data= trip_paths, layout=layout )\n",
    "iplot( fig, filename='april_trips' )\n",
    "# Copy to clipboard!\n",
    "\n",
    "## debug by setting for length to 100 or smth\n",
    "## boundary box\n",
    "## abstracting bases & time of day hours into functions\n",
    "## multiple loops to get it all in one graph\n"
   ]
  },
  {
   "cell_type": "code",
   "execution_count": null,
   "metadata": {
    "collapsed": true
   },
   "outputs": [],
   "source": []
  }
 ],
 "metadata": {
  "kernelspec": {
   "display_name": "Python 3",
   "language": "python",
   "name": "python3"
  },
  "language_info": {
   "codemirror_mode": {
    "name": "ipython",
    "version": 3
   },
   "file_extension": ".py",
   "mimetype": "text/x-python",
   "name": "python",
   "nbconvert_exporter": "python",
   "pygments_lexer": "ipython3",
   "version": "3.6.1"
  }
 },
 "nbformat": 4,
 "nbformat_minor": 2
}
